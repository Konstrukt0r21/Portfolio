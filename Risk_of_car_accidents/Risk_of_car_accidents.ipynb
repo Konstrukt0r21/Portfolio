{
 "cells": [
  {
   "cell_type": "markdown",
   "id": "4126d671",
   "metadata": {},
   "source": [
    "**Описание проекта**\n",
    "\n",
    "Поступил заказ из каршеринговой компании: нужно создать систему, которая могла бы оценить риск ДТП по выбранному маршруту движения. Под риском понимается вероятность ДТП с любым повреждением транспортного средства, кроме царапин. Как только водитель забронировал автомобиль, сел за руль и выбрал маршрут, система должна оценить уровень риска. Если уровень риска высок, водитель увидит предупреждение и рекомендации по маршруту.\n"
   ]
  },
  {
   "cell_type": "markdown",
   "id": "dad09fe0",
   "metadata": {},
   "source": [
    "**Краткое описание таблиц с данными**\n",
    "- collisions — общая информация о ДТП\n",
    "Имеет уникальный case_id. Эта таблица описывает общую информацию о ДТП. Например, где оно произошло и когда.\n",
    "\n",
    "- parties — информация об участниках ДТП\n",
    "Имеет неуникальный case_id, который сопоставляется с соответствующим ДТП в таблице collisions. Каждая строка здесь описывает одну из сторон, участвующих в ДТП. Если столкнулись две машины, в этой таблице должно быть две строки с совпадением case_id. Если нужен уникальный идентификатор, это case_id and party_number.\n",
    "\n",
    "- vehicles — информация о пострадавших машинах\n",
    "Имеет неуникальные case_id и неуникальные party_number, которые сопоставляются с таблицей collisions и таблицей parties. Если нужен уникальный идентификатор, это case_id and party_number."
   ]
  },
  {
   "cell_type": "markdown",
   "id": "1a5be860",
   "metadata": {},
   "source": [
    "## Подключитесь к базе. Загрузите таблицы sql"
   ]
  },
  {
   "cell_type": "code",
   "execution_count": 1,
   "id": "f1fe6806",
   "metadata": {},
   "outputs": [],
   "source": [
    "import pandas as pd\n",
    "import numpy as np\n",
    "import matplotlib.pyplot as plt\n",
    "from sqlalchemy import create_engine \n",
    "import seaborn as sns\n",
    "from sklearn.preprocessing import StandardScaler\n",
    "from sklearn.model_selection import train_test_split\n",
    "from sklearn.preprocessing import OneHotEncoder\n",
    "from sklearn.preprocessing import OrdinalEncoder\n",
    "from sklearn.metrics import f1_score\n",
    "from sklearn.tree import DecisionTreeClassifier\n",
    "from sklearn.ensemble import RandomForestClassifier\n",
    "from catboost import CatBoostClassifier\n",
    "import catboost\n",
    "from sklearn.metrics import confusion_matrix\n",
    "from sklearn.model_selection import GridSearchCV\n",
    "from sklearn.model_selection import cross_val_score\n",
    "from sklearn.model_selection import StratifiedKFold\n",
    "from catboost import Pool\n",
    "## Загружаем библиотеки"
   ]
  },
  {
   "cell_type": "markdown",
   "id": "d9db52a7",
   "metadata": {},
   "source": [
    "Конфигурация для подключения к базе данных."
   ]
  },
  {
   "cell_type": "code",
   "execution_count": 2,
   "id": "8c73d043",
   "metadata": {},
   "outputs": [],
   "source": [
    "db_config = {\n",
    "'user': 'praktikum_student', # имя пользователя,\n",
    "'pwd': 'Sdf4$2;d-d30pp', # пароль,\n",
    "'host': 'rc1b-wcoijxj3yxfsf3fs.mdb.yandexcloud.net',\n",
    "'port': 6432, # порт подключения,\n",
    "'db': 'data-science-vehicle-db' # название базы данных,\n",
    "}\n",
    "\n",
    "connection_string = 'postgresql://{}:{}@{}:{}/{}'.format(\n",
    "    db_config['user'],\n",
    "    db_config['pwd'],\n",
    "    db_config['host'],\n",
    "    db_config['port'],\n",
    "    db_config['db'],\n",
    ")"
   ]
  },
  {
   "cell_type": "markdown",
   "id": "6dffd027",
   "metadata": {},
   "source": [
    "Теперь создадим подключение."
   ]
  },
  {
   "cell_type": "code",
   "execution_count": 3,
   "id": "41973dd8",
   "metadata": {},
   "outputs": [],
   "source": [
    "engine = create_engine(connection_string) "
   ]
  },
  {
   "cell_type": "markdown",
   "id": "bd383ce9",
   "metadata": {},
   "source": [
    "Проверим наличие таблиц, через запрос к базе данных."
   ]
  },
  {
   "cell_type": "code",
   "execution_count": 4,
   "id": "61802885",
   "metadata": {},
   "outputs": [
    {
     "data": {
      "text/html": [
       "<div>\n",
       "<style scoped>\n",
       "    .dataframe tbody tr th:only-of-type {\n",
       "        vertical-align: middle;\n",
       "    }\n",
       "\n",
       "    .dataframe tbody tr th {\n",
       "        vertical-align: top;\n",
       "    }\n",
       "\n",
       "    .dataframe thead th {\n",
       "        text-align: right;\n",
       "    }\n",
       "</style>\n",
       "<table border=\"1\" class=\"dataframe\">\n",
       "  <thead>\n",
       "    <tr style=\"text-align: right;\">\n",
       "      <th></th>\n",
       "      <th>table_name</th>\n",
       "    </tr>\n",
       "  </thead>\n",
       "  <tbody>\n",
       "    <tr>\n",
       "      <th>0</th>\n",
       "      <td>case_ids</td>\n",
       "    </tr>\n",
       "    <tr>\n",
       "      <th>1</th>\n",
       "      <td>collisions</td>\n",
       "    </tr>\n",
       "    <tr>\n",
       "      <th>2</th>\n",
       "      <td>parties</td>\n",
       "    </tr>\n",
       "    <tr>\n",
       "      <th>3</th>\n",
       "      <td>vehicles</td>\n",
       "    </tr>\n",
       "  </tbody>\n",
       "</table>\n",
       "</div>"
      ],
      "text/plain": [
       "   table_name\n",
       "0    case_ids\n",
       "1  collisions\n",
       "2     parties\n",
       "3    vehicles"
      ]
     },
     "execution_count": 4,
     "metadata": {},
     "output_type": "execute_result"
    }
   ],
   "source": [
    "query = '''\n",
    "SELECT table_name\n",
    "FROM information_schema.tables\n",
    "WHERE table_schema='public';\n",
    "'''\n",
    "df_tables = pd.read_sql_query(query, con=engine) \n",
    "\n",
    "df_tables"
   ]
  },
  {
   "cell_type": "markdown",
   "id": "d6c34645",
   "metadata": {},
   "source": [
    "**Вывод** \n",
    "\n",
    "\n",
    "Подключение создано. Убедились в наличие таблиц представленных в описании и на ER диаграмме. "
   ]
  },
  {
   "cell_type": "markdown",
   "id": "2f12a53e",
   "metadata": {},
   "source": [
    "## Проведите первичное исследование таблиц"
   ]
  },
  {
   "cell_type": "markdown",
   "id": "cb63b856",
   "metadata": {},
   "source": [
    "Загрузим поочерёдно имеющиеся у нас таблицы."
   ]
  },
  {
   "cell_type": "code",
   "execution_count": 5,
   "id": "c257d5c3",
   "metadata": {},
   "outputs": [],
   "source": [
    "query = '''\n",
    "SELECT *\n",
    "FROM case_ids\n",
    "LIMIT 5;\n",
    "'''\n",
    "\n",
    "df_case_ids = pd.read_sql_query(query, con=engine) "
   ]
  },
  {
   "cell_type": "code",
   "execution_count": 6,
   "id": "d783e25f",
   "metadata": {},
   "outputs": [
    {
     "data": {
      "text/html": [
       "<div>\n",
       "<style scoped>\n",
       "    .dataframe tbody tr th:only-of-type {\n",
       "        vertical-align: middle;\n",
       "    }\n",
       "\n",
       "    .dataframe tbody tr th {\n",
       "        vertical-align: top;\n",
       "    }\n",
       "\n",
       "    .dataframe thead th {\n",
       "        text-align: right;\n",
       "    }\n",
       "</style>\n",
       "<table border=\"1\" class=\"dataframe\">\n",
       "  <thead>\n",
       "    <tr style=\"text-align: right;\">\n",
       "      <th></th>\n",
       "      <th>case_id</th>\n",
       "      <th>db_year</th>\n",
       "    </tr>\n",
       "  </thead>\n",
       "  <tbody>\n",
       "    <tr>\n",
       "      <th>0</th>\n",
       "      <td>0081715</td>\n",
       "      <td>2021</td>\n",
       "    </tr>\n",
       "    <tr>\n",
       "      <th>1</th>\n",
       "      <td>0726202</td>\n",
       "      <td>2021</td>\n",
       "    </tr>\n",
       "    <tr>\n",
       "      <th>2</th>\n",
       "      <td>3858022</td>\n",
       "      <td>2021</td>\n",
       "    </tr>\n",
       "    <tr>\n",
       "      <th>3</th>\n",
       "      <td>3899441</td>\n",
       "      <td>2021</td>\n",
       "    </tr>\n",
       "    <tr>\n",
       "      <th>4</th>\n",
       "      <td>3899442</td>\n",
       "      <td>2021</td>\n",
       "    </tr>\n",
       "  </tbody>\n",
       "</table>\n",
       "</div>"
      ],
      "text/plain": [
       "   case_id db_year\n",
       "0  0081715    2021\n",
       "1  0726202    2021\n",
       "2  3858022    2021\n",
       "3  3899441    2021\n",
       "4  3899442    2021"
      ]
     },
     "execution_count": 6,
     "metadata": {},
     "output_type": "execute_result"
    }
   ],
   "source": [
    "df_case_ids.head(5)"
   ]
  },
  {
   "cell_type": "markdown",
   "id": "6f0da687",
   "metadata": {},
   "source": [
    "Загрузили таблицу \"case_ids\". Здесь мы видим уникальный номер зарегистрированного происшествия и год, когда оно зарегистрировано."
   ]
  },
  {
   "cell_type": "code",
   "execution_count": 7,
   "id": "72767167",
   "metadata": {},
   "outputs": [],
   "source": [
    "query = '''\n",
    "SELECT *\n",
    "FROM collisions\n",
    "LIMIT 5;\n",
    "'''\n",
    "\n",
    "df_collisions = pd.read_sql_query(query, con=engine)"
   ]
  },
  {
   "cell_type": "code",
   "execution_count": 8,
   "id": "31f111c2",
   "metadata": {},
   "outputs": [
    {
     "data": {
      "text/html": [
       "<div>\n",
       "<style scoped>\n",
       "    .dataframe tbody tr th:only-of-type {\n",
       "        vertical-align: middle;\n",
       "    }\n",
       "\n",
       "    .dataframe tbody tr th {\n",
       "        vertical-align: top;\n",
       "    }\n",
       "\n",
       "    .dataframe thead th {\n",
       "        text-align: right;\n",
       "    }\n",
       "</style>\n",
       "<table border=\"1\" class=\"dataframe\">\n",
       "  <thead>\n",
       "    <tr style=\"text-align: right;\">\n",
       "      <th></th>\n",
       "      <th>case_id</th>\n",
       "      <th>county_city_location</th>\n",
       "      <th>county_location</th>\n",
       "      <th>distance</th>\n",
       "      <th>direction</th>\n",
       "      <th>intersection</th>\n",
       "      <th>weather_1</th>\n",
       "      <th>location_type</th>\n",
       "      <th>collision_damage</th>\n",
       "      <th>party_count</th>\n",
       "      <th>primary_collision_factor</th>\n",
       "      <th>pcf_violation_category</th>\n",
       "      <th>type_of_collision</th>\n",
       "      <th>motor_vehicle_involved_with</th>\n",
       "      <th>road_surface</th>\n",
       "      <th>road_condition_1</th>\n",
       "      <th>lighting</th>\n",
       "      <th>control_device</th>\n",
       "      <th>collision_date</th>\n",
       "      <th>collision_time</th>\n",
       "    </tr>\n",
       "  </thead>\n",
       "  <tbody>\n",
       "    <tr>\n",
       "      <th>0</th>\n",
       "      <td>4083072</td>\n",
       "      <td>1942</td>\n",
       "      <td>los angeles</td>\n",
       "      <td>528.0</td>\n",
       "      <td>north</td>\n",
       "      <td>0</td>\n",
       "      <td>cloudy</td>\n",
       "      <td>highway</td>\n",
       "      <td>small damage</td>\n",
       "      <td>2</td>\n",
       "      <td>vehicle code violation</td>\n",
       "      <td>unsafe lane change</td>\n",
       "      <td>sideswipe</td>\n",
       "      <td>other motor vehicle</td>\n",
       "      <td>wet</td>\n",
       "      <td>normal</td>\n",
       "      <td>daylight</td>\n",
       "      <td>none</td>\n",
       "      <td>2009-01-22</td>\n",
       "      <td>07:25:00</td>\n",
       "    </tr>\n",
       "    <tr>\n",
       "      <th>1</th>\n",
       "      <td>4083075</td>\n",
       "      <td>4313</td>\n",
       "      <td>santa clara</td>\n",
       "      <td>0.0</td>\n",
       "      <td>None</td>\n",
       "      <td>1</td>\n",
       "      <td>clear</td>\n",
       "      <td>None</td>\n",
       "      <td>small damage</td>\n",
       "      <td>1</td>\n",
       "      <td>vehicle code violation</td>\n",
       "      <td>improper passing</td>\n",
       "      <td>hit object</td>\n",
       "      <td>fixed object</td>\n",
       "      <td>dry</td>\n",
       "      <td>normal</td>\n",
       "      <td>dark with street lights</td>\n",
       "      <td>functioning</td>\n",
       "      <td>2009-01-03</td>\n",
       "      <td>02:26:00</td>\n",
       "    </tr>\n",
       "    <tr>\n",
       "      <th>2</th>\n",
       "      <td>4083073</td>\n",
       "      <td>0109</td>\n",
       "      <td>alameda</td>\n",
       "      <td>0.0</td>\n",
       "      <td>None</td>\n",
       "      <td>1</td>\n",
       "      <td>clear</td>\n",
       "      <td>None</td>\n",
       "      <td>scratch</td>\n",
       "      <td>2</td>\n",
       "      <td>vehicle code violation</td>\n",
       "      <td>improper turning</td>\n",
       "      <td>broadside</td>\n",
       "      <td>other motor vehicle</td>\n",
       "      <td>dry</td>\n",
       "      <td>normal</td>\n",
       "      <td>dark with street lights</td>\n",
       "      <td>functioning</td>\n",
       "      <td>2009-01-11</td>\n",
       "      <td>03:32:00</td>\n",
       "    </tr>\n",
       "    <tr>\n",
       "      <th>3</th>\n",
       "      <td>4083077</td>\n",
       "      <td>0109</td>\n",
       "      <td>alameda</td>\n",
       "      <td>0.0</td>\n",
       "      <td>None</td>\n",
       "      <td>1</td>\n",
       "      <td>clear</td>\n",
       "      <td>None</td>\n",
       "      <td>scratch</td>\n",
       "      <td>2</td>\n",
       "      <td>vehicle code violation</td>\n",
       "      <td>automobile right of way</td>\n",
       "      <td>broadside</td>\n",
       "      <td>other motor vehicle</td>\n",
       "      <td>dry</td>\n",
       "      <td>normal</td>\n",
       "      <td>daylight</td>\n",
       "      <td>functioning</td>\n",
       "      <td>2009-01-11</td>\n",
       "      <td>10:35:00</td>\n",
       "    </tr>\n",
       "    <tr>\n",
       "      <th>4</th>\n",
       "      <td>4083087</td>\n",
       "      <td>4313</td>\n",
       "      <td>santa clara</td>\n",
       "      <td>0.0</td>\n",
       "      <td>None</td>\n",
       "      <td>1</td>\n",
       "      <td>clear</td>\n",
       "      <td>None</td>\n",
       "      <td>scratch</td>\n",
       "      <td>2</td>\n",
       "      <td>vehicle code violation</td>\n",
       "      <td>speeding</td>\n",
       "      <td>rear end</td>\n",
       "      <td>other motor vehicle</td>\n",
       "      <td>dry</td>\n",
       "      <td>None</td>\n",
       "      <td>dark with street lights</td>\n",
       "      <td>functioning</td>\n",
       "      <td>2009-01-02</td>\n",
       "      <td>22:43:00</td>\n",
       "    </tr>\n",
       "  </tbody>\n",
       "</table>\n",
       "</div>"
      ],
      "text/plain": [
       "   case_id county_city_location county_location  distance direction  \\\n",
       "0  4083072                 1942     los angeles     528.0     north   \n",
       "1  4083075                 4313     santa clara       0.0      None   \n",
       "2  4083073                 0109         alameda       0.0      None   \n",
       "3  4083077                 0109         alameda       0.0      None   \n",
       "4  4083087                 4313     santa clara       0.0      None   \n",
       "\n",
       "   intersection weather_1 location_type collision_damage  party_count  \\\n",
       "0             0    cloudy       highway     small damage            2   \n",
       "1             1     clear          None     small damage            1   \n",
       "2             1     clear          None          scratch            2   \n",
       "3             1     clear          None          scratch            2   \n",
       "4             1     clear          None          scratch            2   \n",
       "\n",
       "  primary_collision_factor   pcf_violation_category type_of_collision  \\\n",
       "0   vehicle code violation       unsafe lane change         sideswipe   \n",
       "1   vehicle code violation         improper passing        hit object   \n",
       "2   vehicle code violation         improper turning         broadside   \n",
       "3   vehicle code violation  automobile right of way         broadside   \n",
       "4   vehicle code violation                 speeding          rear end   \n",
       "\n",
       "  motor_vehicle_involved_with road_surface road_condition_1  \\\n",
       "0         other motor vehicle          wet           normal   \n",
       "1                fixed object          dry           normal   \n",
       "2         other motor vehicle          dry           normal   \n",
       "3         other motor vehicle          dry           normal   \n",
       "4         other motor vehicle          dry             None   \n",
       "\n",
       "                  lighting control_device collision_date collision_time  \n",
       "0                 daylight           none     2009-01-22       07:25:00  \n",
       "1  dark with street lights    functioning     2009-01-03       02:26:00  \n",
       "2  dark with street lights    functioning     2009-01-11       03:32:00  \n",
       "3                 daylight    functioning     2009-01-11       10:35:00  \n",
       "4  dark with street lights    functioning     2009-01-02       22:43:00  "
      ]
     },
     "execution_count": 8,
     "metadata": {},
     "output_type": "execute_result"
    }
   ],
   "source": [
    "df_collisions.head(5)"
   ]
  },
  {
   "cell_type": "markdown",
   "id": "069613cb",
   "metadata": {},
   "source": [
    "Загрузили таблицу \"collisions\". В этой таблице представлены данные о происшествии."
   ]
  },
  {
   "cell_type": "code",
   "execution_count": 9,
   "id": "bb8b2033",
   "metadata": {},
   "outputs": [],
   "source": [
    "query = '''\n",
    "SELECT *\n",
    "FROM parties\n",
    "LIMIT 5;\n",
    "'''\n",
    "\n",
    "df_parties = pd.read_sql_query(query, con=engine)"
   ]
  },
  {
   "cell_type": "code",
   "execution_count": 10,
   "id": "1f3ccd94",
   "metadata": {},
   "outputs": [
    {
     "data": {
      "text/html": [
       "<div>\n",
       "<style scoped>\n",
       "    .dataframe tbody tr th:only-of-type {\n",
       "        vertical-align: middle;\n",
       "    }\n",
       "\n",
       "    .dataframe tbody tr th {\n",
       "        vertical-align: top;\n",
       "    }\n",
       "\n",
       "    .dataframe thead th {\n",
       "        text-align: right;\n",
       "    }\n",
       "</style>\n",
       "<table border=\"1\" class=\"dataframe\">\n",
       "  <thead>\n",
       "    <tr style=\"text-align: right;\">\n",
       "      <th></th>\n",
       "      <th>id</th>\n",
       "      <th>case_id</th>\n",
       "      <th>party_number</th>\n",
       "      <th>party_type</th>\n",
       "      <th>at_fault</th>\n",
       "      <th>insurance_premium</th>\n",
       "      <th>party_sobriety</th>\n",
       "      <th>party_drug_physical</th>\n",
       "      <th>cellphone_in_use</th>\n",
       "    </tr>\n",
       "  </thead>\n",
       "  <tbody>\n",
       "    <tr>\n",
       "      <th>0</th>\n",
       "      <td>22</td>\n",
       "      <td>3899454</td>\n",
       "      <td>1</td>\n",
       "      <td>road signs</td>\n",
       "      <td>1</td>\n",
       "      <td>29.0</td>\n",
       "      <td>had not been drinking</td>\n",
       "      <td>None</td>\n",
       "      <td>0</td>\n",
       "    </tr>\n",
       "    <tr>\n",
       "      <th>1</th>\n",
       "      <td>23</td>\n",
       "      <td>3899454</td>\n",
       "      <td>2</td>\n",
       "      <td>road signs</td>\n",
       "      <td>0</td>\n",
       "      <td>7.0</td>\n",
       "      <td>had not been drinking</td>\n",
       "      <td>None</td>\n",
       "      <td>0</td>\n",
       "    </tr>\n",
       "    <tr>\n",
       "      <th>2</th>\n",
       "      <td>29</td>\n",
       "      <td>3899462</td>\n",
       "      <td>2</td>\n",
       "      <td>car</td>\n",
       "      <td>0</td>\n",
       "      <td>21.0</td>\n",
       "      <td>had not been drinking</td>\n",
       "      <td>None</td>\n",
       "      <td>0</td>\n",
       "    </tr>\n",
       "    <tr>\n",
       "      <th>3</th>\n",
       "      <td>31</td>\n",
       "      <td>3899465</td>\n",
       "      <td>2</td>\n",
       "      <td>road signs</td>\n",
       "      <td>0</td>\n",
       "      <td>24.0</td>\n",
       "      <td>had not been drinking</td>\n",
       "      <td>None</td>\n",
       "      <td>0</td>\n",
       "    </tr>\n",
       "    <tr>\n",
       "      <th>4</th>\n",
       "      <td>41</td>\n",
       "      <td>3899478</td>\n",
       "      <td>2</td>\n",
       "      <td>road bumper</td>\n",
       "      <td>0</td>\n",
       "      <td>NaN</td>\n",
       "      <td>not applicable</td>\n",
       "      <td>not applicable</td>\n",
       "      <td>0</td>\n",
       "    </tr>\n",
       "  </tbody>\n",
       "</table>\n",
       "</div>"
      ],
      "text/plain": [
       "   id  case_id  party_number   party_type  at_fault  insurance_premium  \\\n",
       "0  22  3899454             1   road signs         1               29.0   \n",
       "1  23  3899454             2   road signs         0                7.0   \n",
       "2  29  3899462             2          car         0               21.0   \n",
       "3  31  3899465             2   road signs         0               24.0   \n",
       "4  41  3899478             2  road bumper         0                NaN   \n",
       "\n",
       "          party_sobriety party_drug_physical  cellphone_in_use  \n",
       "0  had not been drinking                None                 0  \n",
       "1  had not been drinking                None                 0  \n",
       "2  had not been drinking                None                 0  \n",
       "3  had not been drinking                None                 0  \n",
       "4         not applicable      not applicable                 0  "
      ]
     },
     "execution_count": 10,
     "metadata": {},
     "output_type": "execute_result"
    }
   ],
   "source": [
    "df_parties.head(5)"
   ]
  },
  {
   "cell_type": "markdown",
   "id": "d2d0a370",
   "metadata": {},
   "source": [
    "Таблица \"parties\" предоставляет нам данные об участниках происшествия."
   ]
  },
  {
   "cell_type": "code",
   "execution_count": 11,
   "id": "33e6d2c9",
   "metadata": {},
   "outputs": [],
   "source": [
    "query = '''\n",
    "SELECT *\n",
    "FROM vehicles\n",
    "LIMIT 5;\n",
    "'''\n",
    "\n",
    "df_vehicles = pd.read_sql_query(query, con=engine)"
   ]
  },
  {
   "cell_type": "code",
   "execution_count": 12,
   "id": "63000ee0",
   "metadata": {},
   "outputs": [
    {
     "data": {
      "text/html": [
       "<div>\n",
       "<style scoped>\n",
       "    .dataframe tbody tr th:only-of-type {\n",
       "        vertical-align: middle;\n",
       "    }\n",
       "\n",
       "    .dataframe tbody tr th {\n",
       "        vertical-align: top;\n",
       "    }\n",
       "\n",
       "    .dataframe thead th {\n",
       "        text-align: right;\n",
       "    }\n",
       "</style>\n",
       "<table border=\"1\" class=\"dataframe\">\n",
       "  <thead>\n",
       "    <tr style=\"text-align: right;\">\n",
       "      <th></th>\n",
       "      <th>id</th>\n",
       "      <th>case_id</th>\n",
       "      <th>party_number</th>\n",
       "      <th>vehicle_type</th>\n",
       "      <th>vehicle_transmission</th>\n",
       "      <th>vehicle_age</th>\n",
       "    </tr>\n",
       "  </thead>\n",
       "  <tbody>\n",
       "    <tr>\n",
       "      <th>0</th>\n",
       "      <td>1175713</td>\n",
       "      <td>5305032</td>\n",
       "      <td>2</td>\n",
       "      <td>sedan</td>\n",
       "      <td>manual</td>\n",
       "      <td>3</td>\n",
       "    </tr>\n",
       "    <tr>\n",
       "      <th>1</th>\n",
       "      <td>1</td>\n",
       "      <td>3858022</td>\n",
       "      <td>1</td>\n",
       "      <td>sedan</td>\n",
       "      <td>auto</td>\n",
       "      <td>3</td>\n",
       "    </tr>\n",
       "    <tr>\n",
       "      <th>2</th>\n",
       "      <td>1175712</td>\n",
       "      <td>5305030</td>\n",
       "      <td>1</td>\n",
       "      <td>sedan</td>\n",
       "      <td>auto</td>\n",
       "      <td>3</td>\n",
       "    </tr>\n",
       "    <tr>\n",
       "      <th>3</th>\n",
       "      <td>1175717</td>\n",
       "      <td>5305033</td>\n",
       "      <td>3</td>\n",
       "      <td>sedan</td>\n",
       "      <td>auto</td>\n",
       "      <td>5</td>\n",
       "    </tr>\n",
       "    <tr>\n",
       "      <th>4</th>\n",
       "      <td>1175722</td>\n",
       "      <td>5305034</td>\n",
       "      <td>2</td>\n",
       "      <td>sedan</td>\n",
       "      <td>auto</td>\n",
       "      <td>5</td>\n",
       "    </tr>\n",
       "  </tbody>\n",
       "</table>\n",
       "</div>"
      ],
      "text/plain": [
       "        id  case_id  party_number vehicle_type vehicle_transmission  \\\n",
       "0  1175713  5305032             2        sedan               manual   \n",
       "1        1  3858022             1        sedan                 auto   \n",
       "2  1175712  5305030             1        sedan                 auto   \n",
       "3  1175717  5305033             3        sedan                 auto   \n",
       "4  1175722  5305034             2        sedan                 auto   \n",
       "\n",
       "   vehicle_age  \n",
       "0            3  \n",
       "1            3  \n",
       "2            3  \n",
       "3            5  \n",
       "4            5  "
      ]
     },
     "execution_count": 12,
     "metadata": {},
     "output_type": "execute_result"
    }
   ],
   "source": [
    "df_vehicles.head(5)"
   ]
  },
  {
   "cell_type": "markdown",
   "id": "8dd09fa8",
   "metadata": {},
   "source": [
    "В таблице \"vehicles\" представлены данные об автомобиле."
   ]
  },
  {
   "cell_type": "markdown",
   "id": "a0cfb645",
   "metadata": {},
   "source": [
    "### Выводы"
   ]
  },
  {
   "cell_type": "markdown",
   "id": "6c5043f2",
   "metadata": {},
   "source": [
    "- Все таблицы с данными загрузились корректно. \n",
    "- Таблица \"case_ids\" не соответствует ER - диаграмме, остальные таблицы этой диаграмме соотвествуют.\n",
    "- Отсутствует описание данных некоторых столбцов.\n",
    "- Внешним ключом является столбец \"case_id\" (id происшествия).\n",
    "\n",
    "В целом данные загружены и могут быть использованы для дальнейшего анализа."
   ]
  },
  {
   "cell_type": "markdown",
   "id": "c2e69d4f",
   "metadata": {},
   "source": [
    "##  Проведите статистический анализ факторов ДТП"
   ]
  },
  {
   "cell_type": "markdown",
   "id": "3c5991a5",
   "metadata": {},
   "source": [
    "###  Cоздание аналитических задач для рабочей группа"
   ]
  },
  {
   "cell_type": "markdown",
   "id": "f6f9d3ab",
   "metadata": {},
   "source": [
    "#### Проанализировать в какие месяцы происходило больше всего аварий"
   ]
  },
  {
   "cell_type": "markdown",
   "id": "197d2a65",
   "metadata": {},
   "source": [
    "**Описание задачи**\n",
    "\n",
    "Провести анализ количества ДТП в каждый из месяцев, результат представить в виде таблицы и диаграммы."
   ]
  },
  {
   "cell_type": "markdown",
   "id": "c079fbc6",
   "metadata": {},
   "source": [
    "**Порядок выполнения**\n",
    "\n",
    "В таблице \"collisions\" сгруппировать данные по месяцам и подсчитать количество происшествий, отсортировать количество происшествий по убыванию. Вывесть таблицу и гистограмму."
   ]
  },
  {
   "cell_type": "code",
   "execution_count": 13,
   "id": "181dadf0",
   "metadata": {},
   "outputs": [],
   "source": [
    "query = '''\n",
    "SELECT COUNT(case_id) as count_case,\n",
    "       to_char(collision_date, 'Month') as month \n",
    "       \n",
    "FROM collisions\n",
    "GROUP BY month\n",
    "ORDER BY count_case desc;\n",
    "'''\n",
    "\n",
    "df_mounth = pd.read_sql_query(query, con=engine)"
   ]
  },
  {
   "cell_type": "code",
   "execution_count": 14,
   "id": "c55f568f",
   "metadata": {},
   "outputs": [
    {
     "data": {
      "text/html": [
       "<div>\n",
       "<style scoped>\n",
       "    .dataframe tbody tr th:only-of-type {\n",
       "        vertical-align: middle;\n",
       "    }\n",
       "\n",
       "    .dataframe tbody tr th {\n",
       "        vertical-align: top;\n",
       "    }\n",
       "\n",
       "    .dataframe thead th {\n",
       "        text-align: right;\n",
       "    }\n",
       "</style>\n",
       "<table border=\"1\" class=\"dataframe\">\n",
       "  <thead>\n",
       "    <tr style=\"text-align: right;\">\n",
       "      <th></th>\n",
       "      <th>count_case</th>\n",
       "      <th>month</th>\n",
       "    </tr>\n",
       "  </thead>\n",
       "  <tbody>\n",
       "    <tr>\n",
       "      <th>0</th>\n",
       "      <td>139581</td>\n",
       "      <td>March</td>\n",
       "    </tr>\n",
       "    <tr>\n",
       "      <th>1</th>\n",
       "      <td>132044</td>\n",
       "      <td>January</td>\n",
       "    </tr>\n",
       "    <tr>\n",
       "      <th>2</th>\n",
       "      <td>130316</td>\n",
       "      <td>May</td>\n",
       "    </tr>\n",
       "    <tr>\n",
       "      <th>3</th>\n",
       "      <td>130180</td>\n",
       "      <td>April</td>\n",
       "    </tr>\n",
       "    <tr>\n",
       "      <th>4</th>\n",
       "      <td>128858</td>\n",
       "      <td>February</td>\n",
       "    </tr>\n",
       "    <tr>\n",
       "      <th>5</th>\n",
       "      <td>112237</td>\n",
       "      <td>October</td>\n",
       "    </tr>\n",
       "    <tr>\n",
       "      <th>6</th>\n",
       "      <td>107945</td>\n",
       "      <td>December</td>\n",
       "    </tr>\n",
       "    <tr>\n",
       "      <th>7</th>\n",
       "      <td>105159</td>\n",
       "      <td>September</td>\n",
       "    </tr>\n",
       "    <tr>\n",
       "      <th>8</th>\n",
       "      <td>104770</td>\n",
       "      <td>November</td>\n",
       "    </tr>\n",
       "    <tr>\n",
       "      <th>9</th>\n",
       "      <td>104089</td>\n",
       "      <td>August</td>\n",
       "    </tr>\n",
       "    <tr>\n",
       "      <th>10</th>\n",
       "      <td>102594</td>\n",
       "      <td>June</td>\n",
       "    </tr>\n",
       "    <tr>\n",
       "      <th>11</th>\n",
       "      <td>102227</td>\n",
       "      <td>July</td>\n",
       "    </tr>\n",
       "  </tbody>\n",
       "</table>\n",
       "</div>"
      ],
      "text/plain": [
       "    count_case      month\n",
       "0       139581  March    \n",
       "1       132044  January  \n",
       "2       130316  May      \n",
       "3       130180  April    \n",
       "4       128858  February \n",
       "5       112237  October  \n",
       "6       107945  December \n",
       "7       105159  September\n",
       "8       104770  November \n",
       "9       104089  August   \n",
       "10      102594  June     \n",
       "11      102227  July     "
      ]
     },
     "execution_count": 14,
     "metadata": {},
     "output_type": "execute_result"
    }
   ],
   "source": [
    "df_mounth"
   ]
  },
  {
   "cell_type": "code",
   "execution_count": 15,
   "id": "0ceea5fa",
   "metadata": {},
   "outputs": [
    {
     "data": {
      "image/png": "[encoded data removed]",
      "text/plain": [
       "<Figure size 432x288 with 1 Axes>"
      ]
     },
     "metadata": {
      "needs_background": "light"
     },
     "output_type": "display_data"
    },
    {
     "data": {
      "text/plain": [
       "<Figure size 1080x576 with 0 Axes>"
      ]
     },
     "metadata": {},
     "output_type": "display_data"
    }
   ],
   "source": [
    "sns.barplot(data = df_mounth, x='month', y='count_case')\n",
    "plt.title('Количество аварий в месяц')\n",
    "plt.xticks(rotation=50)\n",
    "plt.xlabel('Месяцы')\n",
    "plt.ylabel('Количество аварий')\n",
    "plt.figure(figsize=(15, 8))\n",
    "plt.show()"
   ]
  },
  {
   "cell_type": "markdown",
   "id": "21449d4a",
   "metadata": {},
   "source": [
    "**Количество ДТП с распределением по месяцам для каждого отдельного года.**"
   ]
  },
  {
   "cell_type": "code",
   "execution_count": 16,
   "id": "33e044a9",
   "metadata": {},
   "outputs": [],
   "source": [
    "query = '''\n",
    "SELECT COUNT(case_id) as count_case,\n",
    "       EXTRACT(YEAR FROM collision_date) as year,\n",
    "       to_char(collision_date, 'Month') as month\n",
    "FROM collisions\n",
    "GROUP BY month, year\n",
    "ORDER BY year, count_case desc;\n",
    "   \n",
    "'''\n",
    "\n",
    "df_mounths_by_year = pd.read_sql_query(query, con=engine)"
   ]
  },
  {
   "cell_type": "code",
   "execution_count": 17,
   "id": "949d2ec0",
   "metadata": {},
   "outputs": [
    {
     "data": {
      "text/html": [
       "<div>\n",
       "<style scoped>\n",
       "    .dataframe tbody tr th:only-of-type {\n",
       "        vertical-align: middle;\n",
       "    }\n",
       "\n",
       "    .dataframe tbody tr th {\n",
       "        vertical-align: top;\n",
       "    }\n",
       "\n",
       "    .dataframe thead th {\n",
       "        text-align: right;\n",
       "    }\n",
       "</style>\n",
       "<table border=\"1\" class=\"dataframe\">\n",
       "  <thead>\n",
       "    <tr style=\"text-align: right;\">\n",
       "      <th></th>\n",
       "      <th>count_case</th>\n",
       "      <th>year</th>\n",
       "      <th>month</th>\n",
       "    </tr>\n",
       "  </thead>\n",
       "  <tbody>\n",
       "    <tr>\n",
       "      <th>0</th>\n",
       "      <td>37835</td>\n",
       "      <td>2009.0</td>\n",
       "      <td>October</td>\n",
       "    </tr>\n",
       "    <tr>\n",
       "      <th>1</th>\n",
       "      <td>36916</td>\n",
       "      <td>2009.0</td>\n",
       "      <td>May</td>\n",
       "    </tr>\n",
       "    <tr>\n",
       "      <th>2</th>\n",
       "      <td>36648</td>\n",
       "      <td>2009.0</td>\n",
       "      <td>March</td>\n",
       "    </tr>\n",
       "    <tr>\n",
       "      <th>3</th>\n",
       "      <td>36060</td>\n",
       "      <td>2009.0</td>\n",
       "      <td>December</td>\n",
       "    </tr>\n",
       "    <tr>\n",
       "      <th>4</th>\n",
       "      <td>35555</td>\n",
       "      <td>2009.0</td>\n",
       "      <td>September</td>\n",
       "    </tr>\n",
       "    <tr>\n",
       "      <th>5</th>\n",
       "      <td>35239</td>\n",
       "      <td>2009.0</td>\n",
       "      <td>April</td>\n",
       "    </tr>\n",
       "    <tr>\n",
       "      <th>6</th>\n",
       "      <td>35161</td>\n",
       "      <td>2009.0</td>\n",
       "      <td>July</td>\n",
       "    </tr>\n",
       "    <tr>\n",
       "      <th>7</th>\n",
       "      <td>35062</td>\n",
       "      <td>2009.0</td>\n",
       "      <td>January</td>\n",
       "    </tr>\n",
       "    <tr>\n",
       "      <th>8</th>\n",
       "      <td>34562</td>\n",
       "      <td>2009.0</td>\n",
       "      <td>November</td>\n",
       "    </tr>\n",
       "    <tr>\n",
       "      <th>9</th>\n",
       "      <td>34508</td>\n",
       "      <td>2009.0</td>\n",
       "      <td>August</td>\n",
       "    </tr>\n",
       "    <tr>\n",
       "      <th>10</th>\n",
       "      <td>34480</td>\n",
       "      <td>2009.0</td>\n",
       "      <td>February</td>\n",
       "    </tr>\n",
       "    <tr>\n",
       "      <th>11</th>\n",
       "      <td>34202</td>\n",
       "      <td>2009.0</td>\n",
       "      <td>June</td>\n",
       "    </tr>\n",
       "    <tr>\n",
       "      <th>12</th>\n",
       "      <td>37480</td>\n",
       "      <td>2010.0</td>\n",
       "      <td>October</td>\n",
       "    </tr>\n",
       "    <tr>\n",
       "      <th>13</th>\n",
       "      <td>37070</td>\n",
       "      <td>2010.0</td>\n",
       "      <td>December</td>\n",
       "    </tr>\n",
       "    <tr>\n",
       "      <th>14</th>\n",
       "      <td>35803</td>\n",
       "      <td>2010.0</td>\n",
       "      <td>March</td>\n",
       "    </tr>\n",
       "    <tr>\n",
       "      <th>15</th>\n",
       "      <td>35460</td>\n",
       "      <td>2010.0</td>\n",
       "      <td>November</td>\n",
       "    </tr>\n",
       "    <tr>\n",
       "      <th>16</th>\n",
       "      <td>34957</td>\n",
       "      <td>2010.0</td>\n",
       "      <td>September</td>\n",
       "    </tr>\n",
       "    <tr>\n",
       "      <th>17</th>\n",
       "      <td>34862</td>\n",
       "      <td>2010.0</td>\n",
       "      <td>May</td>\n",
       "    </tr>\n",
       "    <tr>\n",
       "      <th>18</th>\n",
       "      <td>34620</td>\n",
       "      <td>2010.0</td>\n",
       "      <td>August</td>\n",
       "    </tr>\n",
       "    <tr>\n",
       "      <th>19</th>\n",
       "      <td>34416</td>\n",
       "      <td>2010.0</td>\n",
       "      <td>April</td>\n",
       "    </tr>\n",
       "    <tr>\n",
       "      <th>20</th>\n",
       "      <td>33645</td>\n",
       "      <td>2010.0</td>\n",
       "      <td>July</td>\n",
       "    </tr>\n",
       "    <tr>\n",
       "      <th>21</th>\n",
       "      <td>33367</td>\n",
       "      <td>2010.0</td>\n",
       "      <td>June</td>\n",
       "    </tr>\n",
       "    <tr>\n",
       "      <th>22</th>\n",
       "      <td>32892</td>\n",
       "      <td>2010.0</td>\n",
       "      <td>January</td>\n",
       "    </tr>\n",
       "    <tr>\n",
       "      <th>23</th>\n",
       "      <td>31918</td>\n",
       "      <td>2010.0</td>\n",
       "      <td>February</td>\n",
       "    </tr>\n",
       "    <tr>\n",
       "      <th>24</th>\n",
       "      <td>36618</td>\n",
       "      <td>2011.0</td>\n",
       "      <td>October</td>\n",
       "    </tr>\n",
       "    <tr>\n",
       "      <th>25</th>\n",
       "      <td>34615</td>\n",
       "      <td>2011.0</td>\n",
       "      <td>December</td>\n",
       "    </tr>\n",
       "    <tr>\n",
       "      <th>26</th>\n",
       "      <td>34585</td>\n",
       "      <td>2011.0</td>\n",
       "      <td>March</td>\n",
       "    </tr>\n",
       "    <tr>\n",
       "      <th>27</th>\n",
       "      <td>34495</td>\n",
       "      <td>2011.0</td>\n",
       "      <td>November</td>\n",
       "    </tr>\n",
       "    <tr>\n",
       "      <th>28</th>\n",
       "      <td>34339</td>\n",
       "      <td>2011.0</td>\n",
       "      <td>August</td>\n",
       "    </tr>\n",
       "    <tr>\n",
       "      <th>29</th>\n",
       "      <td>34137</td>\n",
       "      <td>2011.0</td>\n",
       "      <td>September</td>\n",
       "    </tr>\n",
       "    <tr>\n",
       "      <th>30</th>\n",
       "      <td>33370</td>\n",
       "      <td>2011.0</td>\n",
       "      <td>May</td>\n",
       "    </tr>\n",
       "    <tr>\n",
       "      <th>31</th>\n",
       "      <td>33029</td>\n",
       "      <td>2011.0</td>\n",
       "      <td>July</td>\n",
       "    </tr>\n",
       "    <tr>\n",
       "      <th>32</th>\n",
       "      <td>31975</td>\n",
       "      <td>2011.0</td>\n",
       "      <td>February</td>\n",
       "    </tr>\n",
       "    <tr>\n",
       "      <th>33</th>\n",
       "      <td>31962</td>\n",
       "      <td>2011.0</td>\n",
       "      <td>June</td>\n",
       "    </tr>\n",
       "    <tr>\n",
       "      <th>34</th>\n",
       "      <td>31926</td>\n",
       "      <td>2011.0</td>\n",
       "      <td>January</td>\n",
       "    </tr>\n",
       "    <tr>\n",
       "      <th>35</th>\n",
       "      <td>31377</td>\n",
       "      <td>2011.0</td>\n",
       "      <td>April</td>\n",
       "    </tr>\n",
       "    <tr>\n",
       "      <th>36</th>\n",
       "      <td>32498</td>\n",
       "      <td>2012.0</td>\n",
       "      <td>March</td>\n",
       "    </tr>\n",
       "    <tr>\n",
       "      <th>37</th>\n",
       "      <td>32020</td>\n",
       "      <td>2012.0</td>\n",
       "      <td>January</td>\n",
       "    </tr>\n",
       "    <tr>\n",
       "      <th>38</th>\n",
       "      <td>30377</td>\n",
       "      <td>2012.0</td>\n",
       "      <td>February</td>\n",
       "    </tr>\n",
       "    <tr>\n",
       "      <th>39</th>\n",
       "      <td>29143</td>\n",
       "      <td>2012.0</td>\n",
       "      <td>April</td>\n",
       "    </tr>\n",
       "    <tr>\n",
       "      <th>40</th>\n",
       "      <td>25168</td>\n",
       "      <td>2012.0</td>\n",
       "      <td>May</td>\n",
       "    </tr>\n",
       "    <tr>\n",
       "      <th>41</th>\n",
       "      <td>3062</td>\n",
       "      <td>2012.0</td>\n",
       "      <td>June</td>\n",
       "    </tr>\n",
       "    <tr>\n",
       "      <th>42</th>\n",
       "      <td>622</td>\n",
       "      <td>2012.0</td>\n",
       "      <td>August</td>\n",
       "    </tr>\n",
       "    <tr>\n",
       "      <th>43</th>\n",
       "      <td>510</td>\n",
       "      <td>2012.0</td>\n",
       "      <td>September</td>\n",
       "    </tr>\n",
       "    <tr>\n",
       "      <th>44</th>\n",
       "      <td>390</td>\n",
       "      <td>2012.0</td>\n",
       "      <td>July</td>\n",
       "    </tr>\n",
       "    <tr>\n",
       "      <th>45</th>\n",
       "      <td>304</td>\n",
       "      <td>2012.0</td>\n",
       "      <td>October</td>\n",
       "    </tr>\n",
       "    <tr>\n",
       "      <th>46</th>\n",
       "      <td>253</td>\n",
       "      <td>2012.0</td>\n",
       "      <td>November</td>\n",
       "    </tr>\n",
       "    <tr>\n",
       "      <th>47</th>\n",
       "      <td>200</td>\n",
       "      <td>2012.0</td>\n",
       "      <td>December</td>\n",
       "    </tr>\n",
       "    <tr>\n",
       "      <th>48</th>\n",
       "      <td>144</td>\n",
       "      <td>2013.0</td>\n",
       "      <td>January</td>\n",
       "    </tr>\n",
       "    <tr>\n",
       "      <th>49</th>\n",
       "      <td>108</td>\n",
       "      <td>2013.0</td>\n",
       "      <td>February</td>\n",
       "    </tr>\n",
       "    <tr>\n",
       "      <th>50</th>\n",
       "      <td>46</td>\n",
       "      <td>2013.0</td>\n",
       "      <td>March</td>\n",
       "    </tr>\n",
       "    <tr>\n",
       "      <th>51</th>\n",
       "      <td>5</td>\n",
       "      <td>2013.0</td>\n",
       "      <td>April</td>\n",
       "    </tr>\n",
       "    <tr>\n",
       "      <th>52</th>\n",
       "      <td>1</td>\n",
       "      <td>2013.0</td>\n",
       "      <td>June</td>\n",
       "    </tr>\n",
       "    <tr>\n",
       "      <th>53</th>\n",
       "      <td>1</td>\n",
       "      <td>2013.0</td>\n",
       "      <td>July</td>\n",
       "    </tr>\n",
       "    <tr>\n",
       "      <th>54</th>\n",
       "      <td>1</td>\n",
       "      <td>2020.0</td>\n",
       "      <td>July</td>\n",
       "    </tr>\n",
       "    <tr>\n",
       "      <th>55</th>\n",
       "      <td>1</td>\n",
       "      <td>2020.0</td>\n",
       "      <td>March</td>\n",
       "    </tr>\n",
       "  </tbody>\n",
       "</table>\n",
       "</div>"
      ],
      "text/plain": [
       "    count_case    year      month\n",
       "0        37835  2009.0  October  \n",
       "1        36916  2009.0  May      \n",
       "2        36648  2009.0  March    \n",
       "3        36060  2009.0  December \n",
       "4        35555  2009.0  September\n",
       "5        35239  2009.0  April    \n",
       "6        35161  2009.0  July     \n",
       "7        35062  2009.0  January  \n",
       "8        34562  2009.0  November \n",
       "9        34508  2009.0  August   \n",
       "10       34480  2009.0  February \n",
       "11       34202  2009.0  June     \n",
       "12       37480  2010.0  October  \n",
       "13       37070  2010.0  December \n",
       "14       35803  2010.0  March    \n",
       "15       35460  2010.0  November \n",
       "16       34957  2010.0  September\n",
       "17       34862  2010.0  May      \n",
       "18       34620  2010.0  August   \n",
       "19       34416  2010.0  April    \n",
       "20       33645  2010.0  July     \n",
       "21       33367  2010.0  June     \n",
       "22       32892  2010.0  January  \n",
       "23       31918  2010.0  February \n",
       "24       36618  2011.0  October  \n",
       "25       34615  2011.0  December \n",
       "26       34585  2011.0  March    \n",
       "27       34495  2011.0  November \n",
       "28       34339  2011.0  August   \n",
       "29       34137  2011.0  September\n",
       "30       33370  2011.0  May      \n",
       "31       33029  2011.0  July     \n",
       "32       31975  2011.0  February \n",
       "33       31962  2011.0  June     \n",
       "34       31926  2011.0  January  \n",
       "35       31377  2011.0  April    \n",
       "36       32498  2012.0  March    \n",
       "37       32020  2012.0  January  \n",
       "38       30377  2012.0  February \n",
       "39       29143  2012.0  April    \n",
       "40       25168  2012.0  May      \n",
       "41        3062  2012.0  June     \n",
       "42         622  2012.0  August   \n",
       "43         510  2012.0  September\n",
       "44         390  2012.0  July     \n",
       "45         304  2012.0  October  \n",
       "46         253  2012.0  November \n",
       "47         200  2012.0  December \n",
       "48         144  2013.0  January  \n",
       "49         108  2013.0  February \n",
       "50          46  2013.0  March    \n",
       "51           5  2013.0  April    \n",
       "52           1  2013.0  June     \n",
       "53           1  2013.0  July     \n",
       "54           1  2020.0  July     \n",
       "55           1  2020.0  March    "
      ]
     },
     "execution_count": 17,
     "metadata": {},
     "output_type": "execute_result"
    }
   ],
   "source": [
    "df_mounths_by_year"
   ]
  },
  {
   "cell_type": "markdown",
   "id": "d0ea035f",
   "metadata": {},
   "source": [
    "Выведем отдельно статистику по 2012 году."
   ]
  },
  {
   "cell_type": "code",
   "execution_count": 18,
   "id": "172992f4",
   "metadata": {},
   "outputs": [],
   "source": [
    "query = '''\n",
    "SELECT COUNT(case_id) as count_case,\n",
    "       to_char(collision_date, 'Month') as month\n",
    "FROM collisions\n",
    "\n",
    "GROUP BY month, EXTRACT(YEAR FROM collision_date)\n",
    "\n",
    "HAVING EXTRACT(YEAR FROM collision_date) = 2012 \n",
    "ORDER BY count_case desc;\n",
    "   \n",
    "'''\n",
    "\n",
    "df_mounths_2012 = pd.read_sql_query(query, con=engine)"
   ]
  },
  {
   "cell_type": "code",
   "execution_count": 19,
   "id": "262f837c",
   "metadata": {},
   "outputs": [
    {
     "data": {
      "text/html": [
       "<div>\n",
       "<style scoped>\n",
       "    .dataframe tbody tr th:only-of-type {\n",
       "        vertical-align: middle;\n",
       "    }\n",
       "\n",
       "    .dataframe tbody tr th {\n",
       "        vertical-align: top;\n",
       "    }\n",
       "\n",
       "    .dataframe thead th {\n",
       "        text-align: right;\n",
       "    }\n",
       "</style>\n",
       "<table border=\"1\" class=\"dataframe\">\n",
       "  <thead>\n",
       "    <tr style=\"text-align: right;\">\n",
       "      <th></th>\n",
       "      <th>count_case</th>\n",
       "      <th>month</th>\n",
       "    </tr>\n",
       "  </thead>\n",
       "  <tbody>\n",
       "    <tr>\n",
       "      <th>0</th>\n",
       "      <td>32498</td>\n",
       "      <td>March</td>\n",
       "    </tr>\n",
       "    <tr>\n",
       "      <th>1</th>\n",
       "      <td>32020</td>\n",
       "      <td>January</td>\n",
       "    </tr>\n",
       "    <tr>\n",
       "      <th>2</th>\n",
       "      <td>30377</td>\n",
       "      <td>February</td>\n",
       "    </tr>\n",
       "    <tr>\n",
       "      <th>3</th>\n",
       "      <td>29143</td>\n",
       "      <td>April</td>\n",
       "    </tr>\n",
       "    <tr>\n",
       "      <th>4</th>\n",
       "      <td>25168</td>\n",
       "      <td>May</td>\n",
       "    </tr>\n",
       "    <tr>\n",
       "      <th>5</th>\n",
       "      <td>3062</td>\n",
       "      <td>June</td>\n",
       "    </tr>\n",
       "    <tr>\n",
       "      <th>6</th>\n",
       "      <td>622</td>\n",
       "      <td>August</td>\n",
       "    </tr>\n",
       "    <tr>\n",
       "      <th>7</th>\n",
       "      <td>510</td>\n",
       "      <td>September</td>\n",
       "    </tr>\n",
       "    <tr>\n",
       "      <th>8</th>\n",
       "      <td>390</td>\n",
       "      <td>July</td>\n",
       "    </tr>\n",
       "    <tr>\n",
       "      <th>9</th>\n",
       "      <td>304</td>\n",
       "      <td>October</td>\n",
       "    </tr>\n",
       "    <tr>\n",
       "      <th>10</th>\n",
       "      <td>253</td>\n",
       "      <td>November</td>\n",
       "    </tr>\n",
       "    <tr>\n",
       "      <th>11</th>\n",
       "      <td>200</td>\n",
       "      <td>December</td>\n",
       "    </tr>\n",
       "  </tbody>\n",
       "</table>\n",
       "</div>"
      ],
      "text/plain": [
       "    count_case      month\n",
       "0        32498  March    \n",
       "1        32020  January  \n",
       "2        30377  February \n",
       "3        29143  April    \n",
       "4        25168  May      \n",
       "5         3062  June     \n",
       "6          622  August   \n",
       "7          510  September\n",
       "8          390  July     \n",
       "9          304  October  \n",
       "10         253  November \n",
       "11         200  December "
      ]
     },
     "execution_count": 19,
     "metadata": {},
     "output_type": "execute_result"
    }
   ],
   "source": [
    "df_mounths_2012"
   ]
  },
  {
   "cell_type": "code",
   "execution_count": 20,
   "id": "ee9bcc72",
   "metadata": {},
   "outputs": [
    {
     "data": {
      "image/png": "[encoded data removed]",
      "text/plain": [
       "<Figure size 432x288 with 1 Axes>"
      ]
     },
     "metadata": {
      "needs_background": "light"
     },
     "output_type": "display_data"
    },
    {
     "data": {
      "text/plain": [
       "<Figure size 1080x576 with 0 Axes>"
      ]
     },
     "metadata": {},
     "output_type": "display_data"
    }
   ],
   "source": [
    "sns.barplot(data = df_mounths_2012, x='month', y='count_case')\n",
    "plt.title('Количество аварий в месяц')\n",
    "plt.xticks(rotation=50)\n",
    "plt.xlabel('Месяцы')\n",
    "plt.ylabel('Количество аварий')\n",
    "plt.figure(figsize=(15, 8))\n",
    "plt.show()"
   ]
  },
  {
   "cell_type": "markdown",
   "id": "62395b15",
   "metadata": {},
   "source": [
    "**Вывод** \n",
    "\n",
    "Есть основания считать, что в некоторые годы у нас не полные данные. Следовательно этот показатель нельзя использовать при дальнейшем построении моделей."
   ]
  },
  {
   "cell_type": "markdown",
   "id": "6b8bc621",
   "metadata": {},
   "source": [
    "#### Провеcти анализ серьёзности повреждений транспортного средства, исходя из состояния дороги в момент ДТП "
   ]
  },
  {
   "cell_type": "markdown",
   "id": "fc5daabc",
   "metadata": {},
   "source": [
    "**Описание задачи**\n",
    "\n",
    "Провести анализ серьёзности происшествия исходя из состояния дороги в момент ДТП."
   ]
  },
  {
   "cell_type": "markdown",
   "id": "f9a12c12",
   "metadata": {},
   "source": [
    "**Порядок выполнения**\n",
    "\n",
    "1) Посмотреть общее распределение серьёзности повреждений.\n",
    "В таблице \"collisions\" сгруппировать данные столбцу \"collision_damage\" и посчитать количество происшествий. Вывесть таблицу и круговую диаграмму.\n",
    "\n",
    "2) Посмотреть как распределяются происшествия в зависимости от состояния дороги.\n",
    "В таблице \"collisions\" сгруппировать данные столбцу \"road_surface\" и посчитать количество происшествий. Вывесть таблицу и круговую диаграмму.\n",
    "\n",
    "3) Посмотреть распределение серьёзности повреждений при сухом и влажном состоянии дороги.\n",
    "В таблице \"collisions\" сгруппировать данные столбцу \"collision_damage\" с условиями: road_surface = 'dry' и road_surface = 'wet' соответственно. Посчитать количество происшествий. Вывесть таблицу и круговую диаграмму. "
   ]
  },
  {
   "cell_type": "markdown",
   "id": "b6170194",
   "metadata": {},
   "source": [
    "Сначала посмотрим общее рапределение по серьёзности повреждений."
   ]
  },
  {
   "cell_type": "code",
   "execution_count": 21,
   "id": "61224756",
   "metadata": {},
   "outputs": [],
   "source": [
    "query = '''\n",
    "SELECT collision_damage,\n",
    "       COUNT(case_id) as count_case\n",
    "FROM collisions\n",
    "GROUP BY collision_damage;\n",
    "'''\n",
    "\n",
    "df_collision_damage = pd.read_sql_query(query, con=engine)"
   ]
  },
  {
   "cell_type": "code",
   "execution_count": 22,
   "id": "8b18999e",
   "metadata": {},
   "outputs": [
    {
     "data": {
      "text/html": [
       "<div>\n",
       "<style scoped>\n",
       "    .dataframe tbody tr th:only-of-type {\n",
       "        vertical-align: middle;\n",
       "    }\n",
       "\n",
       "    .dataframe tbody tr th {\n",
       "        vertical-align: top;\n",
       "    }\n",
       "\n",
       "    .dataframe thead th {\n",
       "        text-align: right;\n",
       "    }\n",
       "</style>\n",
       "<table border=\"1\" class=\"dataframe\">\n",
       "  <thead>\n",
       "    <tr style=\"text-align: right;\">\n",
       "      <th></th>\n",
       "      <th>collision_damage</th>\n",
       "      <th>count_case</th>\n",
       "    </tr>\n",
       "  </thead>\n",
       "  <tbody>\n",
       "    <tr>\n",
       "      <th>0</th>\n",
       "      <td>fatal</td>\n",
       "      <td>10793</td>\n",
       "    </tr>\n",
       "    <tr>\n",
       "      <th>1</th>\n",
       "      <td>middle damage</td>\n",
       "      <td>166583</td>\n",
       "    </tr>\n",
       "    <tr>\n",
       "      <th>2</th>\n",
       "      <td>scratch</td>\n",
       "      <td>346106</td>\n",
       "    </tr>\n",
       "    <tr>\n",
       "      <th>3</th>\n",
       "      <td>severe damage</td>\n",
       "      <td>30747</td>\n",
       "    </tr>\n",
       "    <tr>\n",
       "      <th>4</th>\n",
       "      <td>small damage</td>\n",
       "      <td>845771</td>\n",
       "    </tr>\n",
       "  </tbody>\n",
       "</table>\n",
       "</div>"
      ],
      "text/plain": [
       "  collision_damage  count_case\n",
       "0            fatal       10793\n",
       "1    middle damage      166583\n",
       "2          scratch      346106\n",
       "3    severe damage       30747\n",
       "4     small damage      845771"
      ]
     },
     "execution_count": 22,
     "metadata": {},
     "output_type": "execute_result"
    }
   ],
   "source": [
    "df_collision_damage"
   ]
  },
  {
   "cell_type": "markdown",
   "id": "fa17078a",
   "metadata": {},
   "source": [
    "Для наглядности построим круговую диаграмму."
   ]
  },
  {
   "cell_type": "code",
   "execution_count": 23,
   "id": "e00ef401",
   "metadata": {},
   "outputs": [
    {
     "data": {
      "image/png": "[encoded data removed]",
      "text/plain": [
       "<Figure size 576x648 with 1 Axes>"
      ]
     },
     "metadata": {},
     "output_type": "display_data"
    }
   ],
   "source": [
    "labels = df_collision_damage['collision_damage']\n",
    "sizes = df_collision_damage['count_case']\n",
    "\n",
    "fig1, ax1 = plt.subplots(figsize=(8, 9))\n",
    "ax1.pie(sizes, labels=labels, autopct='%1.1f%%',\n",
    "        shadow=True, startangle=90)\n",
    "ax1.set_title(\"Общее распределение происшествий по серьёзности ущерба\")\n",
    "\n",
    "plt.show()"
   ]
  },
  {
   "cell_type": "markdown",
   "id": "ff17c1bb",
   "metadata": {},
   "source": [
    "Как мы видим больше всего происшествий 60,4% с небольшими повреждениями, при этом происшествия с фатальными повреждениями происходят менее чем в 1% случаев."
   ]
  },
  {
   "cell_type": "markdown",
   "id": "75a78b57",
   "metadata": {},
   "source": [
    "Теперь посмотрим как распределяются происшествия в зависимости от состояния дороги."
   ]
  },
  {
   "cell_type": "code",
   "execution_count": 24,
   "id": "067801da",
   "metadata": {},
   "outputs": [],
   "source": [
    "query = '''\n",
    "SELECT road_surface,\n",
    "       COUNT(case_id) as count_case\n",
    "FROM collisions\n",
    "GROUP BY road_surface;\n",
    "'''\n",
    "\n",
    "df_road_surface = pd.read_sql_query(query, con=engine)"
   ]
  },
  {
   "cell_type": "code",
   "execution_count": 25,
   "id": "752294c2",
   "metadata": {},
   "outputs": [
    {
     "data": {
      "text/html": [
       "<div>\n",
       "<style scoped>\n",
       "    .dataframe tbody tr th:only-of-type {\n",
       "        vertical-align: middle;\n",
       "    }\n",
       "\n",
       "    .dataframe tbody tr th {\n",
       "        vertical-align: top;\n",
       "    }\n",
       "\n",
       "    .dataframe thead th {\n",
       "        text-align: right;\n",
       "    }\n",
       "</style>\n",
       "<table border=\"1\" class=\"dataframe\">\n",
       "  <thead>\n",
       "    <tr style=\"text-align: right;\">\n",
       "      <th></th>\n",
       "      <th>road_surface</th>\n",
       "      <th>count_case</th>\n",
       "    </tr>\n",
       "  </thead>\n",
       "  <tbody>\n",
       "    <tr>\n",
       "      <th>0</th>\n",
       "      <td>dry</td>\n",
       "      <td>1242026</td>\n",
       "    </tr>\n",
       "    <tr>\n",
       "      <th>1</th>\n",
       "      <td>slippery</td>\n",
       "      <td>1384</td>\n",
       "    </tr>\n",
       "    <tr>\n",
       "      <th>2</th>\n",
       "      <td>snowy</td>\n",
       "      <td>7261</td>\n",
       "    </tr>\n",
       "    <tr>\n",
       "      <th>3</th>\n",
       "      <td>wet</td>\n",
       "      <td>136236</td>\n",
       "    </tr>\n",
       "    <tr>\n",
       "      <th>4</th>\n",
       "      <td>None</td>\n",
       "      <td>13093</td>\n",
       "    </tr>\n",
       "  </tbody>\n",
       "</table>\n",
       "</div>"
      ],
      "text/plain": [
       "  road_surface  count_case\n",
       "0          dry     1242026\n",
       "1     slippery        1384\n",
       "2        snowy        7261\n",
       "3          wet      136236\n",
       "4         None       13093"
      ]
     },
     "execution_count": 25,
     "metadata": {},
     "output_type": "execute_result"
    }
   ],
   "source": [
    "df_road_surface"
   ]
  },
  {
   "cell_type": "code",
   "execution_count": 26,
   "id": "c473a746",
   "metadata": {},
   "outputs": [
    {
     "data": {
      "image/png": "[encoded data removed]",
      "text/plain": [
       "<Figure size 576x648 with 1 Axes>"
      ]
     },
     "metadata": {},
     "output_type": "display_data"
    }
   ],
   "source": [
    "labels = df_road_surface['road_surface']\n",
    "sizes = df_road_surface['count_case']\n",
    "\n",
    "fig1, ax1 = plt.subplots(figsize=(8, 9))\n",
    "ax1.pie(sizes, labels=labels, autopct='%1.1f%%',\n",
    "        shadow=True, startangle=90)\n",
    "ax1.set_title(\"Общее распределение происшествий в зависимости от состояния дороги\")\n",
    "\n",
    "plt.show()"
   ]
  },
  {
   "cell_type": "markdown",
   "id": "76e57dd7",
   "metadata": {},
   "source": [
    "Большая часть происшествий происходит при сухом покрытии 88,7%; однако значимую долю составляют происшествия при мокром покрытии: 9,7%."
   ]
  },
  {
   "cell_type": "markdown",
   "id": "c17848ef",
   "metadata": {},
   "source": [
    "Теперь посмотрим как распределяются происшествия по серьёзности последствий при сухом и влажном покрытии."
   ]
  },
  {
   "cell_type": "code",
   "execution_count": 27,
   "id": "1b042b36",
   "metadata": {},
   "outputs": [],
   "source": [
    "query = '''\n",
    "SELECT collision_damage,\n",
    "       COUNT(case_id) as count_case\n",
    "FROM collisions\n",
    "WHERE road_surface = 'dry' \n",
    "GROUP BY collision_damage;\n",
    "'''\n",
    "\n",
    "df_collision_damage_dry = pd.read_sql_query(query, con=engine)"
   ]
  },
  {
   "cell_type": "code",
   "execution_count": 28,
   "id": "b06b25fe",
   "metadata": {},
   "outputs": [
    {
     "data": {
      "text/html": [
       "<div>\n",
       "<style scoped>\n",
       "    .dataframe tbody tr th:only-of-type {\n",
       "        vertical-align: middle;\n",
       "    }\n",
       "\n",
       "    .dataframe tbody tr th {\n",
       "        vertical-align: top;\n",
       "    }\n",
       "\n",
       "    .dataframe thead th {\n",
       "        text-align: right;\n",
       "    }\n",
       "</style>\n",
       "<table border=\"1\" class=\"dataframe\">\n",
       "  <thead>\n",
       "    <tr style=\"text-align: right;\">\n",
       "      <th></th>\n",
       "      <th>collision_damage</th>\n",
       "      <th>count_case</th>\n",
       "    </tr>\n",
       "  </thead>\n",
       "  <tbody>\n",
       "    <tr>\n",
       "      <th>0</th>\n",
       "      <td>fatal</td>\n",
       "      <td>9823</td>\n",
       "    </tr>\n",
       "    <tr>\n",
       "      <th>1</th>\n",
       "      <td>middle damage</td>\n",
       "      <td>151015</td>\n",
       "    </tr>\n",
       "    <tr>\n",
       "      <th>2</th>\n",
       "      <td>scratch</td>\n",
       "      <td>307963</td>\n",
       "    </tr>\n",
       "    <tr>\n",
       "      <th>3</th>\n",
       "      <td>severe damage</td>\n",
       "      <td>27827</td>\n",
       "    </tr>\n",
       "    <tr>\n",
       "      <th>4</th>\n",
       "      <td>small damage</td>\n",
       "      <td>745398</td>\n",
       "    </tr>\n",
       "  </tbody>\n",
       "</table>\n",
       "</div>"
      ],
      "text/plain": [
       "  collision_damage  count_case\n",
       "0            fatal        9823\n",
       "1    middle damage      151015\n",
       "2          scratch      307963\n",
       "3    severe damage       27827\n",
       "4     small damage      745398"
      ]
     },
     "execution_count": 28,
     "metadata": {},
     "output_type": "execute_result"
    }
   ],
   "source": [
    "df_collision_damage_dry "
   ]
  },
  {
   "cell_type": "code",
   "execution_count": 29,
   "id": "63c15c5f",
   "metadata": {},
   "outputs": [
    {
     "data": {
      "image/png": "[encoded data removed]",
      "text/plain": [
       "<Figure size 576x648 with 1 Axes>"
      ]
     },
     "metadata": {},
     "output_type": "display_data"
    }
   ],
   "source": [
    "labels = df_collision_damage_dry['collision_damage']\n",
    "sizes = df_collision_damage_dry['count_case']\n",
    "\n",
    "fig1, ax1 = plt.subplots(figsize=(8, 9))\n",
    "ax1.pie(sizes, labels=labels, autopct='%1.1f%%',\n",
    "        shadow=True, startangle=90)\n",
    "ax1.set_title(\"Распределение происшествий по серьёзности ущерба при сухом покрытии\")\n",
    "\n",
    "plt.show()"
   ]
  },
  {
   "cell_type": "code",
   "execution_count": 30,
   "id": "f6ae8360",
   "metadata": {},
   "outputs": [],
   "source": [
    "query = '''\n",
    "SELECT collision_damage,\n",
    "       COUNT(case_id) as count_case\n",
    "FROM collisions\n",
    "WHERE road_surface = 'wet' \n",
    "GROUP BY collision_damage;\n",
    "'''\n",
    "\n",
    "df_collision_damage_wet = pd.read_sql_query(query, con=engine)"
   ]
  },
  {
   "cell_type": "code",
   "execution_count": 31,
   "id": "faaa7fd6",
   "metadata": {},
   "outputs": [
    {
     "data": {
      "text/html": [
       "<div>\n",
       "<style scoped>\n",
       "    .dataframe tbody tr th:only-of-type {\n",
       "        vertical-align: middle;\n",
       "    }\n",
       "\n",
       "    .dataframe tbody tr th {\n",
       "        vertical-align: top;\n",
       "    }\n",
       "\n",
       "    .dataframe thead th {\n",
       "        text-align: right;\n",
       "    }\n",
       "</style>\n",
       "<table border=\"1\" class=\"dataframe\">\n",
       "  <thead>\n",
       "    <tr style=\"text-align: right;\">\n",
       "      <th></th>\n",
       "      <th>collision_damage</th>\n",
       "      <th>count_case</th>\n",
       "    </tr>\n",
       "  </thead>\n",
       "  <tbody>\n",
       "    <tr>\n",
       "      <th>0</th>\n",
       "      <td>fatal</td>\n",
       "      <td>857</td>\n",
       "    </tr>\n",
       "    <tr>\n",
       "      <th>1</th>\n",
       "      <td>middle damage</td>\n",
       "      <td>13190</td>\n",
       "    </tr>\n",
       "    <tr>\n",
       "      <th>2</th>\n",
       "      <td>scratch</td>\n",
       "      <td>33301</td>\n",
       "    </tr>\n",
       "    <tr>\n",
       "      <th>3</th>\n",
       "      <td>severe damage</td>\n",
       "      <td>2470</td>\n",
       "    </tr>\n",
       "    <tr>\n",
       "      <th>4</th>\n",
       "      <td>small damage</td>\n",
       "      <td>86418</td>\n",
       "    </tr>\n",
       "  </tbody>\n",
       "</table>\n",
       "</div>"
      ],
      "text/plain": [
       "  collision_damage  count_case\n",
       "0            fatal         857\n",
       "1    middle damage       13190\n",
       "2          scratch       33301\n",
       "3    severe damage        2470\n",
       "4     small damage       86418"
      ]
     },
     "execution_count": 31,
     "metadata": {},
     "output_type": "execute_result"
    }
   ],
   "source": [
    "df_collision_damage_wet"
   ]
  },
  {
   "cell_type": "code",
   "execution_count": 32,
   "id": "c54108ff",
   "metadata": {},
   "outputs": [
    {
     "data": {
      "image/png": "[encoded data removed]",
      "text/plain": [
       "<Figure size 576x648 with 1 Axes>"
      ]
     },
     "metadata": {},
     "output_type": "display_data"
    }
   ],
   "source": [
    "labels = df_collision_damage_wet['collision_damage']\n",
    "sizes = df_collision_damage_wet['count_case']\n",
    "\n",
    "fig1, ax1 = plt.subplots(figsize=(8, 9))\n",
    "ax1.pie(sizes, labels=labels, autopct='%1.1f%%',\n",
    "        shadow=True, startangle=90)\n",
    "ax1.set_title(\"Распределение происшествий по серьёзности ущерба при влажном покрытии\")\n",
    "\n",
    "plt.show()"
   ]
  },
  {
   "cell_type": "markdown",
   "id": "4a0f00bc",
   "metadata": {},
   "source": [
    "**Вывод** Как мы увидели из диаграмм вышы и при сухом и при влажном покрытии примерно 60% происшествий происходят с небольшим ущербом, около четверти происшествий обходятся \"царапинами\"."
   ]
  },
  {
   "cell_type": "markdown",
   "id": "a6dc5d07",
   "metadata": {},
   "source": [
    "#### Найдйдём самые частые причины ДТП "
   ]
  },
  {
   "cell_type": "markdown",
   "id": "7bb8f196",
   "metadata": {},
   "source": [
    "**Описание задачи**\n",
    "\n",
    "Найти самые частые причины ДТП."
   ]
  },
  {
   "cell_type": "markdown",
   "id": "a4510330",
   "metadata": {},
   "source": [
    "**Порядок выполнения**\n",
    "\n",
    "В таблице \"collisions\" сгруппировать данные по столбцу \"primary_collision_factor\" и подсчитать количество происшествий, отсортировать количество происшествий по убыванию. Вывесть таблицу и гистограмму."
   ]
  },
  {
   "cell_type": "code",
   "execution_count": 33,
   "id": "125d036c",
   "metadata": {},
   "outputs": [],
   "source": [
    "query = '''\n",
    "SELECT primary_collision_factor,\n",
    "       COUNT(case_id) as count_case\n",
    "FROM collisions\n",
    "GROUP BY primary_collision_factor \n",
    "ORDER BY count_case desc;\n",
    "'''\n",
    "\n",
    "df_primary_collision_factor = pd.read_sql_query(query, con=engine)"
   ]
  },
  {
   "cell_type": "code",
   "execution_count": 34,
   "id": "bb0e35a8",
   "metadata": {},
   "outputs": [
    {
     "data": {
      "text/html": [
       "<div>\n",
       "<style scoped>\n",
       "    .dataframe tbody tr th:only-of-type {\n",
       "        vertical-align: middle;\n",
       "    }\n",
       "\n",
       "    .dataframe tbody tr th {\n",
       "        vertical-align: top;\n",
       "    }\n",
       "\n",
       "    .dataframe thead th {\n",
       "        text-align: right;\n",
       "    }\n",
       "</style>\n",
       "<table border=\"1\" class=\"dataframe\">\n",
       "  <thead>\n",
       "    <tr style=\"text-align: right;\">\n",
       "      <th></th>\n",
       "      <th>primary_collision_factor</th>\n",
       "      <th>count_case</th>\n",
       "    </tr>\n",
       "  </thead>\n",
       "  <tbody>\n",
       "    <tr>\n",
       "      <th>0</th>\n",
       "      <td>vehicle code violation</td>\n",
       "      <td>1316453</td>\n",
       "    </tr>\n",
       "    <tr>\n",
       "      <th>1</th>\n",
       "      <td>unknown</td>\n",
       "      <td>37014</td>\n",
       "    </tr>\n",
       "    <tr>\n",
       "      <th>2</th>\n",
       "      <td>other than driver</td>\n",
       "      <td>29780</td>\n",
       "    </tr>\n",
       "    <tr>\n",
       "      <th>3</th>\n",
       "      <td>other improper driving</td>\n",
       "      <td>8470</td>\n",
       "    </tr>\n",
       "    <tr>\n",
       "      <th>4</th>\n",
       "      <td>None</td>\n",
       "      <td>8166</td>\n",
       "    </tr>\n",
       "    <tr>\n",
       "      <th>5</th>\n",
       "      <td>fell asleep</td>\n",
       "      <td>117</td>\n",
       "    </tr>\n",
       "  </tbody>\n",
       "</table>\n",
       "</div>"
      ],
      "text/plain": [
       "  primary_collision_factor  count_case\n",
       "0   vehicle code violation     1316453\n",
       "1                  unknown       37014\n",
       "2        other than driver       29780\n",
       "3   other improper driving        8470\n",
       "4                     None        8166\n",
       "5              fell asleep         117"
      ]
     },
     "execution_count": 34,
     "metadata": {},
     "output_type": "execute_result"
    }
   ],
   "source": [
    "df_primary_collision_factor"
   ]
  },
  {
   "cell_type": "code",
   "execution_count": 35,
   "id": "faaa9649",
   "metadata": {},
   "outputs": [
    {
     "data": {
      "image/png": "[encoded data removed]",
      "text/plain": [
       "<Figure size 432x288 with 1 Axes>"
      ]
     },
     "metadata": {
      "needs_background": "light"
     },
     "output_type": "display_data"
    },
    {
     "data": {
      "text/plain": [
       "<Figure size 1080x576 with 0 Axes>"
      ]
     },
     "metadata": {},
     "output_type": "display_data"
    }
   ],
   "source": [
    "sns.barplot(data = df_primary_collision_factor, x='primary_collision_factor', y='count_case')\n",
    "plt.title('Распределение причин ДТП')\n",
    "plt.xticks(rotation=50)\n",
    "plt.xlabel('Причина ДТП')\n",
    "plt.ylabel('Количество происшествий')\n",
    "plt.figure(figsize=(15, 8))\n",
    "plt.show()"
   ]
  },
  {
   "cell_type": "markdown",
   "id": "2d4d2f33",
   "metadata": {},
   "source": [
    "**Вывод** В подавляющем большинстве случаев причиной ДТП стали нарушения правил ПДД."
   ]
  },
  {
   "cell_type": "markdown",
   "id": "41715320",
   "metadata": {},
   "source": [
    "#### Среди тех происшествий которые произошли по причине нарушения ПДД найти самые распространённые нарушения "
   ]
  },
  {
   "cell_type": "markdown",
   "id": "191f56b0",
   "metadata": {},
   "source": [
    "**Описание задачи**\n",
    "\n",
    "Найти самые распространённые нарушения ПДД среди тех происшествий, причиной которых стало нарушение правил дорожного движения."
   ]
  },
  {
   "cell_type": "markdown",
   "id": "e5040c6b",
   "metadata": {},
   "source": [
    "**Порядок выполнения**\n",
    "\n",
    "В таблице \"collisions\" сгруппировать данные по столбцу \"pcf_violation_category\" и подсчитать количество происшествий с условием primary_collision_factor = 'vehicle code violation', отсортировать количество происшествий по убыванию. Вывесть таблицу и гистограмму."
   ]
  },
  {
   "cell_type": "code",
   "execution_count": 36,
   "id": "6e2319c0",
   "metadata": {},
   "outputs": [],
   "source": [
    "query = '''\n",
    "SELECT pcf_violation_category,\n",
    "       COUNT(case_id) as count_case\n",
    "FROM collisions\n",
    "WHERE primary_collision_factor = 'vehicle code violation' \n",
    "GROUP BY pcf_violation_category \n",
    "ORDER BY count_case desc;\n",
    "'''\n",
    "\n",
    "df_pcf_violation_category = pd.read_sql_query(query, con=engine)"
   ]
  },
  {
   "cell_type": "code",
   "execution_count": 37,
   "id": "e2c280e7",
   "metadata": {},
   "outputs": [
    {
     "data": {
      "text/html": [
       "<div>\n",
       "<style scoped>\n",
       "    .dataframe tbody tr th:only-of-type {\n",
       "        vertical-align: middle;\n",
       "    }\n",
       "\n",
       "    .dataframe tbody tr th {\n",
       "        vertical-align: top;\n",
       "    }\n",
       "\n",
       "    .dataframe thead th {\n",
       "        text-align: right;\n",
       "    }\n",
       "</style>\n",
       "<table border=\"1\" class=\"dataframe\">\n",
       "  <thead>\n",
       "    <tr style=\"text-align: right;\">\n",
       "      <th></th>\n",
       "      <th>pcf_violation_category</th>\n",
       "      <th>count_case</th>\n",
       "    </tr>\n",
       "  </thead>\n",
       "  <tbody>\n",
       "    <tr>\n",
       "      <th>0</th>\n",
       "      <td>speeding</td>\n",
       "      <td>438439</td>\n",
       "    </tr>\n",
       "    <tr>\n",
       "      <th>1</th>\n",
       "      <td>improper turning</td>\n",
       "      <td>238987</td>\n",
       "    </tr>\n",
       "    <tr>\n",
       "      <th>2</th>\n",
       "      <td>automobile right of way</td>\n",
       "      <td>158291</td>\n",
       "    </tr>\n",
       "    <tr>\n",
       "      <th>3</th>\n",
       "      <td>dui</td>\n",
       "      <td>110476</td>\n",
       "    </tr>\n",
       "    <tr>\n",
       "      <th>4</th>\n",
       "      <td>unsafe lane change</td>\n",
       "      <td>93962</td>\n",
       "    </tr>\n",
       "    <tr>\n",
       "      <th>5</th>\n",
       "      <td>traffic signals and signs</td>\n",
       "      <td>72751</td>\n",
       "    </tr>\n",
       "    <tr>\n",
       "      <th>6</th>\n",
       "      <td>unsafe starting or backing</td>\n",
       "      <td>55674</td>\n",
       "    </tr>\n",
       "    <tr>\n",
       "      <th>7</th>\n",
       "      <td>wrong side of road</td>\n",
       "      <td>33631</td>\n",
       "    </tr>\n",
       "    <tr>\n",
       "      <th>8</th>\n",
       "      <td>following too closely</td>\n",
       "      <td>30033</td>\n",
       "    </tr>\n",
       "    <tr>\n",
       "      <th>9</th>\n",
       "      <td>None</td>\n",
       "      <td>19788</td>\n",
       "    </tr>\n",
       "    <tr>\n",
       "      <th>10</th>\n",
       "      <td>pedestrian right of way</td>\n",
       "      <td>15739</td>\n",
       "    </tr>\n",
       "    <tr>\n",
       "      <th>11</th>\n",
       "      <td>pedestrian violation</td>\n",
       "      <td>15392</td>\n",
       "    </tr>\n",
       "    <tr>\n",
       "      <th>12</th>\n",
       "      <td>other hazardous violation</td>\n",
       "      <td>13851</td>\n",
       "    </tr>\n",
       "    <tr>\n",
       "      <th>13</th>\n",
       "      <td>improper passing</td>\n",
       "      <td>12136</td>\n",
       "    </tr>\n",
       "    <tr>\n",
       "      <th>14</th>\n",
       "      <td>unknown</td>\n",
       "      <td>2544</td>\n",
       "    </tr>\n",
       "    <tr>\n",
       "      <th>15</th>\n",
       "      <td>other equipment</td>\n",
       "      <td>1747</td>\n",
       "    </tr>\n",
       "    <tr>\n",
       "      <th>16</th>\n",
       "      <td>hazardous parking</td>\n",
       "      <td>1746</td>\n",
       "    </tr>\n",
       "    <tr>\n",
       "      <th>17</th>\n",
       "      <td>impeding traffic</td>\n",
       "      <td>752</td>\n",
       "    </tr>\n",
       "    <tr>\n",
       "      <th>18</th>\n",
       "      <td>brakes</td>\n",
       "      <td>303</td>\n",
       "    </tr>\n",
       "    <tr>\n",
       "      <th>19</th>\n",
       "      <td>lights</td>\n",
       "      <td>209</td>\n",
       "    </tr>\n",
       "    <tr>\n",
       "      <th>20</th>\n",
       "      <td>pedestrian dui</td>\n",
       "      <td>2</td>\n",
       "    </tr>\n",
       "  </tbody>\n",
       "</table>\n",
       "</div>"
      ],
      "text/plain": [
       "        pcf_violation_category  count_case\n",
       "0                     speeding      438439\n",
       "1             improper turning      238987\n",
       "2      automobile right of way      158291\n",
       "3                          dui      110476\n",
       "4           unsafe lane change       93962\n",
       "5    traffic signals and signs       72751\n",
       "6   unsafe starting or backing       55674\n",
       "7           wrong side of road       33631\n",
       "8        following too closely       30033\n",
       "9                         None       19788\n",
       "10     pedestrian right of way       15739\n",
       "11        pedestrian violation       15392\n",
       "12   other hazardous violation       13851\n",
       "13            improper passing       12136\n",
       "14                     unknown        2544\n",
       "15             other equipment        1747\n",
       "16           hazardous parking        1746\n",
       "17            impeding traffic         752\n",
       "18                      brakes         303\n",
       "19                      lights         209\n",
       "20              pedestrian dui           2"
      ]
     },
     "execution_count": 37,
     "metadata": {},
     "output_type": "execute_result"
    }
   ],
   "source": [
    "df_pcf_violation_category"
   ]
  },
  {
   "cell_type": "code",
   "execution_count": 38,
   "id": "251e48ed",
   "metadata": {},
   "outputs": [
    {
     "data": {
      "image/png": "[encoded data removed]",
      "text/plain": [
       "<Figure size 432x288 with 1 Axes>"
      ]
     },
     "metadata": {
      "needs_background": "light"
     },
     "output_type": "display_data"
    },
    {
     "data": {
      "text/plain": [
       "<Figure size 1080x576 with 0 Axes>"
      ]
     },
     "metadata": {},
     "output_type": "display_data"
    }
   ],
   "source": [
    "sns.barplot(data = df_pcf_violation_category, x='pcf_violation_category', y='count_case')\n",
    "plt.title('Распределение нарушений ПДД')\n",
    "plt.xticks(rotation=90)\n",
    "plt.xlabel('Тип нарушения')\n",
    "plt.ylabel('Количество происшествий')\n",
    "plt.figure(figsize=(15, 8))\n",
    "plt.show()"
   ]
  },
  {
   "cell_type": "markdown",
   "id": "12f5fa7f",
   "metadata": {},
   "source": [
    "**Вывод** В тройку лидеров у нас попали скоростной режим, неправильный поворот и приоритетное право проезда."
   ]
  },
  {
   "cell_type": "markdown",
   "id": "3b31e59e",
   "metadata": {},
   "source": [
    "#### Провести анализ количества происшествий в зависимости от освещения с участниками типа \"Car\"."
   ]
  },
  {
   "cell_type": "markdown",
   "id": "eef9a11c",
   "metadata": {},
   "source": [
    "**Описание задачи**\n",
    "\n",
    "Для участников типа \"Car\" провести анализ количества происшествий в зависимости от освещения."
   ]
  },
  {
   "cell_type": "markdown",
   "id": "1b857624",
   "metadata": {},
   "source": [
    "**Порядок выполнения**\n",
    "\n",
    "Объеденить таблицы \"collisions\" и \"parties\". Cгруппировать данные по столбцу \"lighting\", таблицы \"collisions\" и сделать \"срез\" по условию party_type = 'car' из таблицы \"parties\". Подсчитать количество происшествий, отсортировать количество происшествий по убыванию. Вывесть таблицу и гистограмму."
   ]
  },
  {
   "cell_type": "code",
   "execution_count": 39,
   "id": "d5376a6b",
   "metadata": {},
   "outputs": [],
   "source": [
    "query = '''\n",
    "SELECT co.lighting,\n",
    "       COUNT(co.case_id) as count_case\n",
    "FROM collisions as co\n",
    "INNER JOIN parties pa ON co.case_id = pa.case_id\n",
    "WHERE pa.party_type = 'car' \n",
    "GROUP BY lighting \n",
    "ORDER BY count_case desc;\n",
    "'''\n",
    "\n",
    "df_lighting = pd.read_sql_query(query, con=engine)"
   ]
  },
  {
   "cell_type": "code",
   "execution_count": 40,
   "id": "924f04bd",
   "metadata": {},
   "outputs": [
    {
     "data": {
      "text/html": [
       "<div>\n",
       "<style scoped>\n",
       "    .dataframe tbody tr th:only-of-type {\n",
       "        vertical-align: middle;\n",
       "    }\n",
       "\n",
       "    .dataframe tbody tr th {\n",
       "        vertical-align: top;\n",
       "    }\n",
       "\n",
       "    .dataframe thead th {\n",
       "        text-align: right;\n",
       "    }\n",
       "</style>\n",
       "<table border=\"1\" class=\"dataframe\">\n",
       "  <thead>\n",
       "    <tr style=\"text-align: right;\">\n",
       "      <th></th>\n",
       "      <th>lighting</th>\n",
       "      <th>count_case</th>\n",
       "    </tr>\n",
       "  </thead>\n",
       "  <tbody>\n",
       "    <tr>\n",
       "      <th>0</th>\n",
       "      <td>daylight</td>\n",
       "      <td>1751526</td>\n",
       "    </tr>\n",
       "    <tr>\n",
       "      <th>1</th>\n",
       "      <td>dark with street lights</td>\n",
       "      <td>460171</td>\n",
       "    </tr>\n",
       "    <tr>\n",
       "      <th>2</th>\n",
       "      <td>dark with no street lights</td>\n",
       "      <td>155827</td>\n",
       "    </tr>\n",
       "    <tr>\n",
       "      <th>3</th>\n",
       "      <td>dusk or dawn</td>\n",
       "      <td>81385</td>\n",
       "    </tr>\n",
       "    <tr>\n",
       "      <th>4</th>\n",
       "      <td>None</td>\n",
       "      <td>13698</td>\n",
       "    </tr>\n",
       "    <tr>\n",
       "      <th>5</th>\n",
       "      <td>dark with street lights not functioning</td>\n",
       "      <td>6707</td>\n",
       "    </tr>\n",
       "  </tbody>\n",
       "</table>\n",
       "</div>"
      ],
      "text/plain": [
       "                                  lighting  count_case\n",
       "0                                 daylight     1751526\n",
       "1                  dark with street lights      460171\n",
       "2               dark with no street lights      155827\n",
       "3                             dusk or dawn       81385\n",
       "4                                     None       13698\n",
       "5  dark with street lights not functioning        6707"
      ]
     },
     "execution_count": 40,
     "metadata": {},
     "output_type": "execute_result"
    }
   ],
   "source": [
    "df_lighting"
   ]
  },
  {
   "cell_type": "code",
   "execution_count": 41,
   "id": "83d454ac",
   "metadata": {},
   "outputs": [
    {
     "data": {
      "image/png": "[encoded data removed]",
      "text/plain": [
       "<Figure size 432x288 with 1 Axes>"
      ]
     },
     "metadata": {
      "needs_background": "light"
     },
     "output_type": "display_data"
    },
    {
     "data": {
      "text/plain": [
       "<Figure size 1080x576 with 0 Axes>"
      ]
     },
     "metadata": {},
     "output_type": "display_data"
    }
   ],
   "source": [
    "sns.barplot(data = df_lighting, x='lighting', y='count_case')\n",
    "plt.title('Распределение происшествий в зависимости от освещения')\n",
    "plt.xticks(rotation=90)\n",
    "plt.xlabel('Тип освещения')\n",
    "plt.ylabel('Количество происшествий')\n",
    "plt.figure(figsize=(15, 8))\n",
    "plt.show()"
   ]
  },
  {
   "cell_type": "markdown",
   "id": "3bc467ab",
   "metadata": {},
   "source": [
    "**Вывод**\n",
    "\n",
    "Большая часть происшествий произошла в светлое время суток.\n"
   ]
  },
  {
   "cell_type": "markdown",
   "id": "881668f6",
   "metadata": {},
   "source": [
    "#### Провести анализ количества происшествий в зависимости от типа дороги для участников  типа \"Car\"."
   ]
  },
  {
   "cell_type": "markdown",
   "id": "e47d82b7",
   "metadata": {},
   "source": [
    "**Описание задачи**\n",
    "\n",
    "Для участников типа \"Car\" провести анализ количества происшествий в зависимости от типа дороги."
   ]
  },
  {
   "cell_type": "markdown",
   "id": "df164f1e",
   "metadata": {},
   "source": [
    "**Порядок выполнения**\n",
    "\n",
    "Объеденить таблицы \"collisions\" и \"parties\". Cгруппировать данные по столбцу \"location_type\", таблицы \"collisions\" и сделать \"срез\" по условию party_type = 'car' из таблицы \"parties\". Подсчитать количество происшествий, отсортировать количество происшествий по убыванию. Вывесть таблицу и гистограмму."
   ]
  },
  {
   "cell_type": "code",
   "execution_count": 42,
   "id": "72544ccc",
   "metadata": {},
   "outputs": [],
   "source": [
    "query = '''\n",
    "SELECT co.location_type,\n",
    "       COUNT(co.case_id) as count_case\n",
    "FROM collisions as co\n",
    "INNER JOIN parties pa ON co.case_id = pa.case_id\n",
    "WHERE pa.party_type = 'car' \n",
    "GROUP BY location_type \n",
    "ORDER BY count_case desc;\n",
    "'''\n",
    "\n",
    "df_location_type = pd.read_sql_query(query, con=engine)"
   ]
  },
  {
   "cell_type": "code",
   "execution_count": 43,
   "id": "bc7e5d3a",
   "metadata": {},
   "outputs": [
    {
     "data": {
      "text/html": [
       "<div>\n",
       "<style scoped>\n",
       "    .dataframe tbody tr th:only-of-type {\n",
       "        vertical-align: middle;\n",
       "    }\n",
       "\n",
       "    .dataframe tbody tr th {\n",
       "        vertical-align: top;\n",
       "    }\n",
       "\n",
       "    .dataframe thead th {\n",
       "        text-align: right;\n",
       "    }\n",
       "</style>\n",
       "<table border=\"1\" class=\"dataframe\">\n",
       "  <thead>\n",
       "    <tr style=\"text-align: right;\">\n",
       "      <th></th>\n",
       "      <th>location_type</th>\n",
       "      <th>count_case</th>\n",
       "    </tr>\n",
       "  </thead>\n",
       "  <tbody>\n",
       "    <tr>\n",
       "      <th>0</th>\n",
       "      <td>None</td>\n",
       "      <td>1462555</td>\n",
       "    </tr>\n",
       "    <tr>\n",
       "      <th>1</th>\n",
       "      <td>highway</td>\n",
       "      <td>822271</td>\n",
       "    </tr>\n",
       "    <tr>\n",
       "      <th>2</th>\n",
       "      <td>ramp</td>\n",
       "      <td>134145</td>\n",
       "    </tr>\n",
       "    <tr>\n",
       "      <th>3</th>\n",
       "      <td>intersection</td>\n",
       "      <td>50343</td>\n",
       "    </tr>\n",
       "  </tbody>\n",
       "</table>\n",
       "</div>"
      ],
      "text/plain": [
       "  location_type  count_case\n",
       "0          None     1462555\n",
       "1       highway      822271\n",
       "2          ramp      134145\n",
       "3  intersection       50343"
      ]
     },
     "execution_count": 43,
     "metadata": {},
     "output_type": "execute_result"
    }
   ],
   "source": [
    "df_location_type"
   ]
  },
  {
   "cell_type": "code",
   "execution_count": 44,
   "id": "718b5c33",
   "metadata": {},
   "outputs": [
    {
     "data": {
      "image/png": "[encoded data removed]",
      "text/plain": [
       "<Figure size 576x648 with 1 Axes>"
      ]
     },
     "metadata": {},
     "output_type": "display_data"
    }
   ],
   "source": [
    "labels = df_location_type['location_type']\n",
    "sizes = df_location_type['count_case']\n",
    "\n",
    "fig1, ax1 = plt.subplots(figsize=(8, 9))\n",
    "ax1.pie(sizes, labels=labels, autopct='%1.1f%%',\n",
    "        shadow=True, startangle=90)\n",
    "ax1.set_title(\"Распределение происшествий в зависимости от типа дороги\")\n",
    "\n",
    "plt.show()"
   ]
  },
  {
   "cell_type": "markdown",
   "id": "15ae9e72",
   "metadata": {},
   "source": [
    "**Вывод**\n",
    "\n",
    "В большинстве случаев тип дороги не указан. Этот фактор нельзя будет использовать в дальнейшем при построении модели."
   ]
  },
  {
   "cell_type": "markdown",
   "id": "90c9db4b",
   "metadata": {},
   "source": [
    "#### Провести анализ количества происшествий в зависимости от физического состояния участника с участниками типа \"Car\"."
   ]
  },
  {
   "cell_type": "markdown",
   "id": "4aa8a2d0",
   "metadata": {},
   "source": [
    "**Описание задачи**\n",
    "\n",
    "Для участников типа \"Car\" провести анализ количества происшествий в зависимости от физического состояния участника."
   ]
  },
  {
   "cell_type": "markdown",
   "id": "1b0dd228",
   "metadata": {},
   "source": [
    "**Порядок выполнения**\n",
    "\n",
    "Объеденить таблицы \"collisions\" и \"parties\". Cгруппировать данные по столбцу \"party_drug_physical\", таблицы \"party_type\" и сделать \"срез\" по условию party_type = 'car' из таблицы \"parties\". Подсчитать количество происшествий, отсортировать количество происшествий по убыванию. Вывесть таблицу и гистограмму."
   ]
  },
  {
   "cell_type": "code",
   "execution_count": 45,
   "id": "d8610d83",
   "metadata": {},
   "outputs": [],
   "source": [
    "query = '''\n",
    "SELECT pa.party_drug_physical,\n",
    "       COUNT(co.case_id) as count_case\n",
    "FROM collisions as co\n",
    "INNER JOIN parties pa ON co.case_id = pa.case_id\n",
    "WHERE pa.party_type = 'car' \n",
    "GROUP BY pa.party_drug_physical \n",
    "ORDER BY count_case desc;\n",
    "'''\n",
    "\n",
    "df_party_drug_physical = pd.read_sql_query(query, con=engine)"
   ]
  },
  {
   "cell_type": "code",
   "execution_count": 46,
   "id": "ad3765d6",
   "metadata": {},
   "outputs": [
    {
     "data": {
      "text/html": [
       "<div>\n",
       "<style scoped>\n",
       "    .dataframe tbody tr th:only-of-type {\n",
       "        vertical-align: middle;\n",
       "    }\n",
       "\n",
       "    .dataframe tbody tr th {\n",
       "        vertical-align: top;\n",
       "    }\n",
       "\n",
       "    .dataframe thead th {\n",
       "        text-align: right;\n",
       "    }\n",
       "</style>\n",
       "<table border=\"1\" class=\"dataframe\">\n",
       "  <thead>\n",
       "    <tr style=\"text-align: right;\">\n",
       "      <th></th>\n",
       "      <th>party_drug_physical</th>\n",
       "      <th>count_case</th>\n",
       "    </tr>\n",
       "  </thead>\n",
       "  <tbody>\n",
       "    <tr>\n",
       "      <th>0</th>\n",
       "      <td>None</td>\n",
       "      <td>2191243</td>\n",
       "    </tr>\n",
       "    <tr>\n",
       "      <th>1</th>\n",
       "      <td>G</td>\n",
       "      <td>225085</td>\n",
       "    </tr>\n",
       "    <tr>\n",
       "      <th>2</th>\n",
       "      <td>not applicable</td>\n",
       "      <td>24024</td>\n",
       "    </tr>\n",
       "    <tr>\n",
       "      <th>3</th>\n",
       "      <td>sleepy/fatigued</td>\n",
       "      <td>12542</td>\n",
       "    </tr>\n",
       "    <tr>\n",
       "      <th>4</th>\n",
       "      <td>under drug influence</td>\n",
       "      <td>12361</td>\n",
       "    </tr>\n",
       "    <tr>\n",
       "      <th>5</th>\n",
       "      <td>impairment - physical</td>\n",
       "      <td>4059</td>\n",
       "    </tr>\n",
       "  </tbody>\n",
       "</table>\n",
       "</div>"
      ],
      "text/plain": [
       "     party_drug_physical  count_case\n",
       "0                   None     2191243\n",
       "1                      G      225085\n",
       "2         not applicable       24024\n",
       "3        sleepy/fatigued       12542\n",
       "4   under drug influence       12361\n",
       "5  impairment - physical        4059"
      ]
     },
     "execution_count": 46,
     "metadata": {},
     "output_type": "execute_result"
    }
   ],
   "source": [
    "df_party_drug_physical"
   ]
  },
  {
   "cell_type": "code",
   "execution_count": 47,
   "id": "e9b1059c",
   "metadata": {},
   "outputs": [
    {
     "data": {
      "image/png": "[encoded data removed]",
      "text/plain": [
       "<Figure size 432x288 with 1 Axes>"
      ]
     },
     "metadata": {
      "needs_background": "light"
     },
     "output_type": "display_data"
    },
    {
     "data": {
      "text/plain": [
       "<Figure size 1080x576 with 0 Axes>"
      ]
     },
     "metadata": {},
     "output_type": "display_data"
    }
   ],
   "source": [
    "sns.barplot(data = df_party_drug_physical, x='party_drug_physical', y='count_case')\n",
    "plt.title('Распределение происшествий в зависимости от физического состояния')\n",
    "plt.xticks(rotation=90)\n",
    "plt.xlabel('Физическое состояние')\n",
    "plt.ylabel('Количество происшествий')\n",
    "plt.figure(figsize=(15, 8))\n",
    "plt.show()"
   ]
  },
  {
   "cell_type": "markdown",
   "id": "fd9ab656",
   "metadata": {},
   "source": [
    "**Вывод** \n",
    "\n",
    "В подавляющем большинстве случаев состояние либо не указано, либо не известно, либо не оценивалось. Данный фактор нельзя использовать для дальнейшего построения модели."
   ]
  },
  {
   "cell_type": "markdown",
   "id": "1a604030",
   "metadata": {},
   "source": [
    "## Создайте модель для оценки водительского риска"
   ]
  },
  {
   "cell_type": "markdown",
   "id": "08cb5b15",
   "metadata": {},
   "source": [
    "###  Отбор данных для построение модели"
   ]
  },
  {
   "cell_type": "code",
   "execution_count": 48,
   "id": "992b7d3f",
   "metadata": {},
   "outputs": [],
   "source": [
    "query = '''\n",
    "WITH \n",
    "  p as(\n",
    "        SELECT distinct case_id,\n",
    "               at_fault,\n",
    "               party_type, \n",
    "               party_sobriety,\n",
    "               party_drug_physical,\n",
    "               cellphone_in_use\n",
    "        FROM parties),\n",
    "  c as (\n",
    "        SELECT distinct case_id,\n",
    "               weather_1,\n",
    "               road_surface,\n",
    "               lighting,\n",
    "               road_condition_1,\n",
    "               collision_date,\n",
    "               collision_damage,\n",
    "               intersection,\n",
    "               control_device\n",
    "        FROM collisions),\n",
    "  v as (\n",
    "        SELECT distinct case_id,\n",
    "               vehicle_age\n",
    "        FROM vehicles),\n",
    "  c_i as (\n",
    "          SELECT distinct case_id\n",
    "          FROM case_ids)\n",
    "          \n",
    "SELECT p.at_fault,\n",
    "       p.party_sobriety,\n",
    "       c.road_surface,\n",
    "       c.lighting,\n",
    "       c.road_condition_1,\n",
    "       v.vehicle_age,\n",
    "       c.intersection,\n",
    "       p.cellphone_in_use,\n",
    "       c.control_device,\n",
    "       c.weather_1\n",
    "FROM c_i\n",
    "JOIN p on c_i.case_id = p.case_id\n",
    "JOIN c on c_i.case_id = c.case_id\n",
    "JOIN v on c_i.case_id = v.case_id\n",
    "WHERE party_type = 'car'\n",
    "  AND collision_date between '2012-01-01' AND '2013-01-01'\n",
    "  AND collision_damage != 'scratch'\n",
    "'''\n",
    "\n",
    "df = pd.read_sql_query(query, con=engine)"
   ]
  },
  {
   "cell_type": "code",
   "execution_count": 49,
   "id": "e4f2e8e2",
   "metadata": {},
   "outputs": [
    {
     "data": {
      "text/html": [
       "<div>\n",
       "<style scoped>\n",
       "    .dataframe tbody tr th:only-of-type {\n",
       "        vertical-align: middle;\n",
       "    }\n",
       "\n",
       "    .dataframe tbody tr th {\n",
       "        vertical-align: top;\n",
       "    }\n",
       "\n",
       "    .dataframe thead th {\n",
       "        text-align: right;\n",
       "    }\n",
       "</style>\n",
       "<table border=\"1\" class=\"dataframe\">\n",
       "  <thead>\n",
       "    <tr style=\"text-align: right;\">\n",
       "      <th></th>\n",
       "      <th>at_fault</th>\n",
       "      <th>party_sobriety</th>\n",
       "      <th>road_surface</th>\n",
       "      <th>lighting</th>\n",
       "      <th>road_condition_1</th>\n",
       "      <th>vehicle_age</th>\n",
       "      <th>intersection</th>\n",
       "      <th>cellphone_in_use</th>\n",
       "      <th>control_device</th>\n",
       "      <th>weather_1</th>\n",
       "    </tr>\n",
       "  </thead>\n",
       "  <tbody>\n",
       "    <tr>\n",
       "      <th>0</th>\n",
       "      <td>0</td>\n",
       "      <td>had not been drinking</td>\n",
       "      <td>dry</td>\n",
       "      <td>daylight</td>\n",
       "      <td>other</td>\n",
       "      <td>2.0</td>\n",
       "      <td>1.0</td>\n",
       "      <td>0.0</td>\n",
       "      <td>none</td>\n",
       "      <td>cloudy</td>\n",
       "    </tr>\n",
       "    <tr>\n",
       "      <th>1</th>\n",
       "      <td>1</td>\n",
       "      <td>had not been drinking</td>\n",
       "      <td>dry</td>\n",
       "      <td>daylight</td>\n",
       "      <td>other</td>\n",
       "      <td>2.0</td>\n",
       "      <td>1.0</td>\n",
       "      <td>0.0</td>\n",
       "      <td>none</td>\n",
       "      <td>cloudy</td>\n",
       "    </tr>\n",
       "    <tr>\n",
       "      <th>2</th>\n",
       "      <td>0</td>\n",
       "      <td>had not been drinking</td>\n",
       "      <td>dry</td>\n",
       "      <td>daylight</td>\n",
       "      <td>normal</td>\n",
       "      <td>5.0</td>\n",
       "      <td>1.0</td>\n",
       "      <td>0.0</td>\n",
       "      <td>none</td>\n",
       "      <td>clear</td>\n",
       "    </tr>\n",
       "    <tr>\n",
       "      <th>3</th>\n",
       "      <td>1</td>\n",
       "      <td>had not been drinking</td>\n",
       "      <td>dry</td>\n",
       "      <td>daylight</td>\n",
       "      <td>normal</td>\n",
       "      <td>5.0</td>\n",
       "      <td>1.0</td>\n",
       "      <td>0.0</td>\n",
       "      <td>none</td>\n",
       "      <td>clear</td>\n",
       "    </tr>\n",
       "    <tr>\n",
       "      <th>4</th>\n",
       "      <td>0</td>\n",
       "      <td>had not been drinking</td>\n",
       "      <td>dry</td>\n",
       "      <td>daylight</td>\n",
       "      <td>normal</td>\n",
       "      <td>1.0</td>\n",
       "      <td>1.0</td>\n",
       "      <td>0.0</td>\n",
       "      <td>functioning</td>\n",
       "      <td>clear</td>\n",
       "    </tr>\n",
       "  </tbody>\n",
       "</table>\n",
       "</div>"
      ],
      "text/plain": [
       "   at_fault         party_sobriety road_surface  lighting road_condition_1  \\\n",
       "0         0  had not been drinking          dry  daylight            other   \n",
       "1         1  had not been drinking          dry  daylight            other   \n",
       "2         0  had not been drinking          dry  daylight           normal   \n",
       "3         1  had not been drinking          dry  daylight           normal   \n",
       "4         0  had not been drinking          dry  daylight           normal   \n",
       "\n",
       "   vehicle_age  intersection  cellphone_in_use control_device weather_1  \n",
       "0          2.0           1.0               0.0           none    cloudy  \n",
       "1          2.0           1.0               0.0           none    cloudy  \n",
       "2          5.0           1.0               0.0           none     clear  \n",
       "3          5.0           1.0               0.0           none     clear  \n",
       "4          1.0           1.0               0.0    functioning     clear  "
      ]
     },
     "execution_count": 49,
     "metadata": {},
     "output_type": "execute_result"
    }
   ],
   "source": [
    "df.head(5)"
   ]
  },
  {
   "cell_type": "markdown",
   "id": "6191987f",
   "metadata": {},
   "source": [
    "**Вывод**"
   ]
  },
  {
   "cell_type": "markdown",
   "id": "a35d18b1",
   "metadata": {},
   "source": [
    "Для создания модели были отобраны следующие признаки:\n",
    "\n",
    "- 'at_fault' - Целевой признак. Таблица parties\n",
    "- 'party_sobriety' - Уровень трезвости виновника (точно может влиять) Таблица parties\n",
    "- 'cellphone_in_use' - Возможность говорить по громкой связи в машине или нет (может отвлекать водителя, а соответственно влиять). Таблица parties\n",
    "- 'weather_1' - Погода (Ухудшение погоды может ухудшать видимость и состояние дорожного покрытия, следовательно может влиять). Таблица collisions\n",
    "- 'road_surface' - Состояние дороги (Дополнительные риски при езде, может влиять). Таблица collisions\n",
    "- 'lighting' - Освещение (Влияет на видимость, соответственно может влиять). Таблица collisions\n",
    "- 'road_condition_1' - Дорожное состояние (Дополнительные риски при езде, может влиять). Таблица collisions\n",
    "- 'intersections' - Является ли перекрестком. (Перекрёсток это пересечение направлений движения потока, соответственно риск столкновений увеличивается, может влиять) Таблица collisions\n",
    "- 'control_device' - Устройство управления (Не корректно функционирующие устройства управления привносят дополнительные риски, может влиять). Таблица collisions\n",
    "- 'vehicle_age' - Возраст автомобиля (Косвенно влияет на состояние автомобиля, может влиять). Таблица vehicles"
   ]
  },
  {
   "cell_type": "markdown",
   "id": "c5cd025c",
   "metadata": {},
   "source": [
    "###  Статистическое исследование отобранных факторов"
   ]
  },
  {
   "cell_type": "markdown",
   "id": "e0401e67",
   "metadata": {},
   "source": [
    "В начале посмотрим общую информацию."
   ]
  },
  {
   "cell_type": "code",
   "execution_count": 50,
   "id": "dd9fbb4f",
   "metadata": {},
   "outputs": [
    {
     "name": "stdout",
     "output_type": "stream",
     "text": [
      "<class 'pandas.core.frame.DataFrame'>\n",
      "RangeIndex: 101523 entries, 0 to 101522\n",
      "Data columns (total 10 columns):\n",
      " #   Column            Non-Null Count   Dtype  \n",
      "---  ------            --------------   -----  \n",
      " 0   at_fault          101523 non-null  int64  \n",
      " 1   party_sobriety    99951 non-null   object \n",
      " 2   road_surface      100910 non-null  object \n",
      " 3   lighting          101245 non-null  object \n",
      " 4   road_condition_1  101073 non-null  object \n",
      " 5   vehicle_age       98622 non-null   float64\n",
      " 6   intersection      101186 non-null  float64\n",
      " 7   cellphone_in_use  91676 non-null   float64\n",
      " 8   control_device    101124 non-null  object \n",
      " 9   weather_1         101215 non-null  object \n",
      "dtypes: float64(3), int64(1), object(6)\n",
      "memory usage: 7.7+ MB\n"
     ]
    }
   ],
   "source": [
    "df.info()"
   ]
  },
  {
   "cell_type": "markdown",
   "id": "b2902493",
   "metadata": {},
   "source": [
    "#### Работа с пропусками."
   ]
  },
  {
   "cell_type": "code",
   "execution_count": 51,
   "id": "eda25542",
   "metadata": {},
   "outputs": [
    {
     "data": {
      "text/plain": [
       "at_fault               0\n",
       "party_sobriety      1572\n",
       "road_surface         613\n",
       "lighting             278\n",
       "road_condition_1     450\n",
       "vehicle_age         2901\n",
       "intersection         337\n",
       "cellphone_in_use    9847\n",
       "control_device       399\n",
       "weather_1            308\n",
       "dtype: int64"
      ]
     },
     "execution_count": 51,
     "metadata": {},
     "output_type": "execute_result"
    }
   ],
   "source": [
    "df.isna().sum()"
   ]
  },
  {
   "cell_type": "markdown",
   "id": "c9953cae",
   "metadata": {},
   "source": [
    "Удалим данные с пропусками в тех случаях, где мы не можем их заполнить."
   ]
  },
  {
   "cell_type": "code",
   "execution_count": 52,
   "id": "274f6415",
   "metadata": {},
   "outputs": [],
   "source": [
    "df = df.dropna(subset = ['control_device','party_sobriety', 'cellphone_in_use','weather_1','road_surface','lighting','road_condition_1', 'intersection'])"
   ]
  },
  {
   "cell_type": "markdown",
   "id": "3b436a5e",
   "metadata": {},
   "source": [
    "Возраст автомобиля заполним медианным значением"
   ]
  },
  {
   "cell_type": "code",
   "execution_count": 53,
   "id": "e3ee2025",
   "metadata": {},
   "outputs": [],
   "source": [
    "df=df.fillna(df['vehicle_age'].median())"
   ]
  },
  {
   "cell_type": "code",
   "execution_count": 54,
   "id": "c43b2b8b",
   "metadata": {},
   "outputs": [
    {
     "data": {
      "text/plain": [
       "at_fault            0\n",
       "party_sobriety      0\n",
       "road_surface        0\n",
       "lighting            0\n",
       "road_condition_1    0\n",
       "vehicle_age         0\n",
       "intersection        0\n",
       "cellphone_in_use    0\n",
       "control_device      0\n",
       "weather_1           0\n",
       "dtype: int64"
      ]
     },
     "execution_count": 54,
     "metadata": {},
     "output_type": "execute_result"
    }
   ],
   "source": [
    "df.isna().sum()"
   ]
  },
  {
   "cell_type": "markdown",
   "id": "55af5c8a",
   "metadata": {},
   "source": [
    "**Вывод**\n",
    "\n",
    "С пропусками разобрались"
   ]
  },
  {
   "cell_type": "markdown",
   "id": "4378bf58",
   "metadata": {},
   "source": [
    "#### Работа с дубликатами."
   ]
  },
  {
   "cell_type": "code",
   "execution_count": 55,
   "id": "e8564378",
   "metadata": {},
   "outputs": [
    {
     "data": {
      "text/plain": [
       "array(['had not been drinking', 'had been drinking, under influence',\n",
       "       'had been drinking, impairment unknown',\n",
       "       'had been drinking, not under influence', 'impairment unknown',\n",
       "       'not applicable'], dtype=object)"
      ]
     },
     "execution_count": 55,
     "metadata": {},
     "output_type": "execute_result"
    }
   ],
   "source": [
    "df['party_sobriety'].unique()"
   ]
  },
  {
   "cell_type": "code",
   "execution_count": 56,
   "id": "7434cc54",
   "metadata": {},
   "outputs": [
    {
     "data": {
      "text/plain": [
       "array(['daylight', 'dark with street lights', 'dusk or dawn',\n",
       "       'dark with no street lights',\n",
       "       'dark with street lights not functioning'], dtype=object)"
      ]
     },
     "execution_count": 56,
     "metadata": {},
     "output_type": "execute_result"
    }
   ],
   "source": [
    "df['lighting'].unique()"
   ]
  },
  {
   "cell_type": "code",
   "execution_count": 57,
   "id": "4e6cd7e2",
   "metadata": {},
   "outputs": [
    {
     "data": {
      "text/plain": [
       "array(['dry', 'wet', 'snowy', 'slippery'], dtype=object)"
      ]
     },
     "execution_count": 57,
     "metadata": {},
     "output_type": "execute_result"
    }
   ],
   "source": [
    "df['road_surface'].unique()"
   ]
  },
  {
   "cell_type": "code",
   "execution_count": 58,
   "id": "1b1ccb00",
   "metadata": {},
   "outputs": [
    {
     "data": {
      "text/plain": [
       "array(['other', 'normal', 'loose material', 'construction',\n",
       "       'reduced width', 'obstruction', 'holes', 'flooded'], dtype=object)"
      ]
     },
     "execution_count": 58,
     "metadata": {},
     "output_type": "execute_result"
    }
   ],
   "source": [
    "df['road_condition_1'].unique()"
   ]
  },
  {
   "cell_type": "code",
   "execution_count": 59,
   "id": "8e332003",
   "metadata": {},
   "outputs": [
    {
     "data": {
      "text/plain": [
       "array(['none', 'functioning', 'not functioning', 'obscured'], dtype=object)"
      ]
     },
     "execution_count": 59,
     "metadata": {},
     "output_type": "execute_result"
    }
   ],
   "source": [
    "df['control_device'].unique()"
   ]
  },
  {
   "cell_type": "code",
   "execution_count": 60,
   "id": "266bef90",
   "metadata": {},
   "outputs": [
    {
     "data": {
      "text/plain": [
       "array(['cloudy', 'clear', 'other', 'raining', 'fog', 'wind', 'snowing'],\n",
       "      dtype=object)"
      ]
     },
     "execution_count": 60,
     "metadata": {},
     "output_type": "execute_result"
    }
   ],
   "source": [
    "df['weather_1'].unique()"
   ]
  },
  {
   "cell_type": "markdown",
   "id": "4ade4589",
   "metadata": {},
   "source": [
    "**Вывод**\n",
    "\n",
    "В категорильных столбцах не явных дубликатов не обнаружено, проверять полные дубликаты по тем данным, что мы отобрали не имеет смысла, т.к. мы не включили в выборку номер происшествия, но при отборе данных использовали уникальные номера. Из-за того что не так много вариантов и при этом есть \"популярные\" дубликаты могут пявится."
   ]
  },
  {
   "cell_type": "markdown",
   "id": "5282b04c",
   "metadata": {},
   "source": [
    "####  Статистическое исследование"
   ]
  },
  {
   "cell_type": "code",
   "execution_count": 61,
   "id": "b1fb542d",
   "metadata": {},
   "outputs": [
    {
     "data": {
      "text/html": [
       "<div>\n",
       "<style scoped>\n",
       "    .dataframe tbody tr th:only-of-type {\n",
       "        vertical-align: middle;\n",
       "    }\n",
       "\n",
       "    .dataframe tbody tr th {\n",
       "        vertical-align: top;\n",
       "    }\n",
       "\n",
       "    .dataframe thead th {\n",
       "        text-align: right;\n",
       "    }\n",
       "</style>\n",
       "<table border=\"1\" class=\"dataframe\">\n",
       "  <thead>\n",
       "    <tr style=\"text-align: right;\">\n",
       "      <th></th>\n",
       "      <th>at_fault</th>\n",
       "      <th>vehicle_age</th>\n",
       "      <th>intersection</th>\n",
       "      <th>cellphone_in_use</th>\n",
       "    </tr>\n",
       "  </thead>\n",
       "  <tbody>\n",
       "    <tr>\n",
       "      <th>count</th>\n",
       "      <td>89151.000000</td>\n",
       "      <td>89151.000000</td>\n",
       "      <td>89151.000000</td>\n",
       "      <td>89151.000000</td>\n",
       "    </tr>\n",
       "    <tr>\n",
       "      <th>mean</th>\n",
       "      <td>0.525378</td>\n",
       "      <td>4.892149</td>\n",
       "      <td>0.224215</td>\n",
       "      <td>0.021110</td>\n",
       "    </tr>\n",
       "    <tr>\n",
       "      <th>std</th>\n",
       "      <td>0.499358</td>\n",
       "      <td>3.285325</td>\n",
       "      <td>0.417067</td>\n",
       "      <td>0.143753</td>\n",
       "    </tr>\n",
       "    <tr>\n",
       "      <th>min</th>\n",
       "      <td>0.000000</td>\n",
       "      <td>0.000000</td>\n",
       "      <td>0.000000</td>\n",
       "      <td>0.000000</td>\n",
       "    </tr>\n",
       "    <tr>\n",
       "      <th>25%</th>\n",
       "      <td>0.000000</td>\n",
       "      <td>3.000000</td>\n",
       "      <td>0.000000</td>\n",
       "      <td>0.000000</td>\n",
       "    </tr>\n",
       "    <tr>\n",
       "      <th>50%</th>\n",
       "      <td>1.000000</td>\n",
       "      <td>4.000000</td>\n",
       "      <td>0.000000</td>\n",
       "      <td>0.000000</td>\n",
       "    </tr>\n",
       "    <tr>\n",
       "      <th>75%</th>\n",
       "      <td>1.000000</td>\n",
       "      <td>7.000000</td>\n",
       "      <td>0.000000</td>\n",
       "      <td>0.000000</td>\n",
       "    </tr>\n",
       "    <tr>\n",
       "      <th>max</th>\n",
       "      <td>1.000000</td>\n",
       "      <td>161.000000</td>\n",
       "      <td>1.000000</td>\n",
       "      <td>1.000000</td>\n",
       "    </tr>\n",
       "  </tbody>\n",
       "</table>\n",
       "</div>"
      ],
      "text/plain": [
       "           at_fault   vehicle_age  intersection  cellphone_in_use\n",
       "count  89151.000000  89151.000000  89151.000000      89151.000000\n",
       "mean       0.525378      4.892149      0.224215          0.021110\n",
       "std        0.499358      3.285325      0.417067          0.143753\n",
       "min        0.000000      0.000000      0.000000          0.000000\n",
       "25%        0.000000      3.000000      0.000000          0.000000\n",
       "50%        1.000000      4.000000      0.000000          0.000000\n",
       "75%        1.000000      7.000000      0.000000          0.000000\n",
       "max        1.000000    161.000000      1.000000          1.000000"
      ]
     },
     "execution_count": 61,
     "metadata": {},
     "output_type": "execute_result"
    }
   ],
   "source": [
    "df.describe()"
   ]
  },
  {
   "cell_type": "markdown",
   "id": "7fb1a56d",
   "metadata": {},
   "source": [
    "Вызывает подозрение максимальный возраст автомобиля 161 год, разберёмся с этим показателем по подробней."
   ]
  },
  {
   "cell_type": "code",
   "execution_count": 62,
   "id": "0db2b807",
   "metadata": {},
   "outputs": [
    {
     "data": {
      "image/png": "[encoded data removed]",
      "text/plain": [
       "<Figure size 432x288 with 1 Axes>"
      ]
     },
     "metadata": {
      "needs_background": "light"
     },
     "output_type": "display_data"
    }
   ],
   "source": [
    "plt.hist(df['vehicle_age'], bins=50)\n",
    "plt.title('Гистограмма количества автомобилей в зависимости от возраста')\n",
    "plt.xlabel('Возраст автомобиля')\n",
    "plt.ylabel('Количество автомобилей')\n",
    "plt.show()"
   ]
  },
  {
   "cell_type": "markdown",
   "id": "d8b9f572",
   "metadata": {},
   "source": [
    "Большая часть автомобилей имеет возраст до 20 лет, ограничем этим значением нашу выборку."
   ]
  },
  {
   "cell_type": "code",
   "execution_count": 63,
   "id": "5df39e37",
   "metadata": {},
   "outputs": [],
   "source": [
    "df = df.query('vehicle_age <= 20').reset_index(drop=True)"
   ]
  },
  {
   "cell_type": "code",
   "execution_count": 64,
   "id": "8e0c990c",
   "metadata": {},
   "outputs": [
    {
     "data": {
      "text/html": [
       "<div>\n",
       "<style scoped>\n",
       "    .dataframe tbody tr th:only-of-type {\n",
       "        vertical-align: middle;\n",
       "    }\n",
       "\n",
       "    .dataframe tbody tr th {\n",
       "        vertical-align: top;\n",
       "    }\n",
       "\n",
       "    .dataframe thead th {\n",
       "        text-align: right;\n",
       "    }\n",
       "</style>\n",
       "<table border=\"1\" class=\"dataframe\">\n",
       "  <thead>\n",
       "    <tr style=\"text-align: right;\">\n",
       "      <th></th>\n",
       "      <th>at_fault</th>\n",
       "      <th>vehicle_age</th>\n",
       "      <th>intersection</th>\n",
       "      <th>cellphone_in_use</th>\n",
       "    </tr>\n",
       "  </thead>\n",
       "  <tbody>\n",
       "    <tr>\n",
       "      <th>count</th>\n",
       "      <td>89147.000000</td>\n",
       "      <td>89147.000000</td>\n",
       "      <td>89147.000000</td>\n",
       "      <td>89147.000000</td>\n",
       "    </tr>\n",
       "    <tr>\n",
       "      <th>mean</th>\n",
       "      <td>0.525379</td>\n",
       "      <td>4.885145</td>\n",
       "      <td>0.224203</td>\n",
       "      <td>0.021111</td>\n",
       "    </tr>\n",
       "    <tr>\n",
       "      <th>std</th>\n",
       "      <td>0.499358</td>\n",
       "      <td>3.114534</td>\n",
       "      <td>0.417059</td>\n",
       "      <td>0.143756</td>\n",
       "    </tr>\n",
       "    <tr>\n",
       "      <th>min</th>\n",
       "      <td>0.000000</td>\n",
       "      <td>0.000000</td>\n",
       "      <td>0.000000</td>\n",
       "      <td>0.000000</td>\n",
       "    </tr>\n",
       "    <tr>\n",
       "      <th>25%</th>\n",
       "      <td>0.000000</td>\n",
       "      <td>3.000000</td>\n",
       "      <td>0.000000</td>\n",
       "      <td>0.000000</td>\n",
       "    </tr>\n",
       "    <tr>\n",
       "      <th>50%</th>\n",
       "      <td>1.000000</td>\n",
       "      <td>4.000000</td>\n",
       "      <td>0.000000</td>\n",
       "      <td>0.000000</td>\n",
       "    </tr>\n",
       "    <tr>\n",
       "      <th>75%</th>\n",
       "      <td>1.000000</td>\n",
       "      <td>7.000000</td>\n",
       "      <td>0.000000</td>\n",
       "      <td>0.000000</td>\n",
       "    </tr>\n",
       "    <tr>\n",
       "      <th>max</th>\n",
       "      <td>1.000000</td>\n",
       "      <td>19.000000</td>\n",
       "      <td>1.000000</td>\n",
       "      <td>1.000000</td>\n",
       "    </tr>\n",
       "  </tbody>\n",
       "</table>\n",
       "</div>"
      ],
      "text/plain": [
       "           at_fault   vehicle_age  intersection  cellphone_in_use\n",
       "count  89147.000000  89147.000000  89147.000000      89147.000000\n",
       "mean       0.525379      4.885145      0.224203          0.021111\n",
       "std        0.499358      3.114534      0.417059          0.143756\n",
       "min        0.000000      0.000000      0.000000          0.000000\n",
       "25%        0.000000      3.000000      0.000000          0.000000\n",
       "50%        1.000000      4.000000      0.000000          0.000000\n",
       "75%        1.000000      7.000000      0.000000          0.000000\n",
       "max        1.000000     19.000000      1.000000          1.000000"
      ]
     },
     "execution_count": 64,
     "metadata": {},
     "output_type": "execute_result"
    }
   ],
   "source": [
    "df.describe()"
   ]
  },
  {
   "cell_type": "code",
   "execution_count": 65,
   "id": "3fd3c5ff",
   "metadata": {},
   "outputs": [
    {
     "data": {
      "text/plain": [
       "dtype('int64')"
      ]
     },
     "execution_count": 65,
     "metadata": {},
     "output_type": "execute_result"
    }
   ],
   "source": [
    "df['vehicle_age'].astype('int').dtypes"
   ]
  },
  {
   "cell_type": "code",
   "execution_count": 66,
   "id": "a0fb7cbe",
   "metadata": {},
   "outputs": [
    {
     "data": {
      "text/plain": [
       "dtype('int64')"
      ]
     },
     "execution_count": 66,
     "metadata": {},
     "output_type": "execute_result"
    }
   ],
   "source": [
    "df['cellphone_in_use'].astype('int').dtypes"
   ]
  },
  {
   "cell_type": "code",
   "execution_count": 67,
   "id": "758af76c",
   "metadata": {},
   "outputs": [
    {
     "data": {
      "text/plain": [
       "dtype('int64')"
      ]
     },
     "execution_count": 67,
     "metadata": {},
     "output_type": "execute_result"
    }
   ],
   "source": [
    "df['intersection'].astype('int').dtypes"
   ]
  },
  {
   "cell_type": "markdown",
   "id": "8a68d8f3",
   "metadata": {},
   "source": [
    "**Вывод** \n",
    "\n",
    "Четыре автомобиля отсеялось данные готовы к построению моделей."
   ]
  },
  {
   "cell_type": "markdown",
   "id": "bb029d34",
   "metadata": {},
   "source": [
    "###  Подготовка данных к построению моделей"
   ]
  },
  {
   "cell_type": "markdown",
   "id": "906baddb",
   "metadata": {},
   "source": [
    "###  Разделение данных на тренировочную, тестовую и валидационную выборки"
   ]
  },
  {
   "cell_type": "code",
   "execution_count": 68,
   "id": "639eead5",
   "metadata": {},
   "outputs": [],
   "source": [
    "features = df.drop(['at_fault'], axis=1)\n",
    "target = df['at_fault']"
   ]
  },
  {
   "cell_type": "markdown",
   "id": "b85c4350",
   "metadata": {},
   "source": [
    "Разделим данные на три выборки: тренировочную, валидационную и тестовую в соотношении 60% - 20% - 20%."
   ]
  },
  {
   "cell_type": "code",
   "execution_count": 69,
   "id": "ddcba7c7",
   "metadata": {},
   "outputs": [],
   "source": [
    "features_train, features_valid, target_train, target_valid = train_test_split(\n",
    "    features, target, test_size=0.40, random_state=12345)\n",
    "# Отделяем обучающую выборку\n",
    "features_test, features_valid, target_test, target_valid = train_test_split(\n",
    "    features_valid, target_valid, test_size=0.50, random_state=12345)"
   ]
  },
  {
   "cell_type": "code",
   "execution_count": 70,
   "id": "22b5d34b",
   "metadata": {},
   "outputs": [
    {
     "name": "stdout",
     "output_type": "stream",
     "text": [
      "Размер тренировочной выборки (53488, 9)\n",
      "Размер валидационной выборки (17830, 9)\n",
      "Размер тестовой выборки (17829, 9)\n"
     ]
    }
   ],
   "source": [
    "print('Размер тренировочной выборки', features_train.shape)\n",
    "print('Размер валидационной выборки', features_valid.shape)\n",
    "print('Размер тестовой выборки', features_test.shape)"
   ]
  },
  {
   "cell_type": "markdown",
   "id": "678051d4",
   "metadata": {},
   "source": [
    "**Вывод**\n",
    "\n",
    "Данные разделены на выборки для последующего обучения моделей."
   ]
  },
  {
   "cell_type": "markdown",
   "id": "1007d7f8",
   "metadata": {},
   "source": [
    "###  Кодирование признаков"
   ]
  },
  {
   "cell_type": "markdown",
   "id": "3ba69bf8",
   "metadata": {},
   "source": [
    "Выделим численные и категорильные признаки.\n",
    "Признаки 'intersection' и 'cellphone_in_use' по факту тоже категорильные, но они уже принимают значение 0 либо 1, по этому не будем их кодировать. "
   ]
  },
  {
   "cell_type": "code",
   "execution_count": 71,
   "id": "6d052cbd",
   "metadata": {},
   "outputs": [],
   "source": [
    "numeric = ['vehicle_age']\n",
    "category = ['party_sobriety', 'road_surface', 'lighting', 'road_condition_1', 'control_device', 'weather_1']\n",
    "uncoded = ['intersection', 'cellphone_in_use']"
   ]
  },
  {
   "cell_type": "code",
   "execution_count": 72,
   "id": "bd2151af",
   "metadata": {},
   "outputs": [],
   "source": [
    "features_train_numeric = features_train[numeric].reset_index(drop=True)\n",
    "features_valid_numeric = features_valid[numeric].reset_index(drop=True)\n",
    "features_test_numeric = features_test[numeric].reset_index(drop=True)\n",
    "\n",
    "features_train_category = features_train[category].reset_index(drop=True)\n",
    "features_valid_category = features_valid[category].reset_index(drop=True)\n",
    "features_test_category = features_test[category]\n",
    "\n",
    "features_train_uncoded = features_train[uncoded].reset_index(drop=True) \n",
    "features_valid_uncoded = features_valid[uncoded].reset_index(drop=True)\n",
    "features_test_uncoded = features_test[uncoded].reset_index(drop=True)\n"
   ]
  },
  {
   "cell_type": "markdown",
   "id": "3298c8c9",
   "metadata": {},
   "source": [
    "Сначала закодируем категорильные признаки с помощью OneHotEncoder."
   ]
  },
  {
   "cell_type": "code",
   "execution_count": 73,
   "id": "0f8e9d39",
   "metadata": {},
   "outputs": [],
   "source": [
    "ohe = OneHotEncoder(handle_unknown='ignore',sparse=False)\n",
    "\n",
    "\n",
    "feature_arr = ohe.fit_transform(features_train_category)\n",
    "feature_labels = ohe.get_feature_names(features_train_category.columns)\n",
    "features_train_ohe = pd.DataFrame(feature_arr, columns=feature_labels)\n",
    "\n",
    "feature_arr_1 = ohe.fit_transform(features_valid_category)\n",
    "feature_labels_1 = ohe.get_feature_names(features_valid_category.columns)\n",
    "features_valid_ohe = pd.DataFrame(feature_arr_1, columns=feature_labels_1)\n",
    "\n",
    "feature_arr_2 = ohe.fit_transform(features_test_category)\n",
    "feature_labels_2 = ohe.get_feature_names(features_test_category.columns)\n",
    "features_test_ohe = pd.DataFrame(feature_arr_2, columns=feature_labels_2)"
   ]
  },
  {
   "cell_type": "code",
   "execution_count": 74,
   "id": "24e9b25b",
   "metadata": {},
   "outputs": [
    {
     "data": {
      "text/html": [
       "<div>\n",
       "<style scoped>\n",
       "    .dataframe tbody tr th:only-of-type {\n",
       "        vertical-align: middle;\n",
       "    }\n",
       "\n",
       "    .dataframe tbody tr th {\n",
       "        vertical-align: top;\n",
       "    }\n",
       "\n",
       "    .dataframe thead th {\n",
       "        text-align: right;\n",
       "    }\n",
       "</style>\n",
       "<table border=\"1\" class=\"dataframe\">\n",
       "  <thead>\n",
       "    <tr style=\"text-align: right;\">\n",
       "      <th></th>\n",
       "      <th>party_sobriety_had been drinking, impairment unknown</th>\n",
       "      <th>party_sobriety_had been drinking, not under influence</th>\n",
       "      <th>party_sobriety_had been drinking, under influence</th>\n",
       "      <th>party_sobriety_had not been drinking</th>\n",
       "      <th>party_sobriety_impairment unknown</th>\n",
       "      <th>party_sobriety_not applicable</th>\n",
       "      <th>road_surface_dry</th>\n",
       "      <th>road_surface_slippery</th>\n",
       "      <th>road_surface_snowy</th>\n",
       "      <th>road_surface_wet</th>\n",
       "      <th>...</th>\n",
       "      <th>control_device_none</th>\n",
       "      <th>control_device_not functioning</th>\n",
       "      <th>control_device_obscured</th>\n",
       "      <th>weather_1_clear</th>\n",
       "      <th>weather_1_cloudy</th>\n",
       "      <th>weather_1_fog</th>\n",
       "      <th>weather_1_other</th>\n",
       "      <th>weather_1_raining</th>\n",
       "      <th>weather_1_snowing</th>\n",
       "      <th>weather_1_wind</th>\n",
       "    </tr>\n",
       "  </thead>\n",
       "  <tbody>\n",
       "    <tr>\n",
       "      <th>0</th>\n",
       "      <td>0.0</td>\n",
       "      <td>0.0</td>\n",
       "      <td>0.0</td>\n",
       "      <td>1.0</td>\n",
       "      <td>0.0</td>\n",
       "      <td>0.0</td>\n",
       "      <td>1.0</td>\n",
       "      <td>0.0</td>\n",
       "      <td>0.0</td>\n",
       "      <td>0.0</td>\n",
       "      <td>...</td>\n",
       "      <td>0.0</td>\n",
       "      <td>0.0</td>\n",
       "      <td>0.0</td>\n",
       "      <td>1.0</td>\n",
       "      <td>0.0</td>\n",
       "      <td>0.0</td>\n",
       "      <td>0.0</td>\n",
       "      <td>0.0</td>\n",
       "      <td>0.0</td>\n",
       "      <td>0.0</td>\n",
       "    </tr>\n",
       "    <tr>\n",
       "      <th>1</th>\n",
       "      <td>0.0</td>\n",
       "      <td>0.0</td>\n",
       "      <td>1.0</td>\n",
       "      <td>0.0</td>\n",
       "      <td>0.0</td>\n",
       "      <td>0.0</td>\n",
       "      <td>1.0</td>\n",
       "      <td>0.0</td>\n",
       "      <td>0.0</td>\n",
       "      <td>0.0</td>\n",
       "      <td>...</td>\n",
       "      <td>1.0</td>\n",
       "      <td>0.0</td>\n",
       "      <td>0.0</td>\n",
       "      <td>1.0</td>\n",
       "      <td>0.0</td>\n",
       "      <td>0.0</td>\n",
       "      <td>0.0</td>\n",
       "      <td>0.0</td>\n",
       "      <td>0.0</td>\n",
       "      <td>0.0</td>\n",
       "    </tr>\n",
       "    <tr>\n",
       "      <th>2</th>\n",
       "      <td>0.0</td>\n",
       "      <td>0.0</td>\n",
       "      <td>0.0</td>\n",
       "      <td>1.0</td>\n",
       "      <td>0.0</td>\n",
       "      <td>0.0</td>\n",
       "      <td>1.0</td>\n",
       "      <td>0.0</td>\n",
       "      <td>0.0</td>\n",
       "      <td>0.0</td>\n",
       "      <td>...</td>\n",
       "      <td>1.0</td>\n",
       "      <td>0.0</td>\n",
       "      <td>0.0</td>\n",
       "      <td>1.0</td>\n",
       "      <td>0.0</td>\n",
       "      <td>0.0</td>\n",
       "      <td>0.0</td>\n",
       "      <td>0.0</td>\n",
       "      <td>0.0</td>\n",
       "      <td>0.0</td>\n",
       "    </tr>\n",
       "    <tr>\n",
       "      <th>3</th>\n",
       "      <td>0.0</td>\n",
       "      <td>0.0</td>\n",
       "      <td>0.0</td>\n",
       "      <td>1.0</td>\n",
       "      <td>0.0</td>\n",
       "      <td>0.0</td>\n",
       "      <td>0.0</td>\n",
       "      <td>0.0</td>\n",
       "      <td>0.0</td>\n",
       "      <td>1.0</td>\n",
       "      <td>...</td>\n",
       "      <td>1.0</td>\n",
       "      <td>0.0</td>\n",
       "      <td>0.0</td>\n",
       "      <td>0.0</td>\n",
       "      <td>0.0</td>\n",
       "      <td>0.0</td>\n",
       "      <td>0.0</td>\n",
       "      <td>1.0</td>\n",
       "      <td>0.0</td>\n",
       "      <td>0.0</td>\n",
       "    </tr>\n",
       "    <tr>\n",
       "      <th>4</th>\n",
       "      <td>0.0</td>\n",
       "      <td>0.0</td>\n",
       "      <td>0.0</td>\n",
       "      <td>1.0</td>\n",
       "      <td>0.0</td>\n",
       "      <td>0.0</td>\n",
       "      <td>1.0</td>\n",
       "      <td>0.0</td>\n",
       "      <td>0.0</td>\n",
       "      <td>0.0</td>\n",
       "      <td>...</td>\n",
       "      <td>1.0</td>\n",
       "      <td>0.0</td>\n",
       "      <td>0.0</td>\n",
       "      <td>1.0</td>\n",
       "      <td>0.0</td>\n",
       "      <td>0.0</td>\n",
       "      <td>0.0</td>\n",
       "      <td>0.0</td>\n",
       "      <td>0.0</td>\n",
       "      <td>0.0</td>\n",
       "    </tr>\n",
       "  </tbody>\n",
       "</table>\n",
       "<p>5 rows × 34 columns</p>\n",
       "</div>"
      ],
      "text/plain": [
       "   party_sobriety_had been drinking, impairment unknown  \\\n",
       "0                                                0.0      \n",
       "1                                                0.0      \n",
       "2                                                0.0      \n",
       "3                                                0.0      \n",
       "4                                                0.0      \n",
       "\n",
       "   party_sobriety_had been drinking, not under influence  \\\n",
       "0                                                0.0       \n",
       "1                                                0.0       \n",
       "2                                                0.0       \n",
       "3                                                0.0       \n",
       "4                                                0.0       \n",
       "\n",
       "   party_sobriety_had been drinking, under influence  \\\n",
       "0                                                0.0   \n",
       "1                                                1.0   \n",
       "2                                                0.0   \n",
       "3                                                0.0   \n",
       "4                                                0.0   \n",
       "\n",
       "   party_sobriety_had not been drinking  party_sobriety_impairment unknown  \\\n",
       "0                                   1.0                                0.0   \n",
       "1                                   0.0                                0.0   \n",
       "2                                   1.0                                0.0   \n",
       "3                                   1.0                                0.0   \n",
       "4                                   1.0                                0.0   \n",
       "\n",
       "   party_sobriety_not applicable  road_surface_dry  road_surface_slippery  \\\n",
       "0                            0.0               1.0                    0.0   \n",
       "1                            0.0               1.0                    0.0   \n",
       "2                            0.0               1.0                    0.0   \n",
       "3                            0.0               0.0                    0.0   \n",
       "4                            0.0               1.0                    0.0   \n",
       "\n",
       "   road_surface_snowy  road_surface_wet  ...  control_device_none  \\\n",
       "0                 0.0               0.0  ...                  0.0   \n",
       "1                 0.0               0.0  ...                  1.0   \n",
       "2                 0.0               0.0  ...                  1.0   \n",
       "3                 0.0               1.0  ...                  1.0   \n",
       "4                 0.0               0.0  ...                  1.0   \n",
       "\n",
       "   control_device_not functioning  control_device_obscured  weather_1_clear  \\\n",
       "0                             0.0                      0.0              1.0   \n",
       "1                             0.0                      0.0              1.0   \n",
       "2                             0.0                      0.0              1.0   \n",
       "3                             0.0                      0.0              0.0   \n",
       "4                             0.0                      0.0              1.0   \n",
       "\n",
       "   weather_1_cloudy  weather_1_fog  weather_1_other  weather_1_raining  \\\n",
       "0               0.0            0.0              0.0                0.0   \n",
       "1               0.0            0.0              0.0                0.0   \n",
       "2               0.0            0.0              0.0                0.0   \n",
       "3               0.0            0.0              0.0                1.0   \n",
       "4               0.0            0.0              0.0                0.0   \n",
       "\n",
       "   weather_1_snowing  weather_1_wind  \n",
       "0                0.0             0.0  \n",
       "1                0.0             0.0  \n",
       "2                0.0             0.0  \n",
       "3                0.0             0.0  \n",
       "4                0.0             0.0  \n",
       "\n",
       "[5 rows x 34 columns]"
      ]
     },
     "execution_count": 74,
     "metadata": {},
     "output_type": "execute_result"
    }
   ],
   "source": [
    "features_train_ohe.head(5)"
   ]
  },
  {
   "cell_type": "markdown",
   "id": "3d12ceb1",
   "metadata": {},
   "source": [
    "Теперь проведём масштабирование численных признаков."
   ]
  },
  {
   "cell_type": "code",
   "execution_count": 75,
   "id": "d4b58a6e",
   "metadata": {},
   "outputs": [],
   "source": [
    "scaler = StandardScaler()\n",
    "scaler.fit(features_train_numeric)\n",
    "\n",
    "features_scaled = scaler.transform(features_train_numeric)\n",
    "features_train_scaled = pd.DataFrame(features_scaled, columns=features_train_numeric.columns)\n",
    "\n",
    "features_scaled_1 = scaler.transform(features_valid_numeric)\n",
    "features_valid_scaled = pd.DataFrame(features_scaled_1, columns=features_valid_numeric.columns)\n",
    "\n",
    "features_scaled_2 = scaler.transform(features_test_numeric)\n",
    "features_test_scaled = pd.DataFrame(features_scaled_2, columns=features_test_numeric.columns)"
   ]
  },
  {
   "cell_type": "code",
   "execution_count": 76,
   "id": "5d2e4f6e",
   "metadata": {},
   "outputs": [
    {
     "data": {
      "text/plain": [
       "(53488, 2)"
      ]
     },
     "execution_count": 76,
     "metadata": {},
     "output_type": "execute_result"
    }
   ],
   "source": [
    "features_train_scaled.head(5)\n",
    "features_train_uncoded.shape"
   ]
  },
  {
   "cell_type": "code",
   "execution_count": 77,
   "id": "bdf10932",
   "metadata": {},
   "outputs": [],
   "source": [
    "features_train_coded = pd.concat([features_train_ohe, features_train_scaled, features_train_uncoded], axis=1)\n",
    "features_valid_coded = pd.concat([features_valid_ohe, features_valid_scaled, features_valid_uncoded], axis=1)\n",
    "features_test_coded = pd.concat([features_test_ohe, features_test_scaled, features_test_uncoded], axis=1)"
   ]
  },
  {
   "cell_type": "code",
   "execution_count": 78,
   "id": "a68d322c",
   "metadata": {},
   "outputs": [
    {
     "data": {
      "text/html": [
       "<div>\n",
       "<style scoped>\n",
       "    .dataframe tbody tr th:only-of-type {\n",
       "        vertical-align: middle;\n",
       "    }\n",
       "\n",
       "    .dataframe tbody tr th {\n",
       "        vertical-align: top;\n",
       "    }\n",
       "\n",
       "    .dataframe thead th {\n",
       "        text-align: right;\n",
       "    }\n",
       "</style>\n",
       "<table border=\"1\" class=\"dataframe\">\n",
       "  <thead>\n",
       "    <tr style=\"text-align: right;\">\n",
       "      <th></th>\n",
       "      <th>party_sobriety_had been drinking, impairment unknown</th>\n",
       "      <th>party_sobriety_had been drinking, not under influence</th>\n",
       "      <th>party_sobriety_had been drinking, under influence</th>\n",
       "      <th>party_sobriety_had not been drinking</th>\n",
       "      <th>party_sobriety_impairment unknown</th>\n",
       "      <th>party_sobriety_not applicable</th>\n",
       "      <th>road_surface_dry</th>\n",
       "      <th>road_surface_slippery</th>\n",
       "      <th>road_surface_snowy</th>\n",
       "      <th>road_surface_wet</th>\n",
       "      <th>...</th>\n",
       "      <th>weather_1_clear</th>\n",
       "      <th>weather_1_cloudy</th>\n",
       "      <th>weather_1_fog</th>\n",
       "      <th>weather_1_other</th>\n",
       "      <th>weather_1_raining</th>\n",
       "      <th>weather_1_snowing</th>\n",
       "      <th>weather_1_wind</th>\n",
       "      <th>vehicle_age</th>\n",
       "      <th>intersection</th>\n",
       "      <th>cellphone_in_use</th>\n",
       "    </tr>\n",
       "  </thead>\n",
       "  <tbody>\n",
       "    <tr>\n",
       "      <th>0</th>\n",
       "      <td>0.0</td>\n",
       "      <td>0.0</td>\n",
       "      <td>0.0</td>\n",
       "      <td>1.0</td>\n",
       "      <td>0.0</td>\n",
       "      <td>0.0</td>\n",
       "      <td>1.0</td>\n",
       "      <td>0.0</td>\n",
       "      <td>0.0</td>\n",
       "      <td>0.0</td>\n",
       "      <td>...</td>\n",
       "      <td>1.0</td>\n",
       "      <td>0.0</td>\n",
       "      <td>0.0</td>\n",
       "      <td>0.0</td>\n",
       "      <td>0.0</td>\n",
       "      <td>0.0</td>\n",
       "      <td>0.0</td>\n",
       "      <td>-1.566958</td>\n",
       "      <td>1.0</td>\n",
       "      <td>0.0</td>\n",
       "    </tr>\n",
       "    <tr>\n",
       "      <th>1</th>\n",
       "      <td>0.0</td>\n",
       "      <td>0.0</td>\n",
       "      <td>1.0</td>\n",
       "      <td>0.0</td>\n",
       "      <td>0.0</td>\n",
       "      <td>0.0</td>\n",
       "      <td>1.0</td>\n",
       "      <td>0.0</td>\n",
       "      <td>0.0</td>\n",
       "      <td>0.0</td>\n",
       "      <td>...</td>\n",
       "      <td>1.0</td>\n",
       "      <td>0.0</td>\n",
       "      <td>0.0</td>\n",
       "      <td>0.0</td>\n",
       "      <td>0.0</td>\n",
       "      <td>0.0</td>\n",
       "      <td>0.0</td>\n",
       "      <td>-0.605644</td>\n",
       "      <td>0.0</td>\n",
       "      <td>0.0</td>\n",
       "    </tr>\n",
       "    <tr>\n",
       "      <th>2</th>\n",
       "      <td>0.0</td>\n",
       "      <td>0.0</td>\n",
       "      <td>0.0</td>\n",
       "      <td>1.0</td>\n",
       "      <td>0.0</td>\n",
       "      <td>0.0</td>\n",
       "      <td>1.0</td>\n",
       "      <td>0.0</td>\n",
       "      <td>0.0</td>\n",
       "      <td>0.0</td>\n",
       "      <td>...</td>\n",
       "      <td>1.0</td>\n",
       "      <td>0.0</td>\n",
       "      <td>0.0</td>\n",
       "      <td>0.0</td>\n",
       "      <td>0.0</td>\n",
       "      <td>0.0</td>\n",
       "      <td>0.0</td>\n",
       "      <td>-0.605644</td>\n",
       "      <td>1.0</td>\n",
       "      <td>0.0</td>\n",
       "    </tr>\n",
       "    <tr>\n",
       "      <th>3</th>\n",
       "      <td>0.0</td>\n",
       "      <td>0.0</td>\n",
       "      <td>0.0</td>\n",
       "      <td>1.0</td>\n",
       "      <td>0.0</td>\n",
       "      <td>0.0</td>\n",
       "      <td>0.0</td>\n",
       "      <td>0.0</td>\n",
       "      <td>0.0</td>\n",
       "      <td>1.0</td>\n",
       "      <td>...</td>\n",
       "      <td>0.0</td>\n",
       "      <td>0.0</td>\n",
       "      <td>0.0</td>\n",
       "      <td>0.0</td>\n",
       "      <td>1.0</td>\n",
       "      <td>0.0</td>\n",
       "      <td>0.0</td>\n",
       "      <td>-0.605644</td>\n",
       "      <td>0.0</td>\n",
       "      <td>0.0</td>\n",
       "    </tr>\n",
       "    <tr>\n",
       "      <th>4</th>\n",
       "      <td>0.0</td>\n",
       "      <td>0.0</td>\n",
       "      <td>0.0</td>\n",
       "      <td>1.0</td>\n",
       "      <td>0.0</td>\n",
       "      <td>0.0</td>\n",
       "      <td>1.0</td>\n",
       "      <td>0.0</td>\n",
       "      <td>0.0</td>\n",
       "      <td>0.0</td>\n",
       "      <td>...</td>\n",
       "      <td>1.0</td>\n",
       "      <td>0.0</td>\n",
       "      <td>0.0</td>\n",
       "      <td>0.0</td>\n",
       "      <td>0.0</td>\n",
       "      <td>0.0</td>\n",
       "      <td>0.0</td>\n",
       "      <td>1.316985</td>\n",
       "      <td>0.0</td>\n",
       "      <td>0.0</td>\n",
       "    </tr>\n",
       "  </tbody>\n",
       "</table>\n",
       "<p>5 rows × 37 columns</p>\n",
       "</div>"
      ],
      "text/plain": [
       "   party_sobriety_had been drinking, impairment unknown  \\\n",
       "0                                                0.0      \n",
       "1                                                0.0      \n",
       "2                                                0.0      \n",
       "3                                                0.0      \n",
       "4                                                0.0      \n",
       "\n",
       "   party_sobriety_had been drinking, not under influence  \\\n",
       "0                                                0.0       \n",
       "1                                                0.0       \n",
       "2                                                0.0       \n",
       "3                                                0.0       \n",
       "4                                                0.0       \n",
       "\n",
       "   party_sobriety_had been drinking, under influence  \\\n",
       "0                                                0.0   \n",
       "1                                                1.0   \n",
       "2                                                0.0   \n",
       "3                                                0.0   \n",
       "4                                                0.0   \n",
       "\n",
       "   party_sobriety_had not been drinking  party_sobriety_impairment unknown  \\\n",
       "0                                   1.0                                0.0   \n",
       "1                                   0.0                                0.0   \n",
       "2                                   1.0                                0.0   \n",
       "3                                   1.0                                0.0   \n",
       "4                                   1.0                                0.0   \n",
       "\n",
       "   party_sobriety_not applicable  road_surface_dry  road_surface_slippery  \\\n",
       "0                            0.0               1.0                    0.0   \n",
       "1                            0.0               1.0                    0.0   \n",
       "2                            0.0               1.0                    0.0   \n",
       "3                            0.0               0.0                    0.0   \n",
       "4                            0.0               1.0                    0.0   \n",
       "\n",
       "   road_surface_snowy  road_surface_wet  ...  weather_1_clear  \\\n",
       "0                 0.0               0.0  ...              1.0   \n",
       "1                 0.0               0.0  ...              1.0   \n",
       "2                 0.0               0.0  ...              1.0   \n",
       "3                 0.0               1.0  ...              0.0   \n",
       "4                 0.0               0.0  ...              1.0   \n",
       "\n",
       "   weather_1_cloudy  weather_1_fog  weather_1_other  weather_1_raining  \\\n",
       "0               0.0            0.0              0.0                0.0   \n",
       "1               0.0            0.0              0.0                0.0   \n",
       "2               0.0            0.0              0.0                0.0   \n",
       "3               0.0            0.0              0.0                1.0   \n",
       "4               0.0            0.0              0.0                0.0   \n",
       "\n",
       "   weather_1_snowing  weather_1_wind  vehicle_age  intersection  \\\n",
       "0                0.0             0.0    -1.566958           1.0   \n",
       "1                0.0             0.0    -0.605644           0.0   \n",
       "2                0.0             0.0    -0.605644           1.0   \n",
       "3                0.0             0.0    -0.605644           0.0   \n",
       "4                0.0             0.0     1.316985           0.0   \n",
       "\n",
       "   cellphone_in_use  \n",
       "0               0.0  \n",
       "1               0.0  \n",
       "2               0.0  \n",
       "3               0.0  \n",
       "4               0.0  \n",
       "\n",
       "[5 rows x 37 columns]"
      ]
     },
     "execution_count": 78,
     "metadata": {},
     "output_type": "execute_result"
    }
   ],
   "source": [
    "features_train_coded.head(5)"
   ]
  },
  {
   "cell_type": "code",
   "execution_count": 79,
   "id": "dc963fda",
   "metadata": {},
   "outputs": [
    {
     "data": {
      "text/plain": [
       "(53488, 37)"
      ]
     },
     "execution_count": 79,
     "metadata": {},
     "output_type": "execute_result"
    }
   ],
   "source": [
    "features_train_coded.shape"
   ]
  },
  {
   "cell_type": "code",
   "execution_count": 80,
   "id": "7616f9ee",
   "metadata": {},
   "outputs": [
    {
     "data": {
      "text/plain": [
       "(17830, 37)"
      ]
     },
     "execution_count": 80,
     "metadata": {},
     "output_type": "execute_result"
    }
   ],
   "source": [
    "features_valid_coded.shape"
   ]
  },
  {
   "cell_type": "code",
   "execution_count": 81,
   "id": "4e289a42",
   "metadata": {},
   "outputs": [
    {
     "data": {
      "text/plain": [
       "(17829, 37)"
      ]
     },
     "execution_count": 81,
     "metadata": {},
     "output_type": "execute_result"
    }
   ],
   "source": [
    "features_test_coded.shape"
   ]
  },
  {
   "cell_type": "markdown",
   "id": "58ff25ba",
   "metadata": {},
   "source": [
    "**Вывод**\n",
    "\n",
    "Получены тренировочная, валидационная и тестовая выборки."
   ]
  },
  {
   "cell_type": "markdown",
   "id": "339bdf3b",
   "metadata": {},
   "source": [
    "###  Обучение моделей"
   ]
  },
  {
   "cell_type": "markdown",
   "id": "0d228b5e",
   "metadata": {},
   "source": [
    "В качестве метрики будем использовать F1 метрику, т.к. она даёт оптимальный баланс точности и полноты."
   ]
  },
  {
   "cell_type": "markdown",
   "id": "e4d4b2a2",
   "metadata": {},
   "source": [
    "####  Модель решающего дерева"
   ]
  },
  {
   "cell_type": "code",
   "execution_count": 82,
   "id": "a840c62d",
   "metadata": {},
   "outputs": [
    {
     "name": "stdout",
     "output_type": "stream",
     "text": [
      "Оптимальные параметры:  {'max_depth': 5}\n"
     ]
    }
   ],
   "source": [
    "dt_params = {\n",
    "    'max_depth': range (1,13),\n",
    "    \n",
    "}\n",
    "\n",
    "model_DecisionTree = GridSearchCV(DecisionTreeClassifier(random_state=12345), dt_params, scoring = 'f1')\n",
    "model_Dt = model_DecisionTree.fit(features_train_coded, target_train)\n",
    "print('Оптимальные параметры: ',model_Dt.best_params_)"
   ]
  },
  {
   "cell_type": "code",
   "execution_count": 83,
   "id": "a5f28010",
   "metadata": {},
   "outputs": [],
   "source": [
    "predictions_DT_valid = model_Dt.predict(features_valid_coded)\n",
    "f1_Decision_Tree_valid = f1_score(target_valid, predictions_DT_valid)"
   ]
  },
  {
   "cell_type": "code",
   "execution_count": 84,
   "id": "64399110",
   "metadata": {},
   "outputs": [
    {
     "name": "stdout",
     "output_type": "stream",
     "text": [
      "Максимальное значение f1 на валидационной выборке: 0.6088533011028856\n"
     ]
    }
   ],
   "source": [
    "print(f'Максимальное значение f1 на валидационной выборке: {f1_Decision_Tree_valid}')"
   ]
  },
  {
   "cell_type": "markdown",
   "id": "3db48e79",
   "metadata": {},
   "source": [
    "**Вывод** \n",
    "\n",
    "Лучшее значение F1 (0.6088) получилась при параметре max_depth = 5.  "
   ]
  },
  {
   "cell_type": "markdown",
   "id": "4ff5c685",
   "metadata": {},
   "source": [
    "####  Модель случайного леса"
   ]
  },
  {
   "cell_type": "code",
   "execution_count": 85,
   "id": "d9ad3d17",
   "metadata": {},
   "outputs": [
    {
     "name": "stdout",
     "output_type": "stream",
     "text": [
      "Оптимальные параметры:  {'max_depth': 1, 'n_estimators': 11}\n"
     ]
    }
   ],
   "source": [
    "rf_params = {\n",
    "    'n_estimators': range(1, 121,10),\n",
    "    'max_depth': range (1, 11)\n",
    "}\n",
    "\n",
    "model_RandomForest = GridSearchCV(RandomForestClassifier(random_state=12345), rf_params, scoring = 'f1')\n",
    "model_RF = model_RandomForest.fit(features_train_coded, target_train)\n",
    "print('Оптимальные параметры: ', model_RF.best_params_)"
   ]
  },
  {
   "cell_type": "code",
   "execution_count": 86,
   "id": "edecf37b",
   "metadata": {},
   "outputs": [
    {
     "name": "stdout",
     "output_type": "stream",
     "text": [
      "Максимальное значение f1 на валидационной выборке: 0.6847637664588943\n"
     ]
    }
   ],
   "source": [
    "predictions_RF_valid = model_RF.predict(features_valid_coded)\n",
    "f1_Random_Forest_valid = f1_score(target_valid, predictions_RF_valid)\n",
    "print(f'Максимальное значение f1 на валидационной выборке: {f1_Random_Forest_valid}')"
   ]
  },
  {
   "cell_type": "markdown",
   "id": "72e09229",
   "metadata": {},
   "source": [
    "**Вывод** \n",
    "\n",
    "Лучшее значение F1 (0.6847) получилась при параметре max_depth = 1, n_estimators = 11."
   ]
  },
  {
   "cell_type": "markdown",
   "id": "06628919",
   "metadata": {},
   "source": [
    "####  Модель градиендный бустинг CatBoost"
   ]
  },
  {
   "cell_type": "code",
   "execution_count": 87,
   "id": "da74df0c",
   "metadata": {},
   "outputs": [
    {
     "data": {
      "text/html": [
       "<div>\n",
       "<style scoped>\n",
       "    .dataframe tbody tr th:only-of-type {\n",
       "        vertical-align: middle;\n",
       "    }\n",
       "\n",
       "    .dataframe tbody tr th {\n",
       "        vertical-align: top;\n",
       "    }\n",
       "\n",
       "    .dataframe thead th {\n",
       "        text-align: right;\n",
       "    }\n",
       "</style>\n",
       "<table border=\"1\" class=\"dataframe\">\n",
       "  <thead>\n",
       "    <tr style=\"text-align: right;\">\n",
       "      <th></th>\n",
       "      <th>party_sobriety</th>\n",
       "      <th>road_surface</th>\n",
       "      <th>lighting</th>\n",
       "      <th>road_condition_1</th>\n",
       "      <th>vehicle_age</th>\n",
       "      <th>intersection</th>\n",
       "      <th>cellphone_in_use</th>\n",
       "      <th>control_device</th>\n",
       "      <th>weather_1</th>\n",
       "    </tr>\n",
       "  </thead>\n",
       "  <tbody>\n",
       "    <tr>\n",
       "      <th>29417</th>\n",
       "      <td>had not been drinking</td>\n",
       "      <td>dry</td>\n",
       "      <td>dark with street lights</td>\n",
       "      <td>normal</td>\n",
       "      <td>0.0</td>\n",
       "      <td>1.0</td>\n",
       "      <td>0.0</td>\n",
       "      <td>functioning</td>\n",
       "      <td>clear</td>\n",
       "    </tr>\n",
       "    <tr>\n",
       "      <th>73539</th>\n",
       "      <td>had been drinking, under influence</td>\n",
       "      <td>dry</td>\n",
       "      <td>daylight</td>\n",
       "      <td>normal</td>\n",
       "      <td>3.0</td>\n",
       "      <td>0.0</td>\n",
       "      <td>0.0</td>\n",
       "      <td>none</td>\n",
       "      <td>clear</td>\n",
       "    </tr>\n",
       "    <tr>\n",
       "      <th>13368</th>\n",
       "      <td>had not been drinking</td>\n",
       "      <td>dry</td>\n",
       "      <td>dark with street lights</td>\n",
       "      <td>normal</td>\n",
       "      <td>3.0</td>\n",
       "      <td>1.0</td>\n",
       "      <td>0.0</td>\n",
       "      <td>none</td>\n",
       "      <td>clear</td>\n",
       "    </tr>\n",
       "    <tr>\n",
       "      <th>57665</th>\n",
       "      <td>had not been drinking</td>\n",
       "      <td>wet</td>\n",
       "      <td>daylight</td>\n",
       "      <td>normal</td>\n",
       "      <td>3.0</td>\n",
       "      <td>0.0</td>\n",
       "      <td>0.0</td>\n",
       "      <td>none</td>\n",
       "      <td>raining</td>\n",
       "    </tr>\n",
       "    <tr>\n",
       "      <th>17162</th>\n",
       "      <td>had not been drinking</td>\n",
       "      <td>dry</td>\n",
       "      <td>daylight</td>\n",
       "      <td>normal</td>\n",
       "      <td>9.0</td>\n",
       "      <td>0.0</td>\n",
       "      <td>0.0</td>\n",
       "      <td>none</td>\n",
       "      <td>clear</td>\n",
       "    </tr>\n",
       "  </tbody>\n",
       "</table>\n",
       "</div>"
      ],
      "text/plain": [
       "                           party_sobriety road_surface  \\\n",
       "29417               had not been drinking          dry   \n",
       "73539  had been drinking, under influence          dry   \n",
       "13368               had not been drinking          dry   \n",
       "57665               had not been drinking          wet   \n",
       "17162               had not been drinking          dry   \n",
       "\n",
       "                      lighting road_condition_1  vehicle_age  intersection  \\\n",
       "29417  dark with street lights           normal          0.0           1.0   \n",
       "73539                 daylight           normal          3.0           0.0   \n",
       "13368  dark with street lights           normal          3.0           1.0   \n",
       "57665                 daylight           normal          3.0           0.0   \n",
       "17162                 daylight           normal          9.0           0.0   \n",
       "\n",
       "       cellphone_in_use control_device weather_1  \n",
       "29417               0.0    functioning     clear  \n",
       "73539               0.0           none     clear  \n",
       "13368               0.0           none     clear  \n",
       "57665               0.0           none   raining  \n",
       "17162               0.0           none     clear  "
      ]
     },
     "execution_count": 87,
     "metadata": {},
     "output_type": "execute_result"
    }
   ],
   "source": [
    "features_train.head(5)"
   ]
  },
  {
   "cell_type": "code",
   "execution_count": 88,
   "id": "2b241c11",
   "metadata": {},
   "outputs": [
    {
     "name": "stdout",
     "output_type": "stream",
     "text": [
      "Learning rate set to 0.5\n",
      "0:\tlearn: 0.3103088\ttotal: 103ms\tremaining: 7.11s\n",
      "10:\tlearn: 0.4882912\ttotal: 323ms\tremaining: 1.73s\n",
      "20:\tlearn: 0.5272301\ttotal: 590ms\tremaining: 1.38s\n",
      "30:\tlearn: 0.5530636\ttotal: 830ms\tremaining: 1.04s\n",
      "40:\tlearn: 0.5540627\ttotal: 1.08s\tremaining: 764ms\n",
      "50:\tlearn: 0.5521776\ttotal: 1.33s\tremaining: 496ms\n",
      "60:\tlearn: 0.5535784\ttotal: 1.58s\tremaining: 233ms\n",
      "69:\tlearn: 0.5317921\ttotal: 1.8s\tremaining: 0us\n"
     ]
    }
   ],
   "source": [
    "cat_features = ['party_sobriety', 'road_surface', 'lighting',\n",
    "                'road_condition_1', 'control_device', 'weather_1']\n",
    "\n",
    "cb = CatBoostClassifier(loss_function=\"Logloss\", iterations=70, eval_metric = 'F1')\n",
    "cb_f1 = cb.fit(features_train, target_train, cat_features=cat_features, verbose=10)"
   ]
  },
  {
   "cell_type": "code",
   "execution_count": 89,
   "id": "ea0da132",
   "metadata": {},
   "outputs": [
    {
     "name": "stdout",
     "output_type": "stream",
     "text": [
      "F1 на валидационной выборке: 0.5206393718452047\n"
     ]
    }
   ],
   "source": [
    "predicted_cat_valid = cb_f1.predict(features_valid)\n",
    "f1_Cat_valid = cb_f1.score(predicted_cat_valid, target_valid)\n",
    "print(f'F1 на валидационной выборке: {f1_Cat_valid}')"
   ]
  },
  {
   "cell_type": "markdown",
   "id": "29f5f151",
   "metadata": {},
   "source": [
    "**Вывод** \n",
    "\n",
    "Для модели CatBoost F1 на валидационной выборке: 0.5206"
   ]
  },
  {
   "cell_type": "markdown",
   "id": "5d049e10",
   "metadata": {},
   "source": [
    "###  Выбор модели"
   ]
  },
  {
   "cell_type": "markdown",
   "id": "196d4eef",
   "metadata": {},
   "source": [
    "Для выбора модели составим таблицу с результатами показателя F1 на валидационной  выборке."
   ]
  },
  {
   "cell_type": "code",
   "execution_count": 90,
   "id": "0c62565e",
   "metadata": {},
   "outputs": [
    {
     "data": {
      "text/html": [
       "<div>\n",
       "<style scoped>\n",
       "    .dataframe tbody tr th:only-of-type {\n",
       "        vertical-align: middle;\n",
       "    }\n",
       "\n",
       "    .dataframe tbody tr th {\n",
       "        vertical-align: top;\n",
       "    }\n",
       "\n",
       "    .dataframe thead th {\n",
       "        text-align: right;\n",
       "    }\n",
       "</style>\n",
       "<table border=\"1\" class=\"dataframe\">\n",
       "  <thead>\n",
       "    <tr style=\"text-align: right;\">\n",
       "      <th></th>\n",
       "      <th>model</th>\n",
       "      <th>valid_f1</th>\n",
       "    </tr>\n",
       "  </thead>\n",
       "  <tbody>\n",
       "    <tr>\n",
       "      <th>0</th>\n",
       "      <td>Decision Tree</td>\n",
       "      <td>0.608853</td>\n",
       "    </tr>\n",
       "    <tr>\n",
       "      <th>1</th>\n",
       "      <td>Random Forest</td>\n",
       "      <td>0.684764</td>\n",
       "    </tr>\n",
       "    <tr>\n",
       "      <th>2</th>\n",
       "      <td>CatBoost</td>\n",
       "      <td>0.520639</td>\n",
       "    </tr>\n",
       "  </tbody>\n",
       "</table>\n",
       "</div>"
      ],
      "text/plain": [
       "           model  valid_f1\n",
       "0  Decision Tree  0.608853\n",
       "1  Random Forest  0.684764\n",
       "2       CatBoost  0.520639"
      ]
     },
     "execution_count": 90,
     "metadata": {},
     "output_type": "execute_result"
    }
   ],
   "source": [
    "predictive_model_scores = pd.DataFrame(data=[('Decision Tree',f1_Decision_Tree_valid), \n",
    "                                             ('Random Forest',f1_Random_Forest_valid),\n",
    "                                            ('CatBoost',f1_Cat_valid)], \n",
    "                                       columns=['model', 'valid_f1'])\n",
    "predictive_model_scores"
   ]
  },
  {
   "cell_type": "code",
   "execution_count": 91,
   "id": "a9366c8f",
   "metadata": {},
   "outputs": [
    {
     "data": {
      "image/png": "[encoded data removed]",
      "text/plain": [
       "<Figure size 1000x500 with 1 Axes>"
      ]
     },
     "metadata": {},
     "output_type": "display_data"
    }
   ],
   "source": [
    "plt.style.use('default')\n",
    "plt.figure(figsize=(10,5))\n",
    "p=sns.barplot(x='model', y='valid_f1', data=predictive_model_scores, palette='PuBu')\n",
    "plt.title('F1 для каждой модели на валидационной выборке', fontsize = 20)\n",
    "plt.xlabel('Модель', fontsize = 12)\n",
    "plt.ylabel('F1', fontsize = 12)\n",
    "for index, row in predictive_model_scores.iterrows():\n",
    "    p.text(x=row.name, y=row.valid_f1, s=round(row.valid_f1,2), color='black', horizontalalignment='center');"
   ]
  },
  {
   "cell_type": "markdown",
   "id": "1942d3db",
   "metadata": {},
   "source": [
    "### Тестирование модели"
   ]
  },
  {
   "cell_type": "markdown",
   "id": "13b3f188",
   "metadata": {},
   "source": [
    "Случайный лес"
   ]
  },
  {
   "cell_type": "code",
   "execution_count": 92,
   "id": "0e4fcc27",
   "metadata": {},
   "outputs": [
    {
     "name": "stdout",
     "output_type": "stream",
     "text": [
      "F1 для случайного леса на валидационной выборке 0.6363924767731702\n",
      "F1 для случайного леса на тестовой выборке 0.6386904223568779\n"
     ]
    }
   ],
   "source": [
    "model_Random_Forest = RandomForestClassifier(random_state=12345, n_estimators=111, max_depth=3)\n",
    "model_Random_Forest.fit(features_train_coded, target_train)\n",
    "predictions_valid = model_Random_Forest.predict(features_valid_coded)\n",
    "predictions_RF_test = model_Random_Forest.predict(features_test_coded)\n",
    "f1_Random_Forest_valid = f1_score(target_valid, predictions_valid) \n",
    "f1_Random_Forest_test = f1_score(target_test, predictions_RF_test)\n",
    "print('F1 для случайного леса на валидационной выборке', f1_Random_Forest_valid)\n",
    "print('F1 для случайного леса на тестовой выборке',f1_Random_Forest_test)\n"
   ]
  },
  {
   "cell_type": "markdown",
   "id": "0e335f90",
   "metadata": {},
   "source": [
    "**Вывод**\n",
    "\n",
    "Лучший результат показала модель случайного леса, на тестовой выборке параметр F1 = 0.64"
   ]
  },
  {
   "cell_type": "markdown",
   "id": "10d16ce0",
   "metadata": {},
   "source": [
    "###  Матрица ошибок"
   ]
  },
  {
   "cell_type": "markdown",
   "id": "33ea7dcd",
   "metadata": {},
   "source": [
    "Создадим матрицу ошибок выбранной модели."
   ]
  },
  {
   "cell_type": "code",
   "execution_count": 93,
   "id": "0b7f129c",
   "metadata": {},
   "outputs": [],
   "source": [
    "cm_RF = confusion_matrix(target_test, predictions_RF_test)"
   ]
  },
  {
   "cell_type": "code",
   "execution_count": 94,
   "id": "e49150c7",
   "metadata": {},
   "outputs": [],
   "source": [
    "cm_df_rf = pd.DataFrame(cm_RF, index=['Actually Not At Fault', 'Actually At Fault'],\n",
    "                 columns=['Predicted Not At Fault', 'Predicted At Fault'])"
   ]
  },
  {
   "cell_type": "markdown",
   "id": "a57600d8",
   "metadata": {},
   "source": [
    "####  Матрица ошибок случайного леса"
   ]
  },
  {
   "cell_type": "code",
   "execution_count": 95,
   "id": "8325da29",
   "metadata": {},
   "outputs": [
    {
     "data": {
      "image/png": "[encoded data removed]",
      "text/plain": [
       "<Figure size 1000x400 with 2 Axes>"
      ]
     },
     "metadata": {},
     "output_type": "display_data"
    }
   ],
   "source": [
    "sns.set(font_scale=1.2)\n",
    "plt.figure(figsize=(10,4))\n",
    "    \n",
    "sns.heatmap(cm_RF, annot=True, fmt='g', cmap=\"Blues\",xticklabels=cm_df_rf.columns, yticklabels=cm_df_rf.index, annot_kws={\"size\": 20})\n",
    "plt.title(\"Матрица ошибок\", size=20)\n",
    "plt.xlabel('Класс предсказаний')\n",
    "plt.ylabel('Реальный класс');"
   ]
  },
  {
   "cell_type": "code",
   "execution_count": 96,
   "id": "c821fd3b",
   "metadata": {},
   "outputs": [
    {
     "name": "stdout",
     "output_type": "stream",
     "text": [
      "Всего предсказаний: 17829\n",
      "Правильно классифицированные: 55.0%\n",
      "Правильно классифицированная вина: 55.0%\n",
      "Правильно классифицированое отсутствие вины: 55.0%\n",
      "Прогнозируемая вина, соответствующая действительности: 33.0%\n",
      "Прогнозируемое отсутствие вины, которой так же на самом деле нет: 76.0%\n"
     ]
    }
   ],
   "source": [
    "TP = cm_RF[0][0]\n",
    "TN = cm_RF[1][1]\n",
    "FP = cm_RF[0][1]\n",
    "FN = cm_RF[1][0]\n",
    "total = cm_RF[0][0]+cm_RF[1][1]+cm_RF[0][1]+cm_RF[1][0]\n",
    "\n",
    "print('Всего предсказаний:',total)\n",
    "print(f'Правильно классифицированные: {np.round((TP+TN)/total*100)}%')\n",
    "print(f'Правильно классифицированная вина: {np.round(TP/(TP+FN)*100)}%')\n",
    "print(f'Правильно классифицированое отсутствие вины: {np.round(TN/(TN+FP)*100)}%')\n",
    "print(f'Прогнозируемая вина, соответствующая действительности: {np.round(TP/(TP+FP)*100)}%')\n",
    "print(f'Прогнозируемое отсутствие вины, которой так же на самом деле нет: {np.round(TN/(TN+FN)*100)}%')"
   ]
  },
  {
   "cell_type": "markdown",
   "id": "c364386e",
   "metadata": {},
   "source": [
    "## Проведите анализ важности факторов ДТП"
   ]
  },
  {
   "cell_type": "markdown",
   "id": "71277124",
   "metadata": {},
   "source": [
    "Лучший результат показала модель случайного леса, для неё и проведём анализ важности вакторов ДТП."
   ]
  },
  {
   "cell_type": "code",
   "execution_count": 97,
   "id": "a5ee3299",
   "metadata": {
    "scrolled": true
   },
   "outputs": [
    {
     "data": {
      "image/png": "[encoded data removed]",
      "text/plain": [
       "<Figure size 640x480 with 1 Axes>"
      ]
     },
     "metadata": {},
     "output_type": "display_data"
    }
   ],
   "source": [
    "feat_importances_dt = pd.Series((model_Random_Forest.feature_importances_), index=features_train_coded.columns)\n",
    "feat_importances_dt.nlargest(5).plot(kind='barh')\n",
    "plt.show()"
   ]
  },
  {
   "cell_type": "markdown",
   "id": "156de61e",
   "metadata": {},
   "source": [
    "Данная модель больше всего обращает внимание на трезвость участника, а именно на показатель: \"не пил\""
   ]
  },
  {
   "cell_type": "markdown",
   "id": "94718d79",
   "metadata": {},
   "source": [
    "Построим диаграмму, в которой отразим зависимость числа ДТП от уровня трезвости."
   ]
  },
  {
   "cell_type": "code",
   "execution_count": 98,
   "id": "da65bf2f",
   "metadata": {},
   "outputs": [
    {
     "data": {
      "text/html": [
       "<div>\n",
       "<style scoped>\n",
       "    .dataframe tbody tr th:only-of-type {\n",
       "        vertical-align: middle;\n",
       "    }\n",
       "\n",
       "    .dataframe tbody tr th {\n",
       "        vertical-align: top;\n",
       "    }\n",
       "\n",
       "    .dataframe thead th {\n",
       "        text-align: right;\n",
       "    }\n",
       "</style>\n",
       "<table border=\"1\" class=\"dataframe\">\n",
       "  <thead>\n",
       "    <tr style=\"text-align: right;\">\n",
       "      <th></th>\n",
       "      <th>party_sobriety</th>\n",
       "      <th>count_party_sobriety</th>\n",
       "    </tr>\n",
       "  </thead>\n",
       "  <tbody>\n",
       "    <tr>\n",
       "      <th>0</th>\n",
       "      <td>impairment unknown</td>\n",
       "      <td>232901</td>\n",
       "    </tr>\n",
       "    <tr>\n",
       "      <th>1</th>\n",
       "      <td>had been drinking, under influence</td>\n",
       "      <td>112413</td>\n",
       "    </tr>\n",
       "    <tr>\n",
       "      <th>2</th>\n",
       "      <td>had been drinking, impairment unknown</td>\n",
       "      <td>21419</td>\n",
       "    </tr>\n",
       "    <tr>\n",
       "      <th>3</th>\n",
       "      <td>had been drinking, not under influence</td>\n",
       "      <td>17650</td>\n",
       "    </tr>\n",
       "  </tbody>\n",
       "</table>\n",
       "</div>"
      ],
      "text/plain": [
       "                           party_sobriety  count_party_sobriety\n",
       "0                      impairment unknown                232901\n",
       "1      had been drinking, under influence                112413\n",
       "2   had been drinking, impairment unknown                 21419\n",
       "3  had been drinking, not under influence                 17650"
      ]
     },
     "execution_count": 98,
     "metadata": {},
     "output_type": "execute_result"
    }
   ],
   "source": [
    "query = '''\n",
    "SELECT distinct party_sobriety,\n",
    "       count(case_id) count_party_sobriety\n",
    "FROM parties\n",
    "WHERE party_sobriety != 'had not been drinking'\n",
    "   and party_sobriety != 'not applicable'\n",
    "GROUP BY party_sobriety\n",
    "ORDER BY count_party_sobriety desc\n",
    "'''\n",
    "party_sobriety = pd.read_sql_query(query, con=engine)\n",
    "party_sobriety"
   ]
  },
  {
   "cell_type": "code",
   "execution_count": 99,
   "id": "82c0b125",
   "metadata": {},
   "outputs": [
    {
     "data": {
      "image/png": "[encoded data removed]",
      "text/plain": [
       "<Figure size 640x480 with 1 Axes>"
      ]
     },
     "metadata": {},
     "output_type": "display_data"
    }
   ],
   "source": [
    "sns.barplot(data = party_sobriety, x='party_sobriety', y='count_party_sobriety')\n",
    "plt.title('Влияние уровня трезвости на вероятность ДТП')\n",
    "plt.xticks(rotation=40)\n",
    "plt.xlabel('Уровень трезвости')\n",
    "plt.ylabel('Количество аварий')\n",
    "plt.show()"
   ]
  },
  {
   "cell_type": "markdown",
   "id": "1650f109",
   "metadata": {},
   "source": [
    "## Выводы"
   ]
  },
  {
   "cell_type": "markdown",
   "id": "5ad1c66b",
   "metadata": {},
   "source": [
    "**Исходя из полученных данных, можно сделать вывод, что наилучшей моделью является модель \"Случайного леса\":**\n",
    "\n",
    "- F1 на тестовой выбрке = 0.64\n",
    "- Всего предсказаний: 17829\n",
    "- Правильно классифицированные: 55.0%\n",
    "- Правильно классифицированная вина: 55.0%\n",
    "- Правильно классифицированое отсутствие вины: 55.0%\n",
    "- Прогнозируемая вина, соответствующая действительности: 33.0%\n",
    "- Прогнозируемое отсутствие вины, которой так же на самом деле нет: 76.0%\n",
    "- Данная модель больше всего обращает внимание на трезвость участника, а именно на показатель: \"Не пил\".\n",
    "\n",
    "**Так как самый важный фактор ДТП — уровень трезвости виновника (party_sobriety), то можно:**\n",
    "\n",
    "- оборудовать автомобиль алкоключем\n",
    "- добавить камеру, направленную на водительское место"
   ]
  }
 ],
 "metadata": {
  "ExecuteTimeLog": [
   {
    "duration": 1480,
    "start_time": "2022-11-17T20:07:02.792Z"
   },
   {
    "duration": 5,
    "start_time": "2022-11-17T21:25:09.332Z"
   },
   {
    "duration": 6061,
    "start_time": "2022-11-17T21:26:13.353Z"
   },
   {
    "duration": 4004,
    "start_time": "2022-11-17T21:30:25.775Z"
   },
   {
    "duration": 13,
    "start_time": "2022-11-17T21:30:41.624Z"
   },
   {
    "duration": 3652,
    "start_time": "2022-11-17T21:36:29.312Z"
   },
   {
    "duration": 7,
    "start_time": "2022-11-17T21:36:34.241Z"
   },
   {
    "duration": 4982,
    "start_time": "2022-11-17T21:36:48.526Z"
   },
   {
    "duration": 29,
    "start_time": "2022-11-17T21:36:54.235Z"
   },
   {
    "duration": 39,
    "start_time": "2022-11-17T21:43:09.668Z"
   },
   {
    "duration": 11,
    "start_time": "2022-11-17T21:43:10.495Z"
   },
   {
    "duration": 40,
    "start_time": "2022-11-17T21:47:19.042Z"
   },
   {
    "duration": 9,
    "start_time": "2022-11-17T21:47:31.893Z"
   },
   {
    "duration": 1393,
    "start_time": "2022-11-21T16:57:30.036Z"
   },
   {
    "duration": 4,
    "start_time": "2022-11-21T16:57:34.676Z"
   },
   {
    "duration": 7624,
    "start_time": "2022-11-21T16:57:37.771Z"
   },
   {
    "duration": 55,
    "start_time": "2022-11-21T16:57:49.132Z"
   },
   {
    "duration": 11,
    "start_time": "2022-11-21T16:57:50.756Z"
   },
   {
    "duration": 7,
    "start_time": "2022-11-21T16:57:53.675Z"
   },
   {
    "duration": 18,
    "start_time": "2022-11-21T16:57:56.471Z"
   },
   {
    "duration": 7,
    "start_time": "2022-11-21T16:57:59.055Z"
   },
   {
    "duration": 10,
    "start_time": "2022-11-21T16:57:59.836Z"
   },
   {
    "duration": 7,
    "start_time": "2022-11-21T16:58:02.672Z"
   },
   {
    "duration": 8,
    "start_time": "2022-11-21T16:58:03.412Z"
   },
   {
    "duration": 182,
    "start_time": "2022-11-21T17:35:56.232Z"
   },
   {
    "duration": 9,
    "start_time": "2022-11-21T17:36:06.697Z"
   },
   {
    "duration": 179,
    "start_time": "2022-11-21T17:39:57.096Z"
   },
   {
    "duration": 103,
    "start_time": "2022-11-21T17:40:25.560Z"
   },
   {
    "duration": 95,
    "start_time": "2022-11-21T17:40:31.658Z"
   },
   {
    "duration": 326,
    "start_time": "2022-11-21T17:40:43.067Z"
   },
   {
    "duration": 9,
    "start_time": "2022-11-21T17:40:50.887Z"
   },
   {
    "duration": 301,
    "start_time": "2022-11-21T17:41:35.508Z"
   },
   {
    "duration": 268,
    "start_time": "2022-11-21T17:42:10.179Z"
   },
   {
    "duration": 95,
    "start_time": "2022-11-21T17:42:37.933Z"
   },
   {
    "duration": 117,
    "start_time": "2022-11-21T17:42:44.974Z"
   },
   {
    "duration": 9,
    "start_time": "2022-11-21T17:42:48.309Z"
   },
   {
    "duration": 203,
    "start_time": "2022-11-21T17:43:19.048Z"
   },
   {
    "duration": 9,
    "start_time": "2022-11-21T17:43:24.740Z"
   },
   {
    "duration": 321,
    "start_time": "2022-11-21T17:43:48.204Z"
   },
   {
    "duration": 7,
    "start_time": "2022-11-21T17:43:51.542Z"
   },
   {
    "duration": 328,
    "start_time": "2022-11-21T17:44:32.426Z"
   },
   {
    "duration": 6,
    "start_time": "2022-11-21T17:44:33.093Z"
   },
   {
    "duration": 414,
    "start_time": "2022-11-21T17:45:21.781Z"
   },
   {
    "duration": 7,
    "start_time": "2022-11-21T17:45:23.832Z"
   },
   {
    "duration": 87,
    "start_time": "2022-11-21T17:45:36.556Z"
   },
   {
    "duration": 330,
    "start_time": "2022-11-21T17:46:02.801Z"
   },
   {
    "duration": 6,
    "start_time": "2022-11-21T17:46:03.949Z"
   },
   {
    "duration": 314,
    "start_time": "2022-11-21T17:46:13.764Z"
   },
   {
    "duration": 7,
    "start_time": "2022-11-21T17:46:14.788Z"
   },
   {
    "duration": 185,
    "start_time": "2022-11-21T17:48:49.957Z"
   },
   {
    "duration": 194,
    "start_time": "2022-11-21T17:50:47.826Z"
   },
   {
    "duration": 108,
    "start_time": "2022-11-21T17:51:16.065Z"
   },
   {
    "duration": 244,
    "start_time": "2022-11-21T17:53:50.952Z"
   },
   {
    "duration": 169,
    "start_time": "2022-11-21T17:54:07.926Z"
   },
   {
    "duration": 168,
    "start_time": "2022-11-21T17:54:18.066Z"
   },
   {
    "duration": 1570,
    "start_time": "2022-11-22T17:27:22.729Z"
   },
   {
    "duration": 5,
    "start_time": "2022-11-22T17:27:26.444Z"
   },
   {
    "duration": 5,
    "start_time": "2022-11-22T17:27:31.107Z"
   },
   {
    "duration": 8016,
    "start_time": "2022-11-22T17:27:33.537Z"
   },
   {
    "duration": 60,
    "start_time": "2022-11-22T17:27:45.632Z"
   },
   {
    "duration": 17,
    "start_time": "2022-11-22T17:27:46.996Z"
   },
   {
    "duration": 13,
    "start_time": "2022-11-22T17:27:50.315Z"
   },
   {
    "duration": 24,
    "start_time": "2022-11-22T17:27:52.241Z"
   },
   {
    "duration": 9,
    "start_time": "2022-11-22T17:27:56.528Z"
   },
   {
    "duration": 11,
    "start_time": "2022-11-22T17:27:57.330Z"
   },
   {
    "duration": 6,
    "start_time": "2022-11-22T17:28:00.905Z"
   },
   {
    "duration": 8,
    "start_time": "2022-11-22T17:28:03.376Z"
   },
   {
    "duration": 329,
    "start_time": "2022-11-22T17:28:11.101Z"
   },
   {
    "duration": 10,
    "start_time": "2022-11-22T17:28:12.973Z"
   },
   {
    "duration": 202,
    "start_time": "2022-11-22T17:28:14.998Z"
   },
   {
    "duration": 189,
    "start_time": "2022-11-22T19:51:57.392Z"
   },
   {
    "duration": 9,
    "start_time": "2022-11-22T19:52:07.560Z"
   },
   {
    "duration": 182,
    "start_time": "2022-11-22T19:54:35.091Z"
   },
   {
    "duration": 9,
    "start_time": "2022-11-22T19:54:36.577Z"
   },
   {
    "duration": 186,
    "start_time": "2022-11-22T19:54:58.715Z"
   },
   {
    "duration": 14,
    "start_time": "2022-11-22T19:54:59.456Z"
   },
   {
    "duration": 12,
    "start_time": "2022-11-22T19:56:15.690Z"
   },
   {
    "duration": 11,
    "start_time": "2022-11-22T19:57:28.154Z"
   },
   {
    "duration": 4,
    "start_time": "2022-11-22T19:59:30.328Z"
   },
   {
    "duration": 8,
    "start_time": "2022-11-22T19:59:36.054Z"
   },
   {
    "duration": 3,
    "start_time": "2022-11-22T19:59:51.505Z"
   },
   {
    "duration": 7,
    "start_time": "2022-11-22T19:59:52.166Z"
   },
   {
    "duration": 3,
    "start_time": "2022-11-22T20:00:02.602Z"
   },
   {
    "duration": 3,
    "start_time": "2022-11-22T20:00:03.212Z"
   },
   {
    "duration": 13,
    "start_time": "2022-11-22T20:00:24.569Z"
   },
   {
    "duration": 211,
    "start_time": "2022-11-22T20:01:10.730Z"
   },
   {
    "duration": 3,
    "start_time": "2022-11-22T20:01:12.164Z"
   },
   {
    "duration": 9,
    "start_time": "2022-11-22T20:01:12.795Z"
   },
   {
    "duration": 183,
    "start_time": "2022-11-22T20:01:51.302Z"
   },
   {
    "duration": 3,
    "start_time": "2022-11-22T20:01:51.804Z"
   },
   {
    "duration": 12,
    "start_time": "2022-11-22T20:01:52.382Z"
   },
   {
    "duration": 9,
    "start_time": "2022-11-22T20:05:10.731Z"
   },
   {
    "duration": 8,
    "start_time": "2022-11-22T20:05:24.092Z"
   },
   {
    "duration": 155,
    "start_time": "2022-11-22T20:54:29.754Z"
   },
   {
    "duration": 7,
    "start_time": "2022-11-22T20:54:41.093Z"
   },
   {
    "duration": 7,
    "start_time": "2022-11-22T20:54:54.281Z"
   },
   {
    "duration": 125,
    "start_time": "2022-11-22T20:57:13.713Z"
   },
   {
    "duration": 125,
    "start_time": "2022-11-22T20:58:07.212Z"
   },
   {
    "duration": 68,
    "start_time": "2022-11-22T20:58:55.377Z"
   },
   {
    "duration": 104,
    "start_time": "2022-11-22T20:59:01.884Z"
   },
   {
    "duration": 185,
    "start_time": "2022-11-22T20:59:19.412Z"
   },
   {
    "duration": 121,
    "start_time": "2022-11-22T21:03:26.983Z"
   },
   {
    "duration": 123,
    "start_time": "2022-11-22T21:04:29.771Z"
   },
   {
    "duration": 136,
    "start_time": "2022-11-22T21:04:56.136Z"
   },
   {
    "duration": 133,
    "start_time": "2022-11-22T21:05:32.992Z"
   },
   {
    "duration": 169,
    "start_time": "2022-11-22T21:11:15.014Z"
   },
   {
    "duration": 6,
    "start_time": "2022-11-22T21:11:20.500Z"
   },
   {
    "duration": 151,
    "start_time": "2022-11-22T21:12:51.108Z"
   },
   {
    "duration": 124,
    "start_time": "2022-11-22T21:26:55.585Z"
   },
   {
    "duration": 122,
    "start_time": "2022-11-22T21:27:06.353Z"
   },
   {
    "duration": 100,
    "start_time": "2022-11-22T21:27:16.004Z"
   },
   {
    "duration": 168,
    "start_time": "2022-11-22T21:27:32.492Z"
   },
   {
    "duration": 6,
    "start_time": "2022-11-22T21:27:40.801Z"
   },
   {
    "duration": 1453,
    "start_time": "2022-11-22T21:28:49.964Z"
   },
   {
    "duration": 135,
    "start_time": "2022-11-22T21:29:06.375Z"
   },
   {
    "duration": 126,
    "start_time": "2022-11-22T21:29:54.886Z"
   },
   {
    "duration": 6,
    "start_time": "2022-11-22T21:30:00.661Z"
   },
   {
    "duration": 148,
    "start_time": "2022-11-22T21:30:51.776Z"
   },
   {
    "duration": 9,
    "start_time": "2022-11-22T21:31:13.313Z"
   },
   {
    "duration": 140,
    "start_time": "2022-11-22T21:31:19.442Z"
   },
   {
    "duration": 1346,
    "start_time": "2022-11-23T19:59:47.199Z"
   },
   {
    "duration": 3,
    "start_time": "2022-11-23T19:59:49.398Z"
   },
   {
    "duration": 4908,
    "start_time": "2022-11-23T19:59:51.855Z"
   },
   {
    "duration": 232,
    "start_time": "2022-11-23T19:59:56.765Z"
   },
   {
    "duration": 13,
    "start_time": "2022-11-23T19:59:57.184Z"
   },
   {
    "duration": 38,
    "start_time": "2022-11-23T19:59:59.386Z"
   },
   {
    "duration": 18,
    "start_time": "2022-11-23T20:00:00.948Z"
   },
   {
    "duration": 38,
    "start_time": "2022-11-23T20:00:02.839Z"
   },
   {
    "duration": 11,
    "start_time": "2022-11-23T20:00:04.299Z"
   },
   {
    "duration": 38,
    "start_time": "2022-11-23T20:00:05.764Z"
   },
   {
    "duration": 9,
    "start_time": "2022-11-23T20:00:07.316Z"
   },
   {
    "duration": 1437,
    "start_time": "2022-11-23T20:00:17.881Z"
   },
   {
    "duration": 8,
    "start_time": "2022-11-23T20:00:19.320Z"
   },
   {
    "duration": 201,
    "start_time": "2022-11-23T20:00:20.678Z"
   },
   {
    "duration": 495,
    "start_time": "2022-11-23T20:00:39.566Z"
   },
   {
    "duration": 6,
    "start_time": "2022-11-23T20:00:40.998Z"
   },
   {
    "duration": 138,
    "start_time": "2022-11-23T20:00:48.413Z"
   },
   {
    "duration": 916,
    "start_time": "2022-11-23T20:00:52.037Z"
   },
   {
    "duration": 5,
    "start_time": "2022-11-23T20:00:53.837Z"
   },
   {
    "duration": 148,
    "start_time": "2022-11-23T20:00:57.628Z"
   },
   {
    "duration": 203,
    "start_time": "2022-11-23T20:01:00.553Z"
   },
   {
    "duration": 7,
    "start_time": "2022-11-23T20:01:02.570Z"
   },
   {
    "duration": 215,
    "start_time": "2022-11-23T20:01:08.326Z"
   },
   {
    "duration": 162,
    "start_time": "2022-11-23T20:01:14.388Z"
   },
   {
    "duration": 7,
    "start_time": "2022-11-23T20:01:17.076Z"
   },
   {
    "duration": 132,
    "start_time": "2022-11-23T20:01:21.984Z"
   },
   {
    "duration": 183,
    "start_time": "2022-11-23T21:15:28.944Z"
   },
   {
    "duration": 12440,
    "start_time": "2022-11-23T21:16:01.318Z"
   },
   {
    "duration": 8,
    "start_time": "2022-11-23T21:16:22.303Z"
   },
   {
    "duration": 159,
    "start_time": "2022-11-23T21:18:17.209Z"
   },
   {
    "duration": 132,
    "start_time": "2022-11-23T21:20:16.032Z"
   },
   {
    "duration": 1399,
    "start_time": "2022-11-27T13:33:55.312Z"
   },
   {
    "duration": 4,
    "start_time": "2022-11-27T13:34:00.377Z"
   },
   {
    "duration": 7730,
    "start_time": "2022-11-27T13:38:54.721Z"
   },
   {
    "duration": 35,
    "start_time": "2022-11-27T13:39:05.497Z"
   },
   {
    "duration": 15,
    "start_time": "2022-11-27T13:39:07.454Z"
   },
   {
    "duration": 8,
    "start_time": "2022-11-27T13:39:10.467Z"
   },
   {
    "duration": 17,
    "start_time": "2022-11-27T13:39:11.893Z"
   },
   {
    "duration": 6,
    "start_time": "2022-11-27T13:39:14.110Z"
   },
   {
    "duration": 10,
    "start_time": "2022-11-27T13:39:15.856Z"
   },
   {
    "duration": 6,
    "start_time": "2022-11-27T13:39:55.576Z"
   },
   {
    "duration": 7,
    "start_time": "2022-11-27T13:39:56.482Z"
   },
   {
    "duration": 342,
    "start_time": "2022-11-27T13:40:01.793Z"
   },
   {
    "duration": 7,
    "start_time": "2022-11-27T13:40:03.239Z"
   },
   {
    "duration": 194,
    "start_time": "2022-11-27T13:40:12.553Z"
   },
   {
    "duration": 154,
    "start_time": "2022-11-27T13:40:20.577Z"
   },
   {
    "duration": 7,
    "start_time": "2022-11-27T13:40:21.396Z"
   },
   {
    "duration": 149,
    "start_time": "2022-11-27T13:40:27.504Z"
   },
   {
    "duration": 168,
    "start_time": "2022-11-27T13:40:30.310Z"
   },
   {
    "duration": 8,
    "start_time": "2022-11-27T13:40:32.024Z"
   },
   {
    "duration": 155,
    "start_time": "2022-11-27T13:40:43.406Z"
   },
   {
    "duration": 169,
    "start_time": "2022-11-27T13:40:50.618Z"
   },
   {
    "duration": 6,
    "start_time": "2022-11-27T13:40:52.346Z"
   },
   {
    "duration": 139,
    "start_time": "2022-11-27T13:40:54.404Z"
   },
   {
    "duration": 127,
    "start_time": "2022-11-27T13:40:56.865Z"
   },
   {
    "duration": 6,
    "start_time": "2022-11-27T13:40:57.654Z"
   },
   {
    "duration": 219,
    "start_time": "2022-11-27T13:40:59.703Z"
   },
   {
    "duration": 160,
    "start_time": "2022-11-27T13:41:10.491Z"
   },
   {
    "duration": 6,
    "start_time": "2022-11-27T13:41:11.871Z"
   },
   {
    "duration": 195,
    "start_time": "2022-11-27T13:53:00.473Z"
   },
   {
    "duration": 167,
    "start_time": "2022-11-27T13:53:12.239Z"
   },
   {
    "duration": 7,
    "start_time": "2022-11-27T13:53:18.380Z"
   },
   {
    "duration": 253,
    "start_time": "2022-11-27T13:55:19.142Z"
   },
   {
    "duration": 266,
    "start_time": "2022-11-27T13:56:29.989Z"
   },
   {
    "duration": 252,
    "start_time": "2022-11-27T13:56:50.908Z"
   },
   {
    "duration": 1436,
    "start_time": "2022-12-04T15:58:03.573Z"
   },
   {
    "duration": 3,
    "start_time": "2022-12-04T15:58:08.264Z"
   },
   {
    "duration": 7793,
    "start_time": "2022-12-04T15:58:11.029Z"
   },
   {
    "duration": 44,
    "start_time": "2022-12-04T16:07:08.935Z"
   },
   {
    "duration": 13,
    "start_time": "2022-12-04T16:07:11.873Z"
   },
   {
    "duration": 8,
    "start_time": "2022-12-04T16:07:48.076Z"
   },
   {
    "duration": 18,
    "start_time": "2022-12-04T16:07:49.631Z"
   },
   {
    "duration": 8,
    "start_time": "2022-12-04T16:07:52.111Z"
   },
   {
    "duration": 10,
    "start_time": "2022-12-04T16:07:53.538Z"
   },
   {
    "duration": 6,
    "start_time": "2022-12-04T16:07:55.658Z"
   },
   {
    "duration": 9,
    "start_time": "2022-12-04T16:07:57.280Z"
   },
   {
    "duration": 321,
    "start_time": "2022-12-04T16:08:03.795Z"
   },
   {
    "duration": 8,
    "start_time": "2022-12-04T16:08:05.552Z"
   },
   {
    "duration": 208,
    "start_time": "2022-12-04T16:08:08.017Z"
   },
   {
    "duration": 150,
    "start_time": "2022-12-04T16:08:48.074Z"
   },
   {
    "duration": 8,
    "start_time": "2022-12-04T16:08:48.589Z"
   },
   {
    "duration": 140,
    "start_time": "2022-12-04T16:08:52.988Z"
   },
   {
    "duration": 161,
    "start_time": "2022-12-04T16:09:03.397Z"
   },
   {
    "duration": 6,
    "start_time": "2022-12-04T16:09:05.168Z"
   },
   {
    "duration": 239,
    "start_time": "2022-12-04T16:09:07.407Z"
   },
   {
    "duration": 166,
    "start_time": "2022-12-04T16:09:10.054Z"
   },
   {
    "duration": 6,
    "start_time": "2022-12-04T16:09:14.253Z"
   },
   {
    "duration": 137,
    "start_time": "2022-12-04T16:09:16.609Z"
   },
   {
    "duration": 127,
    "start_time": "2022-12-04T16:09:19.981Z"
   },
   {
    "duration": 6,
    "start_time": "2022-12-04T16:09:20.754Z"
   },
   {
    "duration": 209,
    "start_time": "2022-12-04T16:09:23.244Z"
   },
   {
    "duration": 163,
    "start_time": "2022-12-04T16:09:28.710Z"
   },
   {
    "duration": 6,
    "start_time": "2022-12-04T16:09:29.428Z"
   },
   {
    "duration": 136,
    "start_time": "2022-12-04T16:09:36.772Z"
   },
   {
    "duration": 173,
    "start_time": "2022-12-04T16:09:43.507Z"
   },
   {
    "duration": 7,
    "start_time": "2022-12-04T16:09:45.787Z"
   },
   {
    "duration": 309,
    "start_time": "2022-12-04T16:09:47.273Z"
   },
   {
    "duration": 4483,
    "start_time": "2022-12-04T19:05:57.419Z"
   },
   {
    "duration": 6,
    "start_time": "2022-12-04T19:06:07.063Z"
   },
   {
    "duration": 139,
    "start_time": "2022-12-04T19:08:12.738Z"
   },
   {
    "duration": 1374,
    "start_time": "2022-12-13T14:31:55.261Z"
   },
   {
    "duration": 3,
    "start_time": "2022-12-13T14:31:59.676Z"
   },
   {
    "duration": 1236,
    "start_time": "2022-12-13T14:32:09.786Z"
   },
   {
    "duration": 3,
    "start_time": "2022-12-13T14:32:26.922Z"
   },
   {
    "duration": 8068,
    "start_time": "2022-12-13T14:32:29.578Z"
   },
   {
    "duration": 44,
    "start_time": "2022-12-13T14:32:42.475Z"
   },
   {
    "duration": 15,
    "start_time": "2022-12-13T14:32:44.589Z"
   },
   {
    "duration": 8,
    "start_time": "2022-12-13T14:32:46.851Z"
   },
   {
    "duration": 19,
    "start_time": "2022-12-13T14:32:48.553Z"
   },
   {
    "duration": 6,
    "start_time": "2022-12-13T14:32:50.785Z"
   },
   {
    "duration": 10,
    "start_time": "2022-12-13T14:32:52.243Z"
   },
   {
    "duration": 7,
    "start_time": "2022-12-13T14:33:00.277Z"
   },
   {
    "duration": 8,
    "start_time": "2022-12-13T14:33:27.584Z"
   },
   {
    "duration": 335,
    "start_time": "2022-12-13T14:33:35.266Z"
   },
   {
    "duration": 7,
    "start_time": "2022-12-13T14:33:38.081Z"
   },
   {
    "duration": 214,
    "start_time": "2022-12-13T14:33:40.895Z"
   },
   {
    "duration": 155,
    "start_time": "2022-12-13T14:33:48.291Z"
   },
   {
    "duration": 6,
    "start_time": "2022-12-13T14:33:50.022Z"
   },
   {
    "duration": 151,
    "start_time": "2022-12-13T14:33:51.680Z"
   },
   {
    "duration": 173,
    "start_time": "2022-12-13T14:33:55.871Z"
   },
   {
    "duration": 6,
    "start_time": "2022-12-13T14:33:57.543Z"
   },
   {
    "duration": 165,
    "start_time": "2022-12-13T14:33:59.166Z"
   },
   {
    "duration": 169,
    "start_time": "2022-12-13T14:34:02.665Z"
   },
   {
    "duration": 7,
    "start_time": "2022-12-13T14:34:04.343Z"
   },
   {
    "duration": 151,
    "start_time": "2022-12-13T14:34:04.959Z"
   },
   {
    "duration": 127,
    "start_time": "2022-12-13T14:34:07.874Z"
   },
   {
    "duration": 7,
    "start_time": "2022-12-13T14:34:09.463Z"
   },
   {
    "duration": 223,
    "start_time": "2022-12-13T14:34:11.075Z"
   },
   {
    "duration": 164,
    "start_time": "2022-12-13T14:34:14.874Z"
   },
   {
    "duration": 6,
    "start_time": "2022-12-13T14:34:15.709Z"
   },
   {
    "duration": 143,
    "start_time": "2022-12-13T14:34:18.401Z"
   },
   {
    "duration": 171,
    "start_time": "2022-12-13T14:34:27.791Z"
   },
   {
    "duration": 7,
    "start_time": "2022-12-13T14:34:28.468Z"
   },
   {
    "duration": 4394,
    "start_time": "2022-12-13T14:37:52.201Z"
   },
   {
    "duration": 6,
    "start_time": "2022-12-13T14:37:56.597Z"
   },
   {
    "duration": 165,
    "start_time": "2022-12-13T14:37:56.605Z"
   },
   {
    "duration": 3955,
    "start_time": "2022-12-13T14:43:54.296Z"
   },
   {
    "duration": 7,
    "start_time": "2022-12-13T14:44:11.548Z"
   },
   {
    "duration": 129,
    "start_time": "2022-12-13T14:46:36.955Z"
   },
   {
    "duration": 1388,
    "start_time": "2022-12-15T14:04:24.197Z"
   },
   {
    "duration": 3,
    "start_time": "2022-12-15T14:04:28.613Z"
   },
   {
    "duration": 5069,
    "start_time": "2022-12-15T14:04:31.174Z"
   },
   {
    "duration": 216,
    "start_time": "2022-12-15T14:04:56.215Z"
   },
   {
    "duration": 11,
    "start_time": "2022-12-15T14:17:54.100Z"
   },
   {
    "duration": 39,
    "start_time": "2022-12-15T14:17:56.495Z"
   },
   {
    "duration": 18,
    "start_time": "2022-12-15T14:17:58.364Z"
   },
   {
    "duration": 38,
    "start_time": "2022-12-15T14:17:59.599Z"
   },
   {
    "duration": 11,
    "start_time": "2022-12-15T14:18:00.994Z"
   },
   {
    "duration": 45,
    "start_time": "2022-12-15T14:18:02.137Z"
   },
   {
    "duration": 10,
    "start_time": "2022-12-15T14:18:03.689Z"
   },
   {
    "duration": 348,
    "start_time": "2022-12-15T14:18:08.755Z"
   },
   {
    "duration": 7,
    "start_time": "2022-12-15T14:18:09.338Z"
   },
   {
    "duration": 195,
    "start_time": "2022-12-15T14:18:11.156Z"
   },
   {
    "duration": 181,
    "start_time": "2022-12-15T14:18:18.165Z"
   },
   {
    "duration": 6,
    "start_time": "2022-12-15T14:18:18.756Z"
   },
   {
    "duration": 136,
    "start_time": "2022-12-15T14:18:19.921Z"
   },
   {
    "duration": 189,
    "start_time": "2022-12-15T14:18:21.519Z"
   },
   {
    "duration": 7,
    "start_time": "2022-12-15T14:18:22.034Z"
   },
   {
    "duration": 148,
    "start_time": "2022-12-15T14:18:22.586Z"
   },
   {
    "duration": 204,
    "start_time": "2022-12-15T14:18:25.105Z"
   },
   {
    "duration": 7,
    "start_time": "2022-12-15T14:18:25.681Z"
   },
   {
    "duration": 146,
    "start_time": "2022-12-15T14:18:26.345Z"
   },
   {
    "duration": 153,
    "start_time": "2022-12-15T14:18:27.770Z"
   },
   {
    "duration": 7,
    "start_time": "2022-12-15T14:18:28.259Z"
   },
   {
    "duration": 218,
    "start_time": "2022-12-15T14:18:29.816Z"
   },
   {
    "duration": 192,
    "start_time": "2022-12-15T14:18:31.035Z"
   },
   {
    "duration": 7,
    "start_time": "2022-12-15T14:18:31.570Z"
   },
   {
    "duration": 128,
    "start_time": "2022-12-15T14:18:32.158Z"
   },
   {
    "duration": 209,
    "start_time": "2022-12-15T14:18:33.868Z"
   },
   {
    "duration": 9,
    "start_time": "2022-12-15T14:18:34.564Z"
   },
   {
    "duration": 267,
    "start_time": "2022-12-15T14:18:37.051Z"
   },
   {
    "duration": 5002,
    "start_time": "2022-12-15T14:18:38.661Z"
   },
   {
    "duration": 6,
    "start_time": "2022-12-15T14:18:43.665Z"
   },
   {
    "duration": 159,
    "start_time": "2022-12-15T14:18:43.673Z"
   },
   {
    "duration": 4010,
    "start_time": "2022-12-15T14:18:46.718Z"
   },
   {
    "duration": 6,
    "start_time": "2022-12-15T14:18:50.730Z"
   },
   {
    "duration": 125,
    "start_time": "2022-12-15T14:18:50.738Z"
   },
   {
    "duration": 1453,
    "start_time": "2022-12-16T11:56:26.288Z"
   },
   {
    "duration": 4,
    "start_time": "2022-12-16T11:56:30.440Z"
   },
   {
    "duration": 7818,
    "start_time": "2022-12-16T11:56:33.272Z"
   },
   {
    "duration": 45,
    "start_time": "2022-12-16T11:56:45.000Z"
   },
   {
    "duration": 14,
    "start_time": "2022-12-16T11:56:46.248Z"
   },
   {
    "duration": 9,
    "start_time": "2022-12-16T11:56:49.021Z"
   },
   {
    "duration": 28,
    "start_time": "2022-12-16T11:56:50.612Z"
   },
   {
    "duration": 7,
    "start_time": "2022-12-16T11:56:56.097Z"
   },
   {
    "duration": 12,
    "start_time": "2022-12-16T11:56:58.074Z"
   },
   {
    "duration": 8,
    "start_time": "2022-12-16T11:57:00.033Z"
   },
   {
    "duration": 12,
    "start_time": "2022-12-16T11:57:01.853Z"
   },
   {
    "duration": 313,
    "start_time": "2022-12-16T11:57:08.822Z"
   },
   {
    "duration": 7,
    "start_time": "2022-12-16T11:57:10.684Z"
   },
   {
    "duration": 214,
    "start_time": "2022-12-16T11:57:11.508Z"
   },
   {
    "duration": 148,
    "start_time": "2022-12-16T11:57:15.626Z"
   },
   {
    "duration": 8,
    "start_time": "2022-12-16T11:57:17.552Z"
   },
   {
    "duration": 186,
    "start_time": "2022-12-16T11:57:19.014Z"
   },
   {
    "duration": 161,
    "start_time": "2022-12-16T11:57:21.963Z"
   },
   {
    "duration": 7,
    "start_time": "2022-12-16T11:57:23.829Z"
   },
   {
    "duration": 183,
    "start_time": "2022-12-16T11:57:24.182Z"
   },
   {
    "duration": 163,
    "start_time": "2022-12-16T11:57:27.766Z"
   },
   {
    "duration": 7,
    "start_time": "2022-12-16T11:57:29.631Z"
   },
   {
    "duration": 160,
    "start_time": "2022-12-16T11:57:30.212Z"
   },
   {
    "duration": 122,
    "start_time": "2022-12-16T11:57:33.031Z"
   },
   {
    "duration": 9,
    "start_time": "2022-12-16T11:57:34.678Z"
   },
   {
    "duration": 225,
    "start_time": "2022-12-16T11:57:35.543Z"
   },
   {
    "duration": 158,
    "start_time": "2022-12-16T11:57:38.343Z"
   },
   {
    "duration": 7,
    "start_time": "2022-12-16T11:57:40.066Z"
   },
   {
    "duration": 156,
    "start_time": "2022-12-16T11:57:41.070Z"
   },
   {
    "duration": 168,
    "start_time": "2022-12-16T11:57:44.287Z"
   },
   {
    "duration": 8,
    "start_time": "2022-12-16T11:57:46.694Z"
   },
   {
    "duration": 264,
    "start_time": "2022-12-16T11:57:47.327Z"
   },
   {
    "duration": 4534,
    "start_time": "2022-12-16T11:57:50.595Z"
   },
   {
    "duration": 7,
    "start_time": "2022-12-16T11:57:55.131Z"
   },
   {
    "duration": 168,
    "start_time": "2022-12-16T11:57:55.139Z"
   },
   {
    "duration": 4040,
    "start_time": "2022-12-16T11:57:55.581Z"
   },
   {
    "duration": 7,
    "start_time": "2022-12-16T11:58:00.438Z"
   },
   {
    "duration": 143,
    "start_time": "2022-12-16T11:58:03.827Z"
   },
   {
    "duration": 3929,
    "start_time": "2022-12-16T13:00:57.063Z"
   },
   {
    "duration": 3900,
    "start_time": "2022-12-16T13:01:16.838Z"
   },
   {
    "duration": 7,
    "start_time": "2022-12-16T13:12:07.853Z"
   },
   {
    "duration": 152,
    "start_time": "2022-12-16T13:14:09.581Z"
   },
   {
    "duration": 1559,
    "start_time": "2022-12-20T09:36:17.366Z"
   },
   {
    "duration": 3,
    "start_time": "2022-12-20T09:42:05.442Z"
   },
   {
    "duration": 5994,
    "start_time": "2022-12-20T09:42:08.212Z"
   },
   {
    "duration": 259,
    "start_time": "2022-12-20T09:42:18.037Z"
   },
   {
    "duration": 17,
    "start_time": "2022-12-20T09:42:19.406Z"
   },
   {
    "duration": 40,
    "start_time": "2022-12-20T09:42:21.921Z"
   },
   {
    "duration": 26,
    "start_time": "2022-12-20T09:42:22.638Z"
   },
   {
    "duration": 39,
    "start_time": "2022-12-20T09:42:25.134Z"
   },
   {
    "duration": 11,
    "start_time": "2022-12-20T09:42:26.450Z"
   },
   {
    "duration": 43,
    "start_time": "2022-12-20T09:42:29.061Z"
   },
   {
    "duration": 9,
    "start_time": "2022-12-20T09:42:29.598Z"
   },
   {
    "duration": 361,
    "start_time": "2022-12-20T09:42:32.601Z"
   },
   {
    "duration": 7,
    "start_time": "2022-12-20T09:42:33.441Z"
   },
   {
    "duration": 225,
    "start_time": "2022-12-20T09:42:35.631Z"
   },
   {
    "duration": 185,
    "start_time": "2022-12-20T09:42:39.222Z"
   },
   {
    "duration": 6,
    "start_time": "2022-12-20T09:42:39.836Z"
   },
   {
    "duration": 159,
    "start_time": "2022-12-20T09:42:41.890Z"
   },
   {
    "duration": 198,
    "start_time": "2022-12-20T09:42:44.835Z"
   },
   {
    "duration": 6,
    "start_time": "2022-12-20T09:42:45.727Z"
   },
   {
    "duration": 189,
    "start_time": "2022-12-20T09:42:48.663Z"
   },
   {
    "duration": 201,
    "start_time": "2022-12-20T09:42:53.058Z"
   },
   {
    "duration": 6,
    "start_time": "2022-12-20T09:42:54.863Z"
   },
   {
    "duration": 159,
    "start_time": "2022-12-20T09:42:55.509Z"
   },
   {
    "duration": 165,
    "start_time": "2022-12-20T09:42:58.326Z"
   },
   {
    "duration": 6,
    "start_time": "2022-12-20T09:43:00.107Z"
   },
   {
    "duration": 243,
    "start_time": "2022-12-20T09:43:00.843Z"
   },
   {
    "duration": 218,
    "start_time": "2022-12-20T09:43:03.777Z"
   },
   {
    "duration": 7,
    "start_time": "2022-12-20T09:43:05.412Z"
   },
   {
    "duration": 181,
    "start_time": "2022-12-20T09:43:05.978Z"
   },
   {
    "duration": 208,
    "start_time": "2022-12-20T09:43:09.571Z"
   },
   {
    "duration": 7,
    "start_time": "2022-12-20T09:43:11.312Z"
   },
   {
    "duration": 268,
    "start_time": "2022-12-20T09:43:14.068Z"
   },
   {
    "duration": 1633,
    "start_time": "2022-12-20T09:43:17.541Z"
   },
   {
    "duration": 9,
    "start_time": "2022-12-20T09:43:19.177Z"
   },
   {
    "duration": 225,
    "start_time": "2022-12-20T09:43:19.189Z"
   },
   {
    "duration": 776,
    "start_time": "2022-12-20T09:43:22.298Z"
   },
   {
    "duration": 9,
    "start_time": "2022-12-20T09:43:23.077Z"
   },
   {
    "duration": 139,
    "start_time": "2022-12-20T09:43:23.322Z"
   },
   {
    "duration": 741,
    "start_time": "2022-12-20T09:43:26.241Z"
   },
   {
    "duration": 6,
    "start_time": "2022-12-20T09:43:27.140Z"
   },
   {
    "duration": 156,
    "start_time": "2022-12-20T09:43:27.771Z"
   },
   {
    "duration": 1252,
    "start_time": "2022-12-20T13:50:33.165Z"
   },
   {
    "duration": 4,
    "start_time": "2022-12-20T13:50:37.597Z"
   },
   {
    "duration": 7998,
    "start_time": "2022-12-20T13:50:39.806Z"
   },
   {
    "duration": 64,
    "start_time": "2022-12-20T13:52:31.705Z"
   },
   {
    "duration": 12,
    "start_time": "2022-12-20T13:52:33.093Z"
   },
   {
    "duration": 9,
    "start_time": "2022-12-20T13:54:24.208Z"
   },
   {
    "duration": 17,
    "start_time": "2022-12-20T13:54:26.168Z"
   },
   {
    "duration": 9,
    "start_time": "2022-12-20T13:54:39.541Z"
   },
   {
    "duration": 14,
    "start_time": "2022-12-20T13:54:40.338Z"
   },
   {
    "duration": 10,
    "start_time": "2022-12-20T13:54:42.260Z"
   },
   {
    "duration": 11,
    "start_time": "2022-12-20T13:54:42.806Z"
   },
   {
    "duration": 1538,
    "start_time": "2022-12-21T13:16:07.777Z"
   },
   {
    "duration": 4,
    "start_time": "2022-12-21T13:16:09.958Z"
   },
   {
    "duration": 7821,
    "start_time": "2022-12-21T13:24:40.668Z"
   },
   {
    "duration": 592,
    "start_time": "2022-12-21T13:24:51.724Z"
   },
   {
    "duration": 15,
    "start_time": "2022-12-21T13:24:53.392Z"
   },
   {
    "duration": 10,
    "start_time": "2022-12-21T13:24:55.126Z"
   },
   {
    "duration": 20,
    "start_time": "2022-12-21T13:24:56.676Z"
   },
   {
    "duration": 7,
    "start_time": "2022-12-21T13:24:58.867Z"
   },
   {
    "duration": 12,
    "start_time": "2022-12-21T13:25:00.116Z"
   },
   {
    "duration": 7,
    "start_time": "2022-12-21T13:25:02.078Z"
   },
   {
    "duration": 10,
    "start_time": "2022-12-21T13:25:02.698Z"
   },
   {
    "duration": 329,
    "start_time": "2022-12-21T13:25:08.085Z"
   },
   {
    "duration": 7,
    "start_time": "2022-12-21T13:25:09.581Z"
   },
   {
    "duration": 217,
    "start_time": "2022-12-21T13:25:11.069Z"
   },
   {
    "duration": 155,
    "start_time": "2022-12-21T13:25:18.775Z"
   },
   {
    "duration": 7,
    "start_time": "2022-12-21T13:25:20.097Z"
   },
   {
    "duration": 176,
    "start_time": "2022-12-21T13:25:22.822Z"
   },
   {
    "duration": 162,
    "start_time": "2022-12-21T13:25:27.161Z"
   },
   {
    "duration": 8,
    "start_time": "2022-12-21T13:25:27.751Z"
   },
   {
    "duration": 173,
    "start_time": "2022-12-21T13:25:28.542Z"
   },
   {
    "duration": 172,
    "start_time": "2022-12-21T13:25:30.388Z"
   },
   {
    "duration": 8,
    "start_time": "2022-12-21T13:25:30.964Z"
   },
   {
    "duration": 165,
    "start_time": "2022-12-21T13:25:31.657Z"
   },
   {
    "duration": 135,
    "start_time": "2022-12-21T13:25:32.807Z"
   },
   {
    "duration": 7,
    "start_time": "2022-12-21T13:25:33.357Z"
   },
   {
    "duration": 251,
    "start_time": "2022-12-21T13:25:34.153Z"
   },
   {
    "duration": 161,
    "start_time": "2022-12-21T13:25:42.206Z"
   },
   {
    "duration": 7,
    "start_time": "2022-12-21T13:25:43.602Z"
   },
   {
    "duration": 155,
    "start_time": "2022-12-21T13:25:45.215Z"
   },
   {
    "duration": 178,
    "start_time": "2022-12-21T13:25:49.577Z"
   },
   {
    "duration": 8,
    "start_time": "2022-12-21T13:25:52.140Z"
   },
   {
    "duration": 272,
    "start_time": "2022-12-21T13:25:54.570Z"
   },
   {
    "duration": 4498,
    "start_time": "2022-12-21T14:11:27.287Z"
   },
   {
    "duration": 7,
    "start_time": "2022-12-21T14:11:34.179Z"
   },
   {
    "duration": 1448,
    "start_time": "2022-12-21T18:42:17.056Z"
   },
   {
    "duration": 4,
    "start_time": "2022-12-21T18:42:19.711Z"
   },
   {
    "duration": 7421,
    "start_time": "2022-12-21T18:42:22.945Z"
   },
   {
    "duration": 47,
    "start_time": "2022-12-21T18:42:33.850Z"
   },
   {
    "duration": 12,
    "start_time": "2022-12-21T18:42:35.299Z"
   },
   {
    "duration": 8,
    "start_time": "2022-12-21T18:42:37.297Z"
   },
   {
    "duration": 18,
    "start_time": "2022-12-21T18:42:38.454Z"
   },
   {
    "duration": 6,
    "start_time": "2022-12-21T18:42:40.747Z"
   },
   {
    "duration": 11,
    "start_time": "2022-12-21T18:42:41.693Z"
   },
   {
    "duration": 7,
    "start_time": "2022-12-21T18:42:44.100Z"
   },
   {
    "duration": 8,
    "start_time": "2022-12-21T18:42:46.024Z"
   },
   {
    "duration": 321,
    "start_time": "2022-12-21T18:42:53.467Z"
   },
   {
    "duration": 6,
    "start_time": "2022-12-21T18:42:55.319Z"
   },
   {
    "duration": 186,
    "start_time": "2022-12-21T18:42:57.070Z"
   },
   {
    "duration": 154,
    "start_time": "2022-12-21T18:43:03.471Z"
   },
   {
    "duration": 6,
    "start_time": "2022-12-21T18:43:05.421Z"
   },
   {
    "duration": 147,
    "start_time": "2022-12-21T18:43:06.830Z"
   },
   {
    "duration": 164,
    "start_time": "2022-12-21T18:43:10.033Z"
   },
   {
    "duration": 7,
    "start_time": "2022-12-21T18:43:11.726Z"
   },
   {
    "duration": 142,
    "start_time": "2022-12-21T18:43:13.550Z"
   },
   {
    "duration": 170,
    "start_time": "2022-12-21T18:43:19.695Z"
   },
   {
    "duration": 6,
    "start_time": "2022-12-21T18:43:22.129Z"
   },
   {
    "duration": 228,
    "start_time": "2022-12-21T18:43:22.899Z"
   },
   {
    "duration": 125,
    "start_time": "2022-12-21T18:43:31.402Z"
   },
   {
    "duration": 7,
    "start_time": "2022-12-21T18:43:33.493Z"
   },
   {
    "duration": 136,
    "start_time": "2022-12-21T18:43:34.257Z"
   },
   {
    "duration": 156,
    "start_time": "2022-12-21T18:43:44.770Z"
   },
   {
    "duration": 6,
    "start_time": "2022-12-21T18:43:45.622Z"
   },
   {
    "duration": 137,
    "start_time": "2022-12-21T18:43:47.757Z"
   },
   {
    "duration": 176,
    "start_time": "2022-12-21T18:43:55.867Z"
   },
   {
    "duration": 7,
    "start_time": "2022-12-21T18:43:57.494Z"
   },
   {
    "duration": 233,
    "start_time": "2022-12-21T18:43:59.243Z"
   },
   {
    "duration": 4547,
    "start_time": "2022-12-21T18:44:04.199Z"
   },
   {
    "duration": 7,
    "start_time": "2022-12-21T18:44:08.748Z"
   },
   {
    "duration": 136,
    "start_time": "2022-12-21T18:44:11.357Z"
   },
   {
    "duration": 1248,
    "start_time": "2022-12-22T08:49:42.963Z"
   },
   {
    "duration": 4,
    "start_time": "2022-12-22T08:49:46.981Z"
   },
   {
    "duration": 7970,
    "start_time": "2022-12-22T08:49:49.972Z"
   },
   {
    "duration": 33,
    "start_time": "2022-12-22T08:50:00.951Z"
   },
   {
    "duration": 11,
    "start_time": "2022-12-22T08:50:02.821Z"
   },
   {
    "duration": 8,
    "start_time": "2022-12-22T08:50:05.346Z"
   },
   {
    "duration": 18,
    "start_time": "2022-12-22T08:50:06.065Z"
   },
   {
    "duration": 6,
    "start_time": "2022-12-22T08:50:08.538Z"
   },
   {
    "duration": 10,
    "start_time": "2022-12-22T08:50:09.901Z"
   },
   {
    "duration": 6,
    "start_time": "2022-12-22T08:50:11.916Z"
   },
   {
    "duration": 8,
    "start_time": "2022-12-22T08:50:12.606Z"
   },
   {
    "duration": 328,
    "start_time": "2022-12-22T08:50:16.905Z"
   },
   {
    "duration": 7,
    "start_time": "2022-12-22T08:50:19.042Z"
   },
   {
    "duration": 199,
    "start_time": "2022-12-22T08:50:20.767Z"
   },
   {
    "duration": 154,
    "start_time": "2022-12-22T08:50:25.011Z"
   },
   {
    "duration": 6,
    "start_time": "2022-12-22T08:50:25.730Z"
   },
   {
    "duration": 128,
    "start_time": "2022-12-22T08:50:28.534Z"
   },
   {
    "duration": 162,
    "start_time": "2022-12-22T08:50:31.636Z"
   },
   {
    "duration": 6,
    "start_time": "2022-12-22T08:50:33.023Z"
   },
   {
    "duration": 139,
    "start_time": "2022-12-22T08:50:35.156Z"
   },
   {
    "duration": 168,
    "start_time": "2022-12-22T08:50:38.562Z"
   },
   {
    "duration": 6,
    "start_time": "2022-12-22T08:50:39.277Z"
   },
   {
    "duration": 137,
    "start_time": "2022-12-22T08:50:40.984Z"
   },
   {
    "duration": 128,
    "start_time": "2022-12-22T08:50:43.468Z"
   },
   {
    "duration": 7,
    "start_time": "2022-12-22T08:50:45.254Z"
   },
   {
    "duration": 210,
    "start_time": "2022-12-22T08:50:46.999Z"
   },
   {
    "duration": 159,
    "start_time": "2022-12-22T08:50:50.601Z"
   },
   {
    "duration": 6,
    "start_time": "2022-12-22T08:50:51.722Z"
   },
   {
    "duration": 125,
    "start_time": "2022-12-22T08:50:53.122Z"
   },
   {
    "duration": 176,
    "start_time": "2022-12-22T08:50:56.010Z"
   },
   {
    "duration": 7,
    "start_time": "2022-12-22T08:50:57.836Z"
   },
   {
    "duration": 230,
    "start_time": "2022-12-22T08:51:00.141Z"
   },
   {
    "duration": 4496,
    "start_time": "2022-12-22T08:51:02.566Z"
   },
   {
    "duration": 6,
    "start_time": "2022-12-22T08:51:07.064Z"
   },
   {
    "duration": 160,
    "start_time": "2022-12-22T08:51:07.072Z"
   },
   {
    "duration": 747,
    "start_time": "2022-12-22T08:51:12.351Z"
   },
   {
    "duration": 6,
    "start_time": "2022-12-22T08:51:13.139Z"
   },
   {
    "duration": 122,
    "start_time": "2022-12-22T08:51:13.929Z"
   },
   {
    "duration": 4136,
    "start_time": "2022-12-22T08:51:18.492Z"
   },
   {
    "duration": 6,
    "start_time": "2022-12-22T08:51:22.630Z"
   },
   {
    "duration": 143,
    "start_time": "2022-12-22T08:51:22.638Z"
   },
   {
    "duration": 16514,
    "start_time": "2022-12-22T08:57:07.803Z"
   },
   {
    "duration": 18,
    "start_time": "2022-12-22T08:57:38.147Z"
   },
   {
    "duration": 23500,
    "start_time": "2022-12-22T09:01:11.351Z"
   },
   {
    "duration": 16,
    "start_time": "2022-12-22T09:01:38.722Z"
   },
   {
    "duration": 6,
    "start_time": "2022-12-22T09:03:21.306Z"
   },
   {
    "duration": 6,
    "start_time": "2022-12-22T09:04:22.199Z"
   },
   {
    "duration": 72,
    "start_time": "2022-12-22T09:30:22.411Z"
   },
   {
    "duration": 1429,
    "start_time": "2022-12-23T11:43:45.145Z"
   },
   {
    "duration": 3,
    "start_time": "2022-12-23T11:43:46.576Z"
   },
   {
    "duration": 6779,
    "start_time": "2022-12-23T11:43:46.580Z"
   },
   {
    "duration": 274,
    "start_time": "2022-12-23T11:43:53.361Z"
   },
   {
    "duration": 11,
    "start_time": "2022-12-23T11:43:53.637Z"
   },
   {
    "duration": 42,
    "start_time": "2022-12-23T11:43:53.649Z"
   },
   {
    "duration": 27,
    "start_time": "2022-12-23T11:43:53.693Z"
   },
   {
    "duration": 44,
    "start_time": "2022-12-23T11:43:53.722Z"
   },
   {
    "duration": 9,
    "start_time": "2022-12-23T11:43:53.768Z"
   },
   {
    "duration": 67,
    "start_time": "2022-12-23T11:43:53.778Z"
   },
   {
    "duration": 8,
    "start_time": "2022-12-23T11:43:53.846Z"
   },
   {
    "duration": 378,
    "start_time": "2022-12-23T11:43:53.856Z"
   },
   {
    "duration": 6,
    "start_time": "2022-12-23T11:43:54.235Z"
   },
   {
    "duration": 208,
    "start_time": "2022-12-23T11:43:54.244Z"
   },
   {
    "duration": 182,
    "start_time": "2022-12-23T11:43:54.453Z"
   },
   {
    "duration": 6,
    "start_time": "2022-12-23T11:43:54.637Z"
   },
   {
    "duration": 197,
    "start_time": "2022-12-23T11:43:54.645Z"
   },
   {
    "duration": 195,
    "start_time": "2022-12-23T11:43:54.844Z"
   },
   {
    "duration": 8,
    "start_time": "2022-12-23T11:43:55.041Z"
   },
   {
    "duration": 169,
    "start_time": "2022-12-23T11:43:55.051Z"
   },
   {
    "duration": 215,
    "start_time": "2022-12-23T11:43:55.221Z"
   },
   {
    "duration": 6,
    "start_time": "2022-12-23T11:43:55.437Z"
   },
   {
    "duration": 162,
    "start_time": "2022-12-23T11:43:55.444Z"
   },
   {
    "duration": 163,
    "start_time": "2022-12-23T11:43:55.609Z"
   },
   {
    "duration": 7,
    "start_time": "2022-12-23T11:43:55.773Z"
   },
   {
    "duration": 249,
    "start_time": "2022-12-23T11:43:55.781Z"
   },
   {
    "duration": 202,
    "start_time": "2022-12-23T11:43:56.032Z"
   },
   {
    "duration": 5,
    "start_time": "2022-12-23T11:43:56.235Z"
   },
   {
    "duration": 146,
    "start_time": "2022-12-23T11:43:56.242Z"
   },
   {
    "duration": 229,
    "start_time": "2022-12-23T11:43:56.390Z"
   },
   {
    "duration": 7,
    "start_time": "2022-12-23T11:43:56.622Z"
   },
   {
    "duration": 275,
    "start_time": "2022-12-23T11:43:56.630Z"
   },
   {
    "duration": 4547,
    "start_time": "2022-12-23T11:43:56.909Z"
   },
   {
    "duration": 9,
    "start_time": "2022-12-23T11:44:01.458Z"
   },
   {
    "duration": 183,
    "start_time": "2022-12-23T11:44:01.468Z"
   },
   {
    "duration": 4088,
    "start_time": "2022-12-23T11:44:01.653Z"
   },
   {
    "duration": 6,
    "start_time": "2022-12-23T11:44:05.742Z"
   },
   {
    "duration": 152,
    "start_time": "2022-12-23T11:44:05.749Z"
   },
   {
    "duration": 3373,
    "start_time": "2022-12-23T11:44:05.902Z"
   },
   {
    "duration": 6,
    "start_time": "2022-12-23T11:44:09.277Z"
   },
   {
    "duration": 150,
    "start_time": "2022-12-23T11:44:09.286Z"
   },
   {
    "duration": 28606,
    "start_time": "2022-12-23T11:44:09.437Z"
   },
   {
    "duration": 15,
    "start_time": "2022-12-23T11:44:38.045Z"
   },
   {
    "duration": 11,
    "start_time": "2022-12-23T11:44:38.062Z"
   },
   {
    "duration": 14,
    "start_time": "2022-12-23T12:15:54.853Z"
   },
   {
    "duration": 60,
    "start_time": "2022-12-23T12:25:49.919Z"
   },
   {
    "duration": 100,
    "start_time": "2022-12-23T12:27:27.694Z"
   },
   {
    "duration": 57,
    "start_time": "2022-12-23T12:27:43.309Z"
   },
   {
    "duration": 65,
    "start_time": "2022-12-23T12:27:50.546Z"
   },
   {
    "duration": 104,
    "start_time": "2022-12-23T12:39:10.324Z"
   },
   {
    "duration": 71,
    "start_time": "2022-12-23T12:39:21.392Z"
   },
   {
    "duration": 86,
    "start_time": "2022-12-23T12:40:34.666Z"
   },
   {
    "duration": 59,
    "start_time": "2022-12-23T12:40:36.176Z"
   },
   {
    "duration": 107,
    "start_time": "2022-12-23T12:57:01.592Z"
   },
   {
    "duration": 16,
    "start_time": "2022-12-23T12:57:42.859Z"
   },
   {
    "duration": 12,
    "start_time": "2022-12-23T12:59:00.543Z"
   },
   {
    "duration": 17,
    "start_time": "2022-12-23T13:00:00.114Z"
   },
   {
    "duration": 19,
    "start_time": "2022-12-23T13:00:49.969Z"
   },
   {
    "duration": 22,
    "start_time": "2022-12-23T13:01:07.166Z"
   },
   {
    "duration": 21,
    "start_time": "2022-12-23T13:01:13.674Z"
   },
   {
    "duration": 19,
    "start_time": "2022-12-23T13:01:42.078Z"
   },
   {
    "duration": 19,
    "start_time": "2022-12-23T13:02:20.548Z"
   },
   {
    "duration": 27,
    "start_time": "2022-12-23T13:02:49.284Z"
   },
   {
    "duration": 58,
    "start_time": "2022-12-23T13:06:22.127Z"
   },
   {
    "duration": 199,
    "start_time": "2022-12-23T13:16:56.370Z"
   },
   {
    "duration": 250,
    "start_time": "2022-12-23T13:17:06.317Z"
   },
   {
    "duration": 294,
    "start_time": "2022-12-23T13:17:28.075Z"
   },
   {
    "duration": 320,
    "start_time": "2022-12-23T13:17:35.444Z"
   },
   {
    "duration": 49,
    "start_time": "2022-12-23T13:19:12.762Z"
   },
   {
    "duration": 39,
    "start_time": "2022-12-23T13:19:29.609Z"
   },
   {
    "duration": 6,
    "start_time": "2022-12-23T13:22:20.870Z"
   },
   {
    "duration": 5,
    "start_time": "2022-12-23T13:22:30.875Z"
   },
   {
    "duration": 4,
    "start_time": "2022-12-23T13:22:49.645Z"
   },
   {
    "duration": 1702,
    "start_time": "2022-12-24T12:15:57.847Z"
   },
   {
    "duration": 4,
    "start_time": "2022-12-24T12:15:59.551Z"
   },
   {
    "duration": 6356,
    "start_time": "2022-12-24T12:15:59.556Z"
   },
   {
    "duration": 260,
    "start_time": "2022-12-24T12:16:05.915Z"
   },
   {
    "duration": 23,
    "start_time": "2022-12-24T12:16:06.177Z"
   },
   {
    "duration": 46,
    "start_time": "2022-12-24T12:16:06.202Z"
   },
   {
    "duration": 17,
    "start_time": "2022-12-24T12:16:06.250Z"
   },
   {
    "duration": 64,
    "start_time": "2022-12-24T12:16:06.269Z"
   },
   {
    "duration": 11,
    "start_time": "2022-12-24T12:16:06.335Z"
   },
   {
    "duration": 51,
    "start_time": "2022-12-24T12:16:06.349Z"
   },
   {
    "duration": 10,
    "start_time": "2022-12-24T12:16:06.402Z"
   },
   {
    "duration": 363,
    "start_time": "2022-12-24T12:16:06.414Z"
   },
   {
    "duration": 13,
    "start_time": "2022-12-24T12:16:06.780Z"
   },
   {
    "duration": 245,
    "start_time": "2022-12-24T12:16:06.795Z"
   },
   {
    "duration": 178,
    "start_time": "2022-12-24T12:16:07.042Z"
   },
   {
    "duration": 7,
    "start_time": "2022-12-24T12:16:07.222Z"
   },
   {
    "duration": 182,
    "start_time": "2022-12-24T12:16:07.230Z"
   },
   {
    "duration": 203,
    "start_time": "2022-12-24T12:16:07.414Z"
   },
   {
    "duration": 6,
    "start_time": "2022-12-24T12:16:07.619Z"
   },
   {
    "duration": 195,
    "start_time": "2022-12-24T12:16:07.627Z"
   },
   {
    "duration": 196,
    "start_time": "2022-12-24T12:16:07.824Z"
   },
   {
    "duration": 6,
    "start_time": "2022-12-24T12:16:08.022Z"
   },
   {
    "duration": 188,
    "start_time": "2022-12-24T12:16:08.030Z"
   },
   {
    "duration": 152,
    "start_time": "2022-12-24T12:16:08.222Z"
   },
   {
    "duration": 11,
    "start_time": "2022-12-24T12:16:08.377Z"
   },
   {
    "duration": 345,
    "start_time": "2022-12-24T12:16:08.390Z"
   },
   {
    "duration": 184,
    "start_time": "2022-12-24T12:16:08.736Z"
   },
   {
    "duration": 7,
    "start_time": "2022-12-24T12:16:08.925Z"
   },
   {
    "duration": 177,
    "start_time": "2022-12-24T12:16:08.934Z"
   },
   {
    "duration": 216,
    "start_time": "2022-12-24T12:16:09.113Z"
   },
   {
    "duration": 7,
    "start_time": "2022-12-24T12:16:09.331Z"
   },
   {
    "duration": 304,
    "start_time": "2022-12-24T12:16:09.340Z"
   },
   {
    "duration": 4573,
    "start_time": "2022-12-24T12:16:09.646Z"
   },
   {
    "duration": 8,
    "start_time": "2022-12-24T12:16:14.221Z"
   },
   {
    "duration": 261,
    "start_time": "2022-12-24T12:16:14.231Z"
   },
   {
    "duration": 4033,
    "start_time": "2022-12-24T12:16:14.494Z"
   },
   {
    "duration": 8,
    "start_time": "2022-12-24T12:16:18.529Z"
   },
   {
    "duration": 172,
    "start_time": "2022-12-24T12:16:18.539Z"
   },
   {
    "duration": 3946,
    "start_time": "2022-12-24T12:16:18.712Z"
   },
   {
    "duration": 8,
    "start_time": "2022-12-24T12:16:22.660Z"
   },
   {
    "duration": 198,
    "start_time": "2022-12-24T12:16:22.670Z"
   },
   {
    "duration": 21552,
    "start_time": "2022-12-24T12:16:22.870Z"
   },
   {
    "duration": 13,
    "start_time": "2022-12-24T12:16:44.424Z"
   },
   {
    "duration": 86,
    "start_time": "2022-12-24T12:16:44.439Z"
   },
   {
    "duration": 58,
    "start_time": "2022-12-24T12:16:44.527Z"
   },
   {
    "duration": 133,
    "start_time": "2022-12-24T12:16:44.587Z"
   },
   {
    "duration": 81,
    "start_time": "2022-12-24T12:16:44.723Z"
   },
   {
    "duration": 53,
    "start_time": "2022-12-24T12:16:44.806Z"
   },
   {
    "duration": 29,
    "start_time": "2022-12-24T12:16:44.861Z"
   },
   {
    "duration": 52,
    "start_time": "2022-12-24T12:16:44.892Z"
   },
   {
    "duration": 20,
    "start_time": "2022-12-24T12:16:44.947Z"
   },
   {
    "duration": 47,
    "start_time": "2022-12-24T12:16:44.970Z"
   },
   {
    "duration": 33,
    "start_time": "2022-12-24T12:16:45.019Z"
   },
   {
    "duration": 31,
    "start_time": "2022-12-24T12:16:45.054Z"
   },
   {
    "duration": 104,
    "start_time": "2022-12-24T12:16:45.087Z"
   },
   {
    "duration": 254,
    "start_time": "2022-12-24T12:16:45.193Z"
   },
   {
    "duration": 65,
    "start_time": "2022-12-24T12:16:45.449Z"
   },
   {
    "duration": 32,
    "start_time": "2022-12-24T12:16:45.516Z"
   },
   {
    "duration": 5,
    "start_time": "2022-12-24T12:16:45.550Z"
   },
   {
    "duration": 7,
    "start_time": "2022-12-24T12:46:13.457Z"
   },
   {
    "duration": 7,
    "start_time": "2022-12-24T12:46:30.076Z"
   },
   {
    "duration": 5,
    "start_time": "2022-12-24T12:46:40.114Z"
   },
   {
    "duration": 5,
    "start_time": "2022-12-24T12:46:58.679Z"
   },
   {
    "duration": 19,
    "start_time": "2022-12-24T13:01:57.164Z"
   },
   {
    "duration": 36,
    "start_time": "2022-12-24T13:08:25.009Z"
   },
   {
    "duration": 132,
    "start_time": "2022-12-24T13:09:21.048Z"
   },
   {
    "duration": 33,
    "start_time": "2022-12-24T13:09:29.418Z"
   },
   {
    "duration": 219,
    "start_time": "2022-12-24T13:11:20.130Z"
   },
   {
    "duration": 27,
    "start_time": "2022-12-24T13:14:00.091Z"
   },
   {
    "duration": 27,
    "start_time": "2022-12-24T13:14:26.527Z"
   },
   {
    "duration": 7,
    "start_time": "2022-12-24T13:16:44.461Z"
   },
   {
    "duration": 10,
    "start_time": "2022-12-24T13:16:50.844Z"
   },
   {
    "duration": 8,
    "start_time": "2022-12-24T13:19:53.886Z"
   },
   {
    "duration": 28,
    "start_time": "2022-12-24T13:20:07.270Z"
   },
   {
    "duration": 4,
    "start_time": "2022-12-24T13:20:23.421Z"
   },
   {
    "duration": 140,
    "start_time": "2022-12-24T13:41:50.084Z"
   },
   {
    "duration": 26,
    "start_time": "2022-12-24T13:42:27.500Z"
   },
   {
    "duration": 26,
    "start_time": "2022-12-24T13:42:31.937Z"
   },
   {
    "duration": 4,
    "start_time": "2022-12-24T13:43:19.318Z"
   },
   {
    "duration": 179,
    "start_time": "2022-12-24T14:24:25.200Z"
   },
   {
    "duration": 3,
    "start_time": "2022-12-24T14:40:36.662Z"
   },
   {
    "duration": 59,
    "start_time": "2022-12-24T14:51:34.424Z"
   },
   {
    "duration": 4,
    "start_time": "2022-12-24T14:52:43.291Z"
   },
   {
    "duration": 48,
    "start_time": "2022-12-24T14:52:47.777Z"
   },
   {
    "duration": 929,
    "start_time": "2022-12-24T14:53:02.130Z"
   },
   {
    "duration": 859,
    "start_time": "2022-12-24T14:53:28.659Z"
   },
   {
    "duration": 102876,
    "start_time": "2022-12-24T15:02:02.837Z"
   },
   {
    "duration": 54,
    "start_time": "2022-12-24T15:17:38.977Z"
   },
   {
    "duration": 573,
    "start_time": "2022-12-24T15:28:01.042Z"
   },
   {
    "duration": 3,
    "start_time": "2022-12-24T15:28:19.359Z"
   },
   {
    "duration": 586,
    "start_time": "2022-12-24T15:28:25.316Z"
   },
   {
    "duration": 30,
    "start_time": "2022-12-24T15:30:55.248Z"
   },
   {
    "duration": 550,
    "start_time": "2022-12-24T15:31:48.862Z"
   },
   {
    "duration": 1740,
    "start_time": "2022-12-25T13:00:34.125Z"
   },
   {
    "duration": 6,
    "start_time": "2022-12-25T13:00:41.324Z"
   },
   {
    "duration": 5280,
    "start_time": "2022-12-25T13:00:43.494Z"
   },
   {
    "duration": 403,
    "start_time": "2022-12-25T13:02:22.117Z"
   },
   {
    "duration": 87,
    "start_time": "2022-12-25T13:02:23.433Z"
   },
   {
    "duration": 37,
    "start_time": "2022-12-25T13:02:30.180Z"
   },
   {
    "duration": 19,
    "start_time": "2022-12-25T13:02:31.370Z"
   },
   {
    "duration": 36,
    "start_time": "2022-12-25T13:02:34.064Z"
   },
   {
    "duration": 14,
    "start_time": "2022-12-25T13:02:34.662Z"
   },
   {
    "duration": 34,
    "start_time": "2022-12-25T13:02:37.502Z"
   },
   {
    "duration": 9,
    "start_time": "2022-12-25T13:02:38.075Z"
   },
   {
    "duration": 360,
    "start_time": "2022-12-25T13:02:42.915Z"
   },
   {
    "duration": 7,
    "start_time": "2022-12-25T13:02:44.625Z"
   },
   {
    "duration": 292,
    "start_time": "2022-12-25T13:02:46.302Z"
   },
   {
    "duration": 180,
    "start_time": "2022-12-25T13:02:51.087Z"
   },
   {
    "duration": 7,
    "start_time": "2022-12-25T13:02:52.257Z"
   },
   {
    "duration": 189,
    "start_time": "2022-12-25T13:02:56.155Z"
   },
   {
    "duration": 190,
    "start_time": "2022-12-25T13:03:03.870Z"
   },
   {
    "duration": 6,
    "start_time": "2022-12-25T13:03:05.273Z"
   },
   {
    "duration": 158,
    "start_time": "2022-12-25T13:03:06.887Z"
   },
   {
    "duration": 198,
    "start_time": "2022-12-25T13:03:10.600Z"
   },
   {
    "duration": 9,
    "start_time": "2022-12-25T13:03:12.205Z"
   },
   {
    "duration": 173,
    "start_time": "2022-12-25T13:03:13.934Z"
   },
   {
    "duration": 163,
    "start_time": "2022-12-25T13:03:15.975Z"
   },
   {
    "duration": 7,
    "start_time": "2022-12-25T13:03:16.635Z"
   },
   {
    "duration": 144,
    "start_time": "2022-12-25T13:03:17.820Z"
   },
   {
    "duration": 192,
    "start_time": "2022-12-25T13:03:21.503Z"
   },
   {
    "duration": 8,
    "start_time": "2022-12-25T13:03:23.993Z"
   },
   {
    "duration": 146,
    "start_time": "2022-12-25T13:03:24.651Z"
   },
   {
    "duration": 200,
    "start_time": "2022-12-25T13:03:29.181Z"
   },
   {
    "duration": 8,
    "start_time": "2022-12-25T13:03:29.856Z"
   },
   {
    "duration": 313,
    "start_time": "2022-12-25T13:03:32.489Z"
   },
   {
    "duration": 4536,
    "start_time": "2022-12-25T13:03:34.939Z"
   },
   {
    "duration": 7,
    "start_time": "2022-12-25T13:03:39.477Z"
   },
   {
    "duration": 163,
    "start_time": "2022-12-25T13:03:39.486Z"
   },
   {
    "duration": 4029,
    "start_time": "2022-12-25T13:03:39.727Z"
   },
   {
    "duration": 6,
    "start_time": "2022-12-25T13:03:43.759Z"
   },
   {
    "duration": 148,
    "start_time": "2022-12-25T13:03:43.767Z"
   },
   {
    "duration": 4034,
    "start_time": "2022-12-25T13:03:43.917Z"
   },
   {
    "duration": 7,
    "start_time": "2022-12-25T13:03:47.952Z"
   },
   {
    "duration": 156,
    "start_time": "2022-12-25T13:03:47.961Z"
   },
   {
    "duration": 26108,
    "start_time": "2022-12-25T13:03:48.119Z"
   },
   {
    "duration": 13,
    "start_time": "2022-12-25T13:04:14.229Z"
   },
   {
    "duration": 75,
    "start_time": "2022-12-25T13:04:14.244Z"
   },
   {
    "duration": 60,
    "start_time": "2022-12-25T13:05:00.457Z"
   },
   {
    "duration": 91,
    "start_time": "2022-12-25T13:05:02.694Z"
   },
   {
    "duration": 73,
    "start_time": "2022-12-25T13:05:04.015Z"
   },
   {
    "duration": 56,
    "start_time": "2022-12-25T13:05:04.779Z"
   },
   {
    "duration": 13,
    "start_time": "2022-12-25T13:05:07.973Z"
   },
   {
    "duration": 21,
    "start_time": "2022-12-25T13:05:08.532Z"
   },
   {
    "duration": 19,
    "start_time": "2022-12-25T13:05:09.091Z"
   },
   {
    "duration": 18,
    "start_time": "2022-12-25T13:05:10.243Z"
   },
   {
    "duration": 18,
    "start_time": "2022-12-25T13:05:10.757Z"
   },
   {
    "duration": 19,
    "start_time": "2022-12-25T13:05:11.228Z"
   },
   {
    "duration": 66,
    "start_time": "2022-12-25T13:05:15.088Z"
   },
   {
    "duration": 206,
    "start_time": "2022-12-25T13:05:24.896Z"
   },
   {
    "duration": 43,
    "start_time": "2022-12-25T13:05:33.050Z"
   },
   {
    "duration": 29,
    "start_time": "2022-12-25T13:05:33.870Z"
   },
   {
    "duration": 5,
    "start_time": "2022-12-25T13:05:36.447Z"
   },
   {
    "duration": 5,
    "start_time": "2022-12-25T13:05:36.990Z"
   },
   {
    "duration": 5,
    "start_time": "2022-12-25T13:05:37.533Z"
   },
   {
    "duration": 19,
    "start_time": "2022-12-25T13:05:42.093Z"
   },
   {
    "duration": 3,
    "start_time": "2022-12-25T13:09:41.520Z"
   },
   {
    "duration": 4,
    "start_time": "2022-12-25T13:41:14.653Z"
   },
   {
    "duration": 212,
    "start_time": "2022-12-25T13:41:24.561Z"
   },
   {
    "duration": 387,
    "start_time": "2022-12-25T13:42:08.698Z"
   },
   {
    "duration": 12,
    "start_time": "2022-12-25T13:44:24.294Z"
   },
   {
    "duration": 5,
    "start_time": "2022-12-25T13:45:09.652Z"
   },
   {
    "duration": 6,
    "start_time": "2022-12-25T13:45:35.590Z"
   },
   {
    "duration": 41,
    "start_time": "2022-12-25T13:46:18.172Z"
   },
   {
    "duration": 1569,
    "start_time": "2022-12-25T14:08:24.976Z"
   },
   {
    "duration": 4,
    "start_time": "2022-12-25T14:08:26.547Z"
   },
   {
    "duration": 5665,
    "start_time": "2022-12-25T14:08:26.552Z"
   },
   {
    "duration": 240,
    "start_time": "2022-12-25T14:08:32.220Z"
   },
   {
    "duration": 92,
    "start_time": "2022-12-25T14:08:32.462Z"
   },
   {
    "duration": 38,
    "start_time": "2022-12-25T14:08:32.555Z"
   },
   {
    "duration": 18,
    "start_time": "2022-12-25T14:08:32.595Z"
   },
   {
    "duration": 55,
    "start_time": "2022-12-25T14:08:32.615Z"
   },
   {
    "duration": 11,
    "start_time": "2022-12-25T14:08:32.672Z"
   },
   {
    "duration": 47,
    "start_time": "2022-12-25T14:08:32.686Z"
   },
   {
    "duration": 9,
    "start_time": "2022-12-25T14:08:32.735Z"
   },
   {
    "duration": 359,
    "start_time": "2022-12-25T14:08:32.746Z"
   },
   {
    "duration": 8,
    "start_time": "2022-12-25T14:08:33.106Z"
   },
   {
    "duration": 251,
    "start_time": "2022-12-25T14:08:33.116Z"
   },
   {
    "duration": 182,
    "start_time": "2022-12-25T14:08:33.369Z"
   },
   {
    "duration": 8,
    "start_time": "2022-12-25T14:08:33.553Z"
   },
   {
    "duration": 176,
    "start_time": "2022-12-25T14:08:33.563Z"
   },
   {
    "duration": 195,
    "start_time": "2022-12-25T14:08:33.741Z"
   },
   {
    "duration": 8,
    "start_time": "2022-12-25T14:08:33.939Z"
   },
   {
    "duration": 210,
    "start_time": "2022-12-25T14:08:33.948Z"
   },
   {
    "duration": 196,
    "start_time": "2022-12-25T14:08:34.160Z"
   },
   {
    "duration": 7,
    "start_time": "2022-12-25T14:08:34.358Z"
   },
   {
    "duration": 173,
    "start_time": "2022-12-25T14:08:34.367Z"
   },
   {
    "duration": 156,
    "start_time": "2022-12-25T14:08:34.542Z"
   },
   {
    "duration": 7,
    "start_time": "2022-12-25T14:08:34.700Z"
   },
   {
    "duration": 167,
    "start_time": "2022-12-25T14:08:34.709Z"
   },
   {
    "duration": 189,
    "start_time": "2022-12-25T14:08:34.879Z"
   },
   {
    "duration": 8,
    "start_time": "2022-12-25T14:08:35.073Z"
   },
   {
    "duration": 175,
    "start_time": "2022-12-25T14:08:35.082Z"
   },
   {
    "duration": 200,
    "start_time": "2022-12-25T14:08:35.259Z"
   },
   {
    "duration": 9,
    "start_time": "2022-12-25T14:08:35.461Z"
   },
   {
    "duration": 285,
    "start_time": "2022-12-25T14:08:35.472Z"
   },
   {
    "duration": 4505,
    "start_time": "2022-12-25T14:08:35.758Z"
   },
   {
    "duration": 6,
    "start_time": "2022-12-25T14:08:40.264Z"
   },
   {
    "duration": 171,
    "start_time": "2022-12-25T14:08:40.272Z"
   },
   {
    "duration": 4041,
    "start_time": "2022-12-25T14:08:40.445Z"
   },
   {
    "duration": 6,
    "start_time": "2022-12-25T14:08:44.488Z"
   },
   {
    "duration": 143,
    "start_time": "2022-12-25T14:08:44.495Z"
   },
   {
    "duration": 3948,
    "start_time": "2022-12-25T14:08:44.640Z"
   },
   {
    "duration": 6,
    "start_time": "2022-12-25T14:08:48.590Z"
   },
   {
    "duration": 170,
    "start_time": "2022-12-25T14:08:48.598Z"
   },
   {
    "duration": 25239,
    "start_time": "2022-12-25T14:08:48.770Z"
   },
   {
    "duration": 13,
    "start_time": "2022-12-25T14:09:14.011Z"
   },
   {
    "duration": 65,
    "start_time": "2022-12-25T14:09:14.026Z"
   },
   {
    "duration": 69,
    "start_time": "2022-12-25T14:09:14.093Z"
   },
   {
    "duration": 101,
    "start_time": "2022-12-25T14:09:14.164Z"
   },
   {
    "duration": 75,
    "start_time": "2022-12-25T14:09:14.267Z"
   },
   {
    "duration": 51,
    "start_time": "2022-12-25T14:09:14.344Z"
   },
   {
    "duration": 25,
    "start_time": "2022-12-25T14:09:14.397Z"
   },
   {
    "duration": 23,
    "start_time": "2022-12-25T14:09:14.423Z"
   },
   {
    "duration": 27,
    "start_time": "2022-12-25T14:09:14.448Z"
   },
   {
    "duration": 46,
    "start_time": "2022-12-25T14:09:14.477Z"
   },
   {
    "duration": 21,
    "start_time": "2022-12-25T14:09:14.524Z"
   },
   {
    "duration": 29,
    "start_time": "2022-12-25T14:09:14.547Z"
   },
   {
    "duration": 92,
    "start_time": "2022-12-25T14:09:14.578Z"
   },
   {
    "duration": 230,
    "start_time": "2022-12-25T14:09:14.672Z"
   },
   {
    "duration": 64,
    "start_time": "2022-12-25T14:09:14.903Z"
   },
   {
    "duration": 47,
    "start_time": "2022-12-25T14:09:14.969Z"
   },
   {
    "duration": 6,
    "start_time": "2022-12-25T14:09:15.018Z"
   },
   {
    "duration": 41,
    "start_time": "2022-12-25T14:09:15.026Z"
   },
   {
    "duration": 16,
    "start_time": "2022-12-25T14:09:15.069Z"
   },
   {
    "duration": 18,
    "start_time": "2022-12-25T14:13:03.429Z"
   },
   {
    "duration": 480,
    "start_time": "2022-12-25T14:14:53.003Z"
   },
   {
    "duration": 250,
    "start_time": "2022-12-25T14:16:11.926Z"
   },
   {
    "duration": 68,
    "start_time": "2022-12-25T14:16:22.556Z"
   },
   {
    "duration": 23,
    "start_time": "2022-12-25T14:16:43.724Z"
   },
   {
    "duration": 9,
    "start_time": "2022-12-25T14:18:12.897Z"
   },
   {
    "duration": 10,
    "start_time": "2022-12-25T14:18:26.657Z"
   },
   {
    "duration": 10,
    "start_time": "2022-12-25T14:18:31.924Z"
   },
   {
    "duration": 10,
    "start_time": "2022-12-25T14:18:46.363Z"
   },
   {
    "duration": 6,
    "start_time": "2022-12-25T14:18:55.732Z"
   },
   {
    "duration": 43,
    "start_time": "2022-12-25T14:19:03.320Z"
   },
   {
    "duration": 24,
    "start_time": "2022-12-25T14:19:20.116Z"
   },
   {
    "duration": 4,
    "start_time": "2022-12-25T14:19:35.811Z"
   },
   {
    "duration": 83,
    "start_time": "2022-12-25T14:19:43.127Z"
   },
   {
    "duration": 4,
    "start_time": "2022-12-25T14:19:43.847Z"
   },
   {
    "duration": 829,
    "start_time": "2022-12-25T14:19:48.139Z"
   },
   {
    "duration": 89943,
    "start_time": "2022-12-25T14:20:10.904Z"
   },
   {
    "duration": 548,
    "start_time": "2022-12-25T14:23:50.933Z"
   },
   {
    "duration": 35,
    "start_time": "2022-12-25T14:24:36.668Z"
   },
   {
    "duration": 11,
    "start_time": "2022-12-25T14:25:27.897Z"
   },
   {
    "duration": 1481,
    "start_time": "2022-12-25T14:29:05.979Z"
   },
   {
    "duration": 3,
    "start_time": "2022-12-25T14:29:07.462Z"
   },
   {
    "duration": 5074,
    "start_time": "2022-12-25T14:29:07.467Z"
   },
   {
    "duration": 185,
    "start_time": "2022-12-25T14:29:12.543Z"
   },
   {
    "duration": 79,
    "start_time": "2022-12-25T14:29:12.730Z"
   },
   {
    "duration": 36,
    "start_time": "2022-12-25T14:29:12.812Z"
   },
   {
    "duration": 18,
    "start_time": "2022-12-25T14:29:12.850Z"
   },
   {
    "duration": 54,
    "start_time": "2022-12-25T14:29:12.869Z"
   },
   {
    "duration": 11,
    "start_time": "2022-12-25T14:29:12.924Z"
   },
   {
    "duration": 41,
    "start_time": "2022-12-25T14:29:12.938Z"
   },
   {
    "duration": 9,
    "start_time": "2022-12-25T14:29:12.980Z"
   },
   {
    "duration": 371,
    "start_time": "2022-12-25T14:29:12.990Z"
   },
   {
    "duration": 6,
    "start_time": "2022-12-25T14:29:13.363Z"
   },
   {
    "duration": 193,
    "start_time": "2022-12-25T14:29:13.371Z"
   },
   {
    "duration": 182,
    "start_time": "2022-12-25T14:29:13.565Z"
   },
   {
    "duration": 6,
    "start_time": "2022-12-25T14:29:13.749Z"
   },
   {
    "duration": 148,
    "start_time": "2022-12-25T14:29:13.757Z"
   },
   {
    "duration": 198,
    "start_time": "2022-12-25T14:29:13.907Z"
   },
   {
    "duration": 7,
    "start_time": "2022-12-25T14:29:14.107Z"
   },
   {
    "duration": 157,
    "start_time": "2022-12-25T14:29:14.115Z"
   },
   {
    "duration": 203,
    "start_time": "2022-12-25T14:29:14.274Z"
   },
   {
    "duration": 6,
    "start_time": "2022-12-25T14:29:14.479Z"
   },
   {
    "duration": 150,
    "start_time": "2022-12-25T14:29:14.486Z"
   },
   {
    "duration": 155,
    "start_time": "2022-12-25T14:29:14.637Z"
   },
   {
    "duration": 6,
    "start_time": "2022-12-25T14:29:14.794Z"
   },
   {
    "duration": 163,
    "start_time": "2022-12-25T14:29:14.802Z"
   },
   {
    "duration": 194,
    "start_time": "2022-12-25T14:29:14.967Z"
   },
   {
    "duration": 6,
    "start_time": "2022-12-25T14:29:15.165Z"
   },
   {
    "duration": 158,
    "start_time": "2022-12-25T14:29:15.173Z"
   },
   {
    "duration": 201,
    "start_time": "2022-12-25T14:29:15.333Z"
   },
   {
    "duration": 8,
    "start_time": "2022-12-25T14:29:15.536Z"
   },
   {
    "duration": 273,
    "start_time": "2022-12-25T14:29:15.546Z"
   },
   {
    "duration": 4812,
    "start_time": "2022-12-25T14:29:15.821Z"
   },
   {
    "duration": 7,
    "start_time": "2022-12-25T14:29:20.635Z"
   },
   {
    "duration": 162,
    "start_time": "2022-12-25T14:29:20.644Z"
   },
   {
    "duration": 4057,
    "start_time": "2022-12-25T14:29:20.808Z"
   },
   {
    "duration": 8,
    "start_time": "2022-12-25T14:29:24.868Z"
   },
   {
    "duration": 141,
    "start_time": "2022-12-25T14:29:24.877Z"
   },
   {
    "duration": 4017,
    "start_time": "2022-12-25T14:29:25.020Z"
   },
   {
    "duration": 6,
    "start_time": "2022-12-25T14:29:29.040Z"
   },
   {
    "duration": 139,
    "start_time": "2022-12-25T14:29:29.048Z"
   },
   {
    "duration": 23191,
    "start_time": "2022-12-25T14:29:29.189Z"
   },
   {
    "duration": 11,
    "start_time": "2022-12-25T14:29:52.382Z"
   },
   {
    "duration": 75,
    "start_time": "2022-12-25T14:29:52.395Z"
   },
   {
    "duration": 72,
    "start_time": "2022-12-25T14:29:52.472Z"
   },
   {
    "duration": 106,
    "start_time": "2022-12-25T14:29:52.546Z"
   },
   {
    "duration": 81,
    "start_time": "2022-12-25T14:29:52.653Z"
   },
   {
    "duration": 52,
    "start_time": "2022-12-25T14:29:52.736Z"
   },
   {
    "duration": 26,
    "start_time": "2022-12-25T14:29:52.790Z"
   },
   {
    "duration": 21,
    "start_time": "2022-12-25T14:29:52.818Z"
   },
   {
    "duration": 25,
    "start_time": "2022-12-25T14:29:52.841Z"
   },
   {
    "duration": 19,
    "start_time": "2022-12-25T14:29:52.868Z"
   },
   {
    "duration": 42,
    "start_time": "2022-12-25T14:29:52.889Z"
   },
   {
    "duration": 17,
    "start_time": "2022-12-25T14:29:52.933Z"
   },
   {
    "duration": 88,
    "start_time": "2022-12-25T14:29:52.951Z"
   },
   {
    "duration": 206,
    "start_time": "2022-12-25T14:29:53.040Z"
   },
   {
    "duration": 47,
    "start_time": "2022-12-25T14:29:53.247Z"
   },
   {
    "duration": 44,
    "start_time": "2022-12-25T14:29:53.295Z"
   },
   {
    "duration": 4,
    "start_time": "2022-12-25T14:29:53.341Z"
   },
   {
    "duration": 6,
    "start_time": "2022-12-25T14:29:53.347Z"
   },
   {
    "duration": 6,
    "start_time": "2022-12-25T14:29:53.355Z"
   },
   {
    "duration": 6,
    "start_time": "2022-12-25T15:59:04.553Z"
   },
   {
    "duration": 130,
    "start_time": "2022-12-25T15:59:06.929Z"
   },
   {
    "duration": 5,
    "start_time": "2022-12-25T15:59:14.411Z"
   },
   {
    "duration": 10,
    "start_time": "2022-12-25T15:59:16.484Z"
   },
   {
    "duration": 23,
    "start_time": "2022-12-25T16:00:11.263Z"
   },
   {
    "duration": 255,
    "start_time": "2022-12-25T16:00:13.335Z"
   },
   {
    "duration": 31,
    "start_time": "2022-12-25T16:00:16.395Z"
   },
   {
    "duration": 12,
    "start_time": "2022-12-25T16:00:20.801Z"
   },
   {
    "duration": 7,
    "start_time": "2022-12-25T16:00:23.025Z"
   },
   {
    "duration": 40,
    "start_time": "2022-12-25T16:00:28.676Z"
   },
   {
    "duration": 27,
    "start_time": "2022-12-25T16:00:30.034Z"
   },
   {
    "duration": 4,
    "start_time": "2022-12-25T16:00:33.007Z"
   },
   {
    "duration": 75,
    "start_time": "2022-12-25T16:00:36.883Z"
   },
   {
    "duration": 5,
    "start_time": "2022-12-25T16:00:39.115Z"
   },
   {
    "duration": 767,
    "start_time": "2022-12-25T16:00:45.369Z"
   },
   {
    "duration": 94315,
    "start_time": "2022-12-25T16:00:57.096Z"
   },
   {
    "duration": 11,
    "start_time": "2022-12-25T16:03:42.779Z"
   },
   {
    "duration": 12,
    "start_time": "2022-12-25T16:03:47.503Z"
   },
   {
    "duration": 1346,
    "start_time": "2022-12-25T16:03:57.283Z"
   },
   {
    "duration": 11,
    "start_time": "2022-12-25T16:04:52.564Z"
   },
   {
    "duration": 4,
    "start_time": "2022-12-25T16:05:05.598Z"
   },
   {
    "duration": 30,
    "start_time": "2022-12-25T16:07:14.310Z"
   },
   {
    "duration": 3,
    "start_time": "2022-12-25T16:32:41.927Z"
   },
   {
    "duration": 60,
    "start_time": "2022-12-25T16:33:20.044Z"
   },
   {
    "duration": 87,
    "start_time": "2022-12-25T16:36:59.742Z"
   },
   {
    "duration": 75,
    "start_time": "2022-12-25T16:37:16.758Z"
   },
   {
    "duration": 78,
    "start_time": "2022-12-25T16:37:58.982Z"
   },
   {
    "duration": 89,
    "start_time": "2022-12-25T16:38:27.979Z"
   },
   {
    "duration": 898,
    "start_time": "2022-12-25T16:42:58.425Z"
   },
   {
    "duration": 1513,
    "start_time": "2022-12-25T17:15:11.216Z"
   },
   {
    "duration": 5,
    "start_time": "2022-12-25T17:15:12.731Z"
   },
   {
    "duration": 5310,
    "start_time": "2022-12-25T17:15:12.737Z"
   },
   {
    "duration": 224,
    "start_time": "2022-12-25T17:15:18.050Z"
   },
   {
    "duration": 106,
    "start_time": "2022-12-25T17:15:18.277Z"
   },
   {
    "duration": 40,
    "start_time": "2022-12-25T17:15:18.385Z"
   },
   {
    "duration": 19,
    "start_time": "2022-12-25T17:15:18.428Z"
   },
   {
    "duration": 40,
    "start_time": "2022-12-25T17:15:18.449Z"
   },
   {
    "duration": 11,
    "start_time": "2022-12-25T17:15:18.492Z"
   },
   {
    "duration": 41,
    "start_time": "2022-12-25T17:15:18.506Z"
   },
   {
    "duration": 15,
    "start_time": "2022-12-25T17:15:18.549Z"
   },
   {
    "duration": 371,
    "start_time": "2022-12-25T17:15:18.567Z"
   },
   {
    "duration": 8,
    "start_time": "2022-12-25T17:15:18.940Z"
   },
   {
    "duration": 258,
    "start_time": "2022-12-25T17:15:18.950Z"
   },
   {
    "duration": 179,
    "start_time": "2022-12-25T17:15:19.210Z"
   },
   {
    "duration": 7,
    "start_time": "2022-12-25T17:15:19.391Z"
   },
   {
    "duration": 172,
    "start_time": "2022-12-25T17:15:19.400Z"
   },
   {
    "duration": 192,
    "start_time": "2022-12-25T17:15:19.574Z"
   },
   {
    "duration": 6,
    "start_time": "2022-12-25T17:15:19.768Z"
   },
   {
    "duration": 156,
    "start_time": "2022-12-25T17:15:19.776Z"
   },
   {
    "duration": 202,
    "start_time": "2022-12-25T17:15:19.934Z"
   },
   {
    "duration": 7,
    "start_time": "2022-12-25T17:15:20.137Z"
   },
   {
    "duration": 148,
    "start_time": "2022-12-25T17:15:20.145Z"
   },
   {
    "duration": 156,
    "start_time": "2022-12-25T17:15:20.294Z"
   },
   {
    "duration": 7,
    "start_time": "2022-12-25T17:15:20.451Z"
   },
   {
    "duration": 164,
    "start_time": "2022-12-25T17:15:20.459Z"
   },
   {
    "duration": 195,
    "start_time": "2022-12-25T17:15:20.625Z"
   },
   {
    "duration": 7,
    "start_time": "2022-12-25T17:15:20.825Z"
   },
   {
    "duration": 150,
    "start_time": "2022-12-25T17:15:20.833Z"
   },
   {
    "duration": 200,
    "start_time": "2022-12-25T17:15:20.985Z"
   },
   {
    "duration": 6,
    "start_time": "2022-12-25T17:15:21.187Z"
   },
   {
    "duration": 260,
    "start_time": "2022-12-25T17:15:21.195Z"
   },
   {
    "duration": 4561,
    "start_time": "2022-12-25T17:15:21.457Z"
   },
   {
    "duration": 7,
    "start_time": "2022-12-25T17:15:26.020Z"
   },
   {
    "duration": 153,
    "start_time": "2022-12-25T17:15:26.028Z"
   },
   {
    "duration": 4020,
    "start_time": "2022-12-25T17:15:26.183Z"
   },
   {
    "duration": 8,
    "start_time": "2022-12-25T17:15:30.205Z"
   },
   {
    "duration": 148,
    "start_time": "2022-12-25T17:15:30.214Z"
   },
   {
    "duration": 4436,
    "start_time": "2022-12-25T17:15:30.364Z"
   },
   {
    "duration": 8,
    "start_time": "2022-12-25T17:15:34.802Z"
   },
   {
    "duration": 149,
    "start_time": "2022-12-25T17:15:34.812Z"
   },
   {
    "duration": 28489,
    "start_time": "2022-12-25T17:15:34.963Z"
   },
   {
    "duration": 13,
    "start_time": "2022-12-25T17:16:03.453Z"
   },
   {
    "duration": 73,
    "start_time": "2022-12-25T17:16:03.468Z"
   },
   {
    "duration": 56,
    "start_time": "2022-12-25T17:16:03.543Z"
   },
   {
    "duration": 109,
    "start_time": "2022-12-25T17:16:03.601Z"
   },
   {
    "duration": 77,
    "start_time": "2022-12-25T17:16:03.716Z"
   },
   {
    "duration": 67,
    "start_time": "2022-12-25T17:16:03.795Z"
   },
   {
    "duration": 13,
    "start_time": "2022-12-25T17:16:03.864Z"
   },
   {
    "duration": 47,
    "start_time": "2022-12-25T17:16:03.879Z"
   },
   {
    "duration": 20,
    "start_time": "2022-12-25T17:16:03.927Z"
   },
   {
    "duration": 33,
    "start_time": "2022-12-25T17:16:03.949Z"
   },
   {
    "duration": 49,
    "start_time": "2022-12-25T17:16:03.984Z"
   },
   {
    "duration": 23,
    "start_time": "2022-12-25T17:16:04.035Z"
   },
   {
    "duration": 90,
    "start_time": "2022-12-25T17:16:04.060Z"
   },
   {
    "duration": 206,
    "start_time": "2022-12-25T17:16:04.152Z"
   },
   {
    "duration": 57,
    "start_time": "2022-12-25T17:16:04.360Z"
   },
   {
    "duration": 30,
    "start_time": "2022-12-25T17:16:04.419Z"
   },
   {
    "duration": 6,
    "start_time": "2022-12-25T17:16:04.451Z"
   },
   {
    "duration": 6,
    "start_time": "2022-12-25T17:16:04.459Z"
   },
   {
    "duration": 6,
    "start_time": "2022-12-25T17:16:04.466Z"
   },
   {
    "duration": 54,
    "start_time": "2022-12-25T17:16:04.474Z"
   },
   {
    "duration": 259,
    "start_time": "2022-12-25T17:16:04.530Z"
   },
   {
    "duration": 27,
    "start_time": "2022-12-25T17:16:04.791Z"
   },
   {
    "duration": 17,
    "start_time": "2022-12-25T17:16:04.820Z"
   },
   {
    "duration": 8,
    "start_time": "2022-12-25T17:16:04.839Z"
   },
   {
    "duration": 44,
    "start_time": "2022-12-25T17:16:04.849Z"
   },
   {
    "duration": 45,
    "start_time": "2022-12-25T17:16:04.895Z"
   },
   {
    "duration": 10,
    "start_time": "2022-12-25T17:16:04.942Z"
   },
   {
    "duration": 80,
    "start_time": "2022-12-25T17:16:04.953Z"
   },
   {
    "duration": 4,
    "start_time": "2022-12-25T17:16:05.034Z"
   },
   {
    "duration": 765,
    "start_time": "2022-12-25T17:16:05.040Z"
   },
   {
    "duration": 88737,
    "start_time": "2022-12-25T17:16:05.807Z"
   },
   {
    "duration": 1397,
    "start_time": "2022-12-25T17:17:34.546Z"
   },
   {
    "duration": 29,
    "start_time": "2022-12-25T17:17:35.945Z"
   },
   {
    "duration": 85,
    "start_time": "2022-12-25T17:17:35.975Z"
   },
   {
    "duration": 1024,
    "start_time": "2022-12-25T17:17:36.063Z"
   },
   {
    "duration": 1361,
    "start_time": "2022-12-25T17:25:08.575Z"
   },
   {
    "duration": 1444,
    "start_time": "2022-12-25T17:25:40.881Z"
   },
   {
    "duration": 8,
    "start_time": "2022-12-25T17:29:47.884Z"
   },
   {
    "duration": 145,
    "start_time": "2022-12-25T17:32:13.051Z"
   },
   {
    "duration": 4,
    "start_time": "2022-12-25T17:36:38.481Z"
   },
   {
    "duration": 1553,
    "start_time": "2022-12-25T18:04:53.583Z"
   },
   {
    "duration": 3,
    "start_time": "2022-12-25T18:04:55.139Z"
   },
   {
    "duration": 4872,
    "start_time": "2022-12-25T18:04:55.143Z"
   },
   {
    "duration": 206,
    "start_time": "2022-12-25T18:05:00.017Z"
   },
   {
    "duration": 85,
    "start_time": "2022-12-25T18:05:00.224Z"
   },
   {
    "duration": 51,
    "start_time": "2022-12-25T18:05:00.311Z"
   },
   {
    "duration": 19,
    "start_time": "2022-12-25T18:05:00.364Z"
   },
   {
    "duration": 91,
    "start_time": "2022-12-25T18:05:00.384Z"
   },
   {
    "duration": 11,
    "start_time": "2022-12-25T18:05:00.476Z"
   },
   {
    "duration": 62,
    "start_time": "2022-12-25T18:05:00.488Z"
   },
   {
    "duration": 17,
    "start_time": "2022-12-25T18:05:00.552Z"
   },
   {
    "duration": 408,
    "start_time": "2022-12-25T18:05:00.570Z"
   },
   {
    "duration": 7,
    "start_time": "2022-12-25T18:05:00.980Z"
   },
   {
    "duration": 206,
    "start_time": "2022-12-25T18:05:00.991Z"
   },
   {
    "duration": 187,
    "start_time": "2022-12-25T18:05:01.199Z"
   },
   {
    "duration": 5,
    "start_time": "2022-12-25T18:05:01.388Z"
   },
   {
    "duration": 153,
    "start_time": "2022-12-25T18:05:01.396Z"
   },
   {
    "duration": 193,
    "start_time": "2022-12-25T18:05:01.551Z"
   },
   {
    "duration": 6,
    "start_time": "2022-12-25T18:05:01.746Z"
   },
   {
    "duration": 151,
    "start_time": "2022-12-25T18:05:01.754Z"
   },
   {
    "duration": 202,
    "start_time": "2022-12-25T18:05:01.908Z"
   },
   {
    "duration": 6,
    "start_time": "2022-12-25T18:05:02.112Z"
   },
   {
    "duration": 167,
    "start_time": "2022-12-25T18:05:02.120Z"
   },
   {
    "duration": 155,
    "start_time": "2022-12-25T18:05:02.289Z"
   },
   {
    "duration": 7,
    "start_time": "2022-12-25T18:05:02.446Z"
   },
   {
    "duration": 165,
    "start_time": "2022-12-25T18:05:02.455Z"
   },
   {
    "duration": 189,
    "start_time": "2022-12-25T18:05:02.621Z"
   },
   {
    "duration": 8,
    "start_time": "2022-12-25T18:05:02.811Z"
   },
   {
    "duration": 156,
    "start_time": "2022-12-25T18:05:02.821Z"
   },
   {
    "duration": 205,
    "start_time": "2022-12-25T18:05:02.979Z"
   },
   {
    "duration": 8,
    "start_time": "2022-12-25T18:05:03.186Z"
   },
   {
    "duration": 259,
    "start_time": "2022-12-25T18:05:03.196Z"
   },
   {
    "duration": 4453,
    "start_time": "2022-12-25T18:05:03.457Z"
   },
   {
    "duration": 7,
    "start_time": "2022-12-25T18:05:07.912Z"
   },
   {
    "duration": 185,
    "start_time": "2022-12-25T18:05:07.921Z"
   },
   {
    "duration": 3991,
    "start_time": "2022-12-25T18:05:08.108Z"
   },
   {
    "duration": 8,
    "start_time": "2022-12-25T18:05:12.101Z"
   },
   {
    "duration": 148,
    "start_time": "2022-12-25T18:05:12.111Z"
   },
   {
    "duration": 4013,
    "start_time": "2022-12-25T18:05:12.261Z"
   },
   {
    "duration": 10,
    "start_time": "2022-12-25T18:05:16.276Z"
   },
   {
    "duration": 178,
    "start_time": "2022-12-25T18:05:16.291Z"
   },
   {
    "duration": 23072,
    "start_time": "2022-12-25T18:05:16.470Z"
   },
   {
    "duration": 12,
    "start_time": "2022-12-25T18:05:39.544Z"
   },
   {
    "duration": 71,
    "start_time": "2022-12-25T18:05:39.557Z"
   },
   {
    "duration": 58,
    "start_time": "2022-12-25T18:05:39.629Z"
   },
   {
    "duration": 112,
    "start_time": "2022-12-25T18:05:39.688Z"
   },
   {
    "duration": 83,
    "start_time": "2022-12-25T18:05:39.802Z"
   },
   {
    "duration": 63,
    "start_time": "2022-12-25T18:05:39.887Z"
   },
   {
    "duration": 13,
    "start_time": "2022-12-25T18:05:39.952Z"
   },
   {
    "duration": 24,
    "start_time": "2022-12-25T18:05:39.967Z"
   },
   {
    "duration": 36,
    "start_time": "2022-12-25T18:05:39.992Z"
   },
   {
    "duration": 21,
    "start_time": "2022-12-25T18:05:40.029Z"
   },
   {
    "duration": 18,
    "start_time": "2022-12-25T18:05:40.052Z"
   },
   {
    "duration": 46,
    "start_time": "2022-12-25T18:05:40.072Z"
   },
   {
    "duration": 71,
    "start_time": "2022-12-25T18:05:40.119Z"
   },
   {
    "duration": 253,
    "start_time": "2022-12-25T18:05:40.192Z"
   },
   {
    "duration": 49,
    "start_time": "2022-12-25T18:05:40.446Z"
   },
   {
    "duration": 38,
    "start_time": "2022-12-25T18:05:40.497Z"
   },
   {
    "duration": 5,
    "start_time": "2022-12-25T18:05:40.536Z"
   },
   {
    "duration": 7,
    "start_time": "2022-12-25T18:05:40.542Z"
   },
   {
    "duration": 5,
    "start_time": "2022-12-25T18:05:40.550Z"
   },
   {
    "duration": 21,
    "start_time": "2022-12-25T18:05:40.556Z"
   },
   {
    "duration": 281,
    "start_time": "2022-12-25T18:05:40.579Z"
   },
   {
    "duration": 24,
    "start_time": "2022-12-25T18:05:40.861Z"
   },
   {
    "duration": 11,
    "start_time": "2022-12-25T18:05:40.886Z"
   },
   {
    "duration": 18,
    "start_time": "2022-12-25T18:05:40.898Z"
   },
   {
    "duration": 40,
    "start_time": "2022-12-25T18:05:40.918Z"
   },
   {
    "duration": 23,
    "start_time": "2022-12-25T18:05:40.960Z"
   },
   {
    "duration": 6,
    "start_time": "2022-12-25T18:05:40.985Z"
   },
   {
    "duration": 104,
    "start_time": "2022-12-25T18:05:40.993Z"
   },
   {
    "duration": 4,
    "start_time": "2022-12-25T18:05:41.099Z"
   },
   {
    "duration": 747,
    "start_time": "2022-12-25T18:05:41.104Z"
   },
   {
    "duration": 93183,
    "start_time": "2022-12-25T18:05:41.853Z"
   },
   {
    "duration": 1504,
    "start_time": "2022-12-25T18:07:15.038Z"
   },
   {
    "duration": 49,
    "start_time": "2022-12-25T18:07:16.545Z"
   },
   {
    "duration": 116,
    "start_time": "2022-12-25T18:07:16.596Z"
   },
   {
    "duration": 1016,
    "start_time": "2022-12-25T18:07:16.716Z"
   },
   {
    "duration": 1357,
    "start_time": "2022-12-25T18:07:17.733Z"
   },
   {
    "duration": 10,
    "start_time": "2022-12-25T18:07:19.092Z"
   },
   {
    "duration": 171,
    "start_time": "2022-12-25T18:07:19.104Z"
   },
   {
    "duration": 1485,
    "start_time": "2022-12-25T18:13:17.283Z"
   },
   {
    "duration": 4,
    "start_time": "2022-12-25T18:13:18.770Z"
   },
   {
    "duration": 5121,
    "start_time": "2022-12-25T18:13:18.776Z"
   },
   {
    "duration": 207,
    "start_time": "2022-12-25T18:13:23.899Z"
   },
   {
    "duration": 82,
    "start_time": "2022-12-25T18:13:24.108Z"
   },
   {
    "duration": 40,
    "start_time": "2022-12-25T18:13:24.191Z"
   },
   {
    "duration": 17,
    "start_time": "2022-12-25T18:13:24.232Z"
   },
   {
    "duration": 37,
    "start_time": "2022-12-25T18:13:24.250Z"
   },
   {
    "duration": 10,
    "start_time": "2022-12-25T18:13:24.289Z"
   },
   {
    "duration": 38,
    "start_time": "2022-12-25T18:13:24.302Z"
   },
   {
    "duration": 8,
    "start_time": "2022-12-25T18:13:24.341Z"
   },
   {
    "duration": 347,
    "start_time": "2022-12-25T18:13:24.350Z"
   },
   {
    "duration": 7,
    "start_time": "2022-12-25T18:13:24.699Z"
   },
   {
    "duration": 205,
    "start_time": "2022-12-25T18:13:24.708Z"
   },
   {
    "duration": 185,
    "start_time": "2022-12-25T18:13:24.915Z"
   },
   {
    "duration": 6,
    "start_time": "2022-12-25T18:13:25.102Z"
   },
   {
    "duration": 154,
    "start_time": "2022-12-25T18:13:25.110Z"
   },
   {
    "duration": 189,
    "start_time": "2022-12-25T18:13:25.265Z"
   },
   {
    "duration": 7,
    "start_time": "2022-12-25T18:13:25.456Z"
   },
   {
    "duration": 157,
    "start_time": "2022-12-25T18:13:25.464Z"
   },
   {
    "duration": 198,
    "start_time": "2022-12-25T18:13:25.623Z"
   },
   {
    "duration": 6,
    "start_time": "2022-12-25T18:13:25.823Z"
   },
   {
    "duration": 152,
    "start_time": "2022-12-25T18:13:25.831Z"
   },
   {
    "duration": 155,
    "start_time": "2022-12-25T18:13:25.985Z"
   },
   {
    "duration": 6,
    "start_time": "2022-12-25T18:13:26.142Z"
   },
   {
    "duration": 149,
    "start_time": "2022-12-25T18:13:26.149Z"
   },
   {
    "duration": 188,
    "start_time": "2022-12-25T18:13:26.300Z"
   },
   {
    "duration": 10,
    "start_time": "2022-12-25T18:13:26.494Z"
   },
   {
    "duration": 148,
    "start_time": "2022-12-25T18:13:26.506Z"
   },
   {
    "duration": 198,
    "start_time": "2022-12-25T18:13:26.655Z"
   },
   {
    "duration": 7,
    "start_time": "2022-12-25T18:13:26.855Z"
   },
   {
    "duration": 245,
    "start_time": "2022-12-25T18:13:26.864Z"
   },
   {
    "duration": 1007,
    "start_time": "2022-12-25T18:13:27.115Z"
   },
   {
    "duration": 7,
    "start_time": "2022-12-25T18:13:28.124Z"
   },
   {
    "duration": 164,
    "start_time": "2022-12-25T18:13:28.132Z"
   },
   {
    "duration": 4561,
    "start_time": "2022-12-25T18:13:28.297Z"
   },
   {
    "duration": 6,
    "start_time": "2022-12-25T18:13:32.860Z"
   },
   {
    "duration": 126,
    "start_time": "2022-12-25T18:13:32.867Z"
   },
   {
    "duration": 771,
    "start_time": "2022-12-25T18:13:32.995Z"
   },
   {
    "duration": 7,
    "start_time": "2022-12-25T18:13:33.767Z"
   },
   {
    "duration": 140,
    "start_time": "2022-12-25T18:13:33.775Z"
   },
   {
    "duration": 16554,
    "start_time": "2022-12-25T18:13:33.917Z"
   },
   {
    "duration": 16,
    "start_time": "2022-12-25T18:13:50.473Z"
   },
   {
    "duration": 87,
    "start_time": "2022-12-25T18:13:50.491Z"
   },
   {
    "duration": 74,
    "start_time": "2022-12-25T18:13:50.579Z"
   },
   {
    "duration": 114,
    "start_time": "2022-12-25T18:13:50.655Z"
   },
   {
    "duration": 79,
    "start_time": "2022-12-25T18:13:50.770Z"
   },
   {
    "duration": 50,
    "start_time": "2022-12-25T18:13:50.851Z"
   },
   {
    "duration": 22,
    "start_time": "2022-12-25T18:13:50.903Z"
   },
   {
    "duration": 23,
    "start_time": "2022-12-25T18:13:50.927Z"
   },
   {
    "duration": 21,
    "start_time": "2022-12-25T18:13:50.951Z"
   },
   {
    "duration": 45,
    "start_time": "2022-12-25T18:13:50.973Z"
   },
   {
    "duration": 21,
    "start_time": "2022-12-25T18:13:51.020Z"
   },
   {
    "duration": 21,
    "start_time": "2022-12-25T18:13:51.042Z"
   },
   {
    "duration": 96,
    "start_time": "2022-12-25T18:13:51.065Z"
   },
   {
    "duration": 212,
    "start_time": "2022-12-25T18:13:51.163Z"
   },
   {
    "duration": 51,
    "start_time": "2022-12-25T18:13:51.377Z"
   },
   {
    "duration": 29,
    "start_time": "2022-12-25T18:13:51.430Z"
   },
   {
    "duration": 4,
    "start_time": "2022-12-25T18:13:51.461Z"
   },
   {
    "duration": 8,
    "start_time": "2022-12-25T18:13:51.466Z"
   },
   {
    "duration": 5,
    "start_time": "2022-12-25T18:13:51.475Z"
   },
   {
    "duration": 48,
    "start_time": "2022-12-25T18:13:51.481Z"
   },
   {
    "duration": 247,
    "start_time": "2022-12-25T18:13:51.530Z"
   },
   {
    "duration": 25,
    "start_time": "2022-12-25T18:13:51.778Z"
   },
   {
    "duration": 20,
    "start_time": "2022-12-25T18:13:51.804Z"
   },
   {
    "duration": 9,
    "start_time": "2022-12-25T18:13:51.825Z"
   },
   {
    "duration": 44,
    "start_time": "2022-12-25T18:13:51.836Z"
   },
   {
    "duration": 42,
    "start_time": "2022-12-25T18:13:51.882Z"
   },
   {
    "duration": 6,
    "start_time": "2022-12-25T18:13:51.926Z"
   },
   {
    "duration": 101,
    "start_time": "2022-12-25T18:13:51.933Z"
   },
   {
    "duration": 4,
    "start_time": "2022-12-25T18:13:52.036Z"
   },
   {
    "duration": 810,
    "start_time": "2022-12-25T18:13:52.042Z"
   },
   {
    "duration": 90721,
    "start_time": "2022-12-25T18:13:52.853Z"
   },
   {
    "duration": 1389,
    "start_time": "2022-12-25T18:15:23.575Z"
   },
   {
    "duration": 29,
    "start_time": "2022-12-25T18:15:24.965Z"
   },
   {
    "duration": 69,
    "start_time": "2022-12-25T18:15:24.995Z"
   },
   {
    "duration": 945,
    "start_time": "2022-12-25T18:15:25.065Z"
   },
   {
    "duration": 1473,
    "start_time": "2022-12-25T18:15:26.011Z"
   },
   {
    "duration": 10,
    "start_time": "2022-12-25T18:15:27.485Z"
   },
   {
    "duration": 162,
    "start_time": "2022-12-25T18:15:27.497Z"
   },
   {
    "duration": 35,
    "start_time": "2022-12-25T18:15:27.661Z"
   },
   {
    "duration": 4,
    "start_time": "2022-12-25T18:22:18.819Z"
   },
   {
    "duration": 4,
    "start_time": "2022-12-25T18:22:20.391Z"
   },
   {
    "duration": 3,
    "start_time": "2022-12-25T18:22:21.959Z"
   },
   {
    "duration": 124,
    "start_time": "2022-12-25T18:24:23.894Z"
   },
   {
    "duration": 221,
    "start_time": "2022-12-25T18:24:39.592Z"
   },
   {
    "duration": 13,
    "start_time": "2022-12-25T18:25:39.470Z"
   },
   {
    "duration": 5,
    "start_time": "2022-12-25T18:26:12.118Z"
   },
   {
    "duration": 7,
    "start_time": "2022-12-25T18:26:18.429Z"
   },
   {
    "duration": 14,
    "start_time": "2022-12-25T18:28:03.238Z"
   },
   {
    "duration": 13,
    "start_time": "2022-12-25T18:28:24.467Z"
   },
   {
    "duration": 286,
    "start_time": "2022-12-25T18:29:10.807Z"
   },
   {
    "duration": 4,
    "start_time": "2022-12-25T18:31:27.963Z"
   },
   {
    "duration": 8,
    "start_time": "2022-12-25T18:31:39.428Z"
   },
   {
    "duration": 11,
    "start_time": "2022-12-25T18:33:43.856Z"
   },
   {
    "duration": 7,
    "start_time": "2022-12-25T18:34:06.617Z"
   },
   {
    "duration": 1536,
    "start_time": "2022-12-25T18:35:10.700Z"
   },
   {
    "duration": 4,
    "start_time": "2022-12-25T18:35:12.237Z"
   },
   {
    "duration": 4937,
    "start_time": "2022-12-25T18:35:12.243Z"
   },
   {
    "duration": 200,
    "start_time": "2022-12-25T18:35:17.182Z"
   },
   {
    "duration": 86,
    "start_time": "2022-12-25T18:35:17.384Z"
   },
   {
    "duration": 37,
    "start_time": "2022-12-25T18:35:17.471Z"
   },
   {
    "duration": 18,
    "start_time": "2022-12-25T18:35:17.510Z"
   },
   {
    "duration": 39,
    "start_time": "2022-12-25T18:35:17.529Z"
   },
   {
    "duration": 11,
    "start_time": "2022-12-25T18:35:17.570Z"
   },
   {
    "duration": 41,
    "start_time": "2022-12-25T18:35:17.584Z"
   },
   {
    "duration": 10,
    "start_time": "2022-12-25T18:35:17.626Z"
   },
   {
    "duration": 364,
    "start_time": "2022-12-25T18:35:17.638Z"
   },
   {
    "duration": 6,
    "start_time": "2022-12-25T18:35:18.004Z"
   },
   {
    "duration": 202,
    "start_time": "2022-12-25T18:35:18.012Z"
   },
   {
    "duration": 179,
    "start_time": "2022-12-25T18:35:18.215Z"
   },
   {
    "duration": 6,
    "start_time": "2022-12-25T18:35:18.395Z"
   },
   {
    "duration": 147,
    "start_time": "2022-12-25T18:35:18.403Z"
   },
   {
    "duration": 190,
    "start_time": "2022-12-25T18:35:18.552Z"
   },
   {
    "duration": 9,
    "start_time": "2022-12-25T18:35:18.744Z"
   },
   {
    "duration": 195,
    "start_time": "2022-12-25T18:35:18.755Z"
   },
   {
    "duration": 202,
    "start_time": "2022-12-25T18:35:18.952Z"
   },
   {
    "duration": 7,
    "start_time": "2022-12-25T18:35:19.156Z"
   },
   {
    "duration": 152,
    "start_time": "2022-12-25T18:35:19.165Z"
   },
   {
    "duration": 154,
    "start_time": "2022-12-25T18:35:19.319Z"
   },
   {
    "duration": 7,
    "start_time": "2022-12-25T18:35:19.474Z"
   },
   {
    "duration": 150,
    "start_time": "2022-12-25T18:35:19.482Z"
   },
   {
    "duration": 184,
    "start_time": "2022-12-25T18:35:19.633Z"
   },
   {
    "duration": 7,
    "start_time": "2022-12-25T18:35:19.821Z"
   },
   {
    "duration": 158,
    "start_time": "2022-12-25T18:35:19.829Z"
   },
   {
    "duration": 200,
    "start_time": "2022-12-25T18:35:19.989Z"
   },
   {
    "duration": 7,
    "start_time": "2022-12-25T18:35:20.191Z"
   },
   {
    "duration": 252,
    "start_time": "2022-12-25T18:35:20.200Z"
   },
   {
    "duration": 5054,
    "start_time": "2022-12-25T18:35:20.453Z"
   },
   {
    "duration": 6,
    "start_time": "2022-12-25T18:35:25.508Z"
   },
   {
    "duration": 148,
    "start_time": "2022-12-25T18:35:25.516Z"
   },
   {
    "duration": 4012,
    "start_time": "2022-12-25T18:35:25.666Z"
   },
   {
    "duration": 8,
    "start_time": "2022-12-25T18:35:29.680Z"
   },
   {
    "duration": 144,
    "start_time": "2022-12-25T18:35:29.689Z"
   },
   {
    "duration": 762,
    "start_time": "2022-12-25T18:35:29.834Z"
   },
   {
    "duration": 7,
    "start_time": "2022-12-25T18:35:30.598Z"
   },
   {
    "duration": 165,
    "start_time": "2022-12-25T18:35:30.607Z"
   },
   {
    "duration": 22422,
    "start_time": "2022-12-25T18:35:30.774Z"
   },
   {
    "duration": 13,
    "start_time": "2022-12-25T18:35:53.198Z"
   },
   {
    "duration": 69,
    "start_time": "2022-12-25T18:35:53.216Z"
   },
   {
    "duration": 73,
    "start_time": "2022-12-25T18:35:53.287Z"
   },
   {
    "duration": 103,
    "start_time": "2022-12-25T18:35:53.362Z"
   },
   {
    "duration": 80,
    "start_time": "2022-12-25T18:35:53.467Z"
   },
   {
    "duration": 54,
    "start_time": "2022-12-25T18:35:53.548Z"
   },
   {
    "duration": 14,
    "start_time": "2022-12-25T18:35:53.615Z"
   },
   {
    "duration": 29,
    "start_time": "2022-12-25T18:35:53.631Z"
   },
   {
    "duration": 19,
    "start_time": "2022-12-25T18:35:53.662Z"
   },
   {
    "duration": 49,
    "start_time": "2022-12-25T18:35:53.682Z"
   },
   {
    "duration": 18,
    "start_time": "2022-12-25T18:35:53.732Z"
   },
   {
    "duration": 25,
    "start_time": "2022-12-25T18:35:53.752Z"
   },
   {
    "duration": 98,
    "start_time": "2022-12-25T18:35:53.779Z"
   },
   {
    "duration": 225,
    "start_time": "2022-12-25T18:35:53.878Z"
   },
   {
    "duration": 50,
    "start_time": "2022-12-25T18:35:54.105Z"
   },
   {
    "duration": 30,
    "start_time": "2022-12-25T18:35:54.157Z"
   },
   {
    "duration": 5,
    "start_time": "2022-12-25T18:35:54.188Z"
   },
   {
    "duration": 5,
    "start_time": "2022-12-25T18:35:54.215Z"
   },
   {
    "duration": 6,
    "start_time": "2022-12-25T18:35:54.222Z"
   },
   {
    "duration": 22,
    "start_time": "2022-12-25T18:35:54.229Z"
   },
   {
    "duration": 252,
    "start_time": "2022-12-25T18:35:54.253Z"
   },
   {
    "duration": 28,
    "start_time": "2022-12-25T18:35:54.506Z"
   },
   {
    "duration": 12,
    "start_time": "2022-12-25T18:35:54.536Z"
   },
   {
    "duration": 6,
    "start_time": "2022-12-25T18:35:54.550Z"
   },
   {
    "duration": 40,
    "start_time": "2022-12-25T18:35:54.557Z"
   },
   {
    "duration": 28,
    "start_time": "2022-12-25T18:35:54.616Z"
   },
   {
    "duration": 3,
    "start_time": "2022-12-25T18:35:54.646Z"
   },
   {
    "duration": 90,
    "start_time": "2022-12-25T18:35:54.651Z"
   },
   {
    "duration": 3,
    "start_time": "2022-12-25T18:35:54.744Z"
   },
   {
    "duration": 758,
    "start_time": "2022-12-25T18:35:54.749Z"
   },
   {
    "duration": 90030,
    "start_time": "2022-12-25T18:35:55.509Z"
   },
   {
    "duration": 1505,
    "start_time": "2022-12-25T18:37:25.541Z"
   },
   {
    "duration": 28,
    "start_time": "2022-12-25T18:37:27.048Z"
   },
   {
    "duration": 72,
    "start_time": "2022-12-25T18:37:27.078Z"
   },
   {
    "duration": 958,
    "start_time": "2022-12-25T18:37:27.152Z"
   },
   {
    "duration": 1341,
    "start_time": "2022-12-25T18:37:28.116Z"
   },
   {
    "duration": 9,
    "start_time": "2022-12-25T18:37:29.459Z"
   },
   {
    "duration": 161,
    "start_time": "2022-12-25T18:37:29.470Z"
   },
   {
    "duration": 40,
    "start_time": "2022-12-25T18:37:29.633Z"
   },
   {
    "duration": 4,
    "start_time": "2022-12-25T18:37:29.677Z"
   },
   {
    "duration": 9,
    "start_time": "2022-12-25T18:37:29.682Z"
   },
   {
    "duration": 6,
    "start_time": "2022-12-25T18:37:29.693Z"
   },
   {
    "duration": 230,
    "start_time": "2022-12-25T18:37:29.716Z"
   },
   {
    "duration": 7,
    "start_time": "2022-12-25T18:37:29.948Z"
   },
   {
    "duration": 317,
    "start_time": "2022-12-25T18:37:29.956Z"
   },
   {
    "duration": 6,
    "start_time": "2022-12-25T18:37:30.276Z"
   },
   {
    "duration": 1481,
    "start_time": "2022-12-25T18:38:39.899Z"
   },
   {
    "duration": 3,
    "start_time": "2022-12-25T18:38:41.382Z"
   },
   {
    "duration": 4702,
    "start_time": "2022-12-25T18:38:41.386Z"
   },
   {
    "duration": 204,
    "start_time": "2022-12-25T18:38:46.090Z"
   },
   {
    "duration": 100,
    "start_time": "2022-12-25T18:38:46.296Z"
   },
   {
    "duration": 36,
    "start_time": "2022-12-25T18:38:46.398Z"
   },
   {
    "duration": 20,
    "start_time": "2022-12-25T18:38:46.436Z"
   },
   {
    "duration": 36,
    "start_time": "2022-12-25T18:38:46.458Z"
   },
   {
    "duration": 10,
    "start_time": "2022-12-25T18:38:46.496Z"
   },
   {
    "duration": 39,
    "start_time": "2022-12-25T18:38:46.509Z"
   },
   {
    "duration": 8,
    "start_time": "2022-12-25T18:38:46.549Z"
   },
   {
    "duration": 354,
    "start_time": "2022-12-25T18:38:46.558Z"
   },
   {
    "duration": 10,
    "start_time": "2022-12-25T18:38:46.914Z"
   },
   {
    "duration": 219,
    "start_time": "2022-12-25T18:38:46.925Z"
   },
   {
    "duration": 177,
    "start_time": "2022-12-25T18:38:47.145Z"
   },
   {
    "duration": 5,
    "start_time": "2022-12-25T18:38:47.324Z"
   },
   {
    "duration": 187,
    "start_time": "2022-12-25T18:38:47.331Z"
   },
   {
    "duration": 185,
    "start_time": "2022-12-25T18:38:47.519Z"
   },
   {
    "duration": 6,
    "start_time": "2022-12-25T18:38:47.705Z"
   },
   {
    "duration": 151,
    "start_time": "2022-12-25T18:38:47.713Z"
   },
   {
    "duration": 192,
    "start_time": "2022-12-25T18:38:47.866Z"
   },
   {
    "duration": 8,
    "start_time": "2022-12-25T18:38:48.060Z"
   },
   {
    "duration": 167,
    "start_time": "2022-12-25T18:38:48.070Z"
   },
   {
    "duration": 151,
    "start_time": "2022-12-25T18:38:48.238Z"
   },
   {
    "duration": 8,
    "start_time": "2022-12-25T18:38:48.391Z"
   },
   {
    "duration": 153,
    "start_time": "2022-12-25T18:38:48.401Z"
   },
   {
    "duration": 181,
    "start_time": "2022-12-25T18:38:48.556Z"
   },
   {
    "duration": 7,
    "start_time": "2022-12-25T18:38:48.743Z"
   },
   {
    "duration": 138,
    "start_time": "2022-12-25T18:38:48.752Z"
   },
   {
    "duration": 195,
    "start_time": "2022-12-25T18:38:48.892Z"
   },
   {
    "duration": 7,
    "start_time": "2022-12-25T18:38:49.088Z"
   },
   {
    "duration": 248,
    "start_time": "2022-12-25T18:38:49.097Z"
   },
   {
    "duration": 4498,
    "start_time": "2022-12-25T18:38:49.346Z"
   },
   {
    "duration": 6,
    "start_time": "2022-12-25T18:38:53.845Z"
   },
   {
    "duration": 167,
    "start_time": "2022-12-25T18:38:53.853Z"
   },
   {
    "duration": 4006,
    "start_time": "2022-12-25T18:38:54.021Z"
   },
   {
    "duration": 7,
    "start_time": "2022-12-25T18:38:58.029Z"
   },
   {
    "duration": 153,
    "start_time": "2022-12-25T18:38:58.038Z"
   },
   {
    "duration": 719,
    "start_time": "2022-12-25T18:38:58.194Z"
   },
   {
    "duration": 11,
    "start_time": "2022-12-25T18:38:58.915Z"
   },
   {
    "duration": 155,
    "start_time": "2022-12-25T18:38:58.928Z"
   },
   {
    "duration": 28442,
    "start_time": "2022-12-25T18:38:59.085Z"
   },
   {
    "duration": 13,
    "start_time": "2022-12-25T18:39:27.528Z"
   },
   {
    "duration": 89,
    "start_time": "2022-12-25T18:39:27.543Z"
   },
   {
    "duration": 60,
    "start_time": "2022-12-25T18:39:27.633Z"
   },
   {
    "duration": 108,
    "start_time": "2022-12-25T18:39:27.695Z"
   },
   {
    "duration": 79,
    "start_time": "2022-12-25T18:39:27.804Z"
   },
   {
    "duration": 70,
    "start_time": "2022-12-25T18:39:27.884Z"
   },
   {
    "duration": 17,
    "start_time": "2022-12-25T18:39:27.956Z"
   },
   {
    "duration": 44,
    "start_time": "2022-12-25T18:39:27.974Z"
   },
   {
    "duration": 22,
    "start_time": "2022-12-25T18:39:28.020Z"
   },
   {
    "duration": 24,
    "start_time": "2022-12-25T18:39:28.044Z"
   },
   {
    "duration": 48,
    "start_time": "2022-12-25T18:39:28.069Z"
   },
   {
    "duration": 19,
    "start_time": "2022-12-25T18:39:28.118Z"
   },
   {
    "duration": 85,
    "start_time": "2022-12-25T18:39:28.139Z"
   },
   {
    "duration": 235,
    "start_time": "2022-12-25T18:39:28.226Z"
   },
   {
    "duration": 59,
    "start_time": "2022-12-25T18:39:28.463Z"
   },
   {
    "duration": 28,
    "start_time": "2022-12-25T18:39:28.524Z"
   },
   {
    "duration": 5,
    "start_time": "2022-12-25T18:39:28.554Z"
   },
   {
    "duration": 8,
    "start_time": "2022-12-25T18:39:28.561Z"
   },
   {
    "duration": 8,
    "start_time": "2022-12-25T18:39:28.571Z"
   },
   {
    "duration": 46,
    "start_time": "2022-12-25T18:39:28.580Z"
   },
   {
    "duration": 255,
    "start_time": "2022-12-25T18:39:28.628Z"
   },
   {
    "duration": 31,
    "start_time": "2022-12-25T18:39:28.885Z"
   },
   {
    "duration": 14,
    "start_time": "2022-12-25T18:39:28.917Z"
   },
   {
    "duration": 6,
    "start_time": "2022-12-25T18:39:28.933Z"
   },
   {
    "duration": 42,
    "start_time": "2022-12-25T18:39:28.942Z"
   },
   {
    "duration": 38,
    "start_time": "2022-12-25T18:39:28.986Z"
   },
   {
    "duration": 6,
    "start_time": "2022-12-25T18:39:29.026Z"
   },
   {
    "duration": 93,
    "start_time": "2022-12-25T18:39:29.033Z"
   },
   {
    "duration": 4,
    "start_time": "2022-12-25T18:39:29.128Z"
   },
   {
    "duration": 735,
    "start_time": "2022-12-25T18:39:29.133Z"
   },
   {
    "duration": 89318,
    "start_time": "2022-12-25T18:39:29.869Z"
   },
   {
    "duration": 1427,
    "start_time": "2022-12-25T18:40:59.188Z"
   },
   {
    "duration": 30,
    "start_time": "2022-12-25T18:41:00.616Z"
   },
   {
    "duration": 93,
    "start_time": "2022-12-25T18:41:00.647Z"
   },
   {
    "duration": 1240,
    "start_time": "2022-12-25T18:41:00.742Z"
   },
   {
    "duration": 1369,
    "start_time": "2022-12-25T18:41:01.984Z"
   },
   {
    "duration": 10,
    "start_time": "2022-12-25T18:41:03.354Z"
   },
   {
    "duration": 152,
    "start_time": "2022-12-25T18:41:03.365Z"
   },
   {
    "duration": 50,
    "start_time": "2022-12-25T18:41:03.519Z"
   },
   {
    "duration": 2,
    "start_time": "2022-12-25T18:41:03.575Z"
   },
   {
    "duration": 6,
    "start_time": "2022-12-25T18:41:03.579Z"
   },
   {
    "duration": 12,
    "start_time": "2022-12-25T18:41:03.587Z"
   },
   {
    "duration": 210,
    "start_time": "2022-12-25T18:41:03.600Z"
   },
   {
    "duration": 8,
    "start_time": "2022-12-25T18:41:03.812Z"
   },
   {
    "duration": 323,
    "start_time": "2022-12-25T18:41:03.822Z"
   },
   {
    "duration": 7,
    "start_time": "2022-12-25T18:41:04.146Z"
   },
   {
    "duration": 117,
    "start_time": "2022-12-25T18:49:42.952Z"
   },
   {
    "duration": 18,
    "start_time": "2022-12-25T18:50:06.264Z"
   },
   {
    "duration": 206,
    "start_time": "2022-12-25T18:50:15.144Z"
   },
   {
    "duration": 8,
    "start_time": "2022-12-25T19:23:45.189Z"
   },
   {
    "duration": 10,
    "start_time": "2022-12-25T19:26:59.056Z"
   },
   {
    "duration": 10,
    "start_time": "2022-12-25T19:29:04.101Z"
   },
   {
    "duration": 205,
    "start_time": "2022-12-25T19:29:29.486Z"
   },
   {
    "duration": 181,
    "start_time": "2022-12-25T19:36:53.472Z"
   },
   {
    "duration": 214,
    "start_time": "2022-12-25T19:37:13.186Z"
   },
   {
    "duration": 1472,
    "start_time": "2022-12-25T19:43:47.489Z"
   },
   {
    "duration": 3,
    "start_time": "2022-12-25T19:43:48.964Z"
   },
   {
    "duration": 4597,
    "start_time": "2022-12-25T19:43:48.968Z"
   },
   {
    "duration": 208,
    "start_time": "2022-12-25T19:43:53.568Z"
   },
   {
    "duration": 84,
    "start_time": "2022-12-25T19:43:53.778Z"
   },
   {
    "duration": 39,
    "start_time": "2022-12-25T19:43:53.863Z"
   },
   {
    "duration": 18,
    "start_time": "2022-12-25T19:43:53.903Z"
   },
   {
    "duration": 42,
    "start_time": "2022-12-25T19:43:53.923Z"
   },
   {
    "duration": 10,
    "start_time": "2022-12-25T19:43:53.966Z"
   },
   {
    "duration": 40,
    "start_time": "2022-12-25T19:43:53.980Z"
   },
   {
    "duration": 9,
    "start_time": "2022-12-25T19:43:54.022Z"
   },
   {
    "duration": 360,
    "start_time": "2022-12-25T19:43:54.032Z"
   },
   {
    "duration": 7,
    "start_time": "2022-12-25T19:43:54.394Z"
   },
   {
    "duration": 209,
    "start_time": "2022-12-25T19:43:54.403Z"
   },
   {
    "duration": 178,
    "start_time": "2022-12-25T19:43:54.614Z"
   },
   {
    "duration": 8,
    "start_time": "2022-12-25T19:43:54.793Z"
   },
   {
    "duration": 149,
    "start_time": "2022-12-25T19:43:54.803Z"
   },
   {
    "duration": 190,
    "start_time": "2022-12-25T19:43:54.954Z"
   },
   {
    "duration": 7,
    "start_time": "2022-12-25T19:43:55.146Z"
   },
   {
    "duration": 152,
    "start_time": "2022-12-25T19:43:55.155Z"
   },
   {
    "duration": 195,
    "start_time": "2022-12-25T19:43:55.309Z"
   },
   {
    "duration": 6,
    "start_time": "2022-12-25T19:43:55.506Z"
   },
   {
    "duration": 146,
    "start_time": "2022-12-25T19:43:55.513Z"
   },
   {
    "duration": 149,
    "start_time": "2022-12-25T19:43:55.661Z"
   },
   {
    "duration": 6,
    "start_time": "2022-12-25T19:43:55.812Z"
   },
   {
    "duration": 147,
    "start_time": "2022-12-25T19:43:55.820Z"
   },
   {
    "duration": 184,
    "start_time": "2022-12-25T19:43:55.968Z"
   },
   {
    "duration": 7,
    "start_time": "2022-12-25T19:43:56.158Z"
   },
   {
    "duration": 174,
    "start_time": "2022-12-25T19:43:56.167Z"
   },
   {
    "duration": 194,
    "start_time": "2022-12-25T19:43:56.344Z"
   },
   {
    "duration": 7,
    "start_time": "2022-12-25T19:43:56.539Z"
   },
   {
    "duration": 252,
    "start_time": "2022-12-25T19:43:56.548Z"
   },
   {
    "duration": 4532,
    "start_time": "2022-12-25T19:43:56.802Z"
   },
   {
    "duration": 7,
    "start_time": "2022-12-25T19:44:01.335Z"
   },
   {
    "duration": 185,
    "start_time": "2022-12-25T19:44:01.343Z"
   },
   {
    "duration": 822,
    "start_time": "2022-12-25T19:44:01.530Z"
   },
   {
    "duration": 6,
    "start_time": "2022-12-25T19:44:02.354Z"
   },
   {
    "duration": 152,
    "start_time": "2022-12-25T19:44:02.361Z"
   },
   {
    "duration": 714,
    "start_time": "2022-12-25T19:44:02.515Z"
   },
   {
    "duration": 6,
    "start_time": "2022-12-25T19:44:03.231Z"
   },
   {
    "duration": 136,
    "start_time": "2022-12-25T19:44:03.238Z"
   },
   {
    "duration": 24560,
    "start_time": "2022-12-25T19:44:03.376Z"
   },
   {
    "duration": 15,
    "start_time": "2022-12-25T19:44:27.937Z"
   },
   {
    "duration": 79,
    "start_time": "2022-12-25T19:44:27.954Z"
   },
   {
    "duration": 91,
    "start_time": "2022-12-25T19:44:28.035Z"
   },
   {
    "duration": 125,
    "start_time": "2022-12-25T19:44:28.128Z"
   },
   {
    "duration": 76,
    "start_time": "2022-12-25T19:44:28.254Z"
   },
   {
    "duration": 58,
    "start_time": "2022-12-25T19:44:28.332Z"
   },
   {
    "duration": 27,
    "start_time": "2022-12-25T19:44:28.392Z"
   },
   {
    "duration": 32,
    "start_time": "2022-12-25T19:44:28.421Z"
   },
   {
    "duration": 19,
    "start_time": "2022-12-25T19:44:28.455Z"
   },
   {
    "duration": 44,
    "start_time": "2022-12-25T19:44:28.476Z"
   },
   {
    "duration": 37,
    "start_time": "2022-12-25T19:44:28.522Z"
   },
   {
    "duration": 17,
    "start_time": "2022-12-25T19:44:28.561Z"
   },
   {
    "duration": 90,
    "start_time": "2022-12-25T19:44:28.580Z"
   },
   {
    "duration": 269,
    "start_time": "2022-12-25T19:44:28.672Z"
   },
   {
    "duration": 48,
    "start_time": "2022-12-25T19:44:28.944Z"
   },
   {
    "duration": 55,
    "start_time": "2022-12-25T19:44:28.994Z"
   },
   {
    "duration": 5,
    "start_time": "2022-12-25T19:44:29.051Z"
   },
   {
    "duration": 7,
    "start_time": "2022-12-25T19:44:29.058Z"
   },
   {
    "duration": 6,
    "start_time": "2022-12-25T19:44:29.066Z"
   },
   {
    "duration": 42,
    "start_time": "2022-12-25T19:44:29.074Z"
   },
   {
    "duration": 285,
    "start_time": "2022-12-25T19:44:29.118Z"
   },
   {
    "duration": 37,
    "start_time": "2022-12-25T19:44:29.404Z"
   },
   {
    "duration": 18,
    "start_time": "2022-12-25T19:44:29.443Z"
   },
   {
    "duration": 16,
    "start_time": "2022-12-25T19:44:29.464Z"
   },
   {
    "duration": 51,
    "start_time": "2022-12-25T19:44:29.482Z"
   },
   {
    "duration": 36,
    "start_time": "2022-12-25T19:44:29.535Z"
   },
   {
    "duration": 4,
    "start_time": "2022-12-25T19:44:29.573Z"
   },
   {
    "duration": 97,
    "start_time": "2022-12-25T19:44:29.578Z"
   },
   {
    "duration": 4,
    "start_time": "2022-12-25T19:44:29.677Z"
   },
   {
    "duration": 839,
    "start_time": "2022-12-25T19:44:29.683Z"
   },
   {
    "duration": 94630,
    "start_time": "2022-12-25T19:44:30.526Z"
   },
   {
    "duration": 1467,
    "start_time": "2022-12-25T19:46:05.158Z"
   },
   {
    "duration": 29,
    "start_time": "2022-12-25T19:46:06.627Z"
   },
   {
    "duration": 91,
    "start_time": "2022-12-25T19:46:06.659Z"
   },
   {
    "duration": 1268,
    "start_time": "2022-12-25T19:46:06.752Z"
   },
   {
    "duration": 1455,
    "start_time": "2022-12-25T19:46:08.022Z"
   },
   {
    "duration": 10,
    "start_time": "2022-12-25T19:46:09.479Z"
   },
   {
    "duration": 170,
    "start_time": "2022-12-25T19:46:09.491Z"
   },
   {
    "duration": 35,
    "start_time": "2022-12-25T19:46:09.662Z"
   },
   {
    "duration": 14,
    "start_time": "2022-12-25T19:46:09.702Z"
   },
   {
    "duration": 7,
    "start_time": "2022-12-25T19:46:09.717Z"
   },
   {
    "duration": 8,
    "start_time": "2022-12-25T19:46:09.725Z"
   },
   {
    "duration": 233,
    "start_time": "2022-12-25T19:46:09.735Z"
   },
   {
    "duration": 8,
    "start_time": "2022-12-25T19:46:09.970Z"
   },
   {
    "duration": 315,
    "start_time": "2022-12-25T19:46:09.979Z"
   },
   {
    "duration": 6,
    "start_time": "2022-12-25T19:46:10.295Z"
   },
   {
    "duration": 233,
    "start_time": "2022-12-25T19:46:10.315Z"
   },
   {
    "duration": 6,
    "start_time": "2022-12-25T19:46:10.550Z"
   },
   {
    "duration": 219,
    "start_time": "2022-12-25T19:46:10.558Z"
   },
   {
    "duration": 178,
    "start_time": "2022-12-25T19:46:10.779Z"
   },
   {
    "duration": 213,
    "start_time": "2022-12-25T19:46:10.959Z"
   },
   {
    "duration": 2035,
    "start_time": "2022-12-27T18:22:54.905Z"
   },
   {
    "duration": 4,
    "start_time": "2022-12-27T18:22:56.942Z"
   },
   {
    "duration": 6915,
    "start_time": "2022-12-27T18:22:56.947Z"
   },
   {
    "duration": 259,
    "start_time": "2022-12-27T18:23:03.865Z"
   },
   {
    "duration": 99,
    "start_time": "2022-12-27T18:23:04.126Z"
   },
   {
    "duration": 40,
    "start_time": "2022-12-27T18:23:04.228Z"
   },
   {
    "duration": 30,
    "start_time": "2022-12-27T18:23:04.270Z"
   },
   {
    "duration": 53,
    "start_time": "2022-12-27T18:23:04.303Z"
   },
   {
    "duration": 12,
    "start_time": "2022-12-27T18:23:04.358Z"
   },
   {
    "duration": 69,
    "start_time": "2022-12-27T18:23:04.372Z"
   },
   {
    "duration": 9,
    "start_time": "2022-12-27T18:23:04.442Z"
   },
   {
    "duration": 357,
    "start_time": "2022-12-27T18:23:04.452Z"
   },
   {
    "duration": 8,
    "start_time": "2022-12-27T18:23:04.810Z"
   },
   {
    "duration": 228,
    "start_time": "2022-12-27T18:23:04.819Z"
   },
   {
    "duration": 182,
    "start_time": "2022-12-27T18:23:05.048Z"
   },
   {
    "duration": 7,
    "start_time": "2022-12-27T18:23:05.232Z"
   },
   {
    "duration": 163,
    "start_time": "2022-12-27T18:23:05.241Z"
   },
   {
    "duration": 215,
    "start_time": "2022-12-27T18:23:05.406Z"
   },
   {
    "duration": 6,
    "start_time": "2022-12-27T18:23:05.623Z"
   },
   {
    "duration": 175,
    "start_time": "2022-12-27T18:23:05.631Z"
   },
   {
    "duration": 206,
    "start_time": "2022-12-27T18:23:05.808Z"
   },
   {
    "duration": 7,
    "start_time": "2022-12-27T18:23:06.016Z"
   },
   {
    "duration": 182,
    "start_time": "2022-12-27T18:23:06.024Z"
   },
   {
    "duration": 153,
    "start_time": "2022-12-27T18:23:06.208Z"
   },
   {
    "duration": 6,
    "start_time": "2022-12-27T18:23:06.363Z"
   },
   {
    "duration": 178,
    "start_time": "2022-12-27T18:23:06.371Z"
   },
   {
    "duration": 186,
    "start_time": "2022-12-27T18:23:06.551Z"
   },
   {
    "duration": 6,
    "start_time": "2022-12-27T18:23:06.743Z"
   },
   {
    "duration": 161,
    "start_time": "2022-12-27T18:23:06.751Z"
   },
   {
    "duration": 203,
    "start_time": "2022-12-27T18:23:06.914Z"
   },
   {
    "duration": 7,
    "start_time": "2022-12-27T18:23:07.119Z"
   },
   {
    "duration": 295,
    "start_time": "2022-12-27T18:23:07.128Z"
   },
   {
    "duration": 4215,
    "start_time": "2022-12-27T18:23:07.425Z"
   },
   {
    "duration": 7,
    "start_time": "2022-12-27T18:23:11.642Z"
   },
   {
    "duration": 182,
    "start_time": "2022-12-27T18:23:11.651Z"
   },
   {
    "duration": 4363,
    "start_time": "2022-12-27T18:23:11.835Z"
   },
   {
    "duration": 7,
    "start_time": "2022-12-27T18:23:16.201Z"
   },
   {
    "duration": 139,
    "start_time": "2022-12-27T18:23:16.210Z"
   },
   {
    "duration": 762,
    "start_time": "2022-12-27T18:23:16.351Z"
   },
   {
    "duration": 7,
    "start_time": "2022-12-27T18:23:17.115Z"
   },
   {
    "duration": 189,
    "start_time": "2022-12-27T18:23:17.123Z"
   },
   {
    "duration": 31591,
    "start_time": "2022-12-27T18:23:17.313Z"
   },
   {
    "duration": 12,
    "start_time": "2022-12-27T18:23:48.906Z"
   },
   {
    "duration": 92,
    "start_time": "2022-12-27T18:23:48.920Z"
   },
   {
    "duration": 72,
    "start_time": "2022-12-27T18:23:49.014Z"
   },
   {
    "duration": 152,
    "start_time": "2022-12-27T18:23:49.087Z"
   },
   {
    "duration": 83,
    "start_time": "2022-12-27T18:23:49.241Z"
   },
   {
    "duration": 68,
    "start_time": "2022-12-27T18:23:49.326Z"
   },
   {
    "duration": 22,
    "start_time": "2022-12-27T18:23:49.396Z"
   },
   {
    "duration": 55,
    "start_time": "2022-12-27T18:23:49.420Z"
   },
   {
    "duration": 81,
    "start_time": "2022-12-27T18:23:49.477Z"
   },
   {
    "duration": 66,
    "start_time": "2022-12-27T18:23:49.559Z"
   },
   {
    "duration": 48,
    "start_time": "2022-12-27T18:23:49.627Z"
   },
   {
    "duration": 65,
    "start_time": "2022-12-27T18:23:49.677Z"
   },
   {
    "duration": 82,
    "start_time": "2022-12-27T18:23:49.744Z"
   },
   {
    "duration": 244,
    "start_time": "2022-12-27T18:23:49.828Z"
   },
   {
    "duration": 67,
    "start_time": "2022-12-27T18:23:50.074Z"
   },
   {
    "duration": 46,
    "start_time": "2022-12-27T18:23:50.143Z"
   },
   {
    "duration": 5,
    "start_time": "2022-12-27T18:23:50.190Z"
   },
   {
    "duration": 29,
    "start_time": "2022-12-27T18:23:50.197Z"
   },
   {
    "duration": 26,
    "start_time": "2022-12-27T18:23:50.228Z"
   },
   {
    "duration": 44,
    "start_time": "2022-12-27T18:23:50.256Z"
   },
   {
    "duration": 304,
    "start_time": "2022-12-27T18:23:50.302Z"
   },
   {
    "duration": 34,
    "start_time": "2022-12-27T18:23:50.609Z"
   },
   {
    "duration": 17,
    "start_time": "2022-12-27T18:23:50.645Z"
   },
   {
    "duration": 27,
    "start_time": "2022-12-27T18:23:50.664Z"
   },
   {
    "duration": 61,
    "start_time": "2022-12-27T18:23:50.692Z"
   },
   {
    "duration": 30,
    "start_time": "2022-12-27T18:23:50.755Z"
   },
   {
    "duration": 6,
    "start_time": "2022-12-27T18:23:50.787Z"
   },
   {
    "duration": 98,
    "start_time": "2022-12-27T18:23:50.795Z"
   },
   {
    "duration": 4,
    "start_time": "2022-12-27T18:23:50.896Z"
   },
   {
    "duration": 872,
    "start_time": "2022-12-27T18:23:50.902Z"
   },
   {
    "duration": 108830,
    "start_time": "2022-12-27T18:23:51.778Z"
   },
   {
    "duration": 1930,
    "start_time": "2022-12-27T18:25:40.611Z"
   },
   {
    "duration": 33,
    "start_time": "2022-12-27T18:25:42.543Z"
   },
   {
    "duration": 119,
    "start_time": "2022-12-27T18:25:42.583Z"
   },
   {
    "duration": 1461,
    "start_time": "2022-12-27T18:25:42.706Z"
   },
   {
    "duration": 1664,
    "start_time": "2022-12-27T18:25:44.170Z"
   },
   {
    "duration": 10,
    "start_time": "2022-12-27T18:25:45.835Z"
   },
   {
    "duration": 201,
    "start_time": "2022-12-27T18:25:45.847Z"
   },
   {
    "duration": 46,
    "start_time": "2022-12-27T18:25:46.050Z"
   },
   {
    "duration": 3,
    "start_time": "2022-12-27T18:25:46.107Z"
   },
   {
    "duration": 19,
    "start_time": "2022-12-27T18:25:46.112Z"
   },
   {
    "duration": 11,
    "start_time": "2022-12-27T18:25:46.133Z"
   },
   {
    "duration": 260,
    "start_time": "2022-12-27T18:25:46.146Z"
   },
   {
    "duration": 6,
    "start_time": "2022-12-27T18:25:46.409Z"
   },
   {
    "duration": 353,
    "start_time": "2022-12-27T18:25:46.417Z"
   },
   {
    "duration": 13,
    "start_time": "2022-12-27T18:25:46.779Z"
   },
   {
    "duration": 278,
    "start_time": "2022-12-27T18:25:46.794Z"
   },
   {
    "duration": 15,
    "start_time": "2022-12-27T18:25:47.079Z"
   },
   {
    "duration": 303,
    "start_time": "2022-12-27T18:25:47.098Z"
   },
   {
    "duration": 200,
    "start_time": "2022-12-27T18:25:47.408Z"
   },
   {
    "duration": 251,
    "start_time": "2022-12-27T18:25:47.610Z"
   },
   {
    "duration": 1633,
    "start_time": "2022-12-28T10:01:59.337Z"
   },
   {
    "duration": 3,
    "start_time": "2022-12-28T10:02:19.310Z"
   },
   {
    "duration": 5488,
    "start_time": "2022-12-28T10:02:23.319Z"
   },
   {
    "duration": 281,
    "start_time": "2022-12-28T10:04:59.644Z"
   },
   {
    "duration": 138,
    "start_time": "2022-12-28T10:05:13.288Z"
   },
   {
    "duration": 57,
    "start_time": "2022-12-28T10:06:07.567Z"
   },
   {
    "duration": 46,
    "start_time": "2022-12-28T10:07:01.824Z"
   },
   {
    "duration": 42,
    "start_time": "2022-12-28T10:15:53.754Z"
   },
   {
    "duration": 38,
    "start_time": "2022-12-28T10:16:46.714Z"
   },
   {
    "duration": 6,
    "start_time": "2022-12-28T10:16:48.312Z"
   },
   {
    "duration": 39,
    "start_time": "2022-12-28T10:16:50.341Z"
   },
   {
    "duration": 16,
    "start_time": "2022-12-28T10:16:51.713Z"
   },
   {
    "duration": 38,
    "start_time": "2022-12-28T10:18:11.965Z"
   },
   {
    "duration": 10,
    "start_time": "2022-12-28T10:18:13.317Z"
   },
   {
    "duration": 38,
    "start_time": "2022-12-28T10:18:15.867Z"
   },
   {
    "duration": 8,
    "start_time": "2022-12-28T10:18:16.562Z"
   },
   {
    "duration": 269,
    "start_time": "2022-12-28T11:26:29.822Z"
   },
   {
    "duration": 123,
    "start_time": "2022-12-28T11:52:47.806Z"
   },
   {
    "duration": 27863,
    "start_time": "2022-12-28T11:53:23.764Z"
   },
   {
    "duration": 4479,
    "start_time": "2022-12-28T11:54:21.102Z"
   },
   {
    "duration": 103,
    "start_time": "2022-12-28T11:56:13.428Z"
   },
   {
    "duration": 100,
    "start_time": "2022-12-28T11:56:52.213Z"
   },
   {
    "duration": 6288,
    "start_time": "2022-12-28T11:57:02.892Z"
   },
   {
    "duration": 8,
    "start_time": "2022-12-28T11:57:10.845Z"
   },
   {
    "duration": 6948,
    "start_time": "2022-12-28T11:57:45.466Z"
   },
   {
    "duration": 9,
    "start_time": "2022-12-28T11:57:55.211Z"
   },
   {
    "duration": 178,
    "start_time": "2022-12-28T11:59:54.252Z"
   },
   {
    "duration": 5167,
    "start_time": "2022-12-28T12:15:40.113Z"
   },
   {
    "duration": 10,
    "start_time": "2022-12-28T12:15:48.571Z"
   },
   {
    "duration": 4038,
    "start_time": "2022-12-28T12:20:59.841Z"
   },
   {
    "duration": 11,
    "start_time": "2022-12-28T12:21:06.645Z"
   },
   {
    "duration": 109,
    "start_time": "2022-12-28T12:22:44.721Z"
   },
   {
    "duration": 106,
    "start_time": "2022-12-28T12:22:54.233Z"
   },
   {
    "duration": 100,
    "start_time": "2022-12-28T12:24:14.539Z"
   },
   {
    "duration": 16,
    "start_time": "2022-12-28T12:24:20.043Z"
   },
   {
    "duration": 416,
    "start_time": "2022-12-28T12:27:01.719Z"
   },
   {
    "duration": 12,
    "start_time": "2022-12-28T12:27:06.414Z"
   },
   {
    "duration": 400,
    "start_time": "2022-12-28T12:39:27.264Z"
   },
   {
    "duration": 12,
    "start_time": "2022-12-28T12:39:32.306Z"
   },
   {
    "duration": 118,
    "start_time": "2022-12-28T12:40:44.749Z"
   },
   {
    "duration": 12,
    "start_time": "2022-12-28T12:40:56.123Z"
   },
   {
    "duration": 110,
    "start_time": "2022-12-28T12:44:15.924Z"
   },
   {
    "duration": 397,
    "start_time": "2022-12-28T12:47:59.370Z"
   },
   {
    "duration": 12,
    "start_time": "2022-12-28T12:48:02.542Z"
   },
   {
    "duration": 397,
    "start_time": "2022-12-28T12:48:27.066Z"
   },
   {
    "duration": 12,
    "start_time": "2022-12-28T12:48:31.360Z"
   },
   {
    "duration": 402,
    "start_time": "2022-12-28T12:48:44.399Z"
   },
   {
    "duration": 13,
    "start_time": "2022-12-28T12:48:47.347Z"
   },
   {
    "duration": 402,
    "start_time": "2022-12-28T13:13:42.009Z"
   },
   {
    "duration": 11,
    "start_time": "2022-12-28T13:13:46.766Z"
   },
   {
    "duration": 105,
    "start_time": "2022-12-28T13:15:32.575Z"
   },
   {
    "duration": 106,
    "start_time": "2022-12-28T13:15:56.923Z"
   },
   {
    "duration": 115,
    "start_time": "2022-12-28T13:16:09.507Z"
   },
   {
    "duration": 133,
    "start_time": "2022-12-28T13:16:57.942Z"
   },
   {
    "duration": 105,
    "start_time": "2022-12-28T13:17:13.112Z"
   },
   {
    "duration": 399,
    "start_time": "2022-12-28T13:17:24.110Z"
   },
   {
    "duration": 17,
    "start_time": "2022-12-28T13:17:30.404Z"
   },
   {
    "duration": 100,
    "start_time": "2022-12-28T13:17:57.153Z"
   },
   {
    "duration": 108,
    "start_time": "2022-12-28T13:18:31.615Z"
   },
   {
    "duration": 225,
    "start_time": "2022-12-28T13:18:53.115Z"
   },
   {
    "duration": 9,
    "start_time": "2022-12-28T13:18:59.975Z"
   },
   {
    "duration": 98,
    "start_time": "2022-12-28T13:19:10.967Z"
   },
   {
    "duration": 228,
    "start_time": "2022-12-28T13:19:27.300Z"
   },
   {
    "duration": 6,
    "start_time": "2022-12-28T13:19:29.157Z"
   },
   {
    "duration": 182,
    "start_time": "2022-12-28T13:26:16.056Z"
   },
   {
    "duration": 1422,
    "start_time": "2022-12-28T13:46:34.732Z"
   },
   {
    "duration": 3,
    "start_time": "2022-12-28T13:46:39.060Z"
   },
   {
    "duration": 4837,
    "start_time": "2022-12-28T13:46:42.070Z"
   },
   {
    "duration": 291,
    "start_time": "2022-12-28T13:46:49.908Z"
   },
   {
    "duration": 36,
    "start_time": "2022-12-28T13:46:54.900Z"
   },
   {
    "duration": 7,
    "start_time": "2022-12-28T13:46:56.553Z"
   },
   {
    "duration": 40,
    "start_time": "2022-12-28T13:46:58.849Z"
   },
   {
    "duration": 18,
    "start_time": "2022-12-28T13:47:00.643Z"
   },
   {
    "duration": 37,
    "start_time": "2022-12-28T13:47:11.708Z"
   },
   {
    "duration": 9,
    "start_time": "2022-12-28T13:47:12.873Z"
   },
   {
    "duration": 38,
    "start_time": "2022-12-28T13:47:15.382Z"
   },
   {
    "duration": 8,
    "start_time": "2022-12-28T13:47:16.044Z"
   },
   {
    "duration": 354,
    "start_time": "2022-12-28T13:47:26.812Z"
   },
   {
    "duration": 6,
    "start_time": "2022-12-28T13:47:28.678Z"
   },
   {
    "duration": 178,
    "start_time": "2022-12-28T13:47:29.347Z"
   },
   {
    "duration": 386,
    "start_time": "2022-12-28T13:47:33.464Z"
   },
   {
    "duration": 12,
    "start_time": "2022-12-28T13:47:37.547Z"
   },
   {
    "duration": 230,
    "start_time": "2022-12-28T13:47:41.835Z"
   },
   {
    "duration": 6,
    "start_time": "2022-12-28T13:47:43.270Z"
   },
   {
    "duration": 168,
    "start_time": "2022-12-28T13:47:46.408Z"
   },
   {
    "duration": 182,
    "start_time": "2022-12-28T13:47:53.839Z"
   },
   {
    "duration": 6,
    "start_time": "2022-12-28T13:47:56.049Z"
   },
   {
    "duration": 130,
    "start_time": "2022-12-28T13:47:57.560Z"
   },
   {
    "duration": 192,
    "start_time": "2022-12-28T13:48:01.735Z"
   },
   {
    "duration": 6,
    "start_time": "2022-12-28T13:48:03.569Z"
   },
   {
    "duration": 173,
    "start_time": "2022-12-28T13:48:04.375Z"
   },
   {
    "duration": 210,
    "start_time": "2022-12-28T13:48:13.310Z"
   },
   {
    "duration": 6,
    "start_time": "2022-12-28T13:48:15.009Z"
   },
   {
    "duration": 141,
    "start_time": "2022-12-28T13:48:15.611Z"
   },
   {
    "duration": 152,
    "start_time": "2022-12-28T13:48:18.271Z"
   },
   {
    "duration": 6,
    "start_time": "2022-12-28T13:48:19.067Z"
   },
   {
    "duration": 131,
    "start_time": "2022-12-28T13:48:22.736Z"
   },
   {
    "duration": 190,
    "start_time": "2022-12-28T13:48:27.656Z"
   },
   {
    "duration": 6,
    "start_time": "2022-12-28T13:48:29.444Z"
   },
   {
    "duration": 161,
    "start_time": "2022-12-28T13:48:31.427Z"
   },
   {
    "duration": 197,
    "start_time": "2022-12-28T13:48:38.544Z"
   },
   {
    "duration": 7,
    "start_time": "2022-12-28T13:48:41.219Z"
   },
   {
    "duration": 251,
    "start_time": "2022-12-28T13:48:44.354Z"
   },
   {
    "duration": 4513,
    "start_time": "2022-12-28T13:49:05.383Z"
   },
   {
    "duration": 6,
    "start_time": "2022-12-28T13:49:11.738Z"
   },
   {
    "duration": 147,
    "start_time": "2022-12-28T13:49:44.365Z"
   },
   {
    "duration": 4602,
    "start_time": "2022-12-28T13:50:01.351Z"
   },
   {
    "duration": 7,
    "start_time": "2022-12-28T13:50:08.052Z"
   },
   {
    "duration": 131,
    "start_time": "2022-12-28T13:50:10.558Z"
   },
   {
    "duration": 3955,
    "start_time": "2022-12-28T13:50:28.295Z"
   },
   {
    "duration": 7,
    "start_time": "2022-12-28T13:50:54.348Z"
   },
   {
    "duration": 141,
    "start_time": "2022-12-28T13:50:56.946Z"
   },
   {
    "duration": 23789,
    "start_time": "2022-12-28T13:52:41.546Z"
   },
   {
    "duration": 12,
    "start_time": "2022-12-28T13:54:15.893Z"
   },
   {
    "duration": 58,
    "start_time": "2022-12-28T13:54:23.600Z"
   },
   {
    "duration": 60,
    "start_time": "2022-12-28T13:54:26.801Z"
   },
   {
    "duration": 1412,
    "start_time": "2022-12-28T14:26:10.426Z"
   },
   {
    "duration": 3,
    "start_time": "2022-12-28T14:26:11.840Z"
   },
   {
    "duration": 5095,
    "start_time": "2022-12-28T14:26:11.845Z"
   },
   {
    "duration": 289,
    "start_time": "2022-12-28T14:26:16.943Z"
   },
   {
    "duration": 39,
    "start_time": "2022-12-28T14:26:17.234Z"
   },
   {
    "duration": 7,
    "start_time": "2022-12-28T14:26:17.275Z"
   },
   {
    "duration": 43,
    "start_time": "2022-12-28T14:26:17.283Z"
   },
   {
    "duration": 17,
    "start_time": "2022-12-28T14:26:17.327Z"
   },
   {
    "duration": 41,
    "start_time": "2022-12-28T14:26:17.346Z"
   },
   {
    "duration": 11,
    "start_time": "2022-12-28T14:26:17.390Z"
   },
   {
    "duration": 41,
    "start_time": "2022-12-28T14:26:17.403Z"
   },
   {
    "duration": 8,
    "start_time": "2022-12-28T14:26:17.446Z"
   },
   {
    "duration": 353,
    "start_time": "2022-12-28T14:26:17.455Z"
   },
   {
    "duration": 7,
    "start_time": "2022-12-28T14:26:17.810Z"
   },
   {
    "duration": 203,
    "start_time": "2022-12-28T14:26:17.819Z"
   },
   {
    "duration": 390,
    "start_time": "2022-12-28T14:26:18.024Z"
   },
   {
    "duration": 12,
    "start_time": "2022-12-28T14:26:18.416Z"
   },
   {
    "duration": 234,
    "start_time": "2022-12-28T14:26:18.429Z"
   },
   {
    "duration": 9,
    "start_time": "2022-12-28T14:26:18.665Z"
   },
   {
    "duration": 189,
    "start_time": "2022-12-28T14:26:18.675Z"
   },
   {
    "duration": 182,
    "start_time": "2022-12-28T14:26:18.865Z"
   },
   {
    "duration": 7,
    "start_time": "2022-12-28T14:26:19.049Z"
   },
   {
    "duration": 203,
    "start_time": "2022-12-28T14:26:19.058Z"
   },
   {
    "duration": 190,
    "start_time": "2022-12-28T14:26:19.263Z"
   },
   {
    "duration": 7,
    "start_time": "2022-12-28T14:26:19.455Z"
   },
   {
    "duration": 146,
    "start_time": "2022-12-28T14:26:19.464Z"
   },
   {
    "duration": 200,
    "start_time": "2022-12-28T14:26:19.612Z"
   },
   {
    "duration": 7,
    "start_time": "2022-12-28T14:26:19.815Z"
   },
   {
    "duration": 151,
    "start_time": "2022-12-28T14:26:19.824Z"
   },
   {
    "duration": 154,
    "start_time": "2022-12-28T14:26:19.977Z"
   },
   {
    "duration": 6,
    "start_time": "2022-12-28T14:26:20.133Z"
   },
   {
    "duration": 159,
    "start_time": "2022-12-28T14:26:20.141Z"
   },
   {
    "duration": 186,
    "start_time": "2022-12-28T14:26:20.302Z"
   },
   {
    "duration": 7,
    "start_time": "2022-12-28T14:26:20.490Z"
   },
   {
    "duration": 166,
    "start_time": "2022-12-28T14:26:20.498Z"
   },
   {
    "duration": 212,
    "start_time": "2022-12-28T14:26:20.666Z"
   },
   {
    "duration": 8,
    "start_time": "2022-12-28T14:26:20.879Z"
   },
   {
    "duration": 258,
    "start_time": "2022-12-28T14:26:20.888Z"
   },
   {
    "duration": 4264,
    "start_time": "2022-12-28T14:26:21.148Z"
   },
   {
    "duration": 6,
    "start_time": "2022-12-28T14:26:25.413Z"
   },
   {
    "duration": 171,
    "start_time": "2022-12-28T14:26:25.421Z"
   },
   {
    "duration": 4008,
    "start_time": "2022-12-28T14:26:25.597Z"
   },
   {
    "duration": 6,
    "start_time": "2022-12-28T14:26:29.607Z"
   },
   {
    "duration": 172,
    "start_time": "2022-12-28T14:26:29.614Z"
   },
   {
    "duration": 3739,
    "start_time": "2022-12-28T14:26:29.788Z"
   },
   {
    "duration": 7,
    "start_time": "2022-12-28T14:26:33.528Z"
   },
   {
    "duration": 140,
    "start_time": "2022-12-28T14:26:33.536Z"
   },
   {
    "duration": 23563,
    "start_time": "2022-12-28T14:26:33.677Z"
   },
   {
    "duration": 13,
    "start_time": "2022-12-28T14:26:57.242Z"
   },
   {
    "duration": 88,
    "start_time": "2022-12-28T14:26:57.257Z"
   },
   {
    "duration": 58,
    "start_time": "2022-12-28T14:26:57.349Z"
   },
   {
    "duration": 89,
    "start_time": "2022-12-28T14:26:57.409Z"
   },
   {
    "duration": 64,
    "start_time": "2022-12-28T14:26:57.500Z"
   },
   {
    "duration": 62,
    "start_time": "2022-12-28T14:26:57.566Z"
   },
   {
    "duration": 11,
    "start_time": "2022-12-28T14:26:57.630Z"
   },
   {
    "duration": 28,
    "start_time": "2022-12-28T14:26:57.643Z"
   },
   {
    "duration": 37,
    "start_time": "2022-12-28T14:26:57.672Z"
   },
   {
    "duration": 18,
    "start_time": "2022-12-28T14:26:57.710Z"
   },
   {
    "duration": 29,
    "start_time": "2022-12-28T14:26:57.729Z"
   },
   {
    "duration": 16,
    "start_time": "2022-12-28T14:26:57.759Z"
   },
   {
    "duration": 64,
    "start_time": "2022-12-28T15:04:28.435Z"
   },
   {
    "duration": 189,
    "start_time": "2022-12-28T15:04:36.034Z"
   },
   {
    "duration": 46,
    "start_time": "2022-12-28T15:04:39.798Z"
   },
   {
    "duration": 29,
    "start_time": "2022-12-28T15:04:41.527Z"
   },
   {
    "duration": 5,
    "start_time": "2022-12-28T15:04:45.207Z"
   },
   {
    "duration": 4,
    "start_time": "2022-12-28T15:04:45.706Z"
   },
   {
    "duration": 5,
    "start_time": "2022-12-28T15:04:46.183Z"
   },
   {
    "duration": 16,
    "start_time": "2022-12-28T15:10:03.778Z"
   },
   {
    "duration": 61,
    "start_time": "2022-12-28T15:10:05.678Z"
   },
   {
    "duration": 3,
    "start_time": "2022-12-28T15:10:06.608Z"
   },
   {
    "duration": 16,
    "start_time": "2022-12-28T15:10:41.537Z"
   },
   {
    "duration": 3,
    "start_time": "2022-12-28T15:18:13.264Z"
   },
   {
    "duration": 27,
    "start_time": "2022-12-28T15:21:50.294Z"
   },
   {
    "duration": 1487,
    "start_time": "2022-12-28T15:46:15.511Z"
   },
   {
    "duration": 4,
    "start_time": "2022-12-28T15:46:17.000Z"
   },
   {
    "duration": 5147,
    "start_time": "2022-12-28T15:46:17.006Z"
   },
   {
    "duration": 321,
    "start_time": "2022-12-28T15:46:22.155Z"
   },
   {
    "duration": 39,
    "start_time": "2022-12-28T15:46:22.478Z"
   },
   {
    "duration": 7,
    "start_time": "2022-12-28T15:46:22.518Z"
   },
   {
    "duration": 63,
    "start_time": "2022-12-28T15:46:22.526Z"
   },
   {
    "duration": 16,
    "start_time": "2022-12-28T15:46:22.590Z"
   },
   {
    "duration": 52,
    "start_time": "2022-12-28T15:46:22.608Z"
   },
   {
    "duration": 11,
    "start_time": "2022-12-28T15:46:22.662Z"
   },
   {
    "duration": 54,
    "start_time": "2022-12-28T15:46:22.674Z"
   },
   {
    "duration": 8,
    "start_time": "2022-12-28T15:46:22.729Z"
   },
   {
    "duration": 374,
    "start_time": "2022-12-28T15:46:22.739Z"
   },
   {
    "duration": 9,
    "start_time": "2022-12-28T15:46:23.116Z"
   },
   {
    "duration": 185,
    "start_time": "2022-12-28T15:46:23.126Z"
   },
   {
    "duration": 397,
    "start_time": "2022-12-28T15:46:23.313Z"
   },
   {
    "duration": 12,
    "start_time": "2022-12-28T15:46:23.711Z"
   },
   {
    "duration": 240,
    "start_time": "2022-12-28T15:46:23.724Z"
   },
   {
    "duration": 8,
    "start_time": "2022-12-28T15:46:23.965Z"
   },
   {
    "duration": 175,
    "start_time": "2022-12-28T15:46:23.975Z"
   },
   {
    "duration": 186,
    "start_time": "2022-12-28T15:46:24.152Z"
   },
   {
    "duration": 6,
    "start_time": "2022-12-28T15:46:24.339Z"
   },
   {
    "duration": 133,
    "start_time": "2022-12-28T15:46:24.346Z"
   },
   {
    "duration": 207,
    "start_time": "2022-12-28T15:46:24.481Z"
   },
   {
    "duration": 10,
    "start_time": "2022-12-28T15:46:24.690Z"
   },
   {
    "duration": 142,
    "start_time": "2022-12-28T15:46:24.702Z"
   },
   {
    "duration": 204,
    "start_time": "2022-12-28T15:46:24.846Z"
   },
   {
    "duration": 8,
    "start_time": "2022-12-28T15:46:25.052Z"
   },
   {
    "duration": 151,
    "start_time": "2022-12-28T15:46:25.062Z"
   },
   {
    "duration": 153,
    "start_time": "2022-12-28T15:46:25.215Z"
   },
   {
    "duration": 6,
    "start_time": "2022-12-28T15:46:25.370Z"
   },
   {
    "duration": 138,
    "start_time": "2022-12-28T15:46:25.378Z"
   },
   {
    "duration": 186,
    "start_time": "2022-12-28T15:46:25.517Z"
   },
   {
    "duration": 6,
    "start_time": "2022-12-28T15:46:25.704Z"
   },
   {
    "duration": 128,
    "start_time": "2022-12-28T15:46:25.712Z"
   },
   {
    "duration": 202,
    "start_time": "2022-12-28T15:46:25.841Z"
   },
   {
    "duration": 6,
    "start_time": "2022-12-28T15:46:26.045Z"
   },
   {
    "duration": 236,
    "start_time": "2022-12-28T15:46:26.053Z"
   },
   {
    "duration": 4250,
    "start_time": "2022-12-28T15:46:26.291Z"
   },
   {
    "duration": 7,
    "start_time": "2022-12-28T15:46:30.543Z"
   },
   {
    "duration": 179,
    "start_time": "2022-12-28T15:46:30.555Z"
   },
   {
    "duration": 4066,
    "start_time": "2022-12-28T15:46:30.735Z"
   },
   {
    "duration": 7,
    "start_time": "2022-12-28T15:46:34.802Z"
   },
   {
    "duration": 133,
    "start_time": "2022-12-28T15:46:34.810Z"
   },
   {
    "duration": 3942,
    "start_time": "2022-12-28T15:46:34.945Z"
   },
   {
    "duration": 6,
    "start_time": "2022-12-28T15:46:38.889Z"
   },
   {
    "duration": 143,
    "start_time": "2022-12-28T15:46:38.897Z"
   },
   {
    "duration": 27486,
    "start_time": "2022-12-28T15:46:39.042Z"
   },
   {
    "duration": 11,
    "start_time": "2022-12-28T15:47:06.529Z"
   },
   {
    "duration": 74,
    "start_time": "2022-12-28T15:47:06.542Z"
   },
   {
    "duration": 54,
    "start_time": "2022-12-28T15:47:06.618Z"
   },
   {
    "duration": 109,
    "start_time": "2022-12-28T15:47:06.674Z"
   },
   {
    "duration": 77,
    "start_time": "2022-12-28T15:47:06.785Z"
   },
   {
    "duration": 63,
    "start_time": "2022-12-28T15:47:06.864Z"
   },
   {
    "duration": 13,
    "start_time": "2022-12-28T15:47:06.929Z"
   },
   {
    "duration": 22,
    "start_time": "2022-12-28T15:47:06.944Z"
   },
   {
    "duration": 37,
    "start_time": "2022-12-28T15:47:06.967Z"
   },
   {
    "duration": 20,
    "start_time": "2022-12-28T15:47:07.006Z"
   },
   {
    "duration": 19,
    "start_time": "2022-12-28T15:47:07.028Z"
   },
   {
    "duration": 19,
    "start_time": "2022-12-28T15:47:07.048Z"
   },
   {
    "duration": 93,
    "start_time": "2022-12-28T15:47:07.068Z"
   },
   {
    "duration": 201,
    "start_time": "2022-12-28T15:47:07.163Z"
   },
   {
    "duration": 57,
    "start_time": "2022-12-28T15:47:07.366Z"
   },
   {
    "duration": 29,
    "start_time": "2022-12-28T15:47:07.424Z"
   },
   {
    "duration": 4,
    "start_time": "2022-12-28T15:47:07.455Z"
   },
   {
    "duration": 6,
    "start_time": "2022-12-28T15:47:07.460Z"
   },
   {
    "duration": 5,
    "start_time": "2022-12-28T15:47:07.467Z"
   },
   {
    "duration": 40,
    "start_time": "2022-12-28T15:47:07.474Z"
   },
   {
    "duration": 91,
    "start_time": "2022-12-28T15:47:07.516Z"
   },
   {
    "duration": 4,
    "start_time": "2022-12-28T15:47:07.609Z"
   },
   {
    "duration": 8,
    "start_time": "2022-12-28T15:47:07.615Z"
   },
   {
    "duration": 109,
    "start_time": "2022-12-28T15:53:16.743Z"
   },
   {
    "duration": 27,
    "start_time": "2022-12-28T15:53:32.803Z"
   },
   {
    "duration": 235,
    "start_time": "2022-12-28T15:53:38.319Z"
   },
   {
    "duration": 49,
    "start_time": "2022-12-28T15:53:50.814Z"
   },
   {
    "duration": 354,
    "start_time": "2022-12-28T15:57:35.984Z"
   },
   {
    "duration": 32,
    "start_time": "2022-12-28T15:57:47.678Z"
   },
   {
    "duration": 31,
    "start_time": "2022-12-28T15:57:56.458Z"
   },
   {
    "duration": 28,
    "start_time": "2022-12-28T15:58:15.915Z"
   },
   {
    "duration": 11,
    "start_time": "2022-12-28T16:27:24.107Z"
   },
   {
    "duration": 8,
    "start_time": "2022-12-28T16:27:36.784Z"
   },
   {
    "duration": 7,
    "start_time": "2022-12-28T16:27:50.912Z"
   },
   {
    "duration": 8,
    "start_time": "2022-12-28T16:28:01.858Z"
   },
   {
    "duration": 8,
    "start_time": "2022-12-28T16:28:12.169Z"
   },
   {
    "duration": 49,
    "start_time": "2022-12-28T16:34:24.283Z"
   },
   {
    "duration": 70,
    "start_time": "2022-12-28T16:35:15.198Z"
   },
   {
    "duration": 23,
    "start_time": "2022-12-28T16:35:23.516Z"
   },
   {
    "duration": 3,
    "start_time": "2022-12-28T16:35:39.836Z"
   },
   {
    "duration": 4,
    "start_time": "2022-12-28T16:36:21.692Z"
   },
   {
    "duration": 4,
    "start_time": "2022-12-28T16:36:36.292Z"
   },
   {
    "duration": 4,
    "start_time": "2022-12-28T16:37:11.019Z"
   },
   {
    "duration": 73,
    "start_time": "2022-12-28T16:37:26.762Z"
   },
   {
    "duration": 22,
    "start_time": "2022-12-28T16:37:29.626Z"
   },
   {
    "duration": 69,
    "start_time": "2022-12-28T16:38:10.320Z"
   },
   {
    "duration": 22,
    "start_time": "2022-12-28T16:38:12.799Z"
   },
   {
    "duration": 4,
    "start_time": "2022-12-28T16:38:17.799Z"
   },
   {
    "duration": 9,
    "start_time": "2022-12-28T17:16:11.082Z"
   },
   {
    "duration": 73,
    "start_time": "2022-12-28T17:17:49.074Z"
   },
   {
    "duration": 1616,
    "start_time": "2022-12-28T17:18:03.750Z"
   },
   {
    "duration": 3,
    "start_time": "2022-12-28T17:18:05.369Z"
   },
   {
    "duration": 5334,
    "start_time": "2022-12-28T17:18:05.374Z"
   },
   {
    "duration": 302,
    "start_time": "2022-12-28T17:18:10.710Z"
   },
   {
    "duration": 36,
    "start_time": "2022-12-28T17:18:11.013Z"
   },
   {
    "duration": 9,
    "start_time": "2022-12-28T17:18:11.050Z"
   },
   {
    "duration": 49,
    "start_time": "2022-12-28T17:18:11.060Z"
   },
   {
    "duration": 18,
    "start_time": "2022-12-28T17:18:11.110Z"
   },
   {
    "duration": 41,
    "start_time": "2022-12-28T17:18:11.130Z"
   },
   {
    "duration": 15,
    "start_time": "2022-12-28T17:18:11.176Z"
   },
   {
    "duration": 41,
    "start_time": "2022-12-28T17:18:11.193Z"
   },
   {
    "duration": 10,
    "start_time": "2022-12-28T17:18:11.236Z"
   },
   {
    "duration": 354,
    "start_time": "2022-12-28T17:18:11.248Z"
   },
   {
    "duration": 9,
    "start_time": "2022-12-28T17:18:11.604Z"
   },
   {
    "duration": 208,
    "start_time": "2022-12-28T17:18:11.615Z"
   },
   {
    "duration": 386,
    "start_time": "2022-12-28T17:18:11.824Z"
   },
   {
    "duration": 13,
    "start_time": "2022-12-28T17:18:12.212Z"
   },
   {
    "duration": 232,
    "start_time": "2022-12-28T17:18:12.226Z"
   },
   {
    "duration": 8,
    "start_time": "2022-12-28T17:18:12.459Z"
   },
   {
    "duration": 196,
    "start_time": "2022-12-28T17:18:12.469Z"
   },
   {
    "duration": 180,
    "start_time": "2022-12-28T17:18:12.668Z"
   },
   {
    "duration": 10,
    "start_time": "2022-12-28T17:18:12.850Z"
   },
   {
    "duration": 226,
    "start_time": "2022-12-28T17:18:12.862Z"
   },
   {
    "duration": 201,
    "start_time": "2022-12-28T17:18:13.091Z"
   },
   {
    "duration": 6,
    "start_time": "2022-12-28T17:18:13.294Z"
   },
   {
    "duration": 195,
    "start_time": "2022-12-28T17:18:13.302Z"
   },
   {
    "duration": 222,
    "start_time": "2022-12-28T17:18:13.499Z"
   },
   {
    "duration": 8,
    "start_time": "2022-12-28T17:18:13.725Z"
   },
   {
    "duration": 152,
    "start_time": "2022-12-28T17:18:13.735Z"
   },
   {
    "duration": 152,
    "start_time": "2022-12-28T17:18:13.897Z"
   },
   {
    "duration": 9,
    "start_time": "2022-12-28T17:18:14.051Z"
   },
   {
    "duration": 165,
    "start_time": "2022-12-28T17:18:14.062Z"
   },
   {
    "duration": 190,
    "start_time": "2022-12-28T17:18:14.229Z"
   },
   {
    "duration": 10,
    "start_time": "2022-12-28T17:18:14.422Z"
   },
   {
    "duration": 175,
    "start_time": "2022-12-28T17:18:14.434Z"
   },
   {
    "duration": 207,
    "start_time": "2022-12-28T17:18:14.610Z"
   },
   {
    "duration": 10,
    "start_time": "2022-12-28T17:18:14.820Z"
   },
   {
    "duration": 423,
    "start_time": "2022-12-28T17:18:14.833Z"
   },
   {
    "duration": 4551,
    "start_time": "2022-12-28T17:18:15.259Z"
   },
   {
    "duration": 9,
    "start_time": "2022-12-28T17:18:19.812Z"
   },
   {
    "duration": 169,
    "start_time": "2022-12-28T17:18:19.823Z"
   },
   {
    "duration": 4577,
    "start_time": "2022-12-28T17:18:19.998Z"
   },
   {
    "duration": 8,
    "start_time": "2022-12-28T17:18:24.580Z"
   },
   {
    "duration": 234,
    "start_time": "2022-12-28T17:18:24.590Z"
   },
   {
    "duration": 3907,
    "start_time": "2022-12-28T17:18:24.828Z"
   },
   {
    "duration": 9,
    "start_time": "2022-12-28T17:18:28.737Z"
   },
   {
    "duration": 154,
    "start_time": "2022-12-28T17:18:28.747Z"
   },
   {
    "duration": 26916,
    "start_time": "2022-12-28T17:18:28.903Z"
   },
   {
    "duration": 12,
    "start_time": "2022-12-28T17:18:55.821Z"
   },
   {
    "duration": 70,
    "start_time": "2022-12-28T17:18:55.834Z"
   },
   {
    "duration": 92,
    "start_time": "2022-12-28T17:18:55.906Z"
   },
   {
    "duration": 86,
    "start_time": "2022-12-28T17:18:56.000Z"
   },
   {
    "duration": 63,
    "start_time": "2022-12-28T17:18:56.088Z"
   },
   {
    "duration": 56,
    "start_time": "2022-12-28T17:18:56.153Z"
   },
   {
    "duration": 15,
    "start_time": "2022-12-28T17:18:56.211Z"
   },
   {
    "duration": 23,
    "start_time": "2022-12-28T17:18:56.228Z"
   },
   {
    "duration": 44,
    "start_time": "2022-12-28T17:18:56.253Z"
   },
   {
    "duration": 16,
    "start_time": "2022-12-28T17:18:56.298Z"
   },
   {
    "duration": 16,
    "start_time": "2022-12-28T17:18:56.315Z"
   },
   {
    "duration": 21,
    "start_time": "2022-12-28T17:18:56.332Z"
   },
   {
    "duration": 86,
    "start_time": "2022-12-28T17:18:56.355Z"
   },
   {
    "duration": 216,
    "start_time": "2022-12-28T17:18:56.444Z"
   },
   {
    "duration": 51,
    "start_time": "2022-12-28T17:18:56.662Z"
   },
   {
    "duration": 30,
    "start_time": "2022-12-28T17:18:56.714Z"
   },
   {
    "duration": 4,
    "start_time": "2022-12-28T17:18:56.746Z"
   },
   {
    "duration": 15,
    "start_time": "2022-12-28T17:18:56.752Z"
   },
   {
    "duration": 8,
    "start_time": "2022-12-28T17:18:56.768Z"
   },
   {
    "duration": 30,
    "start_time": "2022-12-28T17:18:56.777Z"
   },
   {
    "duration": 60,
    "start_time": "2022-12-28T17:18:56.809Z"
   },
   {
    "duration": 4,
    "start_time": "2022-12-28T17:18:56.871Z"
   },
   {
    "duration": 20,
    "start_time": "2022-12-28T17:18:56.876Z"
   },
   {
    "duration": 61,
    "start_time": "2022-12-28T17:18:56.898Z"
   },
   {
    "duration": 349,
    "start_time": "2022-12-28T17:18:56.961Z"
   },
   {
    "duration": 21,
    "start_time": "2022-12-28T17:18:57.311Z"
   },
   {
    "duration": 33,
    "start_time": "2022-12-28T17:18:57.333Z"
   },
   {
    "duration": 3,
    "start_time": "2022-12-28T17:18:57.368Z"
   },
   {
    "duration": 59,
    "start_time": "2022-12-28T17:18:57.373Z"
   },
   {
    "duration": 23,
    "start_time": "2022-12-28T17:23:02.309Z"
   },
   {
    "duration": 3,
    "start_time": "2022-12-28T17:23:03.222Z"
   },
   {
    "duration": 30,
    "start_time": "2022-12-28T17:24:10.329Z"
   },
   {
    "duration": 37,
    "start_time": "2022-12-28T17:24:11.912Z"
   },
   {
    "duration": 5,
    "start_time": "2022-12-28T17:24:14.085Z"
   },
   {
    "duration": 4,
    "start_time": "2022-12-28T17:25:13.901Z"
   },
   {
    "duration": 4,
    "start_time": "2022-12-28T17:25:25.944Z"
   },
   {
    "duration": 1406,
    "start_time": "2022-12-28T17:27:11.050Z"
   },
   {
    "duration": 3,
    "start_time": "2022-12-28T17:27:12.458Z"
   },
   {
    "duration": 5410,
    "start_time": "2022-12-28T17:27:12.462Z"
   },
   {
    "duration": 284,
    "start_time": "2022-12-28T17:27:17.874Z"
   },
   {
    "duration": 42,
    "start_time": "2022-12-28T17:27:18.160Z"
   },
   {
    "duration": 7,
    "start_time": "2022-12-28T17:27:18.204Z"
   },
   {
    "duration": 41,
    "start_time": "2022-12-28T17:27:18.212Z"
   },
   {
    "duration": 16,
    "start_time": "2022-12-28T17:27:18.255Z"
   },
   {
    "duration": 42,
    "start_time": "2022-12-28T17:27:18.273Z"
   },
   {
    "duration": 10,
    "start_time": "2022-12-28T17:27:18.317Z"
   },
   {
    "duration": 40,
    "start_time": "2022-12-28T17:27:18.329Z"
   },
   {
    "duration": 9,
    "start_time": "2022-12-28T17:27:18.371Z"
   },
   {
    "duration": 366,
    "start_time": "2022-12-28T17:27:18.381Z"
   },
   {
    "duration": 7,
    "start_time": "2022-12-28T17:27:18.749Z"
   },
   {
    "duration": 178,
    "start_time": "2022-12-28T17:27:18.757Z"
   },
   {
    "duration": 389,
    "start_time": "2022-12-28T17:27:18.937Z"
   },
   {
    "duration": 11,
    "start_time": "2022-12-28T17:27:19.328Z"
   },
   {
    "duration": 234,
    "start_time": "2022-12-28T17:27:19.340Z"
   },
   {
    "duration": 6,
    "start_time": "2022-12-28T17:27:19.576Z"
   },
   {
    "duration": 177,
    "start_time": "2022-12-28T17:27:19.583Z"
   },
   {
    "duration": 183,
    "start_time": "2022-12-28T17:27:19.761Z"
   },
   {
    "duration": 7,
    "start_time": "2022-12-28T17:27:19.946Z"
   },
   {
    "duration": 143,
    "start_time": "2022-12-28T17:27:19.955Z"
   },
   {
    "duration": 190,
    "start_time": "2022-12-28T17:27:20.100Z"
   },
   {
    "duration": 6,
    "start_time": "2022-12-28T17:27:20.292Z"
   },
   {
    "duration": 156,
    "start_time": "2022-12-28T17:27:20.299Z"
   },
   {
    "duration": 198,
    "start_time": "2022-12-28T17:27:20.457Z"
   },
   {
    "duration": 8,
    "start_time": "2022-12-28T17:27:20.660Z"
   },
   {
    "duration": 135,
    "start_time": "2022-12-28T17:27:20.669Z"
   },
   {
    "duration": 155,
    "start_time": "2022-12-28T17:27:20.806Z"
   },
   {
    "duration": 6,
    "start_time": "2022-12-28T17:27:20.962Z"
   },
   {
    "duration": 140,
    "start_time": "2022-12-28T17:27:20.970Z"
   },
   {
    "duration": 185,
    "start_time": "2022-12-28T17:27:21.112Z"
   },
   {
    "duration": 6,
    "start_time": "2022-12-28T17:27:21.299Z"
   },
   {
    "duration": 132,
    "start_time": "2022-12-28T17:27:21.307Z"
   },
   {
    "duration": 203,
    "start_time": "2022-12-28T17:27:21.441Z"
   },
   {
    "duration": 7,
    "start_time": "2022-12-28T17:27:21.646Z"
   },
   {
    "duration": 225,
    "start_time": "2022-12-28T17:27:21.654Z"
   },
   {
    "duration": 4459,
    "start_time": "2022-12-28T17:27:21.881Z"
   },
   {
    "duration": 6,
    "start_time": "2022-12-28T17:27:26.341Z"
   },
   {
    "duration": 137,
    "start_time": "2022-12-28T17:27:26.349Z"
   },
   {
    "duration": 755,
    "start_time": "2022-12-28T17:27:26.488Z"
   },
   {
    "duration": 6,
    "start_time": "2022-12-28T17:27:27.245Z"
   },
   {
    "duration": 117,
    "start_time": "2022-12-28T17:27:27.252Z"
   },
   {
    "duration": 3837,
    "start_time": "2022-12-28T17:27:27.370Z"
   },
   {
    "duration": 7,
    "start_time": "2022-12-28T17:27:31.209Z"
   },
   {
    "duration": 140,
    "start_time": "2022-12-28T17:27:31.218Z"
   },
   {
    "duration": 21581,
    "start_time": "2022-12-28T17:27:31.359Z"
   },
   {
    "duration": 12,
    "start_time": "2022-12-28T17:27:52.941Z"
   },
   {
    "duration": 67,
    "start_time": "2022-12-28T17:27:52.955Z"
   },
   {
    "duration": 51,
    "start_time": "2022-12-28T17:27:53.024Z"
   },
   {
    "duration": 99,
    "start_time": "2022-12-28T17:27:53.076Z"
   },
   {
    "duration": 70,
    "start_time": "2022-12-28T17:27:53.177Z"
   },
   {
    "duration": 58,
    "start_time": "2022-12-28T17:27:53.248Z"
   },
   {
    "duration": 13,
    "start_time": "2022-12-28T17:27:53.308Z"
   },
   {
    "duration": 25,
    "start_time": "2022-12-28T17:27:53.322Z"
   },
   {
    "duration": 18,
    "start_time": "2022-12-28T17:27:53.348Z"
   },
   {
    "duration": 36,
    "start_time": "2022-12-28T17:27:53.368Z"
   },
   {
    "duration": 18,
    "start_time": "2022-12-28T17:27:53.406Z"
   },
   {
    "duration": 33,
    "start_time": "2022-12-28T17:27:53.426Z"
   },
   {
    "duration": 75,
    "start_time": "2022-12-28T17:27:53.460Z"
   },
   {
    "duration": 192,
    "start_time": "2022-12-28T17:27:53.537Z"
   },
   {
    "duration": 69,
    "start_time": "2022-12-28T17:27:53.730Z"
   },
   {
    "duration": 38,
    "start_time": "2022-12-28T17:27:53.801Z"
   },
   {
    "duration": 5,
    "start_time": "2022-12-28T17:27:53.841Z"
   },
   {
    "duration": 6,
    "start_time": "2022-12-28T17:27:53.848Z"
   },
   {
    "duration": 5,
    "start_time": "2022-12-28T17:27:53.856Z"
   },
   {
    "duration": 44,
    "start_time": "2022-12-28T17:27:53.862Z"
   },
   {
    "duration": 65,
    "start_time": "2022-12-28T17:27:53.907Z"
   },
   {
    "duration": 4,
    "start_time": "2022-12-28T17:27:53.974Z"
   },
   {
    "duration": 18,
    "start_time": "2022-12-28T17:27:53.980Z"
   },
   {
    "duration": 57,
    "start_time": "2022-12-28T17:27:54.000Z"
   },
   {
    "duration": 377,
    "start_time": "2022-12-28T17:27:54.058Z"
   },
   {
    "duration": 20,
    "start_time": "2022-12-28T17:27:54.437Z"
   },
   {
    "duration": 15,
    "start_time": "2022-12-28T17:27:54.459Z"
   },
   {
    "duration": 7,
    "start_time": "2022-12-28T17:27:54.475Z"
   },
   {
    "duration": 45,
    "start_time": "2022-12-28T17:27:54.483Z"
   },
   {
    "duration": 31,
    "start_time": "2022-12-28T17:27:54.530Z"
   },
   {
    "duration": 18,
    "start_time": "2022-12-28T17:27:54.563Z"
   },
   {
    "duration": 7,
    "start_time": "2022-12-28T17:27:54.583Z"
   },
   {
    "duration": 13,
    "start_time": "2022-12-28T17:27:54.592Z"
   },
   {
    "duration": 3,
    "start_time": "2022-12-28T17:44:30.833Z"
   },
   {
    "duration": 112,
    "start_time": "2022-12-28T17:47:39.044Z"
   },
   {
    "duration": 471,
    "start_time": "2022-12-28T17:47:47.798Z"
   },
   {
    "duration": 30,
    "start_time": "2022-12-28T17:54:24.087Z"
   },
   {
    "duration": 9,
    "start_time": "2022-12-28T17:55:35.781Z"
   },
   {
    "duration": 18,
    "start_time": "2022-12-28T17:56:52.297Z"
   },
   {
    "duration": 4,
    "start_time": "2022-12-28T17:56:52.931Z"
   },
   {
    "duration": 468,
    "start_time": "2022-12-28T17:57:12.996Z"
   },
   {
    "duration": 14,
    "start_time": "2022-12-28T17:57:15.538Z"
   },
   {
    "duration": 3,
    "start_time": "2022-12-28T17:57:16.397Z"
   },
   {
    "duration": 431,
    "start_time": "2022-12-28T17:57:24.509Z"
   },
   {
    "duration": 13,
    "start_time": "2022-12-28T17:57:26.224Z"
   },
   {
    "duration": 3,
    "start_time": "2022-12-28T17:57:26.857Z"
   },
   {
    "duration": 366,
    "start_time": "2022-12-28T17:57:50.901Z"
   },
   {
    "duration": 11,
    "start_time": "2022-12-28T17:57:53.678Z"
   },
   {
    "duration": 4,
    "start_time": "2022-12-28T17:57:55.126Z"
   },
   {
    "duration": 670,
    "start_time": "2022-12-28T17:58:42.200Z"
   },
   {
    "duration": 3026,
    "start_time": "2022-12-28T17:59:24.603Z"
   },
   {
    "duration": 11,
    "start_time": "2022-12-28T17:59:34.188Z"
   },
   {
    "duration": 3,
    "start_time": "2022-12-28T17:59:35.413Z"
   },
   {
    "duration": 339656,
    "start_time": "2022-12-28T18:12:44.351Z"
   },
   {
    "duration": 22,
    "start_time": "2022-12-28T18:25:06.759Z"
   },
   {
    "duration": 1504,
    "start_time": "2022-12-28T18:25:36.867Z"
   },
   {
    "duration": 6,
    "start_time": "2022-12-28T18:36:32.815Z"
   },
   {
    "duration": 1429,
    "start_time": "2022-12-28T18:36:43.174Z"
   },
   {
    "duration": 5,
    "start_time": "2022-12-28T18:45:58.642Z"
   },
   {
    "duration": 11,
    "start_time": "2022-12-28T18:56:55.403Z"
   },
   {
    "duration": 2350,
    "start_time": "2022-12-28T18:58:16.051Z"
   },
   {
    "duration": 45,
    "start_time": "2022-12-28T18:59:29.497Z"
   },
   {
    "duration": 54,
    "start_time": "2022-12-28T18:59:52.697Z"
   },
   {
    "duration": 3,
    "start_time": "2022-12-28T19:01:41.484Z"
   },
   {
    "duration": 9,
    "start_time": "2022-12-28T19:02:32.057Z"
   },
   {
    "duration": 167,
    "start_time": "2022-12-28T19:03:27.225Z"
   },
   {
    "duration": 246,
    "start_time": "2022-12-28T19:04:09.196Z"
   },
   {
    "duration": 143,
    "start_time": "2022-12-28T19:04:29.734Z"
   },
   {
    "duration": 195,
    "start_time": "2022-12-28T19:07:04.898Z"
   },
   {
    "duration": 51,
    "start_time": "2022-12-28T19:08:13.629Z"
   },
   {
    "duration": 1131,
    "start_time": "2022-12-28T19:12:00.739Z"
   },
   {
    "duration": 14,
    "start_time": "2022-12-28T19:15:23.864Z"
   },
   {
    "duration": 13,
    "start_time": "2022-12-28T19:15:28.797Z"
   },
   {
    "duration": 3,
    "start_time": "2022-12-28T19:15:29.686Z"
   },
   {
    "duration": 181,
    "start_time": "2022-12-28T19:15:31.441Z"
   },
   {
    "duration": 5,
    "start_time": "2022-12-28T19:15:34.559Z"
   },
   {
    "duration": 26,
    "start_time": "2022-12-28T19:15:47.390Z"
   },
   {
    "duration": 182,
    "start_time": "2022-12-28T19:17:06.618Z"
   },
   {
    "duration": 184,
    "start_time": "2022-12-28T19:17:15.605Z"
   },
   {
    "duration": 161,
    "start_time": "2022-12-28T19:17:21.718Z"
   },
   {
    "duration": 1435,
    "start_time": "2022-12-28T19:17:35.379Z"
   },
   {
    "duration": 3,
    "start_time": "2022-12-28T19:17:36.816Z"
   },
   {
    "duration": 5081,
    "start_time": "2022-12-28T19:17:36.820Z"
   },
   {
    "duration": 315,
    "start_time": "2022-12-28T19:17:41.903Z"
   },
   {
    "duration": 37,
    "start_time": "2022-12-28T19:17:42.219Z"
   },
   {
    "duration": 7,
    "start_time": "2022-12-28T19:17:42.258Z"
   },
   {
    "duration": 40,
    "start_time": "2022-12-28T19:17:42.266Z"
   },
   {
    "duration": 16,
    "start_time": "2022-12-28T19:17:42.307Z"
   },
   {
    "duration": 41,
    "start_time": "2022-12-28T19:17:42.324Z"
   },
   {
    "duration": 10,
    "start_time": "2022-12-28T19:17:42.367Z"
   },
   {
    "duration": 44,
    "start_time": "2022-12-28T19:17:42.378Z"
   },
   {
    "duration": 8,
    "start_time": "2022-12-28T19:17:42.424Z"
   },
   {
    "duration": 357,
    "start_time": "2022-12-28T19:17:42.434Z"
   },
   {
    "duration": 7,
    "start_time": "2022-12-28T19:17:42.793Z"
   },
   {
    "duration": 183,
    "start_time": "2022-12-28T19:17:42.801Z"
   },
   {
    "duration": 387,
    "start_time": "2022-12-28T19:17:42.985Z"
   },
   {
    "duration": 11,
    "start_time": "2022-12-28T19:17:43.374Z"
   },
   {
    "duration": 236,
    "start_time": "2022-12-28T19:17:43.387Z"
   },
   {
    "duration": 8,
    "start_time": "2022-12-28T19:17:43.625Z"
   },
   {
    "duration": 172,
    "start_time": "2022-12-28T19:17:43.635Z"
   },
   {
    "duration": 181,
    "start_time": "2022-12-28T19:17:43.808Z"
   },
   {
    "duration": 7,
    "start_time": "2022-12-28T19:17:43.991Z"
   },
   {
    "duration": 135,
    "start_time": "2022-12-28T19:17:44.000Z"
   },
   {
    "duration": 193,
    "start_time": "2022-12-28T19:17:44.137Z"
   },
   {
    "duration": 6,
    "start_time": "2022-12-28T19:17:44.332Z"
   },
   {
    "duration": 139,
    "start_time": "2022-12-28T19:17:44.339Z"
   },
   {
    "duration": 200,
    "start_time": "2022-12-28T19:17:44.479Z"
   },
   {
    "duration": 8,
    "start_time": "2022-12-28T19:17:44.685Z"
   },
   {
    "duration": 180,
    "start_time": "2022-12-28T19:17:44.694Z"
   },
   {
    "duration": 160,
    "start_time": "2022-12-28T19:17:44.875Z"
   },
   {
    "duration": 7,
    "start_time": "2022-12-28T19:17:45.037Z"
   },
   {
    "duration": 140,
    "start_time": "2022-12-28T19:17:45.046Z"
   },
   {
    "duration": 188,
    "start_time": "2022-12-28T19:17:45.188Z"
   },
   {
    "duration": 6,
    "start_time": "2022-12-28T19:17:45.378Z"
   },
   {
    "duration": 135,
    "start_time": "2022-12-28T19:17:45.385Z"
   },
   {
    "duration": 203,
    "start_time": "2022-12-28T19:17:45.521Z"
   },
   {
    "duration": 6,
    "start_time": "2022-12-28T19:17:45.726Z"
   },
   {
    "duration": 235,
    "start_time": "2022-12-28T19:17:45.734Z"
   },
   {
    "duration": 4573,
    "start_time": "2022-12-28T19:17:45.971Z"
   },
   {
    "duration": 6,
    "start_time": "2022-12-28T19:17:50.546Z"
   },
   {
    "duration": 155,
    "start_time": "2022-12-28T19:17:50.554Z"
   },
   {
    "duration": 2289,
    "start_time": "2022-12-28T19:17:50.711Z"
   },
   {
    "duration": 6,
    "start_time": "2022-12-28T19:17:53.002Z"
   },
   {
    "duration": 122,
    "start_time": "2022-12-28T19:17:53.009Z"
   },
   {
    "duration": 4041,
    "start_time": "2022-12-28T19:17:53.133Z"
   },
   {
    "duration": 6,
    "start_time": "2022-12-28T19:17:57.176Z"
   },
   {
    "duration": 125,
    "start_time": "2022-12-28T19:17:57.183Z"
   },
   {
    "duration": 32410,
    "start_time": "2022-12-28T19:17:57.310Z"
   },
   {
    "duration": 12,
    "start_time": "2022-12-28T19:18:29.722Z"
   },
   {
    "duration": 72,
    "start_time": "2022-12-28T19:18:29.735Z"
   },
   {
    "duration": 52,
    "start_time": "2022-12-28T19:18:29.809Z"
   },
   {
    "duration": 116,
    "start_time": "2022-12-28T19:18:29.863Z"
   },
   {
    "duration": 88,
    "start_time": "2022-12-28T19:18:29.981Z"
   },
   {
    "duration": 66,
    "start_time": "2022-12-28T19:18:30.071Z"
   },
   {
    "duration": 13,
    "start_time": "2022-12-28T19:18:30.139Z"
   },
   {
    "duration": 22,
    "start_time": "2022-12-28T19:18:30.154Z"
   },
   {
    "duration": 20,
    "start_time": "2022-12-28T19:18:30.198Z"
   },
   {
    "duration": 19,
    "start_time": "2022-12-28T19:18:30.220Z"
   },
   {
    "duration": 22,
    "start_time": "2022-12-28T19:18:30.241Z"
   },
   {
    "duration": 34,
    "start_time": "2022-12-28T19:18:30.265Z"
   },
   {
    "duration": 81,
    "start_time": "2022-12-28T19:18:30.301Z"
   },
   {
    "duration": 192,
    "start_time": "2022-12-28T19:18:30.384Z"
   },
   {
    "duration": 56,
    "start_time": "2022-12-28T19:18:30.578Z"
   },
   {
    "duration": 27,
    "start_time": "2022-12-28T19:18:30.636Z"
   },
   {
    "duration": 27,
    "start_time": "2022-12-28T19:18:30.664Z"
   },
   {
    "duration": 39,
    "start_time": "2022-12-28T19:18:30.692Z"
   },
   {
    "duration": 36,
    "start_time": "2022-12-28T19:18:30.732Z"
   },
   {
    "duration": 64,
    "start_time": "2022-12-28T19:18:30.769Z"
   },
   {
    "duration": 88,
    "start_time": "2022-12-28T19:18:30.834Z"
   },
   {
    "duration": 4,
    "start_time": "2022-12-28T19:18:30.923Z"
   },
   {
    "duration": 35,
    "start_time": "2022-12-28T19:18:30.928Z"
   },
   {
    "duration": 83,
    "start_time": "2022-12-28T19:18:30.964Z"
   },
   {
    "duration": 339,
    "start_time": "2022-12-28T19:18:31.049Z"
   },
   {
    "duration": 26,
    "start_time": "2022-12-28T19:18:31.389Z"
   },
   {
    "duration": 18,
    "start_time": "2022-12-28T19:18:31.416Z"
   },
   {
    "duration": 16,
    "start_time": "2022-12-28T19:18:31.435Z"
   },
   {
    "duration": 48,
    "start_time": "2022-12-28T19:18:31.452Z"
   },
   {
    "duration": 24,
    "start_time": "2022-12-28T19:18:31.501Z"
   },
   {
    "duration": 7,
    "start_time": "2022-12-28T19:18:31.526Z"
   },
   {
    "duration": 20,
    "start_time": "2022-12-28T19:18:31.535Z"
   },
   {
    "duration": 11,
    "start_time": "2022-12-28T19:18:31.557Z"
   },
   {
    "duration": 2918,
    "start_time": "2022-12-28T19:18:31.574Z"
   },
   {
    "duration": 14,
    "start_time": "2022-12-28T19:18:34.496Z"
   },
   {
    "duration": 3,
    "start_time": "2022-12-28T19:18:34.512Z"
   },
   {
    "duration": 329114,
    "start_time": "2022-12-28T19:18:34.516Z"
   },
   {
    "duration": 23,
    "start_time": "2022-12-28T19:24:03.632Z"
   },
   {
    "duration": 12,
    "start_time": "2022-12-28T19:24:03.656Z"
   },
   {
    "duration": 2471,
    "start_time": "2022-12-28T19:24:03.670Z"
   },
   {
    "duration": 67,
    "start_time": "2022-12-28T19:24:06.143Z"
   },
   {
    "duration": 8,
    "start_time": "2022-12-28T19:24:06.212Z"
   },
   {
    "duration": 175,
    "start_time": "2022-12-28T19:24:06.222Z"
   },
   {
    "duration": 1245,
    "start_time": "2022-12-28T19:24:06.399Z"
   },
   {
    "duration": 13,
    "start_time": "2022-12-28T19:24:07.646Z"
   },
   {
    "duration": 4,
    "start_time": "2022-12-28T19:24:07.661Z"
   },
   {
    "duration": 213,
    "start_time": "2022-12-28T19:24:07.666Z"
   },
   {
    "duration": 6,
    "start_time": "2022-12-28T19:24:07.881Z"
   },
   {
    "duration": 234,
    "start_time": "2022-12-28T19:24:07.888Z"
   },
   {
    "duration": 179,
    "start_time": "2022-12-28T19:24:08.124Z"
   },
   {
    "duration": 205,
    "start_time": "2022-12-28T19:24:08.304Z"
   }
  ],
  "kernelspec": {
   "display_name": "Python 3 (ipykernel)",
   "language": "python",
   "name": "python3"
  },
  "language_info": {
   "codemirror_mode": {
    "name": "ipython",
    "version": 3
   },
   "file_extension": ".py",
   "mimetype": "text/x-python",
   "name": "python",
   "nbconvert_exporter": "python",
   "pygments_lexer": "ipython3",
   "version": "3.9.13"
  },
  "toc": {
   "base_numbering": 1,
   "nav_menu": {},
   "number_sections": false,
   "sideBar": true,
   "skip_h1_title": false,
   "title_cell": "Table of Contents",
   "title_sidebar": "Contents",
   "toc_cell": false,
   "toc_position": {
    "height": "calc(100% - 180px)",
    "left": "10px",
    "top": "150px",
    "width": "207px"
   },
   "toc_section_display": true,
   "toc_window_display": true
  },
  "varInspector": {
   "cols": {
    "lenName": 16,
    "lenType": 16,
    "lenVar": 40
   },
   "kernels_config": {
    "python": {
     "delete_cmd_postfix": "",
     "delete_cmd_prefix": "del ",
     "library": "var_list.py",
     "varRefreshCmd": "print(var_dic_list())"
    },
    "r": {
     "delete_cmd_postfix": ") ",
     "delete_cmd_prefix": "rm(",
     "library": "var_list.r",
     "varRefreshCmd": "cat(var_dic_list()) "
    }
   },
   "types_to_exclude": [
    "module",
    "function",
    "builtin_function_or_method",
    "instance",
    "_Feature"
   ],
   "window_display": false
  }
 },
 "nbformat": 4,
 "nbformat_minor": 5
}
