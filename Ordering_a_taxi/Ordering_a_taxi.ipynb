{
 "cells": [
  {
   "cell_type": "markdown",
   "metadata": {},
   "source": [
    "#  Прогнозирование заказов такси"
   ]
  },
  {
   "cell_type": "markdown",
   "metadata": {},
   "source": [
    "Компания собрала исторические данные о заказах такси в аэропортах. Чтобы привлекать больше водителей в период пиковой нагрузки, нужно спрогнозировать количество заказов такси на следующий час. Постройте модель для такого предсказания.\n",
    "\n",
    "Значение метрики *RMSE* на тестовой выборке должно быть не больше 48."
   ]
  },
  {
   "cell_type": "markdown",
   "metadata": {},
   "source": [
    "## Подготовка"
   ]
  },
  {
   "cell_type": "markdown",
   "metadata": {},
   "source": [
    "Загрузим библиотеки"
   ]
  },
  {
   "cell_type": "code",
   "execution_count": 1,
   "metadata": {},
   "outputs": [],
   "source": [
    "import pandas as pd\n",
    "import numpy as np\n",
    "from statsmodels.tsa.seasonal import seasonal_decompose\n",
    "import matplotlib.pyplot as plt\n",
    "from sklearn.model_selection import train_test_split\n",
    "from sklearn.metrics import mean_squared_error\n",
    "from math import sqrt\n",
    "from sklearn.linear_model import LinearRegression\n",
    "from sklearn.model_selection import cross_val_score\n",
    "from sklearn.model_selection import GridSearchCV\n",
    "from sklearn.ensemble import RandomForestRegressor\n",
    "from catboost import CatBoostRegressor\n",
    "from catboost import Pool, cv\n",
    "from sklearn.model_selection import TimeSeriesSplit"
   ]
  },
  {
   "cell_type": "markdown",
   "metadata": {},
   "source": [
    "### Загрузка и первичное знакомство с данными"
   ]
  },
  {
   "cell_type": "markdown",
   "metadata": {},
   "source": [
    "Загрузим данные и установим индекс таблицы равным столбцу Datetime. "
   ]
  },
  {
   "cell_type": "code",
   "execution_count": 2,
   "metadata": {},
   "outputs": [],
   "source": [
    "df = pd.read_csv('/datasets/taxi.csv', index_col=[0], parse_dates=[0])\n",
    "df.sort_index(inplace=True)"
   ]
  },
  {
   "cell_type": "code",
   "execution_count": 3,
   "metadata": {},
   "outputs": [
    {
     "data": {
      "text/html": [
       "<div>\n",
       "<style scoped>\n",
       "    .dataframe tbody tr th:only-of-type {\n",
       "        vertical-align: middle;\n",
       "    }\n",
       "\n",
       "    .dataframe tbody tr th {\n",
       "        vertical-align: top;\n",
       "    }\n",
       "\n",
       "    .dataframe thead th {\n",
       "        text-align: right;\n",
       "    }\n",
       "</style>\n",
       "<table border=\"1\" class=\"dataframe\">\n",
       "  <thead>\n",
       "    <tr style=\"text-align: right;\">\n",
       "      <th></th>\n",
       "      <th>num_orders</th>\n",
       "    </tr>\n",
       "    <tr>\n",
       "      <th>datetime</th>\n",
       "      <th></th>\n",
       "    </tr>\n",
       "  </thead>\n",
       "  <tbody>\n",
       "    <tr>\n",
       "      <th>2018-03-01 00:00:00</th>\n",
       "      <td>9</td>\n",
       "    </tr>\n",
       "    <tr>\n",
       "      <th>2018-03-01 00:10:00</th>\n",
       "      <td>14</td>\n",
       "    </tr>\n",
       "    <tr>\n",
       "      <th>2018-03-01 00:20:00</th>\n",
       "      <td>28</td>\n",
       "    </tr>\n",
       "    <tr>\n",
       "      <th>2018-03-01 00:30:00</th>\n",
       "      <td>20</td>\n",
       "    </tr>\n",
       "    <tr>\n",
       "      <th>2018-03-01 00:40:00</th>\n",
       "      <td>32</td>\n",
       "    </tr>\n",
       "  </tbody>\n",
       "</table>\n",
       "</div>"
      ],
      "text/plain": [
       "                     num_orders\n",
       "datetime                       \n",
       "2018-03-01 00:00:00           9\n",
       "2018-03-01 00:10:00          14\n",
       "2018-03-01 00:20:00          28\n",
       "2018-03-01 00:30:00          20\n",
       "2018-03-01 00:40:00          32"
      ]
     },
     "execution_count": 3,
     "metadata": {},
     "output_type": "execute_result"
    }
   ],
   "source": [
    "df.head(5)"
   ]
  },
  {
   "cell_type": "markdown",
   "metadata": {},
   "source": [
    "Посмотрим предварительную информацию."
   ]
  },
  {
   "cell_type": "code",
   "execution_count": 4,
   "metadata": {},
   "outputs": [
    {
     "name": "stdout",
     "output_type": "stream",
     "text": [
      "<class 'pandas.core.frame.DataFrame'>\n",
      "DatetimeIndex: 26496 entries, 2018-03-01 00:00:00 to 2018-08-31 23:50:00\n",
      "Data columns (total 1 columns):\n",
      " #   Column      Non-Null Count  Dtype\n",
      "---  ------      --------------  -----\n",
      " 0   num_orders  26496 non-null  int64\n",
      "dtypes: int64(1)\n",
      "memory usage: 414.0 KB\n"
     ]
    }
   ],
   "source": [
    "df.info()"
   ]
  },
  {
   "cell_type": "markdown",
   "metadata": {},
   "source": [
    "Убедимся, что данные расположены в хронологическом прорядке."
   ]
  },
  {
   "cell_type": "code",
   "execution_count": 5,
   "metadata": {},
   "outputs": [
    {
     "data": {
      "text/plain": [
       "True"
      ]
     },
     "execution_count": 5,
     "metadata": {},
     "output_type": "execute_result"
    }
   ],
   "source": [
    "df.index.is_monotonic"
   ]
  },
  {
   "cell_type": "markdown",
   "metadata": {},
   "source": [
    "**Вывод** \n",
    "\n",
    "- Загрузили данные установили индекс таблицы равным столбцу Datetime.\n",
    "- Убедились в отсутствии пропусков. \n",
    "- Убедились что даты расположены в хронологическом порядка.\n",
    "\n",
    "Данные пригодны для дальнейшего исследования, но временные интервалы 10 мин, в дальнейшем приведём их к 1 часу."
   ]
  },
  {
   "cell_type": "markdown",
   "metadata": {},
   "source": [
    "### Ресемплирование данных по одному часу"
   ]
  },
  {
   "cell_type": "markdown",
   "metadata": {},
   "source": [
    "Выполним ресемплирование данных по одному часу."
   ]
  },
  {
   "cell_type": "code",
   "execution_count": 6,
   "metadata": {},
   "outputs": [],
   "source": [
    "df = df.resample('1H').sum()"
   ]
  },
  {
   "cell_type": "code",
   "execution_count": 7,
   "metadata": {},
   "outputs": [
    {
     "data": {
      "text/plain": [
       "<AxesSubplot:xlabel='datetime'>"
      ]
     },
     "execution_count": 7,
     "metadata": {},
     "output_type": "execute_result"
    },
    {
     "data": {
      "image/png": "[encoded data removed]",
      "text/plain": [
       "<Figure size 1080x576 with 1 Axes>"
      ]
     },
     "metadata": {
      "needs_background": "light"
     },
     "output_type": "display_data"
    }
   ],
   "source": [
    "df.plot(figsize=(15, 8))"
   ]
  },
  {
   "cell_type": "markdown",
   "metadata": {},
   "source": [
    "**Вывод**\n",
    "\n",
    "- Провели ресемплирование данных.\n",
    "\n",
    "Видны достаточно сильные колебания, но данные готовы для дальнейшего анализа и моделирования."
   ]
  },
  {
   "cell_type": "markdown",
   "metadata": {},
   "source": [
    "## Анализ"
   ]
  },
  {
   "cell_type": "markdown",
   "metadata": {},
   "source": [
    "Проанализируем имеющиеся у нас данные, для этого применим указанные ниже инструмены."
   ]
  },
  {
   "cell_type": "code",
   "execution_count": 8,
   "metadata": {},
   "outputs": [],
   "source": [
    "df_analysis = df[['num_orders']].copy()"
   ]
  },
  {
   "cell_type": "markdown",
   "metadata": {},
   "source": [
    "### Скользящее среднее"
   ]
  },
  {
   "cell_type": "code",
   "execution_count": 9,
   "metadata": {},
   "outputs": [],
   "source": [
    "df_analysis['rolling_mean'] = df_analysis.rolling(24).mean()"
   ]
  },
  {
   "cell_type": "code",
   "execution_count": 10,
   "metadata": {},
   "outputs": [
    {
     "data": {
      "text/plain": [
       "<AxesSubplot:xlabel='datetime'>"
      ]
     },
     "execution_count": 10,
     "metadata": {},
     "output_type": "execute_result"
    },
    {
     "data": {
      "image/png": "[encoded data removed]",
      "text/plain": [
       "<Figure size 1080x576 with 1 Axes>"
      ]
     },
     "metadata": {
      "needs_background": "light"
     },
     "output_type": "display_data"
    }
   ],
   "source": [
    "df_analysis.plot(figsize=(15, 8))"
   ]
  },
  {
   "cell_type": "markdown",
   "metadata": {},
   "source": [
    "**Вывод**\n",
    "\n",
    "Как видно из графика, скользящее среднее возростает от весенних месяцев к лету, по скольку это такси в аэрапортах, возможно это связано с сезоном отпусков и увеличением рейсов в летний период."
   ]
  },
  {
   "cell_type": "markdown",
   "metadata": {},
   "source": [
    "### Тренды и сезонность"
   ]
  },
  {
   "cell_type": "code",
   "execution_count": 11,
   "metadata": {},
   "outputs": [],
   "source": [
    "df_analysis = df_analysis.drop('rolling_mean', axis=1)"
   ]
  },
  {
   "cell_type": "markdown",
   "metadata": {},
   "source": [
    "Декомпозируем данные"
   ]
  },
  {
   "cell_type": "code",
   "execution_count": 12,
   "metadata": {},
   "outputs": [],
   "source": [
    "decomposed = seasonal_decompose(df_analysis)"
   ]
  },
  {
   "cell_type": "markdown",
   "metadata": {},
   "source": [
    "Для начала посмотрим общий тренд."
   ]
  },
  {
   "cell_type": "code",
   "execution_count": 13,
   "metadata": {},
   "outputs": [
    {
     "data": {
      "text/plain": [
       "Text(0.5, 1.0, 'Trend')"
      ]
     },
     "execution_count": 13,
     "metadata": {},
     "output_type": "execute_result"
    },
    {
     "data": {
      "image/png": "[encoded data removed]",
      "text/plain": [
       "<Figure size 1080x576 with 1 Axes>"
      ]
     },
     "metadata": {
      "needs_background": "light"
     },
     "output_type": "display_data"
    }
   ],
   "source": [
    "plt.figure(figsize=(15, 8))\n",
    "decomposed.trend.plot(ax=plt.gca())\n",
    "plt.title('Trend')\n",
    "\n"
   ]
  },
  {
   "cell_type": "markdown",
   "metadata": {},
   "source": [
    "Теперь посмотрим график сезонности."
   ]
  },
  {
   "cell_type": "code",
   "execution_count": 14,
   "metadata": {},
   "outputs": [
    {
     "data": {
      "text/plain": [
       "Text(0.5, 1.0, 'Seasonality')"
      ]
     },
     "execution_count": 14,
     "metadata": {},
     "output_type": "execute_result"
    },
    {
     "data": {
      "image/png": "[encoded data removed]",
      "text/plain": [
       "<Figure size 1152x576 with 1 Axes>"
      ]
     },
     "metadata": {
      "needs_background": "light"
     },
     "output_type": "display_data"
    }
   ],
   "source": [
    "plt.figure(figsize=(16, 8))\n",
    "decomposed.seasonal.plot(ax=plt.gca())\n",
    "\n",
    "plt.title('Seasonality')\n"
   ]
  },
  {
   "cell_type": "markdown",
   "metadata": {},
   "source": [
    "Теперь остатки."
   ]
  },
  {
   "cell_type": "code",
   "execution_count": 15,
   "metadata": {},
   "outputs": [
    {
     "data": {
      "image/png": "[encoded data removed]",
      "text/plain": [
       "<Figure size 1080x576 with 1 Axes>"
      ]
     },
     "metadata": {
      "needs_background": "light"
     },
     "output_type": "display_data"
    }
   ],
   "source": [
    "plt.figure(figsize=(15, 8))\n",
    "decomposed.resid.plot(ax=plt.gca())\n",
    "plt.title('Residuals')\n",
    "plt.tight_layout()"
   ]
  },
  {
   "cell_type": "markdown",
   "metadata": {},
   "source": [
    "По скольку сезонность у нас меньше года, посмотрим на небольшом периоде (2 дня)."
   ]
  },
  {
   "cell_type": "code",
   "execution_count": 16,
   "metadata": {},
   "outputs": [
    {
     "data": {
      "text/plain": [
       "Text(0.5, 1.0, 'Seasonality')"
      ]
     },
     "execution_count": 16,
     "metadata": {},
     "output_type": "execute_result"
    },
    {
     "data": {
      "image/png": "[encoded data removed]",
      "text/plain": [
       "<Figure size 1080x576 with 1 Axes>"
      ]
     },
     "metadata": {
      "needs_background": "light"
     },
     "output_type": "display_data"
    }
   ],
   "source": [
    "plt.figure(figsize=(15, 8))\n",
    "decomposed.seasonal['2018-03-01':'2018-03-03'].plot(ax=plt.gca())\n",
    "plt.title('Seasonality')\n"
   ]
  },
  {
   "cell_type": "markdown",
   "metadata": {},
   "source": [
    "Теперь посмотрим недельную сезонность."
   ]
  },
  {
   "cell_type": "markdown",
   "metadata": {},
   "source": [
    "Для начала сделаем новую ресемпликацию: по дням."
   ]
  },
  {
   "cell_type": "code",
   "execution_count": 17,
   "metadata": {},
   "outputs": [],
   "source": [
    "df_analysis_day = df_analysis.resample('1D').sum()"
   ]
  },
  {
   "cell_type": "markdown",
   "metadata": {},
   "source": [
    "Заново сделаем декомпозицию"
   ]
  },
  {
   "cell_type": "code",
   "execution_count": 18,
   "metadata": {},
   "outputs": [],
   "source": [
    "decomposed_day = seasonal_decompose(df_analysis_day)"
   ]
  },
  {
   "cell_type": "markdown",
   "metadata": {},
   "source": [
    "Для наглядности сделаем график по трёхнедельному срезу."
   ]
  },
  {
   "cell_type": "code",
   "execution_count": 19,
   "metadata": {
    "scrolled": true
   },
   "outputs": [
    {
     "data": {
      "text/plain": [
       "Text(0.5, 1.0, 'Seasonality')"
      ]
     },
     "execution_count": 19,
     "metadata": {},
     "output_type": "execute_result"
    },
    {
     "data": {
      "image/png": "[encoded data removed]",
      "text/plain": [
       "<Figure size 1080x576 with 1 Axes>"
      ]
     },
     "metadata": {
      "needs_background": "light"
     },
     "output_type": "display_data"
    }
   ],
   "source": [
    "plt.figure(figsize=(15, 8))\n",
    "decomposed_day.seasonal['2018-03-01':'2018-03-28'].plot(ax=plt.gca())\n",
    "plt.title('Seasonality')"
   ]
  },
  {
   "cell_type": "markdown",
   "metadata": {},
   "source": [
    "**Вывод**\n",
    "\n",
    "- Мы видим возрастающий тренд от марта к августу.\n",
    "- Присутствует \"сезонность\" в рамках дня всплеск активности наблюдается в районе 00:00 часов, после чего идёт спад примерно до 6:00 после чего наблюдается рост с пиками в районе 12:00 и 18:00.\n",
    "- Присутствует недельная сезонность: мы видим пики активности по понедельникам и пятницам, при этом наблюдается спады активности по вторникам и воскресеньям.\n",
    "- Остатки не объяснимы."
   ]
  },
  {
   "cell_type": "markdown",
   "metadata": {},
   "source": [
    "### Разности временного ряда"
   ]
  },
  {
   "cell_type": "markdown",
   "metadata": {},
   "source": [
    "Посмотрим разности временного ряда."
   ]
  },
  {
   "cell_type": "code",
   "execution_count": 20,
   "metadata": {},
   "outputs": [
    {
     "data": {
      "text/plain": [
       "<AxesSubplot:xlabel='datetime'>"
      ]
     },
     "execution_count": 20,
     "metadata": {},
     "output_type": "execute_result"
    },
    {
     "data": {
      "image/png": "[encoded data removed]",
      "text/plain": [
       "<Figure size 1080x576 with 1 Axes>"
      ]
     },
     "metadata": {
      "needs_background": "light"
     },
     "output_type": "display_data"
    }
   ],
   "source": [
    "df_analysis = df_analysis - df_analysis.shift(24)\n",
    "df_analysis['mean'] = df_analysis['num_orders'].rolling(24).mean()\n",
    "df_analysis['std'] = df_analysis['num_orders'].rolling(24).std()\n",
    "df_analysis.plot(figsize=(15, 8))"
   ]
  },
  {
   "cell_type": "markdown",
   "metadata": {},
   "source": [
    "## Обучение"
   ]
  },
  {
   "cell_type": "markdown",
   "metadata": {},
   "source": [
    "### Создание признаков"
   ]
  },
  {
   "cell_type": "code",
   "execution_count": 21,
   "metadata": {},
   "outputs": [],
   "source": [
    "def make_features(data):\n",
    "    \n",
    "    data['dayofweek'] = data.index.dayofweek\n",
    "    data['hour'] = data.index.hour\n",
    "    \n",
    "    \n",
    "    return data\n"
   ]
  },
  {
   "cell_type": "code",
   "execution_count": 22,
   "metadata": {},
   "outputs": [
    {
     "data": {
      "text/html": [
       "<div>\n",
       "<style scoped>\n",
       "    .dataframe tbody tr th:only-of-type {\n",
       "        vertical-align: middle;\n",
       "    }\n",
       "\n",
       "    .dataframe tbody tr th {\n",
       "        vertical-align: top;\n",
       "    }\n",
       "\n",
       "    .dataframe thead th {\n",
       "        text-align: right;\n",
       "    }\n",
       "</style>\n",
       "<table border=\"1\" class=\"dataframe\">\n",
       "  <thead>\n",
       "    <tr style=\"text-align: right;\">\n",
       "      <th></th>\n",
       "      <th>num_orders</th>\n",
       "      <th>dayofweek</th>\n",
       "      <th>hour</th>\n",
       "    </tr>\n",
       "    <tr>\n",
       "      <th>datetime</th>\n",
       "      <th></th>\n",
       "      <th></th>\n",
       "      <th></th>\n",
       "    </tr>\n",
       "  </thead>\n",
       "  <tbody>\n",
       "    <tr>\n",
       "      <th>2018-03-01 00:00:00</th>\n",
       "      <td>124</td>\n",
       "      <td>3</td>\n",
       "      <td>0</td>\n",
       "    </tr>\n",
       "    <tr>\n",
       "      <th>2018-03-01 01:00:00</th>\n",
       "      <td>85</td>\n",
       "      <td>3</td>\n",
       "      <td>1</td>\n",
       "    </tr>\n",
       "    <tr>\n",
       "      <th>2018-03-01 02:00:00</th>\n",
       "      <td>71</td>\n",
       "      <td>3</td>\n",
       "      <td>2</td>\n",
       "    </tr>\n",
       "    <tr>\n",
       "      <th>2018-03-01 03:00:00</th>\n",
       "      <td>66</td>\n",
       "      <td>3</td>\n",
       "      <td>3</td>\n",
       "    </tr>\n",
       "    <tr>\n",
       "      <th>2018-03-01 04:00:00</th>\n",
       "      <td>43</td>\n",
       "      <td>3</td>\n",
       "      <td>4</td>\n",
       "    </tr>\n",
       "    <tr>\n",
       "      <th>...</th>\n",
       "      <td>...</td>\n",
       "      <td>...</td>\n",
       "      <td>...</td>\n",
       "    </tr>\n",
       "    <tr>\n",
       "      <th>2018-08-31 19:00:00</th>\n",
       "      <td>136</td>\n",
       "      <td>4</td>\n",
       "      <td>19</td>\n",
       "    </tr>\n",
       "    <tr>\n",
       "      <th>2018-08-31 20:00:00</th>\n",
       "      <td>154</td>\n",
       "      <td>4</td>\n",
       "      <td>20</td>\n",
       "    </tr>\n",
       "    <tr>\n",
       "      <th>2018-08-31 21:00:00</th>\n",
       "      <td>159</td>\n",
       "      <td>4</td>\n",
       "      <td>21</td>\n",
       "    </tr>\n",
       "    <tr>\n",
       "      <th>2018-08-31 22:00:00</th>\n",
       "      <td>223</td>\n",
       "      <td>4</td>\n",
       "      <td>22</td>\n",
       "    </tr>\n",
       "    <tr>\n",
       "      <th>2018-08-31 23:00:00</th>\n",
       "      <td>205</td>\n",
       "      <td>4</td>\n",
       "      <td>23</td>\n",
       "    </tr>\n",
       "  </tbody>\n",
       "</table>\n",
       "<p>4416 rows × 3 columns</p>\n",
       "</div>"
      ],
      "text/plain": [
       "                     num_orders  dayofweek  hour\n",
       "datetime                                        \n",
       "2018-03-01 00:00:00         124          3     0\n",
       "2018-03-01 01:00:00          85          3     1\n",
       "2018-03-01 02:00:00          71          3     2\n",
       "2018-03-01 03:00:00          66          3     3\n",
       "2018-03-01 04:00:00          43          3     4\n",
       "...                         ...        ...   ...\n",
       "2018-08-31 19:00:00         136          4    19\n",
       "2018-08-31 20:00:00         154          4    20\n",
       "2018-08-31 21:00:00         159          4    21\n",
       "2018-08-31 22:00:00         223          4    22\n",
       "2018-08-31 23:00:00         205          4    23\n",
       "\n",
       "[4416 rows x 3 columns]"
      ]
     },
     "execution_count": 22,
     "metadata": {},
     "output_type": "execute_result"
    }
   ],
   "source": [
    "make_features(df)"
   ]
  },
  {
   "cell_type": "code",
   "execution_count": 23,
   "metadata": {},
   "outputs": [],
   "source": [
    "df['lag_24'] = df['num_orders'].shift(24)\n",
    "df['lag_48'] = df['num_orders'].shift(48)\n",
    "df['lag_72'] = df['num_orders'].shift(72)\n",
    "df['lag_96'] = df['num_orders'].shift(96)\n",
    "df['lag_120'] = df['num_orders'].shift(120)\n",
    "df['lag_144'] = df['num_orders'].shift(144)\n",
    "df['lag_168'] = df['num_orders'].shift(168)"
   ]
  },
  {
   "cell_type": "code",
   "execution_count": 24,
   "metadata": {},
   "outputs": [],
   "source": [
    "df['rolling_mean'] = df['num_orders'].shift().rolling(168).mean()"
   ]
  },
  {
   "cell_type": "code",
   "execution_count": 25,
   "metadata": {},
   "outputs": [],
   "source": [
    "df = df.dropna()"
   ]
  },
  {
   "cell_type": "markdown",
   "metadata": {},
   "source": [
    "**Вывод**\n",
    "\n",
    "Создали признаки: \n",
    "- день недели\n",
    "- час\n",
    "- скользящее среднее с окном 168(неделя)\n",
    "- смещения 7 признаков (кратно суткам)"
   ]
  },
  {
   "cell_type": "markdown",
   "metadata": {},
   "source": [
    "### Разделение данных на тренировочную, валидационную и тестовую выборки"
   ]
  },
  {
   "cell_type": "code",
   "execution_count": 26,
   "metadata": {},
   "outputs": [],
   "source": [
    "train, test = train_test_split(df, shuffle=False, test_size=0.1)\n"
   ]
  },
  {
   "cell_type": "code",
   "execution_count": 27,
   "metadata": {},
   "outputs": [
    {
     "name": "stdout",
     "output_type": "stream",
     "text": [
      "2018-03-08 00:00:00 2018-08-14 06:00:00 Тренировочная выборка\n",
      "2018-08-14 07:00:00 2018-08-31 23:00:00 Тестовая выборка\n"
     ]
    }
   ],
   "source": [
    "print(train.index.min(), train.index.max(), 'Тренировочная выборка')\n",
    "print(test.index.min(), test.index.max(), 'Тестовая выборка')"
   ]
  },
  {
   "cell_type": "code",
   "execution_count": 28,
   "metadata": {},
   "outputs": [
    {
     "name": "stdout",
     "output_type": "stream",
     "text": [
      "(3823, 11) Тренировочная выборка\n",
      "(425, 11) Тестовая выборка\n"
     ]
    }
   ],
   "source": [
    "print(train.shape, 'Тренировочная выборка')\n",
    "print(test.shape, 'Тестовая выборка')"
   ]
  },
  {
   "cell_type": "markdown",
   "metadata": {},
   "source": [
    "Удалим получившиеся при создании признаков пропуски."
   ]
  },
  {
   "cell_type": "code",
   "execution_count": 29,
   "metadata": {},
   "outputs": [],
   "source": [
    "features_train  = train.drop('num_orders', axis=1)\n",
    "target_train = train['num_orders']\n",
    "\n",
    "features_test = test.drop('num_orders', axis=1)\n",
    "target_test = test['num_orders']"
   ]
  },
  {
   "cell_type": "code",
   "execution_count": 30,
   "metadata": {},
   "outputs": [
    {
     "name": "stdout",
     "output_type": "stream",
     "text": [
      "(3823, 10) Тренировочная выборка\n",
      "(425, 10) Тестовая выборка\n"
     ]
    }
   ],
   "source": [
    "print(features_train.shape, 'Тренировочная выборка')\n",
    "print(features_test.shape, 'Тестовая выборка')"
   ]
  },
  {
   "cell_type": "markdown",
   "metadata": {},
   "source": [
    "**Вывод**\n",
    "\n",
    "Получили тренировочную и тестовую выборки."
   ]
  },
  {
   "cell_type": "markdown",
   "metadata": {},
   "source": [
    "### Модель линейной регрессии"
   ]
  },
  {
   "cell_type": "code",
   "execution_count": 31,
   "metadata": {},
   "outputs": [],
   "source": [
    "tscv = TimeSeriesSplit(n_splits=5)"
   ]
  },
  {
   "cell_type": "code",
   "execution_count": 32,
   "metadata": {},
   "outputs": [],
   "source": [
    "model = LinearRegression()"
   ]
  },
  {
   "cell_type": "code",
   "execution_count": 33,
   "metadata": {},
   "outputs": [],
   "source": [
    "scores_list = cross_val_score(estimator=model, \n",
    "                              X=features_train, \n",
    "                              y=target_train, \n",
    "                              cv=tscv,  \n",
    "                              scoring='neg_root_mean_squared_error')\n",
    "\n",
    "val_score = -1*scores_list.mean()"
   ]
  },
  {
   "cell_type": "code",
   "execution_count": 34,
   "metadata": {},
   "outputs": [
    {
     "name": "stdout",
     "output_type": "stream",
     "text": [
      " RMSE модели линейной регрессии по кросс-валидации равно 22.919374623152528\n"
     ]
    }
   ],
   "source": [
    "print(f' RMSE модели линейной регрессии по кросс-валидации равно {val_score}')"
   ]
  },
  {
   "cell_type": "markdown",
   "metadata": {},
   "source": [
    "**Вывод**\n",
    "\n",
    "Удалось получить для модели линейной регрессии RMSE по кросс-валидации 22,91. "
   ]
  },
  {
   "cell_type": "markdown",
   "metadata": {},
   "source": [
    "### Модель случайного леса"
   ]
  },
  {
   "cell_type": "code",
   "execution_count": 35,
   "metadata": {},
   "outputs": [
    {
     "data": {
      "text/plain": [
       "dict_keys(['bootstrap', 'ccp_alpha', 'criterion', 'max_depth', 'max_features', 'max_leaf_nodes', 'max_samples', 'min_impurity_decrease', 'min_impurity_split', 'min_samples_leaf', 'min_samples_split', 'min_weight_fraction_leaf', 'n_estimators', 'n_jobs', 'oob_score', 'random_state', 'verbose', 'warm_start'])"
      ]
     },
     "execution_count": 35,
     "metadata": {},
     "output_type": "execute_result"
    }
   ],
   "source": [
    "model_RandomForest = RandomForestRegressor(random_state=42) \n",
    "model_RandomForest.get_params().keys()"
   ]
  },
  {
   "cell_type": "code",
   "execution_count": 36,
   "metadata": {},
   "outputs": [
    {
     "name": "stdout",
     "output_type": "stream",
     "text": [
      "Оптимальные параметры:  {'max_depth': 6, 'n_estimators': 91}\n",
      "RMSE модели случайного по кросс-валидации равно 23.63961379251835\n"
     ]
    }
   ],
   "source": [
    "param_search = {\n",
    "    'n_estimators': range(1, 121,10),\n",
    "    'max_depth': range (1, 11)\n",
    "}\n",
    "\n",
    "gsearch_Forest = GridSearchCV(estimator= model_RandomForest,\n",
    "                              cv=tscv,\n",
    "                              param_grid=param_search,\n",
    "                              scoring = 'neg_root_mean_squared_error')\n",
    "gsearch_Forest.fit(features_train, target_train)\n",
    "print('Оптимальные параметры: ', gsearch_Forest.best_params_)\n",
    "print(f'RMSE модели случайного по кросс-валидации равно {-1*gsearch_Forest.best_score_}')"
   ]
  },
  {
   "cell_type": "markdown",
   "metadata": {},
   "source": [
    "**Вывод**\n",
    "\n",
    "Удалось получить для модели случайного леса RMSE на кросс-валидации 23.63 с гиперпараметрами  'max_depth'= 6 и 'n_estimators'= 91. "
   ]
  },
  {
   "cell_type": "markdown",
   "metadata": {},
   "source": [
    "###  Модель градиендный бустинг CatBoost"
   ]
  },
  {
   "cell_type": "code",
   "execution_count": 37,
   "metadata": {},
   "outputs": [],
   "source": [
    "catBoost = CatBoostRegressor(loss_function='RMSE', eval_metric = 'RMSE')\n"
   ]
  },
  {
   "cell_type": "code",
   "execution_count": 38,
   "metadata": {},
   "outputs": [],
   "source": [
    "param_search_1 = [{'depth' : range (3, 8),\n",
    "                'learning_rate' : [0.2],\n",
    "                'iterations' : range(1, 301, 30),\n",
    "                'verbose' : [False]\n",
    "               }]"
   ]
  },
  {
   "cell_type": "code",
   "execution_count": 39,
   "metadata": {},
   "outputs": [
    {
     "name": "stdout",
     "output_type": "stream",
     "text": [
      "Оптимальные параметры:  {'depth': 6, 'iterations': 31, 'learning_rate': 0.2, 'verbose': False}\n",
      "RMSE модели CatBoost по кросс-валидации равно 23.361063146186275\n"
     ]
    }
   ],
   "source": [
    "cat = GridSearchCV(estimator=catBoost,\n",
    "                  cv=tscv,\n",
    "                  param_grid=param_search_1,\n",
    "                  scoring = 'neg_root_mean_squared_error')\n",
    "cat.fit(features_train, target_train)\n",
    "print('Оптимальные параметры: ', cat.best_params_)\n",
    "print(f'RMSE модели CatBoost по кросс-валидации равно {-1*cat.best_score_}')\n",
    "\n"
   ]
  },
  {
   "cell_type": "markdown",
   "metadata": {},
   "source": [
    "**Вывод**\n",
    "\n",
    "Удалось получить для модели CatBoost RMSE на кросс-валидации 23.36 с гиперпараметрами 'depth'= 6, 'iterations'= 31."
   ]
  },
  {
   "cell_type": "markdown",
   "metadata": {},
   "source": [
    "###  Общий вывод"
   ]
  },
  {
   "cell_type": "markdown",
   "metadata": {},
   "source": [
    "В результате исследования было обучено 3 модели:\n",
    "- модель линейной регрессии: удалось получить RMSE 22.91\n",
    "- модель случайного леса: удалось получить RMSE 23.63 с гиперпараметрами 'max_depth'= 6 и 'n_estimators'= 91\n",
    "- модель CatBoost: удалось получить RMSE 23.36 с гиперпараметрами 'depth'= 6, 'iterations'= 31\n",
    "\n",
    "Лучший результат на кросс-валидации получила модель линейной регрессии, в дальнейшем протестируем её."
   ]
  },
  {
   "cell_type": "markdown",
   "metadata": {},
   "source": [
    "## Тестирование"
   ]
  },
  {
   "cell_type": "markdown",
   "metadata": {},
   "source": [
    "### Тестирование моделей"
   ]
  },
  {
   "cell_type": "markdown",
   "metadata": {},
   "source": [
    "Модель линейной регрессии"
   ]
  },
  {
   "cell_type": "code",
   "execution_count": 41,
   "metadata": {},
   "outputs": [],
   "source": [
    "model_Linear = model.fit(features_train, target_train) \n",
    "predictions_Linear = model_Linear.predict(features_test) \n",
    "result_Linear = sqrt(mean_squared_error(target_test,predictions_Linear))"
   ]
  },
  {
   "cell_type": "code",
   "execution_count": 42,
   "metadata": {},
   "outputs": [
    {
     "name": "stdout",
     "output_type": "stream",
     "text": [
      "RMSE на тестовой выборке для модели линейной регрессии: 35.02181459833481\n"
     ]
    }
   ],
   "source": [
    "print(\"RMSE на тестовой выборке для модели линейной регрессии:\", result_Linear)"
   ]
  },
  {
   "cell_type": "markdown",
   "metadata": {},
   "source": [
    "**Вывод**\n",
    "\n",
    "- RMSE на тестовой выборке для модели линейной регрессии: 35.02\n",
    "\n",
    "Модель линейной регрессии соответствует условию задачи."
   ]
  },
  {
   "cell_type": "markdown",
   "metadata": {},
   "source": [
    "### Тестирование модели на адекватность"
   ]
  },
  {
   "cell_type": "markdown",
   "metadata": {},
   "source": [
    "Предсказание медианой"
   ]
  },
  {
   "cell_type": "code",
   "execution_count": 43,
   "metadata": {},
   "outputs": [
    {
     "name": "stdout",
     "output_type": "stream",
     "text": [
      "RMSE: 87.03915278566916\n"
     ]
    }
   ],
   "source": [
    "pred_median = np.ones(target_test.shape) * target_train.median()\n",
    "print(\"RMSE:\", sqrt(mean_squared_error(target_test,pred_median)))"
   ]
  },
  {
   "cell_type": "markdown",
   "metadata": {},
   "source": [
    "Предсказание даными за прошлый час"
   ]
  },
  {
   "cell_type": "code",
   "execution_count": 44,
   "metadata": {},
   "outputs": [
    {
     "name": "stdout",
     "output_type": "stream",
     "text": [
      "RMSE: 58.819724582830204\n"
     ]
    }
   ],
   "source": [
    "pred_previous = target_test.shift() \n",
    "pred_previous.iloc[0] = target_train.iloc[-1]\n",
    "print(\"RMSE:\", sqrt(mean_squared_error(target_test,pred_previous)))"
   ]
  },
  {
   "cell_type": "markdown",
   "metadata": {},
   "source": [
    "**Вывод**\n",
    "\n",
    "Выбранная модель показала результат лучше чем медианный прогноз и прогноз данными за прошлый час."
   ]
  },
  {
   "cell_type": "markdown",
   "metadata": {},
   "source": [
    "## Общий вывод"
   ]
  },
  {
   "cell_type": "markdown",
   "metadata": {},
   "source": [
    "В рамках исследования, нам были предоставлены данные о количестве заказов такси из аэрапорта по временным интервалам 10 мин, за период с марта по август 2018 года.\n",
    "\n",
    "В процессе исследования были проведены:\n",
    "- Подготовка данных\n",
    "- Анализ данных\n",
    "- Трёх ML моделей\n",
    "- Тестирование моделей\n",
    "\n",
    "Были обучены модели:\n",
    "- Линейной регрессии\n",
    "- Случайного леса\n",
    "- Градиендногой бустинга CatBoost\n",
    "\n",
    "В качестве метрики качества по условиям работы применялась метрика RMSE.\n",
    "\n",
    "В процессе исследования было выяснено, что лучший результат показала модель линейной регрессии: RMSE на тестовой выборке: 35.02, что соответствовало требованиям: получить модель с метрикой RMSE меньше 48.   "
   ]
  }
 ],
 "metadata": {
  "ExecuteTimeLog": [
   {
    "duration": 393,
    "start_time": "2023-01-17T11:36:14.213Z"
   },
   {
    "duration": 137,
    "start_time": "2023-01-17T11:37:48.711Z"
   },
   {
    "duration": 14,
    "start_time": "2023-01-17T11:38:00.823Z"
   },
   {
    "duration": 5,
    "start_time": "2023-01-17T11:41:11.830Z"
   },
   {
    "duration": 7,
    "start_time": "2023-01-17T11:41:23.380Z"
   },
   {
    "duration": 6,
    "start_time": "2023-01-17T11:41:43.398Z"
   },
   {
    "duration": 6,
    "start_time": "2023-01-17T11:42:04.545Z"
   },
   {
    "duration": 753,
    "start_time": "2023-01-17T11:42:41.041Z"
   },
   {
    "duration": 819,
    "start_time": "2023-01-17T11:42:47.549Z"
   },
   {
    "duration": 11,
    "start_time": "2023-01-17T11:43:31.681Z"
   },
   {
    "duration": 8,
    "start_time": "2023-01-17T11:47:22.136Z"
   },
   {
    "duration": 4,
    "start_time": "2023-01-17T11:47:30.419Z"
   },
   {
    "duration": 12,
    "start_time": "2023-01-17T12:30:39.137Z"
   },
   {
    "duration": 608,
    "start_time": "2023-01-17T12:31:12.440Z"
   },
   {
    "duration": 13,
    "start_time": "2023-01-17T12:34:19.155Z"
   },
   {
    "duration": 3,
    "start_time": "2023-01-17T12:41:02.438Z"
   },
   {
    "duration": 5,
    "start_time": "2023-01-17T12:42:10.864Z"
   },
   {
    "duration": 245,
    "start_time": "2023-01-17T12:42:29.926Z"
   },
   {
    "duration": 503,
    "start_time": "2023-01-17T12:46:14.427Z"
   },
   {
    "duration": 2,
    "start_time": "2023-01-17T13:04:08.885Z"
   },
   {
    "duration": 45,
    "start_time": "2023-01-17T13:05:22.197Z"
   },
   {
    "duration": 3,
    "start_time": "2023-01-17T13:05:46.604Z"
   },
   {
    "duration": 3,
    "start_time": "2023-01-17T13:05:54.679Z"
   },
   {
    "duration": 10,
    "start_time": "2023-01-17T13:05:57.385Z"
   },
   {
    "duration": 12,
    "start_time": "2023-01-17T13:06:17.714Z"
   },
   {
    "duration": 12,
    "start_time": "2023-01-17T13:06:35.004Z"
   },
   {
    "duration": 26,
    "start_time": "2023-01-17T13:07:14.305Z"
   },
   {
    "duration": 28,
    "start_time": "2023-01-17T13:07:30.411Z"
   },
   {
    "duration": 4,
    "start_time": "2023-01-17T13:08:11.045Z"
   },
   {
    "duration": 11,
    "start_time": "2023-01-17T13:08:13.517Z"
   },
   {
    "duration": 1044,
    "start_time": "2023-01-17T13:08:29.939Z"
   },
   {
    "duration": 115,
    "start_time": "2023-01-17T13:08:33.039Z"
   },
   {
    "duration": 10,
    "start_time": "2023-01-17T13:08:34.530Z"
   },
   {
    "duration": 10,
    "start_time": "2023-01-17T13:08:36.961Z"
   },
   {
    "duration": 3,
    "start_time": "2023-01-17T13:08:39.018Z"
   },
   {
    "duration": 9,
    "start_time": "2023-01-17T13:08:42.731Z"
   },
   {
    "duration": 251,
    "start_time": "2023-01-17T13:08:43.302Z"
   },
   {
    "duration": 3,
    "start_time": "2023-01-17T13:08:49.756Z"
   },
   {
    "duration": 6,
    "start_time": "2023-01-17T13:08:53.876Z"
   },
   {
    "duration": 243,
    "start_time": "2023-01-17T13:08:54.707Z"
   },
   {
    "duration": 4,
    "start_time": "2023-01-17T13:08:57.437Z"
   },
   {
    "duration": 8,
    "start_time": "2023-01-17T13:08:59.343Z"
   },
   {
    "duration": 81,
    "start_time": "2023-01-17T13:19:18.494Z"
   },
   {
    "duration": 99,
    "start_time": "2023-01-17T13:19:23.997Z"
   },
   {
    "duration": 296,
    "start_time": "2023-01-17T13:19:59.746Z"
   },
   {
    "duration": 194,
    "start_time": "2023-01-17T13:20:15.973Z"
   },
   {
    "duration": 383,
    "start_time": "2023-01-17T13:20:49.486Z"
   },
   {
    "duration": 150,
    "start_time": "2023-01-17T13:21:09.506Z"
   },
   {
    "duration": 306,
    "start_time": "2023-01-17T13:21:13.845Z"
   },
   {
    "duration": 212,
    "start_time": "2023-01-17T13:21:25.349Z"
   },
   {
    "duration": 218,
    "start_time": "2023-01-17T13:22:46.815Z"
   },
   {
    "duration": 236,
    "start_time": "2023-01-17T13:22:55.288Z"
   },
   {
    "duration": 310,
    "start_time": "2023-01-17T13:23:05.118Z"
   },
   {
    "duration": 360,
    "start_time": "2023-01-17T13:23:43.298Z"
   },
   {
    "duration": 159,
    "start_time": "2023-01-17T13:24:26.489Z"
   },
   {
    "duration": 148,
    "start_time": "2023-01-17T13:24:41.766Z"
   },
   {
    "duration": 147,
    "start_time": "2023-01-17T13:24:57.862Z"
   },
   {
    "duration": 330,
    "start_time": "2023-01-17T13:25:28.137Z"
   },
   {
    "duration": 219,
    "start_time": "2023-01-17T13:26:08.788Z"
   },
   {
    "duration": 217,
    "start_time": "2023-01-17T13:26:17.981Z"
   },
   {
    "duration": 371,
    "start_time": "2023-01-17T13:26:38.951Z"
   },
   {
    "duration": 358,
    "start_time": "2023-01-17T13:26:50.772Z"
   },
   {
    "duration": 362,
    "start_time": "2023-01-17T13:27:08.667Z"
   },
   {
    "duration": 390,
    "start_time": "2023-01-17T13:27:17.396Z"
   },
   {
    "duration": 235,
    "start_time": "2023-01-17T13:27:47.968Z"
   },
   {
    "duration": 246,
    "start_time": "2023-01-17T13:27:56.713Z"
   },
   {
    "duration": 429,
    "start_time": "2023-01-17T13:29:09.207Z"
   },
   {
    "duration": 295,
    "start_time": "2023-01-17T13:29:19.604Z"
   },
   {
    "duration": 167,
    "start_time": "2023-01-17T13:39:29.871Z"
   },
   {
    "duration": 279,
    "start_time": "2023-01-17T13:39:43.729Z"
   },
   {
    "duration": 198,
    "start_time": "2023-01-17T13:40:07.052Z"
   },
   {
    "duration": 189,
    "start_time": "2023-01-17T13:40:16.408Z"
   },
   {
    "duration": 9,
    "start_time": "2023-01-17T13:54:32.072Z"
   },
   {
    "duration": 429,
    "start_time": "2023-01-17T13:56:32.368Z"
   },
   {
    "duration": 285,
    "start_time": "2023-01-17T13:57:04.409Z"
   },
   {
    "duration": 358,
    "start_time": "2023-01-17T13:57:39.689Z"
   },
   {
    "duration": 337,
    "start_time": "2023-01-17T13:58:59.446Z"
   },
   {
    "duration": 513,
    "start_time": "2023-01-17T14:13:11.220Z"
   },
   {
    "duration": 3,
    "start_time": "2023-01-17T14:15:34.716Z"
   },
   {
    "duration": 5,
    "start_time": "2023-01-17T14:16:27.588Z"
   },
   {
    "duration": 5,
    "start_time": "2023-01-17T14:17:07.306Z"
   },
   {
    "duration": 5,
    "start_time": "2023-01-17T14:31:05.038Z"
   },
   {
    "duration": 7,
    "start_time": "2023-01-17T14:32:06.120Z"
   },
   {
    "duration": 5,
    "start_time": "2023-01-17T14:33:01.867Z"
   },
   {
    "duration": 3,
    "start_time": "2023-01-17T14:45:28.011Z"
   },
   {
    "duration": 1393,
    "start_time": "2023-01-17T15:01:04.903Z"
   },
   {
    "duration": 53,
    "start_time": "2023-01-17T15:01:06.299Z"
   },
   {
    "duration": 12,
    "start_time": "2023-01-17T15:01:06.354Z"
   },
   {
    "duration": 16,
    "start_time": "2023-01-17T15:01:06.368Z"
   },
   {
    "duration": 4,
    "start_time": "2023-01-17T15:01:06.387Z"
   },
   {
    "duration": 17,
    "start_time": "2023-01-17T15:01:06.392Z"
   },
   {
    "duration": 270,
    "start_time": "2023-01-17T15:01:06.411Z"
   },
   {
    "duration": 3,
    "start_time": "2023-01-17T15:01:06.686Z"
   },
   {
    "duration": 9,
    "start_time": "2023-01-17T15:01:06.692Z"
   },
   {
    "duration": 264,
    "start_time": "2023-01-17T15:01:06.703Z"
   },
   {
    "duration": 4,
    "start_time": "2023-01-17T15:01:06.969Z"
   },
   {
    "duration": 23,
    "start_time": "2023-01-17T15:01:06.975Z"
   },
   {
    "duration": 318,
    "start_time": "2023-01-17T15:01:06.999Z"
   },
   {
    "duration": 411,
    "start_time": "2023-01-17T15:01:07.320Z"
   },
   {
    "duration": 422,
    "start_time": "2023-01-17T15:01:07.732Z"
   },
   {
    "duration": 194,
    "start_time": "2023-01-17T15:01:08.156Z"
   },
   {
    "duration": 379,
    "start_time": "2023-01-17T15:01:08.352Z"
   },
   {
    "duration": 6,
    "start_time": "2023-01-17T15:01:08.733Z"
   },
   {
    "duration": 11,
    "start_time": "2023-01-17T15:01:08.740Z"
   },
   {
    "duration": 8,
    "start_time": "2023-01-17T15:01:08.753Z"
   },
   {
    "duration": 1396,
    "start_time": "2023-01-17T15:24:27.360Z"
   },
   {
    "duration": 49,
    "start_time": "2023-01-17T15:24:28.758Z"
   },
   {
    "duration": 11,
    "start_time": "2023-01-17T15:24:28.808Z"
   },
   {
    "duration": 12,
    "start_time": "2023-01-17T15:24:28.821Z"
   },
   {
    "duration": 5,
    "start_time": "2023-01-17T15:24:28.835Z"
   },
   {
    "duration": 17,
    "start_time": "2023-01-17T15:24:28.841Z"
   },
   {
    "duration": 274,
    "start_time": "2023-01-17T15:24:28.860Z"
   },
   {
    "duration": 3,
    "start_time": "2023-01-17T15:24:29.136Z"
   },
   {
    "duration": 19,
    "start_time": "2023-01-17T15:24:29.141Z"
   },
   {
    "duration": 269,
    "start_time": "2023-01-17T15:24:29.163Z"
   },
   {
    "duration": 3,
    "start_time": "2023-01-17T15:24:29.434Z"
   },
   {
    "duration": 19,
    "start_time": "2023-01-17T15:24:29.439Z"
   },
   {
    "duration": 318,
    "start_time": "2023-01-17T15:24:29.459Z"
   },
   {
    "duration": 402,
    "start_time": "2023-01-17T15:24:29.779Z"
   },
   {
    "duration": 465,
    "start_time": "2023-01-17T15:24:30.183Z"
   },
   {
    "duration": 207,
    "start_time": "2023-01-17T15:24:30.649Z"
   },
   {
    "duration": 410,
    "start_time": "2023-01-17T15:24:30.858Z"
   },
   {
    "duration": 5,
    "start_time": "2023-01-17T15:32:47.106Z"
   },
   {
    "duration": 106,
    "start_time": "2023-01-17T15:32:53.681Z"
   },
   {
    "duration": 5,
    "start_time": "2023-01-17T15:33:30.097Z"
   },
   {
    "duration": 27,
    "start_time": "2023-01-17T15:33:32.318Z"
   },
   {
    "duration": 4,
    "start_time": "2023-01-17T15:35:12.003Z"
   },
   {
    "duration": 35,
    "start_time": "2023-01-17T15:35:13.027Z"
   },
   {
    "duration": 1392,
    "start_time": "2023-01-17T15:35:36.271Z"
   },
   {
    "duration": 49,
    "start_time": "2023-01-17T15:35:37.665Z"
   },
   {
    "duration": 13,
    "start_time": "2023-01-17T15:35:37.715Z"
   },
   {
    "duration": 11,
    "start_time": "2023-01-17T15:35:37.731Z"
   },
   {
    "duration": 6,
    "start_time": "2023-01-17T15:35:37.745Z"
   },
   {
    "duration": 10,
    "start_time": "2023-01-17T15:35:37.753Z"
   },
   {
    "duration": 264,
    "start_time": "2023-01-17T15:35:37.765Z"
   },
   {
    "duration": 3,
    "start_time": "2023-01-17T15:35:38.031Z"
   },
   {
    "duration": 9,
    "start_time": "2023-01-17T15:35:38.036Z"
   },
   {
    "duration": 267,
    "start_time": "2023-01-17T15:35:38.049Z"
   },
   {
    "duration": 4,
    "start_time": "2023-01-17T15:35:38.318Z"
   },
   {
    "duration": 10,
    "start_time": "2023-01-17T15:35:38.323Z"
   },
   {
    "duration": 311,
    "start_time": "2023-01-17T15:35:38.334Z"
   },
   {
    "duration": 386,
    "start_time": "2023-01-17T15:35:38.648Z"
   },
   {
    "duration": 420,
    "start_time": "2023-01-17T15:35:39.036Z"
   },
   {
    "duration": 195,
    "start_time": "2023-01-17T15:35:39.457Z"
   },
   {
    "duration": 370,
    "start_time": "2023-01-17T15:35:39.653Z"
   },
   {
    "duration": 4,
    "start_time": "2023-01-17T15:35:40.025Z"
   },
   {
    "duration": 28,
    "start_time": "2023-01-17T15:35:51.922Z"
   },
   {
    "duration": 9,
    "start_time": "2023-01-17T15:44:06.443Z"
   },
   {
    "duration": 6,
    "start_time": "2023-01-17T15:44:07.569Z"
   },
   {
    "duration": 5,
    "start_time": "2023-01-17T15:44:08.576Z"
   },
   {
    "duration": 6,
    "start_time": "2023-01-17T15:44:57.927Z"
   },
   {
    "duration": 8,
    "start_time": "2023-01-17T15:48:22.534Z"
   },
   {
    "duration": 4,
    "start_time": "2023-01-17T15:48:56.701Z"
   },
   {
    "duration": 5,
    "start_time": "2023-01-17T15:49:15.730Z"
   },
   {
    "duration": 1326,
    "start_time": "2023-01-17T15:49:31.143Z"
   },
   {
    "duration": 133,
    "start_time": "2023-01-17T15:49:32.471Z"
   },
   {
    "duration": 11,
    "start_time": "2023-01-17T15:49:32.606Z"
   },
   {
    "duration": 13,
    "start_time": "2023-01-17T15:49:32.618Z"
   },
   {
    "duration": 4,
    "start_time": "2023-01-17T15:49:32.632Z"
   },
   {
    "duration": 10,
    "start_time": "2023-01-17T15:49:32.638Z"
   },
   {
    "duration": 271,
    "start_time": "2023-01-17T15:49:32.650Z"
   },
   {
    "duration": 3,
    "start_time": "2023-01-17T15:49:32.923Z"
   },
   {
    "duration": 10,
    "start_time": "2023-01-17T15:49:32.928Z"
   },
   {
    "duration": 279,
    "start_time": "2023-01-17T15:49:32.943Z"
   },
   {
    "duration": 4,
    "start_time": "2023-01-17T15:49:33.224Z"
   },
   {
    "duration": 16,
    "start_time": "2023-01-17T15:49:33.230Z"
   },
   {
    "duration": 337,
    "start_time": "2023-01-17T15:49:33.248Z"
   },
   {
    "duration": 409,
    "start_time": "2023-01-17T15:49:33.588Z"
   },
   {
    "duration": 467,
    "start_time": "2023-01-17T15:49:33.999Z"
   },
   {
    "duration": 206,
    "start_time": "2023-01-17T15:49:34.468Z"
   },
   {
    "duration": 366,
    "start_time": "2023-01-17T15:49:34.675Z"
   },
   {
    "duration": 5,
    "start_time": "2023-01-17T15:49:35.042Z"
   },
   {
    "duration": 46,
    "start_time": "2023-01-17T15:49:35.049Z"
   },
   {
    "duration": 5,
    "start_time": "2023-01-17T15:49:35.097Z"
   },
   {
    "duration": 6,
    "start_time": "2023-01-17T15:49:35.103Z"
   },
   {
    "duration": 6,
    "start_time": "2023-01-17T15:49:35.110Z"
   },
   {
    "duration": 10,
    "start_time": "2023-01-17T15:49:35.117Z"
   },
   {
    "duration": 7,
    "start_time": "2023-01-17T15:49:35.128Z"
   },
   {
    "duration": 7,
    "start_time": "2023-01-17T15:49:35.137Z"
   },
   {
    "duration": 22,
    "start_time": "2023-01-17T15:56:05.472Z"
   },
   {
    "duration": 4,
    "start_time": "2023-01-17T15:56:38.502Z"
   },
   {
    "duration": 12,
    "start_time": "2023-01-17T16:01:00.219Z"
   },
   {
    "duration": 4,
    "start_time": "2023-01-17T16:01:01.802Z"
   },
   {
    "duration": 42,
    "start_time": "2023-01-17T16:09:08.806Z"
   },
   {
    "duration": 121,
    "start_time": "2023-01-17T16:12:16.795Z"
   },
   {
    "duration": 4,
    "start_time": "2023-01-17T16:12:43.181Z"
   },
   {
    "duration": 16,
    "start_time": "2023-01-17T16:12:54.652Z"
   },
   {
    "duration": 15,
    "start_time": "2023-01-17T16:13:03.752Z"
   },
   {
    "duration": 5,
    "start_time": "2023-01-17T16:16:06.307Z"
   },
   {
    "duration": 19,
    "start_time": "2023-01-17T16:16:14.689Z"
   },
   {
    "duration": 20,
    "start_time": "2023-01-17T16:18:42.402Z"
   },
   {
    "duration": 15,
    "start_time": "2023-01-17T16:19:34.574Z"
   },
   {
    "duration": 10,
    "start_time": "2023-01-17T16:19:42.254Z"
   },
   {
    "duration": 17,
    "start_time": "2023-01-17T16:22:05.579Z"
   },
   {
    "duration": 19,
    "start_time": "2023-01-17T16:22:10.051Z"
   },
   {
    "duration": 157585,
    "start_time": "2023-01-17T16:24:39.946Z"
   },
   {
    "duration": 8,
    "start_time": "2023-01-17T16:29:43.338Z"
   },
   {
    "duration": 3,
    "start_time": "2023-01-17T16:29:45.489Z"
   },
   {
    "duration": 18,
    "start_time": "2023-01-17T16:31:40.554Z"
   },
   {
    "duration": 52,
    "start_time": "2023-01-17T16:49:53.653Z"
   },
   {
    "duration": 4,
    "start_time": "2023-01-17T16:50:55.532Z"
   },
   {
    "duration": 2,
    "start_time": "2023-01-17T16:52:24.517Z"
   },
   {
    "duration": 2720,
    "start_time": "2023-01-17T16:53:24.325Z"
   },
   {
    "duration": 3,
    "start_time": "2023-01-17T16:55:10.994Z"
   },
   {
    "duration": 3,
    "start_time": "2023-01-17T17:12:25.238Z"
   },
   {
    "duration": 487,
    "start_time": "2023-01-17T17:12:28.182Z"
   },
   {
    "duration": 4,
    "start_time": "2023-01-17T17:12:41.207Z"
   },
   {
    "duration": 437,
    "start_time": "2023-01-17T17:12:42.013Z"
   },
   {
    "duration": 3,
    "start_time": "2023-01-17T17:13:55.776Z"
   },
   {
    "duration": 625,
    "start_time": "2023-01-17T17:13:56.616Z"
   },
   {
    "duration": 6,
    "start_time": "2023-01-17T17:17:12.745Z"
   },
   {
    "duration": 2,
    "start_time": "2023-01-17T17:17:41.165Z"
   },
   {
    "duration": 699,
    "start_time": "2023-01-17T17:17:41.938Z"
   },
   {
    "duration": 5,
    "start_time": "2023-01-17T17:17:48.265Z"
   },
   {
    "duration": 3,
    "start_time": "2023-01-17T17:17:57.304Z"
   },
   {
    "duration": 682,
    "start_time": "2023-01-17T17:17:58.023Z"
   },
   {
    "duration": 5,
    "start_time": "2023-01-17T17:18:01.318Z"
   },
   {
    "duration": 5,
    "start_time": "2023-01-17T17:33:57.047Z"
   },
   {
    "duration": 3,
    "start_time": "2023-01-17T17:34:34.589Z"
   },
   {
    "duration": 712,
    "start_time": "2023-01-17T17:34:35.243Z"
   },
   {
    "duration": 6,
    "start_time": "2023-01-17T17:34:38.836Z"
   },
   {
    "duration": 19,
    "start_time": "2023-01-17T17:36:00.347Z"
   },
   {
    "duration": 14,
    "start_time": "2023-01-17T17:37:15.588Z"
   },
   {
    "duration": 4,
    "start_time": "2023-01-17T17:37:33.565Z"
   },
   {
    "duration": 4,
    "start_time": "2023-01-17T17:40:50.373Z"
   },
   {
    "duration": 3,
    "start_time": "2023-01-17T17:40:56.306Z"
   },
   {
    "duration": 19,
    "start_time": "2023-01-17T17:41:18.700Z"
   },
   {
    "duration": 3,
    "start_time": "2023-01-17T17:42:21.547Z"
   },
   {
    "duration": 19,
    "start_time": "2023-01-17T17:42:39.694Z"
   },
   {
    "duration": 12,
    "start_time": "2023-01-17T17:43:13.315Z"
   },
   {
    "duration": 841,
    "start_time": "2023-01-17T17:44:13.526Z"
   },
   {
    "duration": 21,
    "start_time": "2023-01-17T17:44:23.296Z"
   },
   {
    "duration": 21,
    "start_time": "2023-01-17T17:44:27.237Z"
   },
   {
    "duration": 32,
    "start_time": "2023-01-17T17:45:40.146Z"
   },
   {
    "duration": 18496,
    "start_time": "2023-01-17T17:45:53.498Z"
   },
   {
    "duration": 0,
    "start_time": "2023-01-17T17:46:11.997Z"
   },
   {
    "duration": 1521,
    "start_time": "2023-01-17T17:46:17.813Z"
   },
   {
    "duration": 48,
    "start_time": "2023-01-17T17:46:19.336Z"
   },
   {
    "duration": 11,
    "start_time": "2023-01-17T17:46:19.386Z"
   },
   {
    "duration": 31,
    "start_time": "2023-01-17T17:46:19.399Z"
   },
   {
    "duration": 5,
    "start_time": "2023-01-17T17:46:19.432Z"
   },
   {
    "duration": 10,
    "start_time": "2023-01-17T17:46:19.439Z"
   },
   {
    "duration": 269,
    "start_time": "2023-01-17T17:46:19.451Z"
   },
   {
    "duration": 7,
    "start_time": "2023-01-17T17:46:19.731Z"
   },
   {
    "duration": 10,
    "start_time": "2023-01-17T17:46:19.740Z"
   },
   {
    "duration": 273,
    "start_time": "2023-01-17T17:46:19.752Z"
   },
   {
    "duration": 3,
    "start_time": "2023-01-17T17:46:20.027Z"
   },
   {
    "duration": 11,
    "start_time": "2023-01-17T17:46:20.032Z"
   },
   {
    "duration": 424,
    "start_time": "2023-01-17T17:46:20.045Z"
   },
   {
    "duration": 358,
    "start_time": "2023-01-17T17:46:20.473Z"
   },
   {
    "duration": 459,
    "start_time": "2023-01-17T17:46:20.833Z"
   },
   {
    "duration": 238,
    "start_time": "2023-01-17T17:46:21.294Z"
   },
   {
    "duration": 449,
    "start_time": "2023-01-17T17:46:21.533Z"
   },
   {
    "duration": 4,
    "start_time": "2023-01-17T17:46:21.984Z"
   },
   {
    "duration": 72,
    "start_time": "2023-01-17T17:46:22.000Z"
   },
   {
    "duration": 5,
    "start_time": "2023-01-17T17:46:22.074Z"
   },
   {
    "duration": 5,
    "start_time": "2023-01-17T17:46:22.081Z"
   },
   {
    "duration": 25,
    "start_time": "2023-01-17T17:46:22.087Z"
   },
   {
    "duration": 12,
    "start_time": "2023-01-17T17:46:22.115Z"
   },
   {
    "duration": 9,
    "start_time": "2023-01-17T17:46:22.129Z"
   },
   {
    "duration": 6,
    "start_time": "2023-01-17T17:46:22.140Z"
   },
   {
    "duration": 5,
    "start_time": "2023-01-17T17:46:22.148Z"
   },
   {
    "duration": 10,
    "start_time": "2023-01-17T17:46:22.155Z"
   },
   {
    "duration": 4,
    "start_time": "2023-01-17T17:46:22.167Z"
   },
   {
    "duration": 250196,
    "start_time": "2023-01-17T17:46:22.192Z"
   },
   {
    "duration": 23,
    "start_time": "2023-01-17T17:50:32.393Z"
   },
   {
    "duration": 5,
    "start_time": "2023-01-17T17:50:32.418Z"
   },
   {
    "duration": 1216,
    "start_time": "2023-01-17T17:50:32.425Z"
   },
   {
    "duration": 5,
    "start_time": "2023-01-17T17:50:33.643Z"
   },
   {
    "duration": 1325,
    "start_time": "2023-01-17T17:50:33.650Z"
   },
   {
    "duration": 34,
    "start_time": "2023-01-17T17:50:34.977Z"
   },
   {
    "duration": 11,
    "start_time": "2023-01-17T17:50:35.012Z"
   },
   {
    "duration": 12,
    "start_time": "2023-01-17T17:50:35.025Z"
   },
   {
    "duration": 1510,
    "start_time": "2023-01-17T17:54:20.416Z"
   },
   {
    "duration": 49,
    "start_time": "2023-01-17T17:54:21.928Z"
   },
   {
    "duration": 11,
    "start_time": "2023-01-17T17:54:21.978Z"
   },
   {
    "duration": 41,
    "start_time": "2023-01-17T17:54:21.990Z"
   },
   {
    "duration": 3,
    "start_time": "2023-01-17T17:54:22.034Z"
   },
   {
    "duration": 11,
    "start_time": "2023-01-17T17:54:22.039Z"
   },
   {
    "duration": 270,
    "start_time": "2023-01-17T17:54:22.052Z"
   },
   {
    "duration": 3,
    "start_time": "2023-01-17T17:54:22.324Z"
   },
   {
    "duration": 9,
    "start_time": "2023-01-17T17:54:22.329Z"
   },
   {
    "duration": 293,
    "start_time": "2023-01-17T17:54:22.339Z"
   },
   {
    "duration": 4,
    "start_time": "2023-01-17T17:54:22.634Z"
   },
   {
    "duration": 8,
    "start_time": "2023-01-17T17:54:22.640Z"
   },
   {
    "duration": 407,
    "start_time": "2023-01-17T17:54:22.650Z"
   },
   {
    "duration": 337,
    "start_time": "2023-01-17T17:54:23.060Z"
   },
   {
    "duration": 463,
    "start_time": "2023-01-17T17:54:23.398Z"
   },
   {
    "duration": 223,
    "start_time": "2023-01-17T17:54:23.863Z"
   },
   {
    "duration": 419,
    "start_time": "2023-01-17T17:54:24.088Z"
   },
   {
    "duration": 6,
    "start_time": "2023-01-17T17:54:24.510Z"
   },
   {
    "duration": 97,
    "start_time": "2023-01-17T17:54:24.518Z"
   },
   {
    "duration": 9,
    "start_time": "2023-01-17T17:54:24.617Z"
   },
   {
    "duration": 5,
    "start_time": "2023-01-17T17:54:24.628Z"
   },
   {
    "duration": 5,
    "start_time": "2023-01-17T17:54:24.635Z"
   },
   {
    "duration": 9,
    "start_time": "2023-01-17T17:54:24.642Z"
   },
   {
    "duration": 6,
    "start_time": "2023-01-17T17:54:24.652Z"
   },
   {
    "duration": 35,
    "start_time": "2023-01-17T17:54:24.660Z"
   },
   {
    "duration": 13,
    "start_time": "2023-01-17T17:54:24.698Z"
   },
   {
    "duration": 311,
    "start_time": "2023-01-17T17:54:24.715Z"
   },
   {
    "duration": 66,
    "start_time": "2023-01-17T17:54:25.029Z"
   },
   {
    "duration": 959226,
    "start_time": "2023-01-17T17:54:25.098Z"
   },
   {
    "duration": 19,
    "start_time": "2023-01-17T18:10:24.326Z"
   },
   {
    "duration": 4,
    "start_time": "2023-01-17T18:10:24.346Z"
   },
   {
    "duration": 1856,
    "start_time": "2023-01-17T18:10:24.352Z"
   },
   {
    "duration": 8,
    "start_time": "2023-01-17T18:10:26.214Z"
   },
   {
    "duration": 5659,
    "start_time": "2023-01-17T18:10:26.224Z"
   },
   {
    "duration": 31,
    "start_time": "2023-01-17T18:10:31.884Z"
   },
   {
    "duration": 373,
    "start_time": "2023-01-17T18:10:31.918Z"
   },
   {
    "duration": 3,
    "start_time": "2023-01-17T18:10:32.293Z"
   },
   {
    "duration": 15,
    "start_time": "2023-01-17T18:13:43.217Z"
   },
   {
    "duration": 6263,
    "start_time": "2023-01-17T18:15:19.814Z"
   },
   {
    "duration": 20,
    "start_time": "2023-01-17T18:15:30.014Z"
   },
   {
    "duration": 1485,
    "start_time": "2023-01-17T18:16:21.902Z"
   },
   {
    "duration": 71,
    "start_time": "2023-01-17T18:16:23.389Z"
   },
   {
    "duration": 10,
    "start_time": "2023-01-17T18:16:23.462Z"
   },
   {
    "duration": 10,
    "start_time": "2023-01-17T18:16:23.474Z"
   },
   {
    "duration": 18,
    "start_time": "2023-01-17T18:16:23.486Z"
   },
   {
    "duration": 22,
    "start_time": "2023-01-17T18:16:23.506Z"
   },
   {
    "duration": 271,
    "start_time": "2023-01-17T18:16:23.529Z"
   },
   {
    "duration": 8,
    "start_time": "2023-01-17T18:16:23.803Z"
   },
   {
    "duration": 8,
    "start_time": "2023-01-17T18:16:23.821Z"
   },
   {
    "duration": 262,
    "start_time": "2023-01-17T18:16:23.830Z"
   },
   {
    "duration": 4,
    "start_time": "2023-01-17T18:16:24.097Z"
   },
   {
    "duration": 11,
    "start_time": "2023-01-17T18:16:24.104Z"
   },
   {
    "duration": 394,
    "start_time": "2023-01-17T18:16:24.119Z"
   },
   {
    "duration": 327,
    "start_time": "2023-01-17T18:16:24.518Z"
   },
   {
    "duration": 481,
    "start_time": "2023-01-17T18:16:24.847Z"
   },
   {
    "duration": 216,
    "start_time": "2023-01-17T18:16:25.330Z"
   },
   {
    "duration": 413,
    "start_time": "2023-01-17T18:16:25.548Z"
   },
   {
    "duration": 5,
    "start_time": "2023-01-17T18:16:25.963Z"
   },
   {
    "duration": 108,
    "start_time": "2023-01-17T18:16:25.970Z"
   },
   {
    "duration": 15,
    "start_time": "2023-01-17T18:16:26.079Z"
   },
   {
    "duration": 17,
    "start_time": "2023-01-17T18:16:26.097Z"
   },
   {
    "duration": 22,
    "start_time": "2023-01-17T18:16:26.117Z"
   },
   {
    "duration": 13,
    "start_time": "2023-01-17T18:16:26.142Z"
   },
   {
    "duration": 8,
    "start_time": "2023-01-17T18:16:26.157Z"
   },
   {
    "duration": 8,
    "start_time": "2023-01-17T18:16:26.167Z"
   },
   {
    "duration": 8,
    "start_time": "2023-01-17T18:16:26.177Z"
   },
   {
    "duration": 105,
    "start_time": "2023-01-17T18:16:26.187Z"
   },
   {
    "duration": 127,
    "start_time": "2023-01-17T18:16:26.293Z"
   },
   {
    "duration": 1108241,
    "start_time": "2023-01-17T18:16:26.422Z"
   },
   {
    "duration": 30,
    "start_time": "2023-01-17T18:34:54.665Z"
   },
   {
    "duration": 15,
    "start_time": "2023-01-17T18:34:54.697Z"
   },
   {
    "duration": 2657,
    "start_time": "2023-01-17T18:34:54.714Z"
   },
   {
    "duration": 8,
    "start_time": "2023-01-17T18:34:57.373Z"
   },
   {
    "duration": 7560,
    "start_time": "2023-01-17T18:34:57.384Z"
   },
   {
    "duration": 22,
    "start_time": "2023-01-17T18:35:04.946Z"
   },
   {
    "duration": 242,
    "start_time": "2023-01-17T18:35:04.970Z"
   },
   {
    "duration": 72,
    "start_time": "2023-01-17T18:35:05.221Z"
   },
   {
    "duration": 17,
    "start_time": "2023-01-17T18:35:05.295Z"
   },
   {
    "duration": 6,
    "start_time": "2023-01-17T18:40:50.493Z"
   },
   {
    "duration": 5,
    "start_time": "2023-01-17T18:41:05.652Z"
   },
   {
    "duration": 21,
    "start_time": "2023-01-17T18:45:00.790Z"
   },
   {
    "duration": 1429,
    "start_time": "2023-01-17T18:53:49.257Z"
   },
   {
    "duration": 49,
    "start_time": "2023-01-17T18:53:50.688Z"
   },
   {
    "duration": 10,
    "start_time": "2023-01-17T18:53:50.739Z"
   },
   {
    "duration": 13,
    "start_time": "2023-01-17T18:53:50.752Z"
   },
   {
    "duration": 4,
    "start_time": "2023-01-17T18:53:50.766Z"
   },
   {
    "duration": 9,
    "start_time": "2023-01-17T18:53:50.772Z"
   },
   {
    "duration": 231,
    "start_time": "2023-01-17T18:53:50.782Z"
   },
   {
    "duration": 3,
    "start_time": "2023-01-17T18:53:51.015Z"
   },
   {
    "duration": 9,
    "start_time": "2023-01-17T18:53:51.020Z"
   },
   {
    "duration": 286,
    "start_time": "2023-01-17T18:53:51.032Z"
   },
   {
    "duration": 5,
    "start_time": "2023-01-17T18:53:51.320Z"
   },
   {
    "duration": 16,
    "start_time": "2023-01-17T18:53:51.327Z"
   },
   {
    "duration": 388,
    "start_time": "2023-01-17T18:53:51.345Z"
   },
   {
    "duration": 318,
    "start_time": "2023-01-17T18:53:51.735Z"
   },
   {
    "duration": 576,
    "start_time": "2023-01-17T18:53:52.055Z"
   },
   {
    "duration": 483,
    "start_time": "2023-01-17T18:53:52.633Z"
   },
   {
    "duration": 791,
    "start_time": "2023-01-17T18:53:53.118Z"
   },
   {
    "duration": 5,
    "start_time": "2023-01-17T18:53:53.911Z"
   },
   {
    "duration": 193,
    "start_time": "2023-01-17T18:53:53.917Z"
   },
   {
    "duration": 8,
    "start_time": "2023-01-17T18:53:54.112Z"
   },
   {
    "duration": 16,
    "start_time": "2023-01-17T18:53:54.122Z"
   },
   {
    "duration": 55,
    "start_time": "2023-01-17T18:53:54.140Z"
   },
   {
    "duration": 30,
    "start_time": "2023-01-17T18:53:54.197Z"
   },
   {
    "duration": 11,
    "start_time": "2023-01-17T18:53:54.229Z"
   },
   {
    "duration": 54,
    "start_time": "2023-01-17T18:53:54.241Z"
   },
   {
    "duration": 14,
    "start_time": "2023-01-17T18:53:54.297Z"
   },
   {
    "duration": 180,
    "start_time": "2023-01-17T18:53:54.312Z"
   },
   {
    "duration": 4,
    "start_time": "2023-01-17T18:53:54.496Z"
   },
   {
    "duration": 1032223,
    "start_time": "2023-01-17T18:53:54.501Z"
   },
   {
    "duration": 23,
    "start_time": "2023-01-17T19:11:06.726Z"
   },
   {
    "duration": 3,
    "start_time": "2023-01-17T19:11:06.750Z"
   },
   {
    "duration": 2184,
    "start_time": "2023-01-17T19:11:06.755Z"
   },
   {
    "duration": 8,
    "start_time": "2023-01-17T19:11:08.941Z"
   },
   {
    "duration": 158,
    "start_time": "2023-01-17T19:11:08.951Z"
   },
   {
    "duration": 4,
    "start_time": "2023-01-17T19:11:09.111Z"
   },
   {
    "duration": 90,
    "start_time": "2023-01-17T19:11:09.117Z"
   },
   {
    "duration": 8,
    "start_time": "2023-01-17T19:11:09.209Z"
   },
   {
    "duration": 1797,
    "start_time": "2023-01-18T12:16:04.691Z"
   },
   {
    "duration": 125,
    "start_time": "2023-01-18T12:16:13.445Z"
   },
   {
    "duration": 11,
    "start_time": "2023-01-18T12:16:16.197Z"
   },
   {
    "duration": 10,
    "start_time": "2023-01-18T12:16:19.456Z"
   },
   {
    "duration": 3,
    "start_time": "2023-01-18T12:16:22.599Z"
   },
   {
    "duration": 8,
    "start_time": "2023-01-18T12:16:26.146Z"
   },
   {
    "duration": 1514,
    "start_time": "2023-01-18T12:16:37.891Z"
   },
   {
    "duration": 45,
    "start_time": "2023-01-18T12:16:39.406Z"
   },
   {
    "duration": 9,
    "start_time": "2023-01-18T12:16:39.453Z"
   },
   {
    "duration": 12,
    "start_time": "2023-01-18T12:16:39.463Z"
   },
   {
    "duration": 3,
    "start_time": "2023-01-18T12:16:39.476Z"
   },
   {
    "duration": 10,
    "start_time": "2023-01-18T12:16:39.480Z"
   },
   {
    "duration": 239,
    "start_time": "2023-01-18T12:16:43.867Z"
   },
   {
    "duration": 3,
    "start_time": "2023-01-18T12:17:15.224Z"
   },
   {
    "duration": 6,
    "start_time": "2023-01-18T12:17:28.286Z"
   },
   {
    "duration": 10,
    "start_time": "2023-01-18T12:17:45.222Z"
   },
   {
    "duration": 1291,
    "start_time": "2023-01-18T12:20:42.388Z"
   },
   {
    "duration": 45,
    "start_time": "2023-01-18T12:20:43.681Z"
   },
   {
    "duration": 9,
    "start_time": "2023-01-18T12:20:43.728Z"
   },
   {
    "duration": 10,
    "start_time": "2023-01-18T12:20:43.739Z"
   },
   {
    "duration": 4,
    "start_time": "2023-01-18T12:20:43.751Z"
   },
   {
    "duration": 10,
    "start_time": "2023-01-18T12:20:43.757Z"
   },
   {
    "duration": 229,
    "start_time": "2023-01-18T12:20:43.769Z"
   },
   {
    "duration": 4,
    "start_time": "2023-01-18T12:21:19.737Z"
   },
   {
    "duration": 10,
    "start_time": "2023-01-18T12:21:27.278Z"
   },
   {
    "duration": 6,
    "start_time": "2023-01-18T12:21:46.571Z"
   },
   {
    "duration": 9,
    "start_time": "2023-01-18T12:21:53.362Z"
   },
   {
    "duration": 11,
    "start_time": "2023-01-18T12:22:06.304Z"
   },
   {
    "duration": 216,
    "start_time": "2023-01-18T12:27:20.365Z"
   },
   {
    "duration": 351,
    "start_time": "2023-01-18T12:29:31.949Z"
   },
   {
    "duration": 303,
    "start_time": "2023-01-18T12:29:44.464Z"
   },
   {
    "duration": 1359,
    "start_time": "2023-01-18T12:35:09.755Z"
   },
   {
    "duration": 48,
    "start_time": "2023-01-18T12:35:11.116Z"
   },
   {
    "duration": 9,
    "start_time": "2023-01-18T12:35:11.166Z"
   },
   {
    "duration": 15,
    "start_time": "2023-01-18T12:35:11.177Z"
   },
   {
    "duration": 16,
    "start_time": "2023-01-18T12:35:11.193Z"
   },
   {
    "duration": 17,
    "start_time": "2023-01-18T12:35:11.210Z"
   },
   {
    "duration": 281,
    "start_time": "2023-01-18T12:35:11.228Z"
   },
   {
    "duration": 4,
    "start_time": "2023-01-18T12:35:11.510Z"
   },
   {
    "duration": 9,
    "start_time": "2023-01-18T12:35:11.516Z"
   },
   {
    "duration": 309,
    "start_time": "2023-01-18T12:35:11.528Z"
   },
   {
    "duration": 5,
    "start_time": "2023-01-18T12:35:11.839Z"
   },
   {
    "duration": 17,
    "start_time": "2023-01-18T12:35:11.846Z"
   },
   {
    "duration": 316,
    "start_time": "2023-01-18T12:35:11.864Z"
   },
   {
    "duration": 278,
    "start_time": "2023-01-18T12:35:12.182Z"
   },
   {
    "duration": 411,
    "start_time": "2023-01-18T12:35:12.462Z"
   },
   {
    "duration": 171,
    "start_time": "2023-01-18T12:45:07.717Z"
   },
   {
    "duration": 61,
    "start_time": "2023-01-18T12:45:43.761Z"
   },
   {
    "duration": 7,
    "start_time": "2023-01-18T12:52:10.625Z"
   },
   {
    "duration": 9,
    "start_time": "2023-01-18T12:52:16.057Z"
   },
   {
    "duration": 5,
    "start_time": "2023-01-18T12:54:06.156Z"
   },
   {
    "duration": 243,
    "start_time": "2023-01-18T12:56:06.810Z"
   },
   {
    "duration": 8,
    "start_time": "2023-01-18T13:05:49.326Z"
   },
   {
    "duration": 12,
    "start_time": "2023-01-18T13:05:57.931Z"
   },
   {
    "duration": 1415,
    "start_time": "2023-01-18T13:06:49.692Z"
   },
   {
    "duration": 48,
    "start_time": "2023-01-18T13:06:51.109Z"
   },
   {
    "duration": 13,
    "start_time": "2023-01-18T13:06:51.160Z"
   },
   {
    "duration": 16,
    "start_time": "2023-01-18T13:06:51.176Z"
   },
   {
    "duration": 5,
    "start_time": "2023-01-18T13:06:51.194Z"
   },
   {
    "duration": 33,
    "start_time": "2023-01-18T13:06:51.201Z"
   },
   {
    "duration": 342,
    "start_time": "2023-01-18T13:06:51.235Z"
   },
   {
    "duration": 4,
    "start_time": "2023-01-18T13:06:51.581Z"
   },
   {
    "duration": 44,
    "start_time": "2023-01-18T13:06:51.587Z"
   },
   {
    "duration": 341,
    "start_time": "2023-01-18T13:06:51.633Z"
   },
   {
    "duration": 3,
    "start_time": "2023-01-18T13:06:51.976Z"
   },
   {
    "duration": 19,
    "start_time": "2023-01-18T13:06:51.982Z"
   },
   {
    "duration": 307,
    "start_time": "2023-01-18T13:06:52.003Z"
   },
   {
    "duration": 309,
    "start_time": "2023-01-18T13:06:52.311Z"
   },
   {
    "duration": 406,
    "start_time": "2023-01-18T13:06:52.621Z"
   },
   {
    "duration": 182,
    "start_time": "2023-01-18T13:06:53.029Z"
   },
   {
    "duration": 6,
    "start_time": "2023-01-18T13:06:53.213Z"
   },
   {
    "duration": 10,
    "start_time": "2023-01-18T13:06:53.220Z"
   },
   {
    "duration": 252,
    "start_time": "2023-01-18T13:06:53.232Z"
   },
   {
    "duration": 335,
    "start_time": "2023-01-18T13:11:30.656Z"
   },
   {
    "duration": 9,
    "start_time": "2023-01-18T13:19:43.937Z"
   },
   {
    "duration": 108,
    "start_time": "2023-01-18T13:32:19.082Z"
   },
   {
    "duration": 5,
    "start_time": "2023-01-18T13:32:24.229Z"
   },
   {
    "duration": 65,
    "start_time": "2023-01-18T13:32:28.235Z"
   },
   {
    "duration": 1459,
    "start_time": "2023-01-18T13:34:21.173Z"
   },
   {
    "duration": 60,
    "start_time": "2023-01-18T13:34:22.633Z"
   },
   {
    "duration": 9,
    "start_time": "2023-01-18T13:34:22.695Z"
   },
   {
    "duration": 15,
    "start_time": "2023-01-18T13:34:22.707Z"
   },
   {
    "duration": 4,
    "start_time": "2023-01-18T13:34:22.724Z"
   },
   {
    "duration": 36,
    "start_time": "2023-01-18T13:34:22.729Z"
   },
   {
    "duration": 350,
    "start_time": "2023-01-18T13:34:22.767Z"
   },
   {
    "duration": 4,
    "start_time": "2023-01-18T13:34:23.119Z"
   },
   {
    "duration": 12,
    "start_time": "2023-01-18T13:34:23.124Z"
   },
   {
    "duration": 332,
    "start_time": "2023-01-18T13:34:23.139Z"
   },
   {
    "duration": 4,
    "start_time": "2023-01-18T13:34:23.472Z"
   },
   {
    "duration": 33,
    "start_time": "2023-01-18T13:34:23.478Z"
   },
   {
    "duration": 372,
    "start_time": "2023-01-18T13:34:23.513Z"
   },
   {
    "duration": 342,
    "start_time": "2023-01-18T13:34:23.887Z"
   },
   {
    "duration": 501,
    "start_time": "2023-01-18T13:34:24.232Z"
   },
   {
    "duration": 228,
    "start_time": "2023-01-18T13:34:24.736Z"
   },
   {
    "duration": 6,
    "start_time": "2023-01-18T13:34:24.966Z"
   },
   {
    "duration": 13,
    "start_time": "2023-01-18T13:34:24.974Z"
   },
   {
    "duration": 294,
    "start_time": "2023-01-18T13:34:24.989Z"
   },
   {
    "duration": 399,
    "start_time": "2023-01-18T13:34:25.285Z"
   },
   {
    "duration": 3,
    "start_time": "2023-01-18T13:41:54.851Z"
   },
   {
    "duration": 3,
    "start_time": "2023-01-18T13:42:08.035Z"
   },
   {
    "duration": 3,
    "start_time": "2023-01-18T13:42:28.437Z"
   },
   {
    "duration": 12,
    "start_time": "2023-01-18T13:43:34.277Z"
   },
   {
    "duration": 9,
    "start_time": "2023-01-18T13:48:30.346Z"
   },
   {
    "duration": 111,
    "start_time": "2023-01-18T13:48:59.163Z"
   },
   {
    "duration": 5,
    "start_time": "2023-01-18T13:49:08.099Z"
   },
   {
    "duration": 6,
    "start_time": "2023-01-18T13:49:59.679Z"
   },
   {
    "duration": 7,
    "start_time": "2023-01-18T13:54:53.609Z"
   },
   {
    "duration": 5,
    "start_time": "2023-01-18T13:54:55.884Z"
   },
   {
    "duration": 4,
    "start_time": "2023-01-18T13:55:02.710Z"
   },
   {
    "duration": 8,
    "start_time": "2023-01-18T13:55:14.915Z"
   },
   {
    "duration": 3,
    "start_time": "2023-01-18T13:55:15.873Z"
   },
   {
    "duration": 2,
    "start_time": "2023-01-18T13:55:25.403Z"
   },
   {
    "duration": 11,
    "start_time": "2023-01-18T13:55:27.314Z"
   },
   {
    "duration": 3,
    "start_time": "2023-01-18T13:55:28.732Z"
   },
   {
    "duration": 4,
    "start_time": "2023-01-18T14:00:36.244Z"
   },
   {
    "duration": 2,
    "start_time": "2023-01-18T14:01:09.980Z"
   },
   {
    "duration": 1351,
    "start_time": "2023-01-18T19:04:22.428Z"
   },
   {
    "duration": 47,
    "start_time": "2023-01-18T19:04:23.781Z"
   },
   {
    "duration": 10,
    "start_time": "2023-01-18T19:04:23.829Z"
   },
   {
    "duration": 10,
    "start_time": "2023-01-18T19:04:23.841Z"
   },
   {
    "duration": 6,
    "start_time": "2023-01-18T19:04:23.852Z"
   },
   {
    "duration": 16,
    "start_time": "2023-01-18T19:04:23.860Z"
   },
   {
    "duration": 312,
    "start_time": "2023-01-18T19:04:23.877Z"
   },
   {
    "duration": 4,
    "start_time": "2023-01-18T19:04:24.190Z"
   },
   {
    "duration": 11,
    "start_time": "2023-01-18T19:04:24.196Z"
   },
   {
    "duration": 273,
    "start_time": "2023-01-18T19:04:24.210Z"
   },
   {
    "duration": 4,
    "start_time": "2023-01-18T19:04:24.485Z"
   },
   {
    "duration": 10,
    "start_time": "2023-01-18T19:04:24.490Z"
   },
   {
    "duration": 344,
    "start_time": "2023-01-18T19:04:24.501Z"
   },
   {
    "duration": 303,
    "start_time": "2023-01-18T19:04:24.847Z"
   },
   {
    "duration": 410,
    "start_time": "2023-01-18T19:04:25.152Z"
   },
   {
    "duration": 175,
    "start_time": "2023-01-18T19:04:25.563Z"
   },
   {
    "duration": 8,
    "start_time": "2023-01-18T19:04:25.739Z"
   },
   {
    "duration": 12,
    "start_time": "2023-01-18T19:04:25.749Z"
   },
   {
    "duration": 256,
    "start_time": "2023-01-18T19:04:25.763Z"
   },
   {
    "duration": 308,
    "start_time": "2023-01-18T19:04:26.021Z"
   },
   {
    "duration": 3,
    "start_time": "2023-01-18T19:04:26.330Z"
   },
   {
    "duration": 17,
    "start_time": "2023-01-18T19:04:26.334Z"
   },
   {
    "duration": 9,
    "start_time": "2023-01-18T19:04:26.353Z"
   },
   {
    "duration": 6,
    "start_time": "2023-01-18T19:04:26.363Z"
   },
   {
    "duration": 8,
    "start_time": "2023-01-18T19:04:26.371Z"
   },
   {
    "duration": 5,
    "start_time": "2023-01-18T19:04:26.381Z"
   },
   {
    "duration": 6,
    "start_time": "2023-01-18T19:04:26.388Z"
   },
   {
    "duration": 6,
    "start_time": "2023-01-18T19:04:26.397Z"
   },
   {
    "duration": 8,
    "start_time": "2023-01-18T19:04:26.404Z"
   },
   {
    "duration": 33,
    "start_time": "2023-01-18T19:04:26.414Z"
   },
   {
    "duration": 6,
    "start_time": "2023-01-18T19:04:26.448Z"
   },
   {
    "duration": 3,
    "start_time": "2023-01-18T19:04:33.108Z"
   },
   {
    "duration": 109,
    "start_time": "2023-01-18T19:05:09.985Z"
   },
   {
    "duration": 10,
    "start_time": "2023-01-18T19:05:20.685Z"
   },
   {
    "duration": 2,
    "start_time": "2023-01-18T19:11:08.416Z"
   },
   {
    "duration": 94,
    "start_time": "2023-01-18T19:11:09.970Z"
   },
   {
    "duration": 3,
    "start_time": "2023-01-18T19:11:51.184Z"
   },
   {
    "duration": 9,
    "start_time": "2023-01-18T19:12:29.901Z"
   },
   {
    "duration": 4,
    "start_time": "2023-01-18T19:12:42.347Z"
   },
   {
    "duration": 15,
    "start_time": "2023-01-18T19:13:38.899Z"
   },
   {
    "duration": 9,
    "start_time": "2023-01-18T20:14:18.565Z"
   },
   {
    "duration": 12,
    "start_time": "2023-01-18T20:14:25.209Z"
   },
   {
    "duration": 1325,
    "start_time": "2023-01-18T20:17:12.573Z"
   },
   {
    "duration": 46,
    "start_time": "2023-01-18T20:17:13.900Z"
   },
   {
    "duration": 9,
    "start_time": "2023-01-18T20:17:13.947Z"
   },
   {
    "duration": 9,
    "start_time": "2023-01-18T20:17:13.958Z"
   },
   {
    "duration": 3,
    "start_time": "2023-01-18T20:17:13.968Z"
   },
   {
    "duration": 12,
    "start_time": "2023-01-18T20:17:13.973Z"
   },
   {
    "duration": 299,
    "start_time": "2023-01-18T20:17:13.986Z"
   },
   {
    "duration": 3,
    "start_time": "2023-01-18T20:17:14.287Z"
   },
   {
    "duration": 10,
    "start_time": "2023-01-18T20:17:14.291Z"
   },
   {
    "duration": 271,
    "start_time": "2023-01-18T20:17:14.303Z"
   },
   {
    "duration": 4,
    "start_time": "2023-01-18T20:17:14.575Z"
   },
   {
    "duration": 16,
    "start_time": "2023-01-18T20:17:14.580Z"
   },
   {
    "duration": 349,
    "start_time": "2023-01-18T20:17:14.597Z"
   },
   {
    "duration": 303,
    "start_time": "2023-01-18T20:17:14.948Z"
   },
   {
    "duration": 414,
    "start_time": "2023-01-18T20:17:15.252Z"
   },
   {
    "duration": 177,
    "start_time": "2023-01-18T20:17:15.668Z"
   },
   {
    "duration": 7,
    "start_time": "2023-01-18T20:17:15.846Z"
   },
   {
    "duration": 59,
    "start_time": "2023-01-18T20:17:15.855Z"
   },
   {
    "duration": 276,
    "start_time": "2023-01-18T20:17:15.915Z"
   },
   {
    "duration": 298,
    "start_time": "2023-01-18T20:17:16.192Z"
   },
   {
    "duration": 2,
    "start_time": "2023-01-18T20:17:16.492Z"
   },
   {
    "duration": 16,
    "start_time": "2023-01-18T20:17:16.496Z"
   },
   {
    "duration": 9,
    "start_time": "2023-01-18T20:17:16.513Z"
   },
   {
    "duration": 23,
    "start_time": "2023-01-18T20:17:16.523Z"
   },
   {
    "duration": 8,
    "start_time": "2023-01-18T20:17:16.547Z"
   },
   {
    "duration": 4,
    "start_time": "2023-01-18T20:17:16.556Z"
   },
   {
    "duration": 7,
    "start_time": "2023-01-18T20:17:16.561Z"
   },
   {
    "duration": 3,
    "start_time": "2023-01-18T20:17:16.570Z"
   },
   {
    "duration": 10,
    "start_time": "2023-01-18T20:17:16.575Z"
   },
   {
    "duration": 13,
    "start_time": "2023-01-18T20:17:16.586Z"
   },
   {
    "duration": 6,
    "start_time": "2023-01-18T20:17:16.600Z"
   },
   {
    "duration": 3,
    "start_time": "2023-01-18T20:17:27.240Z"
   },
   {
    "duration": 2,
    "start_time": "2023-01-18T20:17:28.934Z"
   },
   {
    "duration": 2,
    "start_time": "2023-01-18T20:17:32.227Z"
   },
   {
    "duration": 109,
    "start_time": "2023-01-18T20:18:02.722Z"
   },
   {
    "duration": 112,
    "start_time": "2023-01-18T20:18:07.449Z"
   },
   {
    "duration": 3,
    "start_time": "2023-01-18T20:18:22.590Z"
   },
   {
    "duration": 4,
    "start_time": "2023-01-18T20:19:28.909Z"
   },
   {
    "duration": 16,
    "start_time": "2023-01-18T20:22:11.606Z"
   },
   {
    "duration": 55,
    "start_time": "2023-01-18T20:22:45.707Z"
   },
   {
    "duration": 4,
    "start_time": "2023-01-18T20:23:13.583Z"
   },
   {
    "duration": 54,
    "start_time": "2023-01-18T20:23:46.620Z"
   },
   {
    "duration": 77,
    "start_time": "2023-01-18T20:26:32.782Z"
   },
   {
    "duration": 4,
    "start_time": "2023-01-18T20:28:22.395Z"
   },
   {
    "duration": 31,
    "start_time": "2023-01-18T20:35:55.562Z"
   },
   {
    "duration": 4,
    "start_time": "2023-01-18T20:36:02.402Z"
   },
   {
    "duration": 3,
    "start_time": "2023-01-18T20:37:36.580Z"
   },
   {
    "duration": 3,
    "start_time": "2023-01-18T20:38:02.519Z"
   },
   {
    "duration": 2,
    "start_time": "2023-01-18T20:40:43.986Z"
   },
   {
    "duration": 4,
    "start_time": "2023-01-18T20:40:50.682Z"
   },
   {
    "duration": 4,
    "start_time": "2023-01-18T20:41:00.283Z"
   },
   {
    "duration": 5,
    "start_time": "2023-01-18T20:42:10.984Z"
   },
   {
    "duration": 134224,
    "start_time": "2023-01-18T20:51:36.180Z"
   },
   {
    "duration": 134625,
    "start_time": "2023-01-18T20:58:06.442Z"
   },
   {
    "duration": 2,
    "start_time": "2023-01-18T21:05:05.857Z"
   },
   {
    "duration": 4,
    "start_time": "2023-01-18T21:05:25.487Z"
   },
   {
    "duration": 3,
    "start_time": "2023-01-18T21:05:44.134Z"
   },
   {
    "duration": 3,
    "start_time": "2023-01-18T21:05:52.962Z"
   },
   {
    "duration": 3,
    "start_time": "2023-01-18T21:09:23.978Z"
   },
   {
    "duration": 67,
    "start_time": "2023-01-18T21:09:50.970Z"
   },
   {
    "duration": 3,
    "start_time": "2023-01-18T21:10:09.528Z"
   },
   {
    "duration": 56713,
    "start_time": "2023-01-18T21:12:26.335Z"
   },
   {
    "duration": 1296,
    "start_time": "2023-01-18T21:18:22.867Z"
   },
   {
    "duration": 44,
    "start_time": "2023-01-18T21:18:24.165Z"
   },
   {
    "duration": 10,
    "start_time": "2023-01-18T21:18:24.211Z"
   },
   {
    "duration": 22,
    "start_time": "2023-01-18T21:18:24.222Z"
   },
   {
    "duration": 6,
    "start_time": "2023-01-18T21:18:24.246Z"
   },
   {
    "duration": 17,
    "start_time": "2023-01-18T21:18:24.254Z"
   },
   {
    "duration": 256,
    "start_time": "2023-01-18T21:18:24.272Z"
   },
   {
    "duration": 4,
    "start_time": "2023-01-18T21:18:24.530Z"
   },
   {
    "duration": 8,
    "start_time": "2023-01-18T21:18:24.535Z"
   },
   {
    "duration": 303,
    "start_time": "2023-01-18T21:18:24.545Z"
   },
   {
    "duration": 4,
    "start_time": "2023-01-18T21:18:24.849Z"
   },
   {
    "duration": 17,
    "start_time": "2023-01-18T21:18:24.854Z"
   },
   {
    "duration": 301,
    "start_time": "2023-01-18T21:18:24.873Z"
   },
   {
    "duration": 278,
    "start_time": "2023-01-18T21:18:25.176Z"
   },
   {
    "duration": 408,
    "start_time": "2023-01-18T21:18:25.455Z"
   },
   {
    "duration": 169,
    "start_time": "2023-01-18T21:18:25.865Z"
   },
   {
    "duration": 6,
    "start_time": "2023-01-18T21:18:26.044Z"
   },
   {
    "duration": 12,
    "start_time": "2023-01-18T21:18:26.051Z"
   },
   {
    "duration": 238,
    "start_time": "2023-01-18T21:18:26.064Z"
   },
   {
    "duration": 299,
    "start_time": "2023-01-18T21:18:26.304Z"
   },
   {
    "duration": 3,
    "start_time": "2023-01-18T21:18:26.605Z"
   },
   {
    "duration": 27,
    "start_time": "2023-01-18T21:18:26.609Z"
   },
   {
    "duration": 9,
    "start_time": "2023-01-18T21:18:26.638Z"
   },
   {
    "duration": 15,
    "start_time": "2023-01-18T21:18:26.649Z"
   },
   {
    "duration": 18,
    "start_time": "2023-01-18T21:18:26.666Z"
   },
   {
    "duration": 4,
    "start_time": "2023-01-18T21:18:26.686Z"
   },
   {
    "duration": 26,
    "start_time": "2023-01-18T21:18:26.692Z"
   },
   {
    "duration": 7,
    "start_time": "2023-01-18T21:18:26.722Z"
   },
   {
    "duration": 6,
    "start_time": "2023-01-18T21:18:26.731Z"
   },
   {
    "duration": 9,
    "start_time": "2023-01-18T21:18:26.739Z"
   },
   {
    "duration": 6,
    "start_time": "2023-01-18T21:18:26.750Z"
   },
   {
    "duration": 111,
    "start_time": "2023-01-18T21:18:26.758Z"
   },
   {
    "duration": 0,
    "start_time": "2023-01-18T21:18:26.871Z"
   },
   {
    "duration": 0,
    "start_time": "2023-01-18T21:18:26.872Z"
   },
   {
    "duration": 0,
    "start_time": "2023-01-18T21:18:26.873Z"
   },
   {
    "duration": 0,
    "start_time": "2023-01-18T21:18:26.875Z"
   },
   {
    "duration": 0,
    "start_time": "2023-01-18T21:18:26.876Z"
   },
   {
    "duration": 0,
    "start_time": "2023-01-18T21:18:26.878Z"
   },
   {
    "duration": 0,
    "start_time": "2023-01-18T21:18:26.879Z"
   },
   {
    "duration": 9,
    "start_time": "2023-01-18T21:19:09.102Z"
   },
   {
    "duration": 1347,
    "start_time": "2023-01-18T21:19:46.840Z"
   },
   {
    "duration": 45,
    "start_time": "2023-01-18T21:19:48.188Z"
   },
   {
    "duration": 9,
    "start_time": "2023-01-18T21:19:48.234Z"
   },
   {
    "duration": 10,
    "start_time": "2023-01-18T21:19:48.245Z"
   },
   {
    "duration": 3,
    "start_time": "2023-01-18T21:19:48.256Z"
   },
   {
    "duration": 10,
    "start_time": "2023-01-18T21:19:48.260Z"
   },
   {
    "duration": 294,
    "start_time": "2023-01-18T21:19:48.271Z"
   },
   {
    "duration": 3,
    "start_time": "2023-01-18T21:19:48.567Z"
   },
   {
    "duration": 9,
    "start_time": "2023-01-18T21:19:48.572Z"
   },
   {
    "duration": 266,
    "start_time": "2023-01-18T21:19:48.583Z"
   },
   {
    "duration": 3,
    "start_time": "2023-01-18T21:19:48.850Z"
   },
   {
    "duration": 9,
    "start_time": "2023-01-18T21:19:48.855Z"
   },
   {
    "duration": 305,
    "start_time": "2023-01-18T21:19:48.865Z"
   },
   {
    "duration": 272,
    "start_time": "2023-01-18T21:19:49.172Z"
   },
   {
    "duration": 382,
    "start_time": "2023-01-18T21:19:49.445Z"
   },
   {
    "duration": 164,
    "start_time": "2023-01-18T21:19:49.829Z"
   },
   {
    "duration": 6,
    "start_time": "2023-01-18T21:19:49.994Z"
   },
   {
    "duration": 17,
    "start_time": "2023-01-18T21:19:50.001Z"
   },
   {
    "duration": 243,
    "start_time": "2023-01-18T21:19:50.020Z"
   },
   {
    "duration": 299,
    "start_time": "2023-01-18T21:19:50.264Z"
   },
   {
    "duration": 3,
    "start_time": "2023-01-18T21:19:50.565Z"
   },
   {
    "duration": 16,
    "start_time": "2023-01-18T21:19:50.570Z"
   },
   {
    "duration": 9,
    "start_time": "2023-01-18T21:19:50.587Z"
   },
   {
    "duration": 12,
    "start_time": "2023-01-18T21:19:50.598Z"
   },
   {
    "duration": 10,
    "start_time": "2023-01-18T21:19:50.611Z"
   },
   {
    "duration": 24,
    "start_time": "2023-01-18T21:19:50.622Z"
   },
   {
    "duration": 8,
    "start_time": "2023-01-18T21:19:50.647Z"
   },
   {
    "duration": 10,
    "start_time": "2023-01-18T21:19:50.659Z"
   },
   {
    "duration": 7,
    "start_time": "2023-01-18T21:19:50.671Z"
   },
   {
    "duration": 8,
    "start_time": "2023-01-18T21:19:50.679Z"
   },
   {
    "duration": 5,
    "start_time": "2023-01-18T21:19:50.688Z"
   },
   {
    "duration": 5,
    "start_time": "2023-01-18T21:19:50.694Z"
   },
   {
    "duration": 51,
    "start_time": "2023-01-18T21:19:50.700Z"
   },
   {
    "duration": 3,
    "start_time": "2023-01-18T21:19:50.752Z"
   },
   {
    "duration": 13,
    "start_time": "2023-01-18T21:19:50.757Z"
   },
   {
    "duration": 135517,
    "start_time": "2023-01-18T21:19:50.772Z"
   },
   {
    "duration": 3,
    "start_time": "2023-01-18T21:22:06.290Z"
   },
   {
    "duration": 115,
    "start_time": "2023-01-18T21:22:06.294Z"
   },
   {
    "duration": 160741,
    "start_time": "2023-01-18T21:22:06.410Z"
   },
   {
    "duration": 2,
    "start_time": "2023-01-18T21:25:51.184Z"
   },
   {
    "duration": 147736,
    "start_time": "2023-01-18T21:25:52.731Z"
   },
   {
    "duration": 8,
    "start_time": "2023-01-18T21:34:15.126Z"
   },
   {
    "duration": 3,
    "start_time": "2023-01-18T21:34:17.356Z"
   },
   {
    "duration": 2,
    "start_time": "2023-01-18T21:36:12.277Z"
   },
   {
    "duration": 5,
    "start_time": "2023-01-18T21:36:35.247Z"
   },
   {
    "duration": 5,
    "start_time": "2023-01-18T21:41:44.181Z"
   },
   {
    "duration": 1361,
    "start_time": "2023-01-18T21:42:35.631Z"
   },
   {
    "duration": 46,
    "start_time": "2023-01-18T21:42:36.994Z"
   },
   {
    "duration": 9,
    "start_time": "2023-01-18T21:42:37.042Z"
   },
   {
    "duration": 29,
    "start_time": "2023-01-18T21:42:37.052Z"
   },
   {
    "duration": 3,
    "start_time": "2023-01-18T21:42:37.082Z"
   },
   {
    "duration": 8,
    "start_time": "2023-01-18T21:42:37.087Z"
   },
   {
    "duration": 280,
    "start_time": "2023-01-18T21:42:37.096Z"
   },
   {
    "duration": 4,
    "start_time": "2023-01-18T21:42:37.378Z"
   },
   {
    "duration": 16,
    "start_time": "2023-01-18T21:42:37.383Z"
   },
   {
    "duration": 276,
    "start_time": "2023-01-18T21:42:37.401Z"
   },
   {
    "duration": 3,
    "start_time": "2023-01-18T21:42:37.679Z"
   },
   {
    "duration": 10,
    "start_time": "2023-01-18T21:42:37.683Z"
   },
   {
    "duration": 294,
    "start_time": "2023-01-18T21:42:37.695Z"
   },
   {
    "duration": 282,
    "start_time": "2023-01-18T21:42:37.990Z"
   },
   {
    "duration": 478,
    "start_time": "2023-01-18T21:42:38.273Z"
   },
   {
    "duration": 276,
    "start_time": "2023-01-18T21:42:38.752Z"
   },
   {
    "duration": 6,
    "start_time": "2023-01-18T21:42:39.029Z"
   },
   {
    "duration": 5,
    "start_time": "2023-01-18T21:42:39.043Z"
   },
   {
    "duration": 243,
    "start_time": "2023-01-18T21:42:39.050Z"
   },
   {
    "duration": 301,
    "start_time": "2023-01-18T21:42:39.294Z"
   },
   {
    "duration": 3,
    "start_time": "2023-01-18T21:42:39.596Z"
   },
   {
    "duration": 19,
    "start_time": "2023-01-18T21:42:39.601Z"
   },
   {
    "duration": 8,
    "start_time": "2023-01-18T21:42:39.622Z"
   },
   {
    "duration": 4,
    "start_time": "2023-01-18T21:42:39.643Z"
   },
   {
    "duration": 7,
    "start_time": "2023-01-18T21:42:39.648Z"
   },
   {
    "duration": 4,
    "start_time": "2023-01-18T21:42:39.656Z"
   },
   {
    "duration": 6,
    "start_time": "2023-01-18T21:42:39.661Z"
   },
   {
    "duration": 3,
    "start_time": "2023-01-18T21:42:39.670Z"
   },
   {
    "duration": 7,
    "start_time": "2023-01-18T21:42:39.674Z"
   },
   {
    "duration": 5,
    "start_time": "2023-01-18T21:42:39.682Z"
   },
   {
    "duration": 12,
    "start_time": "2023-01-18T21:42:39.688Z"
   },
   {
    "duration": 7,
    "start_time": "2023-01-18T21:42:39.702Z"
   },
   {
    "duration": 48,
    "start_time": "2023-01-18T21:42:39.710Z"
   },
   {
    "duration": 4,
    "start_time": "2023-01-18T21:42:39.759Z"
   },
   {
    "duration": 8,
    "start_time": "2023-01-18T21:42:39.764Z"
   },
   {
    "duration": 134088,
    "start_time": "2023-01-18T21:42:39.843Z"
   },
   {
    "duration": 3,
    "start_time": "2023-01-18T21:44:53.933Z"
   },
   {
    "duration": 15,
    "start_time": "2023-01-18T21:44:53.944Z"
   },
   {
    "duration": 146807,
    "start_time": "2023-01-18T21:44:53.961Z"
   },
   {
    "duration": 3,
    "start_time": "2023-01-18T21:47:20.769Z"
   },
   {
    "duration": 25,
    "start_time": "2023-01-18T21:47:20.773Z"
   },
   {
    "duration": 46,
    "start_time": "2023-01-18T21:47:20.799Z"
   },
   {
    "duration": 22,
    "start_time": "2023-01-18T21:47:20.847Z"
   },
   {
    "duration": 5,
    "start_time": "2023-01-18T21:47:20.871Z"
   }
  ],
  "kernelspec": {
   "display_name": "Python 3 (ipykernel)",
   "language": "python",
   "name": "python3"
  },
  "language_info": {
   "codemirror_mode": {
    "name": "ipython",
    "version": 3
   },
   "file_extension": ".py",
   "mimetype": "text/x-python",
   "name": "python",
   "nbconvert_exporter": "python",
   "pygments_lexer": "ipython3",
   "version": "3.9.12"
  },
  "toc": {
   "base_numbering": 1,
   "nav_menu": {},
   "number_sections": true,
   "sideBar": true,
   "skip_h1_title": true,
   "title_cell": "Содержание",
   "title_sidebar": "Contents",
   "toc_cell": true,
   "toc_position": {
    "height": "calc(100% - 180px)",
    "left": "10px",
    "top": "150px",
    "width": "282.825px"
   },
   "toc_section_display": true,
   "toc_window_display": true
  }
 },
 "nbformat": 4,
 "nbformat_minor": 2
}
