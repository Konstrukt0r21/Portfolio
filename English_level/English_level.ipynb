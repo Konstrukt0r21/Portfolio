{
 "cells": [
  {
   "cell_type": "markdown",
   "id": "67d97267",
   "metadata": {},
   "source": [
    "# Определение уровня английского языка"
   ]
  },
  {
   "cell_type": "markdown",
   "id": "5f166e17",
   "metadata": {},
   "source": [
    "## Знакомство с данными"
   ]
  },
  {
   "cell_type": "markdown",
   "id": "0de7f4d7",
   "metadata": {},
   "source": [
    "Загружаем библиотеки"
   ]
  },
  {
   "cell_type": "code",
   "execution_count": 1,
   "id": "2e51a80d",
   "metadata": {},
   "outputs": [],
   "source": [
    "import pandas as pd\n",
    "import xlrd\n",
    "from os.path import join\n",
    "from pathlib import Path\n",
    "import os\n",
    "import magic\n",
    "import pysrt \n",
    "import chardet\n",
    "import re\n",
    "import seaborn as sns\n",
    "import matplotlib.pyplot as plt\n",
    "import nltk\n",
    "from nltk.corpus import wordnet\n",
    "from nltk.stem.wordnet import WordNetLemmatizer\n",
    "from sklearn.model_selection import train_test_split\n",
    "from sklearn.pipeline import Pipeline\n",
    "from catboost import CatBoostClassifier\n",
    "from sklearn.linear_model import LogisticRegression\n",
    "from sklearn.metrics import accuracy_score\n",
    "from nltk.corpus import stopwords\n",
    "from tqdm import notebook\n",
    "from nltk.corpus import stopwords as nltk_stopwords\n",
    "from sklearn.feature_extraction.text import TfidfVectorizer, TfidfTransformer\n",
    "from sklearn.model_selection import GridSearchCV\n",
    "from sklearn.model_selection import cross_val_score\n",
    "from sklearn.metrics import f1_score"
   ]
  },
  {
   "cell_type": "code",
   "execution_count": 2,
   "id": "97bc2eac",
   "metadata": {},
   "outputs": [],
   "source": [
    "from sklearn.feature_extraction.text import TfidfVectorizer\n",
    "from sklearn.naive_bayes import MultinomialNB\n",
    "from sklearn.linear_model import SGDClassifier\n",
    "from sklearn.pipeline import Pipeline\n",
    "from sklearn.model_selection import GridSearchCV\n",
    "from sklearn.base import BaseEstimator"
   ]
  },
  {
   "cell_type": "markdown",
   "id": "aea22e0b",
   "metadata": {},
   "source": [
    "Теперь загрузим субтитры"
   ]
  },
  {
   "cell_type": "code",
   "execution_count": 3,
   "id": "c5f7c30d",
   "metadata": {},
   "outputs": [],
   "source": [
    "PATH = \"C:\\\\Users\\\\79099\\\\Desktop\\\\Workshop\\\\English_level\\\\Subtitles_all\""
   ]
  },
  {
   "cell_type": "code",
   "execution_count": 4,
   "id": "d0dd3291",
   "metadata": {},
   "outputs": [],
   "source": [
    "##sub_folders = ['A2','B1','B2','C1','Subtitles']"
   ]
  },
  {
   "cell_type": "markdown",
   "id": "d58e663a",
   "metadata": {},
   "source": [
    "Получим список всех адресов субтитров"
   ]
  },
  {
   "cell_type": "code",
   "execution_count": 5,
   "id": "4f55f751",
   "metadata": {},
   "outputs": [],
   "source": [
    "all_files = []\n",
    "for root, dirs, files in os.walk(PATH):\n",
    "    #print(root, dirs, files)\n",
    "    if len(dirs) == 0:\n",
    "        for f in files:\n",
    "            if f[-4:] == '.srt':\n",
    "                all_files.append(os.path.join(root,f))"
   ]
  },
  {
   "cell_type": "code",
   "execution_count": 6,
   "id": "4e27cfd2",
   "metadata": {},
   "outputs": [
    {
     "data": {
      "text/plain": [
       "['C:\\\\Users\\\\79099\\\\Desktop\\\\Workshop\\\\English_level\\\\Subtitles_all\\\\A2\\\\The Walking Dead-S01E01-Days Gone Bye.English.srt',\n",
       " 'C:\\\\Users\\\\79099\\\\Desktop\\\\Workshop\\\\English_level\\\\Subtitles_all\\\\A2\\\\The Walking Dead-S01E02-Guts.English.srt',\n",
       " 'C:\\\\Users\\\\79099\\\\Desktop\\\\Workshop\\\\English_level\\\\Subtitles_all\\\\A2\\\\The Walking Dead-S01E03-Tell It To The Frogs.English.srt',\n",
       " 'C:\\\\Users\\\\79099\\\\Desktop\\\\Workshop\\\\English_level\\\\Subtitles_all\\\\A2\\\\The Walking Dead-S01E04-Vatos.English.srt',\n",
       " 'C:\\\\Users\\\\79099\\\\Desktop\\\\Workshop\\\\English_level\\\\Subtitles_all\\\\A2\\\\The Walking Dead-S01E05-Wildfire.English.srt',\n",
       " 'C:\\\\Users\\\\79099\\\\Desktop\\\\Workshop\\\\English_level\\\\Subtitles_all\\\\A2\\\\The Walking Dead-S01E06-TS-19.English.srt',\n",
       " 'C:\\\\Users\\\\79099\\\\Desktop\\\\Workshop\\\\English_level\\\\Subtitles_all\\\\B1\\\\AmericanBeauty1999.BRRip.srt',\n",
       " 'C:\\\\Users\\\\79099\\\\Desktop\\\\Workshop\\\\English_level\\\\Subtitles_all\\\\B1\\\\Angelas.Christmas.Wish.2020.srt',\n",
       " 'C:\\\\Users\\\\79099\\\\Desktop\\\\Workshop\\\\English_level\\\\Subtitles_all\\\\B1\\\\Indiana Jones And The Last Crusade DVDRip Xvid -IZON-.srt',\n",
       " 'C:\\\\Users\\\\79099\\\\Desktop\\\\Workshop\\\\English_level\\\\Subtitles_all\\\\B1\\\\mechanic-resurrection_.srt',\n",
       " 'C:\\\\Users\\\\79099\\\\Desktop\\\\Workshop\\\\English_level\\\\Subtitles_all\\\\B1\\\\Men.In.Black.1997.720p.Bluray.x264-SEPTiC.srt',\n",
       " 'C:\\\\Users\\\\79099\\\\Desktop\\\\Workshop\\\\English_level\\\\Subtitles_all\\\\B1\\\\Rat.Race.2001.1080p.WEB-DL.DD5.1.H264-FGT.srt',\n",
       " 'C:\\\\Users\\\\79099\\\\Desktop\\\\Workshop\\\\English_level\\\\Subtitles_all\\\\B1\\\\Seven.Worlds.One.Planet.S01E01.2160p.BluRay.Remux.eng.srt',\n",
       " 'C:\\\\Users\\\\79099\\\\Desktop\\\\Workshop\\\\English_level\\\\Subtitles_all\\\\B1\\\\Seven.Worlds.One.Planet.S01E02.2160p.BluRay.Remux.eng.srt',\n",
       " 'C:\\\\Users\\\\79099\\\\Desktop\\\\Workshop\\\\English_level\\\\Subtitles_all\\\\B1\\\\Seven.Worlds.One.Planet.S01E03.2160p.BluRay.Remux.eng.srt',\n",
       " 'C:\\\\Users\\\\79099\\\\Desktop\\\\Workshop\\\\English_level\\\\Subtitles_all\\\\B1\\\\Seven.Worlds.One.Planet.S01E04.2160p.BluRay.Remux.eng.srt',\n",
       " 'C:\\\\Users\\\\79099\\\\Desktop\\\\Workshop\\\\English_level\\\\Subtitles_all\\\\B1\\\\Seven.Worlds.One.Planet.S01E05.2160p.BluRay.Remux.eng.srt',\n",
       " 'C:\\\\Users\\\\79099\\\\Desktop\\\\Workshop\\\\English_level\\\\Subtitles_all\\\\B1\\\\Seven.Worlds.One.Planet.S01E06.2160p.BluRay.Remux.eng.srt',\n",
       " 'C:\\\\Users\\\\79099\\\\Desktop\\\\Workshop\\\\English_level\\\\Subtitles_all\\\\B1\\\\Seven.Worlds.One.Planet.S01E07.2160p.BluRay.Remux.eng.srt',\n",
       " 'C:\\\\Users\\\\79099\\\\Desktop\\\\Workshop\\\\English_level\\\\Subtitles_all\\\\B1\\\\SlingShot (2014) WEB.eng.srt',\n",
       " 'C:\\\\Users\\\\79099\\\\Desktop\\\\Workshop\\\\English_level\\\\Subtitles_all\\\\B1\\\\Spirit.Stallion.of.the.Cimarron.EN.srt',\n",
       " 'C:\\\\Users\\\\79099\\\\Desktop\\\\Workshop\\\\English_level\\\\Subtitles_all\\\\B1\\\\Terminator_2_Judgment_Day_1991_roNy.srt',\n",
       " \"C:\\\\Users\\\\79099\\\\Desktop\\\\Workshop\\\\English_level\\\\Subtitles_all\\\\B1\\\\Valentine's.Day.2010.Subtitles.YIFY.srt\",\n",
       " \"C:\\\\Users\\\\79099\\\\Desktop\\\\Workshop\\\\English_level\\\\Subtitles_all\\\\B2\\\\Angela's.Christmas.2018.WEBRip.Netflix.srt\",\n",
       " 'C:\\\\Users\\\\79099\\\\Desktop\\\\Workshop\\\\English_level\\\\Subtitles_all\\\\B2\\\\Collateral.Beauty.2016.720p.BRRip.x264.AAC-ETRG.srt',\n",
       " 'C:\\\\Users\\\\79099\\\\Desktop\\\\Workshop\\\\English_level\\\\Subtitles_all\\\\B2\\\\Crazy4TV.com - Suits.S06E01.720p.BluRay.x265.HEVC.Crazy4ad.srt',\n",
       " 'C:\\\\Users\\\\79099\\\\Desktop\\\\Workshop\\\\English_level\\\\Subtitles_all\\\\B2\\\\Crazy4TV.com - Suits.S06E02.720p.BluRay.x265.HEVC.Crazy4ad.srt',\n",
       " 'C:\\\\Users\\\\79099\\\\Desktop\\\\Workshop\\\\English_level\\\\Subtitles_all\\\\B2\\\\Crazy4TV.com - Suits.S06E03.720p.BluRay.x265.HEVC.Crazy4ad.srt',\n",
       " 'C:\\\\Users\\\\79099\\\\Desktop\\\\Workshop\\\\English_level\\\\Subtitles_all\\\\B2\\\\Crazy4TV.com - Suits.S06E04.720p.BluRay.x265.HEVC.Crazy4ad.srt',\n",
       " 'C:\\\\Users\\\\79099\\\\Desktop\\\\Workshop\\\\English_level\\\\Subtitles_all\\\\B2\\\\Crazy4TV.com - Suits.S06E05.720p.BluRay.x265.HEVC.Crazy4ad.srt',\n",
       " 'C:\\\\Users\\\\79099\\\\Desktop\\\\Workshop\\\\English_level\\\\Subtitles_all\\\\B2\\\\Crazy4TV.com - Suits.S06E06.720p.BluRay.x265.HEVC.Crazy4ad.srt',\n",
       " 'C:\\\\Users\\\\79099\\\\Desktop\\\\Workshop\\\\English_level\\\\Subtitles_all\\\\B2\\\\Crazy4TV.com - Suits.S06E07.720p.BluRay.x265.HEVC.Crazy4ad.srt',\n",
       " 'C:\\\\Users\\\\79099\\\\Desktop\\\\Workshop\\\\English_level\\\\Subtitles_all\\\\B2\\\\Crazy4TV.com - Suits.S06E08.720p.BluRay.x265.HEVC.Crazy4ad.srt',\n",
       " 'C:\\\\Users\\\\79099\\\\Desktop\\\\Workshop\\\\English_level\\\\Subtitles_all\\\\B2\\\\Crazy4TV.com - Suits.S06E09.720p.BluRay.x265.HEVC.Crazy4ad.srt',\n",
       " 'C:\\\\Users\\\\79099\\\\Desktop\\\\Workshop\\\\English_level\\\\Subtitles_all\\\\B2\\\\Crazy4TV.com - Suits.S06E10.720p.BluRay.x265.HEVC.Crazy4ad.srt',\n",
       " 'C:\\\\Users\\\\79099\\\\Desktop\\\\Workshop\\\\English_level\\\\Subtitles_all\\\\B2\\\\Crazy4TV.com - Suits.S06E11.720p.BluRay.x265.HEVC.Crazy4ad.srt',\n",
       " 'C:\\\\Users\\\\79099\\\\Desktop\\\\Workshop\\\\English_level\\\\Subtitles_all\\\\B2\\\\Crazy4TV.com - Suits.S06E12.720p.BluRay.x265.HEVC.Crazy4ad.srt',\n",
       " 'C:\\\\Users\\\\79099\\\\Desktop\\\\Workshop\\\\English_level\\\\Subtitles_all\\\\B2\\\\Crazy4TV.com - Suits.S06E13.720p.BluRay.x265.HEVC.Crazy4ad.srt',\n",
       " 'C:\\\\Users\\\\79099\\\\Desktop\\\\Workshop\\\\English_level\\\\Subtitles_all\\\\B2\\\\Crazy4TV.com - Suits.S06E14.720p.BluRay.x265.HEVC.Crazy4ad.srt',\n",
       " 'C:\\\\Users\\\\79099\\\\Desktop\\\\Workshop\\\\English_level\\\\Subtitles_all\\\\B2\\\\Crazy4TV.com - Suits.S06E15.720p.BluRay.x265.HEVC.Crazy4ad.srt',\n",
       " 'C:\\\\Users\\\\79099\\\\Desktop\\\\Workshop\\\\English_level\\\\Subtitles_all\\\\B2\\\\Crazy4TV.com - Suits.S06E16.720p.BluRay.x265.HEVC.Crazy4ad.srt',\n",
       " 'C:\\\\Users\\\\79099\\\\Desktop\\\\Workshop\\\\English_level\\\\Subtitles_all\\\\B2\\\\Crown, The S01E01 - Wolferton Splash.en.SDH.srt',\n",
       " 'C:\\\\Users\\\\79099\\\\Desktop\\\\Workshop\\\\English_level\\\\Subtitles_all\\\\B2\\\\Crown, The S01E01 - Wolferton Splash.en.srt',\n",
       " 'C:\\\\Users\\\\79099\\\\Desktop\\\\Workshop\\\\English_level\\\\Subtitles_all\\\\B2\\\\Crown, The S01E02 - Hyde Park Corner.en.SDH.srt',\n",
       " 'C:\\\\Users\\\\79099\\\\Desktop\\\\Workshop\\\\English_level\\\\Subtitles_all\\\\B2\\\\Crown, The S01E02 - Hyde Park Corner.en.srt',\n",
       " 'C:\\\\Users\\\\79099\\\\Desktop\\\\Workshop\\\\English_level\\\\Subtitles_all\\\\B2\\\\Crown, The S01E03 - Windsor.en.FORCED.srt',\n",
       " 'C:\\\\Users\\\\79099\\\\Desktop\\\\Workshop\\\\English_level\\\\Subtitles_all\\\\B2\\\\Crown, The S01E03 - Windsor.en.SDH.srt',\n",
       " 'C:\\\\Users\\\\79099\\\\Desktop\\\\Workshop\\\\English_level\\\\Subtitles_all\\\\B2\\\\Crown, The S01E03 - Windsor.en.srt',\n",
       " 'C:\\\\Users\\\\79099\\\\Desktop\\\\Workshop\\\\English_level\\\\Subtitles_all\\\\B2\\\\Crown, The S01E04 - Act of God.en.SDH.srt',\n",
       " 'C:\\\\Users\\\\79099\\\\Desktop\\\\Workshop\\\\English_level\\\\Subtitles_all\\\\B2\\\\Crown, The S01E04 - Act of God.en.srt',\n",
       " 'C:\\\\Users\\\\79099\\\\Desktop\\\\Workshop\\\\English_level\\\\Subtitles_all\\\\B2\\\\Crown, The S01E05 - Smoke and Mirrors.en.FORCED.srt',\n",
       " 'C:\\\\Users\\\\79099\\\\Desktop\\\\Workshop\\\\English_level\\\\Subtitles_all\\\\B2\\\\Crown, The S01E05 - Smoke and Mirrors.en.SDH.srt',\n",
       " 'C:\\\\Users\\\\79099\\\\Desktop\\\\Workshop\\\\English_level\\\\Subtitles_all\\\\B2\\\\Crown, The S01E05 - Smoke and Mirrors.en.srt',\n",
       " 'C:\\\\Users\\\\79099\\\\Desktop\\\\Workshop\\\\English_level\\\\Subtitles_all\\\\B2\\\\Crown, The S01E06 - Gelignite.en.SDH.srt',\n",
       " 'C:\\\\Users\\\\79099\\\\Desktop\\\\Workshop\\\\English_level\\\\Subtitles_all\\\\B2\\\\Crown, The S01E06 - Gelignite.en.srt',\n",
       " 'C:\\\\Users\\\\79099\\\\Desktop\\\\Workshop\\\\English_level\\\\Subtitles_all\\\\B2\\\\Crown, The S01E07 - Scientia Potentia Est.en.FORCED.srt',\n",
       " 'C:\\\\Users\\\\79099\\\\Desktop\\\\Workshop\\\\English_level\\\\Subtitles_all\\\\B2\\\\Crown, The S01E07 - Scientia Potentia Est.en.SDH.srt',\n",
       " 'C:\\\\Users\\\\79099\\\\Desktop\\\\Workshop\\\\English_level\\\\Subtitles_all\\\\B2\\\\Crown, The S01E07 - Scientia Potentia Est.en.srt',\n",
       " 'C:\\\\Users\\\\79099\\\\Desktop\\\\Workshop\\\\English_level\\\\Subtitles_all\\\\B2\\\\Crown, The S01E08 - Pride & Joy.en.SDH.srt',\n",
       " 'C:\\\\Users\\\\79099\\\\Desktop\\\\Workshop\\\\English_level\\\\Subtitles_all\\\\B2\\\\Crown, The S01E08 - Pride & Joy.en.srt',\n",
       " 'C:\\\\Users\\\\79099\\\\Desktop\\\\Workshop\\\\English_level\\\\Subtitles_all\\\\B2\\\\Crown, The S01E09 - Assassins.en.SDH.srt',\n",
       " 'C:\\\\Users\\\\79099\\\\Desktop\\\\Workshop\\\\English_level\\\\Subtitles_all\\\\B2\\\\Crown, The S01E09 - Assassins.en.srt',\n",
       " 'C:\\\\Users\\\\79099\\\\Desktop\\\\Workshop\\\\English_level\\\\Subtitles_all\\\\B2\\\\Crown, The S01E10 - Gloriana.en.FORCED.srt',\n",
       " 'C:\\\\Users\\\\79099\\\\Desktop\\\\Workshop\\\\English_level\\\\Subtitles_all\\\\B2\\\\Crown, The S01E10 - Gloriana.en.SDH.srt',\n",
       " 'C:\\\\Users\\\\79099\\\\Desktop\\\\Workshop\\\\English_level\\\\Subtitles_all\\\\B2\\\\Crown, The S01E10 - Gloriana.en.srt',\n",
       " 'C:\\\\Users\\\\79099\\\\Desktop\\\\Workshop\\\\English_level\\\\Subtitles_all\\\\B2\\\\Frozen.2013.WEB-DL.DSNP.srt',\n",
       " 'C:\\\\Users\\\\79099\\\\Desktop\\\\Workshop\\\\English_level\\\\Subtitles_all\\\\B2\\\\Ghosts.of.Girlfriends.Past.2009.BluRay.720p.x264.YIFY.srt',\n",
       " 'C:\\\\Users\\\\79099\\\\Desktop\\\\Workshop\\\\English_level\\\\Subtitles_all\\\\B2\\\\icarus.2017.web.x264-strife.srt',\n",
       " 'C:\\\\Users\\\\79099\\\\Desktop\\\\Workshop\\\\English_level\\\\Subtitles_all\\\\B2\\\\Roman Holiday 1953 1080p WEBRip HEVC AAC.srt',\n",
       " \"C:\\\\Users\\\\79099\\\\Desktop\\\\Workshop\\\\English_level\\\\Subtitles_all\\\\B2\\\\Secrets Of Her Majesty's Secret Service eng.srt\",\n",
       " 'C:\\\\Users\\\\79099\\\\Desktop\\\\Workshop\\\\English_level\\\\Subtitles_all\\\\B2\\\\SOMM.Into.the.Bottle.2015.1080p.BluRay.x265-RARBG.en.srt.srt',\n",
       " 'C:\\\\Users\\\\79099\\\\Desktop\\\\Workshop\\\\English_level\\\\Subtitles_all\\\\B2\\\\Suits.Episode 1- Denial.srt',\n",
       " 'C:\\\\Users\\\\79099\\\\Desktop\\\\Workshop\\\\English_level\\\\Subtitles_all\\\\B2\\\\Suits.Episode 10- Faith.srt',\n",
       " 'C:\\\\Users\\\\79099\\\\Desktop\\\\Workshop\\\\English_level\\\\Subtitles_all\\\\B2\\\\Suits.Episode 11- Blowback.srt',\n",
       " 'C:\\\\Users\\\\79099\\\\Desktop\\\\Workshop\\\\English_level\\\\Subtitles_all\\\\B2\\\\Suits.Episode 12- Live to Fight.srt',\n",
       " \"C:\\\\Users\\\\79099\\\\Desktop\\\\Workshop\\\\English_level\\\\Subtitles_all\\\\B2\\\\Suits.Episode 13- God's Green Earth.srt\",\n",
       " 'C:\\\\Users\\\\79099\\\\Desktop\\\\Workshop\\\\English_level\\\\Subtitles_all\\\\B2\\\\Suits.Episode 14- Self Defense.srt',\n",
       " 'C:\\\\Users\\\\79099\\\\Desktop\\\\Workshop\\\\English_level\\\\Subtitles_all\\\\B2\\\\Suits.Episode 15- Tick Tock.srt',\n",
       " 'C:\\\\Users\\\\79099\\\\Desktop\\\\Workshop\\\\English_level\\\\Subtitles_all\\\\B2\\\\Suits.Episode 16- 25th Hour.srt',\n",
       " 'C:\\\\Users\\\\79099\\\\Desktop\\\\Workshop\\\\English_level\\\\Subtitles_all\\\\B2\\\\Suits.Episode 2- Compensation.srt',\n",
       " 'C:\\\\Users\\\\79099\\\\Desktop\\\\Workshop\\\\English_level\\\\Subtitles_all\\\\B2\\\\Suits.Episode 3- No Refills.srt',\n",
       " 'C:\\\\Users\\\\79099\\\\Desktop\\\\Workshop\\\\English_level\\\\Subtitles_all\\\\B2\\\\Suits.Episode 4- No Puedo Hacerlo.srt',\n",
       " 'C:\\\\Users\\\\79099\\\\Desktop\\\\Workshop\\\\English_level\\\\Subtitles_all\\\\B2\\\\Suits.Episode 5- Toe to Toe.srt',\n",
       " 'C:\\\\Users\\\\79099\\\\Desktop\\\\Workshop\\\\English_level\\\\Subtitles_all\\\\B2\\\\Suits.Episode 6- Privilege.srt',\n",
       " 'C:\\\\Users\\\\79099\\\\Desktop\\\\Workshop\\\\English_level\\\\Subtitles_all\\\\B2\\\\Suits.Episode 7- Hitting Home.srt',\n",
       " 'C:\\\\Users\\\\79099\\\\Desktop\\\\Workshop\\\\English_level\\\\Subtitles_all\\\\B2\\\\Suits.Episode 8- Mea Culpa.srt',\n",
       " 'C:\\\\Users\\\\79099\\\\Desktop\\\\Workshop\\\\English_level\\\\Subtitles_all\\\\B2\\\\Suits.Episode 9- Uninvited Guests.srt',\n",
       " 'C:\\\\Users\\\\79099\\\\Desktop\\\\Workshop\\\\English_level\\\\Subtitles_all\\\\B2\\\\Suits.S01E01.1080p.BluRay.AAC5.1.x265-DTG.02.EN.srt',\n",
       " 'C:\\\\Users\\\\79099\\\\Desktop\\\\Workshop\\\\English_level\\\\Subtitles_all\\\\B2\\\\Suits.S01E02.1080p.BluRay.AAC5.1.x265-DTG.02.EN.srt',\n",
       " 'C:\\\\Users\\\\79099\\\\Desktop\\\\Workshop\\\\English_level\\\\Subtitles_all\\\\B2\\\\Suits.S01E03.1080p.BluRay.AAC5.1.x265-DTG.02.EN.srt',\n",
       " 'C:\\\\Users\\\\79099\\\\Desktop\\\\Workshop\\\\English_level\\\\Subtitles_all\\\\B2\\\\Suits.S01E04.1080p.BluRay.AAC5.1.x265-DTG.02.EN.srt',\n",
       " 'C:\\\\Users\\\\79099\\\\Desktop\\\\Workshop\\\\English_level\\\\Subtitles_all\\\\B2\\\\Suits.S01E05.1080p.BluRay.AAC5.1.x265-DTG.02.EN.srt',\n",
       " 'C:\\\\Users\\\\79099\\\\Desktop\\\\Workshop\\\\English_level\\\\Subtitles_all\\\\B2\\\\Suits.S01E06.1080p.BluRay.AAC5.1.x265-DTG.02.EN.srt',\n",
       " 'C:\\\\Users\\\\79099\\\\Desktop\\\\Workshop\\\\English_level\\\\Subtitles_all\\\\B2\\\\Suits.S01E07.1080p.BluRay.AAC5.1.x265-DTG.02.EN.srt',\n",
       " 'C:\\\\Users\\\\79099\\\\Desktop\\\\Workshop\\\\English_level\\\\Subtitles_all\\\\B2\\\\Suits.S01E08.1080p.BluRay.AAC5.1.x265-DTG.02.EN.srt',\n",
       " 'C:\\\\Users\\\\79099\\\\Desktop\\\\Workshop\\\\English_level\\\\Subtitles_all\\\\B2\\\\Suits.S01E09.1080p.BluRay.AAC5.1.x265-DTG.02.EN.srt',\n",
       " 'C:\\\\Users\\\\79099\\\\Desktop\\\\Workshop\\\\English_level\\\\Subtitles_all\\\\B2\\\\Suits.S01E10.1080p.BluRay.AAC5.1.x265-DTG.02.EN.srt',\n",
       " 'C:\\\\Users\\\\79099\\\\Desktop\\\\Workshop\\\\English_level\\\\Subtitles_all\\\\B2\\\\Suits.S01E11.1080p.BluRay.AAC5.1.x265-DTG.02.EN.srt',\n",
       " 'C:\\\\Users\\\\79099\\\\Desktop\\\\Workshop\\\\English_level\\\\Subtitles_all\\\\B2\\\\Suits.S01E12.1080p.BluRay.AAC5.1.x265-DTG.02.EN.srt',\n",
       " 'C:\\\\Users\\\\79099\\\\Desktop\\\\Workshop\\\\English_level\\\\Subtitles_all\\\\B2\\\\Suits.S02E01.HDTV.x264-AVS.srt',\n",
       " 'C:\\\\Users\\\\79099\\\\Desktop\\\\Workshop\\\\English_level\\\\Subtitles_all\\\\B2\\\\Suits.S02E02.HDTV.x264-ASAP.srt',\n",
       " 'C:\\\\Users\\\\79099\\\\Desktop\\\\Workshop\\\\English_level\\\\Subtitles_all\\\\B2\\\\Suits.S02E03.HDTV.x264-ASAP.srt',\n",
       " 'C:\\\\Users\\\\79099\\\\Desktop\\\\Workshop\\\\English_level\\\\Subtitles_all\\\\B2\\\\Suits.S02E04.HDTV.x264-ASAP.srt',\n",
       " 'C:\\\\Users\\\\79099\\\\Desktop\\\\Workshop\\\\English_level\\\\Subtitles_all\\\\B2\\\\Suits.S02E05.iNTERNAL.HDTV.x264-2HD.srt',\n",
       " 'C:\\\\Users\\\\79099\\\\Desktop\\\\Workshop\\\\English_level\\\\Subtitles_all\\\\B2\\\\Suits.S02E06.All.In.HDTV.x264-FQM.srt',\n",
       " 'C:\\\\Users\\\\79099\\\\Desktop\\\\Workshop\\\\English_level\\\\Subtitles_all\\\\B2\\\\Suits.S02E07.Sucker.Punch.PROPER.HDTV.x264-FQM.srt',\n",
       " 'C:\\\\Users\\\\79099\\\\Desktop\\\\Workshop\\\\English_level\\\\Subtitles_all\\\\B2\\\\Suits.S02E08.HDTV.x264-EVOLVE.srt',\n",
       " 'C:\\\\Users\\\\79099\\\\Desktop\\\\Workshop\\\\English_level\\\\Subtitles_all\\\\B2\\\\Suits.S02E09.HDTV.x264-ASAP.srt',\n",
       " 'C:\\\\Users\\\\79099\\\\Desktop\\\\Workshop\\\\English_level\\\\Subtitles_all\\\\B2\\\\Suits.S02E10.HDTV.x264-ASAP.srt',\n",
       " 'C:\\\\Users\\\\79099\\\\Desktop\\\\Workshop\\\\English_level\\\\Subtitles_all\\\\B2\\\\Suits.S02E11.HDTV.x264-ASAP.srt',\n",
       " 'C:\\\\Users\\\\79099\\\\Desktop\\\\Workshop\\\\English_level\\\\Subtitles_all\\\\B2\\\\Suits.S02E12.HDTV.x264-ASAP.srt',\n",
       " 'C:\\\\Users\\\\79099\\\\Desktop\\\\Workshop\\\\English_level\\\\Subtitles_all\\\\B2\\\\Suits.S02E13.REPACK.HDTV.x264-2HD.srt',\n",
       " 'C:\\\\Users\\\\79099\\\\Desktop\\\\Workshop\\\\English_level\\\\Subtitles_all\\\\B2\\\\Suits.S02E14.HDTV.x264-ASAP.srt',\n",
       " 'C:\\\\Users\\\\79099\\\\Desktop\\\\Workshop\\\\English_level\\\\Subtitles_all\\\\B2\\\\Suits.S02E15.HDTV.x264-ASAP.srt',\n",
       " 'C:\\\\Users\\\\79099\\\\Desktop\\\\Workshop\\\\English_level\\\\Subtitles_all\\\\B2\\\\Suits.S02E16.HDTV.x264-2HD.srt',\n",
       " 'C:\\\\Users\\\\79099\\\\Desktop\\\\Workshop\\\\English_level\\\\Subtitles_all\\\\B2\\\\The.Grinch.2018.REMUX.1080p.Blu-ray.AVC.TrueHD.DTS-HD.MA.7.1-LEGi0N.English.srt',\n",
       " 'C:\\\\Users\\\\79099\\\\Desktop\\\\Workshop\\\\English_level\\\\Subtitles_all\\\\B2\\\\The.Notebook.DVDRip.XviD-DiAMOND.srt',\n",
       " 'C:\\\\Users\\\\79099\\\\Desktop\\\\Workshop\\\\English_level\\\\Subtitles_all\\\\B2\\\\The.Sound.of.Music.1965.WEBRip.iTunes.srt',\n",
       " 'C:\\\\Users\\\\79099\\\\Desktop\\\\Workshop\\\\English_level\\\\Subtitles_all\\\\B2\\\\The.True.Cost.2015.BluRay.720p.700MB.Ganool.com.srt',\n",
       " 'C:\\\\Users\\\\79099\\\\Desktop\\\\Workshop\\\\English_level\\\\Subtitles_all\\\\B2\\\\Virgin.River.S01E01.INTERNAL.720p.WEB.x264-STRiFE.srt',\n",
       " 'C:\\\\Users\\\\79099\\\\Desktop\\\\Workshop\\\\English_level\\\\Subtitles_all\\\\B2\\\\Virgin.River.S01E02.INTERNAL.720p.WEB.x264-STRiFE.srt',\n",
       " 'C:\\\\Users\\\\79099\\\\Desktop\\\\Workshop\\\\English_level\\\\Subtitles_all\\\\B2\\\\Virgin.River.S01E03.INTERNAL.720p.WEB.x264-STRiFE.srt',\n",
       " 'C:\\\\Users\\\\79099\\\\Desktop\\\\Workshop\\\\English_level\\\\Subtitles_all\\\\B2\\\\Virgin.River.S01E04.INTERNAL.720p.WEB.x264-STRiFE.srt',\n",
       " 'C:\\\\Users\\\\79099\\\\Desktop\\\\Workshop\\\\English_level\\\\Subtitles_all\\\\B2\\\\Virgin.River.S01E05.INTERNAL.720p.WEB.x264-STRiFE.srt',\n",
       " 'C:\\\\Users\\\\79099\\\\Desktop\\\\Workshop\\\\English_level\\\\Subtitles_all\\\\B2\\\\Virgin.River.S01E06.INTERNAL.720p.WEB.x264-STRiFE.srt',\n",
       " 'C:\\\\Users\\\\79099\\\\Desktop\\\\Workshop\\\\English_level\\\\Subtitles_all\\\\B2\\\\Virgin.River.S01E07.INTERNAL.720p.WEB.x264-STRiFE.srt',\n",
       " 'C:\\\\Users\\\\79099\\\\Desktop\\\\Workshop\\\\English_level\\\\Subtitles_all\\\\B2\\\\Virgin.River.S01E08.INTERNAL.720p.WEB.x264-STRiFE.srt',\n",
       " 'C:\\\\Users\\\\79099\\\\Desktop\\\\Workshop\\\\English_level\\\\Subtitles_all\\\\B2\\\\Virgin.River.S01E09.INTERNAL.720p.WEB.x264-STRiFE.srt',\n",
       " 'C:\\\\Users\\\\79099\\\\Desktop\\\\Workshop\\\\English_level\\\\Subtitles_all\\\\B2\\\\Virgin.River.S01E10.INTERNAL.720p.WEB.x264-STRiFE.srt',\n",
       " 'C:\\\\Users\\\\79099\\\\Desktop\\\\Workshop\\\\English_level\\\\Subtitles_all\\\\B2\\\\z srt23 uk-bun Gullivers.Travels.1939.720p.BluRay.x264-CiNEFiLE.srt',\n",
       " 'C:\\\\Users\\\\79099\\\\Desktop\\\\Workshop\\\\English_level\\\\Subtitles_all\\\\C1\\\\Downton Abbey - S01E01 - Episode 1.eng.SDH.srt',\n",
       " 'C:\\\\Users\\\\79099\\\\Desktop\\\\Workshop\\\\English_level\\\\Subtitles_all\\\\C1\\\\Downton Abbey - S01E02 - Episode 2.eng.SDH.srt',\n",
       " 'C:\\\\Users\\\\79099\\\\Desktop\\\\Workshop\\\\English_level\\\\Subtitles_all\\\\C1\\\\Downton Abbey - S01E03 - Episode 3.eng.SDH.srt',\n",
       " 'C:\\\\Users\\\\79099\\\\Desktop\\\\Workshop\\\\English_level\\\\Subtitles_all\\\\C1\\\\Downton Abbey - S01E04 - Episode 4.eng.SDH.srt',\n",
       " 'C:\\\\Users\\\\79099\\\\Desktop\\\\Workshop\\\\English_level\\\\Subtitles_all\\\\C1\\\\Downton Abbey - S01E05 - Episode 5.eng.SDH.srt',\n",
       " 'C:\\\\Users\\\\79099\\\\Desktop\\\\Workshop\\\\English_level\\\\Subtitles_all\\\\C1\\\\Downton Abbey - S01E06 - Episode 6.eng.SDH.srt',\n",
       " 'C:\\\\Users\\\\79099\\\\Desktop\\\\Workshop\\\\English_level\\\\Subtitles_all\\\\C1\\\\Downton Abbey - S01E07 - Episode 7.eng.SDH.srt',\n",
       " 'C:\\\\Users\\\\79099\\\\Desktop\\\\Workshop\\\\English_level\\\\Subtitles_all\\\\C1\\\\Suits S04E01 EngSub.srt',\n",
       " 'C:\\\\Users\\\\79099\\\\Desktop\\\\Workshop\\\\English_level\\\\Subtitles_all\\\\C1\\\\Suits S04E02 EngSub.srt',\n",
       " 'C:\\\\Users\\\\79099\\\\Desktop\\\\Workshop\\\\English_level\\\\Subtitles_all\\\\C1\\\\Suits S04E03 EngSub.srt',\n",
       " 'C:\\\\Users\\\\79099\\\\Desktop\\\\Workshop\\\\English_level\\\\Subtitles_all\\\\C1\\\\Suits S04E04 EngSub.srt',\n",
       " 'C:\\\\Users\\\\79099\\\\Desktop\\\\Workshop\\\\English_level\\\\Subtitles_all\\\\C1\\\\Suits S04E05 EngSub.srt',\n",
       " 'C:\\\\Users\\\\79099\\\\Desktop\\\\Workshop\\\\English_level\\\\Subtitles_all\\\\C1\\\\Suits S04E06 EngSub.srt',\n",
       " 'C:\\\\Users\\\\79099\\\\Desktop\\\\Workshop\\\\English_level\\\\Subtitles_all\\\\C1\\\\Suits S04E07 EngSub.srt',\n",
       " 'C:\\\\Users\\\\79099\\\\Desktop\\\\Workshop\\\\English_level\\\\Subtitles_all\\\\C1\\\\Suits S04E08 EngSub.srt',\n",
       " 'C:\\\\Users\\\\79099\\\\Desktop\\\\Workshop\\\\English_level\\\\Subtitles_all\\\\C1\\\\Suits S04E09 EngSub.srt',\n",
       " 'C:\\\\Users\\\\79099\\\\Desktop\\\\Workshop\\\\English_level\\\\Subtitles_all\\\\C1\\\\Suits S04E10 EngSub.srt',\n",
       " 'C:\\\\Users\\\\79099\\\\Desktop\\\\Workshop\\\\English_level\\\\Subtitles_all\\\\C1\\\\Suits S04E11 EngSub.srt',\n",
       " 'C:\\\\Users\\\\79099\\\\Desktop\\\\Workshop\\\\English_level\\\\Subtitles_all\\\\C1\\\\Suits S04E12 EngSub.srt',\n",
       " 'C:\\\\Users\\\\79099\\\\Desktop\\\\Workshop\\\\English_level\\\\Subtitles_all\\\\C1\\\\Suits S04E13 EngSub.srt',\n",
       " 'C:\\\\Users\\\\79099\\\\Desktop\\\\Workshop\\\\English_level\\\\Subtitles_all\\\\C1\\\\Suits S04E14 EngSub.srt',\n",
       " 'C:\\\\Users\\\\79099\\\\Desktop\\\\Workshop\\\\English_level\\\\Subtitles_all\\\\C1\\\\Suits S04E15 EngSub.srt',\n",
       " 'C:\\\\Users\\\\79099\\\\Desktop\\\\Workshop\\\\English_level\\\\Subtitles_all\\\\C1\\\\Suits S04E16 EngSub.srt',\n",
       " 'C:\\\\Users\\\\79099\\\\Desktop\\\\Workshop\\\\English_level\\\\Subtitles_all\\\\C1\\\\Suits.S03E01.480pHDTV.x264-mSD.srt',\n",
       " 'C:\\\\Users\\\\79099\\\\Desktop\\\\Workshop\\\\English_level\\\\Subtitles_all\\\\C1\\\\Suits.S03E02.720pHDTV.x264-mSD.srt',\n",
       " 'C:\\\\Users\\\\79099\\\\Desktop\\\\Workshop\\\\English_level\\\\Subtitles_all\\\\C1\\\\Suits.S03E03.480pHDTV.x264-mSD.srt',\n",
       " 'C:\\\\Users\\\\79099\\\\Desktop\\\\Workshop\\\\English_level\\\\Subtitles_all\\\\C1\\\\Suits.S03E04.480pHDTV.x264-mSD.srt',\n",
       " 'C:\\\\Users\\\\79099\\\\Desktop\\\\Workshop\\\\English_level\\\\Subtitles_all\\\\C1\\\\Suits.S03E05.480p.HDTV.x264-mSD.srt',\n",
       " 'C:\\\\Users\\\\79099\\\\Desktop\\\\Workshop\\\\English_level\\\\Subtitles_all\\\\C1\\\\Suits.S03E06.720p.HDTV.x264-mSD.srt',\n",
       " 'C:\\\\Users\\\\79099\\\\Desktop\\\\Workshop\\\\English_level\\\\Subtitles_all\\\\C1\\\\Suits.S03E07.HDTV.x264-mSD.srt',\n",
       " 'C:\\\\Users\\\\79099\\\\Desktop\\\\Workshop\\\\English_level\\\\Subtitles_all\\\\C1\\\\Suits.S03E08.480p.HDTV.x264-mSD.srt',\n",
       " 'C:\\\\Users\\\\79099\\\\Desktop\\\\Workshop\\\\English_level\\\\Subtitles_all\\\\C1\\\\Suits.S03E09.480p.HDTV.x264-mSD.srt',\n",
       " 'C:\\\\Users\\\\79099\\\\Desktop\\\\Workshop\\\\English_level\\\\Subtitles_all\\\\C1\\\\Suits.S03E10.HDTV.x264-mSD.srt',\n",
       " 'C:\\\\Users\\\\79099\\\\Desktop\\\\Workshop\\\\English_level\\\\Subtitles_all\\\\Subtitles\\\\10_Cloverfield_lane(2016).srt',\n",
       " 'C:\\\\Users\\\\79099\\\\Desktop\\\\Workshop\\\\English_level\\\\Subtitles_all\\\\Subtitles\\\\10_things_I_hate_about_you(1999).srt',\n",
       " 'C:\\\\Users\\\\79099\\\\Desktop\\\\Workshop\\\\English_level\\\\Subtitles_all\\\\Subtitles\\\\Aladdin(1992).srt',\n",
       " 'C:\\\\Users\\\\79099\\\\Desktop\\\\Workshop\\\\English_level\\\\Subtitles_all\\\\Subtitles\\\\All_dogs_go_to_heaven(1989).srt',\n",
       " 'C:\\\\Users\\\\79099\\\\Desktop\\\\Workshop\\\\English_level\\\\Subtitles_all\\\\Subtitles\\\\An_American_tail(1986).srt',\n",
       " 'C:\\\\Users\\\\79099\\\\Desktop\\\\Workshop\\\\English_level\\\\Subtitles_all\\\\Subtitles\\\\A_knights_tale(2001).srt',\n",
       " 'C:\\\\Users\\\\79099\\\\Desktop\\\\Workshop\\\\English_level\\\\Subtitles_all\\\\Subtitles\\\\A_star_is_born(2018).srt',\n",
       " 'C:\\\\Users\\\\79099\\\\Desktop\\\\Workshop\\\\English_level\\\\Subtitles_all\\\\Subtitles\\\\Babe(1995).srt',\n",
       " 'C:\\\\Users\\\\79099\\\\Desktop\\\\Workshop\\\\English_level\\\\Subtitles_all\\\\Subtitles\\\\Back_to_the_future(1985).srt',\n",
       " 'C:\\\\Users\\\\79099\\\\Desktop\\\\Workshop\\\\English_level\\\\Subtitles_all\\\\Subtitles\\\\Banking_On_Bitcoin(2016).srt',\n",
       " 'C:\\\\Users\\\\79099\\\\Desktop\\\\Workshop\\\\English_level\\\\Subtitles_all\\\\Subtitles\\\\Batman_begins(2005).srt',\n",
       " 'C:\\\\Users\\\\79099\\\\Desktop\\\\Workshop\\\\English_level\\\\Subtitles_all\\\\Subtitles\\\\Beauty_and_the_beast(2017).srt',\n",
       " 'C:\\\\Users\\\\79099\\\\Desktop\\\\Workshop\\\\English_level\\\\Subtitles_all\\\\Subtitles\\\\Before_I_go_to_sleep(2014).srt',\n",
       " 'C:\\\\Users\\\\79099\\\\Desktop\\\\Workshop\\\\English_level\\\\Subtitles_all\\\\Subtitles\\\\Before_sunrise(1995).srt',\n",
       " 'C:\\\\Users\\\\79099\\\\Desktop\\\\Workshop\\\\English_level\\\\Subtitles_all\\\\Subtitles\\\\Before_sunset(2004).srt',\n",
       " 'C:\\\\Users\\\\79099\\\\Desktop\\\\Workshop\\\\English_level\\\\Subtitles_all\\\\Subtitles\\\\Braveheart(1995).srt',\n",
       " 'C:\\\\Users\\\\79099\\\\Desktop\\\\Workshop\\\\English_level\\\\Subtitles_all\\\\Subtitles\\\\Breaking_Bad_The_Movie(2017).srt',\n",
       " 'C:\\\\Users\\\\79099\\\\Desktop\\\\Workshop\\\\English_level\\\\Subtitles_all\\\\Subtitles\\\\Bren╨Т.Brown.The.Call.to.Courage.2019.720.NF.720p.DDP.5.1.x264-CafeFlix.srt',\n",
       " 'C:\\\\Users\\\\79099\\\\Desktop\\\\Workshop\\\\English_level\\\\Subtitles_all\\\\Subtitles\\\\Bridget_Joness_Baby.srt',\n",
       " 'C:\\\\Users\\\\79099\\\\Desktop\\\\Workshop\\\\English_level\\\\Subtitles_all\\\\Subtitles\\\\Bridget_Jones_diary(2001).srt',\n",
       " 'C:\\\\Users\\\\79099\\\\Desktop\\\\Workshop\\\\English_level\\\\Subtitles_all\\\\Subtitles\\\\Cars(2006).srt',\n",
       " 'C:\\\\Users\\\\79099\\\\Desktop\\\\Workshop\\\\English_level\\\\Subtitles_all\\\\Subtitles\\\\Casper.srt',\n",
       " 'C:\\\\Users\\\\79099\\\\Desktop\\\\Workshop\\\\English_level\\\\Subtitles_all\\\\Subtitles\\\\Cast_away(2000).srt',\n",
       " 'C:\\\\Users\\\\79099\\\\Desktop\\\\Workshop\\\\English_level\\\\Subtitles_all\\\\Subtitles\\\\Catch_me_if_you_can(2002).srt',\n",
       " 'C:\\\\Users\\\\79099\\\\Desktop\\\\Workshop\\\\English_level\\\\Subtitles_all\\\\Subtitles\\\\Charlie_and_the_Chocolate_Factory.srt',\n",
       " 'C:\\\\Users\\\\79099\\\\Desktop\\\\Workshop\\\\English_level\\\\Subtitles_all\\\\Subtitles\\\\Cinderella(1950).srt',\n",
       " 'C:\\\\Users\\\\79099\\\\Desktop\\\\Workshop\\\\English_level\\\\Subtitles_all\\\\Subtitles\\\\Clueless(1995).srt',\n",
       " 'C:\\\\Users\\\\79099\\\\Desktop\\\\Workshop\\\\English_level\\\\Subtitles_all\\\\Subtitles\\\\Deadpool(2016).srt',\n",
       " 'C:\\\\Users\\\\79099\\\\Desktop\\\\Workshop\\\\English_level\\\\Subtitles_all\\\\Subtitles\\\\Despicable_Me(2010).srt',\n",
       " 'C:\\\\Users\\\\79099\\\\Desktop\\\\Workshop\\\\English_level\\\\Subtitles_all\\\\Subtitles\\\\Die_hard(1988).srt',\n",
       " 'C:\\\\Users\\\\79099\\\\Desktop\\\\Workshop\\\\English_level\\\\Subtitles_all\\\\Subtitles\\\\Dredd(2012).srt',\n",
       " 'C:\\\\Users\\\\79099\\\\Desktop\\\\Workshop\\\\English_level\\\\Subtitles_all\\\\Subtitles\\\\Dune(2021).srt',\n",
       " 'C:\\\\Users\\\\79099\\\\Desktop\\\\Workshop\\\\English_level\\\\Subtitles_all\\\\Subtitles\\\\Enola_Holmes(2020).srt',\n",
       " 'C:\\\\Users\\\\79099\\\\Desktop\\\\Workshop\\\\English_level\\\\Subtitles_all\\\\Subtitles\\\\Entrapment.srt',\n",
       " 'C:\\\\Users\\\\79099\\\\Desktop\\\\Workshop\\\\English_level\\\\Subtitles_all\\\\Subtitles\\\\Eurovision_song_contest_(2020).srt',\n",
       " 'C:\\\\Users\\\\79099\\\\Desktop\\\\Workshop\\\\English_level\\\\Subtitles_all\\\\Subtitles\\\\Ferdinand(2017).srt',\n",
       " 'C:\\\\Users\\\\79099\\\\Desktop\\\\Workshop\\\\English_level\\\\Subtitles_all\\\\Subtitles\\\\Fight_club(1999).srt',\n",
       " 'C:\\\\Users\\\\79099\\\\Desktop\\\\Workshop\\\\English_level\\\\Subtitles_all\\\\Subtitles\\\\Finding_Nemo(2003).srt',\n",
       " 'C:\\\\Users\\\\79099\\\\Desktop\\\\Workshop\\\\English_level\\\\Subtitles_all\\\\Subtitles\\\\Forrest_Gump(1994).srt',\n",
       " 'C:\\\\Users\\\\79099\\\\Desktop\\\\Workshop\\\\English_level\\\\Subtitles_all\\\\Subtitles\\\\Gogo_Loves_English.srt',\n",
       " 'C:\\\\Users\\\\79099\\\\Desktop\\\\Workshop\\\\English_level\\\\Subtitles_all\\\\Subtitles\\\\Good_Will_Hunting(1997).srt',\n",
       " 'C:\\\\Users\\\\79099\\\\Desktop\\\\Workshop\\\\English_level\\\\Subtitles_all\\\\Subtitles\\\\Groundhog_day(1993).srt',\n",
       " 'C:\\\\Users\\\\79099\\\\Desktop\\\\Workshop\\\\English_level\\\\Subtitles_all\\\\Subtitles\\\\Harry_Potter_and_the_philosophers_stone(2001).srt',\n",
       " 'C:\\\\Users\\\\79099\\\\Desktop\\\\Workshop\\\\English_level\\\\Subtitles_all\\\\Subtitles\\\\Her(2013).srt',\n",
       " 'C:\\\\Users\\\\79099\\\\Desktop\\\\Workshop\\\\English_level\\\\Subtitles_all\\\\Subtitles\\\\Home_alone(1990).srt',\n",
       " 'C:\\\\Users\\\\79099\\\\Desktop\\\\Workshop\\\\English_level\\\\Subtitles_all\\\\Subtitles\\\\Hook(1991).srt',\n",
       " 'C:\\\\Users\\\\79099\\\\Desktop\\\\Workshop\\\\English_level\\\\Subtitles_all\\\\Subtitles\\\\House_of_Gucci(2021).srt',\n",
       " 'C:\\\\Users\\\\79099\\\\Desktop\\\\Workshop\\\\English_level\\\\Subtitles_all\\\\Subtitles\\\\Inside_out(2015).srt',\n",
       " 'C:\\\\Users\\\\79099\\\\Desktop\\\\Workshop\\\\English_level\\\\Subtitles_all\\\\Subtitles\\\\Its_a_wonderful_life(1946).srt',\n",
       " 'C:\\\\Users\\\\79099\\\\Desktop\\\\Workshop\\\\English_level\\\\Subtitles_all\\\\Subtitles\\\\Klaus(2019).srt',\n",
       " 'C:\\\\Users\\\\79099\\\\Desktop\\\\Workshop\\\\English_level\\\\Subtitles_all\\\\Subtitles\\\\Knives_out(2019).srt',\n",
       " 'C:\\\\Users\\\\79099\\\\Desktop\\\\Workshop\\\\English_level\\\\Subtitles_all\\\\Subtitles\\\\Kubo_and_the_two_strings(2016).srt',\n",
       " 'C:\\\\Users\\\\79099\\\\Desktop\\\\Workshop\\\\English_level\\\\Subtitles_all\\\\Subtitles\\\\Liar_liar(1997).srt',\n",
       " 'C:\\\\Users\\\\79099\\\\Desktop\\\\Workshop\\\\English_level\\\\Subtitles_all\\\\Subtitles\\\\Lion(2016).srt',\n",
       " 'C:\\\\Users\\\\79099\\\\Desktop\\\\Workshop\\\\English_level\\\\Subtitles_all\\\\Subtitles\\\\Logan(2017).srt',\n",
       " 'C:\\\\Users\\\\79099\\\\Desktop\\\\Workshop\\\\English_level\\\\Subtitles_all\\\\Subtitles\\\\Love_actually(2003).srt',\n",
       " 'C:\\\\Users\\\\79099\\\\Desktop\\\\Workshop\\\\English_level\\\\Subtitles_all\\\\Subtitles\\\\Made_of_Honor(2008).srt',\n",
       " 'C:\\\\Users\\\\79099\\\\Desktop\\\\Workshop\\\\English_level\\\\Subtitles_all\\\\Subtitles\\\\Mamma_Mia(2008).srt',\n",
       " 'C:\\\\Users\\\\79099\\\\Desktop\\\\Workshop\\\\English_level\\\\Subtitles_all\\\\Subtitles\\\\Mary_Poppins_returns(2018).srt',\n",
       " 'C:\\\\Users\\\\79099\\\\Desktop\\\\Workshop\\\\English_level\\\\Subtitles_all\\\\Subtitles\\\\Matilda(1996).srt',\n",
       " 'C:\\\\Users\\\\79099\\\\Desktop\\\\Workshop\\\\English_level\\\\Subtitles_all\\\\Subtitles\\\\Meet_the_parents(2000).srt',\n",
       " 'C:\\\\Users\\\\79099\\\\Desktop\\\\Workshop\\\\English_level\\\\Subtitles_all\\\\Subtitles\\\\Milada(2017).srt',\n",
       " 'C:\\\\Users\\\\79099\\\\Desktop\\\\Workshop\\\\English_level\\\\Subtitles_all\\\\Subtitles\\\\Mona_Lisa_Smile(2003).srt',\n",
       " 'C:\\\\Users\\\\79099\\\\Desktop\\\\Workshop\\\\English_level\\\\Subtitles_all\\\\Subtitles\\\\Moulin_Rouge(2001).srt',\n",
       " 'C:\\\\Users\\\\79099\\\\Desktop\\\\Workshop\\\\English_level\\\\Subtitles_all\\\\Subtitles\\\\Mrs_Doubtfire(1993).srt',\n",
       " 'C:\\\\Users\\\\79099\\\\Desktop\\\\Workshop\\\\English_level\\\\Subtitles_all\\\\Subtitles\\\\My_big_fat_Greek_wedding(2002).srt',\n",
       " 'C:\\\\Users\\\\79099\\\\Desktop\\\\Workshop\\\\English_level\\\\Subtitles_all\\\\Subtitles\\\\Notting_Hill(1999).srt',\n",
       " 'C:\\\\Users\\\\79099\\\\Desktop\\\\Workshop\\\\English_level\\\\Subtitles_all\\\\Subtitles\\\\Oceans_Eleven(2001).srt',\n",
       " 'C:\\\\Users\\\\79099\\\\Desktop\\\\Workshop\\\\English_level\\\\Subtitles_all\\\\Subtitles\\\\Oceans_Twelve(2004).srt',\n",
       " 'C:\\\\Users\\\\79099\\\\Desktop\\\\Workshop\\\\English_level\\\\Subtitles_all\\\\Subtitles\\\\Pirates_of_the_Caribbean(2003).srt',\n",
       " 'C:\\\\Users\\\\79099\\\\Desktop\\\\Workshop\\\\English_level\\\\Subtitles_all\\\\Subtitles\\\\Pleasantville(1998).srt',\n",
       " 'C:\\\\Users\\\\79099\\\\Desktop\\\\Workshop\\\\English_level\\\\Subtitles_all\\\\Subtitles\\\\Powder(1995).srt',\n",
       " 'C:\\\\Users\\\\79099\\\\Desktop\\\\Workshop\\\\English_level\\\\Subtitles_all\\\\Subtitles\\\\Pride_and_Prejudice.srt',\n",
       " 'C:\\\\Users\\\\79099\\\\Desktop\\\\Workshop\\\\English_level\\\\Subtitles_all\\\\Subtitles\\\\Pulp_fiction(1994).srt',\n",
       " 'C:\\\\Users\\\\79099\\\\Desktop\\\\Workshop\\\\English_level\\\\Subtitles_all\\\\Subtitles\\\\Ratatouille(2007).srt',\n",
       " 'C:\\\\Users\\\\79099\\\\Desktop\\\\Workshop\\\\English_level\\\\Subtitles_all\\\\Subtitles\\\\Ready_or_not(2019).srt',\n",
       " 'C:\\\\Users\\\\79099\\\\Desktop\\\\Workshop\\\\English_level\\\\Subtitles_all\\\\Subtitles\\\\Shrek(2001).srt',\n",
       " 'C:\\\\Users\\\\79099\\\\Desktop\\\\Workshop\\\\English_level\\\\Subtitles_all\\\\Subtitles\\\\Sleepless_in_Seattle(1993).srt',\n",
       " 'C:\\\\Users\\\\79099\\\\Desktop\\\\Workshop\\\\English_level\\\\Subtitles_all\\\\Subtitles\\\\Soul(2020).srt',\n",
       " 'C:\\\\Users\\\\79099\\\\Desktop\\\\Workshop\\\\English_level\\\\Subtitles_all\\\\Subtitles\\\\The_blind_side(2009).srt',\n",
       " 'C:\\\\Users\\\\79099\\\\Desktop\\\\Workshop\\\\English_level\\\\Subtitles_all\\\\Subtitles\\\\The_break-up(2006).srt',\n",
       " 'C:\\\\Users\\\\79099\\\\Desktop\\\\Workshop\\\\English_level\\\\Subtitles_all\\\\Subtitles\\\\The_cabin_in_the_woods(2012).srt',\n",
       " 'C:\\\\Users\\\\79099\\\\Desktop\\\\Workshop\\\\English_level\\\\Subtitles_all\\\\Subtitles\\\\The_Devil_Wears_Prad.srt',\n",
       " 'C:\\\\Users\\\\79099\\\\Desktop\\\\Workshop\\\\English_level\\\\Subtitles_all\\\\Subtitles\\\\The_fault_in_our_stars(2014).srt',\n",
       " 'C:\\\\Users\\\\79099\\\\Desktop\\\\Workshop\\\\English_level\\\\Subtitles_all\\\\Subtitles\\\\The_Fundamentals_of_Caring(2016).srt',\n",
       " 'C:\\\\Users\\\\79099\\\\Desktop\\\\Workshop\\\\English_level\\\\Subtitles_all\\\\Subtitles\\\\The_Ghost_Writer.srt',\n",
       " 'C:\\\\Users\\\\79099\\\\Desktop\\\\Workshop\\\\English_level\\\\Subtitles_all\\\\Subtitles\\\\The_graduate(1967).srt',\n",
       " 'C:\\\\Users\\\\79099\\\\Desktop\\\\Workshop\\\\English_level\\\\Subtitles_all\\\\Subtitles\\\\The_greatest_showman(2017).srt',\n",
       " 'C:\\\\Users\\\\79099\\\\Desktop\\\\Workshop\\\\English_level\\\\Subtitles_all\\\\Subtitles\\\\The_hangover(2009).srt',\n",
       " 'C:\\\\Users\\\\79099\\\\Desktop\\\\Workshop\\\\English_level\\\\Subtitles_all\\\\Subtitles\\\\The_holiday(2006).srt',\n",
       " 'C:\\\\Users\\\\79099\\\\Desktop\\\\Workshop\\\\English_level\\\\Subtitles_all\\\\Subtitles\\\\The_Intern(2015).srt',\n",
       " 'C:\\\\Users\\\\79099\\\\Desktop\\\\Workshop\\\\English_level\\\\Subtitles_all\\\\Subtitles\\\\The_invisible_man(2020).srt',\n",
       " 'C:\\\\Users\\\\79099\\\\Desktop\\\\Workshop\\\\English_level\\\\Subtitles_all\\\\Subtitles\\\\The_jungle_book(2016).srt',\n",
       " 'C:\\\\Users\\\\79099\\\\Desktop\\\\Workshop\\\\English_level\\\\Subtitles_all\\\\Subtitles\\\\The_kings_speech(2010).srt',\n",
       " 'C:\\\\Users\\\\79099\\\\Desktop\\\\Workshop\\\\English_level\\\\Subtitles_all\\\\Subtitles\\\\The_Legend_of_Tarzan(2016).srt',\n",
       " 'C:\\\\Users\\\\79099\\\\Desktop\\\\Workshop\\\\English_level\\\\Subtitles_all\\\\Subtitles\\\\The_lion_king(1994).srt',\n",
       " 'C:\\\\Users\\\\79099\\\\Desktop\\\\Workshop\\\\English_level\\\\Subtitles_all\\\\Subtitles\\\\The_lord_of_the_rings(2001).srt',\n",
       " 'C:\\\\Users\\\\79099\\\\Desktop\\\\Workshop\\\\English_level\\\\Subtitles_all\\\\Subtitles\\\\The_man_called_Flintstone(1966).srt',\n",
       " 'C:\\\\Users\\\\79099\\\\Desktop\\\\Workshop\\\\English_level\\\\Subtitles_all\\\\Subtitles\\\\The_secret_life_of_Walter_Mitty(2013).srt',\n",
       " 'C:\\\\Users\\\\79099\\\\Desktop\\\\Workshop\\\\English_level\\\\Subtitles_all\\\\Subtitles\\\\The_Shawshank_redemption(1994).srt',\n",
       " 'C:\\\\Users\\\\79099\\\\Desktop\\\\Workshop\\\\English_level\\\\Subtitles_all\\\\Subtitles\\\\The_social_network(2010).srt',\n",
       " 'C:\\\\Users\\\\79099\\\\Desktop\\\\Workshop\\\\English_level\\\\Subtitles_all\\\\Subtitles\\\\The_terminal(2004).srt',\n",
       " 'C:\\\\Users\\\\79099\\\\Desktop\\\\Workshop\\\\English_level\\\\Subtitles_all\\\\Subtitles\\\\The_terminator(1984).srt',\n",
       " 'C:\\\\Users\\\\79099\\\\Desktop\\\\Workshop\\\\English_level\\\\Subtitles_all\\\\Subtitles\\\\The_theory_of_everything(2014).srt',\n",
       " 'C:\\\\Users\\\\79099\\\\Desktop\\\\Workshop\\\\English_level\\\\Subtitles_all\\\\Subtitles\\\\The_usual_suspects(1995).srt',\n",
       " 'C:\\\\Users\\\\79099\\\\Desktop\\\\Workshop\\\\English_level\\\\Subtitles_all\\\\Subtitles\\\\Titanic(1997).srt',\n",
       " 'C:\\\\Users\\\\79099\\\\Desktop\\\\Workshop\\\\English_level\\\\Subtitles_all\\\\Subtitles\\\\Toy_story(1995).srt',\n",
       " 'C:\\\\Users\\\\79099\\\\Desktop\\\\Workshop\\\\English_level\\\\Subtitles_all\\\\Subtitles\\\\Twilight(2008).srt',\n",
       " 'C:\\\\Users\\\\79099\\\\Desktop\\\\Workshop\\\\English_level\\\\Subtitles_all\\\\Subtitles\\\\Up(2009).srt',\n",
       " 'C:\\\\Users\\\\79099\\\\Desktop\\\\Workshop\\\\English_level\\\\Subtitles_all\\\\Subtitles\\\\Venom(2018).srt',\n",
       " 'C:\\\\Users\\\\79099\\\\Desktop\\\\Workshop\\\\English_level\\\\Subtitles_all\\\\Subtitles\\\\Warm_bodies(2013).srt',\n",
       " 'C:\\\\Users\\\\79099\\\\Desktop\\\\Workshop\\\\English_level\\\\Subtitles_all\\\\Subtitles\\\\Westworld_scenes_of_Dr_Robert_Ford.srt',\n",
       " 'C:\\\\Users\\\\79099\\\\Desktop\\\\Workshop\\\\English_level\\\\Subtitles_all\\\\Subtitles\\\\We_are_the_Millers(2013).srt',\n",
       " 'C:\\\\Users\\\\79099\\\\Desktop\\\\Workshop\\\\English_level\\\\Subtitles_all\\\\Subtitles\\\\While_You_Were_Sleeping(1995).srt',\n",
       " 'C:\\\\Users\\\\79099\\\\Desktop\\\\Workshop\\\\English_level\\\\Subtitles_all\\\\Subtitles\\\\Zootopia(2016).srt']"
      ]
     },
     "execution_count": 6,
     "metadata": {},
     "output_type": "execute_result"
    }
   ],
   "source": [
    "all_files"
   ]
  },
  {
   "cell_type": "markdown",
   "id": "b1cf410b",
   "metadata": {},
   "source": [
    "Список получен"
   ]
  },
  {
   "cell_type": "markdown",
   "id": "67b9a4b4",
   "metadata": {},
   "source": [
    "Теперь добавим субтитры в датафрейм и \"раскодируем\" их."
   ]
  },
  {
   "cell_type": "code",
   "execution_count": 7,
   "id": "11d30209",
   "metadata": {
    "scrolled": true
   },
   "outputs": [
    {
     "name": "stdout",
     "output_type": "stream",
     "text": [
      "CPU times: total: 12.2 s\n",
      "Wall time: 12.3 s\n"
     ]
    }
   ],
   "source": [
    "%%time\n",
    "m = magic.Magic(mime_encoding=True)\n",
    "df = pd.DataFrame([])\n",
    "for r in all_files:\n",
    "    #base_encoding = 'utf-8'\n",
    "    open_for_encode = open(r,'rb').read()\n",
    "    enc = m.from_buffer(open_for_encode)\n",
    "    if enc == 'unknown-8bit':\n",
    "        enc = 'cp1251'\n",
    "    if enc == 'binary':\n",
    "        enc = 'utf-8'\n",
    "    data = pysrt.open(r, encoding=enc)\n",
    "    df0 = pd.DataFrame([[r,data,enc]])\n",
    "    df = pd.concat([df,df0])\n",
    "df.columns = ['path','raw_data','encoding']"
   ]
  },
  {
   "cell_type": "markdown",
   "id": "dc0ff260",
   "metadata": {},
   "source": [
    "Теперь добавим столбец с разметкой из папок."
   ]
  },
  {
   "cell_type": "code",
   "execution_count": 8,
   "id": "ce62c1fc",
   "metadata": {
    "scrolled": true
   },
   "outputs": [],
   "source": [
    "def level_folder(x):\n",
    "    if '\\\\A2\\\\' in x:\n",
    "        return 'A2'\n",
    "    if '\\\\B1\\\\' in x:\n",
    "        return 'B1'\n",
    "    if '\\\\B2\\\\' in x:\n",
    "        return 'B2'\n",
    "    if '\\\\C1\\\\' in x:\n",
    "        return 'C1'\n",
    "    else:\n",
    "        return None"
   ]
  },
  {
   "cell_type": "code",
   "execution_count": 9,
   "id": "7065dfaf",
   "metadata": {},
   "outputs": [],
   "source": [
    "df['level_from_folder'] = df['path'].apply(lambda x: level_folder(x)) "
   ]
  },
  {
   "cell_type": "markdown",
   "id": "c232c7dc",
   "metadata": {},
   "source": [
    "Добавим функции для очистки \"адреса\", чтобы оставить одно название фильма."
   ]
  },
  {
   "cell_type": "code",
   "execution_count": 10,
   "id": "990464c7",
   "metadata": {},
   "outputs": [],
   "source": [
    "def clean_row(x):\n",
    "    return x.removeprefix('C:\\\\Users\\\\79099\\\\Desktop\\\\Workshop\\\\English_level\\\\Subtitles_all\\\\') "
   ]
  },
  {
   "cell_type": "code",
   "execution_count": 11,
   "id": "8f67a0b2",
   "metadata": {},
   "outputs": [],
   "source": [
    "def clean_row_1(x):\n",
    "    if 'A2\\\\' in x:\n",
    "        return x.removeprefix('A2\\\\')\n",
    "    if 'B2\\\\' in x:\n",
    "        return x.removeprefix('B2\\\\')\n",
    "    if 'B1\\\\' in x:\n",
    "        return x.removeprefix('B1\\\\')\n",
    "    if 'C1\\\\' in x:\n",
    "        return x.removeprefix('C1\\\\')\n",
    "    if 'Subtitles\\\\' in x:\n",
    "        return x.removeprefix('Subtitles\\\\')\n"
   ]
  },
  {
   "cell_type": "code",
   "execution_count": 12,
   "id": "d05dd75a",
   "metadata": {},
   "outputs": [],
   "source": [
    "def clean_row_2(x):\n",
    "    return x.removesuffix('.srt')\n"
   ]
  },
  {
   "cell_type": "code",
   "execution_count": 13,
   "id": "fb4bae32",
   "metadata": {},
   "outputs": [],
   "source": [
    "df['path'] = df['path'].apply(lambda x: clean_row(x)) "
   ]
  },
  {
   "cell_type": "code",
   "execution_count": 14,
   "id": "684c8c11",
   "metadata": {},
   "outputs": [],
   "source": [
    "df['path'] = df['path'].apply(lambda x: clean_row_1(x)) "
   ]
  },
  {
   "cell_type": "code",
   "execution_count": 15,
   "id": "40e200ad",
   "metadata": {},
   "outputs": [],
   "source": [
    "df['path'] = df['path'].apply(lambda x: clean_row_2(x)) "
   ]
  },
  {
   "cell_type": "code",
   "execution_count": 16,
   "id": "120c42cd",
   "metadata": {},
   "outputs": [
    {
     "data": {
      "text/html": [
       "<div>\n",
       "<style scoped>\n",
       "    .dataframe tbody tr th:only-of-type {\n",
       "        vertical-align: middle;\n",
       "    }\n",
       "\n",
       "    .dataframe tbody tr th {\n",
       "        vertical-align: top;\n",
       "    }\n",
       "\n",
       "    .dataframe thead th {\n",
       "        text-align: right;\n",
       "    }\n",
       "</style>\n",
       "<table border=\"1\" class=\"dataframe\">\n",
       "  <thead>\n",
       "    <tr style=\"text-align: right;\">\n",
       "      <th></th>\n",
       "      <th>path</th>\n",
       "      <th>raw_data</th>\n",
       "      <th>encoding</th>\n",
       "      <th>level_from_folder</th>\n",
       "    </tr>\n",
       "  </thead>\n",
       "  <tbody>\n",
       "    <tr>\n",
       "      <th>0</th>\n",
       "      <td>The Walking Dead-S01E01-Days Gone Bye.English</td>\n",
       "      <td>[1\\n00:00:03,169 --&gt; 00:00:05,171\\n( bugs chit...</td>\n",
       "      <td>utf-8</td>\n",
       "      <td>A2</td>\n",
       "    </tr>\n",
       "    <tr>\n",
       "      <th>0</th>\n",
       "      <td>The Walking Dead-S01E02-Guts.English</td>\n",
       "      <td>[1\\n00:00:03,045 --&gt; 00:00:05,047\\n- ( birds c...</td>\n",
       "      <td>utf-8</td>\n",
       "      <td>A2</td>\n",
       "    </tr>\n",
       "    <tr>\n",
       "      <th>0</th>\n",
       "      <td>The Walking Dead-S01E03-Tell It To The Frogs.E...</td>\n",
       "      <td>[1\\n00:00:03,003 --&gt; 00:00:04,671\\n( thunder r...</td>\n",
       "      <td>utf-8</td>\n",
       "      <td>A2</td>\n",
       "    </tr>\n",
       "    <tr>\n",
       "      <th>0</th>\n",
       "      <td>The Walking Dead-S01E04-Vatos.English</td>\n",
       "      <td>[1\\n00:00:03,045 --&gt; 00:00:05,422\\n( birds chi...</td>\n",
       "      <td>utf-8</td>\n",
       "      <td>A2</td>\n",
       "    </tr>\n",
       "    <tr>\n",
       "      <th>0</th>\n",
       "      <td>The Walking Dead-S01E05-Wildfire.English</td>\n",
       "      <td>[1\\n00:00:03,420 --&gt; 00:00:04,922\\n- ( walkie-...</td>\n",
       "      <td>utf-8</td>\n",
       "      <td>A2</td>\n",
       "    </tr>\n",
       "  </tbody>\n",
       "</table>\n",
       "</div>"
      ],
      "text/plain": [
       "                                                path  \\\n",
       "0      The Walking Dead-S01E01-Days Gone Bye.English   \n",
       "0               The Walking Dead-S01E02-Guts.English   \n",
       "0  The Walking Dead-S01E03-Tell It To The Frogs.E...   \n",
       "0              The Walking Dead-S01E04-Vatos.English   \n",
       "0           The Walking Dead-S01E05-Wildfire.English   \n",
       "\n",
       "                                            raw_data encoding  \\\n",
       "0  [1\\n00:00:03,169 --> 00:00:05,171\\n( bugs chit...    utf-8   \n",
       "0  [1\\n00:00:03,045 --> 00:00:05,047\\n- ( birds c...    utf-8   \n",
       "0  [1\\n00:00:03,003 --> 00:00:04,671\\n( thunder r...    utf-8   \n",
       "0  [1\\n00:00:03,045 --> 00:00:05,422\\n( birds chi...    utf-8   \n",
       "0  [1\\n00:00:03,420 --> 00:00:04,922\\n- ( walkie-...    utf-8   \n",
       "\n",
       "  level_from_folder  \n",
       "0                A2  \n",
       "0                A2  \n",
       "0                A2  \n",
       "0                A2  \n",
       "0                A2  "
      ]
     },
     "execution_count": 16,
     "metadata": {},
     "output_type": "execute_result"
    }
   ],
   "source": [
    "df.head(5)"
   ]
  },
  {
   "cell_type": "markdown",
   "id": "fdf80d18",
   "metadata": {},
   "source": [
    "Получили датафрейм с субтитрами."
   ]
  },
  {
   "cell_type": "markdown",
   "id": "8ad9a3bb",
   "metadata": {},
   "source": [
    "Теперь откроем размеченную таблицу в эксель."
   ]
  },
  {
   "cell_type": "code",
   "execution_count": 17,
   "id": "9a047182",
   "metadata": {},
   "outputs": [],
   "source": [
    "dp = Path(\"C:/Users/79099/Desktop/Workshop/English_level\") "
   ]
  },
  {
   "cell_type": "code",
   "execution_count": 18,
   "id": "9601b7a4",
   "metadata": {},
   "outputs": [],
   "source": [
    "df_ex = pd.read_excel(join(dp, 'movies_labels.xlsx'))"
   ]
  },
  {
   "cell_type": "code",
   "execution_count": 19,
   "id": "f2bb1767",
   "metadata": {},
   "outputs": [
    {
     "data": {
      "text/html": [
       "<div>\n",
       "<style scoped>\n",
       "    .dataframe tbody tr th:only-of-type {\n",
       "        vertical-align: middle;\n",
       "    }\n",
       "\n",
       "    .dataframe tbody tr th {\n",
       "        vertical-align: top;\n",
       "    }\n",
       "\n",
       "    .dataframe thead th {\n",
       "        text-align: right;\n",
       "    }\n",
       "</style>\n",
       "<table border=\"1\" class=\"dataframe\">\n",
       "  <thead>\n",
       "    <tr style=\"text-align: right;\">\n",
       "      <th></th>\n",
       "      <th>id</th>\n",
       "      <th>Movie</th>\n",
       "      <th>Level</th>\n",
       "    </tr>\n",
       "  </thead>\n",
       "  <tbody>\n",
       "    <tr>\n",
       "      <th>0</th>\n",
       "      <td>0</td>\n",
       "      <td>10_Cloverfield_lane(2016)</td>\n",
       "      <td>B1</td>\n",
       "    </tr>\n",
       "    <tr>\n",
       "      <th>1</th>\n",
       "      <td>1</td>\n",
       "      <td>10_things_I_hate_about_you(1999)</td>\n",
       "      <td>B1</td>\n",
       "    </tr>\n",
       "    <tr>\n",
       "      <th>2</th>\n",
       "      <td>2</td>\n",
       "      <td>A_knights_tale(2001)</td>\n",
       "      <td>B2</td>\n",
       "    </tr>\n",
       "    <tr>\n",
       "      <th>3</th>\n",
       "      <td>3</td>\n",
       "      <td>A_star_is_born(2018)</td>\n",
       "      <td>B2</td>\n",
       "    </tr>\n",
       "    <tr>\n",
       "      <th>4</th>\n",
       "      <td>4</td>\n",
       "      <td>Aladdin(1992)</td>\n",
       "      <td>A2/A2+</td>\n",
       "    </tr>\n",
       "    <tr>\n",
       "      <th>...</th>\n",
       "      <td>...</td>\n",
       "      <td>...</td>\n",
       "      <td>...</td>\n",
       "    </tr>\n",
       "    <tr>\n",
       "      <th>236</th>\n",
       "      <td>236</td>\n",
       "      <td>Matilda(2022)</td>\n",
       "      <td>C1</td>\n",
       "    </tr>\n",
       "    <tr>\n",
       "      <th>237</th>\n",
       "      <td>237</td>\n",
       "      <td>Bullet train</td>\n",
       "      <td>B1</td>\n",
       "    </tr>\n",
       "    <tr>\n",
       "      <th>238</th>\n",
       "      <td>238</td>\n",
       "      <td>Thor: love and thunder</td>\n",
       "      <td>B2</td>\n",
       "    </tr>\n",
       "    <tr>\n",
       "      <th>239</th>\n",
       "      <td>239</td>\n",
       "      <td>Lightyear</td>\n",
       "      <td>B2</td>\n",
       "    </tr>\n",
       "    <tr>\n",
       "      <th>240</th>\n",
       "      <td>240</td>\n",
       "      <td>The Grinch</td>\n",
       "      <td>B1</td>\n",
       "    </tr>\n",
       "  </tbody>\n",
       "</table>\n",
       "<p>241 rows × 3 columns</p>\n",
       "</div>"
      ],
      "text/plain": [
       "      id                             Movie   Level\n",
       "0      0         10_Cloverfield_lane(2016)      B1\n",
       "1      1  10_things_I_hate_about_you(1999)      B1\n",
       "2      2              A_knights_tale(2001)      B2\n",
       "3      3              A_star_is_born(2018)      B2\n",
       "4      4                     Aladdin(1992)  A2/A2+\n",
       "..   ...                               ...     ...\n",
       "236  236                     Matilda(2022)      C1\n",
       "237  237                      Bullet train      B1\n",
       "238  238            Thor: love and thunder      B2\n",
       "239  239                         Lightyear      B2\n",
       "240  240                        The Grinch      B1\n",
       "\n",
       "[241 rows x 3 columns]"
      ]
     },
     "execution_count": 19,
     "metadata": {},
     "output_type": "execute_result"
    }
   ],
   "source": [
    "df_ex"
   ]
  },
  {
   "cell_type": "markdown",
   "id": "c5739a9d",
   "metadata": {},
   "source": [
    "Объеденим таблицы по ключу \"Movie\" название фильма."
   ]
  },
  {
   "cell_type": "code",
   "execution_count": 20,
   "id": "c5dcfe04",
   "metadata": {},
   "outputs": [],
   "source": [
    "df = df.rename(columns={'path': 'Movie'})"
   ]
  },
  {
   "cell_type": "code",
   "execution_count": 21,
   "id": "73a643c4",
   "metadata": {},
   "outputs": [],
   "source": [
    "data = pd.merge(df_ex, df, how=\"inner\", on=['Movie'])"
   ]
  },
  {
   "cell_type": "code",
   "execution_count": 22,
   "id": "427f8722",
   "metadata": {},
   "outputs": [
    {
     "data": {
      "text/html": [
       "<div>\n",
       "<style scoped>\n",
       "    .dataframe tbody tr th:only-of-type {\n",
       "        vertical-align: middle;\n",
       "    }\n",
       "\n",
       "    .dataframe tbody tr th {\n",
       "        vertical-align: top;\n",
       "    }\n",
       "\n",
       "    .dataframe thead th {\n",
       "        text-align: right;\n",
       "    }\n",
       "</style>\n",
       "<table border=\"1\" class=\"dataframe\">\n",
       "  <thead>\n",
       "    <tr style=\"text-align: right;\">\n",
       "      <th></th>\n",
       "      <th>id</th>\n",
       "      <th>Movie</th>\n",
       "      <th>Level</th>\n",
       "      <th>raw_data</th>\n",
       "      <th>encoding</th>\n",
       "      <th>level_from_folder</th>\n",
       "    </tr>\n",
       "  </thead>\n",
       "  <tbody>\n",
       "    <tr>\n",
       "      <th>0</th>\n",
       "      <td>0</td>\n",
       "      <td>10_Cloverfield_lane(2016)</td>\n",
       "      <td>B1</td>\n",
       "      <td>[1\\n00:00:55,279 --&gt; 00:01:07,279\\n&lt;font color...</td>\n",
       "      <td>us-ascii</td>\n",
       "      <td>None</td>\n",
       "    </tr>\n",
       "    <tr>\n",
       "      <th>1</th>\n",
       "      <td>1</td>\n",
       "      <td>10_things_I_hate_about_you(1999)</td>\n",
       "      <td>B1</td>\n",
       "      <td>[1\\n00:01:54,281 --&gt; 00:01:55,698\\nHey!\\n, 2\\n...</td>\n",
       "      <td>us-ascii</td>\n",
       "      <td>None</td>\n",
       "    </tr>\n",
       "    <tr>\n",
       "      <th>2</th>\n",
       "      <td>2</td>\n",
       "      <td>A_knights_tale(2001)</td>\n",
       "      <td>B2</td>\n",
       "      <td>[1\\n00:00:15,089 --&gt; 00:00:21,229\\nResync: Xen...</td>\n",
       "      <td>us-ascii</td>\n",
       "      <td>None</td>\n",
       "    </tr>\n",
       "    <tr>\n",
       "      <th>3</th>\n",
       "      <td>3</td>\n",
       "      <td>A_star_is_born(2018)</td>\n",
       "      <td>B2</td>\n",
       "      <td>[1\\n00:00:17,610 --&gt; 00:00:22,610\\n- &lt;i&gt;&lt;font ...</td>\n",
       "      <td>utf-8</td>\n",
       "      <td>None</td>\n",
       "    </tr>\n",
       "    <tr>\n",
       "      <th>4</th>\n",
       "      <td>4</td>\n",
       "      <td>Aladdin(1992)</td>\n",
       "      <td>A2/A2+</td>\n",
       "      <td>[1\\n00:00:27,240 --&gt; 00:00:30,879\\n&lt;i&gt;Oh, I co...</td>\n",
       "      <td>utf-8</td>\n",
       "      <td>None</td>\n",
       "    </tr>\n",
       "  </tbody>\n",
       "</table>\n",
       "</div>"
      ],
      "text/plain": [
       "   id                             Movie   Level  \\\n",
       "0   0         10_Cloverfield_lane(2016)      B1   \n",
       "1   1  10_things_I_hate_about_you(1999)      B1   \n",
       "2   2              A_knights_tale(2001)      B2   \n",
       "3   3              A_star_is_born(2018)      B2   \n",
       "4   4                     Aladdin(1992)  A2/A2+   \n",
       "\n",
       "                                            raw_data  encoding  \\\n",
       "0  [1\\n00:00:55,279 --> 00:01:07,279\\n<font color...  us-ascii   \n",
       "1  [1\\n00:01:54,281 --> 00:01:55,698\\nHey!\\n, 2\\n...  us-ascii   \n",
       "2  [1\\n00:00:15,089 --> 00:00:21,229\\nResync: Xen...  us-ascii   \n",
       "3  [1\\n00:00:17,610 --> 00:00:22,610\\n- <i><font ...     utf-8   \n",
       "4  [1\\n00:00:27,240 --> 00:00:30,879\\n<i>Oh, I co...     utf-8   \n",
       "\n",
       "  level_from_folder  \n",
       "0              None  \n",
       "1              None  \n",
       "2              None  \n",
       "3              None  \n",
       "4              None  "
      ]
     },
     "execution_count": 22,
     "metadata": {},
     "output_type": "execute_result"
    }
   ],
   "source": [
    "data.head(5)"
   ]
  },
  {
   "cell_type": "markdown",
   "id": "980e75ed",
   "metadata": {},
   "source": [
    "**Вывод**\n",
    "\n",
    "Подготовили данные к дальнейшей работе."
   ]
  },
  {
   "cell_type": "markdown",
   "id": "6f127cd8",
   "metadata": {},
   "source": [
    "## Анализ данных"
   ]
  },
  {
   "cell_type": "markdown",
   "id": "63cb4297",
   "metadata": {},
   "source": [
    "Посмотрим как распределяются фильмы по уровню сложности английского языка."
   ]
  },
  {
   "cell_type": "code",
   "execution_count": 23,
   "id": "0098d236",
   "metadata": {},
   "outputs": [
    {
     "data": {
      "text/plain": [
       "B2            97\n",
       "B1            53\n",
       "C1            39\n",
       "A2/A2+        25\n",
       "B1, B2         8\n",
       "A2             6\n",
       "A2/A2+, B1     5\n",
       "Name: Level, dtype: int64"
      ]
     },
     "execution_count": 23,
     "metadata": {},
     "output_type": "execute_result"
    }
   ],
   "source": [
    "data['Level'].value_counts()"
   ]
  },
  {
   "cell_type": "code",
   "execution_count": 24,
   "id": "bf78abd8",
   "metadata": {},
   "outputs": [
    {
     "data": {
      "image/png": "[encoded data removed]",
      "text/plain": [
       "<Figure size 640x480 with 1 Axes>"
      ]
     },
     "metadata": {},
     "output_type": "display_data"
    }
   ],
   "source": [
    "plt.hist(data['Level'], bins=7)\n",
    "plt.title('Гистограмма распределения оценок уровня владения языком')\n",
    "plt.xlabel('Уровень владения')\n",
    "plt.ylabel('Количество значений')\n",
    "plt.show()"
   ]
  },
  {
   "cell_type": "markdown",
   "id": "62a85af0",
   "metadata": {},
   "source": [
    "Как мы видим у нас есть не четко размеченые уровни. Приведём все уровни к четырём категориям: A, B1, B2 и C."
   ]
  },
  {
   "cell_type": "code",
   "execution_count": 25,
   "id": "2cb97cad",
   "metadata": {},
   "outputs": [],
   "source": [
    "data['Level'] = data['Level'].replace('A2/A2+', 'A')\n",
    "data['Level'] = data['Level'].replace('A2', 'A')\n",
    "data['Level'] = data['Level'].replace('A2/A2+, B1', 'A')\n",
    "data['Level'] = data['Level'].replace('B1, B2', 'B1')"
   ]
  },
  {
   "cell_type": "code",
   "execution_count": 26,
   "id": "656e5e49",
   "metadata": {},
   "outputs": [
    {
     "data": {
      "text/plain": [
       "B2    97\n",
       "B1    61\n",
       "C1    39\n",
       "A     36\n",
       "Name: Level, dtype: int64"
      ]
     },
     "execution_count": 26,
     "metadata": {},
     "output_type": "execute_result"
    }
   ],
   "source": [
    "data['Level'].value_counts()"
   ]
  },
  {
   "cell_type": "code",
   "execution_count": 27,
   "id": "35e70298",
   "metadata": {},
   "outputs": [
    {
     "data": {
      "text/plain": [
       "B2    0.416309\n",
       "B1    0.261803\n",
       "C1    0.167382\n",
       "A     0.154506\n",
       "Name: Level, dtype: float64"
      ]
     },
     "execution_count": 27,
     "metadata": {},
     "output_type": "execute_result"
    }
   ],
   "source": [
    "data['Level'].value_counts(normalize=True)"
   ]
  },
  {
   "cell_type": "code",
   "execution_count": 28,
   "id": "8392b8ca",
   "metadata": {},
   "outputs": [
    {
     "data": {
      "image/png": "[encoded data removed]",
      "text/plain": [
       "<Figure size 640x480 with 1 Axes>"
      ]
     },
     "metadata": {},
     "output_type": "display_data"
    }
   ],
   "source": [
    "plt.hist(data['Level'], bins=4)\n",
    "plt.title('Гистограмма распределения оценок уровня владения языком')\n",
    "plt.xlabel('Уровень владения')\n",
    "plt.ylabel('Количество значений')\n",
    "plt.show()"
   ]
  },
  {
   "cell_type": "markdown",
   "id": "d6b015a5",
   "metadata": {},
   "source": [
    "**Вывод**\n",
    "\n",
    "Распределение фильмов по уровню сложности английского языка выглядит следующим образом:\n",
    "- B2 -  41.6%\n",
    "- B1 - 26.18%\n",
    "- C1 - 16.7%\n",
    "- A  - 15.4%\n"
   ]
  },
  {
   "cell_type": "markdown",
   "id": "00e35e66",
   "metadata": {},
   "source": [
    "## Подготовка данных"
   ]
  },
  {
   "cell_type": "markdown",
   "id": "282dbda1",
   "metadata": {},
   "source": [
    "Сначало уберём столбцы, которые будут не нужны в дальнейшем."
   ]
  },
  {
   "cell_type": "code",
   "execution_count": 29,
   "id": "74e21e0b",
   "metadata": {},
   "outputs": [],
   "source": [
    "data = data.drop(columns=['encoding', 'level_from_folder', 'id'])"
   ]
  },
  {
   "cell_type": "code",
   "execution_count": 30,
   "id": "50b7ed1e",
   "metadata": {},
   "outputs": [
    {
     "data": {
      "text/html": [
       "<div>\n",
       "<style scoped>\n",
       "    .dataframe tbody tr th:only-of-type {\n",
       "        vertical-align: middle;\n",
       "    }\n",
       "\n",
       "    .dataframe tbody tr th {\n",
       "        vertical-align: top;\n",
       "    }\n",
       "\n",
       "    .dataframe thead th {\n",
       "        text-align: right;\n",
       "    }\n",
       "</style>\n",
       "<table border=\"1\" class=\"dataframe\">\n",
       "  <thead>\n",
       "    <tr style=\"text-align: right;\">\n",
       "      <th></th>\n",
       "      <th>Movie</th>\n",
       "      <th>Level</th>\n",
       "      <th>raw_data</th>\n",
       "    </tr>\n",
       "  </thead>\n",
       "  <tbody>\n",
       "    <tr>\n",
       "      <th>0</th>\n",
       "      <td>10_Cloverfield_lane(2016)</td>\n",
       "      <td>B1</td>\n",
       "      <td>[1\\n00:00:55,279 --&gt; 00:01:07,279\\n&lt;font color...</td>\n",
       "    </tr>\n",
       "    <tr>\n",
       "      <th>1</th>\n",
       "      <td>10_things_I_hate_about_you(1999)</td>\n",
       "      <td>B1</td>\n",
       "      <td>[1\\n00:01:54,281 --&gt; 00:01:55,698\\nHey!\\n, 2\\n...</td>\n",
       "    </tr>\n",
       "    <tr>\n",
       "      <th>2</th>\n",
       "      <td>A_knights_tale(2001)</td>\n",
       "      <td>B2</td>\n",
       "      <td>[1\\n00:00:15,089 --&gt; 00:00:21,229\\nResync: Xen...</td>\n",
       "    </tr>\n",
       "    <tr>\n",
       "      <th>3</th>\n",
       "      <td>A_star_is_born(2018)</td>\n",
       "      <td>B2</td>\n",
       "      <td>[1\\n00:00:17,610 --&gt; 00:00:22,610\\n- &lt;i&gt;&lt;font ...</td>\n",
       "    </tr>\n",
       "    <tr>\n",
       "      <th>4</th>\n",
       "      <td>Aladdin(1992)</td>\n",
       "      <td>A</td>\n",
       "      <td>[1\\n00:00:27,240 --&gt; 00:00:30,879\\n&lt;i&gt;Oh, I co...</td>\n",
       "    </tr>\n",
       "  </tbody>\n",
       "</table>\n",
       "</div>"
      ],
      "text/plain": [
       "                              Movie Level  \\\n",
       "0         10_Cloverfield_lane(2016)    B1   \n",
       "1  10_things_I_hate_about_you(1999)    B1   \n",
       "2              A_knights_tale(2001)    B2   \n",
       "3              A_star_is_born(2018)    B2   \n",
       "4                     Aladdin(1992)     A   \n",
       "\n",
       "                                            raw_data  \n",
       "0  [1\\n00:00:55,279 --> 00:01:07,279\\n<font color...  \n",
       "1  [1\\n00:01:54,281 --> 00:01:55,698\\nHey!\\n, 2\\n...  \n",
       "2  [1\\n00:00:15,089 --> 00:00:21,229\\nResync: Xen...  \n",
       "3  [1\\n00:00:17,610 --> 00:00:22,610\\n- <i><font ...  \n",
       "4  [1\\n00:00:27,240 --> 00:00:30,879\\n<i>Oh, I co...  "
      ]
     },
     "execution_count": 30,
     "metadata": {},
     "output_type": "execute_result"
    }
   ],
   "source": [
    "data.head(5)"
   ]
  },
  {
   "cell_type": "markdown",
   "id": "2d66d40d",
   "metadata": {},
   "source": [
    "Теперь объеденим субтитры в единый текст."
   ]
  },
  {
   "cell_type": "code",
   "execution_count": 31,
   "id": "1af471dc",
   "metadata": {},
   "outputs": [],
   "source": [
    "def text(x):\n",
    "    return x.text"
   ]
  },
  {
   "cell_type": "code",
   "execution_count": 32,
   "id": "13733279",
   "metadata": {},
   "outputs": [],
   "source": [
    "data['raw_data'] = data['raw_data'].apply(lambda x: text(x))"
   ]
  },
  {
   "cell_type": "markdown",
   "id": "64aa81e3",
   "metadata": {},
   "source": [
    "Почистим текст."
   ]
  },
  {
   "cell_type": "code",
   "execution_count": 33,
   "id": "de379b9c",
   "metadata": {},
   "outputs": [],
   "source": [
    "def clear_text(text):\n",
    "   \n",
    "    r_text = re.sub(r'[^a-zA-Z]', ' ', text)\n",
    "    text_list = r_text.split()\n",
    "    clear_text = \" \".join(text_list)\n",
    "    return clear_text"
   ]
  },
  {
   "cell_type": "code",
   "execution_count": 34,
   "id": "f0b031db",
   "metadata": {},
   "outputs": [],
   "source": [
    "data['clean_text'] = data['raw_data'].apply(clear_text)"
   ]
  },
  {
   "cell_type": "markdown",
   "id": "fc161ff0",
   "metadata": {},
   "source": [
    "Проведём лемматизацию текста."
   ]
  },
  {
   "cell_type": "code",
   "execution_count": 35,
   "id": "91b7a6b5",
   "metadata": {},
   "outputs": [
    {
     "name": "stderr",
     "output_type": "stream",
     "text": [
      "[nltk_data] Downloading package wordnet to\n",
      "[nltk_data]     C:\\Users\\79099\\AppData\\Roaming\\nltk_data...\n",
      "[nltk_data]   Package wordnet is already up-to-date!\n",
      "[nltk_data] Downloading package averaged_perceptron_tagger to\n",
      "[nltk_data]     C:\\Users\\79099\\AppData\\Roaming\\nltk_data...\n",
      "[nltk_data]   Package averaged_perceptron_tagger is already up-to-\n",
      "[nltk_data]       date!\n",
      "[nltk_data] Downloading package punkt to\n",
      "[nltk_data]     C:\\Users\\79099\\AppData\\Roaming\\nltk_data...\n",
      "[nltk_data]   Package punkt is already up-to-date!\n"
     ]
    },
    {
     "data": {
      "text/plain": [
       "True"
      ]
     },
     "execution_count": 35,
     "metadata": {},
     "output_type": "execute_result"
    }
   ],
   "source": [
    "lemmatizer = WordNetLemmatizer()\n",
    "nltk.download('wordnet')\n",
    "nltk.download('averaged_perceptron_tagger')\n",
    "nltk.download('punkt')"
   ]
  },
  {
   "cell_type": "code",
   "execution_count": 36,
   "id": "0a04b039",
   "metadata": {},
   "outputs": [],
   "source": [
    "def get_wordnet_pos(word):\n",
    "    tag = nltk.pos_tag([word])[0][1][0].upper()\n",
    "    tag_dict = {\"J\": wordnet.ADJ,\n",
    "                \"N\": wordnet.NOUN,\n",
    "                \"V\": wordnet.VERB,\n",
    "                \"R\": wordnet.ADV}\n",
    "    return tag_dict.get(tag, wordnet.NOUN)"
   ]
  },
  {
   "cell_type": "code",
   "execution_count": 37,
   "id": "886eb811",
   "metadata": {},
   "outputs": [],
   "source": [
    "def lemmatize_words(text):\n",
    "    word_list = nltk.word_tokenize(text)\n",
    "    \n",
    "    words = [lemmatizer.lemmatize(word,get_wordnet_pos(word)) for word in word_list]\n",
    "    return  ' '.join(words)\n"
   ]
  },
  {
   "cell_type": "code",
   "execution_count": 38,
   "id": "44170a85",
   "metadata": {},
   "outputs": [],
   "source": [
    "data['lemm_text'] = data['clean_text'].apply(lemmatize_words)"
   ]
  },
  {
   "cell_type": "code",
   "execution_count": 40,
   "id": "69b5d1f5",
   "metadata": {},
   "outputs": [
    {
     "data": {
      "text/html": [
       "<div>\n",
       "<style scoped>\n",
       "    .dataframe tbody tr th:only-of-type {\n",
       "        vertical-align: middle;\n",
       "    }\n",
       "\n",
       "    .dataframe tbody tr th {\n",
       "        vertical-align: top;\n",
       "    }\n",
       "\n",
       "    .dataframe thead th {\n",
       "        text-align: right;\n",
       "    }\n",
       "</style>\n",
       "<table border=\"1\" class=\"dataframe\">\n",
       "  <thead>\n",
       "    <tr style=\"text-align: right;\">\n",
       "      <th></th>\n",
       "      <th>Movie</th>\n",
       "      <th>Level</th>\n",
       "      <th>raw_data</th>\n",
       "      <th>clean_text</th>\n",
       "      <th>lemm_text</th>\n",
       "    </tr>\n",
       "  </thead>\n",
       "  <tbody>\n",
       "    <tr>\n",
       "      <th>0</th>\n",
       "      <td>10_Cloverfield_lane(2016)</td>\n",
       "      <td>B1</td>\n",
       "      <td>&lt;font color=\"#ffff80\"&gt;&lt;b&gt;Fixed &amp; Synced by boz...</td>\n",
       "      <td>font color ffff b Fixed Synced by bozxphd Enjo...</td>\n",
       "      <td>font color ffff b Fixed Synced by bozxphd Enjo...</td>\n",
       "    </tr>\n",
       "    <tr>\n",
       "      <th>1</th>\n",
       "      <td>10_things_I_hate_about_you(1999)</td>\n",
       "      <td>B1</td>\n",
       "      <td>Hey!\\nI'll be right with you.\\nSo, Cameron. He...</td>\n",
       "      <td>Hey I ll be right with you So Cameron Here you...</td>\n",
       "      <td>Hey I ll be right with you So Cameron Here you...</td>\n",
       "    </tr>\n",
       "    <tr>\n",
       "      <th>2</th>\n",
       "      <td>A_knights_tale(2001)</td>\n",
       "      <td>B2</td>\n",
       "      <td>Resync: Xenzai[NEF]\\nRETAIL\\nShould we help hi...</td>\n",
       "      <td>Resync Xenzai NEF RETAIL Should we help him He...</td>\n",
       "      <td>Resync Xenzai NEF RETAIL Should we help him He...</td>\n",
       "    </tr>\n",
       "    <tr>\n",
       "      <th>3</th>\n",
       "      <td>A_star_is_born(2018)</td>\n",
       "      <td>B2</td>\n",
       "      <td>- &lt;i&gt;&lt;font color=\"#ffffff\"&gt; Synced and correct...</td>\n",
       "      <td>i font color ffffff Synced and corrected by fo...</td>\n",
       "      <td>i font color ffffff Synced and correct by font...</td>\n",
       "    </tr>\n",
       "    <tr>\n",
       "      <th>4</th>\n",
       "      <td>Aladdin(1992)</td>\n",
       "      <td>A</td>\n",
       "      <td>&lt;i&gt;Oh, I come from a land\\nFrom a faraway plac...</td>\n",
       "      <td>i Oh I come from a land From a faraway place i...</td>\n",
       "      <td>i Oh I come from a land From a faraway place i...</td>\n",
       "    </tr>\n",
       "  </tbody>\n",
       "</table>\n",
       "</div>"
      ],
      "text/plain": [
       "                              Movie Level  \\\n",
       "0         10_Cloverfield_lane(2016)    B1   \n",
       "1  10_things_I_hate_about_you(1999)    B1   \n",
       "2              A_knights_tale(2001)    B2   \n",
       "3              A_star_is_born(2018)    B2   \n",
       "4                     Aladdin(1992)     A   \n",
       "\n",
       "                                            raw_data  \\\n",
       "0  <font color=\"#ffff80\"><b>Fixed & Synced by boz...   \n",
       "1  Hey!\\nI'll be right with you.\\nSo, Cameron. He...   \n",
       "2  Resync: Xenzai[NEF]\\nRETAIL\\nShould we help hi...   \n",
       "3  - <i><font color=\"#ffffff\"> Synced and correct...   \n",
       "4  <i>Oh, I come from a land\\nFrom a faraway plac...   \n",
       "\n",
       "                                          clean_text  \\\n",
       "0  font color ffff b Fixed Synced by bozxphd Enjo...   \n",
       "1  Hey I ll be right with you So Cameron Here you...   \n",
       "2  Resync Xenzai NEF RETAIL Should we help him He...   \n",
       "3  i font color ffffff Synced and corrected by fo...   \n",
       "4  i Oh I come from a land From a faraway place i...   \n",
       "\n",
       "                                           lemm_text  \n",
       "0  font color ffff b Fixed Synced by bozxphd Enjo...  \n",
       "1  Hey I ll be right with you So Cameron Here you...  \n",
       "2  Resync Xenzai NEF RETAIL Should we help him He...  \n",
       "3  i font color ffffff Synced and correct by font...  \n",
       "4  i Oh I come from a land From a faraway place i...  "
      ]
     },
     "execution_count": 40,
     "metadata": {},
     "output_type": "execute_result"
    }
   ],
   "source": [
    "data.head(5)"
   ]
  },
  {
   "cell_type": "markdown",
   "id": "6c50bb40",
   "metadata": {},
   "source": [
    "## Обучение моделей"
   ]
  },
  {
   "cell_type": "markdown",
   "id": "97cf6b95",
   "metadata": {},
   "source": [
    "Разделим данные на тренировочную и тестовую выборки."
   ]
  },
  {
   "cell_type": "code",
   "execution_count": 41,
   "id": "f5025d1d",
   "metadata": {},
   "outputs": [
    {
     "name": "stderr",
     "output_type": "stream",
     "text": [
      "[nltk_data] Downloading package stopwords to\n",
      "[nltk_data]     C:\\Users\\79099\\AppData\\Roaming\\nltk_data...\n",
      "[nltk_data]   Package stopwords is already up-to-date!\n"
     ]
    }
   ],
   "source": [
    "nltk.download('stopwords')\n",
    "stop_words = set(nltk_stopwords.words('english'))"
   ]
  },
  {
   "cell_type": "code",
   "execution_count": 43,
   "id": "93a23d22",
   "metadata": {},
   "outputs": [],
   "source": [
    "features = data['lemm_text']\n",
    "target = data['Level']"
   ]
  },
  {
   "cell_type": "code",
   "execution_count": 44,
   "id": "06ea3556",
   "metadata": {},
   "outputs": [],
   "source": [
    "features_train, features_test, target_train, target_test = train_test_split(\n",
    "    features, target, test_size=0.20, random_state=12345)"
   ]
  },
  {
   "cell_type": "markdown",
   "id": "031ac04f",
   "metadata": {},
   "source": [
    "Создадим класс Switcher"
   ]
  },
  {
   "cell_type": "code",
   "execution_count": 47,
   "id": "2e2686f0",
   "metadata": {},
   "outputs": [],
   "source": [
    "class ClfSwitcher(BaseEstimator):\n",
    "\n",
    "    def __init__(\n",
    "        self, \n",
    "        estimator = SGDClassifier(),\n",
    "    ):\n",
    "\n",
    "        self.estimator = estimator\n",
    "\n",
    "\n",
    "    def fit(self, X, y=None, **kwargs):\n",
    "        self.estimator.fit(X, y)\n",
    "        return self\n",
    "\n",
    "\n",
    "    def predict(self, X, y=None):\n",
    "        return self.estimator.predict(X)\n",
    "\n",
    "\n",
    "    def predict_proba(self, X):\n",
    "        return self.estimator.predict_proba(X)\n",
    "\n",
    "\n",
    "    def score(self, X, y):\n",
    "        return self.estimator.score(X, y)"
   ]
  },
  {
   "cell_type": "markdown",
   "id": "cc3704e8",
   "metadata": {},
   "source": [
    "Обучаем модель."
   ]
  },
  {
   "cell_type": "code",
   "execution_count": 48,
   "id": "b13cc837",
   "metadata": {},
   "outputs": [],
   "source": [
    "pipeline = Pipeline([\n",
    "    ('tfidf', TfidfVectorizer()),\n",
    "    ('clf', ClfSwitcher()),\n",
    "])"
   ]
  },
  {
   "cell_type": "code",
   "execution_count": 49,
   "id": "72687a0c",
   "metadata": {},
   "outputs": [],
   "source": [
    "parameters = [\n",
    "    {\n",
    "        'clf__estimator': [SGDClassifier()], \n",
    "        'tfidf__max_df': (0.25, 0.5, 0.75, 1.0),\n",
    "        'tfidf__stop_words': ['english', None],\n",
    "        'clf__estimator__penalty': ('l2', 'elasticnet', 'l1'),\n",
    "        'clf__estimator__max_iter': [50, 80],\n",
    "        'clf__estimator__tol': [1e-4],\n",
    "        'clf__estimator__loss': ['hinge', 'log', 'modified_huber'],\n",
    "    },\n",
    "    {\n",
    "        'clf__estimator': [MultinomialNB()],\n",
    "        'tfidf__max_df': (0.25, 0.5, 0.75, 1.0),\n",
    "        'tfidf__stop_words': [None],\n",
    "        'clf__estimator__alpha': (1e-2, 1e-3, 1e-1),\n",
    "    },\n",
    "]"
   ]
  },
  {
   "cell_type": "code",
   "execution_count": 50,
   "id": "489d5b66",
   "metadata": {},
   "outputs": [
    {
     "name": "stdout",
     "output_type": "stream",
     "text": [
      "Fitting 5 folds for each of 156 candidates, totalling 780 fits\n"
     ]
    },
    {
     "data": {
      "text/plain": [
       "GridSearchCV(cv=5,\n",
       "             estimator=Pipeline(steps=[('tfidf', TfidfVectorizer()),\n",
       "                                       ('clf', ClfSwitcher())]),\n",
       "             n_jobs=12,\n",
       "             param_grid=[{'clf__estimator': [SGDClassifier()],\n",
       "                          'clf__estimator__loss': ['hinge', 'log',\n",
       "                                                   'modified_huber'],\n",
       "                          'clf__estimator__max_iter': [50, 80],\n",
       "                          'clf__estimator__penalty': ('l2', 'elasticnet', 'l1'),\n",
       "                          'clf__estimator__tol': [0.0001],\n",
       "                          'tfidf__max_df': (0.25, 0.5, 0.75, 1.0),\n",
       "                          'tfidf__stop_words': ['english', None]},\n",
       "                         {'clf__estimator': [MultinomialNB(alpha=0.01)],\n",
       "                          'clf__estimator__alpha': (0.01, 0.001, 0.1),\n",
       "                          'tfidf__max_df': (0.25, 0.5, 0.75, 1.0),\n",
       "                          'tfidf__stop_words': [None]}],\n",
       "             scoring='accuracy', verbose=3)"
      ]
     },
     "execution_count": 50,
     "metadata": {},
     "output_type": "execute_result"
    }
   ],
   "source": [
    "gscv = GridSearchCV(pipeline, parameters, cv=5, n_jobs=12, return_train_score=False, scoring='accuracy', verbose=3)\n",
    "gscv.fit(features_train, target_train)"
   ]
  },
  {
   "cell_type": "code",
   "execution_count": 51,
   "id": "403a5c68",
   "metadata": {},
   "outputs": [
    {
     "name": "stdout",
     "output_type": "stream",
     "text": [
      "Best parameter set: {'clf__estimator': MultinomialNB(alpha=0.01), 'clf__estimator__alpha': 0.01, 'tfidf__max_df': 0.25, 'tfidf__stop_words': None} \n",
      "CV Accuracy: 0.673\n"
     ]
    }
   ],
   "source": [
    "print('Best parameter set: %s ' % gscv.best_params_)\n",
    "print('CV Accuracy: %.3f' % gscv.best_score_)"
   ]
  },
  {
   "cell_type": "code",
   "execution_count": 52,
   "id": "24f17c6c",
   "metadata": {},
   "outputs": [],
   "source": [
    "model = gscv.best_estimator_"
   ]
  },
  {
   "cell_type": "markdown",
   "id": "3167fad2",
   "metadata": {},
   "source": [
    "Протестируем лучшую модель"
   ]
  },
  {
   "cell_type": "code",
   "execution_count": 53,
   "id": "b9e758b3",
   "metadata": {},
   "outputs": [
    {
     "name": "stdout",
     "output_type": "stream",
     "text": [
      "Test Accuracy: 0.574\n"
     ]
    }
   ],
   "source": [
    "print('Test Accuracy: %.3f' % model.score(features_test, target_test))"
   ]
  },
  {
   "cell_type": "code",
   "execution_count": null,
   "id": "7e14269e",
   "metadata": {},
   "outputs": [],
   "source": []
  }
 ],
 "metadata": {
  "kernelspec": {
   "display_name": "Python 3 (ipykernel)",
   "language": "python",
   "name": "python3"
  },
  "language_info": {
   "codemirror_mode": {
    "name": "ipython",
    "version": 3
   },
   "file_extension": ".py",
   "mimetype": "text/x-python",
   "name": "python",
   "nbconvert_exporter": "python",
   "pygments_lexer": "ipython3",
   "version": "3.9.16"
  }
 },
 "nbformat": 4,
 "nbformat_minor": 5
}
