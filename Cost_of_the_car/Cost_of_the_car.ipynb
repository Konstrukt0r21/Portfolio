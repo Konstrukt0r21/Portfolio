{
 "cells": [
  {
   "cell_type": "markdown",
   "metadata": {},
   "source": [
    "# Определение стоимости автомобилей"
   ]
  },
  {
   "cell_type": "markdown",
   "metadata": {},
   "source": [
    "Сервис по продаже автомобилей с пробегом разрабатывает приложение для привлечения новых клиентов. В нём можно быстро узнать рыночную стоимость своего автомобиля. В нашем распоряжении исторические данные: технические характеристики, комплектации и цены автомобилей. Нужно построить модель для определения стоимости. \n",
    "\n",
    "Заказчику важны:\n",
    "\n",
    "- качество предсказания;\n",
    "- скорость предсказания;\n",
    "- время обучения."
   ]
  },
  {
   "cell_type": "markdown",
   "metadata": {},
   "source": [
    "## Подготовка данных"
   ]
  },
  {
   "cell_type": "markdown",
   "metadata": {},
   "source": [
    "### Загрузка и первое знакомство с данными"
   ]
  },
  {
   "cell_type": "markdown",
   "metadata": {},
   "source": [
    "Загрузим фаил с данными и проведём первичное знакомство с ними."
   ]
  },
  {
   "cell_type": "code",
   "execution_count": 1,
   "metadata": {},
   "outputs": [],
   "source": [
    "import pandas as pd\n",
    "import matplotlib.pyplot as plt\n",
    "from sklearn.model_selection import train_test_split\n",
    "from sklearn.preprocessing import OrdinalEncoder \n",
    "from sklearn.preprocessing import StandardScaler\n",
    "import numpy as np\n",
    "from sklearn.ensemble import RandomForestRegressor\n",
    "from sklearn.metrics import mean_squared_error\n",
    "from catboost import CatBoostRegressor\n",
    "from lightgbm import LGBMRegressor\n",
    "from sklearn.preprocessing import LabelEncoder\n",
    "from sklearn.linear_model import LinearRegression\n",
    "# Импортируем библиотеки"
   ]
  },
  {
   "cell_type": "code",
   "execution_count": 2,
   "metadata": {},
   "outputs": [],
   "source": [
    "df = pd.read_csv ('/datasets/autos.csv')"
   ]
  },
  {
   "cell_type": "markdown",
   "metadata": {},
   "source": [
    "Создадим функцию для первичного знакомства с данными"
   ]
  },
  {
   "cell_type": "code",
   "execution_count": 3,
   "metadata": {},
   "outputs": [],
   "source": [
    "def first_look (df: pd.DataFrame, limit_na_category: int = 10) -> None:\n",
    "    '''Функция получения первичной информации о датафрейме'''\n",
    "    print ('------------- Первые 5 строк ------------')\n",
    "    display(df.head())\n",
    "    print('')\n",
    "    print('')\n",
    "    print ('------------- Типы данных ------------')\n",
    "    print (df.info())\n",
    "    print('')\n",
    "    print('')\n",
    "    print ('------------- Пропуски ------------')\n",
    "    count = 0\n",
    "    shape_0 = df.shape[0]\n",
    "    for element in df.columns:\n",
    "        if df[element].isna().sum() > 0:\n",
    "            print(element, ' - ', df[element].isna().sum(), 'пропусков, ', round(df[element].isna().sum() * 100 / shape_0,2), '% от числа строк.' )\n",
    "            count = +1\n",
    "    if count == 0:\n",
    "        print('Пропусков НЕТ')\n",
    "        print('')\n",
    "        print('')\n",
    "    print ('------------- Дубликаты ------------')\n",
    "    if df.duplicated().sum() > 0:\n",
    "        print('Дубликатов: ', df.duplicated().sum())\n",
    "    else:\n",
    "        print('Дубликатов НЕТ')\n",
    "    # ищем, есть ли категориальные столбцы (содержащие до limit_na_category уникальных значений) в датафрейме\n",
    "    min_unique = limit_na_category + 1\n",
    "    for element in df.columns:\n",
    "        min_unique = min(min_unique, df[element].nunique())\n",
    "        if min_unique <= limit_na_category:\n",
    "            print('')\n",
    "            print('')\n",
    "    print('------------- Категориальные признаки ------------')\n",
    "    for element in df.columns:\n",
    "        if df[element].nunique() <= limit_na_category:\n",
    "            print(element, ': ', df[element].nunique(), 'категории - ', df[element].unique(), )"
   ]
  },
  {
   "cell_type": "code",
   "execution_count": 4,
   "metadata": {},
   "outputs": [
    {
     "name": "stdout",
     "output_type": "stream",
     "text": [
      "------------- Первые 5 строк ------------\n"
     ]
    },
    {
     "data": {
      "text/html": [
       "<div>\n",
       "<style scoped>\n",
       "    .dataframe tbody tr th:only-of-type {\n",
       "        vertical-align: middle;\n",
       "    }\n",
       "\n",
       "    .dataframe tbody tr th {\n",
       "        vertical-align: top;\n",
       "    }\n",
       "\n",
       "    .dataframe thead th {\n",
       "        text-align: right;\n",
       "    }\n",
       "</style>\n",
       "<table border=\"1\" class=\"dataframe\">\n",
       "  <thead>\n",
       "    <tr style=\"text-align: right;\">\n",
       "      <th></th>\n",
       "      <th>DateCrawled</th>\n",
       "      <th>Price</th>\n",
       "      <th>VehicleType</th>\n",
       "      <th>RegistrationYear</th>\n",
       "      <th>Gearbox</th>\n",
       "      <th>Power</th>\n",
       "      <th>Model</th>\n",
       "      <th>Kilometer</th>\n",
       "      <th>RegistrationMonth</th>\n",
       "      <th>FuelType</th>\n",
       "      <th>Brand</th>\n",
       "      <th>NotRepaired</th>\n",
       "      <th>DateCreated</th>\n",
       "      <th>NumberOfPictures</th>\n",
       "      <th>PostalCode</th>\n",
       "      <th>LastSeen</th>\n",
       "    </tr>\n",
       "  </thead>\n",
       "  <tbody>\n",
       "    <tr>\n",
       "      <th>0</th>\n",
       "      <td>2016-03-24 11:52:17</td>\n",
       "      <td>480</td>\n",
       "      <td>NaN</td>\n",
       "      <td>1993</td>\n",
       "      <td>manual</td>\n",
       "      <td>0</td>\n",
       "      <td>golf</td>\n",
       "      <td>150000</td>\n",
       "      <td>0</td>\n",
       "      <td>petrol</td>\n",
       "      <td>volkswagen</td>\n",
       "      <td>NaN</td>\n",
       "      <td>2016-03-24 00:00:00</td>\n",
       "      <td>0</td>\n",
       "      <td>70435</td>\n",
       "      <td>2016-04-07 03:16:57</td>\n",
       "    </tr>\n",
       "    <tr>\n",
       "      <th>1</th>\n",
       "      <td>2016-03-24 10:58:45</td>\n",
       "      <td>18300</td>\n",
       "      <td>coupe</td>\n",
       "      <td>2011</td>\n",
       "      <td>manual</td>\n",
       "      <td>190</td>\n",
       "      <td>NaN</td>\n",
       "      <td>125000</td>\n",
       "      <td>5</td>\n",
       "      <td>gasoline</td>\n",
       "      <td>audi</td>\n",
       "      <td>yes</td>\n",
       "      <td>2016-03-24 00:00:00</td>\n",
       "      <td>0</td>\n",
       "      <td>66954</td>\n",
       "      <td>2016-04-07 01:46:50</td>\n",
       "    </tr>\n",
       "    <tr>\n",
       "      <th>2</th>\n",
       "      <td>2016-03-14 12:52:21</td>\n",
       "      <td>9800</td>\n",
       "      <td>suv</td>\n",
       "      <td>2004</td>\n",
       "      <td>auto</td>\n",
       "      <td>163</td>\n",
       "      <td>grand</td>\n",
       "      <td>125000</td>\n",
       "      <td>8</td>\n",
       "      <td>gasoline</td>\n",
       "      <td>jeep</td>\n",
       "      <td>NaN</td>\n",
       "      <td>2016-03-14 00:00:00</td>\n",
       "      <td>0</td>\n",
       "      <td>90480</td>\n",
       "      <td>2016-04-05 12:47:46</td>\n",
       "    </tr>\n",
       "    <tr>\n",
       "      <th>3</th>\n",
       "      <td>2016-03-17 16:54:04</td>\n",
       "      <td>1500</td>\n",
       "      <td>small</td>\n",
       "      <td>2001</td>\n",
       "      <td>manual</td>\n",
       "      <td>75</td>\n",
       "      <td>golf</td>\n",
       "      <td>150000</td>\n",
       "      <td>6</td>\n",
       "      <td>petrol</td>\n",
       "      <td>volkswagen</td>\n",
       "      <td>no</td>\n",
       "      <td>2016-03-17 00:00:00</td>\n",
       "      <td>0</td>\n",
       "      <td>91074</td>\n",
       "      <td>2016-03-17 17:40:17</td>\n",
       "    </tr>\n",
       "    <tr>\n",
       "      <th>4</th>\n",
       "      <td>2016-03-31 17:25:20</td>\n",
       "      <td>3600</td>\n",
       "      <td>small</td>\n",
       "      <td>2008</td>\n",
       "      <td>manual</td>\n",
       "      <td>69</td>\n",
       "      <td>fabia</td>\n",
       "      <td>90000</td>\n",
       "      <td>7</td>\n",
       "      <td>gasoline</td>\n",
       "      <td>skoda</td>\n",
       "      <td>no</td>\n",
       "      <td>2016-03-31 00:00:00</td>\n",
       "      <td>0</td>\n",
       "      <td>60437</td>\n",
       "      <td>2016-04-06 10:17:21</td>\n",
       "    </tr>\n",
       "  </tbody>\n",
       "</table>\n",
       "</div>"
      ],
      "text/plain": [
       "           DateCrawled  Price VehicleType  RegistrationYear Gearbox  Power  \\\n",
       "0  2016-03-24 11:52:17    480         NaN              1993  manual      0   \n",
       "1  2016-03-24 10:58:45  18300       coupe              2011  manual    190   \n",
       "2  2016-03-14 12:52:21   9800         suv              2004    auto    163   \n",
       "3  2016-03-17 16:54:04   1500       small              2001  manual     75   \n",
       "4  2016-03-31 17:25:20   3600       small              2008  manual     69   \n",
       "\n",
       "   Model  Kilometer  RegistrationMonth  FuelType       Brand NotRepaired  \\\n",
       "0   golf     150000                  0    petrol  volkswagen         NaN   \n",
       "1    NaN     125000                  5  gasoline        audi         yes   \n",
       "2  grand     125000                  8  gasoline        jeep         NaN   \n",
       "3   golf     150000                  6    petrol  volkswagen          no   \n",
       "4  fabia      90000                  7  gasoline       skoda          no   \n",
       "\n",
       "           DateCreated  NumberOfPictures  PostalCode             LastSeen  \n",
       "0  2016-03-24 00:00:00                 0       70435  2016-04-07 03:16:57  \n",
       "1  2016-03-24 00:00:00                 0       66954  2016-04-07 01:46:50  \n",
       "2  2016-03-14 00:00:00                 0       90480  2016-04-05 12:47:46  \n",
       "3  2016-03-17 00:00:00                 0       91074  2016-03-17 17:40:17  \n",
       "4  2016-03-31 00:00:00                 0       60437  2016-04-06 10:17:21  "
      ]
     },
     "metadata": {},
     "output_type": "display_data"
    },
    {
     "name": "stdout",
     "output_type": "stream",
     "text": [
      "\n",
      "\n",
      "------------- Типы данных ------------\n",
      "<class 'pandas.core.frame.DataFrame'>\n",
      "RangeIndex: 354369 entries, 0 to 354368\n",
      "Data columns (total 16 columns):\n",
      " #   Column             Non-Null Count   Dtype \n",
      "---  ------             --------------   ----- \n",
      " 0   DateCrawled        354369 non-null  object\n",
      " 1   Price              354369 non-null  int64 \n",
      " 2   VehicleType        316879 non-null  object\n",
      " 3   RegistrationYear   354369 non-null  int64 \n",
      " 4   Gearbox            334536 non-null  object\n",
      " 5   Power              354369 non-null  int64 \n",
      " 6   Model              334664 non-null  object\n",
      " 7   Kilometer          354369 non-null  int64 \n",
      " 8   RegistrationMonth  354369 non-null  int64 \n",
      " 9   FuelType           321474 non-null  object\n",
      " 10  Brand              354369 non-null  object\n",
      " 11  NotRepaired        283215 non-null  object\n",
      " 12  DateCreated        354369 non-null  object\n",
      " 13  NumberOfPictures   354369 non-null  int64 \n",
      " 14  PostalCode         354369 non-null  int64 \n",
      " 15  LastSeen           354369 non-null  object\n",
      "dtypes: int64(7), object(9)\n",
      "memory usage: 43.3+ MB\n",
      "None\n",
      "\n",
      "\n",
      "------------- Пропуски ------------\n",
      "VehicleType  -  37490 пропусков,  10.58 % от числа строк.\n",
      "Gearbox  -  19833 пропусков,  5.6 % от числа строк.\n",
      "Model  -  19705 пропусков,  5.56 % от числа строк.\n",
      "FuelType  -  32895 пропусков,  9.28 % от числа строк.\n",
      "NotRepaired  -  71154 пропусков,  20.08 % от числа строк.\n",
      "------------- Дубликаты ------------\n",
      "Дубликатов:  4\n",
      "\n",
      "\n",
      "\n",
      "\n",
      "\n",
      "\n",
      "\n",
      "\n",
      "\n",
      "\n",
      "\n",
      "\n",
      "\n",
      "\n",
      "\n",
      "\n",
      "\n",
      "\n",
      "\n",
      "\n",
      "\n",
      "\n",
      "\n",
      "\n",
      "\n",
      "\n",
      "\n",
      "\n",
      "------------- Категориальные признаки ------------\n",
      "VehicleType :  8 категории -  [nan 'coupe' 'suv' 'small' 'sedan' 'convertible' 'bus' 'wagon' 'other']\n",
      "Gearbox :  2 категории -  ['manual' 'auto' nan]\n",
      "FuelType :  7 категории -  ['petrol' 'gasoline' nan 'lpg' 'other' 'hybrid' 'cng' 'electric']\n",
      "NotRepaired :  2 категории -  [nan 'yes' 'no']\n",
      "NumberOfPictures :  1 категории -  [0]\n"
     ]
    }
   ],
   "source": [
    "first_look(df)"
   ]
  },
  {
   "cell_type": "markdown",
   "metadata": {},
   "source": [
    "**Вывод**\n",
    "\n",
    "Перед нами датафрейм состоящий из 16 столбцов и 354369 строк. \n",
    "\n",
    "Признаки:\n",
    "- DateCrawled — дата скачивания анкеты из базы\n",
    "- VehicleType — тип автомобильного кузова\n",
    "- RegistrationYear — год регистрации автомобиля\n",
    "- Gearbox — тип коробки передач\n",
    "- Power — мощность (л. с.)\n",
    "- Model — модель автомобиля\n",
    "- Kilometer — пробег (км)\n",
    "- RegistrationMonth — месяц регистрации автомобиля\n",
    "- FuelType — тип топлива\n",
    "- Brand — марка автомобиля\n",
    "- NotRepaired — была машина в ремонте или нет\n",
    "- DateCreated — дата создания анкеты\n",
    "- NumberOfPictures — количество фотографий автомобиля\n",
    "- PostalCode — почтовый индекс владельца анкеты (пользователя)\n",
    "- LastSeen — дата последней активности пользователя\n",
    "\n",
    "Целевой признак:\n",
    "- Price — цена (евро)\n",
    "\n",
    "Обнаружено 4 дубликата, их просто удалим. \n",
    "Некоторые столбцы имеют пропуски, разберёмся, что с ними делать:\n",
    "\n",
    "- VehicleType мы заполнить не можем, даже одна и та же модель может иметь разные типы кузовов и это значимый фактор влияющий на цену автомобиля, просто удалим.\n",
    "- Gearbox, Model, FuelType, NotRepaired мы тоже заполнить не можем все эти факторы влияют на цену автомобиля и невозможно выявить зависимость их, от других факторов"
   ]
  },
  {
   "cell_type": "markdown",
   "metadata": {},
   "source": [
    "### Работа с пропусками и дубликатами"
   ]
  },
  {
   "cell_type": "markdown",
   "metadata": {},
   "source": [
    "Заполним пропуски в столбце \"NotRepaired\" значениями \"no\" по всей видимости могли не указать отсутствие ремонта.\n",
    "В столбце \"VehicleType\" пропуски заполним значением \"not_specified\" (не указан).\n",
    "Остальные пропуски просто удлим."
   ]
  },
  {
   "cell_type": "code",
   "execution_count": 5,
   "metadata": {},
   "outputs": [],
   "source": [
    "df['NotRepaired'] = df['NotRepaired'].fillna('no')\n",
    "df['VehicleType'] = df['VehicleType'].fillna('not_specified')\n",
    "df = df.dropna().reset_index(drop=True)"
   ]
  },
  {
   "cell_type": "code",
   "execution_count": 6,
   "metadata": {},
   "outputs": [
    {
     "data": {
      "text/plain": [
       "0"
      ]
     },
     "execution_count": 6,
     "metadata": {},
     "output_type": "execute_result"
    }
   ],
   "source": [
    "df = df.drop_duplicates()\n",
    "df.duplicated().sum()"
   ]
  },
  {
   "cell_type": "markdown",
   "metadata": {},
   "source": [
    "**Вывод**\n",
    "\n",
    "Удалили дубликаты, заполнили пропуски в столбце (NotRepaired) и (VehicleType), остальные пропуски удалили."
   ]
  },
  {
   "cell_type": "markdown",
   "metadata": {},
   "source": [
    "### Определение значимых признаков"
   ]
  },
  {
   "cell_type": "markdown",
   "metadata": {},
   "source": [
    "Для определения цены автомобиля, значимыми признаками являются: тип автомобильного кузова (VehicleType), год регистрации автомобиля (RegistrationYear), тип коробки передач (Gearbox), мощность (Power), модель автомобиля (Model), пробег (Kilometer), тип топлива (FuelType), марка автомобиля (Brand), была машина в ремонте или нет (NotRepaired). Эти признаки оставим, остальные столбцы удалим.  "
   ]
  },
  {
   "cell_type": "markdown",
   "metadata": {},
   "source": [
    "Кроме того удалим столбец количество фотографий автомобиля (NumberOfPictures), т.к. там только одно значение \"0\". По всей видимости приложение не предусматривает добавление фотографий, есть над чем работать. "
   ]
  },
  {
   "cell_type": "code",
   "execution_count": 7,
   "metadata": {},
   "outputs": [],
   "source": [
    "df = df.drop(['DateCrawled', 'RegistrationMonth', 'DateCreated', 'PostalCode', 'LastSeen', 'NumberOfPictures'], axis=1)"
   ]
  },
  {
   "cell_type": "code",
   "execution_count": 8,
   "metadata": {},
   "outputs": [
    {
     "data": {
      "text/html": [
       "<div>\n",
       "<style scoped>\n",
       "    .dataframe tbody tr th:only-of-type {\n",
       "        vertical-align: middle;\n",
       "    }\n",
       "\n",
       "    .dataframe tbody tr th {\n",
       "        vertical-align: top;\n",
       "    }\n",
       "\n",
       "    .dataframe thead th {\n",
       "        text-align: right;\n",
       "    }\n",
       "</style>\n",
       "<table border=\"1\" class=\"dataframe\">\n",
       "  <thead>\n",
       "    <tr style=\"text-align: right;\">\n",
       "      <th></th>\n",
       "      <th>Price</th>\n",
       "      <th>VehicleType</th>\n",
       "      <th>RegistrationYear</th>\n",
       "      <th>Gearbox</th>\n",
       "      <th>Power</th>\n",
       "      <th>Model</th>\n",
       "      <th>Kilometer</th>\n",
       "      <th>FuelType</th>\n",
       "      <th>Brand</th>\n",
       "      <th>NotRepaired</th>\n",
       "    </tr>\n",
       "  </thead>\n",
       "  <tbody>\n",
       "    <tr>\n",
       "      <th>0</th>\n",
       "      <td>480</td>\n",
       "      <td>not_specified</td>\n",
       "      <td>1993</td>\n",
       "      <td>manual</td>\n",
       "      <td>0</td>\n",
       "      <td>golf</td>\n",
       "      <td>150000</td>\n",
       "      <td>petrol</td>\n",
       "      <td>volkswagen</td>\n",
       "      <td>no</td>\n",
       "    </tr>\n",
       "    <tr>\n",
       "      <th>1</th>\n",
       "      <td>9800</td>\n",
       "      <td>suv</td>\n",
       "      <td>2004</td>\n",
       "      <td>auto</td>\n",
       "      <td>163</td>\n",
       "      <td>grand</td>\n",
       "      <td>125000</td>\n",
       "      <td>gasoline</td>\n",
       "      <td>jeep</td>\n",
       "      <td>no</td>\n",
       "    </tr>\n",
       "    <tr>\n",
       "      <th>2</th>\n",
       "      <td>1500</td>\n",
       "      <td>small</td>\n",
       "      <td>2001</td>\n",
       "      <td>manual</td>\n",
       "      <td>75</td>\n",
       "      <td>golf</td>\n",
       "      <td>150000</td>\n",
       "      <td>petrol</td>\n",
       "      <td>volkswagen</td>\n",
       "      <td>no</td>\n",
       "    </tr>\n",
       "    <tr>\n",
       "      <th>3</th>\n",
       "      <td>3600</td>\n",
       "      <td>small</td>\n",
       "      <td>2008</td>\n",
       "      <td>manual</td>\n",
       "      <td>69</td>\n",
       "      <td>fabia</td>\n",
       "      <td>90000</td>\n",
       "      <td>gasoline</td>\n",
       "      <td>skoda</td>\n",
       "      <td>no</td>\n",
       "    </tr>\n",
       "    <tr>\n",
       "      <th>4</th>\n",
       "      <td>650</td>\n",
       "      <td>sedan</td>\n",
       "      <td>1995</td>\n",
       "      <td>manual</td>\n",
       "      <td>102</td>\n",
       "      <td>3er</td>\n",
       "      <td>150000</td>\n",
       "      <td>petrol</td>\n",
       "      <td>bmw</td>\n",
       "      <td>yes</td>\n",
       "    </tr>\n",
       "  </tbody>\n",
       "</table>\n",
       "</div>"
      ],
      "text/plain": [
       "   Price    VehicleType  RegistrationYear Gearbox  Power  Model  Kilometer  \\\n",
       "0    480  not_specified              1993  manual      0   golf     150000   \n",
       "1   9800            suv              2004    auto    163  grand     125000   \n",
       "2   1500          small              2001  manual     75   golf     150000   \n",
       "3   3600          small              2008  manual     69  fabia      90000   \n",
       "4    650          sedan              1995  manual    102    3er     150000   \n",
       "\n",
       "   FuelType       Brand NotRepaired  \n",
       "0    petrol  volkswagen          no  \n",
       "1  gasoline        jeep          no  \n",
       "2    petrol  volkswagen          no  \n",
       "3  gasoline       skoda          no  \n",
       "4    petrol         bmw         yes  "
      ]
     },
     "execution_count": 8,
     "metadata": {},
     "output_type": "execute_result"
    }
   ],
   "source": [
    "df.head(5)"
   ]
  },
  {
   "cell_type": "markdown",
   "metadata": {},
   "source": [
    "**Вывод** В датафрейме оставили только те признаки, которые влияют на стоимость автомобиля."
   ]
  },
  {
   "cell_type": "markdown",
   "metadata": {},
   "source": [
    "### Взгляд на данные после первичной предобработки"
   ]
  },
  {
   "cell_type": "markdown",
   "metadata": {},
   "source": [
    "Снова взглянем на данные после первичной обработки"
   ]
  },
  {
   "cell_type": "code",
   "execution_count": 9,
   "metadata": {},
   "outputs": [
    {
     "name": "stdout",
     "output_type": "stream",
     "text": [
      "------------- Первые 5 строк ------------\n"
     ]
    },
    {
     "data": {
      "text/html": [
       "<div>\n",
       "<style scoped>\n",
       "    .dataframe tbody tr th:only-of-type {\n",
       "        vertical-align: middle;\n",
       "    }\n",
       "\n",
       "    .dataframe tbody tr th {\n",
       "        vertical-align: top;\n",
       "    }\n",
       "\n",
       "    .dataframe thead th {\n",
       "        text-align: right;\n",
       "    }\n",
       "</style>\n",
       "<table border=\"1\" class=\"dataframe\">\n",
       "  <thead>\n",
       "    <tr style=\"text-align: right;\">\n",
       "      <th></th>\n",
       "      <th>Price</th>\n",
       "      <th>VehicleType</th>\n",
       "      <th>RegistrationYear</th>\n",
       "      <th>Gearbox</th>\n",
       "      <th>Power</th>\n",
       "      <th>Model</th>\n",
       "      <th>Kilometer</th>\n",
       "      <th>FuelType</th>\n",
       "      <th>Brand</th>\n",
       "      <th>NotRepaired</th>\n",
       "    </tr>\n",
       "  </thead>\n",
       "  <tbody>\n",
       "    <tr>\n",
       "      <th>0</th>\n",
       "      <td>480</td>\n",
       "      <td>not_specified</td>\n",
       "      <td>1993</td>\n",
       "      <td>manual</td>\n",
       "      <td>0</td>\n",
       "      <td>golf</td>\n",
       "      <td>150000</td>\n",
       "      <td>petrol</td>\n",
       "      <td>volkswagen</td>\n",
       "      <td>no</td>\n",
       "    </tr>\n",
       "    <tr>\n",
       "      <th>1</th>\n",
       "      <td>9800</td>\n",
       "      <td>suv</td>\n",
       "      <td>2004</td>\n",
       "      <td>auto</td>\n",
       "      <td>163</td>\n",
       "      <td>grand</td>\n",
       "      <td>125000</td>\n",
       "      <td>gasoline</td>\n",
       "      <td>jeep</td>\n",
       "      <td>no</td>\n",
       "    </tr>\n",
       "    <tr>\n",
       "      <th>2</th>\n",
       "      <td>1500</td>\n",
       "      <td>small</td>\n",
       "      <td>2001</td>\n",
       "      <td>manual</td>\n",
       "      <td>75</td>\n",
       "      <td>golf</td>\n",
       "      <td>150000</td>\n",
       "      <td>petrol</td>\n",
       "      <td>volkswagen</td>\n",
       "      <td>no</td>\n",
       "    </tr>\n",
       "    <tr>\n",
       "      <th>3</th>\n",
       "      <td>3600</td>\n",
       "      <td>small</td>\n",
       "      <td>2008</td>\n",
       "      <td>manual</td>\n",
       "      <td>69</td>\n",
       "      <td>fabia</td>\n",
       "      <td>90000</td>\n",
       "      <td>gasoline</td>\n",
       "      <td>skoda</td>\n",
       "      <td>no</td>\n",
       "    </tr>\n",
       "    <tr>\n",
       "      <th>4</th>\n",
       "      <td>650</td>\n",
       "      <td>sedan</td>\n",
       "      <td>1995</td>\n",
       "      <td>manual</td>\n",
       "      <td>102</td>\n",
       "      <td>3er</td>\n",
       "      <td>150000</td>\n",
       "      <td>petrol</td>\n",
       "      <td>bmw</td>\n",
       "      <td>yes</td>\n",
       "    </tr>\n",
       "  </tbody>\n",
       "</table>\n",
       "</div>"
      ],
      "text/plain": [
       "   Price    VehicleType  RegistrationYear Gearbox  Power  Model  Kilometer  \\\n",
       "0    480  not_specified              1993  manual      0   golf     150000   \n",
       "1   9800            suv              2004    auto    163  grand     125000   \n",
       "2   1500          small              2001  manual     75   golf     150000   \n",
       "3   3600          small              2008  manual     69  fabia      90000   \n",
       "4    650          sedan              1995  manual    102    3er     150000   \n",
       "\n",
       "   FuelType       Brand NotRepaired  \n",
       "0    petrol  volkswagen          no  \n",
       "1  gasoline        jeep          no  \n",
       "2    petrol  volkswagen          no  \n",
       "3  gasoline       skoda          no  \n",
       "4    petrol         bmw         yes  "
      ]
     },
     "metadata": {},
     "output_type": "display_data"
    },
    {
     "name": "stdout",
     "output_type": "stream",
     "text": [
      "\n",
      "\n",
      "------------- Типы данных ------------\n",
      "<class 'pandas.core.frame.DataFrame'>\n",
      "Int64Index: 299223 entries, 0 to 299227\n",
      "Data columns (total 10 columns):\n",
      " #   Column            Non-Null Count   Dtype \n",
      "---  ------            --------------   ----- \n",
      " 0   Price             299223 non-null  int64 \n",
      " 1   VehicleType       299223 non-null  object\n",
      " 2   RegistrationYear  299223 non-null  int64 \n",
      " 3   Gearbox           299223 non-null  object\n",
      " 4   Power             299223 non-null  int64 \n",
      " 5   Model             299223 non-null  object\n",
      " 6   Kilometer         299223 non-null  int64 \n",
      " 7   FuelType          299223 non-null  object\n",
      " 8   Brand             299223 non-null  object\n",
      " 9   NotRepaired       299223 non-null  object\n",
      "dtypes: int64(4), object(6)\n",
      "memory usage: 25.1+ MB\n",
      "None\n",
      "\n",
      "\n",
      "------------- Пропуски ------------\n",
      "Пропусков НЕТ\n",
      "\n",
      "\n",
      "------------- Дубликаты ------------\n",
      "Дубликатов:  47572\n",
      "\n",
      "\n",
      "\n",
      "\n",
      "\n",
      "\n",
      "\n",
      "\n",
      "\n",
      "\n",
      "\n",
      "\n",
      "\n",
      "\n",
      "\n",
      "\n",
      "\n",
      "\n",
      "------------- Категориальные признаки ------------\n",
      "VehicleType :  9 категории -  ['not_specified' 'suv' 'small' 'sedan' 'convertible' 'bus' 'wagon' 'coupe'\n",
      " 'other']\n",
      "Gearbox :  2 категории -  ['manual' 'auto']\n",
      "FuelType :  7 категории -  ['petrol' 'gasoline' 'lpg' 'other' 'hybrid' 'cng' 'electric']\n",
      "NotRepaired :  2 категории -  ['no' 'yes']\n"
     ]
    }
   ],
   "source": [
    "first_look(df)"
   ]
  },
  {
   "cell_type": "markdown",
   "metadata": {},
   "source": [
    "### Вывод"
   ]
  },
  {
   "cell_type": "markdown",
   "metadata": {},
   "source": [
    "Данные прошли первичную предобработку. В результате проделанных выше действий у нас получился датафрейм состоящий из 10 столбцов и 299223 строки. Не содержащий пропуски и дубликаты."
   ]
  },
  {
   "cell_type": "markdown",
   "metadata": {},
   "source": [
    "## Статистический анализ даных"
   ]
  },
  {
   "cell_type": "markdown",
   "metadata": {},
   "source": [
    "Посмотрим по внимательней на полученные данные"
   ]
  },
  {
   "cell_type": "code",
   "execution_count": 10,
   "metadata": {},
   "outputs": [
    {
     "data": {
      "text/html": [
       "<div>\n",
       "<style scoped>\n",
       "    .dataframe tbody tr th:only-of-type {\n",
       "        vertical-align: middle;\n",
       "    }\n",
       "\n",
       "    .dataframe tbody tr th {\n",
       "        vertical-align: top;\n",
       "    }\n",
       "\n",
       "    .dataframe thead th {\n",
       "        text-align: right;\n",
       "    }\n",
       "</style>\n",
       "<table border=\"1\" class=\"dataframe\">\n",
       "  <thead>\n",
       "    <tr style=\"text-align: right;\">\n",
       "      <th></th>\n",
       "      <th>Price</th>\n",
       "      <th>RegistrationYear</th>\n",
       "      <th>Power</th>\n",
       "      <th>Kilometer</th>\n",
       "    </tr>\n",
       "  </thead>\n",
       "  <tbody>\n",
       "    <tr>\n",
       "      <th>count</th>\n",
       "      <td>299223.000000</td>\n",
       "      <td>299223.000000</td>\n",
       "      <td>299223.000000</td>\n",
       "      <td>299223.000000</td>\n",
       "    </tr>\n",
       "    <tr>\n",
       "      <th>mean</th>\n",
       "      <td>4743.272265</td>\n",
       "      <td>2003.206903</td>\n",
       "      <td>115.846466</td>\n",
       "      <td>128490.373400</td>\n",
       "    </tr>\n",
       "    <tr>\n",
       "      <th>std</th>\n",
       "      <td>4604.413622</td>\n",
       "      <td>24.504382</td>\n",
       "      <td>172.614757</td>\n",
       "      <td>36696.673076</td>\n",
       "    </tr>\n",
       "    <tr>\n",
       "      <th>min</th>\n",
       "      <td>0.000000</td>\n",
       "      <td>1000.000000</td>\n",
       "      <td>0.000000</td>\n",
       "      <td>5000.000000</td>\n",
       "    </tr>\n",
       "    <tr>\n",
       "      <th>25%</th>\n",
       "      <td>1250.000000</td>\n",
       "      <td>1999.000000</td>\n",
       "      <td>75.000000</td>\n",
       "      <td>125000.000000</td>\n",
       "    </tr>\n",
       "    <tr>\n",
       "      <th>50%</th>\n",
       "      <td>3000.000000</td>\n",
       "      <td>2003.000000</td>\n",
       "      <td>108.000000</td>\n",
       "      <td>150000.000000</td>\n",
       "    </tr>\n",
       "    <tr>\n",
       "      <th>75%</th>\n",
       "      <td>6900.000000</td>\n",
       "      <td>2007.000000</td>\n",
       "      <td>144.000000</td>\n",
       "      <td>150000.000000</td>\n",
       "    </tr>\n",
       "    <tr>\n",
       "      <th>max</th>\n",
       "      <td>20000.000000</td>\n",
       "      <td>9000.000000</td>\n",
       "      <td>20000.000000</td>\n",
       "      <td>150000.000000</td>\n",
       "    </tr>\n",
       "  </tbody>\n",
       "</table>\n",
       "</div>"
      ],
      "text/plain": [
       "               Price  RegistrationYear          Power      Kilometer\n",
       "count  299223.000000     299223.000000  299223.000000  299223.000000\n",
       "mean     4743.272265       2003.206903     115.846466  128490.373400\n",
       "std      4604.413622         24.504382     172.614757   36696.673076\n",
       "min         0.000000       1000.000000       0.000000    5000.000000\n",
       "25%      1250.000000       1999.000000      75.000000  125000.000000\n",
       "50%      3000.000000       2003.000000     108.000000  150000.000000\n",
       "75%      6900.000000       2007.000000     144.000000  150000.000000\n",
       "max     20000.000000       9000.000000   20000.000000  150000.000000"
      ]
     },
     "execution_count": 10,
     "metadata": {},
     "output_type": "execute_result"
    }
   ],
   "source": [
    "df.describe()"
   ]
  },
  {
   "cell_type": "markdown",
   "metadata": {},
   "source": [
    "Первичный взгляд на данные вызывает ряд вопросов:\n",
    "- Наличие бесплатных автомобилей (скорее всего какая то ошибка с занесением данных)\n",
    "- Год регистрации автомобиля 1910, тоже сомнительно\n",
    "- Мощность: не бывает автомобилей с мощностью 20 тыс лошадиных сил да и минимальное значение 0 тоже вызывает вопросы\n",
    "\n",
    "Будем постепенно разбиратся."
   ]
  },
  {
   "cell_type": "markdown",
   "metadata": {},
   "source": [
    "Ограничим минимальную мощность 50 л.с., минимальную цену 100 евро (врятли можно купить автомобиль дешевле) кроме того ограничим максимальноу мощность 600 л.с. (гражданских автомобилей с большей мощностью практически не существует) и год регистрации возьмём больше 1980."
   ]
  },
  {
   "cell_type": "code",
   "execution_count": 11,
   "metadata": {},
   "outputs": [],
   "source": [
    "df = df.query('Price > 100').reset_index(drop=True)\n",
    "df = df.query('Power < 600').reset_index(drop=True)\n",
    "df = df.query('Power > 50').reset_index(drop=True)\n",
    "df = df.query('2022 >= RegistrationYear >= 1980').reset_index(drop=True)"
   ]
  },
  {
   "cell_type": "markdown",
   "metadata": {},
   "source": [
    "Теперь построим гистограммы количества объявлений по указанным выше показателям."
   ]
  },
  {
   "cell_type": "code",
   "execution_count": 12,
   "metadata": {},
   "outputs": [
    {
     "data": {
      "image/png": "[encoded data removed]",
      "text/plain": [
       "<Figure size 432x288 with 1 Axes>"
      ]
     },
     "metadata": {
      "needs_background": "light"
     },
     "output_type": "display_data"
    }
   ],
   "source": [
    "plt.hist(df['RegistrationYear'], bins=20)\n",
    "plt.title('Гистограмма количества объявлений по году регистрации')\n",
    "plt.xlabel('Год регистрации')\n",
    "plt.ylabel('Количество объявлений')\n",
    "plt.show()"
   ]
  },
  {
   "cell_type": "code",
   "execution_count": 13,
   "metadata": {},
   "outputs": [
    {
     "data": {
      "image/png": "[encoded data removed]",
      "text/plain": [
       "<Figure size 432x288 with 1 Axes>"
      ]
     },
     "metadata": {
      "needs_background": "light"
     },
     "output_type": "display_data"
    }
   ],
   "source": [
    "plt.hist(df['Price'], bins=50)\n",
    "plt.title('Гистограмма количества объявлений по цене')\n",
    "plt.xlabel('Цена')\n",
    "plt.ylabel('Количество объявлений')\n",
    "plt.show()"
   ]
  },
  {
   "cell_type": "code",
   "execution_count": 14,
   "metadata": {},
   "outputs": [
    {
     "data": {
      "image/png": "[encoded data removed]",
      "text/plain": [
       "<Figure size 432x288 with 1 Axes>"
      ]
     },
     "metadata": {
      "needs_background": "light"
     },
     "output_type": "display_data"
    }
   ],
   "source": [
    "plt.hist(df['Power'], bins=70)\n",
    "plt.title('Гистограмма количества объявлений по мощности')\n",
    "plt.xlabel('Мощность')\n",
    "plt.ylabel('Количество объявлений')\n",
    "plt.show()"
   ]
  },
  {
   "cell_type": "markdown",
   "metadata": {},
   "source": [
    "Снова взглянем на данные"
   ]
  },
  {
   "cell_type": "code",
   "execution_count": 15,
   "metadata": {},
   "outputs": [
    {
     "data": {
      "text/html": [
       "<div>\n",
       "<style scoped>\n",
       "    .dataframe tbody tr th:only-of-type {\n",
       "        vertical-align: middle;\n",
       "    }\n",
       "\n",
       "    .dataframe tbody tr th {\n",
       "        vertical-align: top;\n",
       "    }\n",
       "\n",
       "    .dataframe thead th {\n",
       "        text-align: right;\n",
       "    }\n",
       "</style>\n",
       "<table border=\"1\" class=\"dataframe\">\n",
       "  <thead>\n",
       "    <tr style=\"text-align: right;\">\n",
       "      <th></th>\n",
       "      <th>Price</th>\n",
       "      <th>RegistrationYear</th>\n",
       "      <th>Power</th>\n",
       "      <th>Kilometer</th>\n",
       "    </tr>\n",
       "  </thead>\n",
       "  <tbody>\n",
       "    <tr>\n",
       "      <th>count</th>\n",
       "      <td>263732.000000</td>\n",
       "      <td>263732.000000</td>\n",
       "      <td>263732.000000</td>\n",
       "      <td>263732.000000</td>\n",
       "    </tr>\n",
       "    <tr>\n",
       "      <th>mean</th>\n",
       "      <td>5107.145674</td>\n",
       "      <td>2003.556652</td>\n",
       "      <td>123.586823</td>\n",
       "      <td>128237.036082</td>\n",
       "    </tr>\n",
       "    <tr>\n",
       "      <th>std</th>\n",
       "      <td>4644.924976</td>\n",
       "      <td>5.950558</td>\n",
       "      <td>52.368277</td>\n",
       "      <td>36480.515901</td>\n",
       "    </tr>\n",
       "    <tr>\n",
       "      <th>min</th>\n",
       "      <td>101.000000</td>\n",
       "      <td>1980.000000</td>\n",
       "      <td>51.000000</td>\n",
       "      <td>5000.000000</td>\n",
       "    </tr>\n",
       "    <tr>\n",
       "      <th>25%</th>\n",
       "      <td>1500.000000</td>\n",
       "      <td>1999.000000</td>\n",
       "      <td>84.000000</td>\n",
       "      <td>125000.000000</td>\n",
       "    </tr>\n",
       "    <tr>\n",
       "      <th>50%</th>\n",
       "      <td>3500.000000</td>\n",
       "      <td>2004.000000</td>\n",
       "      <td>116.000000</td>\n",
       "      <td>150000.000000</td>\n",
       "    </tr>\n",
       "    <tr>\n",
       "      <th>75%</th>\n",
       "      <td>7400.000000</td>\n",
       "      <td>2008.000000</td>\n",
       "      <td>150.000000</td>\n",
       "      <td>150000.000000</td>\n",
       "    </tr>\n",
       "    <tr>\n",
       "      <th>max</th>\n",
       "      <td>20000.000000</td>\n",
       "      <td>2019.000000</td>\n",
       "      <td>585.000000</td>\n",
       "      <td>150000.000000</td>\n",
       "    </tr>\n",
       "  </tbody>\n",
       "</table>\n",
       "</div>"
      ],
      "text/plain": [
       "               Price  RegistrationYear          Power      Kilometer\n",
       "count  263732.000000     263732.000000  263732.000000  263732.000000\n",
       "mean     5107.145674       2003.556652     123.586823  128237.036082\n",
       "std      4644.924976          5.950558      52.368277   36480.515901\n",
       "min       101.000000       1980.000000      51.000000    5000.000000\n",
       "25%      1500.000000       1999.000000      84.000000  125000.000000\n",
       "50%      3500.000000       2004.000000     116.000000  150000.000000\n",
       "75%      7400.000000       2008.000000     150.000000  150000.000000\n",
       "max     20000.000000       2019.000000     585.000000  150000.000000"
      ]
     },
     "execution_count": 15,
     "metadata": {},
     "output_type": "execute_result"
    }
   ],
   "source": [
    "df.describe()"
   ]
  },
  {
   "cell_type": "markdown",
   "metadata": {},
   "source": [
    "### Вывод"
   ]
  },
  {
   "cell_type": "markdown",
   "metadata": {},
   "source": [
    "После всех преобразований, мы получили средний автомобиль: зарегистрирован в 2004 году, мощностью 116 л.с с пробегом 150 тыс км и ценой около 5000 Евро."
   ]
  },
  {
   "cell_type": "markdown",
   "metadata": {},
   "source": [
    "## Обучение моделей"
   ]
  },
  {
   "cell_type": "markdown",
   "metadata": {},
   "source": [
    "### Разделение датафрейма на тренировочную, валидационную и тестовую выборки"
   ]
  },
  {
   "cell_type": "markdown",
   "metadata": {},
   "source": [
    "Сначала разделим данные на целлевые и признаки"
   ]
  },
  {
   "cell_type": "code",
   "execution_count": 16,
   "metadata": {},
   "outputs": [],
   "source": [
    "features = df.drop(['Price'], axis=1)\n",
    "target = df['Price']"
   ]
  },
  {
   "cell_type": "markdown",
   "metadata": {},
   "source": [
    "Теперь подготовим признаки"
   ]
  },
  {
   "cell_type": "code",
   "execution_count": 17,
   "metadata": {},
   "outputs": [],
   "source": [
    "category = ['VehicleType', 'Gearbox', 'Model', 'FuelType', 'Brand', 'NotRepaired']\n",
    "numeric = ['RegistrationYear', 'Power', 'Kilometer']"
   ]
  },
  {
   "cell_type": "markdown",
   "metadata": {},
   "source": [
    "#### Кодирование данных для случайного леса"
   ]
  },
  {
   "cell_type": "markdown",
   "metadata": {},
   "source": [
    "Прямое кодирование категорильных признаков"
   ]
  },
  {
   "cell_type": "code",
   "execution_count": 18,
   "metadata": {},
   "outputs": [
    {
     "data": {
      "text/html": [
       "<div>\n",
       "<style scoped>\n",
       "    .dataframe tbody tr th:only-of-type {\n",
       "        vertical-align: middle;\n",
       "    }\n",
       "\n",
       "    .dataframe tbody tr th {\n",
       "        vertical-align: top;\n",
       "    }\n",
       "\n",
       "    .dataframe thead th {\n",
       "        text-align: right;\n",
       "    }\n",
       "</style>\n",
       "<table border=\"1\" class=\"dataframe\">\n",
       "  <thead>\n",
       "    <tr style=\"text-align: right;\">\n",
       "      <th></th>\n",
       "      <th>VehicleType</th>\n",
       "      <th>Gearbox</th>\n",
       "      <th>Model</th>\n",
       "      <th>FuelType</th>\n",
       "      <th>Brand</th>\n",
       "      <th>NotRepaired</th>\n",
       "    </tr>\n",
       "  </thead>\n",
       "  <tbody>\n",
       "    <tr>\n",
       "      <th>0</th>\n",
       "      <td>7.0</td>\n",
       "      <td>0.0</td>\n",
       "      <td>116.0</td>\n",
       "      <td>2.0</td>\n",
       "      <td>14.0</td>\n",
       "      <td>0.0</td>\n",
       "    </tr>\n",
       "    <tr>\n",
       "      <th>1</th>\n",
       "      <td>6.0</td>\n",
       "      <td>1.0</td>\n",
       "      <td>115.0</td>\n",
       "      <td>6.0</td>\n",
       "      <td>37.0</td>\n",
       "      <td>0.0</td>\n",
       "    </tr>\n",
       "    <tr>\n",
       "      <th>2</th>\n",
       "      <td>6.0</td>\n",
       "      <td>1.0</td>\n",
       "      <td>100.0</td>\n",
       "      <td>2.0</td>\n",
       "      <td>31.0</td>\n",
       "      <td>0.0</td>\n",
       "    </tr>\n",
       "    <tr>\n",
       "      <th>3</th>\n",
       "      <td>5.0</td>\n",
       "      <td>1.0</td>\n",
       "      <td>11.0</td>\n",
       "      <td>6.0</td>\n",
       "      <td>2.0</td>\n",
       "      <td>1.0</td>\n",
       "    </tr>\n",
       "    <tr>\n",
       "      <th>4</th>\n",
       "      <td>1.0</td>\n",
       "      <td>1.0</td>\n",
       "      <td>8.0</td>\n",
       "      <td>6.0</td>\n",
       "      <td>25.0</td>\n",
       "      <td>0.0</td>\n",
       "    </tr>\n",
       "    <tr>\n",
       "      <th>5</th>\n",
       "      <td>0.0</td>\n",
       "      <td>1.0</td>\n",
       "      <td>59.0</td>\n",
       "      <td>6.0</td>\n",
       "      <td>10.0</td>\n",
       "      <td>0.0</td>\n",
       "    </tr>\n",
       "    <tr>\n",
       "      <th>6</th>\n",
       "      <td>5.0</td>\n",
       "      <td>1.0</td>\n",
       "      <td>10.0</td>\n",
       "      <td>6.0</td>\n",
       "      <td>19.0</td>\n",
       "      <td>0.0</td>\n",
       "    </tr>\n",
       "    <tr>\n",
       "      <th>7</th>\n",
       "      <td>8.0</td>\n",
       "      <td>1.0</td>\n",
       "      <td>169.0</td>\n",
       "      <td>2.0</td>\n",
       "      <td>37.0</td>\n",
       "      <td>1.0</td>\n",
       "    </tr>\n",
       "    <tr>\n",
       "      <th>8</th>\n",
       "      <td>8.0</td>\n",
       "      <td>1.0</td>\n",
       "      <td>169.0</td>\n",
       "      <td>6.0</td>\n",
       "      <td>37.0</td>\n",
       "      <td>0.0</td>\n",
       "    </tr>\n",
       "    <tr>\n",
       "      <th>9</th>\n",
       "      <td>7.0</td>\n",
       "      <td>1.0</td>\n",
       "      <td>158.0</td>\n",
       "      <td>2.0</td>\n",
       "      <td>23.0</td>\n",
       "      <td>0.0</td>\n",
       "    </tr>\n",
       "  </tbody>\n",
       "</table>\n",
       "</div>"
      ],
      "text/plain": [
       "   VehicleType  Gearbox  Model  FuelType  Brand  NotRepaired\n",
       "0          7.0      0.0  116.0       2.0   14.0          0.0\n",
       "1          6.0      1.0  115.0       6.0   37.0          0.0\n",
       "2          6.0      1.0  100.0       2.0   31.0          0.0\n",
       "3          5.0      1.0   11.0       6.0    2.0          1.0\n",
       "4          1.0      1.0    8.0       6.0   25.0          0.0\n",
       "5          0.0      1.0   59.0       6.0   10.0          0.0\n",
       "6          5.0      1.0   10.0       6.0   19.0          0.0\n",
       "7          8.0      1.0  169.0       2.0   37.0          1.0\n",
       "8          8.0      1.0  169.0       6.0   37.0          0.0\n",
       "9          7.0      1.0  158.0       2.0   23.0          0.0"
      ]
     },
     "execution_count": 18,
     "metadata": {},
     "output_type": "execute_result"
    }
   ],
   "source": [
    "encoder = OrdinalEncoder()\n",
    "encoder.fit(features[category])\n",
    "features_ordinal = pd.DataFrame(encoder.fit_transform(features[category]), columns=features[category].columns)\n",
    "features_ordinal.head(10)"
   ]
  },
  {
   "cell_type": "code",
   "execution_count": 19,
   "metadata": {
    "scrolled": true
   },
   "outputs": [
    {
     "data": {
      "text/html": [
       "<div>\n",
       "<style scoped>\n",
       "    .dataframe tbody tr th:only-of-type {\n",
       "        vertical-align: middle;\n",
       "    }\n",
       "\n",
       "    .dataframe tbody tr th {\n",
       "        vertical-align: top;\n",
       "    }\n",
       "\n",
       "    .dataframe thead th {\n",
       "        text-align: right;\n",
       "    }\n",
       "</style>\n",
       "<table border=\"1\" class=\"dataframe\">\n",
       "  <thead>\n",
       "    <tr style=\"text-align: right;\">\n",
       "      <th></th>\n",
       "      <th>VehicleType</th>\n",
       "      <th>Gearbox</th>\n",
       "      <th>Model</th>\n",
       "      <th>FuelType</th>\n",
       "      <th>Brand</th>\n",
       "      <th>NotRepaired</th>\n",
       "      <th>RegistrationYear</th>\n",
       "      <th>Power</th>\n",
       "      <th>Kilometer</th>\n",
       "    </tr>\n",
       "  </thead>\n",
       "  <tbody>\n",
       "    <tr>\n",
       "      <th>0</th>\n",
       "      <td>7.0</td>\n",
       "      <td>0.0</td>\n",
       "      <td>116.0</td>\n",
       "      <td>2.0</td>\n",
       "      <td>14.0</td>\n",
       "      <td>0.0</td>\n",
       "      <td>2004</td>\n",
       "      <td>163</td>\n",
       "      <td>125000</td>\n",
       "    </tr>\n",
       "    <tr>\n",
       "      <th>1</th>\n",
       "      <td>6.0</td>\n",
       "      <td>1.0</td>\n",
       "      <td>115.0</td>\n",
       "      <td>6.0</td>\n",
       "      <td>37.0</td>\n",
       "      <td>0.0</td>\n",
       "      <td>2001</td>\n",
       "      <td>75</td>\n",
       "      <td>150000</td>\n",
       "    </tr>\n",
       "    <tr>\n",
       "      <th>2</th>\n",
       "      <td>6.0</td>\n",
       "      <td>1.0</td>\n",
       "      <td>100.0</td>\n",
       "      <td>2.0</td>\n",
       "      <td>31.0</td>\n",
       "      <td>0.0</td>\n",
       "      <td>2008</td>\n",
       "      <td>69</td>\n",
       "      <td>90000</td>\n",
       "    </tr>\n",
       "    <tr>\n",
       "      <th>3</th>\n",
       "      <td>5.0</td>\n",
       "      <td>1.0</td>\n",
       "      <td>11.0</td>\n",
       "      <td>6.0</td>\n",
       "      <td>2.0</td>\n",
       "      <td>1.0</td>\n",
       "      <td>1995</td>\n",
       "      <td>102</td>\n",
       "      <td>150000</td>\n",
       "    </tr>\n",
       "    <tr>\n",
       "      <th>4</th>\n",
       "      <td>1.0</td>\n",
       "      <td>1.0</td>\n",
       "      <td>8.0</td>\n",
       "      <td>6.0</td>\n",
       "      <td>25.0</td>\n",
       "      <td>0.0</td>\n",
       "      <td>2004</td>\n",
       "      <td>109</td>\n",
       "      <td>150000</td>\n",
       "    </tr>\n",
       "    <tr>\n",
       "      <th>5</th>\n",
       "      <td>0.0</td>\n",
       "      <td>1.0</td>\n",
       "      <td>59.0</td>\n",
       "      <td>6.0</td>\n",
       "      <td>10.0</td>\n",
       "      <td>0.0</td>\n",
       "      <td>2014</td>\n",
       "      <td>125</td>\n",
       "      <td>30000</td>\n",
       "    </tr>\n",
       "    <tr>\n",
       "      <th>6</th>\n",
       "      <td>5.0</td>\n",
       "      <td>1.0</td>\n",
       "      <td>10.0</td>\n",
       "      <td>6.0</td>\n",
       "      <td>19.0</td>\n",
       "      <td>0.0</td>\n",
       "      <td>2004</td>\n",
       "      <td>105</td>\n",
       "      <td>150000</td>\n",
       "    </tr>\n",
       "    <tr>\n",
       "      <th>7</th>\n",
       "      <td>8.0</td>\n",
       "      <td>1.0</td>\n",
       "      <td>169.0</td>\n",
       "      <td>2.0</td>\n",
       "      <td>37.0</td>\n",
       "      <td>1.0</td>\n",
       "      <td>2005</td>\n",
       "      <td>140</td>\n",
       "      <td>150000</td>\n",
       "    </tr>\n",
       "    <tr>\n",
       "      <th>8</th>\n",
       "      <td>8.0</td>\n",
       "      <td>1.0</td>\n",
       "      <td>169.0</td>\n",
       "      <td>6.0</td>\n",
       "      <td>37.0</td>\n",
       "      <td>0.0</td>\n",
       "      <td>1995</td>\n",
       "      <td>115</td>\n",
       "      <td>150000</td>\n",
       "    </tr>\n",
       "    <tr>\n",
       "      <th>9</th>\n",
       "      <td>7.0</td>\n",
       "      <td>1.0</td>\n",
       "      <td>158.0</td>\n",
       "      <td>2.0</td>\n",
       "      <td>23.0</td>\n",
       "      <td>0.0</td>\n",
       "      <td>2011</td>\n",
       "      <td>190</td>\n",
       "      <td>70000</td>\n",
       "    </tr>\n",
       "  </tbody>\n",
       "</table>\n",
       "</div>"
      ],
      "text/plain": [
       "   VehicleType  Gearbox  Model  FuelType  Brand  NotRepaired  \\\n",
       "0          7.0      0.0  116.0       2.0   14.0          0.0   \n",
       "1          6.0      1.0  115.0       6.0   37.0          0.0   \n",
       "2          6.0      1.0  100.0       2.0   31.0          0.0   \n",
       "3          5.0      1.0   11.0       6.0    2.0          1.0   \n",
       "4          1.0      1.0    8.0       6.0   25.0          0.0   \n",
       "5          0.0      1.0   59.0       6.0   10.0          0.0   \n",
       "6          5.0      1.0   10.0       6.0   19.0          0.0   \n",
       "7          8.0      1.0  169.0       2.0   37.0          1.0   \n",
       "8          8.0      1.0  169.0       6.0   37.0          0.0   \n",
       "9          7.0      1.0  158.0       2.0   23.0          0.0   \n",
       "\n",
       "   RegistrationYear  Power  Kilometer  \n",
       "0              2004    163     125000  \n",
       "1              2001     75     150000  \n",
       "2              2008     69      90000  \n",
       "3              1995    102     150000  \n",
       "4              2004    109     150000  \n",
       "5              2014    125      30000  \n",
       "6              2004    105     150000  \n",
       "7              2005    140     150000  \n",
       "8              1995    115     150000  \n",
       "9              2011    190      70000  "
      ]
     },
     "execution_count": 19,
     "metadata": {},
     "output_type": "execute_result"
    }
   ],
   "source": [
    "feature_numeric = features[numeric]\n",
    "features_coded = features_ordinal.join(feature_numeric)\n",
    "features_coded.head(10)"
   ]
  },
  {
   "cell_type": "markdown",
   "metadata": {},
   "source": [
    "#### Разбивка данных на выборки для случайного леса"
   ]
  },
  {
   "cell_type": "code",
   "execution_count": 20,
   "metadata": {},
   "outputs": [],
   "source": [
    "features_forest_train, features_forest_valid, target_forest_train, target_forest_valid = train_test_split(\n",
    "    features_coded, target, test_size=0.40, random_state=12345)\n",
    "# Отделяем обучающую выборку\n",
    "features_forest_test, features_forest_valid, target_forest_test, target_forest_valid = train_test_split(\n",
    "    features_forest_valid, target_forest_valid, test_size=0.50, random_state=12345)"
   ]
  },
  {
   "cell_type": "markdown",
   "metadata": {},
   "source": [
    "#### Масштабирование признаков для случайного леса"
   ]
  },
  {
   "cell_type": "code",
   "execution_count": 21,
   "metadata": {},
   "outputs": [],
   "source": [
    "scaler = StandardScaler()\n",
    "scaler.fit(features_forest_train)\n",
    "\n",
    "features_scaled = scaler.transform(features_forest_train)\n",
    "features_forest_train = pd.DataFrame(features_scaled, columns=features_coded.columns)\n",
    "\n",
    "features_valid_scaled = scaler.transform(features_forest_valid)\n",
    "features_forest_valid = pd.DataFrame(features_valid_scaled, columns=features_coded.columns)\n",
    "\n",
    "features_test_scaled = scaler.transform(features_forest_test)\n",
    "features_forest_test = pd.DataFrame(features_test_scaled, columns=features_coded.columns)"
   ]
  },
  {
   "cell_type": "code",
   "execution_count": 22,
   "metadata": {},
   "outputs": [
    {
     "name": "stdout",
     "output_type": "stream",
     "text": [
      "Размер тренировочной выборки (158239, 9)\n",
      "Размер тестовой выборки (52747, 9)\n",
      "Размер валидационной выборки (52746, 9)\n"
     ]
    }
   ],
   "source": [
    "print('Размер тренировочной выборки', features_forest_train.shape)\n",
    "print('Размер тестовой выборки', features_forest_valid.shape)\n",
    "print('Размер валидационной выборки', features_forest_test.shape)"
   ]
  },
  {
   "cell_type": "markdown",
   "metadata": {},
   "source": [
    "**Вывод** Подготовили признаки к обучению моделей случайного леса и разбили выборки на тренировочную валидационную и тестовую."
   ]
  },
  {
   "cell_type": "markdown",
   "metadata": {},
   "source": [
    "#### Кодирование данных для моделей регрессии"
   ]
  },
  {
   "cell_type": "markdown",
   "metadata": {},
   "source": [
    "Применим для категорильных признаков метод прямого кодирования"
   ]
  },
  {
   "cell_type": "code",
   "execution_count": 23,
   "metadata": {},
   "outputs": [],
   "source": [
    "df_ohe = pd.get_dummies(df, drop_first=True)\n",
    "target_regression = df_ohe['Price']\n",
    "features_regression = df_ohe.drop('Price', axis=1)"
   ]
  },
  {
   "cell_type": "markdown",
   "metadata": {},
   "source": [
    "#### Разбивка данных на выборки для регрессии"
   ]
  },
  {
   "cell_type": "code",
   "execution_count": 24,
   "metadata": {},
   "outputs": [],
   "source": [
    "features_regression_train, features_regression_valid, target_regression_train, target_regression_valid = train_test_split(\n",
    "    features_regression, target_regression, test_size=0.40, random_state=12345)\n",
    "# Отделяем обучающую выборку\n",
    "features_regression_test, features_regression_valid, target_regression_test, target_regression_valid = train_test_split(\n",
    "    features_regression_valid, target_regression_valid, test_size=0.50, random_state=12345)"
   ]
  },
  {
   "cell_type": "markdown",
   "metadata": {},
   "source": [
    "#### Масштабирование признаков для регрессии"
   ]
  },
  {
   "cell_type": "code",
   "execution_count": 25,
   "metadata": {},
   "outputs": [],
   "source": [
    "scaler = StandardScaler()\n",
    "scaler.fit(features_regression_train)\n",
    "\n",
    "features_scaled = scaler.transform(features_regression_train)\n",
    "features_regression_train = pd.DataFrame(features_scaled, columns=features_regression.columns)\n",
    "\n",
    "features_valid_scaled = scaler.transform(features_regression_valid)\n",
    "features_regression_valid = pd.DataFrame(features_valid_scaled, columns=features_regression.columns)\n",
    "\n",
    "features_test_scaled = scaler.transform(features_regression_test)\n",
    "features_regression_test = pd.DataFrame(features_test_scaled, columns=features_regression.columns)"
   ]
  },
  {
   "cell_type": "code",
   "execution_count": 26,
   "metadata": {
    "scrolled": true
   },
   "outputs": [
    {
     "name": "stdout",
     "output_type": "stream",
     "text": [
      "Размер тренировочной выборки (158239, 303)\n",
      "Размер тестовой выборки (52746, 303)\n",
      "Размер валидационной выборки (52747, 303)\n"
     ]
    }
   ],
   "source": [
    "print('Размер тренировочной выборки', features_regression_train.shape)\n",
    "print('Размер тестовой выборки', features_regression_test.shape)\n",
    "print('Размер валидационной выборки', features_regression_valid.shape)"
   ]
  },
  {
   "cell_type": "markdown",
   "metadata": {},
   "source": [
    "### Модель случайного леса"
   ]
  },
  {
   "cell_type": "code",
   "execution_count": 27,
   "metadata": {},
   "outputs": [
    {
     "name": "stdout",
     "output_type": "stream",
     "text": [
      "Минимальное значение RMSE: (1849.0481657548264, 10, 61)\n"
     ]
    }
   ],
   "source": [
    "randomforest_rmse = []\n",
    "for est in range(1, 71,10):\n",
    "    for depth in range (1, 11):\n",
    "        model_RandomForest = RandomForestRegressor(random_state=12345, n_estimators=est, max_depth=depth)\n",
    "        model_RandomForest.fit( features_forest_train, target_forest_train)\n",
    "        predictions_valid = model_RandomForest.predict(features_forest_valid)\n",
    "        randomforest_rmse.append((mean_squared_error(target_forest_valid, predictions_valid)**0.5, depth, est))\n",
    "print('Минимальное значение RMSE:', min(randomforest_rmse))"
   ]
  },
  {
   "cell_type": "markdown",
   "metadata": {},
   "source": [
    "Посмотрим производительность на лучшей модели: Это модель с гиперпараметрами n_estimators = 61, max_depth = 10."
   ]
  },
  {
   "cell_type": "code",
   "execution_count": 28,
   "metadata": {},
   "outputs": [
    {
     "name": "stdout",
     "output_type": "stream",
     "text": [
      "CPU times: user 10.2 s, sys: 24 ms, total: 10.2 s\n",
      "Wall time: 10.2 s\n"
     ]
    },
    {
     "data": {
      "text/plain": [
       "RandomForestRegressor(max_depth=10, n_estimators=61, random_state=12345)"
      ]
     },
     "execution_count": 28,
     "metadata": {},
     "output_type": "execute_result"
    }
   ],
   "source": [
    "%%time\n",
    "model_RandomForest = RandomForestRegressor(random_state=12345, n_estimators=61, max_depth=10)\n",
    "model_RandomForest.fit( features_forest_train, target_forest_train)"
   ]
  },
  {
   "cell_type": "code",
   "execution_count": 29,
   "metadata": {},
   "outputs": [
    {
     "name": "stdout",
     "output_type": "stream",
     "text": [
      "Значение RMSE: 1849.0481657548264\n",
      "CPU times: user 272 ms, sys: 1 µs, total: 272 ms\n",
      "Wall time: 276 ms\n"
     ]
    }
   ],
   "source": [
    "%%time\n",
    "predictions_valid = model_RandomForest.predict(features_forest_valid)\n",
    "print('Значение RMSE:', mean_squared_error(target_forest_valid, predictions_valid)**0.5)"
   ]
  },
  {
   "cell_type": "markdown",
   "metadata": {},
   "source": [
    "**Вывод** Лучшее значение RMSE (1849,04) получилось при значениях гиперпараметров n_estimators = 61, max_depth = 10. По требованию клиента нам подходит эта модель. Время обучения составило 12 сек, время предсказания 0.31 сек."
   ]
  },
  {
   "cell_type": "code",
   "execution_count": 30,
   "metadata": {
    "scrolled": true
   },
   "outputs": [
    {
     "data": {
      "image/png": "[encoded data removed]",
      "text/plain": [
       "<Figure size 936x360 with 1 Axes>"
      ]
     },
     "metadata": {
      "needs_background": "light"
     },
     "output_type": "display_data"
    }
   ],
   "source": [
    "RandomForest_imp = pd.Series(model_RandomForest.feature_importances_,\n",
    "                         features_forest_train.columns)\n",
    "fig, ax = plt.subplots(figsize=(13,5))\n",
    "RandomForest_imp.plot.bar(ax=ax)\n",
    "ax.set_title(\"Важность признаков\")\n",
    "ax.set_ylabel('Важность')\n",
    "fig.tight_layout()"
   ]
  },
  {
   "cell_type": "markdown",
   "metadata": {},
   "source": [
    "Получается, что самые важные признаки это год регистрации мощность и пробег."
   ]
  },
  {
   "cell_type": "markdown",
   "metadata": {},
   "source": [
    "### Модель линейной регрессии"
   ]
  },
  {
   "cell_type": "code",
   "execution_count": 32,
   "metadata": {},
   "outputs": [
    {
     "name": "stdout",
     "output_type": "stream",
     "text": [
      "CPU times: user 10.6 s, sys: 4.88 s, total: 15.5 s\n",
      "Wall time: 16.9 s\n"
     ]
    },
    {
     "data": {
      "text/plain": [
       "LinearRegression()"
      ]
     },
     "execution_count": 32,
     "metadata": {},
     "output_type": "execute_result"
    }
   ],
   "source": [
    "%%time\n",
    "model_LinearRegression = LinearRegression()\n",
    "model_LinearRegression.fit(features_regression_train, target_regression_train)"
   ]
  },
  {
   "cell_type": "code",
   "execution_count": 33,
   "metadata": {},
   "outputs": [
    {
     "name": "stdout",
     "output_type": "stream",
     "text": [
      "RMSE для модели линейной регрессии: 2369.9759145668913\n",
      "CPU times: user 56.7 ms, sys: 24.4 ms, total: 81.1 ms\n",
      "Wall time: 96.4 ms\n"
     ]
    }
   ],
   "source": [
    "%%time\n",
    "predictions = model_LinearRegression.predict(features_regression_valid)\n",
    "print('RMSE для модели линейной регрессии:', mean_squared_error(target_regression_valid, predictions)**0.5)"
   ]
  },
  {
   "cell_type": "markdown",
   "metadata": {},
   "source": [
    "**Вывод** Мы получили RMSE для линейной регрессии 2369.97. Время обучения 61 мс время получения предсказания 4.04 мс. Эта модель нам не подходит по требованию клиента.  "
   ]
  },
  {
   "cell_type": "markdown",
   "metadata": {},
   "source": [
    "### Градиендный бустинг CatBoost"
   ]
  },
  {
   "cell_type": "markdown",
   "metadata": {},
   "source": [
    "Обучим модель градиендного бустинга (CatBoost) с гиперпараметром : iterations 10; 50 и 100 соответственно и посмотрим RMSE."
   ]
  },
  {
   "cell_type": "code",
   "execution_count": 34,
   "metadata": {},
   "outputs": [
    {
     "name": "stdout",
     "output_type": "stream",
     "text": [
      "Learning rate set to 0.5\n",
      "0:\tlearn: 3271.7455015\ttotal: 71.1ms\tremaining: 640ms\n",
      "9:\tlearn: 1931.0378173\ttotal: 231ms\tremaining: 0us\n",
      "CPU times: user 251 ms, sys: 47.5 ms, total: 298 ms\n",
      "Wall time: 918 ms\n"
     ]
    },
    {
     "data": {
      "text/plain": [
       "<catboost.core.CatBoostRegressor at 0x7f2c54112520>"
      ]
     },
     "execution_count": 34,
     "metadata": {},
     "output_type": "execute_result"
    }
   ],
   "source": [
    "%%time\n",
    "model_CatBoost = CatBoostRegressor(loss_function=\"RMSE\", iterations=10)\n",
    "model_CatBoost.fit(features_forest_train, target_forest_train, verbose=10)"
   ]
  },
  {
   "cell_type": "code",
   "execution_count": 35,
   "metadata": {},
   "outputs": [
    {
     "name": "stdout",
     "output_type": "stream",
     "text": [
      "RMSE для градиендного бустинга (CatBoost) (iterations=10): 1931.926845711799\n",
      "CPU times: user 581 µs, sys: 7.78 ms, total: 8.36 ms\n",
      "Wall time: 6.83 ms\n"
     ]
    }
   ],
   "source": [
    "%%time\n",
    "predictions = model_CatBoost.predict(features_forest_valid)\n",
    "print('RMSE для градиендного бустинга (CatBoost) (iterations=10):', mean_squared_error(target_forest_valid, predictions)**0.5)"
   ]
  },
  {
   "cell_type": "code",
   "execution_count": 36,
   "metadata": {},
   "outputs": [
    {
     "name": "stdout",
     "output_type": "stream",
     "text": [
      "Learning rate set to 0.5\n",
      "0:\tlearn: 3271.7455015\ttotal: 23.8ms\tremaining: 1.16s\n",
      "10:\tlearn: 1914.6712855\ttotal: 205ms\tremaining: 728ms\n",
      "20:\tlearn: 1796.9138987\ttotal: 388ms\tremaining: 536ms\n",
      "30:\tlearn: 1738.4579386\ttotal: 571ms\tremaining: 350ms\n",
      "40:\tlearn: 1699.2834767\ttotal: 755ms\tremaining: 166ms\n",
      "49:\tlearn: 1674.6097737\ttotal: 919ms\tremaining: 0us\n",
      "CPU times: user 996 ms, sys: 15.9 ms, total: 1.01 s\n",
      "Wall time: 1.42 s\n"
     ]
    },
    {
     "data": {
      "text/plain": [
       "<catboost.core.CatBoostRegressor at 0x7f2c5361ecd0>"
      ]
     },
     "execution_count": 36,
     "metadata": {},
     "output_type": "execute_result"
    }
   ],
   "source": [
    "%%time\n",
    "model_CatBoost = CatBoostRegressor(loss_function=\"RMSE\", iterations=50)\n",
    "model_CatBoost.fit(features_forest_train, target_forest_train, verbose=10)"
   ]
  },
  {
   "cell_type": "code",
   "execution_count": 37,
   "metadata": {},
   "outputs": [
    {
     "name": "stdout",
     "output_type": "stream",
     "text": [
      "RMSE для градиендного бустинга (CatBoost) (iterations=50): 1707.5436691546038\n",
      "CPU times: user 10.4 ms, sys: 69 µs, total: 10.4 ms\n",
      "Wall time: 8.45 ms\n"
     ]
    }
   ],
   "source": [
    "%%time\n",
    "predictions = model_CatBoost.predict(features_forest_valid)\n",
    "print('RMSE для градиендного бустинга (CatBoost) (iterations=50):', mean_squared_error(target_forest_valid, predictions)**0.5)"
   ]
  },
  {
   "cell_type": "code",
   "execution_count": 38,
   "metadata": {},
   "outputs": [
    {
     "name": "stdout",
     "output_type": "stream",
     "text": [
      "Learning rate set to 0.5\n",
      "0:\tlearn: 3271.7455015\ttotal: 22.8ms\tremaining: 2.26s\n",
      "10:\tlearn: 1914.6712855\ttotal: 205ms\tremaining: 1.65s\n",
      "20:\tlearn: 1796.9138987\ttotal: 385ms\tremaining: 1.45s\n",
      "30:\tlearn: 1738.4579386\ttotal: 565ms\tremaining: 1.26s\n",
      "40:\tlearn: 1699.2834767\ttotal: 742ms\tremaining: 1.07s\n",
      "50:\tlearn: 1671.5390354\ttotal: 918ms\tremaining: 882ms\n",
      "60:\tlearn: 1646.0740663\ttotal: 1.11s\tremaining: 709ms\n",
      "70:\tlearn: 1625.4693588\ttotal: 1.32s\tremaining: 538ms\n",
      "80:\tlearn: 1605.9647173\ttotal: 1.5s\tremaining: 353ms\n",
      "90:\tlearn: 1593.3153000\ttotal: 1.68s\tremaining: 167ms\n",
      "99:\tlearn: 1581.9327522\ttotal: 1.84s\tremaining: 0us\n",
      "CPU times: user 1.92 s, sys: 23.4 ms, total: 1.94 s\n",
      "Wall time: 2.35 s\n"
     ]
    },
    {
     "data": {
      "text/plain": [
       "<catboost.core.CatBoostRegressor at 0x7f2c581100d0>"
      ]
     },
     "execution_count": 38,
     "metadata": {},
     "output_type": "execute_result"
    }
   ],
   "source": [
    "%%time\n",
    "model_CatBoost = CatBoostRegressor(loss_function=\"RMSE\", iterations=100)\n",
    "model_CatBoost.fit(features_forest_train, target_forest_train, verbose=10)"
   ]
  },
  {
   "cell_type": "code",
   "execution_count": 39,
   "metadata": {},
   "outputs": [
    {
     "name": "stdout",
     "output_type": "stream",
     "text": [
      "RMSE для градиендного бустинга (CatBoost) (iterations=100): 1636.2000443994898\n",
      "CPU times: user 12.2 ms, sys: 72 µs, total: 12.3 ms\n",
      "Wall time: 10.6 ms\n"
     ]
    }
   ],
   "source": [
    "%%time\n",
    "predictions = model_CatBoost.predict(features_forest_valid)\n",
    "print('RMSE для градиендного бустинга (CatBoost) (iterations=100):', mean_squared_error(target_forest_valid, predictions)**0.5)"
   ]
  },
  {
   "cell_type": "markdown",
   "metadata": {},
   "source": [
    "**Вывод** Лучший результат RMSE 1636.2 показала модель c гиперпараметром iterations=100. Время обучения 2.46 сек, время предсказания 13 мс. "
   ]
  },
  {
   "cell_type": "markdown",
   "metadata": {},
   "source": [
    "### Градиендный бустинг LightGBM"
   ]
  },
  {
   "cell_type": "code",
   "execution_count": 40,
   "metadata": {},
   "outputs": [
    {
     "name": "stdout",
     "output_type": "stream",
     "text": [
      "Минимальное значение RMSE модели LightGBM : (1730.9574157923562, 10, 61)\n"
     ]
    }
   ],
   "source": [
    "LightGBM_rmse = []\n",
    "for est in range(1, 71,10):\n",
    "    for depth in range (1, 11):\n",
    "        model_LightGBM = LGBMRegressor(random_state=12345, n_estimators=est, max_depth=depth)\n",
    "        model_LightGBM.fit(features_forest_train, target_forest_train)\n",
    "        predictions_valid = model_LightGBM.predict(features_forest_valid)\n",
    "        LightGBM_rmse.append((mean_squared_error(target_forest_valid, predictions_valid)**0.5, depth, est))\n",
    "print('Минимальное значение RMSE модели LightGBM :', min(LightGBM_rmse))"
   ]
  },
  {
   "cell_type": "code",
   "execution_count": 41,
   "metadata": {},
   "outputs": [
    {
     "name": "stdout",
     "output_type": "stream",
     "text": [
      "CPU times: user 2.69 s, sys: 4.57 ms, total: 2.7 s\n",
      "Wall time: 2.7 s\n"
     ]
    },
    {
     "data": {
      "text/plain": [
       "LGBMRegressor(max_depth=10, n_estimators=61, random_state=12345)"
      ]
     },
     "execution_count": 41,
     "metadata": {},
     "output_type": "execute_result"
    }
   ],
   "source": [
    "%%time\n",
    "model_LightGBM = LGBMRegressor(random_state=12345, n_estimators=61, max_depth=10)\n",
    "model_LightGBM.fit(features_forest_train, target_forest_train)"
   ]
  },
  {
   "cell_type": "code",
   "execution_count": 42,
   "metadata": {},
   "outputs": [
    {
     "name": "stdout",
     "output_type": "stream",
     "text": [
      "Значение RMSE модели LightGBM : 1730.9574157923562\n",
      "CPU times: user 247 ms, sys: 3.1 ms, total: 250 ms\n",
      "Wall time: 203 ms\n"
     ]
    }
   ],
   "source": [
    "%%time\n",
    "predictions_valid = model_LightGBM.predict(features_forest_valid)\n",
    "print('Значение RMSE модели LightGBM :', mean_squared_error(target_forest_valid, predictions_valid)**0.5)"
   ]
  },
  {
   "cell_type": "markdown",
   "metadata": {},
   "source": [
    "**Вывдо** Минимальное значение RMSE 1730.95 модели LightGBM получилось при параметрах n_estimators = 61 и max_depth = 10. Время обучения 29.6 сек время предсказания 0.28 сек.    "
   ]
  },
  {
   "cell_type": "markdown",
   "metadata": {},
   "source": [
    "### Вывод"
   ]
  },
  {
   "cell_type": "markdown",
   "metadata": {},
   "source": [
    "Мы обучили 4 модели и для каждой посмотрели RMSE На валидационной выборки. Модель линейной регрессии нам не подходят по требованиям клиента. \n",
    "\n",
    "- Модель слечайного леса: лучшее значение RMSE (1868,07) получилось при значениях гиперпараметров n_estimators = 61, max_depth = 10.\n",
    "- Модель градиендного бустинга CatBoost: лучший результат RMSE 1636.2 показала модель c гиперпараметром iterations=100.\n",
    "- Модель градиендного бустинга LightGBM: лучший результат RMSE 1730.95 Модели LightGBM получилось при параметрах n_estimators = 61 и max_depth = 10\n",
    "\n",
    "Лучший результат показала модель CatBoost, её и протестируем в дальнейшем."
   ]
  },
  {
   "cell_type": "markdown",
   "metadata": {},
   "source": [
    "## Анализ моделей"
   ]
  },
  {
   "cell_type": "markdown",
   "metadata": {},
   "source": [
    "### Градиендный бустинг CatBoost"
   ]
  },
  {
   "cell_type": "code",
   "execution_count": 47,
   "metadata": {},
   "outputs": [
    {
     "name": "stdout",
     "output_type": "stream",
     "text": [
      "Learning rate set to 0.5\n",
      "0:\tlearn: 3271.7455015\ttotal: 25.4ms\tremaining: 2.51s\n",
      "10:\tlearn: 1914.6712855\ttotal: 217ms\tremaining: 1.75s\n",
      "20:\tlearn: 1796.9138987\ttotal: 406ms\tremaining: 1.53s\n",
      "30:\tlearn: 1738.4579386\ttotal: 600ms\tremaining: 1.33s\n",
      "40:\tlearn: 1699.2834767\ttotal: 789ms\tremaining: 1.14s\n",
      "50:\tlearn: 1671.5390354\ttotal: 982ms\tremaining: 943ms\n",
      "60:\tlearn: 1646.0740663\ttotal: 1.17s\tremaining: 750ms\n",
      "70:\tlearn: 1625.4693588\ttotal: 1.36s\tremaining: 558ms\n",
      "80:\tlearn: 1605.9647173\ttotal: 1.55s\tremaining: 365ms\n",
      "90:\tlearn: 1593.3153000\ttotal: 1.74s\tremaining: 172ms\n",
      "99:\tlearn: 1581.9327522\ttotal: 1.91s\tremaining: 0us\n",
      "RMSE для градиендного бустинга (CatBoost) (iterations=100) на тестовой выборке: 1617.9783758399722\n",
      "CPU times: user 2 s, sys: 28.2 ms, total: 2.02 s\n",
      "Wall time: 2.54 s\n"
     ]
    }
   ],
   "source": [
    "%%time\n",
    "model_CatBoost = CatBoostRegressor(loss_function=\"RMSE\", iterations=100)\n",
    "model_CatBoost.fit(features_forest_train, target_forest_train, verbose=10)\n",
    "predictions = model_CatBoost.predict(features_forest_test)\n",
    "print('RMSE для градиендного бустинга (CatBoost) (iterations=100) на тестовой выборке:', mean_squared_error(target_forest_test, predictions)**0.5)"
   ]
  },
  {
   "cell_type": "markdown",
   "metadata": {},
   "source": [
    "## Вывод"
   ]
  },
  {
   "cell_type": "markdown",
   "metadata": {},
   "source": [
    "В процессе исследования мы построили 4 модели для определения стоимости подержаного автомобиля.\n",
    "Требованиям клиента, а именно: значение метрики RMSE должно быть меньше 2500, удовлетворили 3 модели:\n",
    "\n",
    "- Модель слечайного леса: лучшее значение RMSE (1849.04) получилось при значениях гиперпараметров n_estimators = 61, max_depth = 10.\n",
    "- Модель градиендного бустинга CatBoost: лучший результат RMSE 1636.2 показала модель c гиперпараметром iterations=100.\n",
    "- Модель градиендного бустинга LightGBM: лучший результат RMSE 1730.95 Модели LightGBM получилось при параметрах n_estimators = 61 и max_depth = 10\n",
    "\n",
    "\n",
    "Лучшую производительность показала модель радиендного бустинга CatBoost: Время обучения 2.46 сек, время предсказания 13 мс. Модели слечайного леса и градиендный бустинга показали результаты хуже.\n",
    "\n",
    "Клиенту будем рекомендовать Модель градиендного бустинга CatBoost c гиперпараметром iterations=100, которая показала на тестовой выборке результат: RMSE 1618."
   ]
  }
 ],
 "metadata": {
  "ExecuteTimeLog": [
   {
    "duration": 487,
    "start_time": "2022-08-23T18:39:25.596Z"
   },
   {
    "duration": 1552,
    "start_time": "2022-08-23T18:39:47.884Z"
   },
   {
    "duration": 7,
    "start_time": "2022-08-23T18:44:56.650Z"
   },
   {
    "duration": 2978,
    "start_time": "2022-08-23T18:45:13.129Z"
   },
   {
    "duration": 4,
    "start_time": "2022-08-23T19:04:58.462Z"
   },
   {
    "duration": 7,
    "start_time": "2022-08-23T20:05:06.781Z"
   },
   {
    "duration": 114,
    "start_time": "2022-08-23T20:10:00.932Z"
   },
   {
    "duration": 45,
    "start_time": "2022-08-23T20:10:09.952Z"
   },
   {
    "duration": 10,
    "start_time": "2022-08-23T20:10:20.243Z"
   },
   {
    "duration": 90,
    "start_time": "2022-08-23T20:12:14.162Z"
   },
   {
    "duration": 396,
    "start_time": "2022-08-23T20:12:20.093Z"
   },
   {
    "duration": 872,
    "start_time": "2022-08-23T20:12:20.491Z"
   },
   {
    "duration": 8,
    "start_time": "2022-08-23T20:12:21.364Z"
   },
   {
    "duration": 2696,
    "start_time": "2022-08-23T20:12:21.373Z"
   },
   {
    "duration": 60,
    "start_time": "2022-08-23T20:12:24.071Z"
   },
   {
    "duration": 16,
    "start_time": "2022-08-23T20:12:24.134Z"
   },
   {
    "duration": 227,
    "start_time": "2022-08-23T20:15:47.903Z"
   },
   {
    "duration": 198,
    "start_time": "2022-08-23T20:15:54.526Z"
   },
   {
    "duration": 324,
    "start_time": "2022-08-23T20:16:13.993Z"
   },
   {
    "duration": 30,
    "start_time": "2022-08-23T20:36:51.193Z"
   },
   {
    "duration": 103,
    "start_time": "2022-08-23T20:37:37.265Z"
   },
   {
    "duration": 161,
    "start_time": "2022-08-23T20:38:08.963Z"
   },
   {
    "duration": 973,
    "start_time": "2022-08-23T20:41:39.883Z"
   },
   {
    "duration": 17,
    "start_time": "2022-08-23T20:42:48.939Z"
   },
   {
    "duration": 111,
    "start_time": "2022-08-23T20:42:57.460Z"
   },
   {
    "duration": 712,
    "start_time": "2022-08-23T20:43:02.054Z"
   },
   {
    "duration": 423,
    "start_time": "2022-08-26T08:42:09.937Z"
   },
   {
    "duration": 5056,
    "start_time": "2022-08-26T08:42:10.362Z"
   },
   {
    "duration": 7,
    "start_time": "2022-08-26T08:42:15.420Z"
   },
   {
    "duration": 2852,
    "start_time": "2022-08-26T08:42:15.429Z"
   },
   {
    "duration": 43,
    "start_time": "2022-08-26T08:42:18.284Z"
   },
   {
    "duration": 12,
    "start_time": "2022-08-26T08:42:18.329Z"
   },
   {
    "duration": 411,
    "start_time": "2022-08-26T08:42:18.342Z"
   },
   {
    "duration": 23,
    "start_time": "2022-08-26T08:42:18.754Z"
   },
   {
    "duration": 157,
    "start_time": "2022-08-26T08:42:18.778Z"
   },
   {
    "duration": 842,
    "start_time": "2022-08-26T08:42:18.938Z"
   },
   {
    "duration": 66,
    "start_time": "2022-08-26T08:42:19.786Z"
   },
   {
    "duration": 412,
    "start_time": "2022-08-26T08:44:15.421Z"
   },
   {
    "duration": 955,
    "start_time": "2022-08-26T08:44:15.835Z"
   },
   {
    "duration": 11,
    "start_time": "2022-08-26T08:44:16.792Z"
   },
   {
    "duration": 2736,
    "start_time": "2022-08-26T08:44:16.805Z"
   },
   {
    "duration": 61,
    "start_time": "2022-08-26T08:44:19.544Z"
   },
   {
    "duration": 25,
    "start_time": "2022-08-26T08:44:19.610Z"
   },
   {
    "duration": 427,
    "start_time": "2022-08-26T08:44:19.637Z"
   },
   {
    "duration": 33,
    "start_time": "2022-08-26T08:44:20.068Z"
   },
   {
    "duration": 132,
    "start_time": "2022-08-26T08:44:20.105Z"
   },
   {
    "duration": 887,
    "start_time": "2022-08-26T08:44:20.240Z"
   },
   {
    "duration": 68,
    "start_time": "2022-08-26T08:44:21.129Z"
   },
   {
    "duration": 72,
    "start_time": "2022-08-26T08:45:27.160Z"
   },
   {
    "duration": 1113,
    "start_time": "2022-08-26T08:53:46.220Z"
   },
   {
    "duration": 1205,
    "start_time": "2022-08-26T08:55:15.642Z"
   },
   {
    "duration": 1068,
    "start_time": "2022-08-26T08:55:16.850Z"
   },
   {
    "duration": 7,
    "start_time": "2022-08-26T08:55:17.920Z"
   },
   {
    "duration": 2515,
    "start_time": "2022-08-26T08:55:17.928Z"
   },
   {
    "duration": 60,
    "start_time": "2022-08-26T08:55:20.445Z"
   },
   {
    "duration": 11,
    "start_time": "2022-08-26T08:55:20.506Z"
   },
   {
    "duration": 362,
    "start_time": "2022-08-26T08:55:20.518Z"
   },
   {
    "duration": 24,
    "start_time": "2022-08-26T08:55:20.882Z"
   },
   {
    "duration": 105,
    "start_time": "2022-08-26T08:55:20.908Z"
   },
   {
    "duration": 798,
    "start_time": "2022-08-26T08:55:21.015Z"
   },
   {
    "duration": 61,
    "start_time": "2022-08-26T08:55:21.815Z"
   },
   {
    "duration": 98,
    "start_time": "2022-08-26T08:59:43.338Z"
   },
   {
    "duration": 165,
    "start_time": "2022-08-26T09:00:03.282Z"
   },
   {
    "duration": 258,
    "start_time": "2022-08-26T09:00:24.033Z"
   },
   {
    "duration": 401,
    "start_time": "2022-08-26T09:05:23.707Z"
   },
   {
    "duration": 14,
    "start_time": "2022-08-26T09:05:39.064Z"
   },
   {
    "duration": 224,
    "start_time": "2022-08-26T09:07:29.528Z"
   },
   {
    "duration": 193,
    "start_time": "2022-08-26T09:07:49.656Z"
   },
   {
    "duration": 185,
    "start_time": "2022-08-26T09:08:09.736Z"
   },
   {
    "duration": 171,
    "start_time": "2022-08-26T09:10:04.009Z"
   },
   {
    "duration": 174,
    "start_time": "2022-08-26T09:13:06.888Z"
   },
   {
    "duration": 234,
    "start_time": "2022-08-26T09:13:36.517Z"
   },
   {
    "duration": 190,
    "start_time": "2022-08-26T09:14:54.997Z"
   },
   {
    "duration": 192,
    "start_time": "2022-08-26T09:15:15.837Z"
   },
   {
    "duration": 198,
    "start_time": "2022-08-26T09:15:22.693Z"
   },
   {
    "duration": 203,
    "start_time": "2022-08-26T09:19:00.040Z"
   },
   {
    "duration": 200,
    "start_time": "2022-08-26T09:19:09.543Z"
   },
   {
    "duration": 273,
    "start_time": "2022-08-26T09:19:23.671Z"
   },
   {
    "duration": 232,
    "start_time": "2022-08-26T09:19:42.353Z"
   },
   {
    "duration": 223,
    "start_time": "2022-08-26T09:22:17.034Z"
   },
   {
    "duration": 240,
    "start_time": "2022-08-26T09:22:43.053Z"
   },
   {
    "duration": 149,
    "start_time": "2022-08-26T09:24:46.210Z"
   },
   {
    "duration": 731,
    "start_time": "2022-08-26T09:25:16.458Z"
   },
   {
    "duration": 901,
    "start_time": "2022-08-26T09:25:17.191Z"
   },
   {
    "duration": 9,
    "start_time": "2022-08-26T09:25:18.094Z"
   },
   {
    "duration": 2635,
    "start_time": "2022-08-26T09:25:18.105Z"
   },
   {
    "duration": 65,
    "start_time": "2022-08-26T09:25:20.742Z"
   },
   {
    "duration": 28,
    "start_time": "2022-08-26T09:25:20.814Z"
   },
   {
    "duration": 366,
    "start_time": "2022-08-26T09:25:20.844Z"
   },
   {
    "duration": 19,
    "start_time": "2022-08-26T09:25:21.212Z"
   },
   {
    "duration": 122,
    "start_time": "2022-08-26T09:25:21.232Z"
   },
   {
    "duration": 129,
    "start_time": "2022-08-26T09:25:21.356Z"
   },
   {
    "duration": 872,
    "start_time": "2022-08-26T09:25:21.488Z"
   },
   {
    "duration": 50,
    "start_time": "2022-08-26T09:25:22.368Z"
   },
   {
    "duration": 88,
    "start_time": "2022-08-26T09:25:22.420Z"
   },
   {
    "duration": 0,
    "start_time": "2022-08-26T09:25:22.510Z"
   },
   {
    "duration": 647,
    "start_time": "2022-08-26T09:25:40.822Z"
   },
   {
    "duration": 953,
    "start_time": "2022-08-26T09:25:41.471Z"
   },
   {
    "duration": 8,
    "start_time": "2022-08-26T09:25:42.426Z"
   },
   {
    "duration": 2626,
    "start_time": "2022-08-26T09:25:42.436Z"
   },
   {
    "duration": 54,
    "start_time": "2022-08-26T09:25:45.066Z"
   },
   {
    "duration": 17,
    "start_time": "2022-08-26T09:25:45.122Z"
   },
   {
    "duration": 393,
    "start_time": "2022-08-26T09:25:45.141Z"
   },
   {
    "duration": 19,
    "start_time": "2022-08-26T09:25:45.536Z"
   },
   {
    "duration": 96,
    "start_time": "2022-08-26T09:25:45.574Z"
   },
   {
    "duration": 127,
    "start_time": "2022-08-26T09:25:45.672Z"
   },
   {
    "duration": 784,
    "start_time": "2022-08-26T09:25:45.800Z"
   },
   {
    "duration": 59,
    "start_time": "2022-08-26T09:25:46.586Z"
   },
   {
    "duration": 22,
    "start_time": "2022-08-26T09:25:46.647Z"
   },
   {
    "duration": 275,
    "start_time": "2022-08-26T09:25:46.672Z"
   },
   {
    "duration": 646,
    "start_time": "2022-08-26T09:26:18.325Z"
   },
   {
    "duration": 870,
    "start_time": "2022-08-26T09:26:18.973Z"
   },
   {
    "duration": 9,
    "start_time": "2022-08-26T09:26:19.845Z"
   },
   {
    "duration": 2616,
    "start_time": "2022-08-26T09:26:19.867Z"
   },
   {
    "duration": 51,
    "start_time": "2022-08-26T09:26:22.485Z"
   },
   {
    "duration": 55,
    "start_time": "2022-08-26T09:26:22.538Z"
   },
   {
    "duration": 481,
    "start_time": "2022-08-26T09:26:22.594Z"
   },
   {
    "duration": 2,
    "start_time": "2022-08-26T09:26:23.077Z"
   },
   {
    "duration": 121,
    "start_time": "2022-08-26T09:26:23.081Z"
   },
   {
    "duration": 113,
    "start_time": "2022-08-26T09:26:23.205Z"
   },
   {
    "duration": 601,
    "start_time": "2022-08-26T09:26:23.319Z"
   },
   {
    "duration": 53,
    "start_time": "2022-08-26T09:26:23.922Z"
   },
   {
    "duration": 3,
    "start_time": "2022-08-26T09:26:23.978Z"
   },
   {
    "duration": 273,
    "start_time": "2022-08-26T09:26:23.983Z"
   },
   {
    "duration": 766,
    "start_time": "2022-08-26T09:28:49.718Z"
   },
   {
    "duration": 979,
    "start_time": "2022-08-26T09:28:50.490Z"
   },
   {
    "duration": 14,
    "start_time": "2022-08-26T09:28:51.475Z"
   },
   {
    "duration": 2843,
    "start_time": "2022-08-26T09:28:51.492Z"
   },
   {
    "duration": 55,
    "start_time": "2022-08-26T09:28:54.337Z"
   },
   {
    "duration": 37,
    "start_time": "2022-08-26T09:28:54.394Z"
   },
   {
    "duration": 387,
    "start_time": "2022-08-26T09:28:54.433Z"
   },
   {
    "duration": 106,
    "start_time": "2022-08-26T09:28:54.822Z"
   },
   {
    "duration": 632,
    "start_time": "2022-08-26T09:28:54.930Z"
   },
   {
    "duration": 48,
    "start_time": "2022-08-26T09:28:55.567Z"
   },
   {
    "duration": 3,
    "start_time": "2022-08-26T09:28:55.617Z"
   },
   {
    "duration": 265,
    "start_time": "2022-08-26T09:28:55.622Z"
   },
   {
    "duration": 22,
    "start_time": "2022-08-26T09:31:46.603Z"
   },
   {
    "duration": 93,
    "start_time": "2022-08-26T09:32:07.513Z"
   },
   {
    "duration": 22,
    "start_time": "2022-08-26T09:32:16.935Z"
   },
   {
    "duration": 237,
    "start_time": "2022-08-26T09:33:04.708Z"
   },
   {
    "duration": 20,
    "start_time": "2022-08-26T09:34:02.686Z"
   },
   {
    "duration": 107,
    "start_time": "2022-08-26T09:34:16.781Z"
   },
   {
    "duration": 232,
    "start_time": "2022-08-26T09:34:58.757Z"
   },
   {
    "duration": 391,
    "start_time": "2022-08-26T09:35:13.750Z"
   },
   {
    "duration": 188,
    "start_time": "2022-08-26T09:35:18.553Z"
   },
   {
    "duration": 1591,
    "start_time": "2022-08-26T09:35:59.936Z"
   },
   {
    "duration": 34,
    "start_time": "2022-08-26T09:36:29.685Z"
   },
   {
    "duration": 1611,
    "start_time": "2022-08-26T09:36:32.485Z"
   },
   {
    "duration": 414,
    "start_time": "2022-08-26T09:36:37.404Z"
   },
   {
    "duration": 35,
    "start_time": "2022-08-26T09:36:48.736Z"
   },
   {
    "duration": 281,
    "start_time": "2022-08-26T09:36:51.004Z"
   },
   {
    "duration": 65,
    "start_time": "2022-08-26T10:13:54.090Z"
   },
   {
    "duration": 318,
    "start_time": "2022-08-26T10:13:55.840Z"
   },
   {
    "duration": 527,
    "start_time": "2022-08-26T10:14:10.233Z"
   },
   {
    "duration": 243,
    "start_time": "2022-08-26T10:14:24.706Z"
   },
   {
    "duration": 277,
    "start_time": "2022-08-26T10:14:33.952Z"
   },
   {
    "duration": 202,
    "start_time": "2022-08-26T10:14:38.710Z"
   },
   {
    "duration": 202,
    "start_time": "2022-08-26T10:14:44.856Z"
   },
   {
    "duration": 224,
    "start_time": "2022-08-26T10:14:49.726Z"
   },
   {
    "duration": 70,
    "start_time": "2022-08-26T10:15:25.906Z"
   },
   {
    "duration": 327,
    "start_time": "2022-08-26T10:15:26.696Z"
   },
   {
    "duration": 56,
    "start_time": "2022-08-26T10:15:34.621Z"
   },
   {
    "duration": 284,
    "start_time": "2022-08-26T10:15:36.223Z"
   },
   {
    "duration": 692,
    "start_time": "2022-08-26T10:16:34.627Z"
   },
   {
    "duration": 884,
    "start_time": "2022-08-26T10:16:35.321Z"
   },
   {
    "duration": 10,
    "start_time": "2022-08-26T10:16:36.206Z"
   },
   {
    "duration": 2759,
    "start_time": "2022-08-26T10:16:36.218Z"
   },
   {
    "duration": 56,
    "start_time": "2022-08-26T10:16:38.984Z"
   },
   {
    "duration": 14,
    "start_time": "2022-08-26T10:16:39.042Z"
   },
   {
    "duration": 393,
    "start_time": "2022-08-26T10:16:39.058Z"
   },
   {
    "duration": 116,
    "start_time": "2022-08-26T10:16:39.453Z"
   },
   {
    "duration": 639,
    "start_time": "2022-08-26T10:16:39.572Z"
   },
   {
    "duration": 78,
    "start_time": "2022-08-26T10:16:40.214Z"
   },
   {
    "duration": 85,
    "start_time": "2022-08-26T10:16:40.294Z"
   },
   {
    "duration": 232,
    "start_time": "2022-08-26T10:16:40.383Z"
   },
   {
    "duration": 271,
    "start_time": "2022-08-26T10:16:40.617Z"
   },
   {
    "duration": 325,
    "start_time": "2022-08-26T10:16:40.890Z"
   },
   {
    "duration": 215,
    "start_time": "2022-08-26T10:22:23.339Z"
   },
   {
    "duration": 256,
    "start_time": "2022-08-26T10:22:28.411Z"
   },
   {
    "duration": 53,
    "start_time": "2022-08-26T10:26:02.937Z"
   },
   {
    "duration": 60,
    "start_time": "2022-08-26T10:27:22.512Z"
   },
   {
    "duration": 197,
    "start_time": "2022-08-26T10:27:24.949Z"
   },
   {
    "duration": 221,
    "start_time": "2022-08-26T10:27:28.441Z"
   },
   {
    "duration": 235,
    "start_time": "2022-08-26T10:27:37.217Z"
   },
   {
    "duration": 51,
    "start_time": "2022-08-26T10:27:40.152Z"
   },
   {
    "duration": 58,
    "start_time": "2022-08-26T10:28:45.813Z"
   },
   {
    "duration": 689,
    "start_time": "2022-08-26T10:28:54.087Z"
   },
   {
    "duration": 845,
    "start_time": "2022-08-26T10:28:54.778Z"
   },
   {
    "duration": 9,
    "start_time": "2022-08-26T10:28:55.625Z"
   },
   {
    "duration": 2782,
    "start_time": "2022-08-26T10:28:55.636Z"
   },
   {
    "duration": 61,
    "start_time": "2022-08-26T10:28:58.420Z"
   },
   {
    "duration": 17,
    "start_time": "2022-08-26T10:28:58.484Z"
   },
   {
    "duration": 395,
    "start_time": "2022-08-26T10:28:58.503Z"
   },
   {
    "duration": 102,
    "start_time": "2022-08-26T10:28:58.900Z"
   },
   {
    "duration": 641,
    "start_time": "2022-08-26T10:28:59.004Z"
   },
   {
    "duration": 61,
    "start_time": "2022-08-26T10:28:59.648Z"
   },
   {
    "duration": 74,
    "start_time": "2022-08-26T10:28:59.711Z"
   },
   {
    "duration": 284,
    "start_time": "2022-08-26T10:28:59.787Z"
   },
   {
    "duration": 245,
    "start_time": "2022-08-26T10:29:00.073Z"
   },
   {
    "duration": 340,
    "start_time": "2022-08-26T10:29:00.320Z"
   },
   {
    "duration": 50,
    "start_time": "2022-08-26T10:29:00.662Z"
   },
   {
    "duration": 13,
    "start_time": "2022-08-26T11:56:54.965Z"
   },
   {
    "duration": 772,
    "start_time": "2022-08-26T12:02:15.036Z"
   },
   {
    "duration": 3,
    "start_time": "2022-08-26T12:05:14.639Z"
   },
   {
    "duration": 3,
    "start_time": "2022-08-26T12:06:31.826Z"
   },
   {
    "duration": 3,
    "start_time": "2022-08-26T12:08:02.244Z"
   },
   {
    "duration": 80,
    "start_time": "2022-08-26T12:09:25.592Z"
   },
   {
    "duration": 114,
    "start_time": "2022-08-26T12:09:36.674Z"
   },
   {
    "duration": 407,
    "start_time": "2022-08-26T12:10:27.769Z"
   },
   {
    "duration": 424,
    "start_time": "2022-08-26T12:10:47.512Z"
   },
   {
    "duration": 2,
    "start_time": "2022-08-26T12:13:24.147Z"
   },
   {
    "duration": 474,
    "start_time": "2022-08-26T12:13:57.643Z"
   },
   {
    "duration": 355,
    "start_time": "2022-08-26T12:14:10.341Z"
   },
   {
    "duration": 3,
    "start_time": "2022-08-26T12:16:52.255Z"
   },
   {
    "duration": 10,
    "start_time": "2022-08-26T12:17:04.895Z"
   },
   {
    "duration": 6,
    "start_time": "2022-08-26T12:17:10.179Z"
   },
   {
    "duration": 103,
    "start_time": "2022-08-26T12:19:33.629Z"
   },
   {
    "duration": 3,
    "start_time": "2022-08-26T12:19:48.301Z"
   },
   {
    "duration": 53,
    "start_time": "2022-08-26T12:21:28.552Z"
   },
   {
    "duration": 44,
    "start_time": "2022-08-26T12:21:39.207Z"
   },
   {
    "duration": 33,
    "start_time": "2022-08-26T12:22:07.579Z"
   },
   {
    "duration": 14,
    "start_time": "2022-08-26T12:24:09.938Z"
   },
   {
    "duration": 14,
    "start_time": "2022-08-26T12:24:20.819Z"
   },
   {
    "duration": 36,
    "start_time": "2022-08-26T12:24:49.280Z"
   },
   {
    "duration": 43,
    "start_time": "2022-08-26T12:25:49.654Z"
   },
   {
    "duration": 44,
    "start_time": "2022-08-26T12:26:09.593Z"
   },
   {
    "duration": 47,
    "start_time": "2022-08-26T12:26:38.726Z"
   },
   {
    "duration": 37,
    "start_time": "2022-08-26T12:26:44.480Z"
   },
   {
    "duration": 44,
    "start_time": "2022-08-26T12:26:48.620Z"
   },
   {
    "duration": 8,
    "start_time": "2022-08-26T12:27:19.411Z"
   },
   {
    "duration": 7,
    "start_time": "2022-08-26T12:27:27.382Z"
   },
   {
    "duration": 47,
    "start_time": "2022-08-26T12:29:57.283Z"
   },
   {
    "duration": 48,
    "start_time": "2022-08-26T12:30:06.781Z"
   },
   {
    "duration": 29,
    "start_time": "2022-08-26T12:32:01.693Z"
   },
   {
    "duration": 1348,
    "start_time": "2022-08-26T12:32:13.178Z"
   },
   {
    "duration": 873,
    "start_time": "2022-08-26T12:32:14.530Z"
   },
   {
    "duration": 8,
    "start_time": "2022-08-26T12:32:15.405Z"
   },
   {
    "duration": 2588,
    "start_time": "2022-08-26T12:32:15.414Z"
   },
   {
    "duration": 46,
    "start_time": "2022-08-26T12:32:18.004Z"
   },
   {
    "duration": 28,
    "start_time": "2022-08-26T12:32:18.051Z"
   },
   {
    "duration": 367,
    "start_time": "2022-08-26T12:32:18.080Z"
   },
   {
    "duration": 95,
    "start_time": "2022-08-26T12:32:18.448Z"
   },
   {
    "duration": 602,
    "start_time": "2022-08-26T12:32:18.545Z"
   },
   {
    "duration": 60,
    "start_time": "2022-08-26T12:32:19.149Z"
   },
   {
    "duration": 78,
    "start_time": "2022-08-26T12:32:19.211Z"
   },
   {
    "duration": 229,
    "start_time": "2022-08-26T12:32:19.291Z"
   },
   {
    "duration": 241,
    "start_time": "2022-08-26T12:32:19.522Z"
   },
   {
    "duration": 245,
    "start_time": "2022-08-26T12:32:19.765Z"
   },
   {
    "duration": 43,
    "start_time": "2022-08-26T12:32:20.012Z"
   },
   {
    "duration": 19,
    "start_time": "2022-08-26T12:32:20.057Z"
   },
   {
    "duration": 3,
    "start_time": "2022-08-26T12:32:20.079Z"
   },
   {
    "duration": 400,
    "start_time": "2022-08-26T12:32:20.084Z"
   },
   {
    "duration": 33,
    "start_time": "2022-08-26T12:32:20.487Z"
   },
   {
    "duration": 7,
    "start_time": "2022-08-26T12:32:20.522Z"
   },
   {
    "duration": 10,
    "start_time": "2022-08-26T12:33:08.044Z"
   },
   {
    "duration": 17,
    "start_time": "2022-08-26T12:33:30.197Z"
   },
   {
    "duration": 128,
    "start_time": "2022-08-26T12:34:39.420Z"
   },
   {
    "duration": 1336,
    "start_time": "2022-08-26T12:34:46.378Z"
   },
   {
    "duration": 840,
    "start_time": "2022-08-26T12:34:47.716Z"
   },
   {
    "duration": 13,
    "start_time": "2022-08-26T12:34:48.558Z"
   },
   {
    "duration": 2667,
    "start_time": "2022-08-26T12:34:48.574Z"
   },
   {
    "duration": 59,
    "start_time": "2022-08-26T12:34:51.244Z"
   },
   {
    "duration": 12,
    "start_time": "2022-08-26T12:34:51.305Z"
   },
   {
    "duration": 397,
    "start_time": "2022-08-26T12:34:51.319Z"
   },
   {
    "duration": 93,
    "start_time": "2022-08-26T12:34:51.718Z"
   },
   {
    "duration": 608,
    "start_time": "2022-08-26T12:34:51.813Z"
   },
   {
    "duration": 63,
    "start_time": "2022-08-26T12:34:52.424Z"
   },
   {
    "duration": 104,
    "start_time": "2022-08-26T12:34:52.488Z"
   },
   {
    "duration": 243,
    "start_time": "2022-08-26T12:34:52.594Z"
   },
   {
    "duration": 234,
    "start_time": "2022-08-26T12:34:52.839Z"
   },
   {
    "duration": 256,
    "start_time": "2022-08-26T12:34:53.075Z"
   },
   {
    "duration": 53,
    "start_time": "2022-08-26T12:34:53.332Z"
   },
   {
    "duration": 11,
    "start_time": "2022-08-26T12:34:53.387Z"
   },
   {
    "duration": 3,
    "start_time": "2022-08-26T12:34:53.400Z"
   },
   {
    "duration": 365,
    "start_time": "2022-08-26T12:34:53.404Z"
   },
   {
    "duration": 22,
    "start_time": "2022-08-26T12:34:53.771Z"
   },
   {
    "duration": 9,
    "start_time": "2022-08-26T12:34:53.795Z"
   },
   {
    "duration": 18,
    "start_time": "2022-08-26T12:34:53.806Z"
   },
   {
    "duration": 42,
    "start_time": "2022-08-26T12:36:16.484Z"
   },
   {
    "duration": 43,
    "start_time": "2022-08-26T12:36:58.348Z"
   },
   {
    "duration": 49,
    "start_time": "2022-08-26T12:37:04.451Z"
   },
   {
    "duration": 69,
    "start_time": "2022-08-26T12:38:29.559Z"
   },
   {
    "duration": 56,
    "start_time": "2022-08-26T12:39:03.634Z"
   },
   {
    "duration": 1651,
    "start_time": "2022-08-27T08:36:32.865Z"
   },
   {
    "duration": 2884,
    "start_time": "2022-08-27T08:36:34.518Z"
   },
   {
    "duration": 8,
    "start_time": "2022-08-27T08:36:37.403Z"
   },
   {
    "duration": 2347,
    "start_time": "2022-08-27T08:36:37.413Z"
   },
   {
    "duration": 47,
    "start_time": "2022-08-27T08:36:39.762Z"
   },
   {
    "duration": 14,
    "start_time": "2022-08-27T08:36:39.811Z"
   },
   {
    "duration": 343,
    "start_time": "2022-08-27T08:36:39.827Z"
   },
   {
    "duration": 83,
    "start_time": "2022-08-27T08:36:40.171Z"
   },
   {
    "duration": 551,
    "start_time": "2022-08-27T08:36:40.267Z"
   },
   {
    "duration": 48,
    "start_time": "2022-08-27T08:36:40.820Z"
   },
   {
    "duration": 83,
    "start_time": "2022-08-27T08:36:40.870Z"
   },
   {
    "duration": 215,
    "start_time": "2022-08-27T08:36:40.954Z"
   },
   {
    "duration": 206,
    "start_time": "2022-08-27T08:36:41.171Z"
   },
   {
    "duration": 232,
    "start_time": "2022-08-27T08:36:41.380Z"
   },
   {
    "duration": 37,
    "start_time": "2022-08-27T08:36:41.614Z"
   },
   {
    "duration": 21,
    "start_time": "2022-08-27T08:36:41.653Z"
   },
   {
    "duration": 2,
    "start_time": "2022-08-27T08:36:41.676Z"
   },
   {
    "duration": 304,
    "start_time": "2022-08-27T08:36:41.680Z"
   },
   {
    "duration": 21,
    "start_time": "2022-08-27T08:36:41.985Z"
   },
   {
    "duration": 70,
    "start_time": "2022-08-27T08:36:42.007Z"
   },
   {
    "duration": 108,
    "start_time": "2022-08-27T08:36:42.078Z"
   },
   {
    "duration": 44,
    "start_time": "2022-08-27T08:59:55.040Z"
   },
   {
    "duration": 71,
    "start_time": "2022-08-27T09:00:14.171Z"
   },
   {
    "duration": 4,
    "start_time": "2022-08-27T09:01:04.847Z"
   },
   {
    "duration": 128,
    "start_time": "2022-08-27T09:25:58.610Z"
   },
   {
    "duration": 3,
    "start_time": "2022-08-27T09:29:26.483Z"
   },
   {
    "duration": 18,
    "start_time": "2022-08-27T09:32:14.347Z"
   },
   {
    "duration": 38,
    "start_time": "2022-08-27T09:32:29.723Z"
   },
   {
    "duration": 41,
    "start_time": "2022-08-27T09:33:59.824Z"
   },
   {
    "duration": 29,
    "start_time": "2022-08-27T09:34:32.006Z"
   },
   {
    "duration": 16,
    "start_time": "2022-08-27T09:34:58.666Z"
   },
   {
    "duration": 5,
    "start_time": "2022-08-27T09:35:47.506Z"
   },
   {
    "duration": 51,
    "start_time": "2022-08-27T09:36:13.136Z"
   },
   {
    "duration": 15,
    "start_time": "2022-08-27T09:36:27.820Z"
   },
   {
    "duration": 1446,
    "start_time": "2022-08-27T09:36:45.276Z"
   },
   {
    "duration": 869,
    "start_time": "2022-08-27T09:36:46.725Z"
   },
   {
    "duration": 8,
    "start_time": "2022-08-27T09:36:47.596Z"
   },
   {
    "duration": 2466,
    "start_time": "2022-08-27T09:36:47.605Z"
   },
   {
    "duration": 47,
    "start_time": "2022-08-27T09:36:50.073Z"
   },
   {
    "duration": 11,
    "start_time": "2022-08-27T09:36:50.122Z"
   },
   {
    "duration": 346,
    "start_time": "2022-08-27T09:36:50.135Z"
   },
   {
    "duration": 91,
    "start_time": "2022-08-27T09:36:50.483Z"
   },
   {
    "duration": 550,
    "start_time": "2022-08-27T09:36:50.576Z"
   },
   {
    "duration": 52,
    "start_time": "2022-08-27T09:36:51.127Z"
   },
   {
    "duration": 99,
    "start_time": "2022-08-27T09:36:51.181Z"
   },
   {
    "duration": 216,
    "start_time": "2022-08-27T09:36:51.282Z"
   },
   {
    "duration": 224,
    "start_time": "2022-08-27T09:36:51.500Z"
   },
   {
    "duration": 229,
    "start_time": "2022-08-27T09:36:51.726Z"
   },
   {
    "duration": 46,
    "start_time": "2022-08-27T09:36:51.956Z"
   },
   {
    "duration": 9,
    "start_time": "2022-08-27T09:36:52.004Z"
   },
   {
    "duration": 3,
    "start_time": "2022-08-27T09:36:52.015Z"
   },
   {
    "duration": 363,
    "start_time": "2022-08-27T09:36:52.019Z"
   },
   {
    "duration": 22,
    "start_time": "2022-08-27T09:36:52.383Z"
   },
   {
    "duration": 66,
    "start_time": "2022-08-27T09:36:52.407Z"
   },
   {
    "duration": 114,
    "start_time": "2022-08-27T09:36:52.475Z"
   },
   {
    "duration": 4,
    "start_time": "2022-08-27T09:36:52.591Z"
   },
   {
    "duration": 183843,
    "start_time": "2022-08-27T09:36:52.596Z"
   },
   {
    "duration": 112843,
    "start_time": "2022-08-27T09:41:58.597Z"
   },
   {
    "duration": 184345,
    "start_time": "2022-08-27T09:44:31.183Z"
   },
   {
    "duration": 5,
    "start_time": "2022-08-27T10:02:43.363Z"
   },
   {
    "duration": 5,
    "start_time": "2022-08-27T10:04:52.847Z"
   },
   {
    "duration": 53,
    "start_time": "2022-08-27T10:07:21.029Z"
   },
   {
    "duration": 16,
    "start_time": "2022-08-27T10:07:35.820Z"
   },
   {
    "duration": 15,
    "start_time": "2022-08-27T10:07:45.670Z"
   },
   {
    "duration": 18,
    "start_time": "2022-08-27T10:08:50.183Z"
   },
   {
    "duration": 17,
    "start_time": "2022-08-27T10:09:13.740Z"
   },
   {
    "duration": 1555,
    "start_time": "2022-08-29T08:02:58.768Z"
   },
   {
    "duration": 1204,
    "start_time": "2022-08-29T08:03:00.325Z"
   },
   {
    "duration": 7,
    "start_time": "2022-08-29T08:03:01.531Z"
   },
   {
    "duration": 2685,
    "start_time": "2022-08-29T08:03:01.541Z"
   },
   {
    "duration": 48,
    "start_time": "2022-08-29T08:03:04.228Z"
   },
   {
    "duration": 17,
    "start_time": "2022-08-29T08:03:04.278Z"
   },
   {
    "duration": 374,
    "start_time": "2022-08-29T08:03:04.296Z"
   },
   {
    "duration": 97,
    "start_time": "2022-08-29T08:03:04.672Z"
   },
   {
    "duration": 601,
    "start_time": "2022-08-29T08:03:04.771Z"
   },
   {
    "duration": 49,
    "start_time": "2022-08-29T08:03:05.375Z"
   },
   {
    "duration": 96,
    "start_time": "2022-08-29T08:03:05.426Z"
   },
   {
    "duration": 207,
    "start_time": "2022-08-29T08:03:05.524Z"
   },
   {
    "duration": 215,
    "start_time": "2022-08-29T08:03:05.733Z"
   },
   {
    "duration": 262,
    "start_time": "2022-08-29T08:03:05.951Z"
   },
   {
    "duration": 40,
    "start_time": "2022-08-29T08:03:06.215Z"
   },
   {
    "duration": 9,
    "start_time": "2022-08-29T08:03:06.256Z"
   },
   {
    "duration": 13,
    "start_time": "2022-08-29T08:03:06.267Z"
   },
   {
    "duration": 358,
    "start_time": "2022-08-29T08:03:06.282Z"
   },
   {
    "duration": 20,
    "start_time": "2022-08-29T08:03:06.642Z"
   },
   {
    "duration": 63,
    "start_time": "2022-08-29T08:03:06.664Z"
   },
   {
    "duration": 119,
    "start_time": "2022-08-29T08:03:06.729Z"
   },
   {
    "duration": 5,
    "start_time": "2022-08-29T08:03:06.849Z"
   },
   {
    "duration": 169581,
    "start_time": "2022-08-29T08:03:06.855Z"
   },
   {
    "duration": 3,
    "start_time": "2022-08-29T08:05:56.438Z"
   },
   {
    "duration": 73,
    "start_time": "2022-08-29T08:05:56.443Z"
   },
   {
    "duration": 52,
    "start_time": "2022-08-29T08:32:59.759Z"
   },
   {
    "duration": 3,
    "start_time": "2022-08-29T08:33:30.253Z"
   },
   {
    "duration": 110,
    "start_time": "2022-08-29T08:34:30.724Z"
   },
   {
    "duration": 48,
    "start_time": "2022-08-29T08:34:38.786Z"
   },
   {
    "duration": 781,
    "start_time": "2022-08-29T08:34:44.434Z"
   },
   {
    "duration": 5,
    "start_time": "2022-08-29T08:38:06.541Z"
   },
   {
    "duration": 21,
    "start_time": "2022-08-29T08:38:19.975Z"
   },
   {
    "duration": 1309,
    "start_time": "2022-08-29T08:38:36.637Z"
   },
   {
    "duration": 811,
    "start_time": "2022-08-29T08:38:37.947Z"
   },
   {
    "duration": 8,
    "start_time": "2022-08-29T08:38:38.759Z"
   },
   {
    "duration": 2608,
    "start_time": "2022-08-29T08:38:38.770Z"
   },
   {
    "duration": 58,
    "start_time": "2022-08-29T08:38:41.379Z"
   },
   {
    "duration": 16,
    "start_time": "2022-08-29T08:38:41.438Z"
   },
   {
    "duration": 398,
    "start_time": "2022-08-29T08:38:41.455Z"
   },
   {
    "duration": 96,
    "start_time": "2022-08-29T08:38:41.855Z"
   },
   {
    "duration": 579,
    "start_time": "2022-08-29T08:38:41.953Z"
   },
   {
    "duration": 39,
    "start_time": "2022-08-29T08:38:42.535Z"
   },
   {
    "duration": 102,
    "start_time": "2022-08-29T08:38:42.576Z"
   },
   {
    "duration": 198,
    "start_time": "2022-08-29T08:38:42.680Z"
   },
   {
    "duration": 214,
    "start_time": "2022-08-29T08:38:42.880Z"
   },
   {
    "duration": 300,
    "start_time": "2022-08-29T08:38:43.096Z"
   },
   {
    "duration": 46,
    "start_time": "2022-08-29T08:38:43.398Z"
   },
   {
    "duration": 10,
    "start_time": "2022-08-29T08:38:43.445Z"
   },
   {
    "duration": 2,
    "start_time": "2022-08-29T08:38:43.457Z"
   },
   {
    "duration": 370,
    "start_time": "2022-08-29T08:38:43.461Z"
   },
   {
    "duration": 23,
    "start_time": "2022-08-29T08:38:43.833Z"
   },
   {
    "duration": 71,
    "start_time": "2022-08-29T08:38:43.858Z"
   },
   {
    "duration": 45,
    "start_time": "2022-08-29T08:38:43.931Z"
   },
   {
    "duration": 4,
    "start_time": "2022-08-29T08:38:43.978Z"
   },
   {
    "duration": 169975,
    "start_time": "2022-08-29T08:38:43.983Z"
   },
   {
    "duration": 4,
    "start_time": "2022-08-29T08:41:33.960Z"
   },
   {
    "duration": 52,
    "start_time": "2022-08-29T08:41:33.965Z"
   },
   {
    "duration": 93,
    "start_time": "2022-08-29T08:41:34.018Z"
   },
   {
    "duration": 105,
    "start_time": "2022-08-29T08:41:34.113Z"
   },
   {
    "duration": 122,
    "start_time": "2022-08-29T08:41:34.220Z"
   },
   {
    "duration": 13,
    "start_time": "2022-08-29T08:42:06.878Z"
   },
   {
    "duration": 14,
    "start_time": "2022-08-29T08:42:33.839Z"
   },
   {
    "duration": 9,
    "start_time": "2022-08-29T08:44:41.553Z"
   },
   {
    "duration": 3,
    "start_time": "2022-08-29T08:44:50.243Z"
   },
   {
    "duration": 5,
    "start_time": "2022-08-29T08:44:51.646Z"
   },
   {
    "duration": 9,
    "start_time": "2022-08-29T08:44:52.347Z"
   },
   {
    "duration": 10,
    "start_time": "2022-08-29T08:45:56.520Z"
   },
   {
    "duration": 14,
    "start_time": "2022-08-29T08:46:07.180Z"
   },
   {
    "duration": 15,
    "start_time": "2022-08-29T08:46:17.577Z"
   },
   {
    "duration": 11,
    "start_time": "2022-08-29T08:46:28.913Z"
   },
   {
    "duration": 6,
    "start_time": "2022-08-29T08:47:18.329Z"
   },
   {
    "duration": 22,
    "start_time": "2022-08-29T08:47:36.113Z"
   },
   {
    "duration": 3,
    "start_time": "2022-08-29T08:51:03.244Z"
   },
   {
    "duration": 3,
    "start_time": "2022-08-29T08:51:26.252Z"
   },
   {
    "duration": 12,
    "start_time": "2022-08-29T08:52:12.731Z"
   },
   {
    "duration": 3,
    "start_time": "2022-08-29T08:54:28.383Z"
   },
   {
    "duration": 1407,
    "start_time": "2022-08-29T08:54:31.494Z"
   },
   {
    "duration": 8,
    "start_time": "2022-08-29T08:55:19.667Z"
   },
   {
    "duration": 10,
    "start_time": "2022-08-29T08:55:43.166Z"
   },
   {
    "duration": 3,
    "start_time": "2022-08-29T08:55:58.936Z"
   },
   {
    "duration": 893,
    "start_time": "2022-08-29T08:55:59.927Z"
   },
   {
    "duration": 11,
    "start_time": "2022-08-29T08:56:04.892Z"
   },
   {
    "duration": 3,
    "start_time": "2022-08-29T08:56:09.920Z"
   },
   {
    "duration": 1293,
    "start_time": "2022-08-29T08:56:10.620Z"
   },
   {
    "duration": 10,
    "start_time": "2022-08-29T08:56:13.372Z"
   },
   {
    "duration": 3,
    "start_time": "2022-08-29T08:56:16.339Z"
   },
   {
    "duration": 1325,
    "start_time": "2022-08-29T08:56:16.883Z"
   },
   {
    "duration": 3,
    "start_time": "2022-08-29T08:56:21.411Z"
   },
   {
    "duration": 2695,
    "start_time": "2022-08-29T08:56:21.949Z"
   },
   {
    "duration": 15,
    "start_time": "2022-08-29T08:56:27.539Z"
   },
   {
    "duration": 2,
    "start_time": "2022-08-29T08:56:33.445Z"
   },
   {
    "duration": 4282,
    "start_time": "2022-08-29T08:56:36.019Z"
   },
   {
    "duration": 3,
    "start_time": "2022-08-29T08:56:51.404Z"
   },
   {
    "duration": 2013,
    "start_time": "2022-08-29T08:56:54.014Z"
   },
   {
    "duration": 13,
    "start_time": "2022-08-29T08:56:58.098Z"
   },
   {
    "duration": 12,
    "start_time": "2022-08-29T09:00:31.621Z"
   },
   {
    "duration": 2121,
    "start_time": "2022-08-29T09:00:46.303Z"
   },
   {
    "duration": 758,
    "start_time": "2022-08-29T09:04:00.481Z"
   },
   {
    "duration": 1451,
    "start_time": "2022-08-29T09:04:21.417Z"
   },
   {
    "duration": 739,
    "start_time": "2022-08-29T09:04:38.554Z"
   },
   {
    "duration": 2160,
    "start_time": "2022-08-29T09:04:46.074Z"
   },
   {
    "duration": 33,
    "start_time": "2022-08-29T10:55:45.324Z"
   },
   {
    "duration": 3,
    "start_time": "2022-08-29T10:57:29.345Z"
   },
   {
    "duration": 3455,
    "start_time": "2022-08-29T10:57:55.759Z"
   },
   {
    "duration": 287,
    "start_time": "2022-08-29T10:58:34.327Z"
   },
   {
    "duration": 14,
    "start_time": "2022-08-29T11:03:42.442Z"
   },
   {
    "duration": 74596,
    "start_time": "2022-08-29T11:03:48.427Z"
   },
   {
    "duration": 77144,
    "start_time": "2022-08-29T11:16:15.973Z"
   },
   {
    "duration": 10,
    "start_time": "2022-08-29T11:23:17.486Z"
   },
   {
    "duration": 10,
    "start_time": "2022-08-29T11:25:28.946Z"
   },
   {
    "duration": 2726,
    "start_time": "2022-08-29T11:25:47.891Z"
   },
   {
    "duration": 8018,
    "start_time": "2022-08-29T11:42:12.318Z"
   },
   {
    "duration": 7910,
    "start_time": "2022-08-29T11:43:19.193Z"
   },
   {
    "duration": 2701,
    "start_time": "2022-08-29T11:45:01.962Z"
   },
   {
    "duration": 2211,
    "start_time": "2022-08-29T11:47:50.103Z"
   },
   {
    "duration": 2038,
    "start_time": "2022-08-29T11:49:42.517Z"
   },
   {
    "duration": 4696,
    "start_time": "2022-08-29T11:49:51.031Z"
   },
   {
    "duration": 8467,
    "start_time": "2022-08-29T11:50:12.944Z"
   },
   {
    "duration": 1480,
    "start_time": "2022-08-29T12:38:48.703Z"
   },
   {
    "duration": 847,
    "start_time": "2022-08-29T12:38:50.185Z"
   },
   {
    "duration": 8,
    "start_time": "2022-08-29T12:38:51.033Z"
   },
   {
    "duration": 3073,
    "start_time": "2022-08-29T12:38:51.042Z"
   },
   {
    "duration": 96,
    "start_time": "2022-08-29T12:38:54.117Z"
   },
   {
    "duration": 16,
    "start_time": "2022-08-29T12:38:54.215Z"
   },
   {
    "duration": 558,
    "start_time": "2022-08-29T12:38:54.233Z"
   },
   {
    "duration": 104,
    "start_time": "2022-08-29T12:38:54.793Z"
   },
   {
    "duration": 558,
    "start_time": "2022-08-29T12:38:54.899Z"
   },
   {
    "duration": 40,
    "start_time": "2022-08-29T12:38:55.459Z"
   },
   {
    "duration": 98,
    "start_time": "2022-08-29T12:38:55.500Z"
   },
   {
    "duration": 219,
    "start_time": "2022-08-29T12:38:55.599Z"
   },
   {
    "duration": 234,
    "start_time": "2022-08-29T12:38:55.820Z"
   },
   {
    "duration": 304,
    "start_time": "2022-08-29T12:38:56.057Z"
   },
   {
    "duration": 47,
    "start_time": "2022-08-29T12:38:56.363Z"
   },
   {
    "duration": 10,
    "start_time": "2022-08-29T12:38:56.411Z"
   },
   {
    "duration": 3,
    "start_time": "2022-08-29T12:38:56.423Z"
   },
   {
    "duration": 337,
    "start_time": "2022-08-29T12:38:56.427Z"
   },
   {
    "duration": 20,
    "start_time": "2022-08-29T12:38:56.766Z"
   },
   {
    "duration": 63,
    "start_time": "2022-08-29T12:38:56.787Z"
   },
   {
    "duration": 32,
    "start_time": "2022-08-29T12:38:56.852Z"
   },
   {
    "duration": 4,
    "start_time": "2022-08-29T12:38:56.886Z"
   },
   {
    "duration": 175812,
    "start_time": "2022-08-29T12:38:56.891Z"
   },
   {
    "duration": 3,
    "start_time": "2022-08-29T12:41:52.709Z"
   },
   {
    "duration": 100,
    "start_time": "2022-08-29T12:41:52.714Z"
   },
   {
    "duration": 975,
    "start_time": "2022-08-29T12:41:52.817Z"
   },
   {
    "duration": 1302,
    "start_time": "2022-08-29T12:41:53.794Z"
   },
   {
    "duration": 2023,
    "start_time": "2022-08-29T12:41:55.097Z"
   },
   {
    "duration": 89691,
    "start_time": "2022-08-29T12:41:57.121Z"
   },
   {
    "duration": 5,
    "start_time": "2022-08-29T12:43:26.814Z"
   },
   {
    "duration": 2693,
    "start_time": "2022-08-29T12:43:26.821Z"
   },
   {
    "duration": 8242,
    "start_time": "2022-08-29T12:43:29.519Z"
   },
   {
    "duration": 1914,
    "start_time": "2022-08-29T12:43:37.763Z"
   },
   {
    "duration": 2440,
    "start_time": "2022-08-29T12:43:39.680Z"
   },
   {
    "duration": 1459,
    "start_time": "2022-08-30T10:06:31.342Z"
   },
   {
    "duration": 1027,
    "start_time": "2022-08-30T10:06:32.803Z"
   },
   {
    "duration": 8,
    "start_time": "2022-08-30T10:06:33.831Z"
   },
   {
    "duration": 2173,
    "start_time": "2022-08-30T10:06:33.841Z"
   },
   {
    "duration": 37,
    "start_time": "2022-08-30T10:06:36.016Z"
   },
   {
    "duration": 15,
    "start_time": "2022-08-30T10:06:36.055Z"
   },
   {
    "duration": 323,
    "start_time": "2022-08-30T10:06:36.073Z"
   },
   {
    "duration": 85,
    "start_time": "2022-08-30T10:06:36.398Z"
   },
   {
    "duration": 555,
    "start_time": "2022-08-30T10:06:36.485Z"
   },
   {
    "duration": 37,
    "start_time": "2022-08-30T10:06:37.043Z"
   },
   {
    "duration": 88,
    "start_time": "2022-08-30T10:06:37.081Z"
   },
   {
    "duration": 193,
    "start_time": "2022-08-30T10:06:37.170Z"
   },
   {
    "duration": 189,
    "start_time": "2022-08-30T10:06:37.365Z"
   },
   {
    "duration": 261,
    "start_time": "2022-08-30T10:06:37.555Z"
   },
   {
    "duration": 37,
    "start_time": "2022-08-30T10:06:37.818Z"
   },
   {
    "duration": 10,
    "start_time": "2022-08-30T10:06:37.857Z"
   },
   {
    "duration": 2,
    "start_time": "2022-08-30T10:06:37.868Z"
   },
   {
    "duration": 343,
    "start_time": "2022-08-30T10:06:37.872Z"
   },
   {
    "duration": 19,
    "start_time": "2022-08-30T10:06:38.216Z"
   },
   {
    "duration": 41,
    "start_time": "2022-08-30T10:06:38.236Z"
   },
   {
    "duration": 42,
    "start_time": "2022-08-30T10:06:38.279Z"
   },
   {
    "duration": 3,
    "start_time": "2022-08-30T10:06:38.323Z"
   },
   {
    "duration": 176764,
    "start_time": "2022-08-30T10:06:38.327Z"
   },
   {
    "duration": 7,
    "start_time": "2022-08-30T10:09:35.092Z"
   },
   {
    "duration": 17,
    "start_time": "2022-08-30T10:09:35.100Z"
   },
   {
    "duration": 973,
    "start_time": "2022-08-30T10:09:35.119Z"
   },
   {
    "duration": 1263,
    "start_time": "2022-08-30T10:09:36.093Z"
   },
   {
    "duration": 2238,
    "start_time": "2022-08-30T10:09:37.359Z"
   },
   {
    "duration": 1515,
    "start_time": "2022-08-30T10:22:08.035Z"
   },
   {
    "duration": 966,
    "start_time": "2022-08-30T10:22:09.552Z"
   },
   {
    "duration": 7,
    "start_time": "2022-08-30T10:22:10.519Z"
   },
   {
    "duration": 2572,
    "start_time": "2022-08-30T10:22:10.528Z"
   },
   {
    "duration": 35,
    "start_time": "2022-08-30T10:22:13.102Z"
   },
   {
    "duration": 12,
    "start_time": "2022-08-30T10:22:13.139Z"
   },
   {
    "duration": 302,
    "start_time": "2022-08-30T10:22:13.153Z"
   },
   {
    "duration": 87,
    "start_time": "2022-08-30T10:22:13.456Z"
   },
   {
    "duration": 542,
    "start_time": "2022-08-30T10:22:13.545Z"
   },
   {
    "duration": 42,
    "start_time": "2022-08-30T10:22:14.089Z"
   },
   {
    "duration": 86,
    "start_time": "2022-08-30T10:22:14.132Z"
   },
   {
    "duration": 180,
    "start_time": "2022-08-30T10:22:14.220Z"
   },
   {
    "duration": 226,
    "start_time": "2022-08-30T10:22:14.402Z"
   },
   {
    "duration": 234,
    "start_time": "2022-08-30T10:22:14.631Z"
   },
   {
    "duration": 47,
    "start_time": "2022-08-30T10:22:14.867Z"
   },
   {
    "duration": 9,
    "start_time": "2022-08-30T10:22:14.915Z"
   },
   {
    "duration": 2,
    "start_time": "2022-08-30T10:22:14.926Z"
   },
   {
    "duration": 340,
    "start_time": "2022-08-30T10:22:14.929Z"
   },
   {
    "duration": 18,
    "start_time": "2022-08-30T10:22:15.270Z"
   },
   {
    "duration": 36,
    "start_time": "2022-08-30T10:22:15.298Z"
   },
   {
    "duration": 23,
    "start_time": "2022-08-30T10:22:15.336Z"
   },
   {
    "duration": 4,
    "start_time": "2022-08-30T10:22:15.360Z"
   },
   {
    "duration": 172527,
    "start_time": "2022-08-30T10:22:15.366Z"
   },
   {
    "duration": 6,
    "start_time": "2022-08-30T10:25:07.894Z"
   },
   {
    "duration": 15,
    "start_time": "2022-08-30T10:25:07.902Z"
   },
   {
    "duration": 904,
    "start_time": "2022-08-30T10:25:07.919Z"
   },
   {
    "duration": 1382,
    "start_time": "2022-08-30T10:25:08.825Z"
   },
   {
    "duration": 1977,
    "start_time": "2022-08-30T10:25:10.208Z"
   },
   {
    "duration": 80216,
    "start_time": "2022-08-30T10:25:12.187Z"
   },
   {
    "duration": 5,
    "start_time": "2022-08-30T10:26:32.407Z"
   },
   {
    "duration": 1892,
    "start_time": "2022-08-30T10:26:32.413Z"
   },
   {
    "duration": 8259,
    "start_time": "2022-08-30T10:26:34.306Z"
   },
   {
    "duration": 1901,
    "start_time": "2022-08-30T10:26:42.567Z"
   },
   {
    "duration": 2238,
    "start_time": "2022-08-30T10:26:44.470Z"
   },
   {
    "duration": 1523,
    "start_time": "2022-08-31T11:20:26.858Z"
   },
   {
    "duration": 1063,
    "start_time": "2022-08-31T11:20:28.383Z"
   },
   {
    "duration": 7,
    "start_time": "2022-08-31T11:20:29.448Z"
   },
   {
    "duration": 2243,
    "start_time": "2022-08-31T11:20:29.457Z"
   },
   {
    "duration": 43,
    "start_time": "2022-08-31T11:20:31.702Z"
   },
   {
    "duration": 27,
    "start_time": "2022-08-31T11:20:31.747Z"
   },
   {
    "duration": 324,
    "start_time": "2022-08-31T11:20:31.776Z"
   },
   {
    "duration": 80,
    "start_time": "2022-08-31T11:20:32.102Z"
   },
   {
    "duration": 497,
    "start_time": "2022-08-31T11:20:32.183Z"
   },
   {
    "duration": 48,
    "start_time": "2022-08-31T11:20:32.683Z"
   },
   {
    "duration": 95,
    "start_time": "2022-08-31T11:20:32.732Z"
   },
   {
    "duration": 186,
    "start_time": "2022-08-31T11:20:32.829Z"
   },
   {
    "duration": 187,
    "start_time": "2022-08-31T11:20:33.016Z"
   },
   {
    "duration": 284,
    "start_time": "2022-08-31T11:20:33.204Z"
   },
   {
    "duration": 43,
    "start_time": "2022-08-31T11:20:33.489Z"
   },
   {
    "duration": 9,
    "start_time": "2022-08-31T11:20:33.534Z"
   },
   {
    "duration": 8,
    "start_time": "2022-08-31T11:20:33.545Z"
   },
   {
    "duration": 309,
    "start_time": "2022-08-31T11:20:33.554Z"
   },
   {
    "duration": 25,
    "start_time": "2022-08-31T11:20:33.865Z"
   },
   {
    "duration": 60,
    "start_time": "2022-08-31T11:20:33.899Z"
   },
   {
    "duration": 51,
    "start_time": "2022-08-31T11:20:33.962Z"
   },
   {
    "duration": 4,
    "start_time": "2022-08-31T11:20:34.015Z"
   },
   {
    "duration": 160446,
    "start_time": "2022-08-31T11:20:34.020Z"
   },
   {
    "duration": 4,
    "start_time": "2022-08-31T11:23:14.469Z"
   },
   {
    "duration": 126,
    "start_time": "2022-08-31T11:23:14.475Z"
   },
   {
    "duration": 895,
    "start_time": "2022-08-31T11:23:14.606Z"
   },
   {
    "duration": 1228,
    "start_time": "2022-08-31T11:23:15.503Z"
   },
   {
    "duration": 1962,
    "start_time": "2022-08-31T11:23:16.734Z"
   },
   {
    "duration": 125909,
    "start_time": "2022-08-31T11:23:18.697Z"
   },
   {
    "duration": 5,
    "start_time": "2022-08-31T11:25:24.608Z"
   },
   {
    "duration": 2587,
    "start_time": "2022-08-31T11:25:24.614Z"
   },
   {
    "duration": 7566,
    "start_time": "2022-08-31T11:25:27.203Z"
   },
   {
    "duration": 2144,
    "start_time": "2022-08-31T11:25:34.771Z"
   },
   {
    "duration": 2091,
    "start_time": "2022-08-31T11:25:36.917Z"
   },
   {
    "duration": 141,
    "start_time": "2022-08-31T11:36:08.818Z"
   },
   {
    "duration": 10,
    "start_time": "2022-08-31T11:37:31.976Z"
   },
   {
    "duration": 13,
    "start_time": "2022-08-31T11:38:42.029Z"
   },
   {
    "duration": 11,
    "start_time": "2022-08-31T11:57:08.182Z"
   },
   {
    "duration": 1342,
    "start_time": "2022-08-31T11:57:37.608Z"
   },
   {
    "duration": 759,
    "start_time": "2022-08-31T11:57:38.952Z"
   },
   {
    "duration": 7,
    "start_time": "2022-08-31T11:57:39.713Z"
   },
   {
    "duration": 2239,
    "start_time": "2022-08-31T11:57:39.721Z"
   },
   {
    "duration": 919,
    "start_time": "2022-08-31T11:57:41.961Z"
   },
   {
    "duration": 21,
    "start_time": "2022-08-31T11:57:42.882Z"
   },
   {
    "duration": 42,
    "start_time": "2022-08-31T11:57:42.905Z"
   },
   {
    "duration": 11,
    "start_time": "2022-08-31T11:57:42.949Z"
   },
   {
    "duration": 130,
    "start_time": "2022-08-31T11:57:42.961Z"
   },
   {
    "duration": 674,
    "start_time": "2022-08-31T11:57:43.100Z"
   },
   {
    "duration": 51,
    "start_time": "2022-08-31T11:57:43.775Z"
   },
   {
    "duration": 132,
    "start_time": "2022-08-31T11:57:43.828Z"
   },
   {
    "duration": 196,
    "start_time": "2022-08-31T11:57:43.961Z"
   },
   {
    "duration": 199,
    "start_time": "2022-08-31T11:57:44.159Z"
   },
   {
    "duration": 346,
    "start_time": "2022-08-31T11:57:44.360Z"
   },
   {
    "duration": 45,
    "start_time": "2022-08-31T11:57:44.708Z"
   },
   {
    "duration": 12,
    "start_time": "2022-08-31T11:57:44.755Z"
   },
   {
    "duration": 6,
    "start_time": "2022-08-31T11:57:44.769Z"
   },
   {
    "duration": 400,
    "start_time": "2022-08-31T11:57:44.777Z"
   },
   {
    "duration": 28,
    "start_time": "2022-08-31T11:57:45.179Z"
   },
   {
    "duration": 69,
    "start_time": "2022-08-31T11:57:45.208Z"
   },
   {
    "duration": 51,
    "start_time": "2022-08-31T11:57:45.279Z"
   },
   {
    "duration": 5,
    "start_time": "2022-08-31T11:57:45.332Z"
   },
   {
    "duration": 194564,
    "start_time": "2022-08-31T11:57:45.338Z"
   },
   {
    "duration": 4,
    "start_time": "2022-08-31T12:00:59.904Z"
   },
   {
    "duration": 96,
    "start_time": "2022-08-31T12:00:59.910Z"
   },
   {
    "duration": 1434,
    "start_time": "2022-08-31T12:01:00.010Z"
   },
   {
    "duration": 1473,
    "start_time": "2022-08-31T12:01:01.450Z"
   },
   {
    "duration": 2345,
    "start_time": "2022-08-31T12:01:02.925Z"
   },
   {
    "duration": 87242,
    "start_time": "2022-08-31T12:01:05.272Z"
   },
   {
    "duration": 86,
    "start_time": "2022-08-31T12:02:32.515Z"
   },
   {
    "duration": 3041,
    "start_time": "2022-08-31T12:02:32.602Z"
   },
   {
    "duration": 9131,
    "start_time": "2022-08-31T12:02:35.645Z"
   },
   {
    "duration": 3220,
    "start_time": "2022-08-31T12:02:44.778Z"
   },
   {
    "duration": 2507,
    "start_time": "2022-08-31T12:02:48.000Z"
   },
   {
    "duration": 1299,
    "start_time": "2022-08-31T12:21:27.250Z"
   },
   {
    "duration": 739,
    "start_time": "2022-08-31T12:21:28.551Z"
   },
   {
    "duration": 10,
    "start_time": "2022-08-31T12:21:29.292Z"
   },
   {
    "duration": 2164,
    "start_time": "2022-08-31T12:21:29.303Z"
   },
   {
    "duration": 894,
    "start_time": "2022-08-31T12:21:31.470Z"
   },
   {
    "duration": 213,
    "start_time": "2022-08-31T12:21:32.365Z"
   },
   {
    "duration": 36,
    "start_time": "2022-08-31T12:21:32.580Z"
   },
   {
    "duration": 10,
    "start_time": "2022-08-31T12:21:32.618Z"
   },
   {
    "duration": 664,
    "start_time": "2022-08-31T12:21:32.629Z"
   },
   {
    "duration": 40,
    "start_time": "2022-08-31T12:21:33.300Z"
   },
   {
    "duration": 137,
    "start_time": "2022-08-31T12:21:33.342Z"
   },
   {
    "duration": 189,
    "start_time": "2022-08-31T12:21:33.481Z"
   },
   {
    "duration": 190,
    "start_time": "2022-08-31T12:21:33.672Z"
   },
   {
    "duration": 299,
    "start_time": "2022-08-31T12:21:33.864Z"
   },
   {
    "duration": 46,
    "start_time": "2022-08-31T12:21:34.165Z"
   },
   {
    "duration": 12,
    "start_time": "2022-08-31T12:21:34.213Z"
   },
   {
    "duration": 3,
    "start_time": "2022-08-31T12:21:34.227Z"
   },
   {
    "duration": 394,
    "start_time": "2022-08-31T12:21:34.232Z"
   },
   {
    "duration": 22,
    "start_time": "2022-08-31T12:21:34.628Z"
   },
   {
    "duration": 70,
    "start_time": "2022-08-31T12:21:34.652Z"
   },
   {
    "duration": 43,
    "start_time": "2022-08-31T12:21:34.724Z"
   },
   {
    "duration": 4,
    "start_time": "2022-08-31T12:21:34.769Z"
   },
   {
    "duration": 13066,
    "start_time": "2022-08-31T12:21:34.774Z"
   },
   {
    "duration": 0,
    "start_time": "2022-08-31T12:21:47.842Z"
   },
   {
    "duration": 0,
    "start_time": "2022-08-31T12:21:47.844Z"
   },
   {
    "duration": 0,
    "start_time": "2022-08-31T12:21:47.845Z"
   },
   {
    "duration": 0,
    "start_time": "2022-08-31T12:21:47.846Z"
   },
   {
    "duration": 0,
    "start_time": "2022-08-31T12:21:47.848Z"
   },
   {
    "duration": 0,
    "start_time": "2022-08-31T12:21:47.849Z"
   },
   {
    "duration": 0,
    "start_time": "2022-08-31T12:21:47.851Z"
   },
   {
    "duration": 0,
    "start_time": "2022-08-31T12:21:47.852Z"
   },
   {
    "duration": 0,
    "start_time": "2022-08-31T12:21:47.853Z"
   },
   {
    "duration": 0,
    "start_time": "2022-08-31T12:21:47.854Z"
   },
   {
    "duration": 0,
    "start_time": "2022-08-31T12:21:47.856Z"
   },
   {
    "duration": 1371,
    "start_time": "2022-08-31T12:21:52.876Z"
   },
   {
    "duration": 742,
    "start_time": "2022-08-31T12:21:54.249Z"
   },
   {
    "duration": 10,
    "start_time": "2022-08-31T12:21:54.993Z"
   },
   {
    "duration": 2201,
    "start_time": "2022-08-31T12:21:55.006Z"
   },
   {
    "duration": 897,
    "start_time": "2022-08-31T12:21:57.209Z"
   },
   {
    "duration": 201,
    "start_time": "2022-08-31T12:21:58.107Z"
   },
   {
    "duration": 32,
    "start_time": "2022-08-31T12:21:58.310Z"
   },
   {
    "duration": 12,
    "start_time": "2022-08-31T12:21:58.344Z"
   },
   {
    "duration": 707,
    "start_time": "2022-08-31T12:21:58.358Z"
   },
   {
    "duration": 50,
    "start_time": "2022-08-31T12:21:59.066Z"
   },
   {
    "duration": 102,
    "start_time": "2022-08-31T12:21:59.118Z"
   },
   {
    "duration": 189,
    "start_time": "2022-08-31T12:21:59.222Z"
   },
   {
    "duration": 202,
    "start_time": "2022-08-31T12:21:59.413Z"
   },
   {
    "duration": 292,
    "start_time": "2022-08-31T12:21:59.618Z"
   },
   {
    "duration": 39,
    "start_time": "2022-08-31T12:21:59.912Z"
   },
   {
    "duration": 10,
    "start_time": "2022-08-31T12:21:59.953Z"
   },
   {
    "duration": 3,
    "start_time": "2022-08-31T12:21:59.964Z"
   },
   {
    "duration": 429,
    "start_time": "2022-08-31T12:21:59.968Z"
   },
   {
    "duration": 23,
    "start_time": "2022-08-31T12:22:00.398Z"
   },
   {
    "duration": 62,
    "start_time": "2022-08-31T12:22:00.422Z"
   },
   {
    "duration": 49,
    "start_time": "2022-08-31T12:22:00.486Z"
   },
   {
    "duration": 4,
    "start_time": "2022-08-31T12:22:00.536Z"
   },
   {
    "duration": 189209,
    "start_time": "2022-08-31T12:22:00.542Z"
   },
   {
    "duration": 4,
    "start_time": "2022-08-31T12:25:09.753Z"
   },
   {
    "duration": 49,
    "start_time": "2022-08-31T12:25:09.758Z"
   },
   {
    "duration": 1064,
    "start_time": "2022-08-31T12:25:09.808Z"
   },
   {
    "duration": 1379,
    "start_time": "2022-08-31T12:25:10.874Z"
   },
   {
    "duration": 2277,
    "start_time": "2022-08-31T12:25:12.255Z"
   },
   {
    "duration": 88170,
    "start_time": "2022-08-31T12:25:14.534Z"
   },
   {
    "duration": 5,
    "start_time": "2022-08-31T12:26:42.706Z"
   },
   {
    "duration": 3036,
    "start_time": "2022-08-31T12:26:42.713Z"
   },
   {
    "duration": 9237,
    "start_time": "2022-08-31T12:26:45.751Z"
   },
   {
    "duration": 2130,
    "start_time": "2022-08-31T12:26:54.990Z"
   },
   {
    "duration": 4184,
    "start_time": "2022-08-31T12:26:57.122Z"
   },
   {
    "duration": 21,
    "start_time": "2022-08-31T12:27:19.654Z"
   },
   {
    "duration": 21,
    "start_time": "2022-08-31T12:28:07.295Z"
   },
   {
    "duration": 19,
    "start_time": "2022-08-31T12:28:10.416Z"
   },
   {
    "duration": 1332,
    "start_time": "2022-08-31T12:28:16.526Z"
   },
   {
    "duration": 730,
    "start_time": "2022-08-31T12:28:17.860Z"
   },
   {
    "duration": 9,
    "start_time": "2022-08-31T12:28:18.592Z"
   },
   {
    "duration": 2214,
    "start_time": "2022-08-31T12:28:18.603Z"
   },
   {
    "duration": 921,
    "start_time": "2022-08-31T12:28:20.819Z"
   },
   {
    "duration": 33,
    "start_time": "2022-08-31T12:28:21.741Z"
   },
   {
    "duration": 39,
    "start_time": "2022-08-31T12:28:21.776Z"
   },
   {
    "duration": 44,
    "start_time": "2022-08-31T12:28:21.818Z"
   },
   {
    "duration": 10,
    "start_time": "2022-08-31T12:28:21.863Z"
   },
   {
    "duration": 1012,
    "start_time": "2022-08-31T12:28:21.875Z"
   },
   {
    "duration": 61,
    "start_time": "2022-08-31T12:28:22.889Z"
   },
   {
    "duration": 179,
    "start_time": "2022-08-31T12:28:22.952Z"
   },
   {
    "duration": 191,
    "start_time": "2022-08-31T12:28:23.133Z"
   },
   {
    "duration": 187,
    "start_time": "2022-08-31T12:28:23.325Z"
   },
   {
    "duration": 279,
    "start_time": "2022-08-31T12:28:23.514Z"
   },
   {
    "duration": 47,
    "start_time": "2022-08-31T12:28:23.795Z"
   },
   {
    "duration": 14,
    "start_time": "2022-08-31T12:28:23.843Z"
   },
   {
    "duration": 5,
    "start_time": "2022-08-31T12:28:23.860Z"
   },
   {
    "duration": 156,
    "start_time": "2022-08-31T12:28:23.866Z"
   },
   {
    "duration": 0,
    "start_time": "2022-08-31T12:28:24.024Z"
   },
   {
    "duration": 0,
    "start_time": "2022-08-31T12:28:24.026Z"
   },
   {
    "duration": 0,
    "start_time": "2022-08-31T12:28:24.027Z"
   },
   {
    "duration": 0,
    "start_time": "2022-08-31T12:28:24.027Z"
   },
   {
    "duration": 0,
    "start_time": "2022-08-31T12:28:24.029Z"
   },
   {
    "duration": 0,
    "start_time": "2022-08-31T12:28:24.030Z"
   },
   {
    "duration": 0,
    "start_time": "2022-08-31T12:28:24.031Z"
   },
   {
    "duration": 0,
    "start_time": "2022-08-31T12:28:24.032Z"
   },
   {
    "duration": 0,
    "start_time": "2022-08-31T12:28:24.032Z"
   },
   {
    "duration": 0,
    "start_time": "2022-08-31T12:28:24.033Z"
   },
   {
    "duration": 0,
    "start_time": "2022-08-31T12:28:24.035Z"
   },
   {
    "duration": 0,
    "start_time": "2022-08-31T12:28:24.036Z"
   },
   {
    "duration": 0,
    "start_time": "2022-08-31T12:28:24.036Z"
   },
   {
    "duration": 0,
    "start_time": "2022-08-31T12:28:24.037Z"
   },
   {
    "duration": 0,
    "start_time": "2022-08-31T12:28:24.039Z"
   },
   {
    "duration": 0,
    "start_time": "2022-08-31T12:28:24.039Z"
   },
   {
    "duration": 1388,
    "start_time": "2022-08-31T12:28:53.457Z"
   },
   {
    "duration": 765,
    "start_time": "2022-08-31T12:28:54.847Z"
   },
   {
    "duration": 7,
    "start_time": "2022-08-31T12:28:55.613Z"
   },
   {
    "duration": 2285,
    "start_time": "2022-08-31T12:28:55.622Z"
   },
   {
    "duration": 912,
    "start_time": "2022-08-31T12:28:57.909Z"
   },
   {
    "duration": 30,
    "start_time": "2022-08-31T12:28:58.823Z"
   },
   {
    "duration": 27,
    "start_time": "2022-08-31T12:28:58.855Z"
   },
   {
    "duration": 51,
    "start_time": "2022-08-31T12:28:58.884Z"
   },
   {
    "duration": 10,
    "start_time": "2022-08-31T12:28:58.937Z"
   },
   {
    "duration": 1007,
    "start_time": "2022-08-31T12:28:58.950Z"
   },
   {
    "duration": 73,
    "start_time": "2022-08-31T12:28:59.959Z"
   },
   {
    "duration": 187,
    "start_time": "2022-08-31T12:29:00.033Z"
   },
   {
    "duration": 199,
    "start_time": "2022-08-31T12:29:00.222Z"
   },
   {
    "duration": 201,
    "start_time": "2022-08-31T12:29:00.423Z"
   },
   {
    "duration": 310,
    "start_time": "2022-08-31T12:29:00.626Z"
   },
   {
    "duration": 73,
    "start_time": "2022-08-31T12:29:00.937Z"
   },
   {
    "duration": 14,
    "start_time": "2022-08-31T12:29:01.012Z"
   },
   {
    "duration": 19,
    "start_time": "2022-08-31T12:29:01.028Z"
   },
   {
    "duration": 269,
    "start_time": "2022-08-31T12:29:01.049Z"
   },
   {
    "duration": 0,
    "start_time": "2022-08-31T12:29:01.320Z"
   },
   {
    "duration": 0,
    "start_time": "2022-08-31T12:29:01.321Z"
   },
   {
    "duration": 0,
    "start_time": "2022-08-31T12:29:01.322Z"
   },
   {
    "duration": 0,
    "start_time": "2022-08-31T12:29:01.323Z"
   },
   {
    "duration": 0,
    "start_time": "2022-08-31T12:29:01.324Z"
   },
   {
    "duration": 0,
    "start_time": "2022-08-31T12:29:01.325Z"
   },
   {
    "duration": 0,
    "start_time": "2022-08-31T12:29:01.326Z"
   },
   {
    "duration": 0,
    "start_time": "2022-08-31T12:29:01.327Z"
   },
   {
    "duration": 0,
    "start_time": "2022-08-31T12:29:01.328Z"
   },
   {
    "duration": 0,
    "start_time": "2022-08-31T12:29:01.330Z"
   },
   {
    "duration": 0,
    "start_time": "2022-08-31T12:29:01.331Z"
   },
   {
    "duration": 0,
    "start_time": "2022-08-31T12:29:01.332Z"
   },
   {
    "duration": 0,
    "start_time": "2022-08-31T12:29:01.333Z"
   },
   {
    "duration": 0,
    "start_time": "2022-08-31T12:29:01.334Z"
   },
   {
    "duration": 0,
    "start_time": "2022-08-31T12:29:01.335Z"
   },
   {
    "duration": 0,
    "start_time": "2022-08-31T12:29:01.336Z"
   },
   {
    "duration": 3,
    "start_time": "2022-08-31T12:38:29.545Z"
   },
   {
    "duration": 718,
    "start_time": "2022-08-31T12:38:33.959Z"
   },
   {
    "duration": 6,
    "start_time": "2022-08-31T12:38:37.273Z"
   },
   {
    "duration": 2184,
    "start_time": "2022-08-31T12:38:45.504Z"
   },
   {
    "duration": 868,
    "start_time": "2022-08-31T12:39:00.016Z"
   },
   {
    "duration": 224,
    "start_time": "2022-08-31T12:39:10.320Z"
   },
   {
    "duration": 24,
    "start_time": "2022-08-31T12:39:13.527Z"
   },
   {
    "duration": 315,
    "start_time": "2022-08-31T12:42:52.972Z"
   },
   {
    "duration": 718,
    "start_time": "2022-08-31T12:43:43.386Z"
   },
   {
    "duration": 31,
    "start_time": "2022-08-31T12:44:32.225Z"
   },
   {
    "duration": 11,
    "start_time": "2022-08-31T12:44:35.345Z"
   },
   {
    "duration": 760,
    "start_time": "2022-08-31T12:44:48.130Z"
   },
   {
    "duration": 50,
    "start_time": "2022-08-31T12:45:29.432Z"
   },
   {
    "duration": 189,
    "start_time": "2022-08-31T12:54:53.703Z"
   },
   {
    "duration": 117,
    "start_time": "2022-08-31T12:55:46.020Z"
   },
   {
    "duration": 161,
    "start_time": "2022-08-31T12:55:49.307Z"
   },
   {
    "duration": 180,
    "start_time": "2022-08-31T12:55:55.292Z"
   },
   {
    "duration": 199,
    "start_time": "2022-08-31T12:55:58.217Z"
   },
   {
    "duration": 43,
    "start_time": "2022-08-31T12:56:03.314Z"
   },
   {
    "duration": 45,
    "start_time": "2022-08-31T12:56:27.538Z"
   },
   {
    "duration": 18,
    "start_time": "2022-08-31T12:56:31.498Z"
   },
   {
    "duration": 3,
    "start_time": "2022-08-31T12:56:34.409Z"
   },
   {
    "duration": 433,
    "start_time": "2022-08-31T12:56:36.923Z"
   },
   {
    "duration": 29,
    "start_time": "2022-08-31T13:07:59.992Z"
   },
   {
    "duration": 81,
    "start_time": "2022-08-31T13:10:09.994Z"
   },
   {
    "duration": 88,
    "start_time": "2022-08-31T13:10:22.613Z"
   },
   {
    "duration": 45,
    "start_time": "2022-08-31T13:12:09.301Z"
   },
   {
    "duration": 70,
    "start_time": "2022-08-31T13:14:49.866Z"
   },
   {
    "duration": 40,
    "start_time": "2022-08-31T13:14:55.180Z"
   },
   {
    "duration": 5,
    "start_time": "2022-08-31T13:15:59.028Z"
   },
   {
    "duration": 239346,
    "start_time": "2022-08-31T13:17:45.190Z"
   },
   {
    "duration": 36,
    "start_time": "2022-08-31T13:28:50.567Z"
   },
   {
    "duration": 36,
    "start_time": "2022-08-31T13:29:20.480Z"
   },
   {
    "duration": 228207,
    "start_time": "2022-08-31T13:29:28.328Z"
   },
   {
    "duration": 3,
    "start_time": "2022-08-31T13:33:41.346Z"
   },
   {
    "duration": 17,
    "start_time": "2022-08-31T13:33:55.593Z"
   },
   {
    "duration": 15,
    "start_time": "2022-08-31T13:34:39.600Z"
   },
   {
    "duration": 19,
    "start_time": "2022-08-31T13:34:51.400Z"
   },
   {
    "duration": 38,
    "start_time": "2022-08-31T13:35:24.644Z"
   },
   {
    "duration": 19,
    "start_time": "2022-08-31T13:35:41.647Z"
   },
   {
    "duration": 41,
    "start_time": "2022-08-31T13:36:02.239Z"
   },
   {
    "duration": 5,
    "start_time": "2022-08-31T13:36:09.182Z"
   },
   {
    "duration": 20,
    "start_time": "2022-08-31T13:36:25.044Z"
   },
   {
    "duration": 16,
    "start_time": "2022-08-31T13:36:42.306Z"
   },
   {
    "duration": 46,
    "start_time": "2022-08-31T13:37:25.637Z"
   },
   {
    "duration": 17,
    "start_time": "2022-08-31T13:37:37.803Z"
   },
   {
    "duration": 53,
    "start_time": "2022-08-31T13:42:57.260Z"
   },
   {
    "duration": 51,
    "start_time": "2022-08-31T13:43:27.333Z"
   },
   {
    "duration": 16,
    "start_time": "2022-08-31T13:43:29.956Z"
   },
   {
    "duration": 2009,
    "start_time": "2022-09-01T05:58:28.713Z"
   },
   {
    "duration": 3048,
    "start_time": "2022-09-01T05:58:35.050Z"
   },
   {
    "duration": 9,
    "start_time": "2022-09-01T05:58:40.754Z"
   },
   {
    "duration": 2616,
    "start_time": "2022-09-01T06:44:29.145Z"
   },
   {
    "duration": 276,
    "start_time": "2022-09-01T06:44:47.010Z"
   },
   {
    "duration": 799,
    "start_time": "2022-09-01T06:44:51.921Z"
   },
   {
    "duration": 32,
    "start_time": "2022-09-01T06:44:57.640Z"
   },
   {
    "duration": 12,
    "start_time": "2022-09-01T06:45:03.032Z"
   },
   {
    "duration": 966,
    "start_time": "2022-09-01T06:45:10.345Z"
   },
   {
    "duration": 57,
    "start_time": "2022-09-01T06:45:21.735Z"
   },
   {
    "duration": 122,
    "start_time": "2022-09-01T06:45:26.530Z"
   },
   {
    "duration": 239,
    "start_time": "2022-09-01T06:45:31.871Z"
   },
   {
    "duration": 194,
    "start_time": "2022-09-01T06:45:35.145Z"
   },
   {
    "duration": 295,
    "start_time": "2022-09-01T06:45:43.722Z"
   },
   {
    "duration": 57,
    "start_time": "2022-09-01T06:45:49.324Z"
   },
   {
    "duration": 12,
    "start_time": "2022-09-01T06:49:26.603Z"
   },
   {
    "duration": 3,
    "start_time": "2022-09-01T06:49:28.579Z"
   },
   {
    "duration": 483,
    "start_time": "2022-09-01T06:49:32.127Z"
   },
   {
    "duration": 24,
    "start_time": "2022-09-01T06:49:46.851Z"
   },
   {
    "duration": 57,
    "start_time": "2022-09-01T07:23:28.826Z"
   },
   {
    "duration": 51,
    "start_time": "2022-09-01T07:24:17.274Z"
   },
   {
    "duration": 15,
    "start_time": "2022-09-01T07:24:22.185Z"
   },
   {
    "duration": 20,
    "start_time": "2022-09-01T07:24:41.922Z"
   },
   {
    "duration": 4,
    "start_time": "2022-09-01T07:25:05.192Z"
   },
   {
    "duration": 15,
    "start_time": "2022-09-01T07:25:15.826Z"
   },
   {
    "duration": 15,
    "start_time": "2022-09-01T07:25:29.523Z"
   },
   {
    "duration": 267478,
    "start_time": "2022-09-01T07:25:42.561Z"
   },
   {
    "duration": 12017,
    "start_time": "2022-09-01T07:34:30.966Z"
   },
   {
    "duration": 313,
    "start_time": "2022-09-01T07:35:54.202Z"
   },
   {
    "duration": 618,
    "start_time": "2022-09-01T08:26:39.247Z"
   },
   {
    "duration": 39,
    "start_time": "2022-09-01T08:26:45.303Z"
   },
   {
    "duration": 37,
    "start_time": "2022-09-01T08:28:05.572Z"
   },
   {
    "duration": 383,
    "start_time": "2022-09-01T08:30:37.058Z"
   },
   {
    "duration": 1781,
    "start_time": "2022-09-01T08:33:21.596Z"
   },
   {
    "duration": 1975,
    "start_time": "2022-09-01T08:34:16.125Z"
   },
   {
    "duration": 4,
    "start_time": "2022-09-01T08:34:53.314Z"
   },
   {
    "duration": 5,
    "start_time": "2022-09-01T08:36:54.174Z"
   },
   {
    "duration": 4,
    "start_time": "2022-09-01T08:37:32.951Z"
   },
   {
    "duration": 1267,
    "start_time": "2022-09-01T09:01:56.124Z"
   },
   {
    "duration": 5,
    "start_time": "2022-09-01T09:04:31.968Z"
   },
   {
    "duration": 1748,
    "start_time": "2022-09-01T09:04:35.587Z"
   },
   {
    "duration": 8,
    "start_time": "2022-09-01T09:06:39.972Z"
   },
   {
    "duration": 158219,
    "start_time": "2022-09-01T09:06:46.280Z"
   },
   {
    "duration": 4,
    "start_time": "2022-09-01T09:12:00.032Z"
   },
   {
    "duration": 256,
    "start_time": "2022-09-01T09:12:03.265Z"
   },
   {
    "duration": 4,
    "start_time": "2022-09-01T09:12:18.791Z"
   },
   {
    "duration": 262,
    "start_time": "2022-09-01T09:12:21.314Z"
   },
   {
    "duration": 4,
    "start_time": "2022-09-01T09:16:03.159Z"
   },
   {
    "duration": 12498,
    "start_time": "2022-09-01T09:16:13.195Z"
   },
   {
    "duration": 26,
    "start_time": "2022-09-01T09:16:32.282Z"
   },
   {
    "duration": 37,
    "start_time": "2022-09-01T09:18:24.229Z"
   },
   {
    "duration": 1676,
    "start_time": "2022-09-01T10:22:40.975Z"
   },
   {
    "duration": 865,
    "start_time": "2022-09-01T10:22:45.358Z"
   },
   {
    "duration": 7,
    "start_time": "2022-09-01T10:22:48.275Z"
   },
   {
    "duration": 2632,
    "start_time": "2022-09-01T10:22:51.416Z"
   },
   {
    "duration": 304,
    "start_time": "2022-09-01T10:23:01.415Z"
   },
   {
    "duration": 837,
    "start_time": "2022-09-01T10:23:03.375Z"
   },
   {
    "duration": 39,
    "start_time": "2022-09-01T10:23:09.074Z"
   },
   {
    "duration": 13,
    "start_time": "2022-09-01T10:23:11.588Z"
   },
   {
    "duration": 961,
    "start_time": "2022-09-01T10:23:15.173Z"
   },
   {
    "duration": 51,
    "start_time": "2022-09-01T10:23:22.237Z"
   },
   {
    "duration": 147,
    "start_time": "2022-09-01T10:23:25.048Z"
   },
   {
    "duration": 191,
    "start_time": "2022-09-01T10:23:27.872Z"
   },
   {
    "duration": 215,
    "start_time": "2022-09-01T10:23:29.997Z"
   },
   {
    "duration": 292,
    "start_time": "2022-09-01T10:23:32.213Z"
   },
   {
    "duration": 47,
    "start_time": "2022-09-01T10:23:35.748Z"
   },
   {
    "duration": 14,
    "start_time": "2022-09-01T10:27:23.873Z"
   },
   {
    "duration": 3,
    "start_time": "2022-09-01T10:27:25.575Z"
   },
   {
    "duration": 479,
    "start_time": "2022-09-01T10:27:33.279Z"
   },
   {
    "duration": 25,
    "start_time": "2022-09-01T10:27:43.033Z"
   },
   {
    "duration": 63,
    "start_time": "2022-09-01T10:27:49.646Z"
   },
   {
    "duration": 50,
    "start_time": "2022-09-01T10:27:52.667Z"
   },
   {
    "duration": 5,
    "start_time": "2022-09-01T10:27:56.837Z"
   },
   {
    "duration": 257927,
    "start_time": "2022-09-01T10:28:06.217Z"
   },
   {
    "duration": 12030,
    "start_time": "2022-09-01T10:32:36.223Z"
   },
   {
    "duration": 339,
    "start_time": "2022-09-01T10:32:57.600Z"
   },
   {
    "duration": 4,
    "start_time": "2022-09-01T10:34:44.981Z"
   },
   {
    "duration": 3,
    "start_time": "2022-09-01T10:38:23.047Z"
   },
   {
    "duration": 123,
    "start_time": "2022-09-01T10:39:57.381Z"
   },
   {
    "duration": 9,
    "start_time": "2022-09-01T10:42:25.584Z"
   },
   {
    "duration": 58,
    "start_time": "2022-09-01T10:42:32.791Z"
   },
   {
    "duration": 69,
    "start_time": "2022-09-01T10:44:37.964Z"
   },
   {
    "duration": 53,
    "start_time": "2022-09-01T10:45:21.099Z"
   },
   {
    "duration": 271,
    "start_time": "2022-09-01T10:46:51.975Z"
   },
   {
    "duration": 78,
    "start_time": "2022-09-01T10:47:12.490Z"
   },
   {
    "duration": 70,
    "start_time": "2022-09-01T10:47:26.203Z"
   },
   {
    "duration": 2,
    "start_time": "2022-09-01T10:47:39.882Z"
   },
   {
    "duration": 65,
    "start_time": "2022-09-01T10:47:46.505Z"
   },
   {
    "duration": 42,
    "start_time": "2022-09-01T10:47:53.313Z"
   },
   {
    "duration": 4,
    "start_time": "2022-09-01T10:47:58.849Z"
   },
   {
    "duration": 14,
    "start_time": "2022-09-01T10:48:03.047Z"
   },
   {
    "duration": 5,
    "start_time": "2022-09-01T10:48:19.163Z"
   },
   {
    "duration": 167,
    "start_time": "2022-09-01T10:48:23.618Z"
   },
   {
    "duration": 4,
    "start_time": "2022-09-01T10:48:32.945Z"
   },
   {
    "duration": 66,
    "start_time": "2022-09-01T10:48:35.328Z"
   },
   {
    "duration": 8,
    "start_time": "2022-09-01T10:48:42.521Z"
   },
   {
    "duration": 7,
    "start_time": "2022-09-01T10:52:44.840Z"
   },
   {
    "duration": 4055,
    "start_time": "2022-09-01T10:53:24.335Z"
   },
   {
    "duration": 12,
    "start_time": "2022-09-01T10:53:32.108Z"
   },
   {
    "duration": 11,
    "start_time": "2022-09-01T11:16:04.478Z"
   },
   {
    "duration": 11,
    "start_time": "2022-09-01T11:19:24.436Z"
   },
   {
    "duration": 5,
    "start_time": "2022-09-01T11:19:44.661Z"
   },
   {
    "duration": 12,
    "start_time": "2022-09-01T11:22:59.113Z"
   },
   {
    "duration": 152,
    "start_time": "2022-09-01T11:23:13.093Z"
   },
   {
    "duration": 387,
    "start_time": "2022-09-01T11:25:36.094Z"
   },
   {
    "duration": 294,
    "start_time": "2022-09-01T11:26:32.212Z"
   },
   {
    "duration": 305,
    "start_time": "2022-09-01T11:26:39.528Z"
   },
   {
    "duration": 309,
    "start_time": "2022-09-01T11:26:58.744Z"
   },
   {
    "duration": 118322,
    "start_time": "2022-09-01T11:34:19.281Z"
   },
   {
    "duration": 29622,
    "start_time": "2022-09-01T11:37:55.688Z"
   },
   {
    "duration": 218,
    "start_time": "2022-09-01T11:38:34.587Z"
   },
   {
    "duration": 272,
    "start_time": "2022-09-01T11:41:21.808Z"
   },
   {
    "duration": 943,
    "start_time": "2022-09-01T11:42:24.673Z"
   },
   {
    "duration": 118,
    "start_time": "2022-09-01T11:42:29.513Z"
   },
   {
    "duration": 11,
    "start_time": "2022-09-01T11:42:43.473Z"
   },
   {
    "duration": 1772,
    "start_time": "2022-09-01T11:42:48.888Z"
   },
   {
    "duration": 14,
    "start_time": "2022-09-01T11:42:53.284Z"
   },
   {
    "duration": 3087,
    "start_time": "2022-09-01T11:42:57.177Z"
   },
   {
    "duration": 17,
    "start_time": "2022-09-01T11:43:03.969Z"
   },
   {
    "duration": 13548,
    "start_time": "2022-09-01T11:45:34.012Z"
   },
   {
    "duration": 3022,
    "start_time": "2022-09-01T11:45:54.325Z"
   },
   {
    "duration": 2974,
    "start_time": "2022-09-01T11:46:07.244Z"
   },
   {
    "duration": 219249,
    "start_time": "2022-09-01T11:46:21.148Z"
   },
   {
    "duration": 1575,
    "start_time": "2022-09-01T11:58:52.767Z"
   },
   {
    "duration": 904,
    "start_time": "2022-09-01T11:58:54.343Z"
   },
   {
    "duration": 8,
    "start_time": "2022-09-01T11:58:55.249Z"
   },
   {
    "duration": 2598,
    "start_time": "2022-09-01T11:58:55.259Z"
   },
   {
    "duration": 299,
    "start_time": "2022-09-01T11:58:57.859Z"
   },
   {
    "duration": 824,
    "start_time": "2022-09-01T11:58:58.160Z"
   },
   {
    "duration": 35,
    "start_time": "2022-09-01T11:58:58.985Z"
   },
   {
    "duration": 11,
    "start_time": "2022-09-01T11:58:59.022Z"
   },
   {
    "duration": 1042,
    "start_time": "2022-09-01T11:58:59.035Z"
   },
   {
    "duration": 63,
    "start_time": "2022-09-01T11:59:00.081Z"
   },
   {
    "duration": 141,
    "start_time": "2022-09-01T11:59:00.146Z"
   },
   {
    "duration": 206,
    "start_time": "2022-09-01T11:59:00.291Z"
   },
   {
    "duration": 223,
    "start_time": "2022-09-01T11:59:00.499Z"
   },
   {
    "duration": 311,
    "start_time": "2022-09-01T11:59:00.724Z"
   },
   {
    "duration": 61,
    "start_time": "2022-09-01T11:59:01.037Z"
   },
   {
    "duration": 13,
    "start_time": "2022-09-01T11:59:01.100Z"
   },
   {
    "duration": 16,
    "start_time": "2022-09-01T11:59:01.114Z"
   },
   {
    "duration": 536,
    "start_time": "2022-09-01T11:59:01.132Z"
   },
   {
    "duration": 31,
    "start_time": "2022-09-01T11:59:01.670Z"
   },
   {
    "duration": 74,
    "start_time": "2022-09-01T11:59:01.702Z"
   },
   {
    "duration": 62,
    "start_time": "2022-09-01T11:59:01.777Z"
   },
   {
    "duration": 4,
    "start_time": "2022-09-01T11:59:01.842Z"
   },
   {
    "duration": 433,
    "start_time": "2022-09-01T11:59:01.848Z"
   },
   {
    "duration": 2,
    "start_time": "2022-09-01T11:59:02.283Z"
   },
   {
    "duration": 66,
    "start_time": "2022-09-01T11:59:02.292Z"
   },
   {
    "duration": 52,
    "start_time": "2022-09-01T11:59:02.359Z"
   },
   {
    "duration": 5,
    "start_time": "2022-09-01T11:59:02.412Z"
   },
   {
    "duration": 268477,
    "start_time": "2022-09-01T11:59:02.421Z"
   },
   {
    "duration": 12464,
    "start_time": "2022-09-01T12:03:30.901Z"
   },
   {
    "duration": 310,
    "start_time": "2022-09-01T12:03:43.367Z"
   },
   {
    "duration": 256,
    "start_time": "2022-09-01T12:03:43.679Z"
   },
   {
    "duration": 0,
    "start_time": "2022-09-01T12:03:43.938Z"
   },
   {
    "duration": 0,
    "start_time": "2022-09-01T12:03:43.939Z"
   },
   {
    "duration": 0,
    "start_time": "2022-09-01T12:03:43.941Z"
   },
   {
    "duration": 0,
    "start_time": "2022-09-01T12:03:43.942Z"
   },
   {
    "duration": 0,
    "start_time": "2022-09-01T12:03:43.943Z"
   },
   {
    "duration": 0,
    "start_time": "2022-09-01T12:03:43.944Z"
   },
   {
    "duration": 0,
    "start_time": "2022-09-01T12:03:43.945Z"
   },
   {
    "duration": 0,
    "start_time": "2022-09-01T12:03:43.946Z"
   },
   {
    "duration": 0,
    "start_time": "2022-09-01T12:03:43.947Z"
   },
   {
    "duration": 0,
    "start_time": "2022-09-01T12:03:43.948Z"
   },
   {
    "duration": 0,
    "start_time": "2022-09-01T12:03:43.949Z"
   },
   {
    "duration": 0,
    "start_time": "2022-09-01T12:03:43.950Z"
   },
   {
    "duration": 0,
    "start_time": "2022-09-01T12:03:43.951Z"
   },
   {
    "duration": 0,
    "start_time": "2022-09-01T12:03:43.952Z"
   },
   {
    "duration": 0,
    "start_time": "2022-09-01T12:03:43.953Z"
   },
   {
    "duration": 0,
    "start_time": "2022-09-01T12:03:43.955Z"
   },
   {
    "duration": 0,
    "start_time": "2022-09-01T12:03:43.956Z"
   },
   {
    "duration": 0,
    "start_time": "2022-09-01T12:03:43.992Z"
   },
   {
    "duration": 272,
    "start_time": "2022-09-01T12:04:14.387Z"
   },
   {
    "duration": 5,
    "start_time": "2022-09-01T12:04:20.151Z"
   },
   {
    "duration": 20,
    "start_time": "2022-09-01T12:04:22.449Z"
   },
   {
    "duration": 7,
    "start_time": "2022-09-01T12:04:24.276Z"
   },
   {
    "duration": 1208,
    "start_time": "2022-09-01T12:04:27.379Z"
   },
   {
    "duration": 11,
    "start_time": "2022-09-01T12:04:30.272Z"
   },
   {
    "duration": 2470,
    "start_time": "2022-09-01T12:04:32.769Z"
   },
   {
    "duration": 15,
    "start_time": "2022-09-01T12:04:36.872Z"
   },
   {
    "duration": 3244,
    "start_time": "2022-09-01T12:04:39.283Z"
   },
   {
    "duration": 16,
    "start_time": "2022-09-01T12:04:45.685Z"
   },
   {
    "duration": 112161,
    "start_time": "2022-09-01T12:05:58.232Z"
   },
   {
    "duration": 2494,
    "start_time": "2022-09-01T12:10:15.416Z"
   },
   {
    "duration": 265,
    "start_time": "2022-09-01T12:10:21.128Z"
   },
   {
    "duration": 8,
    "start_time": "2022-09-01T12:12:40.061Z"
   },
   {
    "duration": 4097,
    "start_time": "2022-09-01T12:12:42.879Z"
   },
   {
    "duration": 12,
    "start_time": "2022-09-01T12:12:49.532Z"
   },
   {
    "duration": 12124,
    "start_time": "2022-09-01T12:13:13.195Z"
   },
   {
    "duration": 3181,
    "start_time": "2022-09-01T12:13:30.540Z"
   },
   {
    "duration": 2809,
    "start_time": "2022-09-01T12:13:38.395Z"
   },
   {
    "duration": 3006,
    "start_time": "2022-09-01T12:25:04.405Z"
   },
   {
    "duration": 1066,
    "start_time": "2022-09-01T12:25:07.413Z"
   },
   {
    "duration": 7,
    "start_time": "2022-09-01T12:25:08.480Z"
   },
   {
    "duration": 2380,
    "start_time": "2022-09-01T12:25:08.489Z"
   },
   {
    "duration": 264,
    "start_time": "2022-09-01T12:25:10.871Z"
   },
   {
    "duration": 733,
    "start_time": "2022-09-01T12:25:11.137Z"
   },
   {
    "duration": 38,
    "start_time": "2022-09-01T12:25:11.872Z"
   },
   {
    "duration": 21,
    "start_time": "2022-09-01T12:25:11.911Z"
   },
   {
    "duration": 880,
    "start_time": "2022-09-01T12:25:11.934Z"
   },
   {
    "duration": 48,
    "start_time": "2022-09-01T12:25:12.816Z"
   },
   {
    "duration": 159,
    "start_time": "2022-09-01T12:25:12.866Z"
   },
   {
    "duration": 183,
    "start_time": "2022-09-01T12:25:13.026Z"
   },
   {
    "duration": 192,
    "start_time": "2022-09-01T12:25:13.210Z"
   },
   {
    "duration": 267,
    "start_time": "2022-09-01T12:25:13.409Z"
   },
   {
    "duration": 56,
    "start_time": "2022-09-01T12:25:13.677Z"
   },
   {
    "duration": 12,
    "start_time": "2022-09-01T12:25:13.735Z"
   },
   {
    "duration": 12,
    "start_time": "2022-09-01T12:25:13.749Z"
   },
   {
    "duration": 460,
    "start_time": "2022-09-01T12:25:13.762Z"
   },
   {
    "duration": 22,
    "start_time": "2022-09-01T12:25:14.224Z"
   },
   {
    "duration": 74,
    "start_time": "2022-09-01T12:25:14.247Z"
   },
   {
    "duration": 46,
    "start_time": "2022-09-01T12:25:14.322Z"
   },
   {
    "duration": 4,
    "start_time": "2022-09-01T12:25:14.369Z"
   },
   {
    "duration": 112,
    "start_time": "2022-09-01T12:26:11.636Z"
   },
   {
    "duration": 461,
    "start_time": "2022-09-01T12:26:34.792Z"
   },
   {
    "duration": 3,
    "start_time": "2022-09-01T12:26:37.294Z"
   },
   {
    "duration": 365,
    "start_time": "2022-09-01T12:26:37.899Z"
   },
   {
    "duration": 4,
    "start_time": "2022-09-01T12:26:41.113Z"
   },
   {
    "duration": 1669,
    "start_time": "2022-09-01T12:26:41.802Z"
   },
   {
    "duration": 19,
    "start_time": "2022-09-01T12:27:03.990Z"
   },
   {
    "duration": 24,
    "start_time": "2022-09-01T12:27:10.237Z"
   },
   {
    "duration": 4,
    "start_time": "2022-09-01T12:27:25.752Z"
   },
   {
    "duration": 1550,
    "start_time": "2022-09-01T12:27:26.236Z"
   },
   {
    "duration": 130,
    "start_time": "2022-09-01T12:28:31.225Z"
   },
   {
    "duration": 3,
    "start_time": "2022-09-01T12:28:31.398Z"
   },
   {
    "duration": 299,
    "start_time": "2022-09-01T12:28:31.910Z"
   },
   {
    "duration": 4,
    "start_time": "2022-09-01T12:28:38.602Z"
   },
   {
    "duration": 1568,
    "start_time": "2022-09-01T12:28:38.971Z"
   },
   {
    "duration": 22,
    "start_time": "2022-09-01T12:29:18.724Z"
   },
   {
    "duration": 1032,
    "start_time": "2022-09-01T12:29:24.452Z"
   },
   {
    "duration": 1960,
    "start_time": "2022-09-01T12:29:58.279Z"
   },
   {
    "duration": 1034,
    "start_time": "2022-09-01T12:30:07.576Z"
   },
   {
    "duration": 1034,
    "start_time": "2022-09-01T12:30:10.880Z"
   },
   {
    "duration": 36,
    "start_time": "2022-09-01T12:30:37.934Z"
   },
   {
    "duration": 37,
    "start_time": "2022-09-01T12:30:46.470Z"
   },
   {
    "duration": 38,
    "start_time": "2022-09-01T12:30:55.822Z"
   },
   {
    "duration": 34,
    "start_time": "2022-09-01T12:31:00.544Z"
   },
   {
    "duration": 79,
    "start_time": "2022-09-01T12:31:14.534Z"
   },
   {
    "duration": 5,
    "start_time": "2022-09-01T12:31:15.910Z"
   },
   {
    "duration": 63,
    "start_time": "2022-09-01T12:31:18.722Z"
   },
   {
    "duration": 1688,
    "start_time": "2022-09-01T12:31:21.450Z"
   },
   {
    "duration": 15,
    "start_time": "2022-09-01T12:31:29.745Z"
   },
   {
    "duration": 1034,
    "start_time": "2022-09-01T12:31:33.789Z"
   },
   {
    "duration": 129,
    "start_time": "2022-09-01T12:32:02.622Z"
   },
   {
    "duration": 3,
    "start_time": "2022-09-01T12:32:02.869Z"
   },
   {
    "duration": 289,
    "start_time": "2022-09-01T12:32:03.273Z"
   },
   {
    "duration": 4,
    "start_time": "2022-09-01T12:32:05.407Z"
   },
   {
    "duration": 1893,
    "start_time": "2022-09-01T12:32:06.436Z"
   },
   {
    "duration": 35,
    "start_time": "2022-09-01T12:32:14.828Z"
   },
   {
    "duration": 35,
    "start_time": "2022-09-01T12:32:20.076Z"
   },
   {
    "duration": 35,
    "start_time": "2022-09-01T12:32:24.776Z"
   },
   {
    "duration": 36,
    "start_time": "2022-09-01T12:32:27.569Z"
   },
   {
    "duration": 5,
    "start_time": "2022-09-01T12:32:29.197Z"
   },
   {
    "duration": 4,
    "start_time": "2022-09-01T12:32:34.196Z"
   },
   {
    "duration": 5,
    "start_time": "2022-09-01T12:32:38.207Z"
   },
   {
    "duration": 6,
    "start_time": "2022-09-01T12:32:42.691Z"
   },
   {
    "duration": 1141,
    "start_time": "2022-09-01T12:33:01.434Z"
   },
   {
    "duration": 33,
    "start_time": "2022-09-01T12:33:11.458Z"
   },
   {
    "duration": 4,
    "start_time": "2022-09-01T12:33:12.603Z"
   },
   {
    "duration": 946,
    "start_time": "2022-09-01T12:33:15.017Z"
   },
   {
    "duration": 23,
    "start_time": "2022-09-01T12:33:19.629Z"
   },
   {
    "duration": 44,
    "start_time": "2022-09-01T12:33:20.346Z"
   },
   {
    "duration": 40,
    "start_time": "2022-09-01T12:33:20.728Z"
   },
   {
    "duration": 4,
    "start_time": "2022-09-01T12:33:21.480Z"
   },
   {
    "duration": 1849,
    "start_time": "2022-09-01T12:33:22.402Z"
   },
   {
    "duration": 3,
    "start_time": "2022-09-01T12:34:28.595Z"
   },
   {
    "duration": 134,
    "start_time": "2022-09-01T12:34:28.818Z"
   },
   {
    "duration": 3,
    "start_time": "2022-09-01T12:34:29.196Z"
   },
   {
    "duration": 291,
    "start_time": "2022-09-01T12:34:30.312Z"
   },
   {
    "duration": 32,
    "start_time": "2022-09-01T12:34:32.500Z"
   },
   {
    "duration": 4,
    "start_time": "2022-09-01T12:34:33.212Z"
   },
   {
    "duration": 3,
    "start_time": "2022-09-01T12:34:34.350Z"
   },
   {
    "duration": 27,
    "start_time": "2022-09-01T12:34:42.016Z"
   },
   {
    "duration": 4,
    "start_time": "2022-09-01T12:34:52.211Z"
   },
   {
    "duration": 751,
    "start_time": "2022-09-01T12:34:52.217Z"
   },
   {
    "duration": 7,
    "start_time": "2022-09-01T12:34:52.970Z"
   },
   {
    "duration": 2214,
    "start_time": "2022-09-01T12:34:52.979Z"
   },
   {
    "duration": 253,
    "start_time": "2022-09-01T12:34:55.195Z"
   },
   {
    "duration": 693,
    "start_time": "2022-09-01T12:34:55.450Z"
   },
   {
    "duration": 27,
    "start_time": "2022-09-01T12:34:56.145Z"
   },
   {
    "duration": 10,
    "start_time": "2022-09-01T12:34:56.174Z"
   },
   {
    "duration": 907,
    "start_time": "2022-09-01T12:34:56.185Z"
   },
   {
    "duration": 55,
    "start_time": "2022-09-01T12:34:57.094Z"
   },
   {
    "duration": 146,
    "start_time": "2022-09-01T12:34:57.151Z"
   },
   {
    "duration": 241,
    "start_time": "2022-09-01T12:34:57.299Z"
   },
   {
    "duration": 287,
    "start_time": "2022-09-01T12:34:57.543Z"
   },
   {
    "duration": 218,
    "start_time": "2022-09-01T12:34:57.832Z"
   },
   {
    "duration": 43,
    "start_time": "2022-09-01T12:34:58.052Z"
   },
   {
    "duration": 20,
    "start_time": "2022-09-01T12:34:58.097Z"
   },
   {
    "duration": 26,
    "start_time": "2022-09-01T12:34:58.119Z"
   },
   {
    "duration": 483,
    "start_time": "2022-09-01T12:34:58.146Z"
   },
   {
    "duration": 23,
    "start_time": "2022-09-01T12:34:58.631Z"
   },
   {
    "duration": 68,
    "start_time": "2022-09-01T12:34:58.656Z"
   },
   {
    "duration": 44,
    "start_time": "2022-09-01T12:34:58.726Z"
   },
   {
    "duration": 5,
    "start_time": "2022-09-01T12:34:58.771Z"
   },
   {
    "duration": 8,
    "start_time": "2022-09-01T12:34:58.778Z"
   },
   {
    "duration": 21,
    "start_time": "2022-09-01T12:34:58.788Z"
   },
   {
    "duration": 71,
    "start_time": "2022-09-01T12:34:58.811Z"
   },
   {
    "duration": 56,
    "start_time": "2022-09-01T12:34:58.884Z"
   },
   {
    "duration": 342,
    "start_time": "2022-09-01T12:35:18.592Z"
   },
   {
    "duration": 1698,
    "start_time": "2022-09-01T12:35:20.122Z"
   },
   {
    "duration": 0,
    "start_time": "2022-09-01T12:35:21.822Z"
   },
   {
    "duration": 4,
    "start_time": "2022-09-01T12:35:23.595Z"
   },
   {
    "duration": 3112,
    "start_time": "2022-09-01T12:35:24.297Z"
   },
   {
    "duration": 128,
    "start_time": "2022-09-01T12:35:28.924Z"
   },
   {
    "duration": 3,
    "start_time": "2022-09-01T12:36:00.155Z"
   },
   {
    "duration": 739,
    "start_time": "2022-09-01T12:36:00.160Z"
   },
   {
    "duration": 12,
    "start_time": "2022-09-01T12:36:00.901Z"
   },
   {
    "duration": 2342,
    "start_time": "2022-09-01T12:36:00.915Z"
   },
   {
    "duration": 259,
    "start_time": "2022-09-01T12:36:03.259Z"
   },
   {
    "duration": 715,
    "start_time": "2022-09-01T12:36:03.520Z"
   },
   {
    "duration": 28,
    "start_time": "2022-09-01T12:36:04.236Z"
   },
   {
    "duration": 11,
    "start_time": "2022-09-01T12:36:04.266Z"
   },
   {
    "duration": 974,
    "start_time": "2022-09-01T12:36:04.280Z"
   },
   {
    "duration": 57,
    "start_time": "2022-09-01T12:36:05.256Z"
   },
   {
    "duration": 121,
    "start_time": "2022-09-01T12:36:05.315Z"
   },
   {
    "duration": 187,
    "start_time": "2022-09-01T12:36:05.438Z"
   },
   {
    "duration": 207,
    "start_time": "2022-09-01T12:36:05.627Z"
   },
   {
    "duration": 280,
    "start_time": "2022-09-01T12:36:05.836Z"
   },
   {
    "duration": 44,
    "start_time": "2022-09-01T12:36:06.118Z"
   },
   {
    "duration": 12,
    "start_time": "2022-09-01T12:36:06.164Z"
   },
   {
    "duration": 4,
    "start_time": "2022-09-01T12:36:06.208Z"
   },
   {
    "duration": 608,
    "start_time": "2022-09-01T12:36:06.214Z"
   },
   {
    "duration": 23,
    "start_time": "2022-09-01T12:36:06.823Z"
   },
   {
    "duration": 67,
    "start_time": "2022-09-01T12:36:06.849Z"
   },
   {
    "duration": 51,
    "start_time": "2022-09-01T12:36:06.918Z"
   },
   {
    "duration": 5,
    "start_time": "2022-09-01T12:36:06.971Z"
   },
   {
    "duration": 391,
    "start_time": "2022-09-01T12:36:06.977Z"
   },
   {
    "duration": 6,
    "start_time": "2022-09-01T12:36:07.372Z"
   },
   {
    "duration": 102,
    "start_time": "2022-09-01T12:36:07.380Z"
   },
   {
    "duration": 36,
    "start_time": "2022-09-01T12:36:07.484Z"
   },
   {
    "duration": 15,
    "start_time": "2022-09-01T12:36:07.522Z"
   },
   {
    "duration": 16,
    "start_time": "2022-09-01T12:36:21.376Z"
   },
   {
    "duration": 13,
    "start_time": "2022-09-01T12:36:21.689Z"
   },
   {
    "duration": 4,
    "start_time": "2022-09-01T13:03:37.331Z"
   },
   {
    "duration": 750,
    "start_time": "2022-09-01T13:03:37.338Z"
   },
   {
    "duration": 7,
    "start_time": "2022-09-01T13:03:38.090Z"
   },
   {
    "duration": 2161,
    "start_time": "2022-09-01T13:03:38.099Z"
   },
   {
    "duration": 255,
    "start_time": "2022-09-01T13:03:40.263Z"
   },
   {
    "duration": 633,
    "start_time": "2022-09-01T13:03:40.520Z"
   },
   {
    "duration": 29,
    "start_time": "2022-09-01T13:03:41.155Z"
   },
   {
    "duration": 27,
    "start_time": "2022-09-01T13:03:41.186Z"
   },
   {
    "duration": 879,
    "start_time": "2022-09-01T13:03:41.214Z"
   },
   {
    "duration": 54,
    "start_time": "2022-09-01T13:03:42.094Z"
   },
   {
    "duration": 134,
    "start_time": "2022-09-01T13:03:42.149Z"
   },
   {
    "duration": 168,
    "start_time": "2022-09-01T13:03:42.285Z"
   },
   {
    "duration": 185,
    "start_time": "2022-09-01T13:03:42.454Z"
   },
   {
    "duration": 196,
    "start_time": "2022-09-01T13:03:42.642Z"
   },
   {
    "duration": 40,
    "start_time": "2022-09-01T13:03:42.840Z"
   },
   {
    "duration": 30,
    "start_time": "2022-09-01T13:03:42.882Z"
   },
   {
    "duration": 2,
    "start_time": "2022-09-01T13:03:42.914Z"
   },
   {
    "duration": 460,
    "start_time": "2022-09-01T13:03:42.918Z"
   },
   {
    "duration": 30,
    "start_time": "2022-09-01T13:03:43.380Z"
   },
   {
    "duration": 45,
    "start_time": "2022-09-01T13:03:43.411Z"
   },
   {
    "duration": 58,
    "start_time": "2022-09-01T13:03:43.458Z"
   },
   {
    "duration": 4,
    "start_time": "2022-09-01T13:03:43.518Z"
   },
   {
    "duration": 7,
    "start_time": "2022-09-01T13:03:43.524Z"
   },
   {
    "duration": 487,
    "start_time": "2022-09-01T13:03:45.977Z"
   },
   {
    "duration": 3,
    "start_time": "2022-09-01T13:03:46.466Z"
   },
   {
    "duration": 380,
    "start_time": "2022-09-01T13:03:47.120Z"
   },
   {
    "duration": 1991,
    "start_time": "2022-09-01T13:03:47.750Z"
   },
   {
    "duration": 4,
    "start_time": "2022-09-01T13:03:49.743Z"
   },
   {
    "duration": 4,
    "start_time": "2022-09-01T13:04:14.102Z"
   },
   {
    "duration": 14,
    "start_time": "2022-09-01T13:04:25.953Z"
   },
   {
    "duration": 113,
    "start_time": "2022-09-01T13:04:27.317Z"
   },
   {
    "duration": 2973,
    "start_time": "2022-09-01T13:04:35.113Z"
   },
   {
    "duration": 1111,
    "start_time": "2022-09-01T13:04:38.088Z"
   },
   {
    "duration": 8,
    "start_time": "2022-09-01T13:04:39.200Z"
   },
   {
    "duration": 2368,
    "start_time": "2022-09-01T13:04:39.210Z"
   },
   {
    "duration": 275,
    "start_time": "2022-09-01T13:04:41.581Z"
   },
   {
    "duration": 709,
    "start_time": "2022-09-01T13:04:41.858Z"
   },
   {
    "duration": 40,
    "start_time": "2022-09-01T13:04:42.569Z"
   },
   {
    "duration": 10,
    "start_time": "2022-09-01T13:04:42.610Z"
   },
   {
    "duration": 894,
    "start_time": "2022-09-01T13:04:42.622Z"
   },
   {
    "duration": 48,
    "start_time": "2022-09-01T13:04:43.518Z"
   },
   {
    "duration": 146,
    "start_time": "2022-09-01T13:04:43.568Z"
   },
   {
    "duration": 186,
    "start_time": "2022-09-01T13:04:43.715Z"
   },
   {
    "duration": 194,
    "start_time": "2022-09-01T13:04:43.902Z"
   },
   {
    "duration": 285,
    "start_time": "2022-09-01T13:04:44.099Z"
   },
   {
    "duration": 58,
    "start_time": "2022-09-01T13:04:44.385Z"
   },
   {
    "duration": 11,
    "start_time": "2022-09-01T13:04:44.445Z"
   },
   {
    "duration": 3,
    "start_time": "2022-09-01T13:04:44.457Z"
   },
   {
    "duration": 483,
    "start_time": "2022-09-01T13:04:44.461Z"
   },
   {
    "duration": 23,
    "start_time": "2022-09-01T13:04:44.946Z"
   },
   {
    "duration": 76,
    "start_time": "2022-09-01T13:04:44.971Z"
   },
   {
    "duration": 47,
    "start_time": "2022-09-01T13:04:45.049Z"
   },
   {
    "duration": 13,
    "start_time": "2022-09-01T13:04:45.098Z"
   },
   {
    "duration": 7,
    "start_time": "2022-09-01T13:04:45.112Z"
   },
   {
    "duration": 496,
    "start_time": "2022-09-01T13:04:45.121Z"
   },
   {
    "duration": 3,
    "start_time": "2022-09-01T13:04:45.618Z"
   },
   {
    "duration": 415,
    "start_time": "2022-09-01T13:04:45.622Z"
   },
   {
    "duration": 1980,
    "start_time": "2022-09-01T13:04:46.039Z"
   },
   {
    "duration": 4,
    "start_time": "2022-09-01T13:04:48.021Z"
   },
   {
    "duration": 2,
    "start_time": "2022-09-01T13:04:48.102Z"
   },
   {
    "duration": 12255,
    "start_time": "2022-09-01T13:04:51.364Z"
   },
   {
    "duration": 105,
    "start_time": "2022-09-01T13:05:03.711Z"
   },
   {
    "duration": 4,
    "start_time": "2022-09-01T13:05:08.762Z"
   },
   {
    "duration": 1506,
    "start_time": "2022-09-01T13:05:09.548Z"
   },
   {
    "duration": 311,
    "start_time": "2022-09-01T13:05:12.218Z"
   },
   {
    "duration": 1910,
    "start_time": "2022-09-01T13:05:32.672Z"
   },
   {
    "duration": 0,
    "start_time": "2022-09-01T13:05:34.583Z"
   },
   {
    "duration": 1,
    "start_time": "2022-09-01T13:05:34.584Z"
   },
   {
    "duration": 3,
    "start_time": "2022-09-01T13:05:42.258Z"
   },
   {
    "duration": 684,
    "start_time": "2022-09-01T13:05:42.263Z"
   },
   {
    "duration": 8,
    "start_time": "2022-09-01T13:05:42.949Z"
   },
   {
    "duration": 2168,
    "start_time": "2022-09-01T13:05:42.958Z"
   },
   {
    "duration": 251,
    "start_time": "2022-09-01T13:05:45.129Z"
   },
   {
    "duration": 679,
    "start_time": "2022-09-01T13:05:45.381Z"
   },
   {
    "duration": 29,
    "start_time": "2022-09-01T13:05:46.062Z"
   },
   {
    "duration": 23,
    "start_time": "2022-09-01T13:05:46.093Z"
   },
   {
    "duration": 891,
    "start_time": "2022-09-01T13:05:46.118Z"
   },
   {
    "duration": 51,
    "start_time": "2022-09-01T13:05:47.011Z"
   },
   {
    "duration": 133,
    "start_time": "2022-09-01T13:05:47.065Z"
   },
   {
    "duration": 243,
    "start_time": "2022-09-01T13:05:47.201Z"
   },
   {
    "duration": 217,
    "start_time": "2022-09-01T13:05:47.446Z"
   },
   {
    "duration": 207,
    "start_time": "2022-09-01T13:05:47.665Z"
   },
   {
    "duration": 52,
    "start_time": "2022-09-01T13:05:47.874Z"
   },
   {
    "duration": 11,
    "start_time": "2022-09-01T13:05:47.928Z"
   },
   {
    "duration": 4,
    "start_time": "2022-09-01T13:05:47.940Z"
   },
   {
    "duration": 466,
    "start_time": "2022-09-01T13:05:47.946Z"
   },
   {
    "duration": 26,
    "start_time": "2022-09-01T13:05:48.414Z"
   },
   {
    "duration": 68,
    "start_time": "2022-09-01T13:05:48.441Z"
   },
   {
    "duration": 39,
    "start_time": "2022-09-01T13:05:48.511Z"
   },
   {
    "duration": 4,
    "start_time": "2022-09-01T13:05:48.552Z"
   },
   {
    "duration": 308,
    "start_time": "2022-09-01T13:05:48.557Z"
   },
   {
    "duration": 3,
    "start_time": "2022-09-01T13:05:48.866Z"
   },
   {
    "duration": 84,
    "start_time": "2022-09-01T13:05:48.870Z"
   },
   {
    "duration": 53,
    "start_time": "2022-09-01T13:05:48.956Z"
   },
   {
    "duration": 4,
    "start_time": "2022-09-01T13:05:49.010Z"
   },
   {
    "duration": 4,
    "start_time": "2022-09-01T13:06:10.175Z"
   },
   {
    "duration": 17,
    "start_time": "2022-09-01T13:06:10.677Z"
   },
   {
    "duration": 9,
    "start_time": "2022-09-01T13:06:11.586Z"
   },
   {
    "duration": 4,
    "start_time": "2022-09-01T14:05:32.300Z"
   },
   {
    "duration": 747,
    "start_time": "2022-09-01T14:05:32.306Z"
   },
   {
    "duration": 8,
    "start_time": "2022-09-01T14:05:33.055Z"
   },
   {
    "duration": 2246,
    "start_time": "2022-09-01T14:05:33.064Z"
   },
   {
    "duration": 248,
    "start_time": "2022-09-01T14:05:35.313Z"
   },
   {
    "duration": 738,
    "start_time": "2022-09-01T14:05:35.563Z"
   },
   {
    "duration": 30,
    "start_time": "2022-09-01T14:05:36.303Z"
   },
   {
    "duration": 11,
    "start_time": "2022-09-01T14:05:36.335Z"
   },
   {
    "duration": 945,
    "start_time": "2022-09-01T14:05:36.348Z"
   },
   {
    "duration": 64,
    "start_time": "2022-09-01T14:05:37.295Z"
   },
   {
    "duration": 148,
    "start_time": "2022-09-01T14:05:37.362Z"
   },
   {
    "duration": 178,
    "start_time": "2022-09-01T14:05:37.511Z"
   },
   {
    "duration": 198,
    "start_time": "2022-09-01T14:05:37.691Z"
   },
   {
    "duration": 226,
    "start_time": "2022-09-01T14:05:37.891Z"
   },
   {
    "duration": 46,
    "start_time": "2022-09-01T14:05:38.119Z"
   },
   {
    "duration": 13,
    "start_time": "2022-09-01T14:05:38.167Z"
   },
   {
    "duration": 31,
    "start_time": "2022-09-01T14:05:38.182Z"
   },
   {
    "duration": 499,
    "start_time": "2022-09-01T14:05:38.215Z"
   },
   {
    "duration": 23,
    "start_time": "2022-09-01T14:05:38.716Z"
   },
   {
    "duration": 72,
    "start_time": "2022-09-01T14:05:38.741Z"
   },
   {
    "duration": 46,
    "start_time": "2022-09-01T14:05:38.815Z"
   },
   {
    "duration": 4,
    "start_time": "2022-09-01T14:05:38.863Z"
   },
   {
    "duration": 521,
    "start_time": "2022-09-01T14:05:46.329Z"
   },
   {
    "duration": 3,
    "start_time": "2022-09-01T14:05:47.587Z"
   },
   {
    "duration": 381,
    "start_time": "2022-09-01T14:05:49.087Z"
   },
   {
    "duration": 2029,
    "start_time": "2022-09-01T14:05:49.470Z"
   },
   {
    "duration": 10,
    "start_time": "2022-09-01T14:05:51.501Z"
   },
   {
    "duration": 6,
    "start_time": "2022-09-01T14:05:54.071Z"
   },
   {
    "duration": 183573,
    "start_time": "2022-09-01T14:05:54.841Z"
   },
   {
    "duration": 190,
    "start_time": "2022-09-01T14:08:58.420Z"
   },
   {
    "duration": 10805,
    "start_time": "2022-09-01T14:11:12.706Z"
   },
   {
    "duration": 191,
    "start_time": "2022-09-01T14:11:23.519Z"
   },
   {
    "duration": 34388,
    "start_time": "2022-09-01T14:11:33.922Z"
   },
   {
    "duration": 197,
    "start_time": "2022-09-01T14:12:08.313Z"
   },
   {
    "duration": 1543,
    "start_time": "2022-09-01T16:21:02.449Z"
   },
   {
    "duration": 1264,
    "start_time": "2022-09-01T16:21:06.664Z"
   },
   {
    "duration": 11,
    "start_time": "2022-09-01T16:21:09.271Z"
   },
   {
    "duration": 2584,
    "start_time": "2022-09-01T16:21:10.642Z"
   },
   {
    "duration": 287,
    "start_time": "2022-09-01T16:21:22.947Z"
   },
   {
    "duration": 733,
    "start_time": "2022-09-01T16:21:24.642Z"
   },
   {
    "duration": 45,
    "start_time": "2022-09-01T16:21:36.377Z"
   },
   {
    "duration": 15,
    "start_time": "2022-09-01T16:21:51.550Z"
   },
   {
    "duration": 1152,
    "start_time": "2022-09-01T16:21:56.182Z"
   },
   {
    "duration": 51,
    "start_time": "2022-09-01T16:22:02.726Z"
   },
   {
    "duration": 168,
    "start_time": "2022-09-01T16:22:08.153Z"
   },
   {
    "duration": 211,
    "start_time": "2022-09-01T16:24:08.115Z"
   },
   {
    "duration": 194,
    "start_time": "2022-09-01T16:24:08.667Z"
   },
   {
    "duration": 288,
    "start_time": "2022-09-01T16:24:10.896Z"
   },
   {
    "duration": 43,
    "start_time": "2022-09-01T16:24:14.379Z"
   },
   {
    "duration": 15,
    "start_time": "2022-09-01T16:24:20.086Z"
   },
   {
    "duration": 3,
    "start_time": "2022-09-01T16:24:22.199Z"
   },
   {
    "duration": 460,
    "start_time": "2022-09-01T16:24:24.076Z"
   },
   {
    "duration": 21,
    "start_time": "2022-09-01T16:24:28.594Z"
   },
   {
    "duration": 58,
    "start_time": "2022-09-01T16:24:33.044Z"
   },
   {
    "duration": 45,
    "start_time": "2022-09-01T16:24:34.405Z"
   },
   {
    "duration": 4,
    "start_time": "2022-09-01T16:24:39.017Z"
   },
   {
    "duration": 579,
    "start_time": "2022-09-01T16:24:45.272Z"
   },
   {
    "duration": 703,
    "start_time": "2022-09-01T16:25:10.261Z"
   },
   {
    "duration": 27,
    "start_time": "2022-09-01T16:25:22.240Z"
   },
   {
    "duration": 301,
    "start_time": "2022-09-01T16:25:50.924Z"
   },
   {
    "duration": 1975,
    "start_time": "2022-09-01T16:25:52.876Z"
   },
   {
    "duration": 4,
    "start_time": "2022-09-01T16:25:56.798Z"
   },
   {
    "duration": 244530,
    "start_time": "2022-09-01T16:26:01.767Z"
   },
   {
    "duration": 11022,
    "start_time": "2022-09-01T16:34:04.340Z"
   },
   {
    "duration": 298,
    "start_time": "2022-09-01T16:34:15.365Z"
   },
   {
    "duration": 326,
    "start_time": "2022-09-01T16:34:15.665Z"
   },
   {
    "duration": 4,
    "start_time": "2022-09-01T16:34:30.770Z"
   },
   {
    "duration": 7668,
    "start_time": "2022-09-01T16:34:39.175Z"
   },
   {
    "duration": 4,
    "start_time": "2022-09-01T16:36:11.948Z"
   },
   {
    "duration": 30110,
    "start_time": "2022-09-01T16:36:41.592Z"
   },
   {
    "duration": 31,
    "start_time": "2022-09-01T16:37:16.686Z"
   },
   {
    "duration": 804,
    "start_time": "2022-09-01T16:38:42.088Z"
   },
   {
    "duration": 11,
    "start_time": "2022-09-01T16:38:44.655Z"
   },
   {
    "duration": 1620,
    "start_time": "2022-09-01T16:38:46.253Z"
   },
   {
    "duration": 21,
    "start_time": "2022-09-01T16:38:48.193Z"
   },
   {
    "duration": 3289,
    "start_time": "2022-09-01T16:38:50.553Z"
   },
   {
    "duration": 14,
    "start_time": "2022-09-01T16:38:53.843Z"
   },
   {
    "duration": 490668,
    "start_time": "2022-09-01T16:39:01.123Z"
   },
   {
    "duration": 389,
    "start_time": "2022-09-01T16:50:02.399Z"
   },
   {
    "duration": 5,
    "start_time": "2022-09-01T16:50:02.791Z"
   },
   {
    "duration": 22400,
    "start_time": "2022-09-01T16:50:26.698Z"
   },
   {
    "duration": 18796,
    "start_time": "2022-09-01T16:50:49.101Z"
   },
   {
    "duration": 15,
    "start_time": "2022-09-01T16:51:12.089Z"
   },
   {
    "duration": 11304,
    "start_time": "2022-09-01T16:53:17.265Z"
   },
   {
    "duration": 2858,
    "start_time": "2022-09-01T16:53:34.663Z"
   },
   {
    "duration": 133497,
    "start_time": "2022-09-01T16:53:41.607Z"
   },
   {
    "duration": 1171,
    "start_time": "2022-09-01T16:57:19.046Z"
   },
   {
    "duration": 0,
    "start_time": "2022-09-01T16:57:20.221Z"
   },
   {
    "duration": 0,
    "start_time": "2022-09-01T16:57:20.222Z"
   },
   {
    "duration": 0,
    "start_time": "2022-09-01T16:57:20.223Z"
   },
   {
    "duration": 0,
    "start_time": "2022-09-01T16:57:20.224Z"
   },
   {
    "duration": 0,
    "start_time": "2022-09-01T16:57:20.225Z"
   },
   {
    "duration": 0,
    "start_time": "2022-09-01T16:57:20.225Z"
   },
   {
    "duration": 0,
    "start_time": "2022-09-01T16:57:20.226Z"
   },
   {
    "duration": 0,
    "start_time": "2022-09-01T16:57:20.227Z"
   },
   {
    "duration": 0,
    "start_time": "2022-09-01T16:57:20.228Z"
   },
   {
    "duration": 0,
    "start_time": "2022-09-01T16:57:20.239Z"
   },
   {
    "duration": 0,
    "start_time": "2022-09-01T16:57:20.240Z"
   },
   {
    "duration": 0,
    "start_time": "2022-09-01T16:57:20.242Z"
   },
   {
    "duration": 0,
    "start_time": "2022-09-01T16:57:20.243Z"
   },
   {
    "duration": 0,
    "start_time": "2022-09-01T16:57:20.244Z"
   },
   {
    "duration": 0,
    "start_time": "2022-09-01T16:57:20.245Z"
   },
   {
    "duration": 0,
    "start_time": "2022-09-01T16:57:20.246Z"
   },
   {
    "duration": 0,
    "start_time": "2022-09-01T16:57:20.247Z"
   },
   {
    "duration": 0,
    "start_time": "2022-09-01T16:57:20.249Z"
   },
   {
    "duration": 0,
    "start_time": "2022-09-01T16:57:20.250Z"
   },
   {
    "duration": 0,
    "start_time": "2022-09-01T16:57:20.251Z"
   },
   {
    "duration": 0,
    "start_time": "2022-09-01T16:57:20.251Z"
   },
   {
    "duration": 0,
    "start_time": "2022-09-01T16:57:20.253Z"
   },
   {
    "duration": 0,
    "start_time": "2022-09-01T16:57:20.254Z"
   },
   {
    "duration": 0,
    "start_time": "2022-09-01T16:57:20.254Z"
   },
   {
    "duration": 1,
    "start_time": "2022-09-01T16:57:20.255Z"
   },
   {
    "duration": 0,
    "start_time": "2022-09-01T16:57:20.287Z"
   },
   {
    "duration": 0,
    "start_time": "2022-09-01T16:57:20.288Z"
   },
   {
    "duration": 0,
    "start_time": "2022-09-01T16:57:20.289Z"
   },
   {
    "duration": 0,
    "start_time": "2022-09-01T16:57:20.290Z"
   },
   {
    "duration": 0,
    "start_time": "2022-09-01T16:57:20.291Z"
   },
   {
    "duration": 0,
    "start_time": "2022-09-01T16:57:20.292Z"
   },
   {
    "duration": 0,
    "start_time": "2022-09-01T16:57:20.293Z"
   },
   {
    "duration": 0,
    "start_time": "2022-09-01T16:57:20.294Z"
   },
   {
    "duration": 0,
    "start_time": "2022-09-01T16:57:20.295Z"
   },
   {
    "duration": 0,
    "start_time": "2022-09-01T16:57:20.296Z"
   },
   {
    "duration": 0,
    "start_time": "2022-09-01T16:57:20.297Z"
   },
   {
    "duration": 0,
    "start_time": "2022-09-01T16:57:20.298Z"
   },
   {
    "duration": 0,
    "start_time": "2022-09-01T16:57:20.299Z"
   },
   {
    "duration": 0,
    "start_time": "2022-09-01T16:57:20.300Z"
   },
   {
    "duration": 0,
    "start_time": "2022-09-01T16:57:20.301Z"
   },
   {
    "duration": 0,
    "start_time": "2022-09-01T16:57:20.302Z"
   },
   {
    "duration": 0,
    "start_time": "2022-09-01T16:57:20.304Z"
   },
   {
    "duration": 0,
    "start_time": "2022-09-01T16:57:20.304Z"
   },
   {
    "duration": 0,
    "start_time": "2022-09-01T16:57:20.305Z"
   },
   {
    "duration": 0,
    "start_time": "2022-09-01T16:57:20.307Z"
   },
   {
    "duration": 0,
    "start_time": "2022-09-01T16:57:20.307Z"
   },
   {
    "duration": 0,
    "start_time": "2022-09-01T16:57:20.308Z"
   },
   {
    "duration": 1400,
    "start_time": "2022-09-01T17:04:44.273Z"
   },
   {
    "duration": 845,
    "start_time": "2022-09-01T17:04:45.676Z"
   },
   {
    "duration": 7,
    "start_time": "2022-09-01T17:04:46.523Z"
   },
   {
    "duration": 3410,
    "start_time": "2022-09-01T17:04:46.532Z"
   },
   {
    "duration": 283,
    "start_time": "2022-09-01T17:04:49.943Z"
   },
   {
    "duration": 737,
    "start_time": "2022-09-01T17:04:50.228Z"
   },
   {
    "duration": 48,
    "start_time": "2022-09-01T17:04:50.966Z"
   },
   {
    "duration": 14,
    "start_time": "2022-09-01T17:04:51.016Z"
   },
   {
    "duration": 942,
    "start_time": "2022-09-01T17:04:51.032Z"
   },
   {
    "duration": 62,
    "start_time": "2022-09-01T17:04:51.977Z"
   },
   {
    "duration": 142,
    "start_time": "2022-09-01T17:04:52.041Z"
   },
   {
    "duration": 187,
    "start_time": "2022-09-01T17:04:52.186Z"
   },
   {
    "duration": 182,
    "start_time": "2022-09-01T17:04:52.375Z"
   },
   {
    "duration": 266,
    "start_time": "2022-09-01T17:04:52.558Z"
   },
   {
    "duration": 43,
    "start_time": "2022-09-01T17:04:52.825Z"
   },
   {
    "duration": 31,
    "start_time": "2022-09-01T17:04:52.869Z"
   },
   {
    "duration": 3,
    "start_time": "2022-09-01T17:04:52.902Z"
   },
   {
    "duration": 482,
    "start_time": "2022-09-01T17:04:52.907Z"
   },
   {
    "duration": 21,
    "start_time": "2022-09-01T17:04:53.402Z"
   },
   {
    "duration": 58,
    "start_time": "2022-09-01T17:04:53.425Z"
   },
   {
    "duration": 56,
    "start_time": "2022-09-01T17:04:53.486Z"
   },
   {
    "duration": 4,
    "start_time": "2022-09-01T17:04:53.543Z"
   },
   {
    "duration": 635,
    "start_time": "2022-09-01T17:04:53.549Z"
   },
   {
    "duration": 316,
    "start_time": "2022-09-01T17:04:54.186Z"
   },
   {
    "duration": 1927,
    "start_time": "2022-09-01T17:04:54.504Z"
   },
   {
    "duration": 5,
    "start_time": "2022-09-01T17:04:56.433Z"
   },
   {
    "duration": 245217,
    "start_time": "2022-09-01T17:04:56.439Z"
   },
   {
    "duration": 11202,
    "start_time": "2022-09-01T17:09:01.660Z"
   },
   {
    "duration": 294,
    "start_time": "2022-09-01T17:09:12.863Z"
   },
   {
    "duration": 289,
    "start_time": "2022-09-01T17:09:13.159Z"
   },
   {
    "duration": 3,
    "start_time": "2022-09-01T17:09:13.450Z"
   },
   {
    "duration": 21734,
    "start_time": "2022-09-01T17:09:13.455Z"
   },
   {
    "duration": 102,
    "start_time": "2022-09-01T17:09:35.194Z"
   },
   {
    "duration": 1095,
    "start_time": "2022-09-01T17:09:35.298Z"
   },
   {
    "duration": 14,
    "start_time": "2022-09-01T17:09:36.395Z"
   },
   {
    "duration": 1610,
    "start_time": "2022-09-01T17:09:36.411Z"
   },
   {
    "duration": 14,
    "start_time": "2022-09-01T17:09:38.023Z"
   },
   {
    "duration": 2903,
    "start_time": "2022-09-01T17:09:38.038Z"
   },
   {
    "duration": 16,
    "start_time": "2022-09-01T17:09:40.943Z"
   },
   {
    "duration": 1467,
    "start_time": "2022-09-01T17:27:36.512Z"
   },
   {
    "duration": 928,
    "start_time": "2022-09-01T17:27:37.980Z"
   },
   {
    "duration": 10,
    "start_time": "2022-09-01T17:27:38.910Z"
   },
   {
    "duration": 3929,
    "start_time": "2022-09-01T17:27:38.922Z"
   },
   {
    "duration": 280,
    "start_time": "2022-09-01T17:27:42.854Z"
   },
   {
    "duration": 736,
    "start_time": "2022-09-01T17:27:43.136Z"
   },
   {
    "duration": 44,
    "start_time": "2022-09-01T17:27:43.874Z"
   },
   {
    "duration": 11,
    "start_time": "2022-09-01T17:27:43.920Z"
   },
   {
    "duration": 1033,
    "start_time": "2022-09-01T17:27:43.932Z"
   },
   {
    "duration": 56,
    "start_time": "2022-09-01T17:27:44.967Z"
   },
   {
    "duration": 133,
    "start_time": "2022-09-01T17:27:45.026Z"
   },
   {
    "duration": 191,
    "start_time": "2022-09-01T17:27:45.161Z"
   },
   {
    "duration": 193,
    "start_time": "2022-09-01T17:27:45.354Z"
   },
   {
    "duration": 302,
    "start_time": "2022-09-01T17:27:45.551Z"
   },
   {
    "duration": 55,
    "start_time": "2022-09-01T17:27:45.855Z"
   },
   {
    "duration": 14,
    "start_time": "2022-09-01T17:27:45.912Z"
   },
   {
    "duration": 4,
    "start_time": "2022-09-01T17:27:45.927Z"
   },
   {
    "duration": 597,
    "start_time": "2022-09-01T17:27:45.932Z"
   },
   {
    "duration": 25,
    "start_time": "2022-09-01T17:27:46.531Z"
   },
   {
    "duration": 86,
    "start_time": "2022-09-01T17:27:46.558Z"
   },
   {
    "duration": 61,
    "start_time": "2022-09-01T17:27:46.646Z"
   },
   {
    "duration": 6,
    "start_time": "2022-09-01T17:27:46.712Z"
   },
   {
    "duration": 630,
    "start_time": "2022-09-01T17:27:46.720Z"
   },
   {
    "duration": 319,
    "start_time": "2022-09-01T17:27:47.352Z"
   },
   {
    "duration": 1941,
    "start_time": "2022-09-01T17:27:47.675Z"
   },
   {
    "duration": 4,
    "start_time": "2022-09-01T17:27:49.618Z"
   },
   {
    "duration": 254191,
    "start_time": "2022-09-01T17:27:49.624Z"
   },
   {
    "duration": 11630,
    "start_time": "2022-09-01T17:32:03.821Z"
   },
   {
    "duration": 303,
    "start_time": "2022-09-01T17:32:15.452Z"
   },
   {
    "duration": 299,
    "start_time": "2022-09-01T17:32:15.757Z"
   },
   {
    "duration": 3,
    "start_time": "2022-09-01T17:32:16.058Z"
   },
   {
    "duration": 56238,
    "start_time": "2022-09-01T17:32:16.062Z"
   },
   {
    "duration": 88,
    "start_time": "2022-09-01T17:33:12.307Z"
   },
   {
    "duration": 972,
    "start_time": "2022-09-01T17:33:12.397Z"
   },
   {
    "duration": 10,
    "start_time": "2022-09-01T17:33:13.371Z"
   },
   {
    "duration": 1899,
    "start_time": "2022-09-01T17:33:13.383Z"
   },
   {
    "duration": 16,
    "start_time": "2022-09-01T17:33:15.283Z"
   },
   {
    "duration": 3030,
    "start_time": "2022-09-01T17:33:15.300Z"
   },
   {
    "duration": 15,
    "start_time": "2022-09-01T17:33:18.332Z"
   },
   {
    "duration": 1506,
    "start_time": "2022-09-01T18:07:54.687Z"
   },
   {
    "duration": 909,
    "start_time": "2022-09-01T18:07:56.202Z"
   },
   {
    "duration": 6,
    "start_time": "2022-09-01T18:07:57.114Z"
   },
   {
    "duration": 3776,
    "start_time": "2022-09-01T18:07:57.122Z"
   },
   {
    "duration": 291,
    "start_time": "2022-09-01T18:08:00.903Z"
   },
   {
    "duration": 812,
    "start_time": "2022-09-01T18:08:01.196Z"
   },
   {
    "duration": 35,
    "start_time": "2022-09-01T18:08:02.009Z"
   },
   {
    "duration": 11,
    "start_time": "2022-09-01T18:08:02.045Z"
   },
   {
    "duration": 1077,
    "start_time": "2022-09-01T18:08:02.057Z"
   },
   {
    "duration": 69,
    "start_time": "2022-09-01T18:08:03.136Z"
   },
   {
    "duration": 140,
    "start_time": "2022-09-01T18:08:03.207Z"
   },
   {
    "duration": 200,
    "start_time": "2022-09-01T18:08:03.349Z"
   },
   {
    "duration": 216,
    "start_time": "2022-09-01T18:08:03.550Z"
   },
   {
    "duration": 338,
    "start_time": "2022-09-01T18:08:03.768Z"
   },
   {
    "duration": 45,
    "start_time": "2022-09-01T18:08:04.108Z"
   },
   {
    "duration": 11,
    "start_time": "2022-09-01T18:08:04.155Z"
   },
   {
    "duration": 6,
    "start_time": "2022-09-01T18:08:04.168Z"
   },
   {
    "duration": 576,
    "start_time": "2022-09-01T18:08:04.176Z"
   },
   {
    "duration": 23,
    "start_time": "2022-09-01T18:08:04.754Z"
   },
   {
    "duration": 75,
    "start_time": "2022-09-01T18:08:04.780Z"
   },
   {
    "duration": 69,
    "start_time": "2022-09-01T18:08:04.857Z"
   },
   {
    "duration": 4,
    "start_time": "2022-09-01T18:08:04.928Z"
   },
   {
    "duration": 684,
    "start_time": "2022-09-01T18:08:04.933Z"
   },
   {
    "duration": 345,
    "start_time": "2022-09-01T18:08:05.619Z"
   },
   {
    "duration": 2052,
    "start_time": "2022-09-01T18:08:05.966Z"
   },
   {
    "duration": 4,
    "start_time": "2022-09-01T18:08:08.020Z"
   },
   {
    "duration": 240148,
    "start_time": "2022-09-01T18:08:08.026Z"
   },
   {
    "duration": 0,
    "start_time": "2022-09-01T18:12:08.176Z"
   },
   {
    "duration": 0,
    "start_time": "2022-09-01T18:12:08.177Z"
   },
   {
    "duration": 0,
    "start_time": "2022-09-01T18:12:08.178Z"
   },
   {
    "duration": 0,
    "start_time": "2022-09-01T18:12:08.179Z"
   },
   {
    "duration": 0,
    "start_time": "2022-09-01T18:12:08.180Z"
   },
   {
    "duration": 0,
    "start_time": "2022-09-01T18:12:08.180Z"
   },
   {
    "duration": 0,
    "start_time": "2022-09-01T18:12:08.186Z"
   },
   {
    "duration": 0,
    "start_time": "2022-09-01T18:12:08.187Z"
   },
   {
    "duration": 0,
    "start_time": "2022-09-01T18:12:08.187Z"
   },
   {
    "duration": 0,
    "start_time": "2022-09-01T18:12:08.188Z"
   },
   {
    "duration": 0,
    "start_time": "2022-09-01T18:12:08.189Z"
   },
   {
    "duration": 0,
    "start_time": "2022-09-01T18:12:08.189Z"
   },
   {
    "duration": 0,
    "start_time": "2022-09-01T18:12:08.190Z"
   },
   {
    "duration": 0,
    "start_time": "2022-09-01T18:12:08.192Z"
   },
   {
    "duration": 0,
    "start_time": "2022-09-01T18:12:08.193Z"
   },
   {
    "duration": 0,
    "start_time": "2022-09-01T18:12:08.194Z"
   },
   {
    "duration": 0,
    "start_time": "2022-09-01T18:12:08.195Z"
   },
   {
    "duration": 0,
    "start_time": "2022-09-01T18:12:08.195Z"
   },
   {
    "duration": 0,
    "start_time": "2022-09-01T18:12:08.197Z"
   },
   {
    "duration": 0,
    "start_time": "2022-09-01T18:12:08.198Z"
   },
   {
    "duration": 0,
    "start_time": "2022-09-01T18:12:08.200Z"
   },
   {
    "duration": 11160,
    "start_time": "2022-09-01T18:12:21.280Z"
   },
   {
    "duration": 281,
    "start_time": "2022-09-01T18:12:37.288Z"
   },
   {
    "duration": 283,
    "start_time": "2022-09-01T18:12:45.565Z"
   },
   {
    "duration": 55444,
    "start_time": "2022-09-01T18:12:50.124Z"
   },
   {
    "duration": 1585,
    "start_time": "2022-09-02T05:06:22.185Z"
   },
   {
    "duration": 1073,
    "start_time": "2022-09-02T05:06:23.773Z"
   },
   {
    "duration": 7,
    "start_time": "2022-09-02T05:06:24.848Z"
   },
   {
    "duration": 2283,
    "start_time": "2022-09-02T05:06:24.857Z"
   },
   {
    "duration": 257,
    "start_time": "2022-09-02T05:06:27.143Z"
   },
   {
    "duration": 687,
    "start_time": "2022-09-02T05:06:27.403Z"
   },
   {
    "duration": 28,
    "start_time": "2022-09-02T05:06:28.091Z"
   },
   {
    "duration": 11,
    "start_time": "2022-09-02T05:06:28.120Z"
   },
   {
    "duration": 921,
    "start_time": "2022-09-02T05:06:28.133Z"
   },
   {
    "duration": 63,
    "start_time": "2022-09-02T05:06:29.056Z"
   },
   {
    "duration": 118,
    "start_time": "2022-09-02T05:06:29.121Z"
   },
   {
    "duration": 182,
    "start_time": "2022-09-02T05:06:29.241Z"
   },
   {
    "duration": 183,
    "start_time": "2022-09-02T05:06:29.425Z"
   },
   {
    "duration": 262,
    "start_time": "2022-09-02T05:06:29.612Z"
   },
   {
    "duration": 50,
    "start_time": "2022-09-02T05:06:29.876Z"
   },
   {
    "duration": 10,
    "start_time": "2022-09-02T05:06:29.927Z"
   },
   {
    "duration": 2,
    "start_time": "2022-09-02T05:06:29.939Z"
   },
   {
    "duration": 478,
    "start_time": "2022-09-02T05:06:29.943Z"
   },
   {
    "duration": 21,
    "start_time": "2022-09-02T05:06:30.422Z"
   },
   {
    "duration": 67,
    "start_time": "2022-09-02T05:06:30.445Z"
   },
   {
    "duration": 45,
    "start_time": "2022-09-02T05:06:30.514Z"
   },
   {
    "duration": 5,
    "start_time": "2022-09-02T05:06:30.561Z"
   },
   {
    "duration": 664,
    "start_time": "2022-09-02T05:06:30.567Z"
   },
   {
    "duration": 307,
    "start_time": "2022-09-02T05:06:31.233Z"
   },
   {
    "duration": 1944,
    "start_time": "2022-09-02T05:06:31.542Z"
   },
   {
    "duration": 3,
    "start_time": "2022-09-02T05:06:33.488Z"
   },
   {
    "duration": 228584,
    "start_time": "2022-09-02T05:06:33.493Z"
   },
   {
    "duration": 10246,
    "start_time": "2022-09-02T05:10:22.079Z"
   },
   {
    "duration": 280,
    "start_time": "2022-09-02T05:10:32.326Z"
   },
   {
    "duration": 363,
    "start_time": "2022-09-02T05:10:32.608Z"
   },
   {
    "duration": 3,
    "start_time": "2022-09-02T05:10:32.973Z"
   },
   {
    "duration": 17012,
    "start_time": "2022-09-02T05:10:32.977Z"
   },
   {
    "duration": 100,
    "start_time": "2022-09-02T05:10:49.990Z"
   },
   {
    "duration": 923,
    "start_time": "2022-09-02T05:10:50.093Z"
   },
   {
    "duration": 10,
    "start_time": "2022-09-02T05:10:51.018Z"
   },
   {
    "duration": 1426,
    "start_time": "2022-09-02T05:10:51.029Z"
   },
   {
    "duration": 12,
    "start_time": "2022-09-02T05:10:52.457Z"
   },
   {
    "duration": 2353,
    "start_time": "2022-09-02T05:10:52.470Z"
   },
   {
    "duration": 14,
    "start_time": "2022-09-02T05:10:54.824Z"
   },
   {
    "duration": 101558,
    "start_time": "2022-09-02T05:10:54.840Z"
   },
   {
    "duration": 2787,
    "start_time": "2022-09-02T05:12:36.402Z"
   },
   {
    "duration": 206,
    "start_time": "2022-09-02T05:12:39.191Z"
   },
   {
    "duration": 8,
    "start_time": "2022-09-02T05:12:39.399Z"
   },
   {
    "duration": 20007,
    "start_time": "2022-09-02T05:12:39.487Z"
   },
   {
    "duration": 99,
    "start_time": "2022-09-02T05:12:59.496Z"
   },
   {
    "duration": 11125,
    "start_time": "2022-09-02T05:12:59.597Z"
   },
   {
    "duration": 2547,
    "start_time": "2022-09-02T05:13:10.724Z"
   },
   {
    "duration": 2525,
    "start_time": "2022-09-02T05:13:13.273Z"
   }
  ],
  "kernelspec": {
   "display_name": "Python 3 (ipykernel)",
   "language": "python",
   "name": "python3"
  },
  "language_info": {
   "codemirror_mode": {
    "name": "ipython",
    "version": 3
   },
   "file_extension": ".py",
   "mimetype": "text/x-python",
   "name": "python",
   "nbconvert_exporter": "python",
   "pygments_lexer": "ipython3",
   "version": "3.9.13"
  },
  "toc": {
   "base_numbering": 1,
   "nav_menu": {},
   "number_sections": true,
   "sideBar": true,
   "skip_h1_title": true,
   "title_cell": "Table of Contents",
   "title_sidebar": "Contents",
   "toc_cell": false,
   "toc_position": {
    "height": "calc(100% - 180px)",
    "left": "10px",
    "top": "150px",
    "width": "334.438px"
   },
   "toc_section_display": true,
   "toc_window_display": true
  }
 },
 "nbformat": 4,
 "nbformat_minor": 2
}
