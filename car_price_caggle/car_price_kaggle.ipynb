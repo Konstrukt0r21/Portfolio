{
 "cells": [
  {
   "cell_type": "markdown",
   "id": "52bfa55e",
   "metadata": {},
   "source": [
    "# Предсказание стоимости подержанного автомобиля"
   ]
  },
  {
   "cell_type": "markdown",
   "id": "1f251dbc",
   "metadata": {},
   "source": [
    "Многие знают про маркетплейсы где продаются б/у вещи, на которых есть возможность недорого купить качественную и полезную вещь. Но всегда волнует вопрос - кто и как устанавливает цену, и какие его характеристики больше всего влияют на итоговую стоимость продажи?! Вопрос становиться особо актуальным, если речь идет про дорогие товары, например про автомобили!\n",
    "\n",
    "Цель:\n",
    " - Разработать модель предсказания стоимости автомобиля на вторичном рынке.\n",
    " \n",
    "Метрикой качества модели в данной задаче будет MAPE(Mean Absolute Percentage Error)"
   ]
  },
  {
   "cell_type": "code",
   "execution_count": 1,
   "id": "f9c2d664",
   "metadata": {},
   "outputs": [],
   "source": [
    "import pandas as pd\n",
    "from os.path import join\n",
    "from pathlib import Path\n",
    "import os\n",
    "from vininfo import Vin\n",
    "import matplotlib.pyplot as plt\n",
    "from sklearn.model_selection import train_test_split\n",
    "from sklearn.preprocessing import StandardScaler\n",
    "from sklearn.linear_model import LinearRegression\n",
    "from sklearn.metrics import mean_absolute_error\n",
    "from sklearn.model_selection import cross_val_score\n",
    "from catboost import CatBoostRegressor\n",
    "from sklearn.metrics import mean_absolute_percentage_error\n",
    "from sklearn.pipeline import Pipeline\n",
    "from sklearn.model_selection import GridSearchCV"
   ]
  },
  {
   "cell_type": "markdown",
   "id": "b145102c",
   "metadata": {},
   "source": [
    "## Загрузка данных и первичное знакомство"
   ]
  },
  {
   "cell_type": "code",
   "execution_count": 2,
   "id": "9c5f7970",
   "metadata": {},
   "outputs": [],
   "source": [
    "dp = Path(\"C:/Users/79099/Desktop/Workshop_kaggle\")"
   ]
  },
  {
   "cell_type": "code",
   "execution_count": 3,
   "id": "a89b3ab8",
   "metadata": {},
   "outputs": [],
   "source": [
    "df_train = pd.read_csv(join(dp, 'train.csv'))"
   ]
  },
  {
   "cell_type": "code",
   "execution_count": 4,
   "id": "daf3285a",
   "metadata": {},
   "outputs": [
    {
     "data": {
      "text/html": [
       "<div>\n",
       "<style scoped>\n",
       "    .dataframe tbody tr th:only-of-type {\n",
       "        vertical-align: middle;\n",
       "    }\n",
       "\n",
       "    .dataframe tbody tr th {\n",
       "        vertical-align: top;\n",
       "    }\n",
       "\n",
       "    .dataframe thead th {\n",
       "        text-align: right;\n",
       "    }\n",
       "</style>\n",
       "<table border=\"1\" class=\"dataframe\">\n",
       "  <thead>\n",
       "    <tr style=\"text-align: right;\">\n",
       "      <th></th>\n",
       "      <th>year</th>\n",
       "      <th>make</th>\n",
       "      <th>model</th>\n",
       "      <th>trim</th>\n",
       "      <th>body</th>\n",
       "      <th>transmission</th>\n",
       "      <th>vin</th>\n",
       "      <th>state</th>\n",
       "      <th>condition</th>\n",
       "      <th>odometer</th>\n",
       "      <th>color</th>\n",
       "      <th>interior</th>\n",
       "      <th>seller</th>\n",
       "      <th>sellingprice</th>\n",
       "      <th>saledate</th>\n",
       "    </tr>\n",
       "  </thead>\n",
       "  <tbody>\n",
       "    <tr>\n",
       "      <th>0</th>\n",
       "      <td>2011</td>\n",
       "      <td>Ford</td>\n",
       "      <td>Edge</td>\n",
       "      <td>SEL</td>\n",
       "      <td>suv</td>\n",
       "      <td>automatic</td>\n",
       "      <td>2fmdk3jc4bba41556</td>\n",
       "      <td>md</td>\n",
       "      <td>4.2</td>\n",
       "      <td>111041.0</td>\n",
       "      <td>black</td>\n",
       "      <td>black</td>\n",
       "      <td>santander consumer</td>\n",
       "      <td>12500</td>\n",
       "      <td>Tue Jun 02 2015 02:30:00 GMT-0700 (PDT)</td>\n",
       "    </tr>\n",
       "    <tr>\n",
       "      <th>1</th>\n",
       "      <td>2014</td>\n",
       "      <td>Ford</td>\n",
       "      <td>Fusion</td>\n",
       "      <td>SE</td>\n",
       "      <td>Sedan</td>\n",
       "      <td>automatic</td>\n",
       "      <td>3fa6p0h75er208976</td>\n",
       "      <td>mo</td>\n",
       "      <td>3.5</td>\n",
       "      <td>31034.0</td>\n",
       "      <td>black</td>\n",
       "      <td>black</td>\n",
       "      <td>ars/avis budget group</td>\n",
       "      <td>14500</td>\n",
       "      <td>Wed Feb 25 2015 02:00:00 GMT-0800 (PST)</td>\n",
       "    </tr>\n",
       "    <tr>\n",
       "      <th>2</th>\n",
       "      <td>2012</td>\n",
       "      <td>Nissan</td>\n",
       "      <td>Sentra</td>\n",
       "      <td>2.0 SL</td>\n",
       "      <td>sedan</td>\n",
       "      <td>automatic</td>\n",
       "      <td>3n1ab6ap4cl698412</td>\n",
       "      <td>nj</td>\n",
       "      <td>2.2</td>\n",
       "      <td>35619.0</td>\n",
       "      <td>black</td>\n",
       "      <td>black</td>\n",
       "      <td>nissan-infiniti lt</td>\n",
       "      <td>9100</td>\n",
       "      <td>Wed Jun 10 2015 02:30:00 GMT-0700 (PDT)</td>\n",
       "    </tr>\n",
       "    <tr>\n",
       "      <th>3</th>\n",
       "      <td>2003</td>\n",
       "      <td>HUMMER</td>\n",
       "      <td>H2</td>\n",
       "      <td>Base</td>\n",
       "      <td>suv</td>\n",
       "      <td>automatic</td>\n",
       "      <td>5grgn23u93h101360</td>\n",
       "      <td>tx</td>\n",
       "      <td>2.8</td>\n",
       "      <td>131301.0</td>\n",
       "      <td>gold</td>\n",
       "      <td>beige</td>\n",
       "      <td>wichita falls ford lin inc</td>\n",
       "      <td>13300</td>\n",
       "      <td>Wed Jun 17 2015 03:00:00 GMT-0700 (PDT)</td>\n",
       "    </tr>\n",
       "    <tr>\n",
       "      <th>4</th>\n",
       "      <td>2007</td>\n",
       "      <td>Ford</td>\n",
       "      <td>Fusion</td>\n",
       "      <td>SEL</td>\n",
       "      <td>Sedan</td>\n",
       "      <td>automatic</td>\n",
       "      <td>3fahp08z17r268380</td>\n",
       "      <td>md</td>\n",
       "      <td>2.0</td>\n",
       "      <td>127709.0</td>\n",
       "      <td>black</td>\n",
       "      <td>black</td>\n",
       "      <td>purple heart</td>\n",
       "      <td>1300</td>\n",
       "      <td>Tue Feb 03 2015 04:00:00 GMT-0800 (PST)</td>\n",
       "    </tr>\n",
       "  </tbody>\n",
       "</table>\n",
       "</div>"
      ],
      "text/plain": [
       "   year    make   model    trim   body transmission                vin state  \\\n",
       "0  2011    Ford    Edge     SEL    suv    automatic  2fmdk3jc4bba41556    md   \n",
       "1  2014    Ford  Fusion      SE  Sedan    automatic  3fa6p0h75er208976    mo   \n",
       "2  2012  Nissan  Sentra  2.0 SL  sedan    automatic  3n1ab6ap4cl698412    nj   \n",
       "3  2003  HUMMER      H2    Base    suv    automatic  5grgn23u93h101360    tx   \n",
       "4  2007    Ford  Fusion     SEL  Sedan    automatic  3fahp08z17r268380    md   \n",
       "\n",
       "   condition  odometer  color interior                      seller  \\\n",
       "0        4.2  111041.0  black    black          santander consumer   \n",
       "1        3.5   31034.0  black    black       ars/avis budget group   \n",
       "2        2.2   35619.0  black    black          nissan-infiniti lt   \n",
       "3        2.8  131301.0   gold    beige  wichita falls ford lin inc   \n",
       "4        2.0  127709.0  black    black                purple heart   \n",
       "\n",
       "   sellingprice                                 saledate  \n",
       "0         12500  Tue Jun 02 2015 02:30:00 GMT-0700 (PDT)  \n",
       "1         14500  Wed Feb 25 2015 02:00:00 GMT-0800 (PST)  \n",
       "2          9100  Wed Jun 10 2015 02:30:00 GMT-0700 (PDT)  \n",
       "3         13300  Wed Jun 17 2015 03:00:00 GMT-0700 (PDT)  \n",
       "4          1300  Tue Feb 03 2015 04:00:00 GMT-0800 (PST)  "
      ]
     },
     "execution_count": 4,
     "metadata": {},
     "output_type": "execute_result"
    }
   ],
   "source": [
    "df_train.head(5)"
   ]
  },
  {
   "cell_type": "code",
   "execution_count": 5,
   "id": "841a4ba2",
   "metadata": {},
   "outputs": [
    {
     "name": "stdout",
     "output_type": "stream",
     "text": [
      "<class 'pandas.core.frame.DataFrame'>\n",
      "RangeIndex: 440236 entries, 0 to 440235\n",
      "Data columns (total 15 columns):\n",
      " #   Column        Non-Null Count   Dtype  \n",
      "---  ------        --------------   -----  \n",
      " 0   year          440236 non-null  int64  \n",
      " 1   make          432193 non-null  object \n",
      " 2   model         432113 non-null  object \n",
      " 3   trim          431899 non-null  object \n",
      " 4   body          429843 non-null  object \n",
      " 5   transmission  388775 non-null  object \n",
      " 6   vin           440236 non-null  object \n",
      " 7   state         440236 non-null  object \n",
      " 8   condition     430831 non-null  float64\n",
      " 9   odometer      440167 non-null  float64\n",
      " 10  color         439650 non-null  object \n",
      " 11  interior      439650 non-null  object \n",
      " 12  seller        440236 non-null  object \n",
      " 13  sellingprice  440236 non-null  int64  \n",
      " 14  saledate      440236 non-null  object \n",
      "dtypes: float64(2), int64(2), object(11)\n",
      "memory usage: 50.4+ MB\n"
     ]
    }
   ],
   "source": [
    "df_train.info()"
   ]
  },
  {
   "cell_type": "markdown",
   "id": "19494ba0",
   "metadata": {},
   "source": [
    "У нас имеется выборка из 15 колонок и 440236 строк.\n",
    "\n",
    "\n",
    "Описание данных:\n",
    "- year: Год выпуска автомобиля.\n",
    "- make: Марка автомобиля.\n",
    "- model: издание автомобиля определенной марки.\n",
    "- trim: Уровни отделки салона автомобиля — это просто разные версии модели.\n",
    "- body: Тип кузова транспортного средства относится к форме и модели конкретной марки автомобиля.\n",
    "- transmission: механизм, который передает мощность от двигателя к колесам.\n",
    "- vin: идентификационный номер транспортного средства.\n",
    "- state: состояние, в котором автомобиль выставлен на аукцион.\n",
    "- condition: Состояние автомобилей на момент аукциона.\n",
    "- odometer: расстояние, пройденное автомобилем с момента выпуска.\n",
    "- color: Цвет кузова автомобиля.\n",
    "- interior: Цвет салона автомобиля.\n",
    "- seller: Продавец автомобиля, автосалоны.\n",
    "- sellingprice: цена, по которой автомобиль был продан на аукционе.\n",
    "- saledate: Дата продажи автомобиля.\n"
   ]
  },
  {
   "cell_type": "code",
   "execution_count": 6,
   "id": "95b8af7c",
   "metadata": {},
   "outputs": [],
   "source": [
    "df_test = pd.read_csv(join(dp, 'test.csv'))"
   ]
  },
  {
   "cell_type": "code",
   "execution_count": 7,
   "id": "951fce1c",
   "metadata": {},
   "outputs": [
    {
     "data": {
      "text/html": [
       "<div>\n",
       "<style scoped>\n",
       "    .dataframe tbody tr th:only-of-type {\n",
       "        vertical-align: middle;\n",
       "    }\n",
       "\n",
       "    .dataframe tbody tr th {\n",
       "        vertical-align: top;\n",
       "    }\n",
       "\n",
       "    .dataframe thead th {\n",
       "        text-align: right;\n",
       "    }\n",
       "</style>\n",
       "<table border=\"1\" class=\"dataframe\">\n",
       "  <thead>\n",
       "    <tr style=\"text-align: right;\">\n",
       "      <th></th>\n",
       "      <th>year</th>\n",
       "      <th>make</th>\n",
       "      <th>model</th>\n",
       "      <th>trim</th>\n",
       "      <th>body</th>\n",
       "      <th>transmission</th>\n",
       "      <th>vin</th>\n",
       "      <th>state</th>\n",
       "      <th>condition</th>\n",
       "      <th>odometer</th>\n",
       "      <th>color</th>\n",
       "      <th>interior</th>\n",
       "      <th>seller</th>\n",
       "      <th>saledate</th>\n",
       "    </tr>\n",
       "  </thead>\n",
       "  <tbody>\n",
       "    <tr>\n",
       "      <th>0</th>\n",
       "      <td>2005</td>\n",
       "      <td>Cadillac</td>\n",
       "      <td>CTS</td>\n",
       "      <td>Base</td>\n",
       "      <td>Sedan</td>\n",
       "      <td>automatic</td>\n",
       "      <td>1g6dp567450124779</td>\n",
       "      <td>ca</td>\n",
       "      <td>2.7</td>\n",
       "      <td>116970.0</td>\n",
       "      <td>silver</td>\n",
       "      <td>black</td>\n",
       "      <td>lexus of stevens creek</td>\n",
       "      <td>Wed Jan 14 2015 04:30:00 GMT-0800 (PST)</td>\n",
       "    </tr>\n",
       "    <tr>\n",
       "      <th>1</th>\n",
       "      <td>2014</td>\n",
       "      <td>GMC</td>\n",
       "      <td>Savana Cargo</td>\n",
       "      <td>2500</td>\n",
       "      <td>Van</td>\n",
       "      <td>NaN</td>\n",
       "      <td>1gtw7fca7e1902207</td>\n",
       "      <td>pa</td>\n",
       "      <td>4.4</td>\n",
       "      <td>6286.0</td>\n",
       "      <td>white</td>\n",
       "      <td>gray</td>\n",
       "      <td>u-haul</td>\n",
       "      <td>Fri Feb 27 2015 01:00:00 GMT-0800 (PST)</td>\n",
       "    </tr>\n",
       "    <tr>\n",
       "      <th>2</th>\n",
       "      <td>2013</td>\n",
       "      <td>Nissan</td>\n",
       "      <td>Murano</td>\n",
       "      <td>S</td>\n",
       "      <td>SUV</td>\n",
       "      <td>automatic</td>\n",
       "      <td>jn8az1mw6dw303497</td>\n",
       "      <td>oh</td>\n",
       "      <td>4.6</td>\n",
       "      <td>11831.0</td>\n",
       "      <td>gray</td>\n",
       "      <td>black</td>\n",
       "      <td>nissan-infiniti lt</td>\n",
       "      <td>Tue Feb 24 2015 01:30:00 GMT-0800 (PST)</td>\n",
       "    </tr>\n",
       "    <tr>\n",
       "      <th>3</th>\n",
       "      <td>2013</td>\n",
       "      <td>Chevrolet</td>\n",
       "      <td>Impala</td>\n",
       "      <td>LS Fleet</td>\n",
       "      <td>Sedan</td>\n",
       "      <td>automatic</td>\n",
       "      <td>2g1wf5e34d1160703</td>\n",
       "      <td>fl</td>\n",
       "      <td>2.3</td>\n",
       "      <td>57105.0</td>\n",
       "      <td>silver</td>\n",
       "      <td>black</td>\n",
       "      <td>onemain rem/auto club of miami inc dba north dad</td>\n",
       "      <td>Fri Mar 06 2015 02:00:00 GMT-0800 (PST)</td>\n",
       "    </tr>\n",
       "    <tr>\n",
       "      <th>4</th>\n",
       "      <td>2013</td>\n",
       "      <td>Nissan</td>\n",
       "      <td>Titan</td>\n",
       "      <td>SV</td>\n",
       "      <td>Crew Cab</td>\n",
       "      <td>automatic</td>\n",
       "      <td>1n6aa0ec3dn301209</td>\n",
       "      <td>tn</td>\n",
       "      <td>2.9</td>\n",
       "      <td>31083.0</td>\n",
       "      <td>black</td>\n",
       "      <td>black</td>\n",
       "      <td>nissan north america inc.</td>\n",
       "      <td>Wed Jun 03 2015 03:30:00 GMT-0700 (PDT)</td>\n",
       "    </tr>\n",
       "  </tbody>\n",
       "</table>\n",
       "</div>"
      ],
      "text/plain": [
       "   year       make         model      trim      body transmission  \\\n",
       "0  2005   Cadillac           CTS      Base     Sedan    automatic   \n",
       "1  2014        GMC  Savana Cargo      2500       Van          NaN   \n",
       "2  2013     Nissan        Murano         S       SUV    automatic   \n",
       "3  2013  Chevrolet        Impala  LS Fleet     Sedan    automatic   \n",
       "4  2013     Nissan         Titan        SV  Crew Cab    automatic   \n",
       "\n",
       "                 vin state  condition  odometer   color interior  \\\n",
       "0  1g6dp567450124779    ca        2.7  116970.0  silver    black   \n",
       "1  1gtw7fca7e1902207    pa        4.4    6286.0   white     gray   \n",
       "2  jn8az1mw6dw303497    oh        4.6   11831.0    gray    black   \n",
       "3  2g1wf5e34d1160703    fl        2.3   57105.0  silver    black   \n",
       "4  1n6aa0ec3dn301209    tn        2.9   31083.0   black    black   \n",
       "\n",
       "                                             seller  \\\n",
       "0                            lexus of stevens creek   \n",
       "1                                            u-haul   \n",
       "2                                nissan-infiniti lt   \n",
       "3  onemain rem/auto club of miami inc dba north dad   \n",
       "4                         nissan north america inc.   \n",
       "\n",
       "                                  saledate  \n",
       "0  Wed Jan 14 2015 04:30:00 GMT-0800 (PST)  \n",
       "1  Fri Feb 27 2015 01:00:00 GMT-0800 (PST)  \n",
       "2  Tue Feb 24 2015 01:30:00 GMT-0800 (PST)  \n",
       "3  Fri Mar 06 2015 02:00:00 GMT-0800 (PST)  \n",
       "4  Wed Jun 03 2015 03:30:00 GMT-0700 (PDT)  "
      ]
     },
     "execution_count": 7,
     "metadata": {},
     "output_type": "execute_result"
    }
   ],
   "source": [
    "df_test.head(5)"
   ]
  },
  {
   "cell_type": "code",
   "execution_count": 8,
   "id": "30b7100a",
   "metadata": {},
   "outputs": [
    {
     "name": "stdout",
     "output_type": "stream",
     "text": [
      "<class 'pandas.core.frame.DataFrame'>\n",
      "RangeIndex: 110058 entries, 0 to 110057\n",
      "Data columns (total 14 columns):\n",
      " #   Column        Non-Null Count   Dtype  \n",
      "---  ------        --------------   -----  \n",
      " 0   year          110058 non-null  int64  \n",
      " 1   make          107997 non-null  object \n",
      " 2   model         107979 non-null  object \n",
      " 3   trim          107944 non-null  object \n",
      " 4   body          107464 non-null  object \n",
      " 5   transmission  97047 non-null   object \n",
      " 6   vin           110058 non-null  object \n",
      " 7   state         110058 non-null  object \n",
      " 8   condition     107679 non-null  float64\n",
      " 9   odometer      110039 non-null  float64\n",
      " 10  color         109900 non-null  object \n",
      " 11  interior      109900 non-null  object \n",
      " 12  seller        110058 non-null  object \n",
      " 13  saledate      110058 non-null  object \n",
      "dtypes: float64(2), int64(1), object(11)\n",
      "memory usage: 11.8+ MB\n"
     ]
    }
   ],
   "source": [
    "df_test.info()"
   ]
  },
  {
   "cell_type": "markdown",
   "id": "29138d7f",
   "metadata": {},
   "source": [
    "Просмотрели тестовые данные, как мы видим в них отсутствует цена продажи, попробуем в будущем дополнить этот показатель."
   ]
  },
  {
   "cell_type": "markdown",
   "id": "00fc4672",
   "metadata": {},
   "source": [
    "**Вывод**\n",
    "\n",
    "- Данные загрузились\n",
    "- Отсутствует цена продажи в тестовых данных\n",
    "- В данных имеются пропуски\n",
    "\n"
   ]
  },
  {
   "cell_type": "markdown",
   "id": "1b3bd493",
   "metadata": {},
   "source": [
    "## Предобработка данных и статистический анализ."
   ]
  },
  {
   "cell_type": "markdown",
   "id": "5e732459",
   "metadata": {},
   "source": [
    "### Работа с пропусками и дубликатами"
   ]
  },
  {
   "cell_type": "code",
   "execution_count": 9,
   "id": "0eca7723",
   "metadata": {},
   "outputs": [
    {
     "data": {
      "text/plain": [
       "0"
      ]
     },
     "execution_count": 9,
     "metadata": {},
     "output_type": "execute_result"
    }
   ],
   "source": [
    "df_train.duplicated().sum()"
   ]
  },
  {
   "cell_type": "markdown",
   "id": "2ed4e9cb",
   "metadata": {},
   "source": [
    "Явные дубликаты не обнаружены"
   ]
  },
  {
   "cell_type": "code",
   "execution_count": 10,
   "id": "0792bbbe",
   "metadata": {},
   "outputs": [
    {
     "data": {
      "text/plain": [
       "year                0\n",
       "make             8043\n",
       "model            8123\n",
       "trim             8337\n",
       "body            10393\n",
       "transmission    51461\n",
       "vin                 0\n",
       "state               0\n",
       "condition        9405\n",
       "odometer           69\n",
       "color             586\n",
       "interior          586\n",
       "seller              0\n",
       "sellingprice        0\n",
       "saledate            0\n",
       "dtype: int64"
      ]
     },
     "execution_count": 10,
     "metadata": {},
     "output_type": "execute_result"
    }
   ],
   "source": [
    "df_train.isna().sum()"
   ]
  },
  {
   "cell_type": "markdown",
   "id": "d8d1613f",
   "metadata": {},
   "source": [
    "- Заполним пропуски по изготовителю с помощью библиотек VIN\n",
    "- Добавим код wmi в качестве признака\n",
    "- Проведём замену не явных дубликатов и заполнение остальных столбцов"
   ]
  },
  {
   "cell_type": "code",
   "execution_count": 11,
   "id": "dab302a3",
   "metadata": {},
   "outputs": [],
   "source": [
    "def make(x):\n",
    "    vin = Vin(x)\n",
    "    make = vin.manufacturer\n",
    "    return make"
   ]
  },
  {
   "cell_type": "code",
   "execution_count": 12,
   "id": "2ebe0134",
   "metadata": {},
   "outputs": [],
   "source": [
    "def wmi(x):\n",
    "    vin = Vin(x)\n",
    "    wmi = vin.wmi\n",
    "    return wmi"
   ]
  },
  {
   "cell_type": "code",
   "execution_count": 13,
   "id": "75b56ab5",
   "metadata": {},
   "outputs": [],
   "source": [
    "def preprocessing(x):\n",
    "    x.body = x.body.str.lower()\n",
    "    x.model = x.model.str.lower()\n",
    "    x.trim = x.trim.str.lower()\n",
    "    x.make = x.make.str.lower()\n",
    "    x.condition = x.condition.fillna(x.condition.mean())\n",
    "    x.model = x.model.fillna('not_defined')\n",
    "    x.trim = x.trim.fillna('unknown')\n",
    "    x.body = x.body.fillna('sedan')\n",
    "    x.interior = x.interior.fillna('black')\n",
    "    x.color = x.color.fillna('black')\n",
    "    x.transmission = x.transmission.fillna('automatic')\n",
    "    x = x.dropna()\n",
    "    x.body = x.body.replace('q60 coupe','coupe')\n",
    "    x.body = x.body.replace('crew cab','cab')\n",
    "    x.body = x.body.replace('g sedan','sedan')\n",
    "    x.body = x.body.replace('regular cab','cab')\n",
    "    x.body = x.body.replace('g coupe','coupe')\n",
    "    x.body = x.body.replace('e-series van','van')\n",
    "    x.body = x.body.replace('crewmax cab','cab')\n",
    "    x.body = x.body.replace('king cab','cab')\n",
    "    x.body = x.body.replace('double cab','cab')\n",
    "    x.body = x.body.replace('crewmax cab','cab')\n",
    "    x.body = x.body.replace('access cab','cab')\n",
    "    x.body = x.body.replace('genesis coupe','coupe')\n",
    "    x.body = x.body.replace('club cab','cab')\n",
    "    x.body = x.body.replace('koup','coupe')\n",
    "    x.body = x.body.replace('extended cab','cab')\n",
    "    x.body = x.body.replace('cts coupe','coupe')\n",
    "    x.body = x.body.replace('mega cab','cab')\n",
    "    x.body = x.body.replace('quad cab','cab')\n",
    "    x.body = x.body.replace('supercab','cab')\n",
    "    x.body = x.body.replace('elantra coupe','coupe')\n",
    "    x.body = x.body.replace('promaster cargo van','van')\n",
    "    x.body = x.body.replace('g convertible','convertible')\n",
    "    x.body = x.body.replace('beetle convertible','convertible')\n",
    "    x.body = x.body.replace('q60 convertible','convertible')\n",
    "    x.body = x.body.replace('xtracab','cab')\n",
    "    x.body = x.body.replace('ram van','van')\n",
    "    x.body = x.body.replace('cts-v wagon','wagon')\n",
    "    x.body = x.body.replace('tsx sport wagon','wagon')\n",
    "    x.body = x.body.replace('g37 coupe','coupe')\n",
    "    x.body = x.body.replace('cts-v coupe','coupe')\n",
    "    x.body = x.body.replace('regular-cab','cab')\n",
    "    x.body = x.body.replace('transit van','van')\n",
    "    x.body = x.body.replace('g37 convertible','convertible')\n",
    "    x.body = x.body.replace('granturismo convertible','convertible')\n",
    "    x.body = x.body.replace('cab plus 4','convertible')\n",
    "    x.body = x.body.replace('cab plus','convertible')\n",
    "    x.body = x.body.replace('cts wagon','wagon')\n",
    "    x.make = x.make.replace('chrysler canada','chrysler')\n",
    "    x.make = x.make.replace('chevrolet mexico','chevrolet')\n",
    "    x.make = x.make.replace('ford otosan','ford')\n",
    "    x.make = x.make.replace('chevrolet usa','chevrolet')\n",
    "    x.make = x.make.replace('daimlerchrysler ag/daimler ag','chrysler')\n",
    "    x.make = x.make.replace('mazda mexico','mazda')\n",
    "    x.make = x.make.replace('chevrolet australia','chevrolet')\n",
    "    x.make = x.make.replace('mercedes-benz (sprinter)','mercedes-benz')\n",
    "    x.make = x.make.replace('volkswagen commercial vehicles','volkswagen')\n",
    "    x.make = x.make.replace('aston martin lagonda limited','aston martin')\n",
    "    x.make = x.make.replace('dodge mexico','dodge')\n",
    "    x.make = x.make.replace('toyota mexico','toyota')\n",
    "    x.make = x.make.replace('mitsubishi thailand','mitsubishi')\n",
    "    x.make = x.make.replace('bmw m','bmw')\n",
    "    x.make = x.make.replace('honda mexico','honda')\n",
    "    x.make = x.make.replace('plymouth mexico','plymouth')\n",
    "    x.make = x.make.replace('lexus canada','lexus')\n",
    "    x.make = x.make.replace('chevrolet canada','chevrolet')\n",
    "    x.make = x.make.replace('gmc truck','gmc')\n",
    "    x.make = x.make.replace('daimler ag (sprinter)','mercedes-benz')\n",
    "    x.make = x.make.replace('porsche car','porsche')\n",
    "    x.make = x.make.replace('porsche suv','porsche')\n",
    "    return x\n",
    "    "
   ]
  },
  {
   "cell_type": "code",
   "execution_count": 14,
   "id": "f110dd0c",
   "metadata": {},
   "outputs": [],
   "source": [
    "df_train['make'] = df_train['vin'].apply(make)"
   ]
  },
  {
   "cell_type": "code",
   "execution_count": 15,
   "id": "58ee9634",
   "metadata": {},
   "outputs": [],
   "source": [
    "df_train['wmi'] = df_train['vin'].apply(wmi)"
   ]
  },
  {
   "cell_type": "code",
   "execution_count": 16,
   "id": "341bd1bc",
   "metadata": {},
   "outputs": [
    {
     "name": "stderr",
     "output_type": "stream",
     "text": [
      "C:\\Users\\79099\\anaconda3\\envs\\ds1_practicum_env\\lib\\site-packages\\pandas\\core\\generic.py:5494: SettingWithCopyWarning: \n",
      "A value is trying to be set on a copy of a slice from a DataFrame.\n",
      "Try using .loc[row_indexer,col_indexer] = value instead\n",
      "\n",
      "See the caveats in the documentation: https://pandas.pydata.org/pandas-docs/stable/user_guide/indexing.html#returning-a-view-versus-a-copy\n",
      "  self[name] = value\n"
     ]
    }
   ],
   "source": [
    "df_train = preprocessing(df_train) "
   ]
  },
  {
   "cell_type": "markdown",
   "id": "896f933a",
   "metadata": {},
   "source": [
    "Проделаем те же операции для тестовой выборки"
   ]
  },
  {
   "cell_type": "code",
   "execution_count": 17,
   "id": "85b3e272",
   "metadata": {},
   "outputs": [],
   "source": [
    "df_test['make'] = df_test['vin'].apply(make)"
   ]
  },
  {
   "cell_type": "code",
   "execution_count": 18,
   "id": "775572b8",
   "metadata": {},
   "outputs": [],
   "source": [
    "df_test['wmi'] = df_test['vin'].apply(wmi)"
   ]
  },
  {
   "cell_type": "code",
   "execution_count": 19,
   "id": "a1d30f90",
   "metadata": {},
   "outputs": [
    {
     "name": "stderr",
     "output_type": "stream",
     "text": [
      "C:\\Users\\79099\\anaconda3\\envs\\ds1_practicum_env\\lib\\site-packages\\pandas\\core\\generic.py:5494: SettingWithCopyWarning: \n",
      "A value is trying to be set on a copy of a slice from a DataFrame.\n",
      "Try using .loc[row_indexer,col_indexer] = value instead\n",
      "\n",
      "See the caveats in the documentation: https://pandas.pydata.org/pandas-docs/stable/user_guide/indexing.html#returning-a-view-versus-a-copy\n",
      "  self[name] = value\n"
     ]
    }
   ],
   "source": [
    "df_test = preprocessing(df_test) "
   ]
  },
  {
   "cell_type": "markdown",
   "id": "693a3f0f",
   "metadata": {},
   "source": [
    "### Статистический анализ данных"
   ]
  },
  {
   "cell_type": "markdown",
   "id": "90b4db14",
   "metadata": {},
   "source": [
    "#### Год выпуска"
   ]
  },
  {
   "cell_type": "code",
   "execution_count": 20,
   "id": "2c8ac084",
   "metadata": {},
   "outputs": [
    {
     "data": {
      "image/png": "[encoded data removed]",
      "text/plain": [
       "<Figure size 640x480 with 1 Axes>"
      ]
     },
     "metadata": {},
     "output_type": "display_data"
    }
   ],
   "source": [
    "plt.hist(df_train['year'], bins=30)\n",
    "plt.title('Гистограмма по годам выпуска автомобилей')\n",
    "plt.xlabel('Год выпуска')\n",
    "plt.ylabel('Количество измерений')\n",
    "plt.show()"
   ]
  },
  {
   "cell_type": "markdown",
   "id": "fc3bb64b",
   "metadata": {},
   "source": [
    "#### Пробег"
   ]
  },
  {
   "cell_type": "code",
   "execution_count": 21,
   "id": "9450e1c2",
   "metadata": {},
   "outputs": [
    {
     "data": {
      "image/png": "[encoded data removed]",
      "text/plain": [
       "<Figure size 640x480 with 1 Axes>"
      ]
     },
     "metadata": {},
     "output_type": "display_data"
    }
   ],
   "source": [
    "plt.hist(df_train['odometer'], bins=1000)\n",
    "plt.title('Гистограмма по пробегу автомобилей')\n",
    "plt.xlabel('Пробег')\n",
    "plt.ylabel('Количество измерений')\n",
    "plt.show()"
   ]
  },
  {
   "cell_type": "markdown",
   "id": "1ebb3202",
   "metadata": {},
   "source": [
    "Построим диаграмму размаха"
   ]
  },
  {
   "cell_type": "code",
   "execution_count": 22,
   "id": "114a2d78",
   "metadata": {},
   "outputs": [
    {
     "data": {
      "text/plain": [
       "<AxesSubplot:>"
      ]
     },
     "execution_count": 22,
     "metadata": {},
     "output_type": "execute_result"
    },
    {
     "data": {
      "image/png": "[encoded data removed]",
      "text/plain": [
       "<Figure size 1400x800 with 1 Axes>"
      ]
     },
     "metadata": {},
     "output_type": "display_data"
    }
   ],
   "source": [
    "df_train.boxplot(column='odometer', figsize=(14,8))"
   ]
  },
  {
   "cell_type": "code",
   "execution_count": 23,
   "id": "a6d596ae",
   "metadata": {},
   "outputs": [
    {
     "data": {
      "text/plain": [
       "count    440167.000000\n",
       "mean      68344.421604\n",
       "std       53542.203908\n",
       "min           1.000000\n",
       "25%       28258.000000\n",
       "50%       52098.000000\n",
       "75%       99272.000000\n",
       "max      999999.000000\n",
       "Name: odometer, dtype: float64"
      ]
     },
     "execution_count": 23,
     "metadata": {},
     "output_type": "execute_result"
    }
   ],
   "source": [
    "df_train['odometer'].describe()"
   ]
  },
  {
   "cell_type": "code",
   "execution_count": 24,
   "id": "e17b26c9",
   "metadata": {},
   "outputs": [
    {
     "data": {
      "text/plain": [
       "1197.0"
      ]
     },
     "execution_count": 24,
     "metadata": {},
     "output_type": "execute_result"
    }
   ],
   "source": [
    "df_train['odometer'].quantile(.005)"
   ]
  },
  {
   "cell_type": "code",
   "execution_count": 25,
   "id": "61a0d81e",
   "metadata": {},
   "outputs": [
    {
     "data": {
      "text/plain": [
       "251443.81999999925"
      ]
     },
     "execution_count": 25,
     "metadata": {},
     "output_type": "execute_result"
    }
   ],
   "source": [
    "df_train['odometer'].quantile(.995)"
   ]
  },
  {
   "cell_type": "markdown",
   "id": "0c271233",
   "metadata": {},
   "source": [
    "Отсечём пробеги меньше 1000  и больше 252000"
   ]
  },
  {
   "cell_type": "code",
   "execution_count": 26,
   "id": "7c9f1868",
   "metadata": {},
   "outputs": [],
   "source": [
    "def odometr(x):\n",
    "    x = x.query('252000 >odometer > 1000')\n",
    "    return x"
   ]
  },
  {
   "cell_type": "code",
   "execution_count": 27,
   "id": "78baa477",
   "metadata": {},
   "outputs": [],
   "source": [
    "df_train = odometr(df_train)\n"
   ]
  },
  {
   "cell_type": "code",
   "execution_count": null,
   "id": "c88f231f",
   "metadata": {},
   "outputs": [],
   "source": []
  },
  {
   "cell_type": "markdown",
   "id": "9857e9b9",
   "metadata": {},
   "source": [
    "#### Цена"
   ]
  },
  {
   "cell_type": "code",
   "execution_count": 28,
   "id": "7a83c8b0",
   "metadata": {},
   "outputs": [
    {
     "data": {
      "image/png": "[encoded data removed]",
      "text/plain": [
       "<Figure size 640x480 with 1 Axes>"
      ]
     },
     "metadata": {},
     "output_type": "display_data"
    }
   ],
   "source": [
    "plt.hist(df_train['sellingprice'], bins=1000)\n",
    "plt.title('Гистограмма по цене автомобилей')\n",
    "plt.xlabel('Цена')\n",
    "plt.ylabel('Количество измерений')\n",
    "plt.show()"
   ]
  },
  {
   "cell_type": "code",
   "execution_count": 29,
   "id": "1bc195a4",
   "metadata": {},
   "outputs": [
    {
     "data": {
      "text/plain": [
       "<AxesSubplot:>"
      ]
     },
     "execution_count": 29,
     "metadata": {},
     "output_type": "execute_result"
    },
    {
     "data": {
      "image/png": "[encoded data removed]",
      "text/plain": [
       "<Figure size 1400x800 with 1 Axes>"
      ]
     },
     "metadata": {},
     "output_type": "display_data"
    }
   ],
   "source": [
    "df_train.boxplot(column='sellingprice', figsize=(14,8))"
   ]
  },
  {
   "cell_type": "code",
   "execution_count": 30,
   "id": "37fcb9e8",
   "metadata": {},
   "outputs": [
    {
     "data": {
      "text/plain": [
       "400.0"
      ]
     },
     "execution_count": 30,
     "metadata": {},
     "output_type": "execute_result"
    }
   ],
   "source": [
    "df_train['sellingprice'].quantile(.005)"
   ]
  },
  {
   "cell_type": "code",
   "execution_count": 31,
   "id": "b4347031",
   "metadata": {},
   "outputs": [
    {
     "data": {
      "text/plain": [
       "52500.0"
      ]
     },
     "execution_count": 31,
     "metadata": {},
     "output_type": "execute_result"
    }
   ],
   "source": [
    "df_train['sellingprice'].quantile(.995)"
   ]
  },
  {
   "cell_type": "code",
   "execution_count": 32,
   "id": "cd270a92",
   "metadata": {},
   "outputs": [
    {
     "data": {
      "text/plain": [
       "count    435958.000000\n",
       "mean      13646.365480\n",
       "std        9680.816007\n",
       "min         100.000000\n",
       "25%        7000.000000\n",
       "50%       12200.000000\n",
       "75%       18200.000000\n",
       "max      230000.000000\n",
       "Name: sellingprice, dtype: float64"
      ]
     },
     "execution_count": 32,
     "metadata": {},
     "output_type": "execute_result"
    }
   ],
   "source": [
    "df_train['sellingprice'].describe()"
   ]
  },
  {
   "cell_type": "code",
   "execution_count": 33,
   "id": "ef61d125",
   "metadata": {},
   "outputs": [],
   "source": [
    "def price(x):\n",
    "    x = x.query('52500.0 >sellingprice > 400.0')\n",
    "    return x"
   ]
  },
  {
   "cell_type": "code",
   "execution_count": 34,
   "id": "e39fc480",
   "metadata": {},
   "outputs": [],
   "source": [
    "df_train = price(df_train)"
   ]
  },
  {
   "cell_type": "code",
   "execution_count": 35,
   "id": "06bc377d",
   "metadata": {},
   "outputs": [
    {
     "data": {
      "text/plain": [
       "count    430517.000000\n",
       "mean      13471.137444\n",
       "std        8763.789694\n",
       "min         420.000000\n",
       "25%        7100.000000\n",
       "50%       12200.000000\n",
       "75%       18200.000000\n",
       "max       52400.000000\n",
       "Name: sellingprice, dtype: float64"
      ]
     },
     "execution_count": 35,
     "metadata": {},
     "output_type": "execute_result"
    }
   ],
   "source": [
    "df_train['sellingprice'].describe()"
   ]
  },
  {
   "cell_type": "markdown",
   "id": "9d191c80",
   "metadata": {},
   "source": [
    "**Вывод**\n",
    "\n",
    "Подготовили данные"
   ]
  },
  {
   "cell_type": "markdown",
   "id": "67df5ca5",
   "metadata": {},
   "source": [
    "## Добавление признаков"
   ]
  },
  {
   "cell_type": "markdown",
   "id": "ff38b570",
   "metadata": {},
   "source": [
    "Добавим новые признаки:\n",
    " - Средняя цена по году для каждого производителя\n",
    " - Средняя цена по году для каждого производителя и каждой модели\n",
    " - Максимальная цена по году для каждого производителя и каждой модели\n",
    " - Минимальная цена по году для каждого производителя и каждой модели\n",
    " - Средняя цена по году для каждого производителя и каждой модели исходя из состояния"
   ]
  },
  {
   "cell_type": "code",
   "execution_count": 36,
   "id": "525d46ef",
   "metadata": {},
   "outputs": [],
   "source": [
    "def mean_new_fichers(x):\n",
    "    x['mean_year_make_price'] =x.groupby(['year', 'make'])['sellingprice'].transform('mean')\n",
    "    x['mean_year_make_mpdel_price'] = x.groupby(['year', 'make', 'model'])['sellingprice'].transform('mean')\n",
    "    x['max_year_make_mpdel_price'] = x.groupby(['year', 'make', 'model'])['sellingprice'].transform('max')\n",
    "    x['min_year_make_mpdel_price'] = x.groupby(['year', 'make', 'model'])['sellingprice'].transform('min')\n",
    "    x['min_year_make_mpdel_condition_price'] = x.groupby(['year', 'make', 'model', 'condition'])['sellingprice'].transform('mean')\n",
    "    \n",
    "    return x"
   ]
  },
  {
   "cell_type": "code",
   "execution_count": 37,
   "id": "1691cab2",
   "metadata": {},
   "outputs": [],
   "source": [
    "df_train = mean_new_fichers(df_train)"
   ]
  },
  {
   "cell_type": "code",
   "execution_count": 38,
   "id": "6b6a2595",
   "metadata": {},
   "outputs": [
    {
     "data": {
      "text/html": [
       "<div>\n",
       "<style scoped>\n",
       "    .dataframe tbody tr th:only-of-type {\n",
       "        vertical-align: middle;\n",
       "    }\n",
       "\n",
       "    .dataframe tbody tr th {\n",
       "        vertical-align: top;\n",
       "    }\n",
       "\n",
       "    .dataframe thead th {\n",
       "        text-align: right;\n",
       "    }\n",
       "</style>\n",
       "<table border=\"1\" class=\"dataframe\">\n",
       "  <thead>\n",
       "    <tr style=\"text-align: right;\">\n",
       "      <th></th>\n",
       "      <th>year</th>\n",
       "      <th>make</th>\n",
       "      <th>model</th>\n",
       "      <th>trim</th>\n",
       "      <th>body</th>\n",
       "      <th>transmission</th>\n",
       "      <th>vin</th>\n",
       "      <th>state</th>\n",
       "      <th>condition</th>\n",
       "      <th>odometer</th>\n",
       "      <th>...</th>\n",
       "      <th>interior</th>\n",
       "      <th>seller</th>\n",
       "      <th>sellingprice</th>\n",
       "      <th>saledate</th>\n",
       "      <th>wmi</th>\n",
       "      <th>mean_year_make_price</th>\n",
       "      <th>mean_year_make_mpdel_price</th>\n",
       "      <th>max_year_make_mpdel_price</th>\n",
       "      <th>min_year_make_mpdel_price</th>\n",
       "      <th>min_year_make_mpdel_condition_price</th>\n",
       "    </tr>\n",
       "  </thead>\n",
       "  <tbody>\n",
       "    <tr>\n",
       "      <th>0</th>\n",
       "      <td>2011</td>\n",
       "      <td>ford</td>\n",
       "      <td>edge</td>\n",
       "      <td>sel</td>\n",
       "      <td>suv</td>\n",
       "      <td>automatic</td>\n",
       "      <td>2fmdk3jc4bba41556</td>\n",
       "      <td>md</td>\n",
       "      <td>4.2</td>\n",
       "      <td>111041.0</td>\n",
       "      <td>...</td>\n",
       "      <td>black</td>\n",
       "      <td>santander consumer</td>\n",
       "      <td>12500</td>\n",
       "      <td>Tue Jun 02 2015 02:30:00 GMT-0700 (PDT)</td>\n",
       "      <td>2FM</td>\n",
       "      <td>15255.963074</td>\n",
       "      <td>16823.317308</td>\n",
       "      <td>24900</td>\n",
       "      <td>6000</td>\n",
       "      <td>17059.210526</td>\n",
       "    </tr>\n",
       "    <tr>\n",
       "      <th>1</th>\n",
       "      <td>2014</td>\n",
       "      <td>ford</td>\n",
       "      <td>fusion</td>\n",
       "      <td>se</td>\n",
       "      <td>sedan</td>\n",
       "      <td>automatic</td>\n",
       "      <td>3fa6p0h75er208976</td>\n",
       "      <td>mo</td>\n",
       "      <td>3.5</td>\n",
       "      <td>31034.0</td>\n",
       "      <td>...</td>\n",
       "      <td>black</td>\n",
       "      <td>ars/avis budget group</td>\n",
       "      <td>14500</td>\n",
       "      <td>Wed Feb 25 2015 02:00:00 GMT-0800 (PST)</td>\n",
       "      <td>3FA</td>\n",
       "      <td>19580.324111</td>\n",
       "      <td>15664.307497</td>\n",
       "      <td>49000</td>\n",
       "      <td>2400</td>\n",
       "      <td>14531.521739</td>\n",
       "    </tr>\n",
       "    <tr>\n",
       "      <th>2</th>\n",
       "      <td>2012</td>\n",
       "      <td>nissan</td>\n",
       "      <td>sentra</td>\n",
       "      <td>2.0 sl</td>\n",
       "      <td>sedan</td>\n",
       "      <td>automatic</td>\n",
       "      <td>3n1ab6ap4cl698412</td>\n",
       "      <td>nj</td>\n",
       "      <td>2.2</td>\n",
       "      <td>35619.0</td>\n",
       "      <td>...</td>\n",
       "      <td>black</td>\n",
       "      <td>nissan-infiniti lt</td>\n",
       "      <td>9100</td>\n",
       "      <td>Wed Jun 10 2015 02:30:00 GMT-0700 (PDT)</td>\n",
       "      <td>3N1</td>\n",
       "      <td>14760.784061</td>\n",
       "      <td>9765.381443</td>\n",
       "      <td>20700</td>\n",
       "      <td>900</td>\n",
       "      <td>8200.000000</td>\n",
       "    </tr>\n",
       "    <tr>\n",
       "      <th>3</th>\n",
       "      <td>2003</td>\n",
       "      <td>hummer</td>\n",
       "      <td>h2</td>\n",
       "      <td>base</td>\n",
       "      <td>suv</td>\n",
       "      <td>automatic</td>\n",
       "      <td>5grgn23u93h101360</td>\n",
       "      <td>tx</td>\n",
       "      <td>2.8</td>\n",
       "      <td>131301.0</td>\n",
       "      <td>...</td>\n",
       "      <td>beige</td>\n",
       "      <td>wichita falls ford lin inc</td>\n",
       "      <td>13300</td>\n",
       "      <td>Wed Jun 17 2015 03:00:00 GMT-0700 (PDT)</td>\n",
       "      <td>5GR</td>\n",
       "      <td>13434.745763</td>\n",
       "      <td>13483.620690</td>\n",
       "      <td>24600</td>\n",
       "      <td>7300</td>\n",
       "      <td>13140.000000</td>\n",
       "    </tr>\n",
       "    <tr>\n",
       "      <th>4</th>\n",
       "      <td>2007</td>\n",
       "      <td>ford</td>\n",
       "      <td>fusion</td>\n",
       "      <td>sel</td>\n",
       "      <td>sedan</td>\n",
       "      <td>automatic</td>\n",
       "      <td>3fahp08z17r268380</td>\n",
       "      <td>md</td>\n",
       "      <td>2.0</td>\n",
       "      <td>127709.0</td>\n",
       "      <td>...</td>\n",
       "      <td>black</td>\n",
       "      <td>purple heart</td>\n",
       "      <td>1300</td>\n",
       "      <td>Tue Feb 03 2015 04:00:00 GMT-0800 (PST)</td>\n",
       "      <td>3FA</td>\n",
       "      <td>7136.153998</td>\n",
       "      <td>3969.761905</td>\n",
       "      <td>8500</td>\n",
       "      <td>700</td>\n",
       "      <td>3164.285714</td>\n",
       "    </tr>\n",
       "  </tbody>\n",
       "</table>\n",
       "<p>5 rows × 21 columns</p>\n",
       "</div>"
      ],
      "text/plain": [
       "   year    make   model    trim   body transmission                vin state  \\\n",
       "0  2011    ford    edge     sel    suv    automatic  2fmdk3jc4bba41556    md   \n",
       "1  2014    ford  fusion      se  sedan    automatic  3fa6p0h75er208976    mo   \n",
       "2  2012  nissan  sentra  2.0 sl  sedan    automatic  3n1ab6ap4cl698412    nj   \n",
       "3  2003  hummer      h2    base    suv    automatic  5grgn23u93h101360    tx   \n",
       "4  2007    ford  fusion     sel  sedan    automatic  3fahp08z17r268380    md   \n",
       "\n",
       "   condition  odometer  ... interior                      seller sellingprice  \\\n",
       "0        4.2  111041.0  ...    black          santander consumer        12500   \n",
       "1        3.5   31034.0  ...    black       ars/avis budget group        14500   \n",
       "2        2.2   35619.0  ...    black          nissan-infiniti lt         9100   \n",
       "3        2.8  131301.0  ...    beige  wichita falls ford lin inc        13300   \n",
       "4        2.0  127709.0  ...    black                purple heart         1300   \n",
       "\n",
       "                                  saledate  wmi mean_year_make_price  \\\n",
       "0  Tue Jun 02 2015 02:30:00 GMT-0700 (PDT)  2FM         15255.963074   \n",
       "1  Wed Feb 25 2015 02:00:00 GMT-0800 (PST)  3FA         19580.324111   \n",
       "2  Wed Jun 10 2015 02:30:00 GMT-0700 (PDT)  3N1         14760.784061   \n",
       "3  Wed Jun 17 2015 03:00:00 GMT-0700 (PDT)  5GR         13434.745763   \n",
       "4  Tue Feb 03 2015 04:00:00 GMT-0800 (PST)  3FA          7136.153998   \n",
       "\n",
       "   mean_year_make_mpdel_price  max_year_make_mpdel_price  \\\n",
       "0                16823.317308                      24900   \n",
       "1                15664.307497                      49000   \n",
       "2                 9765.381443                      20700   \n",
       "3                13483.620690                      24600   \n",
       "4                 3969.761905                       8500   \n",
       "\n",
       "   min_year_make_mpdel_price  min_year_make_mpdel_condition_price  \n",
       "0                       6000                         17059.210526  \n",
       "1                       2400                         14531.521739  \n",
       "2                        900                          8200.000000  \n",
       "3                       7300                         13140.000000  \n",
       "4                        700                          3164.285714  \n",
       "\n",
       "[5 rows x 21 columns]"
      ]
     },
     "execution_count": 38,
     "metadata": {},
     "output_type": "execute_result"
    }
   ],
   "source": [
    "df_train.head(5)"
   ]
  },
  {
   "cell_type": "code",
   "execution_count": null,
   "id": "c908d510",
   "metadata": {},
   "outputs": [],
   "source": []
  },
  {
   "cell_type": "markdown",
   "id": "88ef120d",
   "metadata": {},
   "source": [
    "## Построение модели"
   ]
  },
  {
   "cell_type": "markdown",
   "id": "cbb6783c",
   "metadata": {},
   "source": [
    "Лучшие результаты показала модель catBoost"
   ]
  },
  {
   "cell_type": "code",
   "execution_count": 39,
   "id": "21bd9c4b",
   "metadata": {},
   "outputs": [],
   "source": [
    "features_train_cat = df_train.drop(['vin', 'saledate', 'sellingprice'], axis=1)"
   ]
  },
  {
   "cell_type": "code",
   "execution_count": 40,
   "id": "ad139fc7",
   "metadata": {},
   "outputs": [],
   "source": [
    "target_train_cat = df_train['sellingprice'] "
   ]
  },
  {
   "cell_type": "code",
   "execution_count": 41,
   "id": "c63a254c",
   "metadata": {},
   "outputs": [],
   "source": [
    "catBoost = CatBoostRegressor(loss_function='MAE', eval_metric = 'MAE', random_state=1234)"
   ]
  },
  {
   "cell_type": "code",
   "execution_count": 42,
   "id": "c9bca7b4",
   "metadata": {},
   "outputs": [],
   "source": [
    "cat_features_final = ['make', 'model', 'trim', 'body', 'transmission',  \n",
    "                'state', 'color', 'interior', 'seller', 'wmi']"
   ]
  },
  {
   "cell_type": "code",
   "execution_count": 43,
   "id": "475eba27",
   "metadata": {},
   "outputs": [],
   "source": [
    "param_search_1 = [{'depth' : range (4, 5),\n",
    "                'learning_rate' : [0.2],\n",
    "                'iterations' : range(31, 91, 30),\n",
    "                'verbose' : [False]\n",
    "               }]"
   ]
  },
  {
   "cell_type": "code",
   "execution_count": 44,
   "id": "efb6c618",
   "metadata": {},
   "outputs": [
    {
     "name": "stdout",
     "output_type": "stream",
     "text": [
      "Оптимальные параметры:  {'depth': 4, 'iterations': 61, 'learning_rate': 0.2, 'verbose': False}\n",
      "MAPE модели CatBoost по кросс-валидации равно 0.14372025828288532\n"
     ]
    }
   ],
   "source": [
    "cat = GridSearchCV(estimator=catBoost,\n",
    "                  cv=5,\n",
    "                  param_grid=param_search_1,\n",
    "                  scoring = 'neg_mean_absolute_percentage_error')\n",
    "cat.fit(features_train_cat, target_train_cat, cat_features=cat_features_final)\n",
    "print('Оптимальные параметры: ', cat.best_params_)\n",
    "print(f'MAPE модели CatBoost по кросс-валидации равно {-1*cat.best_score_}')"
   ]
  },
  {
   "cell_type": "markdown",
   "id": "13f06bca",
   "metadata": {},
   "source": [
    "## Вывод"
   ]
  },
  {
   "cell_type": "markdown",
   "id": "373d7919",
   "metadata": {},
   "source": [
    "Получили модель, которая выдаёт значения MAPE на кросс-валидации 0.1437"
   ]
  },
  {
   "cell_type": "markdown",
   "id": "6014253f",
   "metadata": {},
   "source": [
    "Я не уверен в правильности выбранного мной подхода, потому что я создал новые признаки: среднюю цену по годам \n",
    "и производителям, исходя из продажной цены. Но в реальной жизни при определении стоимости автомобиля у нас цены не будет\n",
    "и по хорошему надо \"новые\" столбцы в тестовых данных заполнить соответствующими значениями из тренировочных данных.\n",
    "То есть: средняя стоимость продажи например автомобиля форд 2009 года в тестовых данных должна братся из соответствующего значения в тренировочных данных, но не факт что для того автомобиля, который мы возьмём такие данные будут в тренировочных данных и к тому же я не нашел, как это сделать технически. Буду благодарен за подсказку.\n"
   ]
  },
  {
   "cell_type": "code",
   "execution_count": null,
   "id": "8042ad0f",
   "metadata": {},
   "outputs": [],
   "source": []
  }
 ],
 "metadata": {
  "kernelspec": {
   "display_name": "Python 3 (ipykernel)",
   "language": "python",
   "name": "python3"
  },
  "language_info": {
   "codemirror_mode": {
    "name": "ipython",
    "version": 3
   },
   "file_extension": ".py",
   "mimetype": "text/x-python",
   "name": "python",
   "nbconvert_exporter": "python",
   "pygments_lexer": "ipython3",
   "version": "3.9.16"
  }
 },
 "nbformat": 4,
 "nbformat_minor": 5
}
