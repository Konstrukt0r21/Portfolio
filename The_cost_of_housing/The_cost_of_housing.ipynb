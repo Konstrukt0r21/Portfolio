{
 "cells": [
  {
   "cell_type": "markdown",
   "id": "GEqQaHzsZ_bA",
   "metadata": {
    "id": "GEqQaHzsZ_bA"
   },
   "source": [
    "## Предсказание стоимости жилья\n",
    "\n",
    "В проекте нужно обучить модель линейной регрессии на данных о жилье в Калифорнии в 1990 году. На основе данных нужно предсказать медианную стоимость дома в жилом массиве. Необходимо обучить модель на всех признаках и отдельно на численных\n",
    "и сделайте предсказания на тестовой выборке. Для оценки качества модели будут использованы метрики RMSE, MAE и R2."
   ]
  },
  {
   "cell_type": "markdown",
   "id": "c1ae8c08",
   "metadata": {},
   "source": [
    "Сначала инициируем Spark-сессию и прочитаем датасет."
   ]
  },
  {
   "cell_type": "markdown",
   "id": "f277c608",
   "metadata": {},
   "source": [
    "### Импорт библиотек"
   ]
  },
  {
   "cell_type": "code",
   "execution_count": 1,
   "id": "0f47b6a2",
   "metadata": {},
   "outputs": [],
   "source": [
    "import pandas as pd\n",
    "import numpy as np\n"
   ]
  },
  {
   "cell_type": "code",
   "execution_count": 2,
   "id": "e6f536fc",
   "metadata": {},
   "outputs": [],
   "source": [
    "import pyspark\n",
    "from pyspark.sql import SparkSession\n",
    "from pyspark.sql.types import *\n",
    "import pyspark.sql.functions as F\n",
    "from pyspark.ml.feature import StringIndexer, VectorAssembler, StandardScaler\n",
    "from pyspark.ml.regression import LinearRegression\n",
    "from pyspark.ml.evaluation import BinaryClassificationEvaluator, MulticlassClassificationEvaluator\n",
    "from pyspark.sql.window import Window \n",
    "import pyspark.sql.functions as F\n",
    "from pyspark.mllib.evaluation import RegressionMetrics\n",
    "from pyspark.ml.feature import Imputer\n"
   ]
  },
  {
   "cell_type": "code",
   "execution_count": 3,
   "id": "82819fdf",
   "metadata": {},
   "outputs": [],
   "source": [
    "pyspark_version = pyspark.__version__\n",
    "if int(pyspark_version[:1]) == 3:\n",
    "    from pyspark.ml.feature import OneHotEncoder    \n",
    "elif int(pyspark_version[:1]) == 2:\n",
    "    from pyspark.ml.feature import OneHotEncodeEstimator\n"
   ]
  },
  {
   "cell_type": "code",
   "execution_count": 4,
   "id": "12c09b97",
   "metadata": {},
   "outputs": [],
   "source": [
    "from pyspark.sql import SparkSession, Window\n",
    "import pyspark.sql.functions as F"
   ]
  },
  {
   "cell_type": "markdown",
   "id": "a2a66707",
   "metadata": {},
   "source": [
    "### Запуск spark сессии"
   ]
  },
  {
   "cell_type": "code",
   "execution_count": 5,
   "id": "af2e2365",
   "metadata": {},
   "outputs": [],
   "source": [
    "RANDOM_SEED = 2022"
   ]
  },
  {
   "cell_type": "code",
   "execution_count": 6,
   "id": "a0f8784e",
   "metadata": {},
   "outputs": [
    {
     "name": "stderr",
     "output_type": "stream",
     "text": [
      "22/08/05 14:43:08 WARN Utils: Service 'SparkUI' could not bind on port 4040. Attempting port 4041.\n",
      "22/08/05 14:43:08 WARN Utils: Service 'SparkUI' could not bind on port 4041. Attempting port 4042.\n"
     ]
    }
   ],
   "source": [
    "spark = SparkSession.builder \\\n",
    "                    .master(\"local\") \\\n",
    "                    .appName(\"California - median_house_value\") \\\n",
    "                    .getOrCreate()\n",
    "# Запускаем спарк сессию"
   ]
  },
  {
   "cell_type": "markdown",
   "id": "0a544a99",
   "metadata": {},
   "source": [
    "### Чтение фаила и первичное знакомство с ним"
   ]
  },
  {
   "cell_type": "markdown",
   "id": "780c37d5",
   "metadata": {},
   "source": [
    "Теперь прочитаем фаил."
   ]
  },
  {
   "cell_type": "code",
   "execution_count": 7,
   "id": "3e897dcd",
   "metadata": {},
   "outputs": [
    {
     "name": "stderr",
     "output_type": "stream",
     "text": [
      "                                                                                \r"
     ]
    }
   ],
   "source": [
    "df = spark.read.option('header', 'true').csv('/datasets/housing.csv', inferSchema = True) "
   ]
  },
  {
   "cell_type": "code",
   "execution_count": 8,
   "id": "f8d0655d",
   "metadata": {},
   "outputs": [
    {
     "name": "stdout",
     "output_type": "stream",
     "text": [
      "root\n",
      " |-- longitude: double (nullable = true)\n",
      " |-- latitude: double (nullable = true)\n",
      " |-- housing_median_age: double (nullable = true)\n",
      " |-- total_rooms: double (nullable = true)\n",
      " |-- total_bedrooms: double (nullable = true)\n",
      " |-- population: double (nullable = true)\n",
      " |-- households: double (nullable = true)\n",
      " |-- median_income: double (nullable = true)\n",
      " |-- median_house_value: double (nullable = true)\n",
      " |-- ocean_proximity: string (nullable = true)\n",
      "\n"
     ]
    }
   ],
   "source": [
    "df.printSchema()"
   ]
  },
  {
   "cell_type": "code",
   "execution_count": 9,
   "id": "09de7314",
   "metadata": {},
   "outputs": [
    {
     "data": {
      "text/html": [
       "<div>\n",
       "<style scoped>\n",
       "    .dataframe tbody tr th:only-of-type {\n",
       "        vertical-align: middle;\n",
       "    }\n",
       "\n",
       "    .dataframe tbody tr th {\n",
       "        vertical-align: top;\n",
       "    }\n",
       "\n",
       "    .dataframe thead th {\n",
       "        text-align: right;\n",
       "    }\n",
       "</style>\n",
       "<table border=\"1\" class=\"dataframe\">\n",
       "  <thead>\n",
       "    <tr style=\"text-align: right;\">\n",
       "      <th></th>\n",
       "      <th>longitude</th>\n",
       "      <th>latitude</th>\n",
       "      <th>housing_median_age</th>\n",
       "      <th>total_rooms</th>\n",
       "      <th>total_bedrooms</th>\n",
       "      <th>population</th>\n",
       "      <th>households</th>\n",
       "      <th>median_income</th>\n",
       "      <th>median_house_value</th>\n",
       "      <th>ocean_proximity</th>\n",
       "    </tr>\n",
       "  </thead>\n",
       "  <tbody>\n",
       "    <tr>\n",
       "      <th>0</th>\n",
       "      <td>-122.23</td>\n",
       "      <td>37.88</td>\n",
       "      <td>41.0</td>\n",
       "      <td>880.0</td>\n",
       "      <td>129.0</td>\n",
       "      <td>322.0</td>\n",
       "      <td>126.0</td>\n",
       "      <td>8.3252</td>\n",
       "      <td>452600.0</td>\n",
       "      <td>NEAR BAY</td>\n",
       "    </tr>\n",
       "    <tr>\n",
       "      <th>1</th>\n",
       "      <td>-122.22</td>\n",
       "      <td>37.86</td>\n",
       "      <td>21.0</td>\n",
       "      <td>7099.0</td>\n",
       "      <td>1106.0</td>\n",
       "      <td>2401.0</td>\n",
       "      <td>1138.0</td>\n",
       "      <td>8.3014</td>\n",
       "      <td>358500.0</td>\n",
       "      <td>NEAR BAY</td>\n",
       "    </tr>\n",
       "    <tr>\n",
       "      <th>2</th>\n",
       "      <td>-122.24</td>\n",
       "      <td>37.85</td>\n",
       "      <td>52.0</td>\n",
       "      <td>1467.0</td>\n",
       "      <td>190.0</td>\n",
       "      <td>496.0</td>\n",
       "      <td>177.0</td>\n",
       "      <td>7.2574</td>\n",
       "      <td>352100.0</td>\n",
       "      <td>NEAR BAY</td>\n",
       "    </tr>\n",
       "    <tr>\n",
       "      <th>3</th>\n",
       "      <td>-122.25</td>\n",
       "      <td>37.85</td>\n",
       "      <td>52.0</td>\n",
       "      <td>1274.0</td>\n",
       "      <td>235.0</td>\n",
       "      <td>558.0</td>\n",
       "      <td>219.0</td>\n",
       "      <td>5.6431</td>\n",
       "      <td>341300.0</td>\n",
       "      <td>NEAR BAY</td>\n",
       "    </tr>\n",
       "    <tr>\n",
       "      <th>4</th>\n",
       "      <td>-122.25</td>\n",
       "      <td>37.85</td>\n",
       "      <td>52.0</td>\n",
       "      <td>1627.0</td>\n",
       "      <td>280.0</td>\n",
       "      <td>565.0</td>\n",
       "      <td>259.0</td>\n",
       "      <td>3.8462</td>\n",
       "      <td>342200.0</td>\n",
       "      <td>NEAR BAY</td>\n",
       "    </tr>\n",
       "    <tr>\n",
       "      <th>...</th>\n",
       "      <td>...</td>\n",
       "      <td>...</td>\n",
       "      <td>...</td>\n",
       "      <td>...</td>\n",
       "      <td>...</td>\n",
       "      <td>...</td>\n",
       "      <td>...</td>\n",
       "      <td>...</td>\n",
       "      <td>...</td>\n",
       "      <td>...</td>\n",
       "    </tr>\n",
       "    <tr>\n",
       "      <th>20635</th>\n",
       "      <td>-121.09</td>\n",
       "      <td>39.48</td>\n",
       "      <td>25.0</td>\n",
       "      <td>1665.0</td>\n",
       "      <td>374.0</td>\n",
       "      <td>845.0</td>\n",
       "      <td>330.0</td>\n",
       "      <td>1.5603</td>\n",
       "      <td>78100.0</td>\n",
       "      <td>INLAND</td>\n",
       "    </tr>\n",
       "    <tr>\n",
       "      <th>20636</th>\n",
       "      <td>-121.21</td>\n",
       "      <td>39.49</td>\n",
       "      <td>18.0</td>\n",
       "      <td>697.0</td>\n",
       "      <td>150.0</td>\n",
       "      <td>356.0</td>\n",
       "      <td>114.0</td>\n",
       "      <td>2.5568</td>\n",
       "      <td>77100.0</td>\n",
       "      <td>INLAND</td>\n",
       "    </tr>\n",
       "    <tr>\n",
       "      <th>20637</th>\n",
       "      <td>-121.22</td>\n",
       "      <td>39.43</td>\n",
       "      <td>17.0</td>\n",
       "      <td>2254.0</td>\n",
       "      <td>485.0</td>\n",
       "      <td>1007.0</td>\n",
       "      <td>433.0</td>\n",
       "      <td>1.7000</td>\n",
       "      <td>92300.0</td>\n",
       "      <td>INLAND</td>\n",
       "    </tr>\n",
       "    <tr>\n",
       "      <th>20638</th>\n",
       "      <td>-121.32</td>\n",
       "      <td>39.43</td>\n",
       "      <td>18.0</td>\n",
       "      <td>1860.0</td>\n",
       "      <td>409.0</td>\n",
       "      <td>741.0</td>\n",
       "      <td>349.0</td>\n",
       "      <td>1.8672</td>\n",
       "      <td>84700.0</td>\n",
       "      <td>INLAND</td>\n",
       "    </tr>\n",
       "    <tr>\n",
       "      <th>20639</th>\n",
       "      <td>-121.24</td>\n",
       "      <td>39.37</td>\n",
       "      <td>16.0</td>\n",
       "      <td>2785.0</td>\n",
       "      <td>616.0</td>\n",
       "      <td>1387.0</td>\n",
       "      <td>530.0</td>\n",
       "      <td>2.3886</td>\n",
       "      <td>89400.0</td>\n",
       "      <td>INLAND</td>\n",
       "    </tr>\n",
       "  </tbody>\n",
       "</table>\n",
       "<p>20640 rows × 10 columns</p>\n",
       "</div>"
      ],
      "text/plain": [
       "       longitude  latitude  housing_median_age  total_rooms  total_bedrooms  \\\n",
       "0        -122.23     37.88                41.0        880.0           129.0   \n",
       "1        -122.22     37.86                21.0       7099.0          1106.0   \n",
       "2        -122.24     37.85                52.0       1467.0           190.0   \n",
       "3        -122.25     37.85                52.0       1274.0           235.0   \n",
       "4        -122.25     37.85                52.0       1627.0           280.0   \n",
       "...          ...       ...                 ...          ...             ...   \n",
       "20635    -121.09     39.48                25.0       1665.0           374.0   \n",
       "20636    -121.21     39.49                18.0        697.0           150.0   \n",
       "20637    -121.22     39.43                17.0       2254.0           485.0   \n",
       "20638    -121.32     39.43                18.0       1860.0           409.0   \n",
       "20639    -121.24     39.37                16.0       2785.0           616.0   \n",
       "\n",
       "       population  households  median_income  median_house_value  \\\n",
       "0           322.0       126.0         8.3252            452600.0   \n",
       "1          2401.0      1138.0         8.3014            358500.0   \n",
       "2           496.0       177.0         7.2574            352100.0   \n",
       "3           558.0       219.0         5.6431            341300.0   \n",
       "4           565.0       259.0         3.8462            342200.0   \n",
       "...           ...         ...            ...                 ...   \n",
       "20635       845.0       330.0         1.5603             78100.0   \n",
       "20636       356.0       114.0         2.5568             77100.0   \n",
       "20637      1007.0       433.0         1.7000             92300.0   \n",
       "20638       741.0       349.0         1.8672             84700.0   \n",
       "20639      1387.0       530.0         2.3886             89400.0   \n",
       "\n",
       "      ocean_proximity  \n",
       "0            NEAR BAY  \n",
       "1            NEAR BAY  \n",
       "2            NEAR BAY  \n",
       "3            NEAR BAY  \n",
       "4            NEAR BAY  \n",
       "...               ...  \n",
       "20635          INLAND  \n",
       "20636          INLAND  \n",
       "20637          INLAND  \n",
       "20638          INLAND  \n",
       "20639          INLAND  \n",
       "\n",
       "[20640 rows x 10 columns]"
      ]
     },
     "execution_count": 9,
     "metadata": {},
     "output_type": "execute_result"
    }
   ],
   "source": [
    "df.toPandas() "
   ]
  },
  {
   "cell_type": "markdown",
   "id": "d495b0f2",
   "metadata": {},
   "source": [
    "### Вывод"
   ]
  },
  {
   "cell_type": "markdown",
   "id": "d989e57a",
   "metadata": {},
   "source": [
    "В рамках данного раздела импортировали библиотеки, запустили spark сессию, прочитали фаил и провели первичное знакомство с данными."
   ]
  },
  {
   "cell_type": "markdown",
   "id": "7e9996af",
   "metadata": {},
   "source": [
    "В колонках датасета содержатся следующие данные:\n",
    "\n",
    "- longitude — широта;\n",
    "- latitude — долгота;\n",
    "- housing_median_age — медианный возраст жителей жилого массива;\n",
    "- total_rooms — общее количество комнат в домах жилого массива;\n",
    "- total_bedrooms — общее количество спален в домах жилого массива;\n",
    "- population — количество человек, которые проживают в жилом массиве;\n",
    "- households — количество домовладений в жилом массиве;\n",
    "- median_income — медианный доход жителей жилого массива;\n",
    "- median_house_value — медианная стоимость дома в жилом массиве;\n",
    "- ocean_proximity — близость к океану."
   ]
  },
  {
   "cell_type": "markdown",
   "id": "53871372",
   "metadata": {
    "id": "53871372"
   },
   "source": [
    "## Подготовка данных"
   ]
  },
  {
   "cell_type": "code",
   "execution_count": 10,
   "id": "15bb68bf",
   "metadata": {},
   "outputs": [
    {
     "data": {
      "text/plain": [
       "longitude               0\n",
       "latitude                0\n",
       "housing_median_age      0\n",
       "total_rooms             0\n",
       "total_bedrooms        207\n",
       "population              0\n",
       "households              0\n",
       "median_income           0\n",
       "median_house_value      0\n",
       "ocean_proximity         0\n",
       "dtype: int64"
      ]
     },
     "execution_count": 10,
     "metadata": {},
     "output_type": "execute_result"
    }
   ],
   "source": [
    "df.toPandas().isna().sum() "
   ]
  },
  {
   "cell_type": "markdown",
   "id": "e366aa04",
   "metadata": {
    "id": "df92e3ec"
   },
   "source": [
    "### Заполнение пропусков"
   ]
  },
  {
   "cell_type": "code",
   "execution_count": 13,
   "id": "075bac9e",
   "metadata": {},
   "outputs": [],
   "source": [
    "avg_bedrooms = df.select(F.mean('total_bedrooms')).collect()[0][0]\n",
    "df = df.fillna(avg_bedrooms)"
   ]
  },
  {
   "cell_type": "code",
   "execution_count": 15,
   "id": "802c1053",
   "metadata": {},
   "outputs": [
    {
     "name": "stdout",
     "output_type": "stream",
     "text": [
      "root\n",
      " |-- longitude: double (nullable = false)\n",
      " |-- latitude: double (nullable = false)\n",
      " |-- housing_median_age: double (nullable = false)\n",
      " |-- total_rooms: double (nullable = false)\n",
      " |-- total_bedrooms: double (nullable = false)\n",
      " |-- population: double (nullable = false)\n",
      " |-- households: double (nullable = false)\n",
      " |-- median_income: double (nullable = false)\n",
      " |-- median_house_value: double (nullable = false)\n",
      " |-- ocean_proximity: string (nullable = true)\n",
      "\n"
     ]
    }
   ],
   "source": [
    "df.printSchema()"
   ]
  },
  {
   "cell_type": "code",
   "execution_count": 16,
   "id": "dcf4ade4",
   "metadata": {},
   "outputs": [
    {
     "data": {
      "text/plain": [
       "longitude             0\n",
       "latitude              0\n",
       "housing_median_age    0\n",
       "total_rooms           0\n",
       "total_bedrooms        0\n",
       "population            0\n",
       "households            0\n",
       "median_income         0\n",
       "median_house_value    0\n",
       "ocean_proximity       0\n",
       "dtype: int64"
      ]
     },
     "execution_count": 16,
     "metadata": {},
     "output_type": "execute_result"
    }
   ],
   "source": [
    "df.toPandas().isna().sum() "
   ]
  },
  {
   "cell_type": "markdown",
   "id": "7b3023e2",
   "metadata": {},
   "source": [
    "### Преобразование категорильной калонки"
   ]
  },
  {
   "cell_type": "markdown",
   "id": "e933330d",
   "metadata": {},
   "source": [
    "Преобразуем единственную категорильную калонку \"ocean_proximity\" методом One hot encoding"
   ]
  },
  {
   "cell_type": "code",
   "execution_count": 17,
   "id": "7cad60b2",
   "metadata": {},
   "outputs": [],
   "source": [
    "categorical_cols = ['ocean_proximity']"
   ]
  },
  {
   "cell_type": "code",
   "execution_count": 18,
   "id": "9d030e57",
   "metadata": {},
   "outputs": [
    {
     "name": "stderr",
     "output_type": "stream",
     "text": [
      "                                                                                \r"
     ]
    },
    {
     "name": "stdout",
     "output_type": "stream",
     "text": [
      "+---------------+-------------------+\n",
      "|ocean_proximity|ocean_proximity_idx|\n",
      "+---------------+-------------------+\n",
      "|       NEAR BAY|                3.0|\n",
      "|       NEAR BAY|                3.0|\n",
      "|       NEAR BAY|                3.0|\n",
      "+---------------+-------------------+\n",
      "only showing top 3 rows\n",
      "\n"
     ]
    }
   ],
   "source": [
    "indexer = StringIndexer(inputCols=categorical_cols, \n",
    "                        outputCols=[c+'_idx' for c in categorical_cols]) \n",
    "df = indexer.fit(df).transform(df)\n",
    "\n",
    "cols = [c for c in df.columns for i in categorical_cols if (c.startswith(i))]\n",
    "df.select(cols).show(3)"
   ]
  },
  {
   "cell_type": "code",
   "execution_count": 19,
   "id": "7cee007c",
   "metadata": {},
   "outputs": [
    {
     "name": "stdout",
     "output_type": "stream",
     "text": [
      "+---------------+-------------------+-------------------+\n",
      "|ocean_proximity|ocean_proximity_idx|ocean_proximity_ohe|\n",
      "+---------------+-------------------+-------------------+\n",
      "|       NEAR BAY|                3.0|      (4,[3],[1.0])|\n",
      "|       NEAR BAY|                3.0|      (4,[3],[1.0])|\n",
      "|       NEAR BAY|                3.0|      (4,[3],[1.0])|\n",
      "+---------------+-------------------+-------------------+\n",
      "only showing top 3 rows\n",
      "\n"
     ]
    }
   ],
   "source": [
    "encoder = OneHotEncoder(inputCols=[c+'_idx' for c in categorical_cols],\n",
    "                        outputCols=[c+'_ohe' for c in categorical_cols])\n",
    "df = encoder.fit(df).transform(df)\n",
    "\n",
    "cols = [c for c in df.columns for i in categorical_cols if (c.startswith(i))]\n",
    "df.select(cols).show(3)"
   ]
  },
  {
   "cell_type": "code",
   "execution_count": 20,
   "id": "b2de68c1",
   "metadata": {},
   "outputs": [],
   "source": [
    "categorical_assembler = \\\n",
    "        VectorAssembler(inputCols=[c+'_ohe' for c in categorical_cols],\n",
    "                                        outputCol=\"categorical_features\")\n",
    "df = categorical_assembler.transform(df)"
   ]
  },
  {
   "cell_type": "markdown",
   "id": "2582b22e",
   "metadata": {},
   "source": [
    "### Преобразование числовых колонок"
   ]
  },
  {
   "cell_type": "code",
   "execution_count": 21,
   "id": "58a51d01",
   "metadata": {},
   "outputs": [],
   "source": [
    "numerical_cols  = [\"longitude\", \"latitude\", \"housing_median_age\", \"total_rooms\", \"total_bedrooms\", \"population\", \"households\", \"median_income\"]"
   ]
  },
  {
   "cell_type": "code",
   "execution_count": 22,
   "id": "f6b93051",
   "metadata": {},
   "outputs": [],
   "source": [
    "numerical_assembler = VectorAssembler(inputCols=numerical_cols, outputCol=\"numerical_features\")\n",
    "df = numerical_assembler.transform(df)"
   ]
  },
  {
   "cell_type": "code",
   "execution_count": 23,
   "id": "8fe3f5fc",
   "metadata": {},
   "outputs": [
    {
     "name": "stderr",
     "output_type": "stream",
     "text": [
      "                                                                                \r"
     ]
    }
   ],
   "source": [
    "standardScaler = StandardScaler(inputCol='numerical_features', outputCol=\"numerical_features_scaled\")\n",
    "df = standardScaler.fit(df).transform(df)"
   ]
  },
  {
   "cell_type": "markdown",
   "id": "b1751bf0",
   "metadata": {},
   "source": [
    "Посмотрим все получившиеся колонки."
   ]
  },
  {
   "cell_type": "code",
   "execution_count": 24,
   "id": "d61fd438",
   "metadata": {},
   "outputs": [
    {
     "name": "stdout",
     "output_type": "stream",
     "text": [
      "['longitude', 'latitude', 'housing_median_age', 'total_rooms', 'total_bedrooms', 'population', 'households', 'median_income', 'median_house_value', 'ocean_proximity', 'ocean_proximity_idx', 'ocean_proximity_ohe', 'categorical_features', 'numerical_features', 'numerical_features_scaled']\n"
     ]
    }
   ],
   "source": [
    "print(df.columns)"
   ]
  },
  {
   "cell_type": "markdown",
   "id": "5dde0bb5",
   "metadata": {},
   "source": [
    "### Разделение на \"все признаки\" и \"только численные\""
   ]
  },
  {
   "cell_type": "code",
   "execution_count": 25,
   "id": "07e3eab5",
   "metadata": {},
   "outputs": [
    {
     "name": "stdout",
     "output_type": "stream",
     "text": [
      "+--------------------+-------------------------+\n",
      "|categorical_features|numerical_features_scaled|\n",
      "+--------------------+-------------------------+\n",
      "|       (4,[3],[1.0])|     [-61.007269596069...|\n",
      "|       (4,[3],[1.0])|     [-61.002278409814...|\n",
      "|       (4,[3],[1.0])|     [-61.012260782324...|\n",
      "+--------------------+-------------------------+\n",
      "only showing top 3 rows\n",
      "\n"
     ]
    }
   ],
   "source": [
    "all_features = ['categorical_features','numerical_features_scaled']\n",
    "\n",
    "final_assembler = VectorAssembler(inputCols=all_features, outputCol=\"features\") \n",
    "df = final_assembler.transform(df)\n",
    "\n",
    "df.select(all_features).show(3) "
   ]
  },
  {
   "cell_type": "markdown",
   "id": "802d3a32",
   "metadata": {},
   "source": [
    "### Вывод\n"
   ]
  },
  {
   "cell_type": "markdown",
   "id": "e472e304",
   "metadata": {},
   "source": [
    "Заполнили пропуски и преобразовали категорильные колонки в числовые, кроме того разделили признаки на \"все\" и \"только числвые\" для дальнейших расчетов. "
   ]
  },
  {
   "cell_type": "markdown",
   "id": "9f0a82f3",
   "metadata": {
    "id": "9f0a82f3"
   },
   "source": [
    "## Обучение моделей"
   ]
  },
  {
   "cell_type": "markdown",
   "id": "1f0e2031",
   "metadata": {},
   "source": [
    "### Разделение на выборки"
   ]
  },
  {
   "cell_type": "markdown",
   "id": "5b5393e6",
   "metadata": {},
   "source": [
    "#### Для всех признаков"
   ]
  },
  {
   "cell_type": "code",
   "execution_count": 26,
   "id": "8eb98de5",
   "metadata": {},
   "outputs": [
    {
     "name": "stderr",
     "output_type": "stream",
     "text": [
      "                                                                                \r"
     ]
    },
    {
     "name": "stdout",
     "output_type": "stream",
     "text": [
      "12336 8304\n"
     ]
    },
    {
     "name": "stderr",
     "output_type": "stream",
     "text": [
      "                                                                                \r"
     ]
    },
    {
     "name": "stdout",
     "output_type": "stream",
     "text": [
      "4179 4125\n"
     ]
    }
   ],
   "source": [
    "train_data, test_data = df.randomSplit([.6,.4], seed=RANDOM_SEED)\n",
    "print(train_data.count(), test_data.count())\n",
    "valid_data, test_data = test_data.randomSplit([.5,.5], seed=RANDOM_SEED)\n",
    "print(valid_data.count(), test_data.count())\n"
   ]
  },
  {
   "cell_type": "markdown",
   "id": "1b5a473a",
   "metadata": {},
   "source": [
    "### Обучение модели для всех признаков и получение предсказаний"
   ]
  },
  {
   "cell_type": "code",
   "execution_count": 27,
   "id": "122b2f6c",
   "metadata": {},
   "outputs": [],
   "source": [
    "target = \"median_house_value\""
   ]
  },
  {
   "cell_type": "code",
   "execution_count": 28,
   "id": "bddb08c4",
   "metadata": {
    "id": "bddb08c4"
   },
   "outputs": [
    {
     "name": "stderr",
     "output_type": "stream",
     "text": [
      "22/08/05 14:43:39 WARN Instrumentation: [18aaef33] regParam is zero, which might cause numerical instability and overfitting.\n",
      "22/08/05 14:43:39 WARN BLAS: Failed to load implementation from: com.github.fommil.netlib.NativeSystemBLAS\n",
      "22/08/05 14:43:39 WARN BLAS: Failed to load implementation from: com.github.fommil.netlib.NativeRefBLAS\n",
      "22/08/05 14:43:39 WARN LAPACK: Failed to load implementation from: com.github.fommil.netlib.NativeSystemLAPACK\n",
      "22/08/05 14:43:39 WARN LAPACK: Failed to load implementation from: com.github.fommil.netlib.NativeRefLAPACK\n",
      "                                                                                \r"
     ]
    }
   ],
   "source": [
    "lr_all = LinearRegression(labelCol=target, featuresCol='features')\n",
    "lr_all = lr_all.fit(train_data)"
   ]
  },
  {
   "cell_type": "code",
   "execution_count": 29,
   "id": "1cc5a5cd",
   "metadata": {},
   "outputs": [
    {
     "name": "stdout",
     "output_type": "stream",
     "text": [
      "+------------------+------------------+\n",
      "|median_house_value|        prediction|\n",
      "+------------------+------------------+\n",
      "|           58100.0|142723.99962627888|\n",
      "|           66900.0|121476.27087807655|\n",
      "|           72200.0| 164083.9573687613|\n",
      "|           67000.0|154777.36265781522|\n",
      "|           60000.0| 141867.8965705037|\n",
      "|          105900.0|136181.90761566162|\n",
      "|          109400.0|172157.41575792432|\n",
      "|           85400.0|190969.63880082965|\n",
      "|          104200.0|200277.44609490037|\n",
      "|           75100.0| 162250.0834891498|\n",
      "|          128100.0|222080.56191834807|\n",
      "|           72600.0|163387.86765423417|\n",
      "|           94800.0|229814.06801205873|\n",
      "|           86900.0| 153482.1420776546|\n",
      "|           92800.0|  208770.843100518|\n",
      "|           90200.0|  154838.494589746|\n",
      "|           55000.0|214280.03166013956|\n",
      "|           97900.0|137420.30935016274|\n",
      "|           82100.0| 160589.9170615673|\n",
      "|           74100.0|136744.73066720366|\n",
      "+------------------+------------------+\n",
      "only showing top 20 rows\n",
      "\n"
     ]
    },
    {
     "name": "stderr",
     "output_type": "stream",
     "text": [
      "                                                                                \r"
     ]
    }
   ],
   "source": [
    "predictions_all = lr_all.transform(valid_data)\n",
    "\n",
    "predictedLabes = predictions_all.select(\"median_house_value\", \"prediction\")\n",
    "predictedLabes.show()"
   ]
  },
  {
   "cell_type": "markdown",
   "id": "2f4e26d8",
   "metadata": {},
   "source": [
    "### Обучение модели для численных признаков и получение предсказаний"
   ]
  },
  {
   "cell_type": "code",
   "execution_count": 30,
   "id": "3974f252",
   "metadata": {},
   "outputs": [
    {
     "name": "stderr",
     "output_type": "stream",
     "text": [
      "22/08/05 14:43:43 WARN Instrumentation: [f89d0458] regParam is zero, which might cause numerical instability and overfitting.\n",
      "                                                                                \r"
     ]
    },
    {
     "name": "stdout",
     "output_type": "stream",
     "text": [
      "+------------------+------------------+\n",
      "|median_house_value|        prediction|\n",
      "+------------------+------------------+\n",
      "|           58100.0|109120.29268488381|\n",
      "|           66900.0|  69174.9659396438|\n",
      "|           72200.0|129475.19255082961|\n",
      "|           67000.0|120384.96173414215|\n",
      "|           60000.0|108808.63557971409|\n",
      "|          105900.0| 83167.03531967942|\n",
      "|          109400.0|118631.36746329069|\n",
      "|           85400.0|157278.98781010322|\n",
      "|          104200.0|166026.52563168434|\n",
      "|           75100.0|135866.01440439466|\n",
      "|          128100.0|190763.57758687576|\n",
      "|           72600.0|128029.67120921286|\n",
      "|           94800.0|209622.86844796827|\n",
      "|           86900.0| 117767.4650675077|\n",
      "|           92800.0|173870.55173100485|\n",
      "|           90200.0|115230.45061197039|\n",
      "|           55000.0|191735.34472666914|\n",
      "|           97900.0|  96353.1072069509|\n",
      "|           82100.0|122449.57607704261|\n",
      "|           74100.0| 98906.71486711456|\n",
      "+------------------+------------------+\n",
      "only showing top 20 rows\n",
      "\n"
     ]
    }
   ],
   "source": [
    "lr_num = LinearRegression(labelCol=target, featuresCol='numerical_features_scaled')\n",
    "lr_num = lr_num.fit(train_data)\n",
    "predictions_num = lr_num.transform(valid_data)\n",
    "\n",
    "predictedLabes_num = predictions_num.select(\"median_house_value\", \"prediction\")\n",
    "predictedLabes_num.show()"
   ]
  },
  {
   "cell_type": "markdown",
   "id": "c3c54ca4",
   "metadata": {},
   "source": [
    "### Вывод"
   ]
  },
  {
   "cell_type": "markdown",
   "id": "08ba1dbb",
   "metadata": {},
   "source": [
    "Обучили две модели линейной регрессии"
   ]
  },
  {
   "cell_type": "markdown",
   "id": "757fd103",
   "metadata": {
    "id": "757fd103"
   },
   "source": [
    "## Анализ результатов"
   ]
  },
  {
   "cell_type": "markdown",
   "id": "068adb47",
   "metadata": {},
   "source": [
    "### Расчет RMSE, R2 и MAE."
   ]
  },
  {
   "cell_type": "markdown",
   "id": "46b2bcfc",
   "metadata": {},
   "source": [
    "Модель для всех признаков."
   ]
  },
  {
   "cell_type": "code",
   "execution_count": 31,
   "id": "14197f18",
   "metadata": {
    "scrolled": true
   },
   "outputs": [
    {
     "name": "stdout",
     "output_type": "stream",
     "text": [
      "RMSE: 69188.942637\n",
      "r2: 0.640472\n",
      "MAE: 49902.578610\n"
     ]
    }
   ],
   "source": [
    "trainingSummary = lr_all.summary\n",
    "print(\"RMSE: %f\" % trainingSummary.rootMeanSquaredError)\n",
    "print(\"r2: %f\" % trainingSummary.r2)\n",
    "print(\"MAE: %f\" % trainingSummary.meanAbsoluteError)"
   ]
  },
  {
   "cell_type": "markdown",
   "id": "eb35f989",
   "metadata": {},
   "source": [
    "Модель для всех числовых признаков."
   ]
  },
  {
   "cell_type": "code",
   "execution_count": 32,
   "id": "78ca6be5",
   "metadata": {},
   "outputs": [
    {
     "name": "stdout",
     "output_type": "stream",
     "text": [
      "RMSE: 70146.730697\n",
      "r2: 0.630449\n",
      "MAE: 51055.167802\n"
     ]
    }
   ],
   "source": [
    "trainingSummary = lr_num.summary\n",
    "print(\"RMSE: %f\" % trainingSummary.rootMeanSquaredError)\n",
    "print(\"r2: %f\" % trainingSummary.r2)\n",
    "print(\"MAE: %f\" % trainingSummary.meanAbsoluteError)"
   ]
  },
  {
   "cell_type": "markdown",
   "id": "ab6e7b9d",
   "metadata": {},
   "source": [
    "### Вывод"
   ]
  },
  {
   "cell_type": "markdown",
   "id": "c638b30e",
   "metadata": {},
   "source": [
    "Рассчитали RMSE,R2 и МАЕ для моделей обученых на \"всех\" признаках и на моделях обученых только на числовых признаках. Как мы видим показатели идентичные, но модель для всех признаков показала результат чуть лучше."
   ]
  },
  {
   "cell_type": "markdown",
   "id": "d064b07a",
   "metadata": {},
   "source": [
    "## Тестирование моделей"
   ]
  },
  {
   "cell_type": "markdown",
   "id": "80986e2b",
   "metadata": {},
   "source": [
    "### Модель для всех признаков"
   ]
  },
  {
   "cell_type": "code",
   "execution_count": 33,
   "id": "04c1a3b8",
   "metadata": {},
   "outputs": [
    {
     "name": "stderr",
     "output_type": "stream",
     "text": [
      "22/08/05 14:43:46 WARN Instrumentation: [d723b0d7] regParam is zero, which might cause numerical instability and overfitting.\n"
     ]
    },
    {
     "name": "stdout",
     "output_type": "stream",
     "text": [
      "+------------------+------------------+\n",
      "|median_house_value|        prediction|\n",
      "+------------------+------------------+\n",
      "|           85800.0|117359.57445809245|\n",
      "|          103600.0| 153757.9799311757|\n",
      "|          106700.0|217409.22498613596|\n",
      "|           50800.0| 214777.3330861032|\n",
      "|           68400.0|133638.21631896496|\n",
      "|           69000.0|178217.14557304978|\n",
      "|           70500.0| 145056.2179094851|\n",
      "|           81300.0|153020.32594528794|\n",
      "|           70500.0|164014.49734935164|\n",
      "|           62500.0|165826.48828193545|\n",
      "|           76900.0|162894.61694589257|\n",
      "|           74100.0| 149831.1982563436|\n",
      "|           74700.0| 166799.0329067707|\n",
      "|           69500.0| 114976.4316585958|\n",
      "|           79600.0|161462.03105822206|\n",
      "|           90000.0| 209460.9872572422|\n",
      "|           74100.0|156522.28617674112|\n",
      "|           67500.0| 147836.4513669014|\n",
      "|          103100.0| 52238.53210002184|\n",
      "|           92500.0|167574.46961587667|\n",
      "+------------------+------------------+\n",
      "only showing top 20 rows\n",
      "\n"
     ]
    },
    {
     "name": "stderr",
     "output_type": "stream",
     "text": [
      "                                                                                \r"
     ]
    }
   ],
   "source": [
    "lr_all = LinearRegression(labelCol=target, featuresCol='features')\n",
    "lr_all = lr_all.fit(train_data)\n",
    "predictions_all = lr_all.transform(test_data)\n",
    "\n",
    "predictedLabes_all = predictions_all.select(\"median_house_value\", \"prediction\")\n",
    "predictedLabes_all.show()"
   ]
  },
  {
   "cell_type": "code",
   "execution_count": 34,
   "id": "2ad7ec76",
   "metadata": {},
   "outputs": [
    {
     "name": "stdout",
     "output_type": "stream",
     "text": [
      "RMSE: 69188.942637\n",
      "r2: 0.640472\n",
      "MAE: 49902.578610\n"
     ]
    }
   ],
   "source": [
    "trainingSummary = lr_all.summary\n",
    "print(\"RMSE: %f\" % trainingSummary.rootMeanSquaredError)\n",
    "print(\"r2: %f\" % trainingSummary.r2)\n",
    "print(\"MAE: %f\" % trainingSummary.meanAbsoluteError)"
   ]
  },
  {
   "cell_type": "markdown",
   "id": "9fffd658",
   "metadata": {},
   "source": [
    "### Модель для численных признаков"
   ]
  },
  {
   "cell_type": "code",
   "execution_count": 35,
   "id": "25295093",
   "metadata": {},
   "outputs": [
    {
     "name": "stderr",
     "output_type": "stream",
     "text": [
      "22/08/04 15:29:56 WARN Instrumentation: [afe1d3d6] regParam is zero, which might cause numerical instability and overfitting.\n"
     ]
    },
    {
     "name": "stdout",
     "output_type": "stream",
     "text": [
      "+------------------+------------------+\n",
      "|median_house_value|        prediction|\n",
      "+------------------+------------------+\n",
      "|           85800.0|65315.973193401005|\n",
      "|          103600.0|101694.52138374606|\n",
      "|          106700.0|189510.28086764552|\n",
      "|           50800.0|182870.42707846267|\n",
      "|           68400.0| 81242.01378327422|\n",
      "|           69000.0| 144368.9662286099|\n",
      "|           70500.0|109950.83582656318|\n",
      "|           81300.0|117785.30803561024|\n",
      "|           70500.0|129821.69004094554|\n",
      "|           62500.0| 132167.2546706386|\n",
      "|           76900.0|129047.64332940197|\n",
      "|           74100.0|116672.57423091121|\n",
      "|           74700.0|133053.90313441912|\n",
      "|           69500.0| 61562.48707794584|\n",
      "|           79600.0|129837.99241570896|\n",
      "|           90000.0|175242.85064450232|\n",
      "|           74100.0| 122014.7358749723|\n",
      "|           67500.0| 112853.5739462534|\n",
      "|          103100.0|-3596.581487144809|\n",
      "|           92500.0| 140491.7545566922|\n",
      "+------------------+------------------+\n",
      "only showing top 20 rows\n",
      "\n"
     ]
    }
   ],
   "source": [
    "lr_num = LinearRegression(labelCol=target, featuresCol='numerical_features_scaled')\n",
    "lr_num = lr_num.fit(train_data)\n",
    "predictions_num = lr_num.transform(test_data)\n",
    "\n",
    "predictedLabes_num = predictions_num.select(\"median_house_value\", \"prediction\")\n",
    "predictedLabes_num.show()"
   ]
  },
  {
   "cell_type": "code",
   "execution_count": 36,
   "id": "7d6cc35e",
   "metadata": {},
   "outputs": [
    {
     "name": "stdout",
     "output_type": "stream",
     "text": [
      "RMSE: 70146.730697\n",
      "r2: 0.630449\n",
      "MAE: 51055.167802\n"
     ]
    }
   ],
   "source": [
    "trainingSummary = lr_num.summary\n",
    "print(\"RMSE: %f\" % trainingSummary.rootMeanSquaredError)\n",
    "print(\"r2: %f\" % trainingSummary.r2)\n",
    "print(\"MAE: %f\" % trainingSummary.meanAbsoluteError)"
   ]
  },
  {
   "cell_type": "code",
   "execution_count": 46,
   "id": "a2b4a07a",
   "metadata": {},
   "outputs": [
    {
     "name": "stdout",
     "output_type": "stream",
     "text": [
      "RMSE: 69412.101679\n",
      "r2: 0.642115\n",
      "MAE: 50761.367072\n"
     ]
    }
   ],
   "source": [
    "testSummary = lr_num.evaluate(test_data)\n",
    "print(\"RMSE: %f\" % testSummary.rootMeanSquaredError)\n",
    "print(\"r2: %f\" % testSummary.r2)\n",
    "print(\"MAE: %f\" % testSummary.meanAbsoluteError)"
   ]
  },
  {
   "cell_type": "markdown",
   "id": "8c04cd26",
   "metadata": {},
   "source": [
    "### Вывод"
   ]
  },
  {
   "cell_type": "markdown",
   "id": "e8abb84e",
   "metadata": {},
   "source": [
    "Провели тестирование на тестовой выборке."
   ]
  },
  {
   "cell_type": "markdown",
   "id": "63b8993f",
   "metadata": {},
   "source": [
    "## Общий вывод"
   ]
  },
  {
   "cell_type": "markdown",
   "id": "775ba042",
   "metadata": {},
   "source": [
    "В рамках проделанной работы обучили 2 модели: на \"всех\" признаках и только на численных.\n",
    "Модель, обученая для всех признаков показала результат чуть лучше:\n",
    "\n",
    "- RMSE: 69188.94\n",
    "- R2: 0.6404\n",
    "- MAE: 49902.57."
   ]
  }
 ],
 "metadata": {
  "ExecuteTimeLog": [
   {
    "duration": 434,
    "start_time": "2022-07-30T15:47:10.961Z"
   },
   {
    "duration": 2,
    "start_time": "2022-07-30T15:47:22.918Z"
   },
   {
    "duration": 3,
    "start_time": "2022-07-30T15:47:58.765Z"
   },
   {
    "duration": 59,
    "start_time": "2022-07-30T16:00:39.792Z"
   },
   {
    "duration": 150,
    "start_time": "2022-07-30T16:01:06.960Z"
   },
   {
    "duration": 4,
    "start_time": "2022-07-30T16:01:53.154Z"
   },
   {
    "duration": 10,
    "start_time": "2022-07-30T19:48:57.240Z"
   },
   {
    "duration": 406,
    "start_time": "2022-07-30T19:49:05.249Z"
   },
   {
    "duration": 221,
    "start_time": "2022-07-30T19:49:05.657Z"
   },
   {
    "duration": 3,
    "start_time": "2022-07-30T19:49:05.880Z"
   },
   {
    "duration": 10,
    "start_time": "2022-07-30T19:49:05.885Z"
   },
   {
    "duration": 18215,
    "start_time": "2022-07-30T19:49:05.898Z"
   },
   {
    "duration": 5,
    "start_time": "2022-07-30T19:51:11.545Z"
   },
   {
    "duration": 439,
    "start_time": "2022-07-30T19:51:18.306Z"
   },
   {
    "duration": 174,
    "start_time": "2022-07-30T19:51:18.748Z"
   },
   {
    "duration": 3,
    "start_time": "2022-07-30T19:51:18.924Z"
   },
   {
    "duration": 17,
    "start_time": "2022-07-30T19:51:18.929Z"
   },
   {
    "duration": 16295,
    "start_time": "2022-07-30T19:51:18.949Z"
   },
   {
    "duration": 11057,
    "start_time": "2022-07-30T20:13:35.480Z"
   },
   {
    "duration": 86,
    "start_time": "2022-07-30T20:14:01.954Z"
   },
   {
    "duration": 4,
    "start_time": "2022-07-30T20:14:23.132Z"
   },
   {
    "duration": 1020,
    "start_time": "2022-07-30T20:14:47.591Z"
   },
   {
    "duration": 6,
    "start_time": "2022-07-30T20:14:51.082Z"
   },
   {
    "duration": 585,
    "start_time": "2022-07-30T20:15:06.562Z"
   },
   {
    "duration": 7,
    "start_time": "2022-07-30T20:15:09.170Z"
   },
   {
    "duration": 541,
    "start_time": "2022-07-30T20:15:27.897Z"
   },
   {
    "duration": 6,
    "start_time": "2022-07-30T20:15:30.046Z"
   },
   {
    "duration": 6390,
    "start_time": "2022-07-30T20:16:06.379Z"
   },
   {
    "duration": 2482,
    "start_time": "2022-07-30T20:17:01.694Z"
   },
   {
    "duration": 802,
    "start_time": "2022-07-30T20:25:50.856Z"
   },
   {
    "duration": 5,
    "start_time": "2022-07-30T20:26:12.335Z"
   },
   {
    "duration": 382,
    "start_time": "2022-07-31T13:08:06.961Z"
   },
   {
    "duration": 137,
    "start_time": "2022-07-31T13:08:07.345Z"
   },
   {
    "duration": 4,
    "start_time": "2022-07-31T13:08:07.484Z"
   },
   {
    "duration": 11,
    "start_time": "2022-07-31T13:08:07.490Z"
   },
   {
    "duration": 16148,
    "start_time": "2022-07-31T13:08:07.502Z"
   },
   {
    "duration": 10576,
    "start_time": "2022-07-31T13:08:23.653Z"
   },
   {
    "duration": 20,
    "start_time": "2022-07-31T13:08:34.230Z"
   },
   {
    "duration": 2004,
    "start_time": "2022-07-31T13:08:34.252Z"
   },
   {
    "duration": 1109,
    "start_time": "2022-07-31T13:09:00.333Z"
   },
   {
    "duration": 80,
    "start_time": "2022-07-31T13:09:17.893Z"
   },
   {
    "duration": 11,
    "start_time": "2022-07-31T13:09:22.886Z"
   },
   {
    "duration": 3,
    "start_time": "2022-07-31T14:17:29.300Z"
   },
   {
    "duration": 32,
    "start_time": "2022-07-31T14:20:32.781Z"
   },
   {
    "duration": 17,
    "start_time": "2022-07-31T14:21:57.191Z"
   },
   {
    "duration": 67,
    "start_time": "2022-07-31T14:23:40.570Z"
   },
   {
    "duration": 3,
    "start_time": "2022-07-31T14:26:10.334Z"
   },
   {
    "duration": 44,
    "start_time": "2022-07-31T14:26:19.421Z"
   },
   {
    "duration": 73,
    "start_time": "2022-07-31T14:29:08.363Z"
   },
   {
    "duration": 78,
    "start_time": "2022-07-31T14:29:29.150Z"
   },
   {
    "duration": 73,
    "start_time": "2022-07-31T14:29:56.429Z"
   },
   {
    "duration": 138,
    "start_time": "2022-07-31T14:30:12.984Z"
   },
   {
    "duration": 4,
    "start_time": "2022-07-31T14:30:44.428Z"
   },
   {
    "duration": 1319,
    "start_time": "2022-07-31T14:31:43.015Z"
   },
   {
    "duration": 627,
    "start_time": "2022-07-31T14:31:53.856Z"
   },
   {
    "duration": 513,
    "start_time": "2022-07-31T14:32:07.507Z"
   },
   {
    "duration": 378,
    "start_time": "2022-07-31T14:32:35.662Z"
   },
   {
    "duration": 141,
    "start_time": "2022-07-31T14:32:36.042Z"
   },
   {
    "duration": 4,
    "start_time": "2022-07-31T14:32:36.185Z"
   },
   {
    "duration": 22,
    "start_time": "2022-07-31T14:32:36.190Z"
   },
   {
    "duration": 9,
    "start_time": "2022-07-31T14:32:36.214Z"
   },
   {
    "duration": 16086,
    "start_time": "2022-07-31T14:32:36.225Z"
   },
   {
    "duration": 9221,
    "start_time": "2022-07-31T14:32:52.314Z"
   },
   {
    "duration": 83,
    "start_time": "2022-07-31T14:33:01.538Z"
   },
   {
    "duration": 1589,
    "start_time": "2022-07-31T14:33:01.624Z"
   },
   {
    "duration": 1062,
    "start_time": "2022-07-31T14:33:03.215Z"
   },
   {
    "duration": 235,
    "start_time": "2022-07-31T14:33:04.278Z"
   },
   {
    "duration": 5,
    "start_time": "2022-07-31T14:33:04.515Z"
   },
   {
    "duration": 95,
    "start_time": "2022-07-31T14:40:51.643Z"
   },
   {
    "duration": 4,
    "start_time": "2022-07-31T14:40:54.087Z"
   },
   {
    "duration": 19642,
    "start_time": "2022-07-31T14:41:04.090Z"
   },
   {
    "duration": 80,
    "start_time": "2022-07-31T14:41:46.436Z"
   },
   {
    "duration": 4,
    "start_time": "2022-07-31T14:41:48.261Z"
   },
   {
    "duration": 17277,
    "start_time": "2022-07-31T14:41:51.267Z"
   },
   {
    "duration": 96,
    "start_time": "2022-07-31T14:42:36.626Z"
   },
   {
    "duration": 3,
    "start_time": "2022-07-31T14:42:39.637Z"
   },
   {
    "duration": 18021,
    "start_time": "2022-07-31T14:43:06.805Z"
   },
   {
    "duration": 5,
    "start_time": "2022-07-31T14:44:32.668Z"
   },
   {
    "duration": 44,
    "start_time": "2022-07-31T14:44:40.884Z"
   },
   {
    "duration": 18658,
    "start_time": "2022-07-31T14:44:45.281Z"
   },
   {
    "duration": 36,
    "start_time": "2022-07-31T14:45:13.846Z"
   },
   {
    "duration": 34,
    "start_time": "2022-07-31T14:45:17.607Z"
   },
   {
    "duration": 24726,
    "start_time": "2022-07-31T14:45:21.187Z"
   },
   {
    "duration": 78,
    "start_time": "2022-07-31T14:47:32.565Z"
   },
   {
    "duration": 4,
    "start_time": "2022-07-31T14:47:35.734Z"
   },
   {
    "duration": 23070,
    "start_time": "2022-07-31T14:47:38.201Z"
   },
   {
    "duration": 27,
    "start_time": "2022-07-31T14:48:22.844Z"
   },
   {
    "duration": 22586,
    "start_time": "2022-07-31T14:48:27.124Z"
   },
   {
    "duration": 86,
    "start_time": "2022-07-31T14:49:03.143Z"
   },
   {
    "duration": 22719,
    "start_time": "2022-07-31T14:49:28.951Z"
   },
   {
    "duration": 95,
    "start_time": "2022-07-31T14:51:35.268Z"
   },
   {
    "duration": 8,
    "start_time": "2022-07-31T14:51:59.424Z"
   },
   {
    "duration": 8,
    "start_time": "2022-07-31T14:52:12.834Z"
   },
   {
    "duration": 385,
    "start_time": "2022-07-31T17:02:58.227Z"
   },
   {
    "duration": 140,
    "start_time": "2022-07-31T17:02:58.614Z"
   },
   {
    "duration": 3,
    "start_time": "2022-07-31T17:02:58.755Z"
   },
   {
    "duration": 4,
    "start_time": "2022-07-31T17:02:58.760Z"
   },
   {
    "duration": 4,
    "start_time": "2022-07-31T17:02:58.766Z"
   },
   {
    "duration": 14660,
    "start_time": "2022-07-31T17:02:58.771Z"
   },
   {
    "duration": 7616,
    "start_time": "2022-07-31T17:03:13.433Z"
   },
   {
    "duration": 16,
    "start_time": "2022-07-31T17:03:21.051Z"
   },
   {
    "duration": 1434,
    "start_time": "2022-07-31T17:03:21.131Z"
   },
   {
    "duration": 979,
    "start_time": "2022-07-31T17:03:22.567Z"
   },
   {
    "duration": 385,
    "start_time": "2022-07-31T17:03:23.548Z"
   },
   {
    "duration": 5,
    "start_time": "2022-07-31T17:03:23.934Z"
   },
   {
    "duration": 1100,
    "start_time": "2022-07-31T17:03:23.941Z"
   },
   {
    "duration": 3,
    "start_time": "2022-07-31T17:31:49.580Z"
   },
   {
    "duration": 276,
    "start_time": "2022-07-31T18:03:33.599Z"
   },
   {
    "duration": 114,
    "start_time": "2022-07-31T18:04:29.705Z"
   },
   {
    "duration": 2637,
    "start_time": "2022-07-31T18:07:27.649Z"
   },
   {
    "duration": 113,
    "start_time": "2022-07-31T18:07:44.623Z"
   },
   {
    "duration": 119,
    "start_time": "2022-07-31T18:07:59.774Z"
   },
   {
    "duration": 352,
    "start_time": "2022-07-31T18:08:15.192Z"
   },
   {
    "duration": 107,
    "start_time": "2022-07-31T18:08:15.545Z"
   },
   {
    "duration": 4,
    "start_time": "2022-07-31T18:08:15.653Z"
   },
   {
    "duration": 5,
    "start_time": "2022-07-31T18:08:15.658Z"
   },
   {
    "duration": 5,
    "start_time": "2022-07-31T18:08:15.664Z"
   },
   {
    "duration": 14573,
    "start_time": "2022-07-31T18:08:15.670Z"
   },
   {
    "duration": 7908,
    "start_time": "2022-07-31T18:08:30.246Z"
   },
   {
    "duration": 75,
    "start_time": "2022-07-31T18:08:38.156Z"
   },
   {
    "duration": 1100,
    "start_time": "2022-07-31T18:08:38.233Z"
   },
   {
    "duration": 744,
    "start_time": "2022-07-31T18:08:39.334Z"
   },
   {
    "duration": 266,
    "start_time": "2022-07-31T18:08:40.080Z"
   },
   {
    "duration": 3,
    "start_time": "2022-07-31T18:08:40.349Z"
   },
   {
    "duration": 821,
    "start_time": "2022-07-31T18:08:40.354Z"
   },
   {
    "duration": 55,
    "start_time": "2022-07-31T18:08:41.177Z"
   },
   {
    "duration": 2404,
    "start_time": "2022-07-31T18:08:41.234Z"
   },
   {
    "duration": 714,
    "start_time": "2022-07-31T18:08:43.639Z"
   },
   {
    "duration": 62,
    "start_time": "2022-07-31T18:39:12.053Z"
   },
   {
    "duration": 5,
    "start_time": "2022-07-31T18:39:34.379Z"
   },
   {
    "duration": 72,
    "start_time": "2022-07-31T18:47:30.594Z"
   },
   {
    "duration": 4,
    "start_time": "2022-07-31T18:48:00.617Z"
   },
   {
    "duration": 3,
    "start_time": "2022-07-31T19:06:04.795Z"
   },
   {
    "duration": 3,
    "start_time": "2022-07-31T19:06:23.663Z"
   },
   {
    "duration": 2,
    "start_time": "2022-07-31T19:08:25.017Z"
   },
   {
    "duration": 34,
    "start_time": "2022-07-31T19:09:43.114Z"
   },
   {
    "duration": 1540,
    "start_time": "2022-07-31T19:22:04.294Z"
   },
   {
    "duration": 9,
    "start_time": "2022-07-31T19:22:26.485Z"
   },
   {
    "duration": 499,
    "start_time": "2022-07-31T19:25:37.152Z"
   },
   {
    "duration": 8,
    "start_time": "2022-07-31T19:26:22.709Z"
   },
   {
    "duration": 3,
    "start_time": "2022-07-31T19:29:44.269Z"
   },
   {
    "duration": 7,
    "start_time": "2022-07-31T19:30:52.194Z"
   },
   {
    "duration": 12,
    "start_time": "2022-07-31T19:31:31.704Z"
   },
   {
    "duration": 297,
    "start_time": "2022-07-31T19:31:53.639Z"
   },
   {
    "duration": 248,
    "start_time": "2022-07-31T19:32:21.889Z"
   },
   {
    "duration": 3,
    "start_time": "2022-07-31T19:35:08.911Z"
   },
   {
    "duration": 3,
    "start_time": "2022-07-31T19:44:52.241Z"
   },
   {
    "duration": 128,
    "start_time": "2022-07-31T19:44:55.268Z"
   },
   {
    "duration": 3517,
    "start_time": "2022-07-31T19:46:56.536Z"
   },
   {
    "duration": 2379,
    "start_time": "2022-07-31T19:47:59.076Z"
   },
   {
    "duration": 8,
    "start_time": "2022-07-31T19:48:37.622Z"
   },
   {
    "duration": 26,
    "start_time": "2022-07-31T19:48:52.822Z"
   },
   {
    "duration": 8,
    "start_time": "2022-07-31T19:49:05.816Z"
   },
   {
    "duration": 120,
    "start_time": "2022-07-31T19:50:15.581Z"
   },
   {
    "duration": 4363,
    "start_time": "2022-07-31T19:50:31.293Z"
   },
   {
    "duration": 2879,
    "start_time": "2022-07-31T19:53:07.157Z"
   },
   {
    "duration": 220,
    "start_time": "2022-07-31T19:54:31.553Z"
   },
   {
    "duration": 23,
    "start_time": "2022-07-31T19:55:49.097Z"
   },
   {
    "duration": 978,
    "start_time": "2022-07-31T19:55:59.878Z"
   },
   {
    "duration": 702,
    "start_time": "2022-07-31T19:57:36.202Z"
   },
   {
    "duration": 834,
    "start_time": "2022-07-31T20:02:32.197Z"
   },
   {
    "duration": 392,
    "start_time": "2022-07-31T20:03:02.610Z"
   },
   {
    "duration": 129,
    "start_time": "2022-07-31T20:03:03.005Z"
   },
   {
    "duration": 4,
    "start_time": "2022-07-31T20:03:03.135Z"
   },
   {
    "duration": 6,
    "start_time": "2022-07-31T20:03:03.141Z"
   },
   {
    "duration": 6,
    "start_time": "2022-07-31T20:03:03.148Z"
   },
   {
    "duration": 14888,
    "start_time": "2022-07-31T20:03:03.155Z"
   },
   {
    "duration": 7545,
    "start_time": "2022-07-31T20:03:18.044Z"
   },
   {
    "duration": 14,
    "start_time": "2022-07-31T20:03:25.632Z"
   },
   {
    "duration": 1393,
    "start_time": "2022-07-31T20:03:25.648Z"
   },
   {
    "duration": 1008,
    "start_time": "2022-07-31T20:03:27.044Z"
   },
   {
    "duration": 301,
    "start_time": "2022-07-31T20:03:28.054Z"
   },
   {
    "duration": 4,
    "start_time": "2022-07-31T20:03:28.357Z"
   },
   {
    "duration": 880,
    "start_time": "2022-07-31T20:03:28.363Z"
   },
   {
    "duration": 3,
    "start_time": "2022-07-31T20:03:29.245Z"
   },
   {
    "duration": 2484,
    "start_time": "2022-07-31T20:03:29.249Z"
   },
   {
    "duration": 701,
    "start_time": "2022-07-31T20:03:31.735Z"
   },
   {
    "duration": 105,
    "start_time": "2022-07-31T20:03:32.438Z"
   },
   {
    "duration": 3,
    "start_time": "2022-07-31T20:03:32.544Z"
   },
   {
    "duration": 115,
    "start_time": "2022-07-31T20:03:32.548Z"
   },
   {
    "duration": 1710,
    "start_time": "2022-07-31T20:03:32.732Z"
   },
   {
    "duration": 5,
    "start_time": "2022-07-31T20:03:34.444Z"
   },
   {
    "duration": 633,
    "start_time": "2022-07-31T20:03:34.451Z"
   },
   {
    "duration": 446,
    "start_time": "2022-07-31T20:03:35.086Z"
   },
   {
    "duration": 3402,
    "start_time": "2022-07-31T20:03:35.533Z"
   },
   {
    "duration": 2327,
    "start_time": "2022-07-31T20:03:38.936Z"
   },
   {
    "duration": 6,
    "start_time": "2022-07-31T20:03:41.331Z"
   },
   {
    "duration": 4715,
    "start_time": "2022-07-31T20:03:41.338Z"
   },
   {
    "duration": 1112,
    "start_time": "2022-07-31T20:03:46.055Z"
   },
   {
    "duration": 3567,
    "start_time": "2022-07-31T20:03:47.169Z"
   },
   {
    "duration": 885,
    "start_time": "2022-07-31T20:03:50.737Z"
   },
   {
    "duration": 357,
    "start_time": "2022-08-01T18:42:13.136Z"
   },
   {
    "duration": 227,
    "start_time": "2022-08-01T18:42:13.494Z"
   },
   {
    "duration": 3,
    "start_time": "2022-08-01T18:42:13.723Z"
   },
   {
    "duration": 4,
    "start_time": "2022-08-01T18:42:13.728Z"
   },
   {
    "duration": 4,
    "start_time": "2022-08-01T18:42:13.734Z"
   },
   {
    "duration": 18181,
    "start_time": "2022-08-01T18:42:13.739Z"
   },
   {
    "duration": 8594,
    "start_time": "2022-08-01T18:42:31.922Z"
   },
   {
    "duration": 16,
    "start_time": "2022-08-01T18:42:40.518Z"
   },
   {
    "duration": 1209,
    "start_time": "2022-08-01T18:42:40.535Z"
   },
   {
    "duration": 772,
    "start_time": "2022-08-01T18:42:41.745Z"
   },
   {
    "duration": 590,
    "start_time": "2022-08-01T18:42:42.518Z"
   },
   {
    "duration": 4,
    "start_time": "2022-08-01T18:42:43.110Z"
   },
   {
    "duration": 1002,
    "start_time": "2022-08-01T18:42:43.116Z"
   },
   {
    "duration": 3,
    "start_time": "2022-08-01T18:42:44.120Z"
   },
   {
    "duration": 2777,
    "start_time": "2022-08-01T18:42:44.125Z"
   },
   {
    "duration": 713,
    "start_time": "2022-08-01T18:42:46.904Z"
   },
   {
    "duration": 208,
    "start_time": "2022-08-01T18:42:47.619Z"
   },
   {
    "duration": 4,
    "start_time": "2022-08-01T18:42:47.829Z"
   },
   {
    "duration": 166,
    "start_time": "2022-08-01T18:42:47.835Z"
   },
   {
    "duration": 1610,
    "start_time": "2022-08-01T18:42:48.006Z"
   },
   {
    "duration": 5,
    "start_time": "2022-08-01T18:42:49.618Z"
   },
   {
    "duration": 678,
    "start_time": "2022-08-01T18:42:49.625Z"
   },
   {
    "duration": 428,
    "start_time": "2022-08-01T18:42:50.305Z"
   },
   {
    "duration": 3474,
    "start_time": "2022-08-01T18:42:50.734Z"
   },
   {
    "duration": 2090,
    "start_time": "2022-08-01T18:42:54.210Z"
   },
   {
    "duration": 3,
    "start_time": "2022-08-01T18:42:56.302Z"
   },
   {
    "duration": 4665,
    "start_time": "2022-08-01T18:42:56.307Z"
   },
   {
    "duration": 1041,
    "start_time": "2022-08-01T18:43:00.974Z"
   },
   {
    "duration": 3588,
    "start_time": "2022-08-01T18:43:02.016Z"
   },
   {
    "duration": 997,
    "start_time": "2022-08-01T18:43:05.605Z"
   },
   {
    "duration": 56,
    "start_time": "2022-08-01T18:57:41.275Z"
   },
   {
    "duration": 48,
    "start_time": "2022-08-01T18:57:48.253Z"
   },
   {
    "duration": 9,
    "start_time": "2022-08-01T18:58:32.012Z"
   },
   {
    "duration": 69,
    "start_time": "2022-08-01T19:00:18.361Z"
   },
   {
    "duration": 7,
    "start_time": "2022-08-01T19:00:41.346Z"
   },
   {
    "duration": 7,
    "start_time": "2022-08-01T19:03:12.208Z"
   },
   {
    "duration": 265,
    "start_time": "2022-08-01T19:06:25.698Z"
   },
   {
    "duration": 8,
    "start_time": "2022-08-01T19:06:56.095Z"
   },
   {
    "duration": 9,
    "start_time": "2022-08-01T19:12:45.761Z"
   },
   {
    "duration": 380,
    "start_time": "2022-08-01T19:16:26.708Z"
   },
   {
    "duration": 111,
    "start_time": "2022-08-01T19:16:27.090Z"
   },
   {
    "duration": 3,
    "start_time": "2022-08-01T19:16:27.203Z"
   },
   {
    "duration": 12,
    "start_time": "2022-08-01T19:16:27.208Z"
   },
   {
    "duration": 11,
    "start_time": "2022-08-01T19:16:27.221Z"
   },
   {
    "duration": 14210,
    "start_time": "2022-08-01T19:16:27.233Z"
   },
   {
    "duration": 7588,
    "start_time": "2022-08-01T19:16:41.446Z"
   },
   {
    "duration": 13,
    "start_time": "2022-08-01T19:16:49.036Z"
   },
   {
    "duration": 1031,
    "start_time": "2022-08-01T19:16:49.101Z"
   },
   {
    "duration": 796,
    "start_time": "2022-08-01T19:16:50.135Z"
   },
   {
    "duration": 584,
    "start_time": "2022-08-01T19:16:50.933Z"
   },
   {
    "duration": 3,
    "start_time": "2022-08-01T19:16:51.519Z"
   },
   {
    "duration": 909,
    "start_time": "2022-08-01T19:16:51.524Z"
   },
   {
    "duration": 2,
    "start_time": "2022-08-01T19:16:52.435Z"
   },
   {
    "duration": 2380,
    "start_time": "2022-08-01T19:16:52.439Z"
   },
   {
    "duration": 699,
    "start_time": "2022-08-01T19:16:54.821Z"
   },
   {
    "duration": 110,
    "start_time": "2022-08-01T19:16:55.522Z"
   },
   {
    "duration": 67,
    "start_time": "2022-08-01T19:16:55.634Z"
   },
   {
    "duration": 34,
    "start_time": "2022-08-01T19:16:55.704Z"
   },
   {
    "duration": 1418,
    "start_time": "2022-08-01T19:16:55.801Z"
   },
   {
    "duration": 5,
    "start_time": "2022-08-01T19:16:57.221Z"
   },
   {
    "duration": 581,
    "start_time": "2022-08-01T19:16:57.227Z"
   },
   {
    "duration": 398,
    "start_time": "2022-08-01T19:16:57.810Z"
   },
   {
    "duration": 3099,
    "start_time": "2022-08-01T19:16:58.210Z"
   },
   {
    "duration": 2298,
    "start_time": "2022-08-01T19:17:01.312Z"
   },
   {
    "duration": 3,
    "start_time": "2022-08-01T19:17:03.612Z"
   },
   {
    "duration": 4211,
    "start_time": "2022-08-01T19:17:03.616Z"
   },
   {
    "duration": 1108,
    "start_time": "2022-08-01T19:17:07.830Z"
   },
   {
    "duration": 3278,
    "start_time": "2022-08-01T19:17:08.940Z"
   },
   {
    "duration": 1003,
    "start_time": "2022-08-01T19:17:12.220Z"
   },
   {
    "duration": 4,
    "start_time": "2022-08-01T19:17:13.225Z"
   },
   {
    "duration": 4,
    "start_time": "2022-08-01T19:24:07.438Z"
   },
   {
    "duration": 4,
    "start_time": "2022-08-01T19:24:52.277Z"
   },
   {
    "duration": 70,
    "start_time": "2022-08-01T19:25:09.827Z"
   },
   {
    "duration": 7,
    "start_time": "2022-08-01T19:25:59.561Z"
   },
   {
    "duration": 5,
    "start_time": "2022-08-01T19:31:41.656Z"
   },
   {
    "duration": 4,
    "start_time": "2022-08-01T19:31:54.229Z"
   },
   {
    "duration": 9,
    "start_time": "2022-08-01T19:33:02.583Z"
   },
   {
    "duration": 9,
    "start_time": "2022-08-01T19:33:20.900Z"
   },
   {
    "duration": 11,
    "start_time": "2022-08-01T19:35:53.945Z"
   },
   {
    "duration": 6,
    "start_time": "2022-08-01T20:33:19.627Z"
   },
   {
    "duration": 438,
    "start_time": "2022-08-02T17:31:27.441Z"
   },
   {
    "duration": 188,
    "start_time": "2022-08-02T17:31:27.881Z"
   },
   {
    "duration": 3,
    "start_time": "2022-08-02T17:31:28.071Z"
   },
   {
    "duration": 22,
    "start_time": "2022-08-02T17:31:28.076Z"
   },
   {
    "duration": 9,
    "start_time": "2022-08-02T17:31:28.100Z"
   },
   {
    "duration": 19059,
    "start_time": "2022-08-02T17:31:28.110Z"
   },
   {
    "duration": 9816,
    "start_time": "2022-08-02T17:31:47.172Z"
   },
   {
    "duration": 22,
    "start_time": "2022-08-02T17:31:56.990Z"
   },
   {
    "duration": 1473,
    "start_time": "2022-08-02T17:31:57.014Z"
   },
   {
    "duration": 859,
    "start_time": "2022-08-02T17:31:58.491Z"
   },
   {
    "duration": 349,
    "start_time": "2022-08-02T17:31:59.352Z"
   },
   {
    "duration": 4,
    "start_time": "2022-08-02T17:31:59.703Z"
   },
   {
    "duration": 1110,
    "start_time": "2022-08-02T17:31:59.709Z"
   },
   {
    "duration": 3,
    "start_time": "2022-08-02T17:32:00.820Z"
   },
   {
    "duration": 3081,
    "start_time": "2022-08-02T17:32:00.825Z"
   },
   {
    "duration": 885,
    "start_time": "2022-08-02T17:32:03.908Z"
   },
   {
    "duration": 104,
    "start_time": "2022-08-02T17:32:04.796Z"
   },
   {
    "duration": 3,
    "start_time": "2022-08-02T17:32:04.903Z"
   },
   {
    "duration": 108,
    "start_time": "2022-08-02T17:32:04.908Z"
   },
   {
    "duration": 1669,
    "start_time": "2022-08-02T17:32:05.018Z"
   },
   {
    "duration": 4,
    "start_time": "2022-08-02T17:32:06.689Z"
   },
   {
    "duration": 612,
    "start_time": "2022-08-02T17:32:06.695Z"
   },
   {
    "duration": 485,
    "start_time": "2022-08-02T17:32:07.309Z"
   },
   {
    "duration": 3504,
    "start_time": "2022-08-02T17:32:07.795Z"
   },
   {
    "duration": 2512,
    "start_time": "2022-08-02T17:32:11.301Z"
   },
   {
    "duration": 73,
    "start_time": "2022-08-02T17:32:13.814Z"
   },
   {
    "duration": 5206,
    "start_time": "2022-08-02T17:32:13.889Z"
   },
   {
    "duration": 999,
    "start_time": "2022-08-02T17:32:19.099Z"
   },
   {
    "duration": 3399,
    "start_time": "2022-08-02T17:32:20.100Z"
   },
   {
    "duration": 910,
    "start_time": "2022-08-02T17:32:23.501Z"
   },
   {
    "duration": 6,
    "start_time": "2022-08-02T17:32:24.412Z"
   },
   {
    "duration": 14,
    "start_time": "2022-08-02T17:32:24.419Z"
   },
   {
    "duration": 64,
    "start_time": "2022-08-02T17:38:45.823Z"
   },
   {
    "duration": 7,
    "start_time": "2022-08-02T17:38:56.126Z"
   },
   {
    "duration": 4,
    "start_time": "2022-08-02T17:47:07.644Z"
   },
   {
    "duration": 3,
    "start_time": "2022-08-02T17:47:35.245Z"
   },
   {
    "duration": 3,
    "start_time": "2022-08-02T17:50:25.866Z"
   },
   {
    "duration": 12,
    "start_time": "2022-08-02T17:50:25.871Z"
   },
   {
    "duration": 27,
    "start_time": "2022-08-02T17:50:25.885Z"
   },
   {
    "duration": 6,
    "start_time": "2022-08-02T17:50:25.914Z"
   },
   {
    "duration": 6,
    "start_time": "2022-08-02T17:50:25.923Z"
   },
   {
    "duration": 15,
    "start_time": "2022-08-02T17:50:25.930Z"
   },
   {
    "duration": 746,
    "start_time": "2022-08-02T17:50:25.946Z"
   },
   {
    "duration": 5,
    "start_time": "2022-08-02T17:50:26.695Z"
   },
   {
    "duration": 456,
    "start_time": "2022-08-02T17:50:26.702Z"
   },
   {
    "duration": 492,
    "start_time": "2022-08-02T17:50:27.159Z"
   },
   {
    "duration": 17,
    "start_time": "2022-08-02T17:50:27.654Z"
   },
   {
    "duration": 5,
    "start_time": "2022-08-02T17:50:27.687Z"
   },
   {
    "duration": 505,
    "start_time": "2022-08-02T17:50:27.693Z"
   },
   {
    "duration": 4,
    "start_time": "2022-08-02T17:50:42.032Z"
   },
   {
    "duration": 10,
    "start_time": "2022-08-02T17:50:42.038Z"
   },
   {
    "duration": 3,
    "start_time": "2022-08-02T17:50:42.065Z"
   },
   {
    "duration": 5,
    "start_time": "2022-08-02T17:50:42.069Z"
   },
   {
    "duration": 3,
    "start_time": "2022-08-02T17:50:42.101Z"
   },
   {
    "duration": 7,
    "start_time": "2022-08-02T17:50:42.105Z"
   },
   {
    "duration": 696,
    "start_time": "2022-08-02T17:50:42.113Z"
   },
   {
    "duration": 4,
    "start_time": "2022-08-02T17:50:42.810Z"
   },
   {
    "duration": 545,
    "start_time": "2022-08-02T17:50:42.817Z"
   },
   {
    "duration": 383,
    "start_time": "2022-08-02T17:50:43.364Z"
   },
   {
    "duration": 67,
    "start_time": "2022-08-02T17:50:43.749Z"
   },
   {
    "duration": 3,
    "start_time": "2022-08-02T17:50:43.818Z"
   },
   {
    "duration": 7934,
    "start_time": "2022-08-02T17:50:43.823Z"
   },
   {
    "duration": 27,
    "start_time": "2022-08-02T17:51:30.418Z"
   },
   {
    "duration": 31,
    "start_time": "2022-08-02T18:14:37.761Z"
   },
   {
    "duration": 16725,
    "start_time": "2022-08-02T18:14:47.387Z"
   },
   {
    "duration": 29,
    "start_time": "2022-08-02T18:31:39.047Z"
   },
   {
    "duration": 84,
    "start_time": "2022-08-02T18:31:49.656Z"
   },
   {
    "duration": 31,
    "start_time": "2022-08-02T18:31:53.778Z"
   },
   {
    "duration": 17677,
    "start_time": "2022-08-02T18:32:02.446Z"
   },
   {
    "duration": 439,
    "start_time": "2022-08-03T17:05:55.682Z"
   },
   {
    "duration": 212,
    "start_time": "2022-08-03T17:05:56.123Z"
   },
   {
    "duration": 3,
    "start_time": "2022-08-03T17:05:56.339Z"
   },
   {
    "duration": 6,
    "start_time": "2022-08-03T17:05:56.345Z"
   },
   {
    "duration": 14,
    "start_time": "2022-08-03T17:05:56.353Z"
   },
   {
    "duration": 17610,
    "start_time": "2022-08-03T17:05:56.368Z"
   },
   {
    "duration": 7942,
    "start_time": "2022-08-03T17:06:13.980Z"
   },
   {
    "duration": 13,
    "start_time": "2022-08-03T17:06:21.923Z"
   },
   {
    "duration": 1086,
    "start_time": "2022-08-03T17:06:21.938Z"
   },
   {
    "duration": 562,
    "start_time": "2022-08-03T17:06:23.027Z"
   },
   {
    "duration": 236,
    "start_time": "2022-08-03T17:06:23.591Z"
   },
   {
    "duration": 4,
    "start_time": "2022-08-03T17:06:23.829Z"
   },
   {
    "duration": 1190,
    "start_time": "2022-08-03T17:06:23.834Z"
   },
   {
    "duration": 3,
    "start_time": "2022-08-03T17:06:25.025Z"
   },
   {
    "duration": 2491,
    "start_time": "2022-08-03T17:06:25.029Z"
   },
   {
    "duration": 708,
    "start_time": "2022-08-03T17:06:27.522Z"
   },
   {
    "duration": 118,
    "start_time": "2022-08-03T17:06:28.232Z"
   },
   {
    "duration": 54,
    "start_time": "2022-08-03T17:06:28.352Z"
   },
   {
    "duration": 41,
    "start_time": "2022-08-03T17:06:28.408Z"
   },
   {
    "duration": 1295,
    "start_time": "2022-08-03T17:06:28.451Z"
   },
   {
    "duration": 59,
    "start_time": "2022-08-03T17:06:29.748Z"
   },
   {
    "duration": 512,
    "start_time": "2022-08-03T17:06:29.809Z"
   },
   {
    "duration": 421,
    "start_time": "2022-08-03T17:06:30.323Z"
   },
   {
    "duration": 2784,
    "start_time": "2022-08-03T17:06:30.746Z"
   },
   {
    "duration": 2286,
    "start_time": "2022-08-03T17:06:33.532Z"
   },
   {
    "duration": 3,
    "start_time": "2022-08-03T17:06:35.820Z"
   },
   {
    "duration": 5185,
    "start_time": "2022-08-03T17:06:35.824Z"
   },
   {
    "duration": 899,
    "start_time": "2022-08-03T17:06:41.012Z"
   },
   {
    "duration": 3426,
    "start_time": "2022-08-03T17:06:41.912Z"
   },
   {
    "duration": 1035,
    "start_time": "2022-08-03T17:06:45.339Z"
   },
   {
    "duration": 7,
    "start_time": "2022-08-03T17:06:46.405Z"
   },
   {
    "duration": 24,
    "start_time": "2022-08-03T17:06:46.413Z"
   },
   {
    "duration": 11,
    "start_time": "2022-08-03T17:06:46.439Z"
   },
   {
    "duration": 395,
    "start_time": "2022-08-03T17:16:07.676Z"
   },
   {
    "duration": 120,
    "start_time": "2022-08-03T17:16:08.072Z"
   },
   {
    "duration": 2,
    "start_time": "2022-08-03T17:16:08.194Z"
   },
   {
    "duration": 8,
    "start_time": "2022-08-03T17:16:08.198Z"
   },
   {
    "duration": 5,
    "start_time": "2022-08-03T17:16:08.207Z"
   },
   {
    "duration": 14414,
    "start_time": "2022-08-03T17:16:08.213Z"
   },
   {
    "duration": 7786,
    "start_time": "2022-08-03T17:16:22.629Z"
   },
   {
    "duration": 14,
    "start_time": "2022-08-03T17:16:30.416Z"
   },
   {
    "duration": 1385,
    "start_time": "2022-08-03T17:16:30.432Z"
   },
   {
    "duration": 909,
    "start_time": "2022-08-03T17:16:31.821Z"
   },
   {
    "duration": 201,
    "start_time": "2022-08-03T17:16:32.732Z"
   },
   {
    "duration": 4,
    "start_time": "2022-08-03T17:16:32.934Z"
   },
   {
    "duration": 8580,
    "start_time": "2022-08-03T17:16:32.940Z"
   },
   {
    "duration": 2,
    "start_time": "2022-08-03T17:16:41.522Z"
   },
   {
    "duration": 1882,
    "start_time": "2022-08-03T17:16:41.526Z"
   },
   {
    "duration": 707,
    "start_time": "2022-08-03T17:16:43.410Z"
   },
   {
    "duration": 109,
    "start_time": "2022-08-03T17:16:44.119Z"
   },
   {
    "duration": 2,
    "start_time": "2022-08-03T17:16:44.230Z"
   },
   {
    "duration": 98,
    "start_time": "2022-08-03T17:16:44.234Z"
   },
   {
    "duration": 2178,
    "start_time": "2022-08-03T17:16:44.334Z"
   },
   {
    "duration": 0,
    "start_time": "2022-08-03T17:16:46.514Z"
   },
   {
    "duration": 0,
    "start_time": "2022-08-03T17:16:46.516Z"
   },
   {
    "duration": 0,
    "start_time": "2022-08-03T17:16:46.517Z"
   },
   {
    "duration": 0,
    "start_time": "2022-08-03T17:16:46.519Z"
   },
   {
    "duration": 0,
    "start_time": "2022-08-03T17:16:46.520Z"
   },
   {
    "duration": 0,
    "start_time": "2022-08-03T17:16:46.522Z"
   },
   {
    "duration": 0,
    "start_time": "2022-08-03T17:16:46.523Z"
   },
   {
    "duration": 0,
    "start_time": "2022-08-03T17:16:46.524Z"
   },
   {
    "duration": 0,
    "start_time": "2022-08-03T17:16:46.526Z"
   },
   {
    "duration": 0,
    "start_time": "2022-08-03T17:16:46.528Z"
   },
   {
    "duration": 0,
    "start_time": "2022-08-03T17:16:46.529Z"
   },
   {
    "duration": 0,
    "start_time": "2022-08-03T17:16:46.531Z"
   },
   {
    "duration": 0,
    "start_time": "2022-08-03T17:16:46.532Z"
   },
   {
    "duration": 4,
    "start_time": "2022-08-03T17:20:18.520Z"
   },
   {
    "duration": 350,
    "start_time": "2022-08-03T17:20:59.347Z"
   },
   {
    "duration": 132,
    "start_time": "2022-08-03T17:20:59.700Z"
   },
   {
    "duration": 3,
    "start_time": "2022-08-03T17:20:59.834Z"
   },
   {
    "duration": 5,
    "start_time": "2022-08-03T17:20:59.840Z"
   },
   {
    "duration": 8,
    "start_time": "2022-08-03T17:20:59.846Z"
   },
   {
    "duration": 14681,
    "start_time": "2022-08-03T17:20:59.855Z"
   },
   {
    "duration": 8070,
    "start_time": "2022-08-03T17:21:14.538Z"
   },
   {
    "duration": 13,
    "start_time": "2022-08-03T17:21:22.610Z"
   },
   {
    "duration": 1210,
    "start_time": "2022-08-03T17:21:22.624Z"
   },
   {
    "duration": 879,
    "start_time": "2022-08-03T17:21:23.837Z"
   },
   {
    "duration": 3,
    "start_time": "2022-08-03T17:21:24.717Z"
   },
   {
    "duration": 86,
    "start_time": "2022-08-03T17:21:24.721Z"
   },
   {
    "duration": 0,
    "start_time": "2022-08-03T17:21:24.809Z"
   },
   {
    "duration": 0,
    "start_time": "2022-08-03T17:21:24.810Z"
   },
   {
    "duration": 0,
    "start_time": "2022-08-03T17:21:24.811Z"
   },
   {
    "duration": 0,
    "start_time": "2022-08-03T17:21:24.812Z"
   },
   {
    "duration": 0,
    "start_time": "2022-08-03T17:21:24.813Z"
   },
   {
    "duration": 0,
    "start_time": "2022-08-03T17:21:24.814Z"
   },
   {
    "duration": 0,
    "start_time": "2022-08-03T17:21:24.816Z"
   },
   {
    "duration": 0,
    "start_time": "2022-08-03T17:21:24.817Z"
   },
   {
    "duration": 0,
    "start_time": "2022-08-03T17:21:24.818Z"
   },
   {
    "duration": 0,
    "start_time": "2022-08-03T17:21:24.819Z"
   },
   {
    "duration": 0,
    "start_time": "2022-08-03T17:21:24.820Z"
   },
   {
    "duration": 0,
    "start_time": "2022-08-03T17:21:24.821Z"
   },
   {
    "duration": 0,
    "start_time": "2022-08-03T17:21:24.822Z"
   },
   {
    "duration": 0,
    "start_time": "2022-08-03T17:21:24.823Z"
   },
   {
    "duration": 0,
    "start_time": "2022-08-03T17:21:24.824Z"
   },
   {
    "duration": 0,
    "start_time": "2022-08-03T17:21:24.825Z"
   },
   {
    "duration": 0,
    "start_time": "2022-08-03T17:21:24.826Z"
   },
   {
    "duration": 0,
    "start_time": "2022-08-03T17:21:24.827Z"
   },
   {
    "duration": 0,
    "start_time": "2022-08-03T17:21:24.828Z"
   },
   {
    "duration": 0,
    "start_time": "2022-08-03T17:21:24.829Z"
   },
   {
    "duration": 0,
    "start_time": "2022-08-03T17:21:24.830Z"
   },
   {
    "duration": 0,
    "start_time": "2022-08-03T17:21:24.832Z"
   },
   {
    "duration": 1962,
    "start_time": "2022-08-03T17:26:21.556Z"
   },
   {
    "duration": 3,
    "start_time": "2022-08-03T17:26:33.801Z"
   },
   {
    "duration": 770,
    "start_time": "2022-08-03T17:26:35.961Z"
   },
   {
    "duration": 342,
    "start_time": "2022-08-03T17:26:45.062Z"
   },
   {
    "duration": 117,
    "start_time": "2022-08-03T17:26:45.406Z"
   },
   {
    "duration": 3,
    "start_time": "2022-08-03T17:26:45.524Z"
   },
   {
    "duration": 5,
    "start_time": "2022-08-03T17:26:45.529Z"
   },
   {
    "duration": 4,
    "start_time": "2022-08-03T17:26:45.536Z"
   },
   {
    "duration": 14689,
    "start_time": "2022-08-03T17:26:45.541Z"
   },
   {
    "duration": 7784,
    "start_time": "2022-08-03T17:27:00.232Z"
   },
   {
    "duration": 13,
    "start_time": "2022-08-03T17:27:08.017Z"
   },
   {
    "duration": 1226,
    "start_time": "2022-08-03T17:27:08.033Z"
   },
   {
    "duration": 1058,
    "start_time": "2022-08-03T17:27:09.261Z"
   },
   {
    "duration": 3,
    "start_time": "2022-08-03T17:27:10.320Z"
   },
   {
    "duration": 2095,
    "start_time": "2022-08-03T17:27:10.324Z"
   },
   {
    "duration": 3,
    "start_time": "2022-08-03T17:27:12.421Z"
   },
   {
    "duration": 801,
    "start_time": "2022-08-03T17:27:12.427Z"
   },
   {
    "duration": 3,
    "start_time": "2022-08-03T17:27:13.229Z"
   },
   {
    "duration": 1987,
    "start_time": "2022-08-03T17:27:13.233Z"
   },
   {
    "duration": 709,
    "start_time": "2022-08-03T17:27:15.221Z"
   },
   {
    "duration": 112,
    "start_time": "2022-08-03T17:27:15.931Z"
   },
   {
    "duration": 4,
    "start_time": "2022-08-03T17:27:16.045Z"
   },
   {
    "duration": 99,
    "start_time": "2022-08-03T17:27:16.107Z"
   },
   {
    "duration": 1052,
    "start_time": "2022-08-03T17:27:16.208Z"
   },
   {
    "duration": 0,
    "start_time": "2022-08-03T17:27:17.262Z"
   },
   {
    "duration": 0,
    "start_time": "2022-08-03T17:27:17.263Z"
   },
   {
    "duration": 0,
    "start_time": "2022-08-03T17:27:17.264Z"
   },
   {
    "duration": 0,
    "start_time": "2022-08-03T17:27:17.265Z"
   },
   {
    "duration": 0,
    "start_time": "2022-08-03T17:27:17.266Z"
   },
   {
    "duration": 0,
    "start_time": "2022-08-03T17:27:17.267Z"
   },
   {
    "duration": 0,
    "start_time": "2022-08-03T17:27:17.268Z"
   },
   {
    "duration": 0,
    "start_time": "2022-08-03T17:27:17.269Z"
   },
   {
    "duration": 0,
    "start_time": "2022-08-03T17:27:17.270Z"
   },
   {
    "duration": 0,
    "start_time": "2022-08-03T17:27:17.271Z"
   },
   {
    "duration": 0,
    "start_time": "2022-08-03T17:27:17.272Z"
   },
   {
    "duration": 0,
    "start_time": "2022-08-03T17:27:17.273Z"
   },
   {
    "duration": 0,
    "start_time": "2022-08-03T17:27:17.274Z"
   },
   {
    "duration": 366,
    "start_time": "2022-08-03T17:28:32.120Z"
   },
   {
    "duration": 113,
    "start_time": "2022-08-03T17:28:32.488Z"
   },
   {
    "duration": 6,
    "start_time": "2022-08-03T17:28:32.602Z"
   },
   {
    "duration": 5,
    "start_time": "2022-08-03T17:28:32.609Z"
   },
   {
    "duration": 6,
    "start_time": "2022-08-03T17:28:32.615Z"
   },
   {
    "duration": 14787,
    "start_time": "2022-08-03T17:28:32.622Z"
   },
   {
    "duration": 8715,
    "start_time": "2022-08-03T17:28:47.411Z"
   },
   {
    "duration": 19,
    "start_time": "2022-08-03T17:28:56.128Z"
   },
   {
    "duration": 1293,
    "start_time": "2022-08-03T17:28:56.149Z"
   },
   {
    "duration": 1071,
    "start_time": "2022-08-03T17:28:57.445Z"
   },
   {
    "duration": 209,
    "start_time": "2022-08-03T17:28:58.518Z"
   },
   {
    "duration": 3,
    "start_time": "2022-08-03T17:28:58.731Z"
   },
   {
    "duration": 70,
    "start_time": "2022-08-03T17:28:58.736Z"
   },
   {
    "duration": 8452,
    "start_time": "2022-08-03T17:28:58.807Z"
   },
   {
    "duration": 3,
    "start_time": "2022-08-03T17:29:07.260Z"
   },
   {
    "duration": 1979,
    "start_time": "2022-08-03T17:29:07.265Z"
   },
   {
    "duration": 708,
    "start_time": "2022-08-03T17:29:09.246Z"
   },
   {
    "duration": 38,
    "start_time": "2022-08-03T17:29:10.006Z"
   },
   {
    "duration": 3,
    "start_time": "2022-08-03T17:29:10.107Z"
   },
   {
    "duration": 102,
    "start_time": "2022-08-03T17:29:10.111Z"
   },
   {
    "duration": 1878,
    "start_time": "2022-08-03T17:29:10.214Z"
   },
   {
    "duration": 0,
    "start_time": "2022-08-03T17:29:12.094Z"
   },
   {
    "duration": 0,
    "start_time": "2022-08-03T17:29:12.095Z"
   },
   {
    "duration": 0,
    "start_time": "2022-08-03T17:29:12.096Z"
   },
   {
    "duration": 0,
    "start_time": "2022-08-03T17:29:12.097Z"
   },
   {
    "duration": 0,
    "start_time": "2022-08-03T17:29:12.098Z"
   },
   {
    "duration": 0,
    "start_time": "2022-08-03T17:29:12.099Z"
   },
   {
    "duration": 0,
    "start_time": "2022-08-03T17:29:12.100Z"
   },
   {
    "duration": 0,
    "start_time": "2022-08-03T17:29:12.101Z"
   },
   {
    "duration": 0,
    "start_time": "2022-08-03T17:29:12.102Z"
   },
   {
    "duration": 0,
    "start_time": "2022-08-03T17:29:12.103Z"
   },
   {
    "duration": 0,
    "start_time": "2022-08-03T17:29:12.104Z"
   },
   {
    "duration": 0,
    "start_time": "2022-08-03T17:29:12.105Z"
   },
   {
    "duration": 0,
    "start_time": "2022-08-03T17:29:12.106Z"
   },
   {
    "duration": 384,
    "start_time": "2022-08-03T17:37:21.988Z"
   },
   {
    "duration": 114,
    "start_time": "2022-08-03T17:37:22.374Z"
   },
   {
    "duration": 3,
    "start_time": "2022-08-03T17:37:22.489Z"
   },
   {
    "duration": 8,
    "start_time": "2022-08-03T17:37:22.493Z"
   },
   {
    "duration": 9,
    "start_time": "2022-08-03T17:37:22.502Z"
   },
   {
    "duration": 14313,
    "start_time": "2022-08-03T17:37:22.512Z"
   },
   {
    "duration": 7499,
    "start_time": "2022-08-03T17:37:36.826Z"
   },
   {
    "duration": 14,
    "start_time": "2022-08-03T17:37:44.326Z"
   },
   {
    "duration": 1289,
    "start_time": "2022-08-03T17:37:44.341Z"
   },
   {
    "duration": 1017,
    "start_time": "2022-08-03T17:37:45.633Z"
   },
   {
    "duration": 171,
    "start_time": "2022-08-03T17:37:46.651Z"
   },
   {
    "duration": 3,
    "start_time": "2022-08-03T17:37:46.823Z"
   },
   {
    "duration": 6,
    "start_time": "2022-08-03T17:37:46.827Z"
   },
   {
    "duration": 8527,
    "start_time": "2022-08-03T17:37:46.834Z"
   },
   {
    "duration": 2,
    "start_time": "2022-08-03T17:37:55.362Z"
   },
   {
    "duration": 1951,
    "start_time": "2022-08-03T17:37:55.366Z"
   },
   {
    "duration": 699,
    "start_time": "2022-08-03T17:37:57.318Z"
   },
   {
    "duration": 98,
    "start_time": "2022-08-03T17:37:58.018Z"
   },
   {
    "duration": 3,
    "start_time": "2022-08-03T17:37:58.119Z"
   },
   {
    "duration": 102,
    "start_time": "2022-08-03T17:37:58.124Z"
   },
   {
    "duration": 1960,
    "start_time": "2022-08-03T17:37:58.228Z"
   },
   {
    "duration": 0,
    "start_time": "2022-08-03T17:38:00.190Z"
   },
   {
    "duration": 0,
    "start_time": "2022-08-03T17:38:00.191Z"
   },
   {
    "duration": 0,
    "start_time": "2022-08-03T17:38:00.192Z"
   },
   {
    "duration": 0,
    "start_time": "2022-08-03T17:38:00.193Z"
   },
   {
    "duration": 0,
    "start_time": "2022-08-03T17:38:00.194Z"
   },
   {
    "duration": 0,
    "start_time": "2022-08-03T17:38:00.195Z"
   },
   {
    "duration": 0,
    "start_time": "2022-08-03T17:38:00.196Z"
   },
   {
    "duration": 0,
    "start_time": "2022-08-03T17:38:00.197Z"
   },
   {
    "duration": 0,
    "start_time": "2022-08-03T17:38:00.198Z"
   },
   {
    "duration": 0,
    "start_time": "2022-08-03T17:38:00.199Z"
   },
   {
    "duration": 0,
    "start_time": "2022-08-03T17:38:00.200Z"
   },
   {
    "duration": 0,
    "start_time": "2022-08-03T17:38:00.200Z"
   },
   {
    "duration": 0,
    "start_time": "2022-08-03T17:38:00.201Z"
   },
   {
    "duration": 336,
    "start_time": "2022-08-03T17:41:32.754Z"
   },
   {
    "duration": 111,
    "start_time": "2022-08-03T17:41:33.092Z"
   },
   {
    "duration": 4,
    "start_time": "2022-08-03T17:41:33.204Z"
   },
   {
    "duration": 7,
    "start_time": "2022-08-03T17:41:33.209Z"
   },
   {
    "duration": 3,
    "start_time": "2022-08-03T17:41:33.218Z"
   },
   {
    "duration": 14596,
    "start_time": "2022-08-03T17:41:33.223Z"
   },
   {
    "duration": 7619,
    "start_time": "2022-08-03T17:41:47.821Z"
   },
   {
    "duration": 79,
    "start_time": "2022-08-03T17:41:55.442Z"
   },
   {
    "duration": 1243,
    "start_time": "2022-08-03T17:41:55.523Z"
   },
   {
    "duration": 950,
    "start_time": "2022-08-03T17:41:56.767Z"
   },
   {
    "duration": 289,
    "start_time": "2022-08-03T17:41:57.718Z"
   },
   {
    "duration": 2,
    "start_time": "2022-08-03T17:41:58.009Z"
   },
   {
    "duration": 8,
    "start_time": "2022-08-03T17:41:58.013Z"
   },
   {
    "duration": 8056,
    "start_time": "2022-08-03T17:41:58.023Z"
   },
   {
    "duration": 3,
    "start_time": "2022-08-03T17:42:06.081Z"
   },
   {
    "duration": 2137,
    "start_time": "2022-08-03T17:42:06.086Z"
   },
   {
    "duration": 789,
    "start_time": "2022-08-03T17:42:08.224Z"
   },
   {
    "duration": 100,
    "start_time": "2022-08-03T17:42:09.015Z"
   },
   {
    "duration": 2,
    "start_time": "2022-08-03T17:42:09.117Z"
   },
   {
    "duration": 89,
    "start_time": "2022-08-03T17:42:09.120Z"
   },
   {
    "duration": 6707,
    "start_time": "2022-08-03T17:42:09.211Z"
   },
   {
    "duration": 4,
    "start_time": "2022-08-03T17:42:15.920Z"
   },
   {
    "duration": 792,
    "start_time": "2022-08-03T17:42:15.926Z"
   },
   {
    "duration": 787,
    "start_time": "2022-08-03T17:42:16.720Z"
   },
   {
    "duration": 16013,
    "start_time": "2022-08-03T17:42:17.508Z"
   },
   {
    "duration": 12497,
    "start_time": "2022-08-03T17:42:33.523Z"
   },
   {
    "duration": 3,
    "start_time": "2022-08-03T17:42:46.022Z"
   },
   {
    "duration": 16344,
    "start_time": "2022-08-03T17:42:46.026Z"
   },
   {
    "duration": 579,
    "start_time": "2022-08-03T17:43:02.371Z"
   },
   {
    "duration": 14037,
    "start_time": "2022-08-03T17:43:03.007Z"
   },
   {
    "duration": 787,
    "start_time": "2022-08-03T17:43:17.046Z"
   },
   {
    "duration": 5,
    "start_time": "2022-08-03T17:43:17.835Z"
   },
   {
    "duration": 6,
    "start_time": "2022-08-03T17:43:17.842Z"
   },
   {
    "duration": 6,
    "start_time": "2022-08-03T17:43:17.849Z"
   },
   {
    "duration": 76,
    "start_time": "2022-08-03T17:49:07.838Z"
   },
   {
    "duration": 7139,
    "start_time": "2022-08-03T17:49:29.873Z"
   },
   {
    "duration": 7355,
    "start_time": "2022-08-03T17:50:14.883Z"
   },
   {
    "duration": 6638,
    "start_time": "2022-08-03T17:51:02.609Z"
   },
   {
    "duration": 16120,
    "start_time": "2022-08-03T17:52:29.938Z"
   },
   {
    "duration": 23516,
    "start_time": "2022-08-03T18:21:49.695Z"
   },
   {
    "duration": 978,
    "start_time": "2022-08-03T18:22:48.338Z"
   },
   {
    "duration": 418,
    "start_time": "2022-08-03T18:24:56.237Z"
   },
   {
    "duration": 427,
    "start_time": "2022-08-03T18:32:41.791Z"
   },
   {
    "duration": 116,
    "start_time": "2022-08-03T18:32:42.220Z"
   },
   {
    "duration": 4,
    "start_time": "2022-08-03T18:32:42.338Z"
   },
   {
    "duration": 9,
    "start_time": "2022-08-03T18:32:42.344Z"
   },
   {
    "duration": 6,
    "start_time": "2022-08-03T18:32:42.354Z"
   },
   {
    "duration": 14968,
    "start_time": "2022-08-03T18:32:42.361Z"
   },
   {
    "duration": 8687,
    "start_time": "2022-08-03T18:32:57.330Z"
   },
   {
    "duration": 20,
    "start_time": "2022-08-03T18:33:06.020Z"
   },
   {
    "duration": 1465,
    "start_time": "2022-08-03T18:33:06.042Z"
   },
   {
    "duration": 736,
    "start_time": "2022-08-03T18:33:07.510Z"
   },
   {
    "duration": 358,
    "start_time": "2022-08-03T18:33:08.248Z"
   },
   {
    "duration": 2,
    "start_time": "2022-08-03T18:33:08.608Z"
   },
   {
    "duration": 9,
    "start_time": "2022-08-03T18:33:08.613Z"
   },
   {
    "duration": 9805,
    "start_time": "2022-08-03T18:33:08.624Z"
   },
   {
    "duration": 3,
    "start_time": "2022-08-03T18:33:18.431Z"
   },
   {
    "duration": 2094,
    "start_time": "2022-08-03T18:33:18.435Z"
   },
   {
    "duration": 795,
    "start_time": "2022-08-03T18:33:20.532Z"
   },
   {
    "duration": 115,
    "start_time": "2022-08-03T18:33:21.329Z"
   },
   {
    "duration": 2,
    "start_time": "2022-08-03T18:33:21.507Z"
   },
   {
    "duration": 29,
    "start_time": "2022-08-03T18:33:21.511Z"
   },
   {
    "duration": 8020,
    "start_time": "2022-08-03T18:33:21.607Z"
   },
   {
    "duration": 5,
    "start_time": "2022-08-03T18:33:29.629Z"
   },
   {
    "duration": 1177,
    "start_time": "2022-08-03T18:33:29.636Z"
   },
   {
    "duration": 41703,
    "start_time": "2022-08-03T18:33:30.815Z"
   },
   {
    "duration": 3,
    "start_time": "2022-08-03T18:34:12.519Z"
   },
   {
    "duration": 20482,
    "start_time": "2022-08-03T18:34:12.525Z"
   },
   {
    "duration": 1003,
    "start_time": "2022-08-03T18:34:33.008Z"
   },
   {
    "duration": 15930,
    "start_time": "2022-08-03T18:34:34.014Z"
   },
   {
    "duration": 7,
    "start_time": "2022-08-03T18:34:49.945Z"
   },
   {
    "duration": 8,
    "start_time": "2022-08-03T18:34:49.953Z"
   },
   {
    "duration": 44,
    "start_time": "2022-08-03T18:34:49.962Z"
   },
   {
    "duration": 5,
    "start_time": "2022-08-03T18:38:04.046Z"
   },
   {
    "duration": 5,
    "start_time": "2022-08-03T18:38:21.607Z"
   },
   {
    "duration": 622,
    "start_time": "2022-08-03T18:42:16.984Z"
   },
   {
    "duration": 4,
    "start_time": "2022-08-03T18:43:02.335Z"
   },
   {
    "duration": 77,
    "start_time": "2022-08-03T18:43:45.485Z"
   },
   {
    "duration": 8,
    "start_time": "2022-08-03T18:44:10.856Z"
   },
   {
    "duration": 15434,
    "start_time": "2022-08-03T18:45:09.575Z"
   },
   {
    "duration": 10748,
    "start_time": "2022-08-03T18:46:15.981Z"
   },
   {
    "duration": 8,
    "start_time": "2022-08-03T18:47:37.548Z"
   },
   {
    "duration": 350,
    "start_time": "2022-08-03T18:47:43.439Z"
   },
   {
    "duration": 121,
    "start_time": "2022-08-03T18:47:43.792Z"
   },
   {
    "duration": 3,
    "start_time": "2022-08-03T18:47:43.915Z"
   },
   {
    "duration": 5,
    "start_time": "2022-08-03T18:47:43.919Z"
   },
   {
    "duration": 4,
    "start_time": "2022-08-03T18:47:43.926Z"
   },
   {
    "duration": 15412,
    "start_time": "2022-08-03T18:47:43.932Z"
   },
   {
    "duration": 8596,
    "start_time": "2022-08-03T18:47:59.347Z"
   },
   {
    "duration": 19,
    "start_time": "2022-08-03T18:48:08.006Z"
   },
   {
    "duration": 1421,
    "start_time": "2022-08-03T18:48:08.028Z"
   },
   {
    "duration": 1384,
    "start_time": "2022-08-03T18:48:09.451Z"
   },
   {
    "duration": 384,
    "start_time": "2022-08-03T18:48:10.837Z"
   },
   {
    "duration": 3,
    "start_time": "2022-08-03T18:48:11.222Z"
   },
   {
    "duration": 6,
    "start_time": "2022-08-03T18:48:11.227Z"
   },
   {
    "duration": 9370,
    "start_time": "2022-08-03T18:48:11.236Z"
   },
   {
    "duration": 2,
    "start_time": "2022-08-03T18:48:20.608Z"
   },
   {
    "duration": 2003,
    "start_time": "2022-08-03T18:48:20.612Z"
   },
   {
    "duration": 715,
    "start_time": "2022-08-03T18:48:22.617Z"
   },
   {
    "duration": 98,
    "start_time": "2022-08-03T18:48:23.334Z"
   },
   {
    "duration": 3,
    "start_time": "2022-08-03T18:48:23.433Z"
   },
   {
    "duration": 82,
    "start_time": "2022-08-03T18:48:23.438Z"
   },
   {
    "duration": 7984,
    "start_time": "2022-08-03T18:48:23.522Z"
   },
   {
    "duration": 5,
    "start_time": "2022-08-03T18:48:31.509Z"
   },
   {
    "duration": 995,
    "start_time": "2022-08-03T18:48:31.515Z"
   },
   {
    "duration": 48017,
    "start_time": "2022-08-03T18:48:32.512Z"
   },
   {
    "duration": 74,
    "start_time": "2022-08-03T18:49:20.531Z"
   },
   {
    "duration": 24040,
    "start_time": "2022-08-03T18:49:20.607Z"
   },
   {
    "duration": 1073,
    "start_time": "2022-08-03T18:49:44.649Z"
   },
   {
    "duration": 16634,
    "start_time": "2022-08-03T18:49:45.724Z"
   },
   {
    "duration": 50,
    "start_time": "2022-08-03T18:50:02.359Z"
   },
   {
    "duration": 5,
    "start_time": "2022-08-03T18:50:02.410Z"
   },
   {
    "duration": 709,
    "start_time": "2022-08-03T18:50:02.416Z"
   },
   {
    "duration": 5,
    "start_time": "2022-08-03T18:50:03.127Z"
   },
   {
    "duration": 16868,
    "start_time": "2022-08-03T18:51:31.439Z"
   },
   {
    "duration": 5,
    "start_time": "2022-08-03T18:51:52.405Z"
   },
   {
    "duration": 16334,
    "start_time": "2022-08-03T18:54:25.874Z"
   },
   {
    "duration": 4,
    "start_time": "2022-08-03T18:55:00.500Z"
   },
   {
    "duration": 4,
    "start_time": "2022-08-03T18:55:21.401Z"
   },
   {
    "duration": 341,
    "start_time": "2022-08-03T18:55:42.463Z"
   },
   {
    "duration": 117,
    "start_time": "2022-08-03T18:55:42.805Z"
   },
   {
    "duration": 3,
    "start_time": "2022-08-03T18:55:42.925Z"
   },
   {
    "duration": 6,
    "start_time": "2022-08-03T18:55:42.929Z"
   },
   {
    "duration": 5,
    "start_time": "2022-08-03T18:55:42.936Z"
   },
   {
    "duration": 14666,
    "start_time": "2022-08-03T18:55:42.942Z"
   },
   {
    "duration": 8252,
    "start_time": "2022-08-03T18:55:57.610Z"
   },
   {
    "duration": 14,
    "start_time": "2022-08-03T18:56:05.906Z"
   },
   {
    "duration": 1294,
    "start_time": "2022-08-03T18:56:05.923Z"
   },
   {
    "duration": 822,
    "start_time": "2022-08-03T18:56:07.219Z"
   },
   {
    "duration": 293,
    "start_time": "2022-08-03T18:56:08.042Z"
   },
   {
    "duration": 2,
    "start_time": "2022-08-03T18:56:08.337Z"
   },
   {
    "duration": 21,
    "start_time": "2022-08-03T18:56:08.340Z"
   },
   {
    "duration": 8458,
    "start_time": "2022-08-03T18:56:08.405Z"
   },
   {
    "duration": 4,
    "start_time": "2022-08-03T18:56:16.865Z"
   },
   {
    "duration": 1940,
    "start_time": "2022-08-03T18:56:16.870Z"
   },
   {
    "duration": 714,
    "start_time": "2022-08-03T18:56:18.812Z"
   },
   {
    "duration": 104,
    "start_time": "2022-08-03T18:56:19.528Z"
   },
   {
    "duration": 3,
    "start_time": "2022-08-03T18:56:19.634Z"
   },
   {
    "duration": 96,
    "start_time": "2022-08-03T18:56:19.638Z"
   },
   {
    "duration": 7583,
    "start_time": "2022-08-03T18:56:19.736Z"
   },
   {
    "duration": 5,
    "start_time": "2022-08-03T18:56:27.321Z"
   },
   {
    "duration": 820,
    "start_time": "2022-08-03T18:56:27.327Z"
   },
   {
    "duration": 34512,
    "start_time": "2022-08-03T18:56:28.207Z"
   },
   {
    "duration": 2,
    "start_time": "2022-08-03T18:57:02.721Z"
   },
   {
    "duration": 17997,
    "start_time": "2022-08-03T18:57:02.725Z"
   },
   {
    "duration": 885,
    "start_time": "2022-08-03T18:57:20.726Z"
   },
   {
    "duration": 16144,
    "start_time": "2022-08-03T18:57:21.613Z"
   },
   {
    "duration": 6,
    "start_time": "2022-08-03T18:57:37.759Z"
   },
   {
    "duration": 12,
    "start_time": "2022-08-03T18:57:37.767Z"
   },
   {
    "duration": 16629,
    "start_time": "2022-08-03T18:57:37.781Z"
   },
   {
    "duration": 4,
    "start_time": "2022-08-03T18:57:54.412Z"
   },
   {
    "duration": 17993,
    "start_time": "2022-08-03T18:57:54.418Z"
   },
   {
    "duration": 5,
    "start_time": "2022-08-03T18:58:12.412Z"
   },
   {
    "duration": 610,
    "start_time": "2022-08-04T10:37:27.834Z"
   },
   {
    "duration": 285,
    "start_time": "2022-08-04T10:37:28.446Z"
   },
   {
    "duration": 3,
    "start_time": "2022-08-04T10:37:28.733Z"
   },
   {
    "duration": 6,
    "start_time": "2022-08-04T10:37:28.738Z"
   },
   {
    "duration": 4,
    "start_time": "2022-08-04T10:37:28.745Z"
   },
   {
    "duration": 17561,
    "start_time": "2022-08-04T10:37:28.750Z"
   },
   {
    "duration": 0,
    "start_time": "2022-08-04T10:37:46.314Z"
   },
   {
    "duration": 0,
    "start_time": "2022-08-04T10:37:46.315Z"
   },
   {
    "duration": 0,
    "start_time": "2022-08-04T10:37:46.317Z"
   },
   {
    "duration": 0,
    "start_time": "2022-08-04T10:37:46.318Z"
   },
   {
    "duration": 0,
    "start_time": "2022-08-04T10:37:46.320Z"
   },
   {
    "duration": 0,
    "start_time": "2022-08-04T10:37:46.324Z"
   },
   {
    "duration": 0,
    "start_time": "2022-08-04T10:37:46.326Z"
   },
   {
    "duration": 119,
    "start_time": "2022-08-04T10:37:51.712Z"
   },
   {
    "duration": 3,
    "start_time": "2022-08-04T10:37:58.613Z"
   },
   {
    "duration": 99,
    "start_time": "2022-08-04T10:37:58.618Z"
   },
   {
    "duration": 4,
    "start_time": "2022-08-04T10:37:58.720Z"
   },
   {
    "duration": 8,
    "start_time": "2022-08-04T10:37:58.725Z"
   },
   {
    "duration": 5,
    "start_time": "2022-08-04T10:37:58.736Z"
   },
   {
    "duration": 89,
    "start_time": "2022-08-04T10:37:58.743Z"
   },
   {
    "duration": 908,
    "start_time": "2022-08-04T10:38:08.025Z"
   },
   {
    "duration": 771,
    "start_time": "2022-08-04T10:38:08.960Z"
   },
   {
    "duration": 3,
    "start_time": "2022-08-04T10:38:10.671Z"
   },
   {
    "duration": 3,
    "start_time": "2022-08-04T10:38:11.812Z"
   },
   {
    "duration": 3,
    "start_time": "2022-08-04T10:38:13.412Z"
   },
   {
    "duration": 27598,
    "start_time": "2022-08-04T10:38:13.913Z"
   },
   {
    "duration": 22916,
    "start_time": "2022-08-04T10:38:58.412Z"
   },
   {
    "duration": 92,
    "start_time": "2022-08-04T10:39:21.330Z"
   },
   {
    "duration": 3228,
    "start_time": "2022-08-04T10:39:21.424Z"
   },
   {
    "duration": 1596,
    "start_time": "2022-08-04T10:39:24.654Z"
   },
   {
    "duration": 5998,
    "start_time": "2022-08-04T10:39:30.623Z"
   },
   {
    "duration": 2026,
    "start_time": "2022-08-04T10:39:55.412Z"
   },
   {
    "duration": 397,
    "start_time": "2022-08-04T15:24:59.175Z"
   },
   {
    "duration": 209,
    "start_time": "2022-08-04T15:24:59.577Z"
   },
   {
    "duration": 3,
    "start_time": "2022-08-04T15:24:59.788Z"
   },
   {
    "duration": 5,
    "start_time": "2022-08-04T15:24:59.793Z"
   },
   {
    "duration": 6,
    "start_time": "2022-08-04T15:24:59.800Z"
   },
   {
    "duration": 21513,
    "start_time": "2022-08-04T15:24:59.808Z"
   },
   {
    "duration": 10264,
    "start_time": "2022-08-04T15:25:21.324Z"
   },
   {
    "duration": 91,
    "start_time": "2022-08-04T15:25:31.590Z"
   },
   {
    "duration": 1395,
    "start_time": "2022-08-04T15:25:31.683Z"
   },
   {
    "duration": 940,
    "start_time": "2022-08-04T15:25:33.081Z"
   },
   {
    "duration": 2,
    "start_time": "2022-08-04T15:25:34.023Z"
   },
   {
    "duration": 6,
    "start_time": "2022-08-04T15:25:34.028Z"
   },
   {
    "duration": 1821,
    "start_time": "2022-08-04T15:25:34.036Z"
   },
   {
    "duration": 12,
    "start_time": "2022-08-04T15:25:35.860Z"
   },
   {
    "duration": 1064,
    "start_time": "2022-08-04T15:25:35.875Z"
   },
   {
    "duration": 15,
    "start_time": "2022-08-04T15:25:36.955Z"
   },
   {
    "duration": 546,
    "start_time": "2022-08-04T15:25:36.974Z"
   },
   {
    "duration": 4,
    "start_time": "2022-08-04T15:25:37.522Z"
   },
   {
    "duration": 2736,
    "start_time": "2022-08-04T15:25:37.528Z"
   },
   {
    "duration": 829,
    "start_time": "2022-08-04T15:25:40.267Z"
   },
   {
    "duration": 164,
    "start_time": "2022-08-04T15:25:41.098Z"
   },
   {
    "duration": 4,
    "start_time": "2022-08-04T15:25:41.263Z"
   },
   {
    "duration": 108,
    "start_time": "2022-08-04T15:25:41.270Z"
   },
   {
    "duration": 1699,
    "start_time": "2022-08-04T15:25:41.380Z"
   },
   {
    "duration": 6,
    "start_time": "2022-08-04T15:25:43.081Z"
   },
   {
    "duration": 626,
    "start_time": "2022-08-04T15:25:43.089Z"
   },
   {
    "duration": 6604,
    "start_time": "2022-08-04T15:25:43.756Z"
   },
   {
    "duration": 6,
    "start_time": "2022-08-04T15:25:50.367Z"
   },
   {
    "duration": 5286,
    "start_time": "2022-08-04T15:25:50.377Z"
   },
   {
    "duration": 1695,
    "start_time": "2022-08-04T15:25:55.664Z"
   },
   {
    "duration": 5406,
    "start_time": "2022-08-04T15:25:57.361Z"
   },
   {
    "duration": 13,
    "start_time": "2022-08-04T15:26:02.768Z"
   },
   {
    "duration": 8,
    "start_time": "2022-08-04T15:26:02.783Z"
   },
   {
    "duration": 4116,
    "start_time": "2022-08-04T15:26:02.794Z"
   },
   {
    "duration": 5,
    "start_time": "2022-08-04T15:26:06.911Z"
   },
   {
    "duration": 3866,
    "start_time": "2022-08-04T15:26:06.918Z"
   },
   {
    "duration": 12,
    "start_time": "2022-08-04T15:26:10.787Z"
   },
   {
    "duration": 377,
    "start_time": "2022-08-04T15:29:01.069Z"
   },
   {
    "duration": 127,
    "start_time": "2022-08-04T15:29:01.448Z"
   },
   {
    "duration": 3,
    "start_time": "2022-08-04T15:29:01.576Z"
   },
   {
    "duration": 13,
    "start_time": "2022-08-04T15:29:01.582Z"
   },
   {
    "duration": 21,
    "start_time": "2022-08-04T15:29:01.596Z"
   },
   {
    "duration": 15637,
    "start_time": "2022-08-04T15:29:01.619Z"
   },
   {
    "duration": 9242,
    "start_time": "2022-08-04T15:29:17.258Z"
   },
   {
    "duration": 65,
    "start_time": "2022-08-04T15:29:26.501Z"
   },
   {
    "duration": 1525,
    "start_time": "2022-08-04T15:29:26.568Z"
   },
   {
    "duration": 1011,
    "start_time": "2022-08-04T15:29:28.096Z"
   },
   {
    "duration": 2,
    "start_time": "2022-08-04T15:29:29.109Z"
   },
   {
    "duration": 4,
    "start_time": "2022-08-04T15:29:29.113Z"
   },
   {
    "duration": 1559,
    "start_time": "2022-08-04T15:29:29.119Z"
   },
   {
    "duration": 3,
    "start_time": "2022-08-04T15:29:30.680Z"
   },
   {
    "duration": 77,
    "start_time": "2022-08-04T15:29:30.685Z"
   },
   {
    "duration": 1010,
    "start_time": "2022-08-04T15:29:30.768Z"
   },
   {
    "duration": 2,
    "start_time": "2022-08-04T15:29:31.780Z"
   },
   {
    "duration": 2100,
    "start_time": "2022-08-04T15:29:31.784Z"
   },
   {
    "duration": 781,
    "start_time": "2022-08-04T15:29:33.886Z"
   },
   {
    "duration": 105,
    "start_time": "2022-08-04T15:29:34.670Z"
   },
   {
    "duration": 4,
    "start_time": "2022-08-04T15:29:34.776Z"
   },
   {
    "duration": 114,
    "start_time": "2022-08-04T15:29:34.781Z"
   },
   {
    "duration": 1507,
    "start_time": "2022-08-04T15:29:34.959Z"
   },
   {
    "duration": 9,
    "start_time": "2022-08-04T15:29:36.469Z"
   },
   {
    "duration": 691,
    "start_time": "2022-08-04T15:29:36.480Z"
   },
   {
    "duration": 6113,
    "start_time": "2022-08-04T15:29:37.173Z"
   },
   {
    "duration": 73,
    "start_time": "2022-08-04T15:29:43.287Z"
   },
   {
    "duration": 4021,
    "start_time": "2022-08-04T15:29:43.363Z"
   },
   {
    "duration": 1282,
    "start_time": "2022-08-04T15:29:47.386Z"
   },
   {
    "duration": 3509,
    "start_time": "2022-08-04T15:29:48.669Z"
   },
   {
    "duration": 7,
    "start_time": "2022-08-04T15:29:52.179Z"
   },
   {
    "duration": 4,
    "start_time": "2022-08-04T15:29:52.188Z"
   },
   {
    "duration": 3520,
    "start_time": "2022-08-04T15:29:52.194Z"
   },
   {
    "duration": 5,
    "start_time": "2022-08-04T15:29:55.716Z"
   },
   {
    "duration": 3076,
    "start_time": "2022-08-04T15:29:55.723Z"
   },
   {
    "duration": 6,
    "start_time": "2022-08-04T15:29:58.801Z"
   },
   {
    "duration": 405,
    "start_time": "2022-08-04T19:28:19.855Z"
   },
   {
    "duration": 188,
    "start_time": "2022-08-04T19:28:20.262Z"
   },
   {
    "duration": 4,
    "start_time": "2022-08-04T19:28:20.452Z"
   },
   {
    "duration": 21,
    "start_time": "2022-08-04T19:28:20.459Z"
   },
   {
    "duration": 36,
    "start_time": "2022-08-04T19:28:20.482Z"
   },
   {
    "duration": 19426,
    "start_time": "2022-08-04T19:28:20.520Z"
   },
   {
    "duration": 9655,
    "start_time": "2022-08-04T19:28:39.948Z"
   },
   {
    "duration": 15,
    "start_time": "2022-08-04T19:28:49.606Z"
   },
   {
    "duration": 1336,
    "start_time": "2022-08-04T19:28:49.623Z"
   },
   {
    "duration": 1270,
    "start_time": "2022-08-04T19:28:50.961Z"
   },
   {
    "duration": 3,
    "start_time": "2022-08-04T19:28:52.233Z"
   },
   {
    "duration": 6,
    "start_time": "2022-08-04T19:28:52.238Z"
   },
   {
    "duration": 1505,
    "start_time": "2022-08-04T19:28:52.303Z"
   },
   {
    "duration": 4,
    "start_time": "2022-08-04T19:28:53.812Z"
   },
   {
    "duration": 85,
    "start_time": "2022-08-04T19:28:53.818Z"
   },
   {
    "duration": 1036,
    "start_time": "2022-08-04T19:28:53.906Z"
   },
   {
    "duration": 2,
    "start_time": "2022-08-04T19:28:54.944Z"
   },
   {
    "duration": 2220,
    "start_time": "2022-08-04T19:28:55.003Z"
   },
   {
    "duration": 778,
    "start_time": "2022-08-04T19:28:57.225Z"
   },
   {
    "duration": 121,
    "start_time": "2022-08-04T19:28:58.005Z"
   },
   {
    "duration": 3,
    "start_time": "2022-08-04T19:28:58.127Z"
   },
   {
    "duration": 100,
    "start_time": "2022-08-04T19:28:58.132Z"
   },
   {
    "duration": 1669,
    "start_time": "2022-08-04T19:28:58.234Z"
   },
   {
    "duration": 5,
    "start_time": "2022-08-04T19:28:59.905Z"
   },
   {
    "duration": 709,
    "start_time": "2022-08-04T19:28:59.912Z"
   },
   {
    "duration": 6187,
    "start_time": "2022-08-04T19:29:00.623Z"
   },
   {
    "duration": 3,
    "start_time": "2022-08-04T19:29:06.813Z"
   },
   {
    "duration": 4396,
    "start_time": "2022-08-04T19:29:06.818Z"
   },
   {
    "duration": 1387,
    "start_time": "2022-08-04T19:29:11.215Z"
   },
   {
    "duration": 4903,
    "start_time": "2022-08-04T19:29:12.605Z"
   },
   {
    "duration": 9,
    "start_time": "2022-08-04T19:29:17.510Z"
   },
   {
    "duration": 9,
    "start_time": "2022-08-04T19:29:17.521Z"
   },
   {
    "duration": 3421,
    "start_time": "2022-08-04T19:29:17.532Z"
   },
   {
    "duration": 6,
    "start_time": "2022-08-04T19:29:20.955Z"
   },
   {
    "duration": 2524,
    "start_time": "2022-08-04T19:30:14.782Z"
   },
   {
    "duration": 4,
    "start_time": "2022-08-04T19:30:22.397Z"
   },
   {
    "duration": 4,
    "start_time": "2022-08-04T19:30:25.960Z"
   },
   {
    "duration": 3085,
    "start_time": "2022-08-04T19:31:04.429Z"
   },
   {
    "duration": 1939,
    "start_time": "2022-08-04T19:31:13.202Z"
   },
   {
    "duration": 4,
    "start_time": "2022-08-04T19:31:16.062Z"
   },
   {
    "duration": 1645,
    "start_time": "2022-08-04T19:32:23.534Z"
   },
   {
    "duration": 3,
    "start_time": "2022-08-04T19:32:26.254Z"
   },
   {
    "duration": 2896,
    "start_time": "2022-08-04T19:32:33.101Z"
   },
   {
    "duration": 1480,
    "start_time": "2022-08-04T19:32:39.421Z"
   },
   {
    "duration": 4,
    "start_time": "2022-08-04T19:32:41.292Z"
   },
   {
    "duration": 1581,
    "start_time": "2022-08-04T19:33:42.074Z"
   },
   {
    "duration": 4,
    "start_time": "2022-08-04T19:33:46.977Z"
   },
   {
    "duration": 486,
    "start_time": "2022-08-04T19:34:56.301Z"
   },
   {
    "duration": 2591,
    "start_time": "2022-08-04T19:35:15.434Z"
   },
   {
    "duration": 462,
    "start_time": "2022-08-04T19:35:32.229Z"
   },
   {
    "duration": 1797,
    "start_time": "2022-08-04T19:40:13.121Z"
   },
   {
    "duration": 5,
    "start_time": "2022-08-04T19:42:23.795Z"
   },
   {
    "duration": 590,
    "start_time": "2022-08-04T19:46:00.781Z"
   },
   {
    "duration": 394,
    "start_time": "2022-08-04T19:46:03.962Z"
   },
   {
    "duration": 452,
    "start_time": "2022-08-04T19:46:11.901Z"
   },
   {
    "duration": 335,
    "start_time": "2022-08-04T19:46:23.341Z"
   },
   {
    "duration": 1342,
    "start_time": "2022-08-04T19:47:02.102Z"
   },
   {
    "duration": 1045,
    "start_time": "2022-08-04T19:47:17.670Z"
   },
   {
    "duration": 1002,
    "start_time": "2022-08-04T19:47:32.719Z"
   },
   {
    "duration": 996,
    "start_time": "2022-08-04T19:48:56.658Z"
   },
   {
    "duration": 3860,
    "start_time": "2022-08-04T19:49:16.221Z"
   },
   {
    "duration": 1901,
    "start_time": "2022-08-04T19:49:36.332Z"
   },
   {
    "duration": 1016,
    "start_time": "2022-08-04T19:51:21.125Z"
   },
   {
    "duration": 3,
    "start_time": "2022-08-04T19:53:29.563Z"
   },
   {
    "duration": 14,
    "start_time": "2022-08-04T19:53:29.569Z"
   },
   {
    "duration": 6,
    "start_time": "2022-08-04T19:53:29.585Z"
   },
   {
    "duration": 7,
    "start_time": "2022-08-04T19:53:29.593Z"
   },
   {
    "duration": 4,
    "start_time": "2022-08-04T19:53:29.603Z"
   },
   {
    "duration": 8,
    "start_time": "2022-08-04T19:53:29.608Z"
   },
   {
    "duration": 424,
    "start_time": "2022-08-04T19:53:29.618Z"
   },
   {
    "duration": 60,
    "start_time": "2022-08-04T19:53:30.043Z"
   },
   {
    "duration": 372,
    "start_time": "2022-08-04T19:53:30.105Z"
   },
   {
    "duration": 461,
    "start_time": "2022-08-04T19:53:30.478Z"
   },
   {
    "duration": 2,
    "start_time": "2022-08-04T19:53:30.941Z"
   },
   {
    "duration": 9,
    "start_time": "2022-08-04T19:53:30.945Z"
   },
   {
    "duration": 250,
    "start_time": "2022-08-04T19:53:30.956Z"
   },
   {
    "duration": 2,
    "start_time": "2022-08-04T19:53:31.210Z"
   },
   {
    "duration": 19,
    "start_time": "2022-08-04T19:53:31.214Z"
   },
   {
    "duration": 392,
    "start_time": "2022-08-04T19:53:31.235Z"
   },
   {
    "duration": 2,
    "start_time": "2022-08-04T19:53:31.629Z"
   },
   {
    "duration": 627,
    "start_time": "2022-08-04T19:53:31.633Z"
   },
   {
    "duration": 342,
    "start_time": "2022-08-04T19:53:32.262Z"
   },
   {
    "duration": 20,
    "start_time": "2022-08-04T19:53:32.605Z"
   },
   {
    "duration": 3,
    "start_time": "2022-08-04T19:53:32.627Z"
   },
   {
    "duration": 90,
    "start_time": "2022-08-04T19:53:32.632Z"
   },
   {
    "duration": 415,
    "start_time": "2022-08-04T19:53:32.725Z"
   },
   {
    "duration": 4,
    "start_time": "2022-08-04T19:53:33.142Z"
   },
   {
    "duration": 301,
    "start_time": "2022-08-04T19:53:33.203Z"
   },
   {
    "duration": 2133,
    "start_time": "2022-08-04T19:53:33.506Z"
   },
   {
    "duration": 3,
    "start_time": "2022-08-04T19:53:35.641Z"
   },
   {
    "duration": 1575,
    "start_time": "2022-08-04T19:53:35.645Z"
   },
   {
    "duration": 682,
    "start_time": "2022-08-04T19:53:37.221Z"
   },
   {
    "duration": 2561,
    "start_time": "2022-08-04T19:53:37.905Z"
   },
   {
    "duration": 37,
    "start_time": "2022-08-04T19:53:40.468Z"
   },
   {
    "duration": 5,
    "start_time": "2022-08-04T19:53:40.507Z"
   },
   {
    "duration": 481,
    "start_time": "2022-08-04T19:53:55.773Z"
   },
   {
    "duration": 964,
    "start_time": "2022-08-04T19:54:08.783Z"
   },
   {
    "duration": 394,
    "start_time": "2022-08-05T14:42:57.160Z"
   },
   {
    "duration": 121,
    "start_time": "2022-08-05T14:42:57.556Z"
   },
   {
    "duration": 3,
    "start_time": "2022-08-05T14:42:57.680Z"
   },
   {
    "duration": 19,
    "start_time": "2022-08-05T14:42:57.684Z"
   },
   {
    "duration": 4,
    "start_time": "2022-08-05T14:42:57.705Z"
   },
   {
    "duration": 14784,
    "start_time": "2022-08-05T14:42:57.711Z"
   },
   {
    "duration": 10381,
    "start_time": "2022-08-05T14:43:12.496Z"
   },
   {
    "duration": 14,
    "start_time": "2022-08-05T14:43:22.878Z"
   },
   {
    "duration": 1185,
    "start_time": "2022-08-05T14:43:22.894Z"
   },
   {
    "duration": 695,
    "start_time": "2022-08-05T14:43:24.081Z"
   },
   {
    "duration": 3,
    "start_time": "2022-08-05T14:43:24.777Z"
   },
   {
    "duration": 5,
    "start_time": "2022-08-05T14:43:24.782Z"
   },
   {
    "duration": 1574,
    "start_time": "2022-08-05T14:43:24.789Z"
   },
   {
    "duration": 2,
    "start_time": "2022-08-05T14:43:26.367Z"
   },
   {
    "duration": 12,
    "start_time": "2022-08-05T14:43:26.371Z"
   },
   {
    "duration": 1015,
    "start_time": "2022-08-05T14:43:26.385Z"
   },
   {
    "duration": 2,
    "start_time": "2022-08-05T14:43:27.402Z"
   },
   {
    "duration": 1973,
    "start_time": "2022-08-05T14:43:27.406Z"
   },
   {
    "duration": 726,
    "start_time": "2022-08-05T14:43:29.381Z"
   },
   {
    "duration": 149,
    "start_time": "2022-08-05T14:43:30.109Z"
   },
   {
    "duration": 3,
    "start_time": "2022-08-05T14:43:30.259Z"
   },
   {
    "duration": 107,
    "start_time": "2022-08-05T14:43:30.263Z"
   },
   {
    "duration": 1389,
    "start_time": "2022-08-05T14:43:30.372Z"
   },
   {
    "duration": 5,
    "start_time": "2022-08-05T14:43:31.762Z"
   },
   {
    "duration": 701,
    "start_time": "2022-08-05T14:43:31.769Z"
   },
   {
    "duration": 5804,
    "start_time": "2022-08-05T14:43:32.472Z"
   },
   {
    "duration": 2,
    "start_time": "2022-08-05T14:43:38.278Z"
   },
   {
    "duration": 3324,
    "start_time": "2022-08-05T14:43:38.282Z"
   },
   {
    "duration": 1061,
    "start_time": "2022-08-05T14:43:41.608Z"
   },
   {
    "duration": 3805,
    "start_time": "2022-08-05T14:43:42.672Z"
   },
   {
    "duration": 6,
    "start_time": "2022-08-05T14:43:46.479Z"
   },
   {
    "duration": 13,
    "start_time": "2022-08-05T14:43:46.486Z"
   },
   {
    "duration": 2924,
    "start_time": "2022-08-05T14:43:46.501Z"
   },
   {
    "duration": 34,
    "start_time": "2022-08-05T14:43:49.427Z"
   },
   {
    "duration": 1557,
    "start_time": "2022-08-05T14:44:39.169Z"
   },
   {
    "duration": 1208,
    "start_time": "2022-08-05T14:44:49.260Z"
   },
   {
    "duration": 1073,
    "start_time": "2022-08-05T14:44:58.608Z"
   },
   {
    "duration": 1001,
    "start_time": "2022-08-05T14:45:08.469Z"
   },
   {
    "duration": 1471,
    "start_time": "2022-08-05T14:45:44.201Z"
   },
   {
    "duration": 1047,
    "start_time": "2022-08-05T14:45:48.866Z"
   },
   {
    "duration": 1159,
    "start_time": "2022-08-05T14:47:24.828Z"
   },
   {
    "duration": 1004,
    "start_time": "2022-08-05T14:47:44.435Z"
   },
   {
    "duration": 2996,
    "start_time": "2022-08-05T14:49:18.872Z"
   },
   {
    "duration": 1710,
    "start_time": "2022-08-05T14:49:39.985Z"
   },
   {
    "duration": 1559,
    "start_time": "2022-08-05T15:00:00.420Z"
   },
   {
    "duration": 969,
    "start_time": "2022-08-05T15:00:12.503Z"
   },
   {
    "duration": 1477,
    "start_time": "2022-08-05T15:00:16.733Z"
   },
   {
    "duration": 910,
    "start_time": "2022-08-05T15:00:45.773Z"
   },
   {
    "duration": 1099,
    "start_time": "2022-08-05T15:04:05.424Z"
   }
  ],
  "colab": {
   "name": "PySparkSprint.ipynb",
   "provenance": []
  },
  "kernelspec": {
   "display_name": "Python 3 (ipykernel)",
   "language": "python",
   "name": "python3"
  },
  "language_info": {
   "codemirror_mode": {
    "name": "ipython",
    "version": 3
   },
   "file_extension": ".py",
   "mimetype": "text/x-python",
   "name": "python",
   "nbconvert_exporter": "python",
   "pygments_lexer": "ipython3",
   "version": "3.9.13"
  },
  "toc": {
   "base_numbering": 1,
   "nav_menu": {},
   "number_sections": true,
   "sideBar": true,
   "skip_h1_title": true,
   "title_cell": "Table of Contents",
   "title_sidebar": "Contents",
   "toc_cell": false,
   "toc_position": {
    "height": "calc(100% - 180px)",
    "left": "10px",
    "top": "150px",
    "width": "176.6px"
   },
   "toc_section_display": true,
   "toc_window_display": true
  }
 },
 "nbformat": 4,
 "nbformat_minor": 5
}
